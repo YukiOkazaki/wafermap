{
 "cells": [
  {
   "cell_type": "markdown",
   "metadata": {},
   "source": [
    "## 26x26のウエハに限定して機械学習させる"
   ]
  },
  {
   "cell_type": "markdown",
   "metadata": {},
   "source": [
    "### import，入力データの読み込み"
   ]
  },
  {
   "cell_type": "code",
   "execution_count": 1,
   "metadata": {},
   "outputs": [
    {
     "name": "stdout",
     "output_type": "stream",
     "text": [
      "../input/LSWMD.pkl\n"
     ]
    }
   ],
   "source": [
    "# This Python 3 environment comes with many helpful analytics libraries installed\n",
    "# It is defined by the kaggle/python docker image: https://github.com/kaggle/docker-python\n",
    "# For example, here's several helpful packages to load in \n",
    "\n",
    "import numpy as np # linear algebra\n",
    "import pandas as pd # data processing, CSV file I/O (e.g. pd.read_csv)\n",
    "\n",
    "# Input data files are available in the \"../input/\" directory.\n",
    "# For example, running this (by clicking run or pressing Shift+Enter) will list all files under the input directory\n",
    "\n",
    "import os\n",
    "for dirname, _, filenames in os.walk('../input'):\n",
    "    for filename in filenames:\n",
    "        print(os.path.join(dirname, filename))\n",
    "\n",
    "# Any results you write to the current directory are saved as output."
   ]
  },
  {
   "cell_type": "code",
   "execution_count": 2,
   "metadata": {
    "scrolled": true
   },
   "outputs": [
    {
     "name": "stderr",
     "output_type": "stream",
     "text": [
      "GPU: 1\n",
      "Using TensorFlow backend.\n"
     ]
    },
    {
     "name": "stdout",
     "output_type": "stream",
     "text": [
      "['LSWMD.pkl']\n"
     ]
    }
   ],
   "source": [
    "import os\n",
    "from os.path import join\n",
    "\n",
    "import numpy as np\n",
    "import pandas as pd\n",
    "\n",
    "import tensorflow as tf\n",
    "import keras\n",
    "from keras import layers, Input, models\n",
    "from keras.utils import to_categorical\n",
    "from keras.wrappers.scikit_learn import KerasClassifier \n",
    "from sklearn.model_selection import KFold \n",
    "from sklearn.model_selection import cross_val_score\n",
    "\n",
    "from sklearn.model_selection import train_test_split\n",
    "\n",
    "import matplotlib.pyplot as plt\n",
    "\n",
    "datapath = join('data', 'wafer')\n",
    "\n",
    "print(os.listdir(\"../input\"))\n",
    "import warnings\n",
    "warnings.filterwarnings(\"ignore\")"
   ]
  },
  {
   "cell_type": "markdown",
   "metadata": {},
   "source": [
    "### データについて"
   ]
  },
  {
   "cell_type": "code",
   "execution_count": 3,
   "metadata": {
    "scrolled": true
   },
   "outputs": [
    {
     "name": "stdout",
     "output_type": "stream",
     "text": [
      "<class 'pandas.core.frame.DataFrame'>\n",
      "RangeIndex: 811457 entries, 0 to 811456\n",
      "Data columns (total 6 columns):\n",
      "waferMap          811457 non-null object\n",
      "dieSize           811457 non-null float64\n",
      "lotName           811457 non-null object\n",
      "waferIndex        811457 non-null float64\n",
      "trianTestLabel    811457 non-null object\n",
      "failureType       811457 non-null object\n",
      "dtypes: float64(2), object(4)\n",
      "memory usage: 37.1+ MB\n"
     ]
    }
   ],
   "source": [
    "df=pd.read_pickle(\"../input/LSWMD.pkl\")\n",
    "df.info()"
   ]
  },
  {
   "cell_type": "markdown",
   "metadata": {},
   "source": [
    "- データセットは811,457枚のウエハマップから構成されている．"
   ]
  },
  {
   "cell_type": "code",
   "execution_count": 4,
   "metadata": {
    "scrolled": true
   },
   "outputs": [
    {
     "data": {
      "text/html": [
       "<div>\n",
       "<style scoped>\n",
       "    .dataframe tbody tr th:only-of-type {\n",
       "        vertical-align: middle;\n",
       "    }\n",
       "\n",
       "    .dataframe tbody tr th {\n",
       "        vertical-align: top;\n",
       "    }\n",
       "\n",
       "    .dataframe thead th {\n",
       "        text-align: right;\n",
       "    }\n",
       "</style>\n",
       "<table border=\"1\" class=\"dataframe\">\n",
       "  <thead>\n",
       "    <tr style=\"text-align: right;\">\n",
       "      <th></th>\n",
       "      <th>waferMap</th>\n",
       "      <th>dieSize</th>\n",
       "      <th>lotName</th>\n",
       "      <th>waferIndex</th>\n",
       "      <th>trianTestLabel</th>\n",
       "      <th>failureType</th>\n",
       "    </tr>\n",
       "  </thead>\n",
       "  <tbody>\n",
       "    <tr>\n",
       "      <th>811452</th>\n",
       "      <td>[[0, 0, 0, 0, 0, 0, 0, 0, 0, 0, 0, 1, 2, 1, 1,...</td>\n",
       "      <td>600.0</td>\n",
       "      <td>lot47542</td>\n",
       "      <td>23.0</td>\n",
       "      <td>[[Test]]</td>\n",
       "      <td>[[Edge-Ring]]</td>\n",
       "    </tr>\n",
       "    <tr>\n",
       "      <th>811453</th>\n",
       "      <td>[[0, 0, 0, 0, 0, 0, 0, 0, 0, 0, 0, 2, 2, 1, 1,...</td>\n",
       "      <td>600.0</td>\n",
       "      <td>lot47542</td>\n",
       "      <td>24.0</td>\n",
       "      <td>[[Test]]</td>\n",
       "      <td>[[Edge-Loc]]</td>\n",
       "    </tr>\n",
       "    <tr>\n",
       "      <th>811454</th>\n",
       "      <td>[[0, 0, 0, 0, 0, 0, 0, 0, 0, 0, 0, 1, 2, 1, 1,...</td>\n",
       "      <td>600.0</td>\n",
       "      <td>lot47542</td>\n",
       "      <td>25.0</td>\n",
       "      <td>[[Test]]</td>\n",
       "      <td>[[Edge-Ring]]</td>\n",
       "    </tr>\n",
       "    <tr>\n",
       "      <th>811455</th>\n",
       "      <td>[[0, 0, 0, 0, 0, 0, 0, 0, 0, 0, 0, 1, 1, 1, 1,...</td>\n",
       "      <td>600.0</td>\n",
       "      <td>lot47543</td>\n",
       "      <td>1.0</td>\n",
       "      <td>[]</td>\n",
       "      <td>[]</td>\n",
       "    </tr>\n",
       "    <tr>\n",
       "      <th>811456</th>\n",
       "      <td>[[0, 0, 0, 0, 0, 0, 0, 0, 0, 0, 0, 1, 2, 1, 1,...</td>\n",
       "      <td>600.0</td>\n",
       "      <td>lot47543</td>\n",
       "      <td>2.0</td>\n",
       "      <td>[]</td>\n",
       "      <td>[]</td>\n",
       "    </tr>\n",
       "  </tbody>\n",
       "</table>\n",
       "</div>"
      ],
      "text/plain": [
       "                                                 waferMap  dieSize   lotName  \\\n",
       "811452  [[0, 0, 0, 0, 0, 0, 0, 0, 0, 0, 0, 1, 2, 1, 1,...    600.0  lot47542   \n",
       "811453  [[0, 0, 0, 0, 0, 0, 0, 0, 0, 0, 0, 2, 2, 1, 1,...    600.0  lot47542   \n",
       "811454  [[0, 0, 0, 0, 0, 0, 0, 0, 0, 0, 0, 1, 2, 1, 1,...    600.0  lot47542   \n",
       "811455  [[0, 0, 0, 0, 0, 0, 0, 0, 0, 0, 0, 1, 1, 1, 1,...    600.0  lot47543   \n",
       "811456  [[0, 0, 0, 0, 0, 0, 0, 0, 0, 0, 0, 1, 2, 1, 1,...    600.0  lot47543   \n",
       "\n",
       "        waferIndex trianTestLabel    failureType  \n",
       "811452        23.0       [[Test]]  [[Edge-Ring]]  \n",
       "811453        24.0       [[Test]]   [[Edge-Loc]]  \n",
       "811454        25.0       [[Test]]  [[Edge-Ring]]  \n",
       "811455         1.0             []             []  \n",
       "811456         2.0             []             []  "
      ]
     },
     "execution_count": 4,
     "metadata": {},
     "output_type": "execute_result"
    }
   ],
   "source": [
    "df.tail()"
   ]
  },
  {
   "cell_type": "markdown",
   "metadata": {},
   "source": [
    "- ウエハマップのそれぞれの列から得られる情報はないが，インスタンスごとにダイサイズが異なることがわかる．\n",
    "- ウエハマップのダイサイズをチェックするための変数`WaferMapDim`を定義する．（縦，横の値）"
   ]
  },
  {
   "cell_type": "code",
   "execution_count": 5,
   "metadata": {},
   "outputs": [],
   "source": [
    "df = df.drop(['waferIndex'], axis = 1)"
   ]
  },
  {
   "cell_type": "code",
   "execution_count": 6,
   "metadata": {},
   "outputs": [
    {
     "data": {
      "text/html": [
       "<div>\n",
       "<style scoped>\n",
       "    .dataframe tbody tr th:only-of-type {\n",
       "        vertical-align: middle;\n",
       "    }\n",
       "\n",
       "    .dataframe tbody tr th {\n",
       "        vertical-align: top;\n",
       "    }\n",
       "\n",
       "    .dataframe thead th {\n",
       "        text-align: right;\n",
       "    }\n",
       "</style>\n",
       "<table border=\"1\" class=\"dataframe\">\n",
       "  <thead>\n",
       "    <tr style=\"text-align: right;\">\n",
       "      <th></th>\n",
       "      <th>waferMap</th>\n",
       "      <th>dieSize</th>\n",
       "      <th>lotName</th>\n",
       "      <th>trianTestLabel</th>\n",
       "      <th>failureType</th>\n",
       "      <th>waferMapDim</th>\n",
       "    </tr>\n",
       "  </thead>\n",
       "  <tbody>\n",
       "    <tr>\n",
       "      <th>236850</th>\n",
       "      <td>[[0, 0, 0, 0, 0, 0, 0, 0, 0, 0, 0, 0, 0, 0, 1,...</td>\n",
       "      <td>959.0</td>\n",
       "      <td>lot14790</td>\n",
       "      <td>[]</td>\n",
       "      <td>[]</td>\n",
       "      <td>(36, 34)</td>\n",
       "    </tr>\n",
       "    <tr>\n",
       "      <th>113302</th>\n",
       "      <td>[[0, 0, 0, 0, 0, 0, 0, 0, 0, 0, 2, 1, 1, 2, 1,...</td>\n",
       "      <td>533.0</td>\n",
       "      <td>lot7597</td>\n",
       "      <td>[]</td>\n",
       "      <td>[]</td>\n",
       "      <td>(26, 26)</td>\n",
       "    </tr>\n",
       "    <tr>\n",
       "      <th>148252</th>\n",
       "      <td>[[0, 0, 0, 0, 0, 0, 0, 0, 0, 0, 0, 0, 0, 0, 0,...</td>\n",
       "      <td>3605.0</td>\n",
       "      <td>lot9481</td>\n",
       "      <td>[]</td>\n",
       "      <td>[]</td>\n",
       "      <td>(75, 61)</td>\n",
       "    </tr>\n",
       "    <tr>\n",
       "      <th>374212</th>\n",
       "      <td>[[0, 0, 0, 0, 0, 0, 0, 0, 0, 0, 0, 0, 0, 0, 0,...</td>\n",
       "      <td>2466.0</td>\n",
       "      <td>lot22356</td>\n",
       "      <td>[]</td>\n",
       "      <td>[]</td>\n",
       "      <td>(56, 57)</td>\n",
       "    </tr>\n",
       "    <tr>\n",
       "      <th>336477</th>\n",
       "      <td>[[0, 0, 0, 0, 0, 0, 0, 0, 0, 0, 0, 0, 0, 0, 0,...</td>\n",
       "      <td>2628.0</td>\n",
       "      <td>lot20272</td>\n",
       "      <td>[]</td>\n",
       "      <td>[]</td>\n",
       "      <td>(57, 58)</td>\n",
       "    </tr>\n",
       "  </tbody>\n",
       "</table>\n",
       "</div>"
      ],
      "text/plain": [
       "                                                 waferMap  dieSize   lotName  \\\n",
       "236850  [[0, 0, 0, 0, 0, 0, 0, 0, 0, 0, 0, 0, 0, 0, 1,...    959.0  lot14790   \n",
       "113302  [[0, 0, 0, 0, 0, 0, 0, 0, 0, 0, 2, 1, 1, 2, 1,...    533.0   lot7597   \n",
       "148252  [[0, 0, 0, 0, 0, 0, 0, 0, 0, 0, 0, 0, 0, 0, 0,...   3605.0   lot9481   \n",
       "374212  [[0, 0, 0, 0, 0, 0, 0, 0, 0, 0, 0, 0, 0, 0, 0,...   2466.0  lot22356   \n",
       "336477  [[0, 0, 0, 0, 0, 0, 0, 0, 0, 0, 0, 0, 0, 0, 0,...   2628.0  lot20272   \n",
       "\n",
       "       trianTestLabel failureType waferMapDim  \n",
       "236850             []          []    (36, 34)  \n",
       "113302             []          []    (26, 26)  \n",
       "148252             []          []    (75, 61)  \n",
       "374212             []          []    (56, 57)  \n",
       "336477             []          []    (57, 58)  "
      ]
     },
     "execution_count": 6,
     "metadata": {},
     "output_type": "execute_result"
    }
   ],
   "source": [
    "def find_dim(x):\n",
    "    dim0=np.size(x,axis=0)\n",
    "    dim1=np.size(x,axis=1)\n",
    "    return dim0,dim1\n",
    "df['waferMapDim']=df.waferMap.apply(find_dim)\n",
    "df.sample(5)"
   ]
  },
  {
   "cell_type": "markdown",
   "metadata": {},
   "source": [
    "- 不良パターンと学習orテストラベルを数値で表す．"
   ]
  },
  {
   "cell_type": "code",
   "execution_count": 7,
   "metadata": {},
   "outputs": [],
   "source": [
    "df['failureNum']=df.failureType\n",
    "df['trainTestNum']=df.trianTestLabel\n",
    "mapping_type={'Center':0,'Donut':1,'Edge-Loc':2,'Edge-Ring':3,'Loc':4,'Random':5,'Scratch':6,'Near-full':7,'none':8}\n",
    "mapping_traintest={'Training':0,'Test':1}\n",
    "df=df.replace({'failureNum':mapping_type, 'trainTestNum':mapping_traintest})"
   ]
  },
  {
   "cell_type": "code",
   "execution_count": 8,
   "metadata": {},
   "outputs": [
    {
     "data": {
      "text/plain": [
       "811457"
      ]
     },
     "execution_count": 8,
     "metadata": {},
     "output_type": "execute_result"
    }
   ],
   "source": [
    "tol_wafers = df.shape[0]\n",
    "tol_wafers"
   ]
  },
  {
   "cell_type": "code",
   "execution_count": 9,
   "metadata": {},
   "outputs": [
    {
     "data": {
      "text/plain": [
       "(172950, 25519, 147431)"
      ]
     },
     "execution_count": 9,
     "metadata": {},
     "output_type": "execute_result"
    }
   ],
   "source": [
    "df_withlabel = df[(df['failureNum']>=0) & (df['failureNum']<=8)]\n",
    "df_withlabel =df_withlabel.reset_index()\n",
    "df_withpattern = df[(df['failureNum']>=0) & (df['failureNum']<=7)]\n",
    "df_withpattern = df_withpattern.reset_index()\n",
    "df_nonpattern = df[(df['failureNum']==8)]\n",
    "df_withlabel.shape[0], df_withpattern.shape[0], df_nonpattern.shape[0]"
   ]
  },
  {
   "cell_type": "code",
   "execution_count": 10,
   "metadata": {},
   "outputs": [
    {
     "data": {
      "image/png": "[encoded data removed]",
      "text/plain": [
       "<Figure size 1440x324 with 2 Axes>"
      ]
     },
     "metadata": {},
     "output_type": "display_data"
    }
   ],
   "source": [
    "import matplotlib.pyplot as plt\n",
    "%matplotlib inline\n",
    "\n",
    "from matplotlib import gridspec\n",
    "fig = plt.figure(figsize=(20, 4.5)) \n",
    "gs = gridspec.GridSpec(1, 2, width_ratios=[1, 2.5]) \n",
    "ax1 = plt.subplot(gs[0])\n",
    "ax2 = plt.subplot(gs[1])\n",
    "\n",
    "no_wafers=[tol_wafers-df_withlabel.shape[0], df_withpattern.shape[0], df_nonpattern.shape[0]]\n",
    "\n",
    "colors = ['silver', 'orange', 'gold']\n",
    "explode = (0.1, 0, 0)  # explode 1st slice\n",
    "labels = ['no-label','label&pattern','label&non-pattern']\n",
    "ax1.pie(no_wafers, explode=explode, labels=labels, colors=colors, autopct='%1.1f%%', shadow=True, startangle=140)\n",
    "\n",
    "uni_pattern=np.unique(df_withpattern.failureNum, return_counts=True)\n",
    "labels2 = ['','Center','Donut','Edge-Loc','Edge-Ring','Loc','Random','Scratch','Near-full']\n",
    "ax2.bar(uni_pattern[0],uni_pattern[1]/df_withpattern.shape[0], color='gold', align='center', alpha=0.9)\n",
    "ax2.set_title(\"failure type frequency\")\n",
    "ax2.set_ylabel(\"% of pattern wafers\")\n",
    "ax2.set_xticklabels(labels2)\n",
    "\n",
    "plt.show()"
   ]
  },
  {
   "cell_type": "markdown",
   "metadata": {},
   "source": [
    "- 結果として，172,950枚のウエハは不良ラベルを持ち，78.7%のウエハは不良ラベルがない．\n",
    "- また，ラベル付きのウエハのうち，実際に不良パターンがあるのは全体のわずか3.1%(25,519枚)であり，残りの147,431枚のウエハは不良パターンが`none`となっている．\n",
    "- その結果，実際に不良パターンがあるのは3.1%(25,519枚）だけであり，計算量は大幅に削減される．\n",
    "- 上の2つ目の図から，データセットは高い不均衡分布を示していることがわかる．"
   ]
  },
  {
   "cell_type": "markdown",
   "metadata": {},
   "source": [
    "### 26x26のデータに対して処理"
   ]
  },
  {
   "cell_type": "code",
   "execution_count": 11,
   "metadata": {},
   "outputs": [],
   "source": [
    "sub_df = df.loc[df['waferMapDim'] == (26, 26)]\n",
    "sub_wafer = sub_df['waferMap'].values\n",
    "\n",
    "sw = np.ones((1, 26, 26))\n",
    "label = list()\n",
    "\n",
    "for i in range(len(sub_df)):\n",
    "    # skip null label\n",
    "    if len(sub_df.iloc[i,:]['failureType']) == 0:\n",
    "        continue\n",
    "    sw = np.concatenate((sw, sub_df.iloc[i,:]['waferMap'].reshape(1, 26, 26)))\n",
    "    label.append(sub_df.iloc[i,:]['failureType'][0][0])"
   ]
  },
  {
   "cell_type": "code",
   "execution_count": 12,
   "metadata": {
    "scrolled": true
   },
   "outputs": [
    {
     "data": {
      "text/html": [
       "<div>\n",
       "<style scoped>\n",
       "    .dataframe tbody tr th:only-of-type {\n",
       "        vertical-align: middle;\n",
       "    }\n",
       "\n",
       "    .dataframe tbody tr th {\n",
       "        vertical-align: top;\n",
       "    }\n",
       "\n",
       "    .dataframe thead th {\n",
       "        text-align: right;\n",
       "    }\n",
       "</style>\n",
       "<table border=\"1\" class=\"dataframe\">\n",
       "  <thead>\n",
       "    <tr style=\"text-align: right;\">\n",
       "      <th></th>\n",
       "      <th>waferMap</th>\n",
       "      <th>dieSize</th>\n",
       "      <th>lotName</th>\n",
       "      <th>trianTestLabel</th>\n",
       "      <th>failureType</th>\n",
       "      <th>waferMapDim</th>\n",
       "      <th>failureNum</th>\n",
       "      <th>trainTestNum</th>\n",
       "    </tr>\n",
       "  </thead>\n",
       "  <tbody>\n",
       "    <tr>\n",
       "      <th>150</th>\n",
       "      <td>[[0, 0, 0, 0, 0, 0, 0, 0, 0, 0, 2, 2, 1, 1, 2,...</td>\n",
       "      <td>533.0</td>\n",
       "      <td>lot7</td>\n",
       "      <td>[[Training]]</td>\n",
       "      <td>[[none]]</td>\n",
       "      <td>(26, 26)</td>\n",
       "      <td>8</td>\n",
       "      <td>0</td>\n",
       "    </tr>\n",
       "    <tr>\n",
       "      <th>151</th>\n",
       "      <td>[[0, 0, 0, 0, 0, 0, 0, 0, 0, 0, 2, 1, 1, 1, 1,...</td>\n",
       "      <td>533.0</td>\n",
       "      <td>lot7</td>\n",
       "      <td>[[Training]]</td>\n",
       "      <td>[[none]]</td>\n",
       "      <td>(26, 26)</td>\n",
       "      <td>8</td>\n",
       "      <td>0</td>\n",
       "    </tr>\n",
       "    <tr>\n",
       "      <th>152</th>\n",
       "      <td>[[0, 0, 0, 0, 0, 0, 0, 0, 0, 0, 1, 2, 1, 1, 1,...</td>\n",
       "      <td>533.0</td>\n",
       "      <td>lot7</td>\n",
       "      <td>[[Training]]</td>\n",
       "      <td>[[none]]</td>\n",
       "      <td>(26, 26)</td>\n",
       "      <td>8</td>\n",
       "      <td>0</td>\n",
       "    </tr>\n",
       "    <tr>\n",
       "      <th>153</th>\n",
       "      <td>[[0, 0, 0, 0, 0, 0, 0, 0, 0, 0, 1, 2, 2, 1, 1,...</td>\n",
       "      <td>533.0</td>\n",
       "      <td>lot7</td>\n",
       "      <td>[[Training]]</td>\n",
       "      <td>[[none]]</td>\n",
       "      <td>(26, 26)</td>\n",
       "      <td>8</td>\n",
       "      <td>0</td>\n",
       "    </tr>\n",
       "    <tr>\n",
       "      <th>154</th>\n",
       "      <td>[[0, 0, 0, 0, 0, 0, 0, 0, 0, 0, 2, 2, 2, 2, 2,...</td>\n",
       "      <td>533.0</td>\n",
       "      <td>lot7</td>\n",
       "      <td>[[Training]]</td>\n",
       "      <td>[[none]]</td>\n",
       "      <td>(26, 26)</td>\n",
       "      <td>8</td>\n",
       "      <td>0</td>\n",
       "    </tr>\n",
       "  </tbody>\n",
       "</table>\n",
       "</div>"
      ],
      "text/plain": [
       "                                              waferMap  dieSize lotName  \\\n",
       "150  [[0, 0, 0, 0, 0, 0, 0, 0, 0, 0, 2, 2, 1, 1, 2,...    533.0    lot7   \n",
       "151  [[0, 0, 0, 0, 0, 0, 0, 0, 0, 0, 2, 1, 1, 1, 1,...    533.0    lot7   \n",
       "152  [[0, 0, 0, 0, 0, 0, 0, 0, 0, 0, 1, 2, 1, 1, 1,...    533.0    lot7   \n",
       "153  [[0, 0, 0, 0, 0, 0, 0, 0, 0, 0, 1, 2, 2, 1, 1,...    533.0    lot7   \n",
       "154  [[0, 0, 0, 0, 0, 0, 0, 0, 0, 0, 2, 2, 2, 2, 2,...    533.0    lot7   \n",
       "\n",
       "    trianTestLabel failureType waferMapDim failureNum trainTestNum  \n",
       "150   [[Training]]    [[none]]    (26, 26)          8            0  \n",
       "151   [[Training]]    [[none]]    (26, 26)          8            0  \n",
       "152   [[Training]]    [[none]]    (26, 26)          8            0  \n",
       "153   [[Training]]    [[none]]    (26, 26)          8            0  \n",
       "154   [[Training]]    [[none]]    (26, 26)          8            0  "
      ]
     },
     "execution_count": 12,
     "metadata": {},
     "output_type": "execute_result"
    }
   ],
   "source": [
    "sub_df.head()"
   ]
  },
  {
   "cell_type": "code",
   "execution_count": 13,
   "metadata": {},
   "outputs": [],
   "source": [
    "x = sw[1:]\n",
    "y = np.array(label).reshape((-1,1))"
   ]
  },
  {
   "cell_type": "code",
   "execution_count": 14,
   "metadata": {},
   "outputs": [
    {
     "name": "stdout",
     "output_type": "stream",
     "text": [
      "x shape : (14366, 26, 26), y shape : (14366, 1)\n"
     ]
    }
   ],
   "source": [
    "print('x shape : {}, y shape : {}'.format(x.shape, y.shape))"
   ]
  },
  {
   "cell_type": "markdown",
   "metadata": {},
   "source": [
    "- 26x26のウエハが14366枚抽出できた．"
   ]
  },
  {
   "cell_type": "markdown",
   "metadata": {},
   "source": [
    "- 最初のデータを可視化してみる．"
   ]
  },
  {
   "cell_type": "code",
   "execution_count": 15,
   "metadata": {},
   "outputs": [
    {
     "data": {
      "image/png": "[encoded data removed]",
      "text/plain": [
       "<Figure size 432x288 with 1 Axes>"
      ]
     },
     "metadata": {},
     "output_type": "display_data"
    },
    {
     "name": "stdout",
     "output_type": "stream",
     "text": [
      "Faulty case : ['none'] \n"
     ]
    }
   ],
   "source": [
    "# plot 1st data\n",
    "plt.imshow(x[0])\n",
    "plt.show()\n",
    "\n",
    "# check faulty case\n",
    "print('Faulty case : {} '.format(y[0]))"
   ]
  },
  {
   "cell_type": "code",
   "execution_count": 16,
   "metadata": {},
   "outputs": [
    {
     "data": {
      "text/plain": [
       "(14366, 26, 26, 1)"
      ]
     },
     "execution_count": 16,
     "metadata": {},
     "output_type": "execute_result"
    }
   ],
   "source": [
    "x = x.reshape((-1, 26, 26, 1))\n",
    "x.shape"
   ]
  },
  {
   "cell_type": "code",
   "execution_count": 17,
   "metadata": {},
   "outputs": [
    {
     "name": "stdout",
     "output_type": "stream",
     "text": [
      "Faulty case list : ['Center' 'Donut' 'Edge-Loc' 'Edge-Ring' 'Loc' 'Near-full' 'Random'\n",
      " 'Scratch' 'none']\n"
     ]
    }
   ],
   "source": [
    "faulty_case = np.unique(y)\n",
    "print('Faulty case list : {}'.format(faulty_case))"
   ]
  },
  {
   "cell_type": "code",
   "execution_count": 18,
   "metadata": {},
   "outputs": [
    {
     "name": "stdout",
     "output_type": "stream",
     "text": [
      "Center : 90\n",
      "Donut : 1\n",
      "Edge-Loc : 296\n",
      "Edge-Ring : 31\n",
      "Loc : 297\n",
      "Near-full : 16\n",
      "Random : 74\n",
      "Scratch : 72\n",
      "none : 13489\n"
     ]
    }
   ],
   "source": [
    "for f in faulty_case :\n",
    "    print('{} : {}'.format(f, len(y[y==f])))"
   ]
  },
  {
   "cell_type": "markdown",
   "metadata": {},
   "source": [
    "- 14366枚の26x26ウエハの不良パターンは上記のようになっている．"
   ]
  },
  {
   "cell_type": "code",
   "execution_count": 19,
   "metadata": {},
   "outputs": [],
   "source": [
    "new_x = np.zeros((len(x), 26, 26, 3))\n",
    "\n",
    "for w in range(len(x)):\n",
    "    for i in range(26):\n",
    "        for j in range(26):\n",
    "            new_x[w, i, j, int(x[w, i, j])] = 1"
   ]
  },
  {
   "cell_type": "code",
   "execution_count": 20,
   "metadata": {},
   "outputs": [
    {
     "data": {
      "text/plain": [
       "(14366, 26, 26, 3)"
      ]
     },
     "execution_count": 20,
     "metadata": {},
     "output_type": "execute_result"
    }
   ],
   "source": [
    "new_x.shape"
   ]
  },
  {
   "cell_type": "markdown",
   "metadata": {},
   "source": [
    "- new_xを(14366, 26, 26, 3)とし，最後の次元にはウエハの値(0, 1, 2)がそれぞれの値毎にベクトルとしてまとめられている．"
   ]
  },
  {
   "cell_type": "markdown",
   "metadata": {},
   "source": [
    "### オートエンコーダで学習"
   ]
  },
  {
   "cell_type": "markdown",
   "metadata": {},
   "source": [
    "#### エンコーダとデコーダのモデルを学習"
   ]
  },
  {
   "cell_type": "markdown",
   "metadata": {},
   "source": [
    "- モデルの定義をする．"
   ]
  },
  {
   "cell_type": "code",
   "execution_count": 21,
   "metadata": {},
   "outputs": [],
   "source": [
    "# Encoder\n",
    "input_shape = (26, 26, 3)\n",
    "input_tensor = Input(input_shape)\n",
    "encode = layers.Conv2D(64, (3,3), padding='same', activation='relu')(input_tensor)\n",
    "\n",
    "latent_vector = layers.MaxPool2D()(encode)\n",
    "\n",
    "# Decoder\n",
    "decode_layer_1 = layers.Conv2DTranspose(64, (3,3), padding='same', activation='relu')\n",
    "decode_layer_2 = layers.UpSampling2D()\n",
    "output_tensor = layers.Conv2DTranspose(3, (3,3), padding='same', activation='sigmoid')\n",
    "\n",
    "# connect decoder layers\n",
    "decode = decode_layer_1(latent_vector)\n",
    "decode = decode_layer_2(decode)\n",
    "\n",
    "ae = models.Model(input_tensor, output_tensor(decode))\n",
    "ae.compile(optimizer = 'Adam',\n",
    "              loss = 'mse',\n",
    "             )"
   ]
  },
  {
   "cell_type": "code",
   "execution_count": 22,
   "metadata": {},
   "outputs": [
    {
     "name": "stdout",
     "output_type": "stream",
     "text": [
      "_________________________________________________________________\n",
      "Layer (type)                 Output Shape              Param #   \n",
      "=================================================================\n",
      "input_1 (InputLayer)         (None, 26, 26, 3)         0         \n",
      "_________________________________________________________________\n",
      "conv2d_1 (Conv2D)            (None, 26, 26, 64)        1792      \n",
      "_________________________________________________________________\n",
      "max_pooling2d_1 (MaxPooling2 (None, 13, 13, 64)        0         \n",
      "_________________________________________________________________\n",
      "conv2d_transpose_1 (Conv2DTr (None, 13, 13, 64)        36928     \n",
      "_________________________________________________________________\n",
      "up_sampling2d_1 (UpSampling2 (None, 26, 26, 64)        0         \n",
      "_________________________________________________________________\n",
      "conv2d_transpose_2 (Conv2DTr (None, 26, 26, 3)         1731      \n",
      "=================================================================\n",
      "Total params: 40,451\n",
      "Trainable params: 40,451\n",
      "Non-trainable params: 0\n",
      "_________________________________________________________________\n"
     ]
    }
   ],
   "source": [
    "ae.summary()"
   ]
  },
  {
   "cell_type": "markdown",
   "metadata": {},
   "source": [
    "- 層は\n",
    "    - 入力層\n",
    "    - 畳み込み層\n",
    "    - プーリング層\n",
    "    - 転置畳み込み層\n",
    "    - アップサンプリング層"
   ]
  },
  {
   "cell_type": "code",
   "execution_count": 23,
   "metadata": {},
   "outputs": [],
   "source": [
    "epoch=30\n",
    "batch_size=1024"
   ]
  },
  {
   "cell_type": "markdown",
   "metadata": {},
   "source": [
    "- 学習を開始する．\n",
    "- `new_x`を`new_x`にエンコードしデコードする．"
   ]
  },
  {
   "cell_type": "code",
   "execution_count": 24,
   "metadata": {
    "scrolled": true
   },
   "outputs": [
    {
     "name": "stdout",
     "output_type": "stream",
     "text": [
      "Epoch 1/30\n",
      "14366/14366 [==============================] - 1s 104us/step - loss: 0.1577\n",
      "Epoch 2/30\n",
      "14366/14366 [==============================] - 1s 41us/step - loss: 0.0967\n",
      "Epoch 3/30\n",
      "14366/14366 [==============================] - 1s 43us/step - loss: 0.0844\n",
      "Epoch 4/30\n",
      "14366/14366 [==============================] - 1s 42us/step - loss: 0.0738\n",
      "Epoch 5/30\n",
      "14366/14366 [==============================] - 1s 43us/step - loss: 0.0656\n",
      "Epoch 6/30\n",
      "14366/14366 [==============================] - 1s 42us/step - loss: 0.0593\n",
      "Epoch 7/30\n",
      "14366/14366 [==============================] - 1s 43us/step - loss: 0.0538\n",
      "Epoch 8/30\n",
      "14366/14366 [==============================] - 1s 41us/step - loss: 0.0489\n",
      "Epoch 9/30\n",
      "14366/14366 [==============================] - 1s 44us/step - loss: 0.0441\n",
      "Epoch 10/30\n",
      "14366/14366 [==============================] - 1s 43us/step - loss: 0.0393\n",
      "Epoch 11/30\n",
      "14366/14366 [==============================] - 1s 42us/step - loss: 0.0349\n",
      "Epoch 12/30\n",
      "14366/14366 [==============================] - 1s 42us/step - loss: 0.0310\n",
      "Epoch 13/30\n",
      "14366/14366 [==============================] - 1s 43us/step - loss: 0.0279\n",
      "Epoch 14/30\n",
      "14366/14366 [==============================] - 1s 41us/step - loss: 0.0253\n",
      "Epoch 15/30\n",
      "14366/14366 [==============================] - 1s 43us/step - loss: 0.0233\n",
      "Epoch 16/30\n",
      "14366/14366 [==============================] - 1s 44us/step - loss: 0.0216\n",
      "Epoch 17/30\n",
      "14366/14366 [==============================] - 1s 43us/step - loss: 0.0201\n",
      "Epoch 18/30\n",
      "14366/14366 [==============================] - 1s 41us/step - loss: 0.0188\n",
      "Epoch 19/30\n",
      "14366/14366 [==============================] - 1s 40us/step - loss: 0.0176\n",
      "Epoch 20/30\n",
      "14366/14366 [==============================] - 1s 42us/step - loss: 0.0166\n",
      "Epoch 21/30\n",
      "14366/14366 [==============================] - 1s 42us/step - loss: 0.0156\n",
      "Epoch 22/30\n",
      "14366/14366 [==============================] - 1s 41us/step - loss: 0.0148\n",
      "Epoch 23/30\n",
      "14366/14366 [==============================] - 1s 39us/step - loss: 0.0139\n",
      "Epoch 24/30\n",
      "14366/14366 [==============================] - 1s 41us/step - loss: 0.0132\n",
      "Epoch 25/30\n",
      "14366/14366 [==============================] - 1s 43us/step - loss: 0.0125\n",
      "Epoch 26/30\n",
      "14366/14366 [==============================] - 1s 43us/step - loss: 0.0119\n",
      "Epoch 27/30\n",
      "14366/14366 [==============================] - 1s 43us/step - loss: 0.0113\n",
      "Epoch 28/30\n",
      "14366/14366 [==============================] - 1s 43us/step - loss: 0.0107\n",
      "Epoch 29/30\n",
      "14366/14366 [==============================] - 1s 42us/step - loss: 0.0102\n",
      "Epoch 30/30\n",
      "14366/14366 [==============================] - 1s 42us/step - loss: 0.0097\n"
     ]
    },
    {
     "data": {
      "text/plain": [
       "<keras.callbacks.History at 0x7f899f15f6d8>"
      ]
     },
     "execution_count": 24,
     "metadata": {},
     "output_type": "execute_result"
    }
   ],
   "source": [
    "# start train\n",
    "ae.fit(new_x, new_x,\n",
    "       batch_size=batch_size,\n",
    "       epochs=epoch,\n",
    "       verbose=1)"
   ]
  },
  {
   "cell_type": "markdown",
   "metadata": {},
   "source": [
    "- エンコーダだけのモデルを定義する．"
   ]
  },
  {
   "cell_type": "code",
   "execution_count": 25,
   "metadata": {},
   "outputs": [],
   "source": [
    "encoder = models.Model(input_tensor, latent_vector)"
   ]
  },
  {
   "cell_type": "markdown",
   "metadata": {},
   "source": [
    "- デコーダだけのモデルを定義する．"
   ]
  },
  {
   "cell_type": "code",
   "execution_count": 26,
   "metadata": {},
   "outputs": [],
   "source": [
    "decoder_input = Input((13, 13, 64))\n",
    "decode = decode_layer_1(decoder_input)\n",
    "decode = decode_layer_2(decode)\n",
    "\n",
    "decoder = models.Model(decoder_input, output_tensor(decode))"
   ]
  },
  {
   "cell_type": "markdown",
   "metadata": {},
   "source": [
    "- `encoder`を使って元のウエハ画像をエンコードする．"
   ]
  },
  {
   "cell_type": "code",
   "execution_count": 27,
   "metadata": {},
   "outputs": [],
   "source": [
    "# Encode original faulty wafer\n",
    "encoded_x = encoder.predict(new_x)"
   ]
  },
  {
   "cell_type": "markdown",
   "metadata": {},
   "source": [
    "- エンコードされた潜伏的な不良ウエハにノイズを負荷する．"
   ]
  },
  {
   "cell_type": "code",
   "execution_count": 28,
   "metadata": {},
   "outputs": [],
   "source": [
    "# Add noise to encoded latent faulty wafers vector.\n",
    "noised_encoded_x = encoded_x + np.random.normal(loc=0, scale=0.1, size = (len(encoded_x), 13, 13, 64))"
   ]
  },
  {
   "cell_type": "markdown",
   "metadata": {},
   "source": [
    "- 元のウエハ画像"
   ]
  },
  {
   "cell_type": "code",
   "execution_count": 29,
   "metadata": {},
   "outputs": [
    {
     "data": {
      "text/plain": [
       "<matplotlib.image.AxesImage at 0x7f89b0a88470>"
      ]
     },
     "execution_count": 29,
     "metadata": {},
     "output_type": "execute_result"
    },
    {
     "data": {
      "image/png": "[encoded data removed]",
      "text/plain": [
       "<Figure size 432x288 with 1 Axes>"
      ]
     },
     "metadata": {},
     "output_type": "display_data"
    }
   ],
   "source": [
    "# check original faulty wafer data\n",
    "plt.imshow(np.argmax(new_x[3], axis=2))"
   ]
  },
  {
   "cell_type": "markdown",
   "metadata": {},
   "source": [
    "- ノイズが付加されたウエハ画像"
   ]
  },
  {
   "cell_type": "code",
   "execution_count": 30,
   "metadata": {},
   "outputs": [
    {
     "data": {
      "text/plain": [
       "<matplotlib.image.AxesImage at 0x7f89b0c010b8>"
      ]
     },
     "execution_count": 30,
     "metadata": {},
     "output_type": "execute_result"
    },
    {
     "data": {
      "image/png": "[encoded data removed]",
      "text/plain": [
       "<Figure size 432x288 with 1 Axes>"
      ]
     },
     "metadata": {},
     "output_type": "display_data"
    }
   ],
   "source": [
    "# check new noised faulty wafer data\n",
    "noised_gen_x = np.argmax(decoder.predict(noised_encoded_x), axis=3)\n",
    "plt.imshow(noised_gen_x[3])"
   ]
  },
  {
   "cell_type": "markdown",
   "metadata": {},
   "source": [
    "### データオーギュメンテーション"
   ]
  },
  {
   "cell_type": "markdown",
   "metadata": {},
   "source": [
    "- データオーギュメンテーションを行う関数を定義する．"
   ]
  },
  {
   "cell_type": "code",
   "execution_count": 31,
   "metadata": {},
   "outputs": [],
   "source": [
    "# augment function define\n",
    "def gen_data(wafer, label):\n",
    "    # Encode input wafer\n",
    "    encoded_x = encoder.predict(wafer)\n",
    "    \n",
    "    # dummy array for collecting noised wafer\n",
    "    gen_x = np.zeros((1, 26, 26, 3))\n",
    "    \n",
    "    # Make wafer until total # of wafer to 2000\n",
    "    for i in range((2000//len(wafer)) + 1):\n",
    "        noised_encoded_x = encoded_x + np.random.normal(loc=0, scale=0.1, size = (len(encoded_x), 13, 13, 64)) \n",
    "        noised_gen_x = decoder.predict(noised_encoded_x)\n",
    "        gen_x = np.concatenate((gen_x, noised_gen_x), axis=0)\n",
    "    # also make label vector with same length\n",
    "    gen_y = np.full((len(gen_x), 1), label)\n",
    "    \n",
    "    # return date without 1st dummy data.\n",
    "    return gen_x[1:], gen_y[1:]"
   ]
  },
  {
   "cell_type": "markdown",
   "metadata": {},
   "source": [
    "- 不良ラベルが付いているデータに対してデータオーギュメンテーションを行う．"
   ]
  },
  {
   "cell_type": "code",
   "execution_count": 32,
   "metadata": {},
   "outputs": [],
   "source": [
    "# Augmentation for all faulty case.\n",
    "for f in faulty_case : \n",
    "    # skip none case\n",
    "    if f == 'none' : \n",
    "        continue\n",
    "    \n",
    "    gen_x, gen_y = gen_data(new_x[np.where(y==f)[0]], f)\n",
    "    new_x = np.concatenate((new_x, gen_x), axis=0)\n",
    "    y = np.concatenate((y, gen_y))"
   ]
  },
  {
   "cell_type": "code",
   "execution_count": 33,
   "metadata": {},
   "outputs": [
    {
     "name": "stdout",
     "output_type": "stream",
     "text": [
      "After Generate new_x shape : (30707, 26, 26, 3), new_y shape : (30707, 1)\n"
     ]
    }
   ],
   "source": [
    "print('After Generate new_x shape : {}, new_y shape : {}'.format(new_x.shape, y.shape))"
   ]
  },
  {
   "cell_type": "code",
   "execution_count": 36,
   "metadata": {},
   "outputs": [
    {
     "name": "stdout",
     "output_type": "stream",
     "text": [
      "Center : 2160\n",
      "Donut : 2002\n",
      "Edge-Loc : 2368\n",
      "Edge-Ring : 2046\n",
      "Loc : 2376\n",
      "Near-full : 2032\n",
      "Random : 2146\n",
      "Scratch : 2088\n",
      "none : 13489\n"
     ]
    }
   ],
   "source": [
    "for f in faulty_case :\n",
    "    print('{} : {}'.format(f, len(y[y==f])))"
   ]
  },
  {
   "cell_type": "markdown",
   "metadata": {},
   "source": [
    "- データオーギュメンテーションを行った結果，各不良データごとに2000枚増えた．\n",
    "- 合計は30707枚となった．"
   ]
  },
  {
   "cell_type": "markdown",
   "metadata": {},
   "source": [
    "- 不良ラベルのないデータは削除し，枚数を不良ラベルと同程度にする．"
   ]
  },
  {
   "cell_type": "code",
   "execution_count": 37,
   "metadata": {},
   "outputs": [],
   "source": [
    "none_idx = np.where(y=='none')[0][np.random.choice(len(np.where(y=='none')[0]), size=11000, replace=False)]"
   ]
  },
  {
   "cell_type": "code",
   "execution_count": 38,
   "metadata": {},
   "outputs": [],
   "source": [
    "new_x = np.delete(new_x, none_idx, axis=0)\n",
    "new_y = np.delete(y, none_idx, axis=0)"
   ]
  },
  {
   "cell_type": "code",
   "execution_count": 39,
   "metadata": {},
   "outputs": [
    {
     "name": "stdout",
     "output_type": "stream",
     "text": [
      "After Delete \"none\" class new_x shape : (19707, 26, 26, 3), new_y shape : (19707, 1)\n"
     ]
    }
   ],
   "source": [
    "print('After Delete \"none\" class new_x shape : {}, new_y shape : {}'.format(new_x.shape, new_y.shape))"
   ]
  },
  {
   "cell_type": "code",
   "execution_count": 40,
   "metadata": {},
   "outputs": [
    {
     "name": "stdout",
     "output_type": "stream",
     "text": [
      "Center : 2160\n",
      "Donut : 2002\n",
      "Edge-Loc : 2368\n",
      "Edge-Ring : 2046\n",
      "Loc : 2376\n",
      "Near-full : 2032\n",
      "Random : 2146\n",
      "Scratch : 2088\n",
      "none : 2489\n"
     ]
    }
   ],
   "source": [
    "for f in faulty_case :\n",
    "    print('{} : {}'.format(f, len(new_y[new_y==f])))"
   ]
  },
  {
   "cell_type": "markdown",
   "metadata": {},
   "source": [
    "- 削除した結果，全体は19707枚となった．"
   ]
  },
  {
   "cell_type": "markdown",
   "metadata": {},
   "source": [
    "### 学習を行う\n",
    "- 不良ラベルを0-8の9次元のベクトルとして表現する．\n",
    "- one-hotエンコーディングを行っている．"
   ]
  },
  {
   "cell_type": "code",
   "execution_count": 42,
   "metadata": {},
   "outputs": [],
   "source": [
    "for i, l in enumerate(faulty_case):\n",
    "    new_y[new_y==l] = i"
   ]
  },
  {
   "cell_type": "code",
   "execution_count": 44,
   "metadata": {},
   "outputs": [],
   "source": [
    "# one-hot-encoding\n",
    "new_y = to_categorical(new_y)"
   ]
  },
  {
   "cell_type": "markdown",
   "metadata": {},
   "source": [
    "- 学習データ（学習データと学習時のテストデータ）と最終的なテストデータに分割する．"
   ]
  },
  {
   "cell_type": "code",
   "execution_count": 47,
   "metadata": {},
   "outputs": [
    {
     "data": {
      "text/plain": [
       "(705, 26, 26, 3)"
      ]
     },
     "execution_count": 47,
     "metadata": {},
     "output_type": "execute_result"
    }
   ],
   "source": [
    "new_X=new_x[0:19000]\n",
    "new_Y=new_y[0:19000]\n",
    "test_x=new_x[19001:19706]\n",
    "test_y=new_y[19001:19706]\n",
    "test_x.shape"
   ]
  },
  {
   "cell_type": "markdown",
   "metadata": {},
   "source": [
    "- 学習データを学習データと学習時のテストデータに分割する．"
   ]
  },
  {
   "cell_type": "code",
   "execution_count": 48,
   "metadata": {},
   "outputs": [],
   "source": [
    "x_train, x_test, y_train, y_test = train_test_split(new_X, new_Y,\n",
    "                                                    test_size=0.33,\n",
    "                                                    random_state=2019)"
   ]
  },
  {
   "cell_type": "code",
   "execution_count": 51,
   "metadata": {},
   "outputs": [
    {
     "name": "stdout",
     "output_type": "stream",
     "text": [
      "Train x : (12730, 26, 26, 3), y : (12730, 9)\n",
      "Test x: (6270, 26, 26, 3), y : (6270, 9)\n"
     ]
    }
   ],
   "source": [
    "print('Train x : {}, y : {}'.format(x_train.shape, y_train.shape))\n",
    "print('Test x: {}, y : {}'.format(x_test.shape, y_test.shape))"
   ]
  },
  {
   "cell_type": "markdown",
   "metadata": {},
   "source": [
    "- 学習データ12730枚，テストデータ6270枚．"
   ]
  },
  {
   "cell_type": "markdown",
   "metadata": {},
   "source": [
    "- モデルの定義を行う．"
   ]
  },
  {
   "cell_type": "code",
   "execution_count": 58,
   "metadata": {},
   "outputs": [],
   "source": [
    "def create_model():\n",
    "    input_shape = (26, 26, 3)\n",
    "    input_tensor = Input(input_shape)\n",
    "\n",
    "    conv_1 = layers.Conv2D(16, (3,3), activation='relu', padding='same')(input_tensor)\n",
    "    conv_2 = layers.Conv2D(64, (3,3), activation='relu', padding='same')(conv_1)\n",
    "    conv_3 = layers.Conv2D(128, (3,3), activation='relu', padding='same')(conv_2)\n",
    "\n",
    "    flat = layers.Flatten()(conv_3)\n",
    "\n",
    "    dense_1 = layers.Dense(512, activation='relu')(flat)\n",
    "    dense_2 = layers.Dense(128, activation='relu')(dense_1)\n",
    "    output_tensor = layers.Dense(9, activation='softmax')(dense_2)\n",
    "\n",
    "    model = models.Model(input_tensor, output_tensor)\n",
    "    model.compile(optimizer='Adam',\n",
    "                 loss='categorical_crossentropy',\n",
    "                 metrics=['accuracy'])\n",
    "\n",
    "    return model"
   ]
  },
  {
   "cell_type": "markdown",
   "metadata": {},
   "source": [
    "- 3-Fold Cross validationで分割して学習する．"
   ]
  },
  {
   "cell_type": "code",
   "execution_count": 69,
   "metadata": {
    "scrolled": true
   },
   "outputs": [
    {
     "name": "stdout",
     "output_type": "stream",
     "text": [
      "Epoch 1/30\n",
      "8486/8486 [==============================] - 2s 282us/step - loss: 2.1296 - acc: 0.3553\n",
      "Epoch 2/30\n",
      "8486/8486 [==============================] - 1s 107us/step - loss: 0.9494 - acc: 0.6670\n",
      "Epoch 3/30\n",
      "8486/8486 [==============================] - 1s 107us/step - loss: 0.5566 - acc: 0.7915\n",
      "Epoch 4/30\n",
      "8486/8486 [==============================] - 1s 108us/step - loss: 0.3406 - acc: 0.8877\n",
      "Epoch 5/30\n",
      "8486/8486 [==============================] - 1s 107us/step - loss: 0.2105 - acc: 0.9274\n",
      "Epoch 6/30\n",
      "8486/8486 [==============================] - 1s 107us/step - loss: 0.1111 - acc: 0.9705\n",
      "Epoch 7/30\n",
      "8486/8486 [==============================] - 1s 107us/step - loss: 0.0542 - acc: 0.9901\n",
      "Epoch 8/30\n",
      "8486/8486 [==============================] - 1s 108us/step - loss: 0.0324 - acc: 0.9932\n",
      "Epoch 9/30\n",
      "8486/8486 [==============================] - 1s 109us/step - loss: 0.0191 - acc: 0.9965\n",
      "Epoch 10/30\n",
      "8486/8486 [==============================] - 1s 107us/step - loss: 0.0177 - acc: 0.9961\n",
      "Epoch 11/30\n",
      "8486/8486 [==============================] - 1s 109us/step - loss: 0.0199 - acc: 0.9942\n",
      "Epoch 12/30\n",
      "8486/8486 [==============================] - 1s 107us/step - loss: 0.0140 - acc: 0.9969\n",
      "Epoch 13/30\n",
      "8486/8486 [==============================] - 1s 107us/step - loss: 0.0129 - acc: 0.9972\n",
      "Epoch 14/30\n",
      "8486/8486 [==============================] - 1s 108us/step - loss: 0.0091 - acc: 0.9973\n",
      "Epoch 15/30\n",
      "8486/8486 [==============================] - 1s 108us/step - loss: 0.0111 - acc: 0.9980\n",
      "Epoch 16/30\n",
      "8486/8486 [==============================] - 1s 107us/step - loss: 0.0073 - acc: 0.9987\n",
      "Epoch 17/30\n",
      "8486/8486 [==============================] - 1s 109us/step - loss: 0.0067 - acc: 0.9980\n",
      "Epoch 18/30\n",
      "8486/8486 [==============================] - 1s 108us/step - loss: 0.0068 - acc: 0.9984\n",
      "Epoch 19/30\n",
      "8486/8486 [==============================] - 1s 107us/step - loss: 0.0062 - acc: 0.9988\n",
      "Epoch 20/30\n",
      "8486/8486 [==============================] - 1s 109us/step - loss: 0.0071 - acc: 0.9985\n",
      "Epoch 21/30\n",
      "8486/8486 [==============================] - 1s 107us/step - loss: 0.0038 - acc: 0.9987\n",
      "Epoch 22/30\n",
      "8486/8486 [==============================] - 1s 108us/step - loss: 0.0044 - acc: 0.9987\n",
      "Epoch 23/30\n",
      "8486/8486 [==============================] - 1s 107us/step - loss: 0.0049 - acc: 0.9986\n",
      "Epoch 24/30\n",
      "8486/8486 [==============================] - 1s 106us/step - loss: 0.0055 - acc: 0.9985\n",
      "Epoch 25/30\n",
      "8486/8486 [==============================] - 1s 108us/step - loss: 0.0075 - acc: 0.9980\n",
      "Epoch 26/30\n",
      "8486/8486 [==============================] - 1s 108us/step - loss: 0.0081 - acc: 0.9985\n",
      "Epoch 27/30\n",
      "8486/8486 [==============================] - 1s 108us/step - loss: 0.0070 - acc: 0.9984\n",
      "Epoch 28/30\n",
      "8486/8486 [==============================] - 1s 108us/step - loss: 0.0045 - acc: 0.9985\n",
      "Epoch 29/30\n",
      "8486/8486 [==============================] - 1s 107us/step - loss: 0.0061 - acc: 0.9985\n",
      "Epoch 30/30\n",
      "8486/8486 [==============================] - 1s 107us/step - loss: 0.0064 - acc: 0.9987\n",
      "4244/4244 [==============================] - 1s 125us/step\n",
      "Epoch 1/30\n",
      "8487/8487 [==============================] - 2s 286us/step - loss: 2.0573 - acc: 0.3547\n",
      "Epoch 2/30\n",
      "8487/8487 [==============================] - 1s 107us/step - loss: 0.9207 - acc: 0.6656\n",
      "Epoch 3/30\n",
      "8487/8487 [==============================] - 1s 108us/step - loss: 0.4836 - acc: 0.8322\n",
      "Epoch 4/30\n",
      "8487/8487 [==============================] - 1s 108us/step - loss: 0.2626 - acc: 0.9135\n",
      "Epoch 5/30\n",
      "8487/8487 [==============================] - 1s 107us/step - loss: 0.2600 - acc: 0.9318\n",
      "Epoch 6/30\n",
      "8487/8487 [==============================] - 1s 107us/step - loss: 0.2898 - acc: 0.9324\n",
      "Epoch 7/30\n",
      "8487/8487 [==============================] - 1s 108us/step - loss: 0.1398 - acc: 0.9691\n",
      "Epoch 8/30\n",
      "8487/8487 [==============================] - 1s 109us/step - loss: 0.0694 - acc: 0.9840\n",
      "Epoch 9/30\n",
      "8487/8487 [==============================] - 1s 107us/step - loss: 0.0336 - acc: 0.9927\n",
      "Epoch 10/30\n",
      "8487/8487 [==============================] - 1s 108us/step - loss: 0.0185 - acc: 0.9975\n",
      "Epoch 11/30\n",
      "8487/8487 [==============================] - 1s 109us/step - loss: 0.0185 - acc: 0.9955\n",
      "Epoch 12/30\n",
      "8487/8487 [==============================] - 1s 107us/step - loss: 0.0098 - acc: 0.9978\n",
      "Epoch 13/30\n",
      "8487/8487 [==============================] - 1s 108us/step - loss: 0.0086 - acc: 0.9986\n",
      "Epoch 14/30\n",
      "8487/8487 [==============================] - 1s 107us/step - loss: 0.0076 - acc: 0.9988\n",
      "Epoch 15/30\n",
      "8487/8487 [==============================] - 1s 105us/step - loss: 0.0060 - acc: 0.9985\n",
      "Epoch 16/30\n",
      "8487/8487 [==============================] - 1s 107us/step - loss: 0.0054 - acc: 0.9988\n",
      "Epoch 17/30\n",
      "8487/8487 [==============================] - 1s 107us/step - loss: 0.0064 - acc: 0.9987\n",
      "Epoch 18/30\n",
      "8487/8487 [==============================] - 1s 107us/step - loss: 0.0049 - acc: 0.9988\n",
      "Epoch 19/30\n",
      "8487/8487 [==============================] - 1s 107us/step - loss: 0.0044 - acc: 0.9989\n",
      "Epoch 20/30\n",
      "8487/8487 [==============================] - 1s 108us/step - loss: 0.0042 - acc: 0.9989\n",
      "Epoch 21/30\n",
      "8487/8487 [==============================] - 1s 107us/step - loss: 0.0067 - acc: 0.9987\n",
      "Epoch 22/30\n",
      "8487/8487 [==============================] - 1s 107us/step - loss: 0.0097 - acc: 0.9985\n",
      "Epoch 23/30\n",
      "8487/8487 [==============================] - 1s 108us/step - loss: 0.0049 - acc: 0.9989\n",
      "Epoch 24/30\n",
      "8487/8487 [==============================] - 1s 107us/step - loss: 0.0060 - acc: 0.9991\n",
      "Epoch 25/30\n",
      "8487/8487 [==============================] - 1s 106us/step - loss: 0.0036 - acc: 0.9989\n",
      "Epoch 26/30\n",
      "8487/8487 [==============================] - 1s 108us/step - loss: 0.0043 - acc: 0.9987\n",
      "Epoch 27/30\n",
      "8487/8487 [==============================] - 1s 108us/step - loss: 0.0033 - acc: 0.9989\n",
      "Epoch 28/30\n",
      "8487/8487 [==============================] - 1s 107us/step - loss: 0.0031 - acc: 0.9993\n",
      "Epoch 29/30\n",
      "8487/8487 [==============================] - 1s 107us/step - loss: 0.0032 - acc: 0.9989\n",
      "Epoch 30/30\n",
      "8487/8487 [==============================] - 1s 107us/step - loss: 0.0033 - acc: 0.9989\n",
      "4243/4243 [==============================] - 1s 131us/step\n",
      "Epoch 1/30\n",
      "8487/8487 [==============================] - 2s 291us/step - loss: 1.8963 - acc: 0.3237\n",
      "Epoch 2/30\n",
      "8487/8487 [==============================] - 1s 108us/step - loss: 0.8317 - acc: 0.7058\n",
      "Epoch 3/30\n",
      "8487/8487 [==============================] - 1s 109us/step - loss: 0.5585 - acc: 0.7937\n",
      "Epoch 4/30\n",
      "8487/8487 [==============================] - 1s 107us/step - loss: 0.3521 - acc: 0.8862\n",
      "Epoch 5/30\n",
      "8487/8487 [==============================] - 1s 109us/step - loss: 0.2235 - acc: 0.9292\n",
      "Epoch 6/30\n",
      "8487/8487 [==============================] - 1s 108us/step - loss: 0.1591 - acc: 0.9469\n",
      "Epoch 7/30\n",
      "8487/8487 [==============================] - 1s 108us/step - loss: 0.1006 - acc: 0.9702\n",
      "Epoch 8/30\n",
      "8487/8487 [==============================] - 1s 108us/step - loss: 0.0538 - acc: 0.9885\n",
      "Epoch 9/30\n",
      "8487/8487 [==============================] - 1s 109us/step - loss: 0.0432 - acc: 0.9899\n",
      "Epoch 10/30\n",
      "8487/8487 [==============================] - 1s 107us/step - loss: 0.0224 - acc: 0.9959\n",
      "Epoch 11/30\n",
      "8487/8487 [==============================] - 1s 107us/step - loss: 0.0183 - acc: 0.9958\n",
      "Epoch 12/30\n",
      "8487/8487 [==============================] - 1s 107us/step - loss: 0.0117 - acc: 0.9981\n",
      "Epoch 13/30\n",
      "8487/8487 [==============================] - 1s 108us/step - loss: 0.0093 - acc: 0.9987\n",
      "Epoch 14/30\n",
      "8487/8487 [==============================] - 1s 107us/step - loss: 0.0092 - acc: 0.9986\n",
      "Epoch 15/30\n",
      "8487/8487 [==============================] - 1s 108us/step - loss: 0.0067 - acc: 0.9986\n",
      "Epoch 16/30\n",
      "8487/8487 [==============================] - 1s 109us/step - loss: 0.0071 - acc: 0.9985\n",
      "Epoch 17/30\n",
      "8487/8487 [==============================] - 1s 107us/step - loss: 0.0082 - acc: 0.9982\n",
      "Epoch 18/30\n",
      "8487/8487 [==============================] - 1s 107us/step - loss: 0.0080 - acc: 0.9985\n",
      "Epoch 19/30\n",
      "8487/8487 [==============================] - 1s 109us/step - loss: 0.0067 - acc: 0.9985\n",
      "Epoch 20/30\n",
      "8487/8487 [==============================] - 1s 108us/step - loss: 0.0113 - acc: 0.9979\n",
      "Epoch 21/30\n",
      "8487/8487 [==============================] - 1s 108us/step - loss: 0.0075 - acc: 0.9985\n",
      "Epoch 22/30\n"
     ]
    },
    {
     "name": "stdout",
     "output_type": "stream",
     "text": [
      "8487/8487 [==============================] - 1s 108us/step - loss: 0.0053 - acc: 0.9989\n",
      "Epoch 23/30\n",
      "8487/8487 [==============================] - 1s 109us/step - loss: 0.0064 - acc: 0.9985\n",
      "Epoch 24/30\n",
      "8487/8487 [==============================] - 1s 107us/step - loss: 0.0039 - acc: 0.9989\n",
      "Epoch 25/30\n",
      "8487/8487 [==============================] - 1s 107us/step - loss: 0.0049 - acc: 0.9985\n",
      "Epoch 26/30\n",
      "8487/8487 [==============================] - 1s 107us/step - loss: 0.0043 - acc: 0.9987\n",
      "Epoch 27/30\n",
      "8487/8487 [==============================] - 1s 108us/step - loss: 0.0075 - acc: 0.9980\n",
      "Epoch 28/30\n",
      "8487/8487 [==============================] - 1s 108us/step - loss: 0.0076 - acc: 0.9982\n",
      "Epoch 29/30\n",
      "8487/8487 [==============================] - 1s 108us/step - loss: 0.0041 - acc: 0.9989\n",
      "Epoch 30/30\n",
      "8487/8487 [==============================] - 1s 107us/step - loss: 0.0054 - acc: 0.9984\n",
      "4243/4243 [==============================] - 1s 134us/step\n",
      "Simple CNN Cross validation score : 0.9910\n"
     ]
    }
   ],
   "source": [
    "model = KerasClassifier(build_fn=create_model, epochs=30, batch_size=1024, verbose=1) \n",
    "# 3-Fold Crossvalidation\n",
    "kfold = KFold(n_splits=3, shuffle=True, random_state=2019) \n",
    "results = cross_val_score(model, x_train, y_train, cv=kfold)\n",
    "# Check 3-fold model's mean accuracy\n",
    "print('Simple CNN Cross validation score : {:.4f}'.format(np.mean(results)))"
   ]
  },
  {
   "cell_type": "markdown",
   "metadata": {},
   "source": [
    "- Cross validiationによる精度は99.10%であった．"
   ]
  },
  {
   "cell_type": "markdown",
   "metadata": {},
   "source": [
    "- Cross validationなしで学習する．"
   ]
  },
  {
   "cell_type": "code",
   "execution_count": 70,
   "metadata": {
    "scrolled": true
   },
   "outputs": [
    {
     "name": "stdout",
     "output_type": "stream",
     "text": [
      "Train on 12730 samples, validate on 6270 samples\n",
      "Epoch 1/30\n",
      "12730/12730 [==============================] - 3s 275us/step - loss: 1.8045 - acc: 0.3988 - val_loss: 0.8478 - val_acc: 0.6437\n",
      "Epoch 2/30\n",
      "12730/12730 [==============================] - 2s 124us/step - loss: 0.7435 - acc: 0.7213 - val_loss: 0.5712 - val_acc: 0.7938\n",
      "Epoch 3/30\n",
      "12730/12730 [==============================] - 2s 125us/step - loss: 0.4423 - acc: 0.8438 - val_loss: 0.3180 - val_acc: 0.9005\n",
      "Epoch 4/30\n",
      "12730/12730 [==============================] - 2s 125us/step - loss: 0.2386 - acc: 0.9220 - val_loss: 0.1783 - val_acc: 0.9451\n",
      "Epoch 5/30\n",
      "12730/12730 [==============================] - 2s 124us/step - loss: 0.1185 - acc: 0.9672 - val_loss: 0.0734 - val_acc: 0.9794\n",
      "Epoch 6/30\n",
      "12730/12730 [==============================] - 2s 124us/step - loss: 0.0517 - acc: 0.9864 - val_loss: 0.0451 - val_acc: 0.9868\n",
      "Epoch 7/30\n",
      "12730/12730 [==============================] - 2s 125us/step - loss: 0.0316 - acc: 0.9921 - val_loss: 0.0319 - val_acc: 0.9944\n",
      "Epoch 8/30\n",
      "12730/12730 [==============================] - 2s 126us/step - loss: 0.0192 - acc: 0.9955 - val_loss: 0.0272 - val_acc: 0.9938\n",
      "Epoch 9/30\n",
      "12730/12730 [==============================] - 2s 125us/step - loss: 0.0150 - acc: 0.9974 - val_loss: 0.0277 - val_acc: 0.9943\n",
      "Epoch 10/30\n",
      "12730/12730 [==============================] - 2s 124us/step - loss: 0.0126 - acc: 0.9977 - val_loss: 0.0320 - val_acc: 0.9876\n",
      "Epoch 11/30\n",
      "12730/12730 [==============================] - 2s 124us/step - loss: 0.0183 - acc: 0.9962 - val_loss: 0.0293 - val_acc: 0.9915\n",
      "Epoch 12/30\n",
      "12730/12730 [==============================] - 2s 124us/step - loss: 0.0097 - acc: 0.9980 - val_loss: 0.0195 - val_acc: 0.9949\n",
      "Epoch 13/30\n",
      "12730/12730 [==============================] - 2s 126us/step - loss: 0.0069 - acc: 0.9985 - val_loss: 0.0184 - val_acc: 0.9952\n",
      "Epoch 14/30\n",
      "12730/12730 [==============================] - 2s 125us/step - loss: 0.0068 - acc: 0.9985 - val_loss: 0.0227 - val_acc: 0.9927\n",
      "Epoch 15/30\n",
      "12730/12730 [==============================] - 2s 125us/step - loss: 0.0073 - acc: 0.9980 - val_loss: 0.0193 - val_acc: 0.9946\n",
      "Epoch 16/30\n",
      "12730/12730 [==============================] - 2s 126us/step - loss: 0.0058 - acc: 0.9984 - val_loss: 0.0201 - val_acc: 0.9946\n",
      "Epoch 17/30\n",
      "12730/12730 [==============================] - 2s 125us/step - loss: 0.0063 - acc: 0.9982 - val_loss: 0.0209 - val_acc: 0.9952\n",
      "Epoch 18/30\n",
      "12730/12730 [==============================] - 2s 125us/step - loss: 0.0081 - acc: 0.9981 - val_loss: 0.0351 - val_acc: 0.9900\n",
      "Epoch 19/30\n",
      "12730/12730 [==============================] - 2s 123us/step - loss: 0.0103 - acc: 0.9980 - val_loss: 0.0409 - val_acc: 0.9904\n",
      "Epoch 20/30\n",
      "12730/12730 [==============================] - 2s 123us/step - loss: 0.0117 - acc: 0.9983 - val_loss: 0.0316 - val_acc: 0.9941\n",
      "Epoch 21/30\n",
      "12730/12730 [==============================] - 2s 126us/step - loss: 0.0069 - acc: 0.9987 - val_loss: 0.0186 - val_acc: 0.9947\n",
      "Epoch 22/30\n",
      "12730/12730 [==============================] - 2s 124us/step - loss: 0.0044 - acc: 0.9989 - val_loss: 0.0219 - val_acc: 0.9943\n",
      "Epoch 23/30\n",
      "12730/12730 [==============================] - 2s 124us/step - loss: 0.0046 - acc: 0.9985 - val_loss: 0.0180 - val_acc: 0.9938\n",
      "Epoch 24/30\n",
      "12730/12730 [==============================] - 2s 125us/step - loss: 0.0077 - acc: 0.9984 - val_loss: 0.0249 - val_acc: 0.9954\n",
      "Epoch 25/30\n",
      "12730/12730 [==============================] - 2s 126us/step - loss: 0.0060 - acc: 0.9984 - val_loss: 0.0271 - val_acc: 0.9925\n",
      "Epoch 26/30\n",
      "12730/12730 [==============================] - 2s 124us/step - loss: 0.0059 - acc: 0.9985 - val_loss: 0.0184 - val_acc: 0.9949\n",
      "Epoch 27/30\n",
      "12730/12730 [==============================] - 2s 123us/step - loss: 0.0036 - acc: 0.9988 - val_loss: 0.0225 - val_acc: 0.9938\n",
      "Epoch 28/30\n",
      "12730/12730 [==============================] - 2s 125us/step - loss: 0.0224 - acc: 0.9956 - val_loss: 0.0527 - val_acc: 0.9829\n",
      "Epoch 29/30\n",
      "12730/12730 [==============================] - 2s 124us/step - loss: 0.0832 - acc: 0.9840 - val_loss: 0.0436 - val_acc: 0.9887\n",
      "Epoch 30/30\n",
      "12730/12730 [==============================] - 2s 125us/step - loss: 0.0151 - acc: 0.9969 - val_loss: 0.0282 - val_acc: 0.9931\n"
     ]
    }
   ],
   "source": [
    "history = model.fit(x_train, y_train,\n",
    "         validation_data=[x_test, y_test],\n",
    "         epochs=epoch,\n",
    "         batch_size=batch_size,\n",
    "         verbose=1           \n",
    "         )"
   ]
  },
  {
   "cell_type": "markdown",
   "metadata": {},
   "source": [
    "- テストデータで評価．    "
   ]
  },
  {
   "cell_type": "code",
   "execution_count": 72,
   "metadata": {},
   "outputs": [
    {
     "name": "stdout",
     "output_type": "stream",
     "text": [
      "6270/6270 [==============================] - 0s 43us/step\n",
      "Testing Accuracy: 0.9931419451841327\n"
     ]
    }
   ],
   "source": [
    "score = model.score(x_test, y_test)\n",
    "#print('Test Loss:', score[0])\n",
    "#print('Test accuracy:', score[1])\n",
    "print('Testing Accuracy:',score)"
   ]
  },
  {
   "cell_type": "markdown",
   "metadata": {},
   "source": [
    "- acuurayは99.31%であった．"
   ]
  },
  {
   "cell_type": "markdown",
   "metadata": {},
   "source": [
    "- モデルは以下．\n",
    "    - 入力層\n",
    "    - 畳み込み層3つ\n",
    "    - Flatten層（1次元に）\n",
    "    - 全結合層3つ"
   ]
  },
  {
   "cell_type": "code",
   "execution_count": 71,
   "metadata": {
    "scrolled": true
   },
   "outputs": [
    {
     "name": "stdout",
     "output_type": "stream",
     "text": [
      "_________________________________________________________________\n",
      "Layer (type)                 Output Shape              Param #   \n",
      "=================================================================\n",
      "input_14 (InputLayer)        (None, 26, 26, 3)         0         \n",
      "_________________________________________________________________\n",
      "conv2d_35 (Conv2D)           (None, 26, 26, 16)        448       \n",
      "_________________________________________________________________\n",
      "conv2d_36 (Conv2D)           (None, 26, 26, 64)        9280      \n",
      "_________________________________________________________________\n",
      "conv2d_37 (Conv2D)           (None, 26, 26, 128)       73856     \n",
      "_________________________________________________________________\n",
      "flatten_12 (Flatten)         (None, 86528)             0         \n",
      "_________________________________________________________________\n",
      "dense_34 (Dense)             (None, 512)               44302848  \n",
      "_________________________________________________________________\n",
      "dense_35 (Dense)             (None, 128)               65664     \n",
      "_________________________________________________________________\n",
      "dense_36 (Dense)             (None, 9)                 1161      \n",
      "=================================================================\n",
      "Total params: 44,453,257\n",
      "Trainable params: 44,453,257\n",
      "Non-trainable params: 0\n",
      "_________________________________________________________________\n"
     ]
    }
   ],
   "source": [
    "model.model.summary()"
   ]
  },
  {
   "cell_type": "markdown",
   "metadata": {},
   "source": [
    "- accuracyグラフ，lossグラフは以下．\n",
    "- 5epoch程度で落ち着いている．"
   ]
  },
  {
   "cell_type": "code",
   "execution_count": 73,
   "metadata": {},
   "outputs": [
    {
     "data": {
      "image/png": "[encoded data removed]",
      "text/plain": [
       "<Figure size 432x288 with 1 Axes>"
      ]
     },
     "metadata": {},
     "output_type": "display_data"
    },
    {
     "data": {
      "image/png": "[encoded data removed]",
      "text/plain": [
       "<Figure size 432x288 with 1 Axes>"
      ]
     },
     "metadata": {},
     "output_type": "display_data"
    }
   ],
   "source": [
    "# accuracy plot \n",
    "plt.plot(history.history['acc'])\n",
    "plt.plot(history.history['val_acc'])\n",
    "plt.title('model accuracy')\n",
    "plt.ylabel('accuracy')\n",
    "plt.xlabel('epoch')\n",
    "plt.legend(['train', 'test'], loc='upper left')\n",
    "plt.show()\n",
    "\n",
    "# loss plot\n",
    "plt.plot(history.history['loss'])\n",
    "plt.plot(history.history['val_loss'])\n",
    "plt.title('model loss')\n",
    "plt.ylabel('loss')\n",
    "plt.xlabel('epoch')\n",
    "plt.legend(['train', 'test'], loc='upper left')\n",
    "plt.show()"
   ]
  }
 ],
 "metadata": {
  "kernelspec": {
   "display_name": "Python 3 (Anaconda)",
   "language": "python",
   "name": "python3_anaconda"
  },
  "language_info": {
   "codemirror_mode": {
    "name": "ipython",
    "version": 3
   },
   "file_extension": ".py",
   "mimetype": "text/x-python",
   "name": "python",
   "nbconvert_exporter": "python",
   "pygments_lexer": "ipython3",
   "version": "3.6.8"
  }
 },
 "nbformat": 4,
 "nbformat_minor": 2
}
