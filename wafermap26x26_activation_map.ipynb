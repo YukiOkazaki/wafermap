{
 "cells": [
  {
   "cell_type": "markdown",
   "metadata": {},
   "source": [
    "## 26x26のウエハに限定して機械学習させる\n",
    "- 活性化マップの表示"
   ]
  },
  {
   "cell_type": "markdown",
   "metadata": {},
   "source": [
    "### import，入力データの読み込み"
   ]
  },
  {
   "cell_type": "code",
   "execution_count": 1,
   "metadata": {},
   "outputs": [
    {
     "name": "stdout",
     "output_type": "stream",
     "text": [
      "../input/LSWMD.pkl\n"
     ]
    }
   ],
   "source": [
    "# This Python 3 environment comes with many helpful analytics libraries installed\n",
    "# It is defined by the kaggle/python docker image: https://github.com/kaggle/docker-python\n",
    "# For example, here's several helpful packages to load in \n",
    "\n",
    "import numpy as np # linear algebra\n",
    "import pandas as pd # data processing, CSV file I/O (e.g. pd.read_csv)\n",
    "\n",
    "# Input data files are available in the \"../input/\" directory.\n",
    "# For example, running this (by clicking run or pressing Shift+Enter) will list all files under the input directory\n",
    "\n",
    "import os\n",
    "for dirname, _, filenames in os.walk('../input'):\n",
    "    for filename in filenames:\n",
    "        print(os.path.join(dirname, filename))\n",
    "\n",
    "# Any results you write to the current directory are saved as output."
   ]
  },
  {
   "cell_type": "code",
   "execution_count": 2,
   "metadata": {
    "scrolled": true
   },
   "outputs": [
    {
     "name": "stderr",
     "output_type": "stream",
     "text": [
      "GPU: 1\n",
      "Using TensorFlow backend.\n"
     ]
    },
    {
     "name": "stdout",
     "output_type": "stream",
     "text": [
      "['LSWMD.pkl']\n"
     ]
    }
   ],
   "source": [
    "import os\n",
    "from os.path import join\n",
    "\n",
    "import numpy as np\n",
    "import pandas as pd\n",
    "import cv2\n",
    "\n",
    "import tensorflow as tf\n",
    "import keras\n",
    "from keras import layers, Input, models\n",
    "from keras.utils import to_categorical\n",
    "from keras.wrappers.scikit_learn import KerasClassifier \n",
    "from sklearn.model_selection import KFold \n",
    "from sklearn.model_selection import cross_val_score\n",
    "\n",
    "from sklearn.model_selection import train_test_split\n",
    "\n",
    "import matplotlib.pyplot as plt\n",
    "\n",
    "datapath = join('data', 'wafer')\n",
    "\n",
    "print(os.listdir(\"../input\"))\n",
    "import warnings\n",
    "warnings.filterwarnings(\"ignore\")"
   ]
  },
  {
   "cell_type": "markdown",
   "metadata": {},
   "source": [
    "### データについて"
   ]
  },
  {
   "cell_type": "code",
   "execution_count": 3,
   "metadata": {
    "scrolled": true
   },
   "outputs": [
    {
     "name": "stdout",
     "output_type": "stream",
     "text": [
      "<class 'pandas.core.frame.DataFrame'>\n",
      "RangeIndex: 811457 entries, 0 to 811456\n",
      "Data columns (total 6 columns):\n",
      "waferMap          811457 non-null object\n",
      "dieSize           811457 non-null float64\n",
      "lotName           811457 non-null object\n",
      "waferIndex        811457 non-null float64\n",
      "trianTestLabel    811457 non-null object\n",
      "failureType       811457 non-null object\n",
      "dtypes: float64(2), object(4)\n",
      "memory usage: 37.1+ MB\n"
     ]
    }
   ],
   "source": [
    "df=pd.read_pickle(\"../input/LSWMD.pkl\")\n",
    "df.info()"
   ]
  },
  {
   "cell_type": "markdown",
   "metadata": {},
   "source": [
    "- データセットは811,457枚のウエハマップから構成されている．"
   ]
  },
  {
   "cell_type": "code",
   "execution_count": 4,
   "metadata": {
    "scrolled": true
   },
   "outputs": [
    {
     "data": {
      "text/html": [
       "<div>\n",
       "<style scoped>\n",
       "    .dataframe tbody tr th:only-of-type {\n",
       "        vertical-align: middle;\n",
       "    }\n",
       "\n",
       "    .dataframe tbody tr th {\n",
       "        vertical-align: top;\n",
       "    }\n",
       "\n",
       "    .dataframe thead th {\n",
       "        text-align: right;\n",
       "    }\n",
       "</style>\n",
       "<table border=\"1\" class=\"dataframe\">\n",
       "  <thead>\n",
       "    <tr style=\"text-align: right;\">\n",
       "      <th></th>\n",
       "      <th>waferMap</th>\n",
       "      <th>dieSize</th>\n",
       "      <th>lotName</th>\n",
       "      <th>waferIndex</th>\n",
       "      <th>trianTestLabel</th>\n",
       "      <th>failureType</th>\n",
       "    </tr>\n",
       "  </thead>\n",
       "  <tbody>\n",
       "    <tr>\n",
       "      <th>811452</th>\n",
       "      <td>[[0, 0, 0, 0, 0, 0, 0, 0, 0, 0, 0, 1, 2, 1, 1,...</td>\n",
       "      <td>600.0</td>\n",
       "      <td>lot47542</td>\n",
       "      <td>23.0</td>\n",
       "      <td>[[Test]]</td>\n",
       "      <td>[[Edge-Ring]]</td>\n",
       "    </tr>\n",
       "    <tr>\n",
       "      <th>811453</th>\n",
       "      <td>[[0, 0, 0, 0, 0, 0, 0, 0, 0, 0, 0, 2, 2, 1, 1,...</td>\n",
       "      <td>600.0</td>\n",
       "      <td>lot47542</td>\n",
       "      <td>24.0</td>\n",
       "      <td>[[Test]]</td>\n",
       "      <td>[[Edge-Loc]]</td>\n",
       "    </tr>\n",
       "    <tr>\n",
       "      <th>811454</th>\n",
       "      <td>[[0, 0, 0, 0, 0, 0, 0, 0, 0, 0, 0, 1, 2, 1, 1,...</td>\n",
       "      <td>600.0</td>\n",
       "      <td>lot47542</td>\n",
       "      <td>25.0</td>\n",
       "      <td>[[Test]]</td>\n",
       "      <td>[[Edge-Ring]]</td>\n",
       "    </tr>\n",
       "    <tr>\n",
       "      <th>811455</th>\n",
       "      <td>[[0, 0, 0, 0, 0, 0, 0, 0, 0, 0, 0, 1, 1, 1, 1,...</td>\n",
       "      <td>600.0</td>\n",
       "      <td>lot47543</td>\n",
       "      <td>1.0</td>\n",
       "      <td>[]</td>\n",
       "      <td>[]</td>\n",
       "    </tr>\n",
       "    <tr>\n",
       "      <th>811456</th>\n",
       "      <td>[[0, 0, 0, 0, 0, 0, 0, 0, 0, 0, 0, 1, 2, 1, 1,...</td>\n",
       "      <td>600.0</td>\n",
       "      <td>lot47543</td>\n",
       "      <td>2.0</td>\n",
       "      <td>[]</td>\n",
       "      <td>[]</td>\n",
       "    </tr>\n",
       "  </tbody>\n",
       "</table>\n",
       "</div>"
      ],
      "text/plain": [
       "                                                 waferMap  dieSize   lotName  \\\n",
       "811452  [[0, 0, 0, 0, 0, 0, 0, 0, 0, 0, 0, 1, 2, 1, 1,...    600.0  lot47542   \n",
       "811453  [[0, 0, 0, 0, 0, 0, 0, 0, 0, 0, 0, 2, 2, 1, 1,...    600.0  lot47542   \n",
       "811454  [[0, 0, 0, 0, 0, 0, 0, 0, 0, 0, 0, 1, 2, 1, 1,...    600.0  lot47542   \n",
       "811455  [[0, 0, 0, 0, 0, 0, 0, 0, 0, 0, 0, 1, 1, 1, 1,...    600.0  lot47543   \n",
       "811456  [[0, 0, 0, 0, 0, 0, 0, 0, 0, 0, 0, 1, 2, 1, 1,...    600.0  lot47543   \n",
       "\n",
       "        waferIndex trianTestLabel    failureType  \n",
       "811452        23.0       [[Test]]  [[Edge-Ring]]  \n",
       "811453        24.0       [[Test]]   [[Edge-Loc]]  \n",
       "811454        25.0       [[Test]]  [[Edge-Ring]]  \n",
       "811455         1.0             []             []  \n",
       "811456         2.0             []             []  "
      ]
     },
     "execution_count": 4,
     "metadata": {},
     "output_type": "execute_result"
    }
   ],
   "source": [
    "df.tail()"
   ]
  },
  {
   "cell_type": "markdown",
   "metadata": {},
   "source": [
    "- ウエハマップのそれぞれの列から得られる情報はないが，インスタンスごとにダイサイズが異なることがわかる．\n",
    "- ウエハマップのダイサイズをチェックするための変数`WaferMapDim`を定義する．（縦，横の値）"
   ]
  },
  {
   "cell_type": "code",
   "execution_count": 5,
   "metadata": {},
   "outputs": [],
   "source": [
    "df = df.drop(['waferIndex'], axis = 1)"
   ]
  },
  {
   "cell_type": "code",
   "execution_count": 6,
   "metadata": {},
   "outputs": [
    {
     "data": {
      "text/html": [
       "<div>\n",
       "<style scoped>\n",
       "    .dataframe tbody tr th:only-of-type {\n",
       "        vertical-align: middle;\n",
       "    }\n",
       "\n",
       "    .dataframe tbody tr th {\n",
       "        vertical-align: top;\n",
       "    }\n",
       "\n",
       "    .dataframe thead th {\n",
       "        text-align: right;\n",
       "    }\n",
       "</style>\n",
       "<table border=\"1\" class=\"dataframe\">\n",
       "  <thead>\n",
       "    <tr style=\"text-align: right;\">\n",
       "      <th></th>\n",
       "      <th>waferMap</th>\n",
       "      <th>dieSize</th>\n",
       "      <th>lotName</th>\n",
       "      <th>trianTestLabel</th>\n",
       "      <th>failureType</th>\n",
       "      <th>waferMapDim</th>\n",
       "    </tr>\n",
       "  </thead>\n",
       "  <tbody>\n",
       "    <tr>\n",
       "      <th>302426</th>\n",
       "      <td>[[0, 0, 0, 0, 0, 0, 0, 0, 0, 0, 0, 0, 0, 0, 0,...</td>\n",
       "      <td>4096.0</td>\n",
       "      <td>lot18500</td>\n",
       "      <td>[]</td>\n",
       "      <td>[]</td>\n",
       "      <td>(72, 72)</td>\n",
       "    </tr>\n",
       "    <tr>\n",
       "      <th>256183</th>\n",
       "      <td>[[0, 0, 0, 0, 0, 0, 0, 0, 0, 0, 0, 0, 0, 0, 0,...</td>\n",
       "      <td>1594.0</td>\n",
       "      <td>lot15869</td>\n",
       "      <td>[]</td>\n",
       "      <td>[]</td>\n",
       "      <td>(46, 45)</td>\n",
       "    </tr>\n",
       "    <tr>\n",
       "      <th>559491</th>\n",
       "      <td>[[0, 0, 0, 0, 0, 0, 0, 0, 0, 0, 0, 0, 1, 1, 1,...</td>\n",
       "      <td>710.0</td>\n",
       "      <td>lot35184</td>\n",
       "      <td>[]</td>\n",
       "      <td>[]</td>\n",
       "      <td>(32, 29)</td>\n",
       "    </tr>\n",
       "    <tr>\n",
       "      <th>158555</th>\n",
       "      <td>[[0, 0, 0, 0, 0, 0, 0, 0, 0, 0, 0, 0, 0, 0, 0,...</td>\n",
       "      <td>3605.0</td>\n",
       "      <td>lot10219</td>\n",
       "      <td>[]</td>\n",
       "      <td>[]</td>\n",
       "      <td>(75, 61)</td>\n",
       "    </tr>\n",
       "    <tr>\n",
       "      <th>599109</th>\n",
       "      <td>[[0, 0, 0, 0, 0, 0, 0, 0, 0, 0, 0, 0, 0, 0, 0,...</td>\n",
       "      <td>1513.0</td>\n",
       "      <td>lot37627</td>\n",
       "      <td>[]</td>\n",
       "      <td>[]</td>\n",
       "      <td>(49, 39)</td>\n",
       "    </tr>\n",
       "  </tbody>\n",
       "</table>\n",
       "</div>"
      ],
      "text/plain": [
       "                                                 waferMap  dieSize   lotName  \\\n",
       "302426  [[0, 0, 0, 0, 0, 0, 0, 0, 0, 0, 0, 0, 0, 0, 0,...   4096.0  lot18500   \n",
       "256183  [[0, 0, 0, 0, 0, 0, 0, 0, 0, 0, 0, 0, 0, 0, 0,...   1594.0  lot15869   \n",
       "559491  [[0, 0, 0, 0, 0, 0, 0, 0, 0, 0, 0, 0, 1, 1, 1,...    710.0  lot35184   \n",
       "158555  [[0, 0, 0, 0, 0, 0, 0, 0, 0, 0, 0, 0, 0, 0, 0,...   3605.0  lot10219   \n",
       "599109  [[0, 0, 0, 0, 0, 0, 0, 0, 0, 0, 0, 0, 0, 0, 0,...   1513.0  lot37627   \n",
       "\n",
       "       trianTestLabel failureType waferMapDim  \n",
       "302426             []          []    (72, 72)  \n",
       "256183             []          []    (46, 45)  \n",
       "559491             []          []    (32, 29)  \n",
       "158555             []          []    (75, 61)  \n",
       "599109             []          []    (49, 39)  "
      ]
     },
     "execution_count": 6,
     "metadata": {},
     "output_type": "execute_result"
    }
   ],
   "source": [
    "def find_dim(x):\n",
    "    dim0=np.size(x,axis=0)\n",
    "    dim1=np.size(x,axis=1)\n",
    "    return dim0,dim1\n",
    "df['waferMapDim']=df.waferMap.apply(find_dim)\n",
    "df.sample(5)"
   ]
  },
  {
   "cell_type": "markdown",
   "metadata": {},
   "source": [
    "- 不良パターンと学習orテストラベルを数値で表す．"
   ]
  },
  {
   "cell_type": "code",
   "execution_count": 7,
   "metadata": {},
   "outputs": [],
   "source": [
    "df['failureNum']=df.failureType\n",
    "df['trainTestNum']=df.trianTestLabel\n",
    "mapping_type={'Center':0,'Donut':1,'Edge-Loc':2,'Edge-Ring':3,'Loc':4,'Random':5,'Scratch':6,'Near-full':7,'none':8}\n",
    "mapping_traintest={'Training':0,'Test':1}\n",
    "df=df.replace({'failureNum':mapping_type, 'trainTestNum':mapping_traintest})"
   ]
  },
  {
   "cell_type": "code",
   "execution_count": 8,
   "metadata": {},
   "outputs": [
    {
     "data": {
      "text/plain": [
       "811457"
      ]
     },
     "execution_count": 8,
     "metadata": {},
     "output_type": "execute_result"
    }
   ],
   "source": [
    "tol_wafers = df.shape[0]\n",
    "tol_wafers"
   ]
  },
  {
   "cell_type": "code",
   "execution_count": 9,
   "metadata": {},
   "outputs": [
    {
     "data": {
      "text/plain": [
       "(172950, 25519, 147431)"
      ]
     },
     "execution_count": 9,
     "metadata": {},
     "output_type": "execute_result"
    }
   ],
   "source": [
    "df_withlabel = df[(df['failureNum']>=0) & (df['failureNum']<=8)]\n",
    "df_withlabel =df_withlabel.reset_index()\n",
    "df_withpattern = df[(df['failureNum']>=0) & (df['failureNum']<=7)]\n",
    "df_withpattern = df_withpattern.reset_index()\n",
    "df_nonpattern = df[(df['failureNum']==8)]\n",
    "df_withlabel.shape[0], df_withpattern.shape[0], df_nonpattern.shape[0]"
   ]
  },
  {
   "cell_type": "code",
   "execution_count": 10,
   "metadata": {},
   "outputs": [
    {
     "data": {
      "image/png": "[encoded data removed]",
      "text/plain": [
       "<Figure size 1440x324 with 2 Axes>"
      ]
     },
     "metadata": {},
     "output_type": "display_data"
    }
   ],
   "source": [
    "import matplotlib.pyplot as plt\n",
    "%matplotlib inline\n",
    "\n",
    "from matplotlib import gridspec\n",
    "fig = plt.figure(figsize=(20, 4.5)) \n",
    "gs = gridspec.GridSpec(1, 2, width_ratios=[1, 2.5]) \n",
    "ax1 = plt.subplot(gs[0])\n",
    "ax2 = plt.subplot(gs[1])\n",
    "\n",
    "no_wafers=[tol_wafers-df_withlabel.shape[0], df_withpattern.shape[0], df_nonpattern.shape[0]]\n",
    "\n",
    "colors = ['silver', 'orange', 'gold']\n",
    "explode = (0.1, 0, 0)  # explode 1st slice\n",
    "labels = ['no-label','label&pattern','label&non-pattern']\n",
    "ax1.pie(no_wafers, explode=explode, labels=labels, colors=colors, autopct='%1.1f%%', shadow=True, startangle=140)\n",
    "\n",
    "uni_pattern=np.unique(df_withpattern.failureNum, return_counts=True)\n",
    "labels2 = ['','Center','Donut','Edge-Loc','Edge-Ring','Loc','Random','Scratch','Near-full']\n",
    "ax2.bar(uni_pattern[0],uni_pattern[1]/df_withpattern.shape[0], color='gold', align='center', alpha=0.9)\n",
    "ax2.set_title(\"failure type frequency\")\n",
    "ax2.set_ylabel(\"% of pattern wafers\")\n",
    "ax2.set_xticklabels(labels2)\n",
    "\n",
    "plt.show()"
   ]
  },
  {
   "cell_type": "markdown",
   "metadata": {},
   "source": [
    "- 結果として，172,950枚のウエハは不良ラベルを持ち，78.7%のウエハは不良ラベルがない．\n",
    "- また，ラベル付きのウエハのうち，実際に不良パターンがあるのは全体のわずか3.1%(25,519枚)であり，残りの147,431枚のウエハは不良パターンが`none`となっている．\n",
    "- その結果，実際に不良パターンがあるのは3.1%(25,519枚）だけであり，計算量は大幅に削減される．\n",
    "- 上の2つ目の図から，データセットは高い不均衡分布を示していることがわかる．"
   ]
  },
  {
   "cell_type": "markdown",
   "metadata": {},
   "source": [
    "### 26x26のデータに対して処理"
   ]
  },
  {
   "cell_type": "code",
   "execution_count": 11,
   "metadata": {},
   "outputs": [],
   "source": [
    "sub_df = df.loc[df['waferMapDim'] == (26, 26)]\n",
    "sub_wafer = sub_df['waferMap'].values\n",
    "\n",
    "sw = np.ones((1, 26, 26))\n",
    "label = list()\n",
    "\n",
    "for i in range(len(sub_df)):\n",
    "    # skip null label\n",
    "    if len(sub_df.iloc[i,:]['failureType']) == 0:\n",
    "        continue\n",
    "    sw = np.concatenate((sw, sub_df.iloc[i,:]['waferMap'].reshape(1, 26, 26)))\n",
    "    label.append(sub_df.iloc[i,:]['failureType'][0][0])"
   ]
  },
  {
   "cell_type": "code",
   "execution_count": 12,
   "metadata": {
    "scrolled": true
   },
   "outputs": [
    {
     "data": {
      "text/html": [
       "<div>\n",
       "<style scoped>\n",
       "    .dataframe tbody tr th:only-of-type {\n",
       "        vertical-align: middle;\n",
       "    }\n",
       "\n",
       "    .dataframe tbody tr th {\n",
       "        vertical-align: top;\n",
       "    }\n",
       "\n",
       "    .dataframe thead th {\n",
       "        text-align: right;\n",
       "    }\n",
       "</style>\n",
       "<table border=\"1\" class=\"dataframe\">\n",
       "  <thead>\n",
       "    <tr style=\"text-align: right;\">\n",
       "      <th></th>\n",
       "      <th>waferMap</th>\n",
       "      <th>dieSize</th>\n",
       "      <th>lotName</th>\n",
       "      <th>trianTestLabel</th>\n",
       "      <th>failureType</th>\n",
       "      <th>waferMapDim</th>\n",
       "      <th>failureNum</th>\n",
       "      <th>trainTestNum</th>\n",
       "    </tr>\n",
       "  </thead>\n",
       "  <tbody>\n",
       "    <tr>\n",
       "      <th>150</th>\n",
       "      <td>[[0, 0, 0, 0, 0, 0, 0, 0, 0, 0, 2, 2, 1, 1, 2,...</td>\n",
       "      <td>533.0</td>\n",
       "      <td>lot7</td>\n",
       "      <td>[[Training]]</td>\n",
       "      <td>[[none]]</td>\n",
       "      <td>(26, 26)</td>\n",
       "      <td>8</td>\n",
       "      <td>0</td>\n",
       "    </tr>\n",
       "    <tr>\n",
       "      <th>151</th>\n",
       "      <td>[[0, 0, 0, 0, 0, 0, 0, 0, 0, 0, 2, 1, 1, 1, 1,...</td>\n",
       "      <td>533.0</td>\n",
       "      <td>lot7</td>\n",
       "      <td>[[Training]]</td>\n",
       "      <td>[[none]]</td>\n",
       "      <td>(26, 26)</td>\n",
       "      <td>8</td>\n",
       "      <td>0</td>\n",
       "    </tr>\n",
       "    <tr>\n",
       "      <th>152</th>\n",
       "      <td>[[0, 0, 0, 0, 0, 0, 0, 0, 0, 0, 1, 2, 1, 1, 1,...</td>\n",
       "      <td>533.0</td>\n",
       "      <td>lot7</td>\n",
       "      <td>[[Training]]</td>\n",
       "      <td>[[none]]</td>\n",
       "      <td>(26, 26)</td>\n",
       "      <td>8</td>\n",
       "      <td>0</td>\n",
       "    </tr>\n",
       "    <tr>\n",
       "      <th>153</th>\n",
       "      <td>[[0, 0, 0, 0, 0, 0, 0, 0, 0, 0, 1, 2, 2, 1, 1,...</td>\n",
       "      <td>533.0</td>\n",
       "      <td>lot7</td>\n",
       "      <td>[[Training]]</td>\n",
       "      <td>[[none]]</td>\n",
       "      <td>(26, 26)</td>\n",
       "      <td>8</td>\n",
       "      <td>0</td>\n",
       "    </tr>\n",
       "    <tr>\n",
       "      <th>154</th>\n",
       "      <td>[[0, 0, 0, 0, 0, 0, 0, 0, 0, 0, 2, 2, 2, 2, 2,...</td>\n",
       "      <td>533.0</td>\n",
       "      <td>lot7</td>\n",
       "      <td>[[Training]]</td>\n",
       "      <td>[[none]]</td>\n",
       "      <td>(26, 26)</td>\n",
       "      <td>8</td>\n",
       "      <td>0</td>\n",
       "    </tr>\n",
       "  </tbody>\n",
       "</table>\n",
       "</div>"
      ],
      "text/plain": [
       "                                              waferMap  dieSize lotName  \\\n",
       "150  [[0, 0, 0, 0, 0, 0, 0, 0, 0, 0, 2, 2, 1, 1, 2,...    533.0    lot7   \n",
       "151  [[0, 0, 0, 0, 0, 0, 0, 0, 0, 0, 2, 1, 1, 1, 1,...    533.0    lot7   \n",
       "152  [[0, 0, 0, 0, 0, 0, 0, 0, 0, 0, 1, 2, 1, 1, 1,...    533.0    lot7   \n",
       "153  [[0, 0, 0, 0, 0, 0, 0, 0, 0, 0, 1, 2, 2, 1, 1,...    533.0    lot7   \n",
       "154  [[0, 0, 0, 0, 0, 0, 0, 0, 0, 0, 2, 2, 2, 2, 2,...    533.0    lot7   \n",
       "\n",
       "    trianTestLabel failureType waferMapDim failureNum trainTestNum  \n",
       "150   [[Training]]    [[none]]    (26, 26)          8            0  \n",
       "151   [[Training]]    [[none]]    (26, 26)          8            0  \n",
       "152   [[Training]]    [[none]]    (26, 26)          8            0  \n",
       "153   [[Training]]    [[none]]    (26, 26)          8            0  \n",
       "154   [[Training]]    [[none]]    (26, 26)          8            0  "
      ]
     },
     "execution_count": 12,
     "metadata": {},
     "output_type": "execute_result"
    }
   ],
   "source": [
    "sub_df.head()"
   ]
  },
  {
   "cell_type": "code",
   "execution_count": 13,
   "metadata": {},
   "outputs": [],
   "source": [
    "x = sw[1:]\n",
    "y = np.array(label).reshape((-1,1))"
   ]
  },
  {
   "cell_type": "code",
   "execution_count": 14,
   "metadata": {},
   "outputs": [],
   "source": [
    "mask_x = np.zeros((24, 24))\n",
    "dummy_x = cv2.resize(x[0], (24,24))\n",
    "mask_x[dummy_x == 1] = 1 \n",
    "mask_x[dummy_x == 2] = 1 \n",
    "mask_x = mask_x.reshape((1, 24,24))"
   ]
  },
  {
   "cell_type": "code",
   "execution_count": 15,
   "metadata": {},
   "outputs": [
    {
     "name": "stdout",
     "output_type": "stream",
     "text": [
      "x shape : (14366, 26, 26), y shape : (14366, 1)\n"
     ]
    }
   ],
   "source": [
    "print('x shape : {}, y shape : {}'.format(x.shape, y.shape))"
   ]
  },
  {
   "cell_type": "markdown",
   "metadata": {},
   "source": [
    "- 26x26のウエハが14366枚抽出できた．"
   ]
  },
  {
   "cell_type": "markdown",
   "metadata": {},
   "source": [
    "- 最初のデータを可視化してみる．"
   ]
  },
  {
   "cell_type": "code",
   "execution_count": 16,
   "metadata": {},
   "outputs": [
    {
     "data": {
      "image/png": "[encoded data removed]",
      "text/plain": [
       "<Figure size 432x288 with 1 Axes>"
      ]
     },
     "metadata": {},
     "output_type": "display_data"
    },
    {
     "name": "stdout",
     "output_type": "stream",
     "text": [
      "Faulty case : ['none'] \n"
     ]
    }
   ],
   "source": [
    "# plot 1st data\n",
    "plt.imshow(x[0])\n",
    "plt.show()\n",
    "\n",
    "# check faulty case\n",
    "print('Faulty case : {} '.format(y[0]))"
   ]
  },
  {
   "cell_type": "code",
   "execution_count": 17,
   "metadata": {},
   "outputs": [
    {
     "data": {
      "text/plain": [
       "(14366, 26, 26, 1)"
      ]
     },
     "execution_count": 17,
     "metadata": {},
     "output_type": "execute_result"
    }
   ],
   "source": [
    "x = x.reshape((-1, 26, 26, 1))\n",
    "x.shape"
   ]
  },
  {
   "cell_type": "code",
   "execution_count": 18,
   "metadata": {
    "scrolled": true
   },
   "outputs": [
    {
     "name": "stdout",
     "output_type": "stream",
     "text": [
      "Faulty case list : ['Center' 'Donut' 'Edge-Loc' 'Edge-Ring' 'Loc' 'Near-full' 'Random'\n",
      " 'Scratch' 'none']\n"
     ]
    }
   ],
   "source": [
    "faulty_case = np.unique(y)\n",
    "print('Faulty case list : {}'.format(faulty_case))"
   ]
  },
  {
   "cell_type": "code",
   "execution_count": 19,
   "metadata": {},
   "outputs": [],
   "source": [
    "faulty_case_dict =dict()"
   ]
  },
  {
   "cell_type": "code",
   "execution_count": 20,
   "metadata": {},
   "outputs": [
    {
     "name": "stdout",
     "output_type": "stream",
     "text": [
      "Center : 90\n",
      "Donut : 1\n",
      "Edge-Loc : 296\n",
      "Edge-Ring : 31\n",
      "Loc : 297\n",
      "Near-full : 16\n",
      "Random : 74\n",
      "Scratch : 72\n",
      "none : 13489\n"
     ]
    }
   ],
   "source": [
    "for i, f in enumerate(faulty_case) :\n",
    "    print('{} : {}'.format(f, len(y[y==f])))\n",
    "    faulty_case_dict[i] = f"
   ]
  },
  {
   "cell_type": "markdown",
   "metadata": {},
   "source": [
    "- 14366枚の26x26ウエハの不良パターンは上記のようになっている．"
   ]
  },
  {
   "cell_type": "code",
   "execution_count": 21,
   "metadata": {},
   "outputs": [],
   "source": [
    "new_x = np.zeros((len(x), 26, 26, 3))\n",
    "\n",
    "for w in range(len(x)):\n",
    "    for i in range(26):\n",
    "        for j in range(26):\n",
    "            new_x[w, i, j, int(x[w, i, j])] = 1"
   ]
  },
  {
   "cell_type": "code",
   "execution_count": 22,
   "metadata": {},
   "outputs": [
    {
     "data": {
      "text/plain": [
       "(14366, 26, 26, 3)"
      ]
     },
     "execution_count": 22,
     "metadata": {},
     "output_type": "execute_result"
    }
   ],
   "source": [
    "new_x.shape"
   ]
  },
  {
   "cell_type": "markdown",
   "metadata": {},
   "source": [
    "- new_xを(14366, 26, 26, 3)とし，最後の次元にはウエハの値(0, 1, 2)がそれぞれの値毎にベクトルとしてまとめられている．"
   ]
  },
  {
   "cell_type": "markdown",
   "metadata": {},
   "source": [
    "### オートエンコーダで学習"
   ]
  },
  {
   "cell_type": "markdown",
   "metadata": {},
   "source": [
    "#### エンコーダとデコーダのモデルを学習"
   ]
  },
  {
   "cell_type": "markdown",
   "metadata": {},
   "source": [
    "- モデルの定義をする．"
   ]
  },
  {
   "cell_type": "code",
   "execution_count": 23,
   "metadata": {},
   "outputs": [],
   "source": [
    "# Encoder\n",
    "input_shape = (26, 26, 3)\n",
    "input_tensor = Input(input_shape)\n",
    "encode = layers.Conv2D(64, (3,3), padding='same', activation='relu')(input_tensor)\n",
    "\n",
    "latent_vector = layers.MaxPool2D()(encode)\n",
    "\n",
    "# Decoder\n",
    "decode_layer_1 = layers.Conv2DTranspose(64, (3,3), padding='same', activation='relu')\n",
    "decode_layer_2 = layers.UpSampling2D()\n",
    "output_tensor = layers.Conv2DTranspose(3, (3,3), padding='same', activation='sigmoid')\n",
    "\n",
    "# connect decoder layers\n",
    "decode = decode_layer_1(latent_vector)\n",
    "decode = decode_layer_2(decode)\n",
    "\n",
    "ae = models.Model(input_tensor, output_tensor(decode))\n",
    "ae.compile(optimizer = 'Adam',\n",
    "              loss = 'mse',\n",
    "             )"
   ]
  },
  {
   "cell_type": "code",
   "execution_count": 24,
   "metadata": {},
   "outputs": [
    {
     "name": "stdout",
     "output_type": "stream",
     "text": [
      "_________________________________________________________________\n",
      "Layer (type)                 Output Shape              Param #   \n",
      "=================================================================\n",
      "input_1 (InputLayer)         (None, 26, 26, 3)         0         \n",
      "_________________________________________________________________\n",
      "conv2d_1 (Conv2D)            (None, 26, 26, 64)        1792      \n",
      "_________________________________________________________________\n",
      "max_pooling2d_1 (MaxPooling2 (None, 13, 13, 64)        0         \n",
      "_________________________________________________________________\n",
      "conv2d_transpose_1 (Conv2DTr (None, 13, 13, 64)        36928     \n",
      "_________________________________________________________________\n",
      "up_sampling2d_1 (UpSampling2 (None, 26, 26, 64)        0         \n",
      "_________________________________________________________________\n",
      "conv2d_transpose_2 (Conv2DTr (None, 26, 26, 3)         1731      \n",
      "=================================================================\n",
      "Total params: 40,451\n",
      "Trainable params: 40,451\n",
      "Non-trainable params: 0\n",
      "_________________________________________________________________\n"
     ]
    }
   ],
   "source": [
    "ae.summary()"
   ]
  },
  {
   "cell_type": "markdown",
   "metadata": {},
   "source": [
    "- 層は\n",
    "    - 入力層\n",
    "    - 畳み込み層\n",
    "    - プーリング層\n",
    "    - 転置畳み込み層\n",
    "    - アップサンプリング層"
   ]
  },
  {
   "cell_type": "code",
   "execution_count": 25,
   "metadata": {},
   "outputs": [],
   "source": [
    "epoch=30\n",
    "batch_size=1024"
   ]
  },
  {
   "cell_type": "markdown",
   "metadata": {},
   "source": [
    "- 学習を開始する．\n",
    "- `new_x`を`new_x`にエンコードしデコードする．"
   ]
  },
  {
   "cell_type": "code",
   "execution_count": 26,
   "metadata": {
    "scrolled": true
   },
   "outputs": [
    {
     "name": "stdout",
     "output_type": "stream",
     "text": [
      "Epoch 1/30\n",
      "14366/14366 [==============================] - 1s 103us/step - loss: 0.1628\n",
      "Epoch 2/30\n",
      "14366/14366 [==============================] - 1s 44us/step - loss: 0.1011\n",
      "Epoch 3/30\n",
      "14366/14366 [==============================] - 1s 42us/step - loss: 0.0880\n",
      "Epoch 4/30\n",
      "14366/14366 [==============================] - 1s 43us/step - loss: 0.0769\n",
      "Epoch 5/30\n",
      "14366/14366 [==============================] - 1s 43us/step - loss: 0.0671\n",
      "Epoch 6/30\n",
      "14366/14366 [==============================] - 1s 42us/step - loss: 0.0591\n",
      "Epoch 7/30\n",
      "14366/14366 [==============================] - 1s 42us/step - loss: 0.0524\n",
      "Epoch 8/30\n",
      "14366/14366 [==============================] - 1s 41us/step - loss: 0.0464\n",
      "Epoch 9/30\n",
      "14366/14366 [==============================] - 1s 41us/step - loss: 0.0411\n",
      "Epoch 10/30\n",
      "14366/14366 [==============================] - 1s 43us/step - loss: 0.0362\n",
      "Epoch 11/30\n",
      "14366/14366 [==============================] - 1s 40us/step - loss: 0.0321\n",
      "Epoch 12/30\n",
      "14366/14366 [==============================] - 1s 42us/step - loss: 0.0286\n",
      "Epoch 13/30\n",
      "14366/14366 [==============================] - 1s 43us/step - loss: 0.0257\n",
      "Epoch 14/30\n",
      "14366/14366 [==============================] - 1s 43us/step - loss: 0.0233\n",
      "Epoch 15/30\n",
      "14366/14366 [==============================] - 1s 42us/step - loss: 0.0213\n",
      "Epoch 16/30\n",
      "14366/14366 [==============================] - 1s 42us/step - loss: 0.0197\n",
      "Epoch 17/30\n",
      "14366/14366 [==============================] - 1s 43us/step - loss: 0.0182\n",
      "Epoch 18/30\n",
      "14366/14366 [==============================] - 1s 42us/step - loss: 0.0170\n",
      "Epoch 19/30\n",
      "14366/14366 [==============================] - 1s 44us/step - loss: 0.0159\n",
      "Epoch 20/30\n",
      "14366/14366 [==============================] - 1s 43us/step - loss: 0.0150\n",
      "Epoch 21/30\n",
      "14366/14366 [==============================] - 1s 43us/step - loss: 0.0141\n",
      "Epoch 22/30\n",
      "14366/14366 [==============================] - 1s 42us/step - loss: 0.0133\n",
      "Epoch 23/30\n",
      "14366/14366 [==============================] - 1s 42us/step - loss: 0.0126\n",
      "Epoch 24/30\n",
      "14366/14366 [==============================] - 1s 43us/step - loss: 0.0119\n",
      "Epoch 25/30\n",
      "14366/14366 [==============================] - 1s 43us/step - loss: 0.0114\n",
      "Epoch 26/30\n",
      "14366/14366 [==============================] - 1s 42us/step - loss: 0.0108\n",
      "Epoch 27/30\n",
      "14366/14366 [==============================] - 1s 42us/step - loss: 0.0103\n",
      "Epoch 28/30\n",
      "14366/14366 [==============================] - 1s 44us/step - loss: 0.0098\n",
      "Epoch 29/30\n",
      "14366/14366 [==============================] - 1s 40us/step - loss: 0.0094\n",
      "Epoch 30/30\n",
      "14366/14366 [==============================] - 1s 43us/step - loss: 0.0089\n"
     ]
    },
    {
     "data": {
      "text/plain": [
       "<keras.callbacks.History at 0x7f7040e40908>"
      ]
     },
     "execution_count": 26,
     "metadata": {},
     "output_type": "execute_result"
    }
   ],
   "source": [
    "# start train\n",
    "ae.fit(new_x, new_x,\n",
    "       batch_size=batch_size,\n",
    "       epochs=epoch,\n",
    "       verbose=1)"
   ]
  },
  {
   "cell_type": "markdown",
   "metadata": {},
   "source": [
    "- エンコーダだけのモデルを定義する．"
   ]
  },
  {
   "cell_type": "code",
   "execution_count": 27,
   "metadata": {},
   "outputs": [],
   "source": [
    "encoder = models.Model(input_tensor, latent_vector)"
   ]
  },
  {
   "cell_type": "markdown",
   "metadata": {},
   "source": [
    "- デコーダだけのモデルを定義する．"
   ]
  },
  {
   "cell_type": "code",
   "execution_count": 28,
   "metadata": {},
   "outputs": [],
   "source": [
    "decoder_input = Input((13, 13, 64))\n",
    "decode = decode_layer_1(decoder_input)\n",
    "decode = decode_layer_2(decode)\n",
    "\n",
    "decoder = models.Model(decoder_input, output_tensor(decode))"
   ]
  },
  {
   "cell_type": "markdown",
   "metadata": {},
   "source": [
    "- `encoder`を使って元のウエハ画像をエンコードする．"
   ]
  },
  {
   "cell_type": "code",
   "execution_count": 29,
   "metadata": {},
   "outputs": [],
   "source": [
    "# Encode original faulty wafer\n",
    "encoded_x = encoder.predict(new_x)"
   ]
  },
  {
   "cell_type": "markdown",
   "metadata": {},
   "source": [
    "- エンコードされた潜伏的な不良ウエハにノイズを負荷する．"
   ]
  },
  {
   "cell_type": "code",
   "execution_count": 30,
   "metadata": {},
   "outputs": [],
   "source": [
    "# Add noise to encoded latent faulty wafers vector.\n",
    "noised_encoded_x = encoded_x + np.random.normal(loc=0, scale=0.1, size = (len(encoded_x), 13, 13, 64))"
   ]
  },
  {
   "cell_type": "markdown",
   "metadata": {},
   "source": [
    "- 元のウエハ画像"
   ]
  },
  {
   "cell_type": "code",
   "execution_count": 31,
   "metadata": {},
   "outputs": [
    {
     "data": {
      "text/plain": [
       "<matplotlib.image.AxesImage at 0x7f70567f05f8>"
      ]
     },
     "execution_count": 31,
     "metadata": {},
     "output_type": "execute_result"
    },
    {
     "data": {
      "image/png": "[encoded data removed]",
      "text/plain": [
       "<Figure size 432x288 with 1 Axes>"
      ]
     },
     "metadata": {},
     "output_type": "display_data"
    }
   ],
   "source": [
    "# check original faulty wafer data\n",
    "plt.imshow(np.argmax(new_x[3], axis=2))"
   ]
  },
  {
   "cell_type": "markdown",
   "metadata": {},
   "source": [
    "- ノイズが付加されたウエハ画像"
   ]
  },
  {
   "cell_type": "code",
   "execution_count": 32,
   "metadata": {},
   "outputs": [
    {
     "data": {
      "text/plain": [
       "<matplotlib.image.AxesImage at 0x7f70569a3320>"
      ]
     },
     "execution_count": 32,
     "metadata": {},
     "output_type": "execute_result"
    },
    {
     "data": {
      "image/png": "[encoded data removed]",
      "text/plain": [
       "<Figure size 432x288 with 1 Axes>"
      ]
     },
     "metadata": {},
     "output_type": "display_data"
    }
   ],
   "source": [
    "# check new noised faulty wafer data\n",
    "noised_gen_x = np.argmax(decoder.predict(noised_encoded_x), axis=3)\n",
    "plt.imshow(noised_gen_x[3])"
   ]
  },
  {
   "cell_type": "markdown",
   "metadata": {},
   "source": [
    "### データオーギュメンテーション"
   ]
  },
  {
   "cell_type": "markdown",
   "metadata": {},
   "source": [
    "- データオーギュメンテーションを行う関数を定義する．"
   ]
  },
  {
   "cell_type": "code",
   "execution_count": 33,
   "metadata": {},
   "outputs": [],
   "source": [
    "# augment function define\n",
    "def gen_data(wafer, label):\n",
    "    # Encode input wafer\n",
    "    encoded_x = encoder.predict(wafer)\n",
    "    \n",
    "    # dummy array for collecting noised wafer\n",
    "    gen_x = np.zeros((1, 26, 26, 3))\n",
    "    \n",
    "    # Make wafer until total # of wafer to 2000\n",
    "    for i in range((2000//len(wafer)) + 1):\n",
    "        noised_encoded_x = encoded_x + np.random.normal(loc=0, scale=0.1, size = (len(encoded_x), 13, 13, 64)) \n",
    "        noised_gen_x = decoder.predict(noised_encoded_x)\n",
    "        gen_x = np.concatenate((gen_x, noised_gen_x), axis=0)\n",
    "    # also make label vector with same length\n",
    "    gen_y = np.full((len(gen_x), 1), label)\n",
    "    \n",
    "    # return date without 1st dummy data.\n",
    "    return gen_x[1:], gen_y[1:]"
   ]
  },
  {
   "cell_type": "markdown",
   "metadata": {},
   "source": [
    "- 不良ラベルが付いているデータに対してデータオーギュメンテーションを行う．"
   ]
  },
  {
   "cell_type": "code",
   "execution_count": 34,
   "metadata": {},
   "outputs": [],
   "source": [
    "# Augmentation for all faulty case.\n",
    "for f in faulty_case : \n",
    "    # skip none case\n",
    "    if f == 'none' : \n",
    "        continue\n",
    "    \n",
    "    gen_x, gen_y = gen_data(new_x[np.where(y==f)[0]], f)\n",
    "    new_x = np.concatenate((new_x, gen_x), axis=0)\n",
    "    y = np.concatenate((y, gen_y))"
   ]
  },
  {
   "cell_type": "code",
   "execution_count": 35,
   "metadata": {},
   "outputs": [
    {
     "name": "stdout",
     "output_type": "stream",
     "text": [
      "After Generate new_x shape : (30707, 26, 26, 3), new_y shape : (30707, 1)\n"
     ]
    }
   ],
   "source": [
    "print('After Generate new_x shape : {}, new_y shape : {}'.format(new_x.shape, y.shape))"
   ]
  },
  {
   "cell_type": "code",
   "execution_count": 36,
   "metadata": {},
   "outputs": [
    {
     "name": "stdout",
     "output_type": "stream",
     "text": [
      "Center : 2160\n",
      "Donut : 2002\n",
      "Edge-Loc : 2368\n",
      "Edge-Ring : 2046\n",
      "Loc : 2376\n",
      "Near-full : 2032\n",
      "Random : 2146\n",
      "Scratch : 2088\n",
      "none : 13489\n"
     ]
    }
   ],
   "source": [
    "for f in faulty_case :\n",
    "    print('{} : {}'.format(f, len(y[y==f])))"
   ]
  },
  {
   "cell_type": "markdown",
   "metadata": {},
   "source": [
    "- データオーギュメンテーションを行った結果，各不良データごとに2000枚増えた．\n",
    "- 合計は30707枚となった．"
   ]
  },
  {
   "cell_type": "markdown",
   "metadata": {},
   "source": [
    "- 不良ラベルのないデータは削除し，枚数を不良ラベルと同程度にする．"
   ]
  },
  {
   "cell_type": "code",
   "execution_count": 37,
   "metadata": {},
   "outputs": [],
   "source": [
    "none_idx = np.where(y=='none')[0][np.random.choice(len(np.where(y=='none')[0]), size=11000, replace=False)]"
   ]
  },
  {
   "cell_type": "code",
   "execution_count": 38,
   "metadata": {},
   "outputs": [],
   "source": [
    "new_x = np.delete(new_x, none_idx, axis=0)\n",
    "new_y = np.delete(y, none_idx, axis=0)"
   ]
  },
  {
   "cell_type": "code",
   "execution_count": 39,
   "metadata": {},
   "outputs": [
    {
     "name": "stdout",
     "output_type": "stream",
     "text": [
      "After Delete \"none\" class new_x shape : (19707, 26, 26, 3), new_y shape : (19707, 1)\n"
     ]
    }
   ],
   "source": [
    "print('After Delete \"none\" class new_x shape : {}, new_y shape : {}'.format(new_x.shape, new_y.shape))"
   ]
  },
  {
   "cell_type": "code",
   "execution_count": 40,
   "metadata": {},
   "outputs": [
    {
     "name": "stdout",
     "output_type": "stream",
     "text": [
      "Center : 2160\n",
      "Donut : 2002\n",
      "Edge-Loc : 2368\n",
      "Edge-Ring : 2046\n",
      "Loc : 2376\n",
      "Near-full : 2032\n",
      "Random : 2146\n",
      "Scratch : 2088\n",
      "none : 2489\n"
     ]
    }
   ],
   "source": [
    "for f in faulty_case :\n",
    "    print('{} : {}'.format(f, len(new_y[new_y==f])))"
   ]
  },
  {
   "cell_type": "markdown",
   "metadata": {},
   "source": [
    "- 削除した結果，全体は19707枚となった．"
   ]
  },
  {
   "cell_type": "markdown",
   "metadata": {},
   "source": [
    "### 学習を行う\n",
    "- 不良ラベルを0-8の9次元のベクトルとして表現する．\n",
    "- one-hotエンコーディングを行っている．"
   ]
  },
  {
   "cell_type": "code",
   "execution_count": 41,
   "metadata": {},
   "outputs": [],
   "source": [
    "for i, l in enumerate(faulty_case):\n",
    "    new_y[new_y==l] = i"
   ]
  },
  {
   "cell_type": "code",
   "execution_count": 42,
   "metadata": {},
   "outputs": [],
   "source": [
    "# one-hot-encoding\n",
    "new_y = to_categorical(new_y)"
   ]
  },
  {
   "cell_type": "markdown",
   "metadata": {},
   "source": [
    "- 学習データ（学習データと学習時のテストデータ）と最終的なテストデータに分割する．"
   ]
  },
  {
   "cell_type": "code",
   "execution_count": 43,
   "metadata": {},
   "outputs": [
    {
     "data": {
      "text/plain": [
       "(705, 26, 26, 3)"
      ]
     },
     "execution_count": 43,
     "metadata": {},
     "output_type": "execute_result"
    }
   ],
   "source": [
    "new_X=new_x[0:19000]\n",
    "new_Y=new_y[0:19000]\n",
    "test_x=new_x[19001:19706]\n",
    "test_y=new_y[19001:19706]\n",
    "test_x.shape"
   ]
  },
  {
   "cell_type": "markdown",
   "metadata": {},
   "source": [
    "- 学習データを学習データと学習時のテストデータに分割する．"
   ]
  },
  {
   "cell_type": "code",
   "execution_count": 44,
   "metadata": {},
   "outputs": [],
   "source": [
    "x_train, x_test, y_train, y_test = train_test_split(new_X, new_Y,\n",
    "                                                    test_size=0.33,\n",
    "                                                    random_state=2019)"
   ]
  },
  {
   "cell_type": "code",
   "execution_count": 45,
   "metadata": {},
   "outputs": [
    {
     "name": "stdout",
     "output_type": "stream",
     "text": [
      "Train x : (12730, 26, 26, 3), y : (12730, 9)\n",
      "Test x: (6270, 26, 26, 3), y : (6270, 9)\n"
     ]
    }
   ],
   "source": [
    "print('Train x : {}, y : {}'.format(x_train.shape, y_train.shape))\n",
    "print('Test x: {}, y : {}'.format(x_test.shape, y_test.shape))"
   ]
  },
  {
   "cell_type": "markdown",
   "metadata": {},
   "source": [
    "- 学習データ12730枚，テストデータ6270枚．"
   ]
  },
  {
   "cell_type": "markdown",
   "metadata": {},
   "source": [
    "- モデルの定義を行う．"
   ]
  },
  {
   "cell_type": "code",
   "execution_count": 46,
   "metadata": {},
   "outputs": [],
   "source": [
    "input_shape = (26, 26, 3)\n",
    "input_tensor = Input(input_shape)\n",
    "\n",
    "def create_model():\n",
    "    global input_tensor\n",
    "    \n",
    "    conv = layers.Conv2D(32, (3,3), activation='relu', name='conv1')(input_tensor)\n",
    "    padding = layers.ZeroPadding2D(padding=(1, 1), name='padding1')(conv)\n",
    "    conv = layers.Conv2D(64, (3,3), activation='relu', name='conv2')(padding)\n",
    "    padding = layers.ZeroPadding2D(padding=(1, 1), name='padding2')(conv)\n",
    "    conv = layers.Conv2D(128, (3,3), activation='relu', name='conv3')(padding)\n",
    "    padding = layers.ZeroPadding2D(padding=(1, 1), name='padding3')(conv)\n",
    "    conv_out = layers.Conv2D(256, (3,3), activation='relu', name='conv4')(padding)\n",
    "\n",
    "    gap_layer = layers.GlobalAveragePooling2D(name='GAP')\n",
    "    output_layer = layers.Dense(9, activation='softmax', name='output')\n",
    "\n",
    "    aver_pool = gap_layer(conv_out)\n",
    "    output_tensor = output_layer(aver_pool)\n",
    "\n",
    "    model = models.Model(input_tensor, output_tensor)\n",
    "\n",
    "    model.compile(optimizer='Adam',\n",
    "             loss='categorical_crossentropy',\n",
    "             metrics=['accuracy'])\n",
    "\n",
    "    return model"
   ]
  },
  {
   "cell_type": "markdown",
   "metadata": {},
   "source": [
    "- 3-Fold Cross validationで分割して学習する．"
   ]
  },
  {
   "cell_type": "code",
   "execution_count": 47,
   "metadata": {
    "scrolled": true
   },
   "outputs": [
    {
     "name": "stdout",
     "output_type": "stream",
     "text": [
      "Epoch 1/30\n",
      "8486/8486 [==============================] - 3s 309us/step - loss: 1.7091 - acc: 0.3175\n",
      "Epoch 2/30\n",
      "8486/8486 [==============================] - 1s 148us/step - loss: 1.2713 - acc: 0.5005\n",
      "Epoch 3/30\n",
      "8486/8486 [==============================] - 1s 151us/step - loss: 1.1216 - acc: 0.5396\n",
      "Epoch 4/30\n",
      "8486/8486 [==============================] - 1s 151us/step - loss: 1.0396 - acc: 0.5824\n",
      "Epoch 5/30\n",
      "8486/8486 [==============================] - 1s 152us/step - loss: 0.9566 - acc: 0.6210\n",
      "Epoch 6/30\n",
      "8486/8486 [==============================] - 1s 152us/step - loss: 0.8627 - acc: 0.6550\n",
      "Epoch 7/30\n",
      "8486/8486 [==============================] - 1s 150us/step - loss: 0.7449 - acc: 0.7133\n",
      "Epoch 8/30\n",
      "8486/8486 [==============================] - 1s 150us/step - loss: 0.6636 - acc: 0.7489\n",
      "Epoch 9/30\n",
      "8486/8486 [==============================] - 1s 150us/step - loss: 0.6301 - acc: 0.7484\n",
      "Epoch 10/30\n",
      "8486/8486 [==============================] - 1s 150us/step - loss: 0.6025 - acc: 0.7636\n",
      "Epoch 11/30\n",
      "8486/8486 [==============================] - 1s 150us/step - loss: 0.6444 - acc: 0.7436\n",
      "Epoch 12/30\n",
      "8486/8486 [==============================] - 1s 152us/step - loss: 0.7166 - acc: 0.7220\n",
      "Epoch 13/30\n",
      "8486/8486 [==============================] - 1s 152us/step - loss: 0.5777 - acc: 0.7661\n",
      "Epoch 14/30\n",
      "8486/8486 [==============================] - 1s 151us/step - loss: 0.5281 - acc: 0.7860\n",
      "Epoch 15/30\n",
      "8486/8486 [==============================] - 1s 152us/step - loss: 0.5123 - acc: 0.7895\n",
      "Epoch 16/30\n",
      "8486/8486 [==============================] - 1s 152us/step - loss: 0.5062 - acc: 0.7964\n",
      "Epoch 17/30\n",
      "8486/8486 [==============================] - 1s 151us/step - loss: 0.5147 - acc: 0.7861\n",
      "Epoch 18/30\n",
      "8486/8486 [==============================] - 1s 151us/step - loss: 0.5911 - acc: 0.7597\n",
      "Epoch 19/30\n",
      "8486/8486 [==============================] - 1s 151us/step - loss: 0.5566 - acc: 0.7755\n",
      "Epoch 20/30\n",
      "8486/8486 [==============================] - 1s 152us/step - loss: 0.5023 - acc: 0.7944\n",
      "Epoch 21/30\n",
      "8486/8486 [==============================] - 1s 151us/step - loss: 0.5012 - acc: 0.7990\n",
      "Epoch 22/30\n",
      "8486/8486 [==============================] - 1s 151us/step - loss: 0.4851 - acc: 0.8052\n",
      "Epoch 23/30\n",
      "8486/8486 [==============================] - 1s 152us/step - loss: 0.4712 - acc: 0.8095\n",
      "Epoch 24/30\n",
      "8486/8486 [==============================] - 1s 152us/step - loss: 0.4812 - acc: 0.8038\n",
      "Epoch 25/30\n",
      "8486/8486 [==============================] - 1s 152us/step - loss: 0.4725 - acc: 0.8113\n",
      "Epoch 26/30\n",
      "8486/8486 [==============================] - 1s 151us/step - loss: 0.4610 - acc: 0.8137\n",
      "Epoch 27/30\n",
      "8486/8486 [==============================] - 1s 152us/step - loss: 0.4492 - acc: 0.8177\n",
      "Epoch 28/30\n",
      "8486/8486 [==============================] - 1s 151us/step - loss: 0.4771 - acc: 0.8160\n",
      "Epoch 29/30\n",
      "8486/8486 [==============================] - 1s 151us/step - loss: 0.4637 - acc: 0.8165\n",
      "Epoch 30/30\n",
      "8486/8486 [==============================] - 1s 152us/step - loss: 0.4530 - acc: 0.8156\n",
      "4244/4244 [==============================] - 0s 90us/step\n",
      "Epoch 1/30\n",
      "8487/8487 [==============================] - 2s 242us/step - loss: 1.7339 - acc: 0.3314\n",
      "Epoch 2/30\n",
      "8487/8487 [==============================] - 1s 148us/step - loss: 1.2720 - acc: 0.4913\n",
      "Epoch 3/30\n",
      "8487/8487 [==============================] - 1s 152us/step - loss: 1.1440 - acc: 0.5453\n",
      "Epoch 4/30\n",
      "8487/8487 [==============================] - 1s 150us/step - loss: 1.0738 - acc: 0.5710\n",
      "Epoch 5/30\n",
      "8487/8487 [==============================] - 1s 151us/step - loss: 1.0316 - acc: 0.5933\n",
      "Epoch 6/30\n",
      "8487/8487 [==============================] - 1s 151us/step - loss: 0.9411 - acc: 0.6535\n",
      "Epoch 7/30\n",
      "8487/8487 [==============================] - 1s 152us/step - loss: 0.8567 - acc: 0.6657\n",
      "Epoch 8/30\n",
      "8487/8487 [==============================] - 1s 152us/step - loss: 0.7544 - acc: 0.7167\n",
      "Epoch 9/30\n",
      "8487/8487 [==============================] - 1s 152us/step - loss: 0.7271 - acc: 0.7207\n",
      "Epoch 10/30\n",
      "8487/8487 [==============================] - 1s 151us/step - loss: 0.6672 - acc: 0.7349\n",
      "Epoch 11/30\n",
      "8487/8487 [==============================] - 1s 149us/step - loss: 0.6098 - acc: 0.7600\n",
      "Epoch 12/30\n",
      "8487/8487 [==============================] - 1s 151us/step - loss: 0.6154 - acc: 0.7483\n",
      "Epoch 13/30\n",
      "8487/8487 [==============================] - 1s 152us/step - loss: 0.5913 - acc: 0.7693\n",
      "Epoch 14/30\n",
      "8487/8487 [==============================] - 1s 152us/step - loss: 0.5915 - acc: 0.7645\n",
      "Epoch 15/30\n",
      "8487/8487 [==============================] - 1s 151us/step - loss: 0.5806 - acc: 0.7649\n",
      "Epoch 16/30\n",
      "8487/8487 [==============================] - 1s 152us/step - loss: 0.8676 - acc: 0.6736\n",
      "Epoch 17/30\n",
      "8487/8487 [==============================] - 1s 151us/step - loss: 0.6322 - acc: 0.7443\n",
      "Epoch 18/30\n",
      "8487/8487 [==============================] - 1s 153us/step - loss: 0.5683 - acc: 0.7643\n",
      "Epoch 19/30\n",
      "8487/8487 [==============================] - 1s 152us/step - loss: 0.5349 - acc: 0.7869\n",
      "Epoch 20/30\n",
      "8487/8487 [==============================] - 1s 153us/step - loss: 0.5135 - acc: 0.7927\n",
      "Epoch 21/30\n",
      "8487/8487 [==============================] - 1s 151us/step - loss: 0.5064 - acc: 0.7944\n",
      "Epoch 22/30\n",
      "8487/8487 [==============================] - 1s 152us/step - loss: 0.5029 - acc: 0.7924\n",
      "Epoch 23/30\n",
      "8487/8487 [==============================] - 1s 151us/step - loss: 0.4880 - acc: 0.8029\n",
      "Epoch 24/30\n",
      "8487/8487 [==============================] - 1s 151us/step - loss: 0.4895 - acc: 0.8028\n",
      "Epoch 25/30\n",
      "8487/8487 [==============================] - 1s 153us/step - loss: 0.4865 - acc: 0.8069\n",
      "Epoch 26/30\n",
      "8487/8487 [==============================] - 1s 153us/step - loss: 0.4905 - acc: 0.8011\n",
      "Epoch 27/30\n",
      "8487/8487 [==============================] - 1s 152us/step - loss: 0.4655 - acc: 0.8175\n",
      "Epoch 28/30\n",
      "8487/8487 [==============================] - 1s 150us/step - loss: 0.4602 - acc: 0.8207\n",
      "Epoch 29/30\n",
      "8487/8487 [==============================] - 1s 151us/step - loss: 0.4465 - acc: 0.8221\n",
      "Epoch 30/30\n",
      "8487/8487 [==============================] - 1s 151us/step - loss: 0.4577 - acc: 0.8172\n",
      "4243/4243 [==============================] - 0s 97us/step\n",
      "Epoch 1/30\n",
      "8487/8487 [==============================] - 2s 219us/step - loss: 1.7616 - acc: 0.3065\n",
      "Epoch 2/30\n",
      "8487/8487 [==============================] - 1s 152us/step - loss: 1.2828 - acc: 0.4872\n",
      "Epoch 3/30\n",
      "8487/8487 [==============================] - 1s 151us/step - loss: 1.1654 - acc: 0.5465\n",
      "Epoch 4/30\n",
      "8487/8487 [==============================] - 1s 151us/step - loss: 1.0915 - acc: 0.5637\n",
      "Epoch 5/30\n",
      "8487/8487 [==============================] - 1s 153us/step - loss: 1.0290 - acc: 0.5971\n",
      "Epoch 6/30\n",
      "8487/8487 [==============================] - 1s 152us/step - loss: 0.9525 - acc: 0.6224\n",
      "Epoch 7/30\n",
      "8487/8487 [==============================] - 1s 152us/step - loss: 0.8907 - acc: 0.6521\n",
      "Epoch 8/30\n",
      "8487/8487 [==============================] - 1s 151us/step - loss: 0.8145 - acc: 0.6972\n",
      "Epoch 9/30\n",
      "8487/8487 [==============================] - 1s 152us/step - loss: 0.7381 - acc: 0.7146\n",
      "Epoch 10/30\n",
      "8487/8487 [==============================] - 1s 152us/step - loss: 0.6934 - acc: 0.7375\n",
      "Epoch 11/30\n",
      "8487/8487 [==============================] - 1s 151us/step - loss: 0.6504 - acc: 0.7491\n",
      "Epoch 12/30\n",
      "8487/8487 [==============================] - 1s 152us/step - loss: 0.6311 - acc: 0.7517\n",
      "Epoch 13/30\n",
      "8487/8487 [==============================] - 1s 153us/step - loss: 0.6278 - acc: 0.7559\n",
      "Epoch 14/30\n",
      "8487/8487 [==============================] - 1s 151us/step - loss: 0.5751 - acc: 0.7755\n",
      "Epoch 15/30\n",
      "8487/8487 [==============================] - 1s 151us/step - loss: 0.5681 - acc: 0.7754\n",
      "Epoch 16/30\n",
      "8487/8487 [==============================] - 1s 152us/step - loss: 0.5335 - acc: 0.7930\n",
      "Epoch 17/30\n",
      "8487/8487 [==============================] - 1s 152us/step - loss: 0.5393 - acc: 0.7913\n",
      "Epoch 18/30\n",
      "8487/8487 [==============================] - 1s 152us/step - loss: 0.5277 - acc: 0.7939\n",
      "Epoch 19/30\n",
      "8487/8487 [==============================] - 1s 153us/step - loss: 0.6148 - acc: 0.7560\n",
      "Epoch 20/30\n",
      "8487/8487 [==============================] - 1s 153us/step - loss: 0.6222 - acc: 0.7524\n",
      "Epoch 21/30\n",
      "8487/8487 [==============================] - 1s 153us/step - loss: 0.5508 - acc: 0.7753\n",
      "Epoch 22/30\n"
     ]
    },
    {
     "name": "stdout",
     "output_type": "stream",
     "text": [
      "8487/8487 [==============================] - 1s 153us/step - loss: 0.5002 - acc: 0.8049\n",
      "Epoch 23/30\n",
      "8487/8487 [==============================] - 1s 151us/step - loss: 0.4900 - acc: 0.8072\n",
      "Epoch 24/30\n",
      "8487/8487 [==============================] - 1s 152us/step - loss: 0.5136 - acc: 0.7906\n",
      "Epoch 25/30\n",
      "8487/8487 [==============================] - 1s 153us/step - loss: 0.4970 - acc: 0.8022\n",
      "Epoch 26/30\n",
      "8487/8487 [==============================] - 1s 151us/step - loss: 0.4700 - acc: 0.8210\n",
      "Epoch 27/30\n",
      "8487/8487 [==============================] - 1s 152us/step - loss: 0.4674 - acc: 0.8180\n",
      "Epoch 28/30\n",
      "8487/8487 [==============================] - 1s 151us/step - loss: 0.4895 - acc: 0.8028\n",
      "Epoch 29/30\n",
      "8487/8487 [==============================] - 1s 152us/step - loss: 0.4617 - acc: 0.8185\n",
      "Epoch 30/30\n",
      "8487/8487 [==============================] - 1s 151us/step - loss: 0.4683 - acc: 0.8154\n",
      "4243/4243 [==============================] - 0s 93us/step\n",
      "Class Activation Map Cross validation score : 0.8152\n"
     ]
    }
   ],
   "source": [
    "model = KerasClassifier(build_fn=create_model, epochs=30, batch_size=512, verbose=1) \n",
    "# 3-Fold Crossvalidation\n",
    "kfold = KFold(n_splits=3, shuffle=True, random_state=2019) \n",
    "results = cross_val_score(model, x_train, y_train, cv=kfold)\n",
    "# Check 3-fold model's mean accuracy\n",
    "print('Class Activation Map Cross validation score : {:.4f}'.format(np.mean(results)))"
   ]
  },
  {
   "cell_type": "markdown",
   "metadata": {},
   "source": [
    "- Cross validiationによる精度は99.10%であった．"
   ]
  },
  {
   "cell_type": "markdown",
   "metadata": {},
   "source": [
    "- Cross validationなしで学習する．"
   ]
  },
  {
   "cell_type": "code",
   "execution_count": 48,
   "metadata": {
    "scrolled": true
   },
   "outputs": [
    {
     "name": "stdout",
     "output_type": "stream",
     "text": [
      "Train on 12730 samples, validate on 6270 samples\n",
      "Epoch 1/50\n",
      "12730/12730 [==============================] - 3s 271us/step - loss: 1.5524 - acc: 0.3963 - val_loss: 1.2534 - val_acc: 0.4943\n",
      "Epoch 2/50\n",
      "12730/12730 [==============================] - 2s 178us/step - loss: 1.1750 - acc: 0.5293 - val_loss: 1.0888 - val_acc: 0.5324\n",
      "Epoch 3/50\n",
      "12730/12730 [==============================] - 2s 178us/step - loss: 1.0626 - acc: 0.5835 - val_loss: 0.9929 - val_acc: 0.5904\n",
      "Epoch 4/50\n",
      "12730/12730 [==============================] - 2s 177us/step - loss: 0.9251 - acc: 0.6412 - val_loss: 0.8216 - val_acc: 0.6703\n",
      "Epoch 5/50\n",
      "12730/12730 [==============================] - 2s 177us/step - loss: 0.7888 - acc: 0.6985 - val_loss: 0.7075 - val_acc: 0.7337\n",
      "Epoch 6/50\n",
      "12730/12730 [==============================] - 2s 180us/step - loss: 0.6775 - acc: 0.7377 - val_loss: 0.6843 - val_acc: 0.7391\n",
      "Epoch 7/50\n",
      "12730/12730 [==============================] - 2s 179us/step - loss: 0.7895 - acc: 0.6995 - val_loss: 0.7591 - val_acc: 0.7502\n",
      "Epoch 8/50\n",
      "12730/12730 [==============================] - 2s 179us/step - loss: 0.6960 - acc: 0.7338 - val_loss: 0.6087 - val_acc: 0.7545\n",
      "Epoch 9/50\n",
      "12730/12730 [==============================] - 2s 178us/step - loss: 0.5935 - acc: 0.7647 - val_loss: 0.5644 - val_acc: 0.7794\n",
      "Epoch 10/50\n",
      "12730/12730 [==============================] - 2s 179us/step - loss: 0.5725 - acc: 0.7679 - val_loss: 0.5608 - val_acc: 0.7777\n",
      "Epoch 11/50\n",
      "12730/12730 [==============================] - 2s 178us/step - loss: 0.5454 - acc: 0.7844 - val_loss: 0.5278 - val_acc: 0.7893\n",
      "Epoch 12/50\n",
      "12730/12730 [==============================] - 2s 178us/step - loss: 0.5402 - acc: 0.7841 - val_loss: 0.5261 - val_acc: 0.7762\n",
      "Epoch 13/50\n",
      "12730/12730 [==============================] - 2s 179us/step - loss: 0.5144 - acc: 0.7922 - val_loss: 0.5045 - val_acc: 0.8100\n",
      "Epoch 14/50\n",
      "12730/12730 [==============================] - 2s 179us/step - loss: 0.6648 - acc: 0.7683 - val_loss: 0.6606 - val_acc: 0.7337\n",
      "Epoch 15/50\n",
      "12730/12730 [==============================] - 2s 178us/step - loss: 0.6725 - acc: 0.7361 - val_loss: 0.5882 - val_acc: 0.7553\n",
      "Epoch 16/50\n",
      "12730/12730 [==============================] - 2s 176us/step - loss: 0.5356 - acc: 0.7834 - val_loss: 0.5020 - val_acc: 0.7901\n",
      "Epoch 17/50\n",
      "12730/12730 [==============================] - 2s 178us/step - loss: 0.4886 - acc: 0.8060 - val_loss: 0.4843 - val_acc: 0.8204\n",
      "Epoch 18/50\n",
      "12730/12730 [==============================] - 2s 179us/step - loss: 0.4648 - acc: 0.8174 - val_loss: 0.4759 - val_acc: 0.7995\n",
      "Epoch 19/50\n",
      "12730/12730 [==============================] - 2s 180us/step - loss: 0.4638 - acc: 0.8144 - val_loss: 0.4547 - val_acc: 0.8166\n",
      "Epoch 20/50\n",
      "12730/12730 [==============================] - 2s 177us/step - loss: 0.4567 - acc: 0.8201 - val_loss: 0.4486 - val_acc: 0.8195\n",
      "Epoch 21/50\n",
      "12730/12730 [==============================] - 2s 180us/step - loss: 0.4382 - acc: 0.8310 - val_loss: 0.4597 - val_acc: 0.8077\n",
      "Epoch 22/50\n",
      "12730/12730 [==============================] - 2s 177us/step - loss: 0.4342 - acc: 0.8290 - val_loss: 0.4550 - val_acc: 0.8271\n",
      "Epoch 23/50\n",
      "12730/12730 [==============================] - 2s 176us/step - loss: 0.4328 - acc: 0.8314 - val_loss: 0.4304 - val_acc: 0.8421\n",
      "Epoch 24/50\n",
      "12730/12730 [==============================] - 2s 178us/step - loss: 0.4266 - acc: 0.8357 - val_loss: 0.4396 - val_acc: 0.8226\n",
      "Epoch 25/50\n",
      "12730/12730 [==============================] - 2s 178us/step - loss: 0.4207 - acc: 0.8424 - val_loss: 0.4243 - val_acc: 0.8354\n",
      "Epoch 26/50\n",
      "12730/12730 [==============================] - 2s 179us/step - loss: 0.4278 - acc: 0.8369 - val_loss: 0.4298 - val_acc: 0.8392\n",
      "Epoch 27/50\n",
      "12730/12730 [==============================] - 2s 178us/step - loss: 0.4221 - acc: 0.8355 - val_loss: 0.4307 - val_acc: 0.8410\n",
      "Epoch 28/50\n",
      "12730/12730 [==============================] - 2s 178us/step - loss: 0.4084 - acc: 0.8485 - val_loss: 0.3954 - val_acc: 0.8561\n",
      "Epoch 29/50\n",
      "12730/12730 [==============================] - 2s 179us/step - loss: 0.3924 - acc: 0.8532 - val_loss: 0.3878 - val_acc: 0.8630\n",
      "Epoch 30/50\n",
      "12730/12730 [==============================] - 2s 179us/step - loss: 0.4109 - acc: 0.8449 - val_loss: 0.4080 - val_acc: 0.8560\n",
      "Epoch 31/50\n",
      "12730/12730 [==============================] - 2s 177us/step - loss: 0.3820 - acc: 0.8586 - val_loss: 0.3799 - val_acc: 0.8609\n",
      "Epoch 32/50\n",
      "12730/12730 [==============================] - 2s 179us/step - loss: 0.3732 - acc: 0.8641 - val_loss: 0.3746 - val_acc: 0.8584\n",
      "Epoch 33/50\n",
      "12730/12730 [==============================] - 2s 178us/step - loss: 0.3725 - acc: 0.8623 - val_loss: 0.3641 - val_acc: 0.8604\n",
      "Epoch 34/50\n",
      "12730/12730 [==============================] - 2s 178us/step - loss: 0.3776 - acc: 0.8571 - val_loss: 0.3899 - val_acc: 0.8480\n",
      "Epoch 35/50\n",
      "12730/12730 [==============================] - 2s 179us/step - loss: 0.4175 - acc: 0.8457 - val_loss: 0.4778 - val_acc: 0.8352\n",
      "Epoch 36/50\n",
      "12730/12730 [==============================] - 2s 180us/step - loss: 0.3876 - acc: 0.8563 - val_loss: 0.3654 - val_acc: 0.8722\n",
      "Epoch 37/50\n",
      "12730/12730 [==============================] - 2s 177us/step - loss: 0.3650 - acc: 0.8639 - val_loss: 0.3546 - val_acc: 0.8711\n",
      "Epoch 38/50\n",
      "12730/12730 [==============================] - 2s 180us/step - loss: 0.3826 - acc: 0.8621 - val_loss: 0.4463 - val_acc: 0.8056\n",
      "Epoch 39/50\n",
      "12730/12730 [==============================] - 2s 178us/step - loss: 0.3750 - acc: 0.8552 - val_loss: 0.3634 - val_acc: 0.8697\n",
      "Epoch 40/50\n",
      "12730/12730 [==============================] - 2s 177us/step - loss: 0.3565 - acc: 0.8709 - val_loss: 0.3633 - val_acc: 0.8625\n",
      "Epoch 41/50\n",
      "12730/12730 [==============================] - 2s 179us/step - loss: 0.3469 - acc: 0.8724 - val_loss: 0.3886 - val_acc: 0.8561\n",
      "Epoch 42/50\n",
      "12730/12730 [==============================] - 2s 180us/step - loss: 0.3796 - acc: 0.8598 - val_loss: 0.3571 - val_acc: 0.8687\n",
      "Epoch 43/50\n",
      "12730/12730 [==============================] - 2s 179us/step - loss: 0.3337 - acc: 0.8786 - val_loss: 0.3375 - val_acc: 0.8719\n",
      "Epoch 44/50\n",
      "12730/12730 [==============================] - 2s 178us/step - loss: 0.3336 - acc: 0.8756 - val_loss: 0.3324 - val_acc: 0.8769\n",
      "Epoch 45/50\n",
      "12730/12730 [==============================] - 2s 178us/step - loss: 0.3382 - acc: 0.8749 - val_loss: 0.3407 - val_acc: 0.8793\n",
      "Epoch 46/50\n",
      "12730/12730 [==============================] - 2s 180us/step - loss: 0.3184 - acc: 0.8860 - val_loss: 0.3174 - val_acc: 0.8818\n",
      "Epoch 47/50\n",
      "12730/12730 [==============================] - 2s 181us/step - loss: 0.3171 - acc: 0.8823 - val_loss: 0.3359 - val_acc: 0.8809\n",
      "Epoch 48/50\n",
      "12730/12730 [==============================] - 2s 178us/step - loss: 0.3419 - acc: 0.8757 - val_loss: 0.3477 - val_acc: 0.8754\n",
      "Epoch 49/50\n",
      "12730/12730 [==============================] - 2s 179us/step - loss: 0.3263 - acc: 0.8818 - val_loss: 0.3260 - val_acc: 0.8911\n",
      "Epoch 50/50\n",
      "12730/12730 [==============================] - 2s 179us/step - loss: 0.3233 - acc: 0.8849 - val_loss: 0.3277 - val_acc: 0.8898\n"
     ]
    }
   ],
   "source": [
    "history = model.fit(x_train, y_train,\n",
    "         validation_data=[x_test, y_test],\n",
    "         epochs=50,\n",
    "         batch_size=512,\n",
    "         verbose=1\n",
    "         )"
   ]
  },
  {
   "cell_type": "markdown",
   "metadata": {},
   "source": [
    "- テストデータで評価．    "
   ]
  },
  {
   "cell_type": "code",
   "execution_count": 49,
   "metadata": {},
   "outputs": [
    {
     "name": "stdout",
     "output_type": "stream",
     "text": [
      "6270/6270 [==============================] - 0s 55us/step\n",
      "Testing Accuracy: 0.8897926635909499\n"
     ]
    }
   ],
   "source": [
    "score = model.score(x_test, y_test)\n",
    "#print('Test Loss:', score[0])\n",
    "#print('Test accuracy:', score[1])\n",
    "print('Testing Accuracy:',score)"
   ]
  },
  {
   "cell_type": "markdown",
   "metadata": {},
   "source": [
    "- モデルは以下．\n",
    "    - 入力層\n",
    "    - 畳み込み層3つ\n",
    "    - Flatten層（1次元に）\n",
    "    - 全結合層3つ"
   ]
  },
  {
   "cell_type": "code",
   "execution_count": 50,
   "metadata": {
    "scrolled": true
   },
   "outputs": [
    {
     "name": "stdout",
     "output_type": "stream",
     "text": [
      "_________________________________________________________________\n",
      "Layer (type)                 Output Shape              Param #   \n",
      "=================================================================\n",
      "input_3 (InputLayer)         (None, 26, 26, 3)         0         \n",
      "_________________________________________________________________\n",
      "conv1 (Conv2D)               (None, 24, 24, 32)        896       \n",
      "_________________________________________________________________\n",
      "padding1 (ZeroPadding2D)     (None, 26, 26, 32)        0         \n",
      "_________________________________________________________________\n",
      "conv2 (Conv2D)               (None, 24, 24, 64)        18496     \n",
      "_________________________________________________________________\n",
      "padding2 (ZeroPadding2D)     (None, 26, 26, 64)        0         \n",
      "_________________________________________________________________\n",
      "conv3 (Conv2D)               (None, 24, 24, 128)       73856     \n",
      "_________________________________________________________________\n",
      "padding3 (ZeroPadding2D)     (None, 26, 26, 128)       0         \n",
      "_________________________________________________________________\n",
      "conv4 (Conv2D)               (None, 24, 24, 256)       295168    \n",
      "_________________________________________________________________\n",
      "GAP (GlobalAveragePooling2D) (None, 256)               0         \n",
      "_________________________________________________________________\n",
      "output (Dense)               (None, 9)                 2313      \n",
      "=================================================================\n",
      "Total params: 390,729\n",
      "Trainable params: 390,729\n",
      "Non-trainable params: 0\n",
      "_________________________________________________________________\n"
     ]
    }
   ],
   "source": [
    "model.model.summary()"
   ]
  },
  {
   "cell_type": "markdown",
   "metadata": {},
   "source": [
    "- accuracyグラフ，lossグラフは以下．\n",
    "- 5epoch程度で落ち着いている．"
   ]
  },
  {
   "cell_type": "code",
   "execution_count": 51,
   "metadata": {},
   "outputs": [
    {
     "data": {
      "image/png": "[encoded data removed]",
      "text/plain": [
       "<Figure size 432x288 with 1 Axes>"
      ]
     },
     "metadata": {},
     "output_type": "display_data"
    },
    {
     "data": {
      "image/png": "[encoded data removed]",
      "text/plain": [
       "<Figure size 432x288 with 1 Axes>"
      ]
     },
     "metadata": {},
     "output_type": "display_data"
    }
   ],
   "source": [
    "# accuracy plot \n",
    "plt.plot(history.history['acc'])\n",
    "plt.plot(history.history['val_acc'])\n",
    "plt.title('model accuracy')\n",
    "plt.ylabel('accuracy')\n",
    "plt.xlabel('epoch')\n",
    "plt.legend(['train', 'test'], loc='upper left')\n",
    "plt.show()\n",
    "\n",
    "# loss plot\n",
    "plt.plot(history.history['loss'])\n",
    "plt.plot(history.history['val_loss'])\n",
    "plt.title('model loss')\n",
    "plt.ylabel('loss')\n",
    "plt.xlabel('epoch')\n",
    "plt.legend(['train', 'test'], loc='upper left')\n",
    "plt.show()"
   ]
  },
  {
   "cell_type": "markdown",
   "metadata": {},
   "source": [
    "### クラス活性化マップ"
   ]
  },
  {
   "cell_type": "code",
   "execution_count": 52,
   "metadata": {},
   "outputs": [],
   "source": [
    "#set target wafer number\n",
    "target_wafer_num = 2\n",
    "# predict \n",
    "prob = model.model.predict(x_test[target_wafer_num].reshape(1,26,26,3))"
   ]
  },
  {
   "cell_type": "code",
   "execution_count": 53,
   "metadata": {},
   "outputs": [],
   "source": [
    "aver_output = model.model.layers[7]\n",
    "aver_model = models.Model(input_tensor, aver_output.output)\n",
    "cam_result = aver_model.predict(x_test[target_wafer_num].reshape(1, 26, 26, 3))"
   ]
  },
  {
   "cell_type": "code",
   "execution_count": 54,
   "metadata": {},
   "outputs": [],
   "source": [
    "weight_result = model.model.layers[-1].get_weights()[0]"
   ]
  },
  {
   "cell_type": "code",
   "execution_count": 55,
   "metadata": {},
   "outputs": [],
   "source": [
    "def make_cam(cam_result, weight_result): \n",
    "    cam_arr = np.zeros((1,24, 24))\n",
    "    for row in range(0,9):\n",
    "        cam = np.zeros((1, 24, 24))\n",
    "        for i, w in enumerate(weight_result[:, row]):\n",
    "            cam += (w*cam_result[0,:,:,i]).reshape(24,24)\n",
    "        cam = (cam - np.min(cam)) / (np.max(cam) - np.min(cam))\n",
    "        cam[mask_x == 0] = 0\n",
    "        cam_arr = np.concatenate((cam_arr, cam))\n",
    "    return cam_arr[1:]\n",
    "\n",
    "def display_activation(cam_arr, prob, wafer): \n",
    "    fig, ax = plt.subplots(9, 1, figsize=(50, 50))\n",
    "    count = 0\n",
    "    cam_arr[np.percentile(cam_arr, 0.8) > cam_arr] = 0\n",
    "    for row in range(0,9):\n",
    "        ax[row].imshow(np.argmax(wafer, axis=2))\n",
    "        ax[row].imshow(cam_arr[row],cmap='Reds', alpha=0.7)\n",
    "        ax[row].set_title('class : ' + faulty_case_dict[count]+', prob : {:.4f}'.format(prob[:, count][0]*100) + '%')\n",
    "        count += 1"
   ]
  },
  {
   "cell_type": "code",
   "execution_count": 56,
   "metadata": {},
   "outputs": [
    {
     "data": {
      "text/plain": [
       "'Donut'"
      ]
     },
     "execution_count": 56,
     "metadata": {},
     "output_type": "execute_result"
    }
   ],
   "source": [
    "faulty_case_dict[np.argmax(y_test[target_wafer_num])]"
   ]
  },
  {
   "cell_type": "code",
   "execution_count": 57,
   "metadata": {},
   "outputs": [
    {
     "name": "stdout",
     "output_type": "stream",
     "text": [
      "faulty case : Donut\n"
     ]
    },
    {
     "data": {
      "image/png": "[encoded data removed]",
      "text/plain": [
       "<Figure size 432x288 with 1 Axes>"
      ]
     },
     "metadata": {},
     "output_type": "display_data"
    }
   ],
   "source": [
    "plt.imshow(np.argmax(x_test[target_wafer_num], axis=2))\n",
    "print('faulty case : {}'.format(faulty_case_dict[np.argmax(y_test[target_wafer_num])]))"
   ]
  },
  {
   "cell_type": "markdown",
   "metadata": {},
   "source": [
    "- 対象のウエハの画像と不良パターンの表示"
   ]
  },
  {
   "cell_type": "code",
   "execution_count": 58,
   "metadata": {},
   "outputs": [
    {
     "data": {
      "text/plain": [
       "(1, 24, 24, 256)"
      ]
     },
     "execution_count": 58,
     "metadata": {},
     "output_type": "execute_result"
    }
   ],
   "source": [
    "cam_result.shape"
   ]
  },
  {
   "cell_type": "code",
   "execution_count": 59,
   "metadata": {},
   "outputs": [],
   "source": [
    "cam_arr = make_cam(cam_result, weight_result)"
   ]
  },
  {
   "cell_type": "code",
   "execution_count": 60,
   "metadata": {},
   "outputs": [
    {
     "data": {
      "text/plain": [
       "(1, 9)"
      ]
     },
     "execution_count": 60,
     "metadata": {},
     "output_type": "execute_result"
    }
   ],
   "source": [
    "prob.shape"
   ]
  },
  {
   "cell_type": "code",
   "execution_count": 61,
   "metadata": {},
   "outputs": [
    {
     "data": {
      "image/png": "[encoded data removed]",
      "text/plain": [
       "<Figure size 3600x3600 with 9 Axes>"
      ]
     },
     "metadata": {},
     "output_type": "display_data"
    }
   ],
   "source": [
    "display_activation(cam_arr, prob, x_test[target_wafer_num])"
   ]
  },
  {
   "cell_type": "markdown",
   "metadata": {},
   "source": [
    "- 活性化マップの表示\n",
    "- ドーナツでは円形状にヒートマップの赤い部分が点在している"
   ]
  },
  {
   "cell_type": "code",
   "execution_count": null,
   "metadata": {},
   "outputs": [],
   "source": []
  },
  {
   "cell_type": "markdown",
   "metadata": {},
   "source": [
    "## 前回のCNN"
   ]
  },
  {
   "cell_type": "code",
   "execution_count": 62,
   "metadata": {},
   "outputs": [],
   "source": [
    "input_shape = (26, 26, 3)\n",
    "input_tensor = Input(input_shape)\n",
    "\n",
    "def create_model():\n",
    "    conv_1 = layers.Conv2D(16, (3,3), activation='relu', padding='same')(input_tensor)\n",
    "    conv_2 = layers.Conv2D(64, (3,3), activation='relu', padding='same')(conv_1)\n",
    "    conv_3 = layers.Conv2D(128, (3,3), activation='relu', padding='same')(conv_2)\n",
    "\n",
    "    flat = layers.Flatten()(conv_3)\n",
    "\n",
    "    dense_1 = layers.Dense(512, activation='relu')(flat)\n",
    "    dense_2 = layers.Dense(128, activation='relu')(dense_1)\n",
    "    output_tensor = layers.Dense(9, activation='softmax')(dense_2)\n",
    "\n",
    "    model = models.Model(input_tensor, output_tensor)\n",
    "    model.compile(optimizer='Adam',\n",
    "                 loss='categorical_crossentropy',\n",
    "                 metrics=['accuracy'])\n",
    "\n",
    "    return model"
   ]
  },
  {
   "cell_type": "markdown",
   "metadata": {},
   "source": [
    "- 3-Fold Cross validationで分割して学習する．"
   ]
  },
  {
   "cell_type": "code",
   "execution_count": 63,
   "metadata": {
    "scrolled": true
   },
   "outputs": [
    {
     "name": "stdout",
     "output_type": "stream",
     "text": [
      "Epoch 1/30\n",
      "8486/8486 [==============================] - 3s 338us/step - loss: 1.1831 - acc: 0.6257\n",
      "Epoch 2/30\n",
      "8486/8486 [==============================] - 1s 172us/step - loss: 0.2472 - acc: 0.9189\n",
      "Epoch 3/30\n",
      "8486/8486 [==============================] - 1s 175us/step - loss: 0.0802 - acc: 0.9781\n",
      "Epoch 4/30\n",
      "8486/8486 [==============================] - 1s 172us/step - loss: 0.0319 - acc: 0.9923\n",
      "Epoch 5/30\n",
      "8486/8486 [==============================] - 1s 174us/step - loss: 0.0140 - acc: 0.9969\n",
      "Epoch 6/30\n",
      "8486/8486 [==============================] - 1s 175us/step - loss: 0.0091 - acc: 0.9980\n",
      "Epoch 7/30\n",
      "8486/8486 [==============================] - 1s 172us/step - loss: 0.0065 - acc: 0.9987\n",
      "Epoch 8/30\n",
      "8486/8486 [==============================] - 1s 174us/step - loss: 0.0083 - acc: 0.9984\n",
      "Epoch 9/30\n",
      "8486/8486 [==============================] - 1s 174us/step - loss: 0.0079 - acc: 0.9984\n",
      "Epoch 10/30\n",
      "8486/8486 [==============================] - 1s 175us/step - loss: 0.0066 - acc: 0.9982\n",
      "Epoch 11/30\n",
      "8486/8486 [==============================] - 1s 173us/step - loss: 0.0053 - acc: 0.9985\n",
      "Epoch 12/30\n",
      "8486/8486 [==============================] - 1s 172us/step - loss: 0.0047 - acc: 0.9986\n",
      "Epoch 13/30\n",
      "8486/8486 [==============================] - 1s 173us/step - loss: 0.0074 - acc: 0.9982\n",
      "Epoch 14/30\n",
      "8486/8486 [==============================] - 1s 174us/step - loss: 0.0080 - acc: 0.9981\n",
      "Epoch 15/30\n",
      "8486/8486 [==============================] - 1s 174us/step - loss: 0.0052 - acc: 0.9987\n",
      "Epoch 16/30\n",
      "8486/8486 [==============================] - 1s 173us/step - loss: 0.0065 - acc: 0.9982\n",
      "Epoch 17/30\n",
      "8486/8486 [==============================] - 1s 174us/step - loss: 0.0068 - acc: 0.9987\n",
      "Epoch 18/30\n",
      "8486/8486 [==============================] - 1s 171us/step - loss: 0.0048 - acc: 0.9984\n",
      "Epoch 19/30\n",
      "8486/8486 [==============================] - 1s 173us/step - loss: 0.0097 - acc: 0.9987\n",
      "Epoch 20/30\n",
      "8486/8486 [==============================] - 1s 172us/step - loss: 0.0041 - acc: 0.9987\n",
      "Epoch 21/30\n",
      "8486/8486 [==============================] - 1s 173us/step - loss: 0.0030 - acc: 0.9989\n",
      "Epoch 22/30\n",
      "8486/8486 [==============================] - 1s 173us/step - loss: 0.0036 - acc: 0.9988\n",
      "Epoch 23/30\n",
      "8486/8486 [==============================] - 1s 174us/step - loss: 0.0049 - acc: 0.9988\n",
      "Epoch 24/30\n",
      "8486/8486 [==============================] - 1s 172us/step - loss: 0.0044 - acc: 0.9987\n",
      "Epoch 25/30\n",
      "8486/8486 [==============================] - 1s 172us/step - loss: 0.0057 - acc: 0.9984\n",
      "Epoch 26/30\n",
      "8486/8486 [==============================] - 1s 174us/step - loss: 0.0035 - acc: 0.9987\n",
      "Epoch 27/30\n",
      "8486/8486 [==============================] - 1s 174us/step - loss: 0.0029 - acc: 0.9991\n",
      "Epoch 28/30\n",
      "8486/8486 [==============================] - 1s 176us/step - loss: 0.0049 - acc: 0.9985\n",
      "Epoch 29/30\n",
      "8486/8486 [==============================] - 1s 175us/step - loss: 0.0033 - acc: 0.9987\n",
      "Epoch 30/30\n",
      "8486/8486 [==============================] - 1s 176us/step - loss: 0.0029 - acc: 0.9991\n",
      "4244/4244 [==============================] - 0s 112us/step\n",
      "Epoch 1/30\n",
      "8487/8487 [==============================] - 3s 344us/step - loss: 1.2701 - acc: 0.5984\n",
      "Epoch 2/30\n",
      "8487/8487 [==============================] - 1s 172us/step - loss: 0.2991 - acc: 0.9003\n",
      "Epoch 3/30\n",
      "8487/8487 [==============================] - 1s 174us/step - loss: 0.0765 - acc: 0.9799\n",
      "Epoch 4/30\n",
      "8487/8487 [==============================] - 1s 173us/step - loss: 0.0248 - acc: 0.9949\n",
      "Epoch 5/30\n",
      "8487/8487 [==============================] - 1s 173us/step - loss: 0.0131 - acc: 0.9978\n",
      "Epoch 6/30\n",
      "8487/8487 [==============================] - 1s 174us/step - loss: 0.0130 - acc: 0.9966\n",
      "Epoch 7/30\n",
      "8487/8487 [==============================] - 1s 174us/step - loss: 0.0086 - acc: 0.9987\n",
      "Epoch 8/30\n",
      "8487/8487 [==============================] - 1s 175us/step - loss: 0.0056 - acc: 0.9991\n",
      "Epoch 9/30\n",
      "8487/8487 [==============================] - 1s 174us/step - loss: 0.0088 - acc: 0.9986\n",
      "Epoch 10/30\n",
      "8487/8487 [==============================] - 1s 172us/step - loss: 0.0091 - acc: 0.9982\n",
      "Epoch 11/30\n",
      "8487/8487 [==============================] - 1s 176us/step - loss: 0.0064 - acc: 0.9988\n",
      "Epoch 12/30\n",
      "8487/8487 [==============================] - 1s 174us/step - loss: 0.0046 - acc: 0.9991\n",
      "Epoch 13/30\n",
      "8487/8487 [==============================] - 1s 173us/step - loss: 0.0085 - acc: 0.9981\n",
      "Epoch 14/30\n",
      "8487/8487 [==============================] - 1s 174us/step - loss: 0.0070 - acc: 0.9985\n",
      "Epoch 15/30\n",
      "8487/8487 [==============================] - 1s 175us/step - loss: 0.0074 - acc: 0.9984\n",
      "Epoch 16/30\n",
      "8487/8487 [==============================] - 1s 172us/step - loss: 0.0044 - acc: 0.9988\n",
      "Epoch 17/30\n",
      "8487/8487 [==============================] - 1s 174us/step - loss: 0.0042 - acc: 0.9987\n",
      "Epoch 18/30\n",
      "8487/8487 [==============================] - 1s 171us/step - loss: 0.0040 - acc: 0.9989\n",
      "Epoch 19/30\n",
      "8487/8487 [==============================] - 1s 171us/step - loss: 0.0046 - acc: 0.9985\n",
      "Epoch 20/30\n",
      "8487/8487 [==============================] - 1s 175us/step - loss: 0.0044 - acc: 0.9987\n",
      "Epoch 21/30\n",
      "8487/8487 [==============================] - 1s 174us/step - loss: 0.0068 - acc: 0.9987\n",
      "Epoch 22/30\n",
      "8487/8487 [==============================] - 1s 173us/step - loss: 0.0045 - acc: 0.9987\n",
      "Epoch 23/30\n",
      "8487/8487 [==============================] - 1s 173us/step - loss: 0.0040 - acc: 0.9989\n",
      "Epoch 24/30\n",
      "8487/8487 [==============================] - 1s 174us/step - loss: 0.0078 - acc: 0.9989\n",
      "Epoch 25/30\n",
      "8487/8487 [==============================] - 1s 174us/step - loss: 0.0035 - acc: 0.9989\n",
      "Epoch 26/30\n",
      "8487/8487 [==============================] - 1s 176us/step - loss: 0.0044 - acc: 0.9992\n",
      "Epoch 27/30\n",
      "8487/8487 [==============================] - 1s 175us/step - loss: 0.0029 - acc: 0.9989\n",
      "Epoch 28/30\n",
      "8487/8487 [==============================] - 1s 176us/step - loss: 0.0048 - acc: 0.9988\n",
      "Epoch 29/30\n",
      "8487/8487 [==============================] - 1s 173us/step - loss: 0.0029 - acc: 0.9989\n",
      "Epoch 30/30\n",
      "8487/8487 [==============================] - 1s 174us/step - loss: 0.0037 - acc: 0.9987\n",
      "4243/4243 [==============================] - 1s 121us/step\n",
      "Epoch 1/30\n",
      "8487/8487 [==============================] - 3s 343us/step - loss: 1.3003 - acc: 0.5578\n",
      "Epoch 2/30\n",
      "8487/8487 [==============================] - 1s 175us/step - loss: 0.3346 - acc: 0.8871\n",
      "Epoch 3/30\n",
      "8487/8487 [==============================] - 1s 175us/step - loss: 0.0851 - acc: 0.9763\n",
      "Epoch 4/30\n",
      "8487/8487 [==============================] - 1s 175us/step - loss: 0.0340 - acc: 0.9906\n",
      "Epoch 5/30\n",
      "8487/8487 [==============================] - 1s 175us/step - loss: 0.0135 - acc: 0.9973\n",
      "Epoch 6/30\n",
      "8487/8487 [==============================] - 1s 177us/step - loss: 0.0075 - acc: 0.9982\n",
      "Epoch 7/30\n",
      "8487/8487 [==============================] - 1s 174us/step - loss: 0.0231 - acc: 0.9960\n",
      "Epoch 8/30\n",
      "8487/8487 [==============================] - 1s 176us/step - loss: 0.0074 - acc: 0.9974\n",
      "Epoch 9/30\n",
      "8487/8487 [==============================] - 1s 175us/step - loss: 0.0068 - acc: 0.9981\n",
      "Epoch 10/30\n",
      "8487/8487 [==============================] - 1s 174us/step - loss: 0.0095 - acc: 0.9975\n",
      "Epoch 11/30\n",
      "8487/8487 [==============================] - 1s 175us/step - loss: 0.0071 - acc: 0.9982\n",
      "Epoch 12/30\n",
      "8487/8487 [==============================] - 1s 174us/step - loss: 0.0070 - acc: 0.9974\n",
      "Epoch 13/30\n",
      "8487/8487 [==============================] - 1s 175us/step - loss: 0.0067 - acc: 0.9982\n",
      "Epoch 14/30\n",
      "8487/8487 [==============================] - 1s 173us/step - loss: 0.0047 - acc: 0.9985\n",
      "Epoch 15/30\n",
      "8487/8487 [==============================] - 1s 174us/step - loss: 0.0054 - acc: 0.9982\n",
      "Epoch 16/30\n",
      "8487/8487 [==============================] - 1s 176us/step - loss: 0.0085 - acc: 0.9986\n",
      "Epoch 17/30\n",
      "8487/8487 [==============================] - 1s 174us/step - loss: 0.0054 - acc: 0.9984\n",
      "Epoch 18/30\n",
      "8487/8487 [==============================] - 1s 175us/step - loss: 0.0060 - acc: 0.9980\n",
      "Epoch 19/30\n",
      "8487/8487 [==============================] - 1s 173us/step - loss: 0.0047 - acc: 0.9984\n",
      "Epoch 20/30\n",
      "8487/8487 [==============================] - 1s 175us/step - loss: 0.0036 - acc: 0.9991\n",
      "Epoch 21/30\n",
      "8487/8487 [==============================] - 1s 176us/step - loss: 0.0038 - acc: 0.9991\n",
      "Epoch 22/30\n"
     ]
    },
    {
     "name": "stdout",
     "output_type": "stream",
     "text": [
      "8487/8487 [==============================] - 1s 174us/step - loss: 0.0038 - acc: 0.9989\n",
      "Epoch 23/30\n",
      "8487/8487 [==============================] - 1s 173us/step - loss: 0.0044 - acc: 0.9985\n",
      "Epoch 24/30\n",
      "8487/8487 [==============================] - 2s 177us/step - loss: 0.0087 - acc: 0.9976\n",
      "Epoch 25/30\n",
      "8487/8487 [==============================] - 1s 175us/step - loss: 0.0035 - acc: 0.9988\n",
      "Epoch 26/30\n",
      "8487/8487 [==============================] - 1s 176us/step - loss: 0.0040 - acc: 0.9987\n",
      "Epoch 27/30\n",
      "8487/8487 [==============================] - 1s 173us/step - loss: 0.0038 - acc: 0.9986\n",
      "Epoch 28/30\n",
      "8487/8487 [==============================] - 1s 174us/step - loss: 0.0049 - acc: 0.9984\n",
      "Epoch 29/30\n",
      "8487/8487 [==============================] - 1s 175us/step - loss: 0.0032 - acc: 0.9986\n",
      "Epoch 30/30\n",
      "8487/8487 [==============================] - 1s 174us/step - loss: 0.0033 - acc: 0.9988\n",
      "4243/4243 [==============================] - 1s 127us/step\n",
      "Class Activation Map Cross validation score : 0.9944\n"
     ]
    }
   ],
   "source": [
    "model = KerasClassifier(build_fn=create_model, epochs=30, batch_size=256, verbose=1) \n",
    "# 3-Fold Crossvalidation\n",
    "kfold = KFold(n_splits=3, shuffle=True, random_state=2019) \n",
    "results = cross_val_score(model, x_train, y_train, cv=kfold)\n",
    "# Check 3-fold model's mean accuracy\n",
    "print('Class Activation Map Cross validation score : {:.4f}'.format(np.mean(results)))"
   ]
  },
  {
   "cell_type": "markdown",
   "metadata": {},
   "source": [
    "- Cross validiationによる精度は99.10%であった．"
   ]
  },
  {
   "cell_type": "markdown",
   "metadata": {},
   "source": [
    "- Cross validationなしで学習する．"
   ]
  },
  {
   "cell_type": "code",
   "execution_count": 64,
   "metadata": {
    "scrolled": true
   },
   "outputs": [
    {
     "name": "stdout",
     "output_type": "stream",
     "text": [
      "Train on 12730 samples, validate on 6270 samples\n",
      "Epoch 1/50\n",
      "12730/12730 [==============================] - 4s 308us/step - loss: 1.0909 - acc: 0.6020 - val_loss: 0.4687 - val_acc: 0.8423\n",
      "Epoch 2/50\n",
      "12730/12730 [==============================] - 2s 147us/step - loss: 0.2273 - acc: 0.9314 - val_loss: 0.1342 - val_acc: 0.9585\n",
      "Epoch 3/50\n",
      "12730/12730 [==============================] - 2s 149us/step - loss: 0.0589 - acc: 0.9830 - val_loss: 0.0457 - val_acc: 0.9884\n",
      "Epoch 4/50\n",
      "12730/12730 [==============================] - 2s 150us/step - loss: 0.0240 - acc: 0.9948 - val_loss: 0.0408 - val_acc: 0.9890\n",
      "Epoch 5/50\n",
      "12730/12730 [==============================] - 2s 147us/step - loss: 0.0159 - acc: 0.9953 - val_loss: 0.0406 - val_acc: 0.9892\n",
      "Epoch 6/50\n",
      "12730/12730 [==============================] - 2s 148us/step - loss: 0.0131 - acc: 0.9976 - val_loss: 0.0298 - val_acc: 0.9920\n",
      "Epoch 7/50\n",
      "12730/12730 [==============================] - 2s 147us/step - loss: 0.0079 - acc: 0.9983 - val_loss: 0.0353 - val_acc: 0.9906\n",
      "Epoch 8/50\n",
      "12730/12730 [==============================] - 2s 144us/step - loss: 0.0098 - acc: 0.9979 - val_loss: 0.0261 - val_acc: 0.9927\n",
      "Epoch 9/50\n",
      "12730/12730 [==============================] - 2s 148us/step - loss: 0.0098 - acc: 0.9975 - val_loss: 0.0458 - val_acc: 0.9911\n",
      "Epoch 10/50\n",
      "12730/12730 [==============================] - 2s 147us/step - loss: 0.0172 - acc: 0.9965 - val_loss: 0.0264 - val_acc: 0.9927\n",
      "Epoch 11/50\n",
      "12730/12730 [==============================] - 2s 147us/step - loss: 0.0134 - acc: 0.9976 - val_loss: 0.0293 - val_acc: 0.9917\n",
      "Epoch 12/50\n",
      "12730/12730 [==============================] - 2s 146us/step - loss: 0.0085 - acc: 0.9979 - val_loss: 0.0354 - val_acc: 0.9906\n",
      "Epoch 13/50\n",
      "12730/12730 [==============================] - 2s 145us/step - loss: 0.0063 - acc: 0.9983 - val_loss: 0.0293 - val_acc: 0.9914\n",
      "Epoch 14/50\n",
      "12730/12730 [==============================] - 2s 145us/step - loss: 0.0094 - acc: 0.9974 - val_loss: 0.0293 - val_acc: 0.9930\n",
      "Epoch 15/50\n",
      "12730/12730 [==============================] - 2s 148us/step - loss: 0.0058 - acc: 0.9988 - val_loss: 0.0361 - val_acc: 0.9909\n",
      "Epoch 16/50\n",
      "12730/12730 [==============================] - 2s 145us/step - loss: 0.0055 - acc: 0.9982 - val_loss: 0.0361 - val_acc: 0.9903\n",
      "Epoch 17/50\n",
      "12730/12730 [==============================] - 2s 149us/step - loss: 0.0064 - acc: 0.9981 - val_loss: 0.0338 - val_acc: 0.9925\n",
      "Epoch 18/50\n",
      "12730/12730 [==============================] - 2s 147us/step - loss: 0.0075 - acc: 0.9985 - val_loss: 0.0248 - val_acc: 0.9927\n",
      "Epoch 19/50\n",
      "12730/12730 [==============================] - 2s 149us/step - loss: 0.0041 - acc: 0.9987 - val_loss: 0.0240 - val_acc: 0.9930\n",
      "Epoch 20/50\n",
      "12730/12730 [==============================] - 2s 148us/step - loss: 0.0045 - acc: 0.9987 - val_loss: 0.0269 - val_acc: 0.9927\n",
      "Epoch 21/50\n",
      "12730/12730 [==============================] - 2s 148us/step - loss: 0.0035 - acc: 0.9990 - val_loss: 0.0312 - val_acc: 0.9911\n",
      "Epoch 22/50\n",
      "12730/12730 [==============================] - 2s 148us/step - loss: 0.0049 - acc: 0.9986 - val_loss: 0.0250 - val_acc: 0.9923\n",
      "Epoch 23/50\n",
      "12730/12730 [==============================] - 2s 149us/step - loss: 0.0034 - acc: 0.9988 - val_loss: 0.0245 - val_acc: 0.9931\n",
      "Epoch 24/50\n",
      "12730/12730 [==============================] - 2s 148us/step - loss: 0.0048 - acc: 0.9987 - val_loss: 0.0248 - val_acc: 0.9933\n",
      "Epoch 25/50\n",
      "12730/12730 [==============================] - 2s 148us/step - loss: 0.0056 - acc: 0.9982 - val_loss: 0.0273 - val_acc: 0.9919\n",
      "Epoch 26/50\n",
      "12730/12730 [==============================] - 2s 146us/step - loss: 0.0053 - acc: 0.9984 - val_loss: 0.0228 - val_acc: 0.9935\n",
      "Epoch 27/50\n",
      "12730/12730 [==============================] - 2s 144us/step - loss: 0.0045 - acc: 0.9984 - val_loss: 0.0324 - val_acc: 0.9919\n",
      "Epoch 28/50\n",
      "12730/12730 [==============================] - 2s 145us/step - loss: 0.0032 - acc: 0.9990 - val_loss: 0.0281 - val_acc: 0.9914\n",
      "Epoch 29/50\n",
      "12730/12730 [==============================] - 2s 145us/step - loss: 0.0035 - acc: 0.9987 - val_loss: 0.0294 - val_acc: 0.9914\n",
      "Epoch 30/50\n",
      "12730/12730 [==============================] - 2s 147us/step - loss: 0.0030 - acc: 0.9989 - val_loss: 0.0234 - val_acc: 0.9935\n",
      "Epoch 31/50\n",
      "12730/12730 [==============================] - 2s 148us/step - loss: 0.0034 - acc: 0.9991 - val_loss: 0.0245 - val_acc: 0.9943\n",
      "Epoch 32/50\n",
      "12730/12730 [==============================] - 2s 148us/step - loss: 0.0026 - acc: 0.9991 - val_loss: 0.0243 - val_acc: 0.9927\n",
      "Epoch 33/50\n",
      "12730/12730 [==============================] - 2s 147us/step - loss: 0.0034 - acc: 0.9989 - val_loss: 0.0318 - val_acc: 0.9915\n",
      "Epoch 34/50\n",
      "12730/12730 [==============================] - 2s 146us/step - loss: 0.0027 - acc: 0.9991 - val_loss: 0.0330 - val_acc: 0.9928\n",
      "Epoch 35/50\n",
      "12730/12730 [==============================] - 2s 145us/step - loss: 0.0048 - acc: 0.9985 - val_loss: 0.0274 - val_acc: 0.9935\n",
      "Epoch 36/50\n",
      "12730/12730 [==============================] - 2s 149us/step - loss: 0.0026 - acc: 0.9994 - val_loss: 0.0193 - val_acc: 0.9943\n",
      "Epoch 37/50\n",
      "12730/12730 [==============================] - 2s 147us/step - loss: 0.0037 - acc: 0.9984 - val_loss: 0.0295 - val_acc: 0.9938\n",
      "Epoch 38/50\n",
      "12730/12730 [==============================] - 2s 147us/step - loss: 0.0023 - acc: 0.9991 - val_loss: 0.0214 - val_acc: 0.9933\n",
      "Epoch 39/50\n",
      "12730/12730 [==============================] - 2s 149us/step - loss: 0.0030 - acc: 0.9990 - val_loss: 0.0230 - val_acc: 0.9930\n",
      "Epoch 40/50\n",
      "12730/12730 [==============================] - 2s 146us/step - loss: 0.0034 - acc: 0.9988 - val_loss: 0.0205 - val_acc: 0.9946\n",
      "Epoch 41/50\n",
      "12730/12730 [==============================] - 2s 146us/step - loss: 0.0032 - acc: 0.9991 - val_loss: 0.0401 - val_acc: 0.9906\n",
      "Epoch 42/50\n",
      "12730/12730 [==============================] - 2s 147us/step - loss: 0.0030 - acc: 0.9989 - val_loss: 0.0190 - val_acc: 0.9951\n",
      "Epoch 43/50\n",
      "12730/12730 [==============================] - 2s 149us/step - loss: 0.0024 - acc: 0.9991 - val_loss: 0.0254 - val_acc: 0.9943\n",
      "Epoch 44/50\n",
      "12730/12730 [==============================] - 2s 146us/step - loss: 0.0039 - acc: 0.9990 - val_loss: 0.0266 - val_acc: 0.9925\n",
      "Epoch 45/50\n",
      "12730/12730 [==============================] - 2s 146us/step - loss: 0.3193 - acc: 0.9603 - val_loss: 7.6445 - val_acc: 0.2748\n",
      "Epoch 46/50\n",
      "12730/12730 [==============================] - 2s 146us/step - loss: 1.8120 - acc: 0.6247 - val_loss: 0.4108 - val_acc: 0.8434\n",
      "Epoch 47/50\n",
      "12730/12730 [==============================] - 2s 147us/step - loss: 0.1975 - acc: 0.9311 - val_loss: 0.0863 - val_acc: 0.9770\n",
      "Epoch 48/50\n",
      "12730/12730 [==============================] - 2s 147us/step - loss: 0.0352 - acc: 0.9913 - val_loss: 0.0407 - val_acc: 0.9900\n",
      "Epoch 49/50\n",
      "12730/12730 [==============================] - 2s 149us/step - loss: 0.0130 - acc: 0.9969 - val_loss: 0.0249 - val_acc: 0.9941\n",
      "Epoch 50/50\n",
      "12730/12730 [==============================] - 2s 147us/step - loss: 0.0093 - acc: 0.9980 - val_loss: 0.0309 - val_acc: 0.9935\n"
     ]
    }
   ],
   "source": [
    "history = model.fit(x_train, y_train,\n",
    "         validation_data=[x_test, y_test],\n",
    "         epochs=50,\n",
    "         batch_size=512,\n",
    "         verbose=1\n",
    "         )"
   ]
  },
  {
   "cell_type": "markdown",
   "metadata": {},
   "source": [
    "- テストデータで評価．    "
   ]
  },
  {
   "cell_type": "code",
   "execution_count": 65,
   "metadata": {},
   "outputs": [
    {
     "name": "stdout",
     "output_type": "stream",
     "text": [
      "6270/6270 [==============================] - 0s 48us/step\n",
      "Testing Accuracy: 0.9934609250398724\n"
     ]
    }
   ],
   "source": [
    "score = model.score(x_test, y_test)\n",
    "#print('Test Loss:', score[0])\n",
    "#print('Test accuracy:', score[1])\n",
    "print('Testing Accuracy:',score)"
   ]
  },
  {
   "cell_type": "markdown",
   "metadata": {},
   "source": [
    "- acuurayは99.34%であった．"
   ]
  },
  {
   "cell_type": "markdown",
   "metadata": {},
   "source": [
    "- モデルは以下．\n",
    "    - 入力層\n",
    "    - 畳み込み層3つ\n",
    "    - Flatten層（1次元に）\n",
    "    - 全結合層3つ"
   ]
  },
  {
   "cell_type": "code",
   "execution_count": 66,
   "metadata": {
    "scrolled": true
   },
   "outputs": [
    {
     "name": "stdout",
     "output_type": "stream",
     "text": [
      "_________________________________________________________________\n",
      "Layer (type)                 Output Shape              Param #   \n",
      "=================================================================\n",
      "input_4 (InputLayer)         (None, 26, 26, 3)         0         \n",
      "_________________________________________________________________\n",
      "conv2d_11 (Conv2D)           (None, 26, 26, 16)        448       \n",
      "_________________________________________________________________\n",
      "conv2d_12 (Conv2D)           (None, 26, 26, 64)        9280      \n",
      "_________________________________________________________________\n",
      "conv2d_13 (Conv2D)           (None, 26, 26, 128)       73856     \n",
      "_________________________________________________________________\n",
      "flatten_4 (Flatten)          (None, 86528)             0         \n",
      "_________________________________________________________________\n",
      "dense_10 (Dense)             (None, 512)               44302848  \n",
      "_________________________________________________________________\n",
      "dense_11 (Dense)             (None, 128)               65664     \n",
      "_________________________________________________________________\n",
      "dense_12 (Dense)             (None, 9)                 1161      \n",
      "=================================================================\n",
      "Total params: 44,453,257\n",
      "Trainable params: 44,453,257\n",
      "Non-trainable params: 0\n",
      "_________________________________________________________________\n"
     ]
    }
   ],
   "source": [
    "model.model.summary()"
   ]
  },
  {
   "cell_type": "markdown",
   "metadata": {},
   "source": [
    "- accuracyグラフ，lossグラフは以下．\n",
    "- 5epoch程度で落ち着いている．"
   ]
  },
  {
   "cell_type": "code",
   "execution_count": 67,
   "metadata": {},
   "outputs": [
    {
     "data": {
      "image/png": "[encoded data removed]",
      "text/plain": [
       "<Figure size 432x288 with 1 Axes>"
      ]
     },
     "metadata": {},
     "output_type": "display_data"
    },
    {
     "data": {
      "image/png": "[encoded data removed]",
      "text/plain": [
       "<Figure size 432x288 with 1 Axes>"
      ]
     },
     "metadata": {},
     "output_type": "display_data"
    }
   ],
   "source": [
    "# accuracy plot \n",
    "plt.plot(history.history['acc'])\n",
    "plt.plot(history.history['val_acc'])\n",
    "plt.title('model accuracy')\n",
    "plt.ylabel('accuracy')\n",
    "plt.xlabel('epoch')\n",
    "plt.legend(['train', 'test'], loc='upper left')\n",
    "plt.show()\n",
    "\n",
    "# loss plot\n",
    "plt.plot(history.history['loss'])\n",
    "plt.plot(history.history['val_loss'])\n",
    "plt.title('model loss')\n",
    "plt.ylabel('loss')\n",
    "plt.xlabel('epoch')\n",
    "plt.legend(['train', 'test'], loc='upper left')\n",
    "plt.show()"
   ]
  },
  {
   "cell_type": "markdown",
   "metadata": {},
   "source": [
    "### クラス活性化マップ"
   ]
  },
  {
   "cell_type": "code",
   "execution_count": 68,
   "metadata": {},
   "outputs": [],
   "source": [
    "#set target wafer number\n",
    "target_wafer_num = 2\n",
    "# predict \n",
    "prob = model.model.predict(x_test[target_wafer_num].reshape(1,26,26,3))"
   ]
  },
  {
   "cell_type": "code",
   "execution_count": 69,
   "metadata": {},
   "outputs": [],
   "source": [
    "aver_output = model.model.layers[3]\n",
    "aver_model = models.Model(input_tensor, aver_output.output)\n",
    "cam_result = aver_model.predict(x_test[target_wafer_num].reshape(1, 26, 26, 3))"
   ]
  },
  {
   "cell_type": "code",
   "execution_count": 70,
   "metadata": {},
   "outputs": [
    {
     "name": "stdout",
     "output_type": "stream",
     "text": [
      "conv2d_13\n"
     ]
    }
   ],
   "source": [
    "print(model.model.layers[3].name)"
   ]
  },
  {
   "cell_type": "code",
   "execution_count": 71,
   "metadata": {},
   "outputs": [],
   "source": [
    "weight_result = model.model.layers[-1].get_weights()[0]"
   ]
  },
  {
   "cell_type": "code",
   "execution_count": 79,
   "metadata": {},
   "outputs": [],
   "source": [
    "def make_cam(cam_result, weight_result): \n",
    "    cam_arr = np.zeros((1,26, 26))\n",
    "    for row in range(0,9):\n",
    "        cam = np.zeros((1, 26, 26))\n",
    "        for i, w in enumerate(weight_result[:, row]):\n",
    "            cam += (w*cam_result[0,:,:,i]).reshape(26,26)\n",
    "        cam = (cam - np.min(cam)) / (np.max(cam) - np.min(cam))\n",
    "        cam[mask_x == 0] = 0\n",
    "        cam_arr = np.concatenate((cam_arr, cam))\n",
    "    return cam_arr[1:]\n",
    "\n",
    "def display_activation(cam_arr, prob, wafer): \n",
    "    fig, ax = plt.subplots(9, 1, figsize=(50, 50))\n",
    "    count = 0\n",
    "    cam_arr[np.percentile(cam_arr, 0.8) > cam_arr] = 0\n",
    "    for row in range(0,9):\n",
    "        ax[row].imshow(np.argmax(wafer, axis=2))\n",
    "        ax[row].imshow(cam_arr[row],cmap='Reds', alpha=0.7)\n",
    "        ax[row].set_title('class : ' + faulty_case_dict[count]+', prob : {:.4f}'.format(prob[:, count][0]*100) + '%')\n",
    "        count += 1"
   ]
  },
  {
   "cell_type": "code",
   "execution_count": 73,
   "metadata": {},
   "outputs": [
    {
     "data": {
      "text/plain": [
       "'Donut'"
      ]
     },
     "execution_count": 73,
     "metadata": {},
     "output_type": "execute_result"
    }
   ],
   "source": [
    "faulty_case_dict[np.argmax(y_test[target_wafer_num])]"
   ]
  },
  {
   "cell_type": "code",
   "execution_count": 74,
   "metadata": {},
   "outputs": [
    {
     "name": "stdout",
     "output_type": "stream",
     "text": [
      "faulty case : Donut\n"
     ]
    },
    {
     "data": {
      "image/png": "[encoded data removed]",
      "text/plain": [
       "<Figure size 432x288 with 1 Axes>"
      ]
     },
     "metadata": {},
     "output_type": "display_data"
    }
   ],
   "source": [
    "plt.imshow(np.argmax(x_test[target_wafer_num], axis=2))\n",
    "print('faulty case : {}'.format(faulty_case_dict[np.argmax(y_test[target_wafer_num])]))"
   ]
  },
  {
   "cell_type": "markdown",
   "metadata": {},
   "source": [
    "- 対象のウエハの画像と不良パターンの表示"
   ]
  },
  {
   "cell_type": "code",
   "execution_count": 75,
   "metadata": {},
   "outputs": [
    {
     "data": {
      "text/plain": [
       "(1, 26, 26, 128)"
      ]
     },
     "execution_count": 75,
     "metadata": {},
     "output_type": "execute_result"
    }
   ],
   "source": [
    "cam_result.shape"
   ]
  },
  {
   "cell_type": "code",
   "execution_count": 77,
   "metadata": {},
   "outputs": [],
   "source": [
    "mask_x = np.zeros((26, 26))\n",
    "dummy_x = cv2.resize(x[0], (26,26))\n",
    "mask_x[dummy_x == 1] = 1 \n",
    "mask_x[dummy_x == 2] = 1 \n",
    "mask_x = mask_x.reshape((1, 26,26))"
   ]
  },
  {
   "cell_type": "code",
   "execution_count": 80,
   "metadata": {},
   "outputs": [],
   "source": [
    "cam_arr = make_cam(cam_result, weight_result)"
   ]
  },
  {
   "cell_type": "code",
   "execution_count": 81,
   "metadata": {},
   "outputs": [
    {
     "data": {
      "text/plain": [
       "(1, 9)"
      ]
     },
     "execution_count": 81,
     "metadata": {},
     "output_type": "execute_result"
    }
   ],
   "source": [
    "prob.shape"
   ]
  },
  {
   "cell_type": "code",
   "execution_count": 82,
   "metadata": {},
   "outputs": [
    {
     "data": {
      "image/png": "[encoded data removed]",
      "text/plain": [
       "<Figure size 3600x3600 with 9 Axes>"
      ]
     },
     "metadata": {},
     "output_type": "display_data"
    }
   ],
   "source": [
    "display_activation(cam_arr, prob, x_test[target_wafer_num])"
   ]
  },
  {
   "cell_type": "markdown",
   "metadata": {},
   "source": [
    "- 活性化マップの表示\n",
    "- ドーナツでは円形状にヒートマップの赤い部分が点在している"
   ]
  },
  {
   "cell_type": "code",
   "execution_count": null,
   "metadata": {},
   "outputs": [],
   "source": []
  }
 ],
 "metadata": {
  "kernelspec": {
   "display_name": "Python 3 (Anaconda)",
   "language": "python",
   "name": "python3_anaconda"
  },
  "language_info": {
   "codemirror_mode": {
    "name": "ipython",
    "version": 3
   },
   "file_extension": ".py",
   "mimetype": "text/x-python",
   "name": "python",
   "nbconvert_exporter": "python",
   "pygments_lexer": "ipython3",
   "version": "3.6.8"
  }
 },
 "nbformat": 4,
 "nbformat_minor": 2
}
