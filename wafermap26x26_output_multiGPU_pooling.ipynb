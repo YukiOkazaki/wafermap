{
 "cells": [
  {
   "cell_type": "markdown",
   "metadata": {},
   "source": [
    "# 提案手法の実験（ラベルが適切か出力）"
   ]
  },
  {
   "cell_type": "markdown",
   "metadata": {},
   "source": [
    "## 26x26のウエハに限定して機械学習させる\n",
    "- データオーギュメンテーション（鏡映，回転を追加）"
   ]
  },
  {
   "cell_type": "markdown",
   "metadata": {},
   "source": [
    "### import，入力データの読み込み"
   ]
  },
  {
   "cell_type": "code",
   "execution_count": 1,
   "metadata": {},
   "outputs": [
    {
     "name": "stdout",
     "output_type": "stream",
     "text": [
      "../input/LSWMD.pkl\n"
     ]
    }
   ],
   "source": [
    "# This Python 3 environment comes with many helpful analytics libraries installed\n",
    "# It is defined by the kaggle/python docker image: https://github.com/kaggle/docker-python\n",
    "# For example, here's several helpful packages to load in \n",
    "\n",
    "import numpy as np # linear algebra\n",
    "import pandas as pd # data processing, CSV file I/O (e.g. pd.read_csv)\n",
    "\n",
    "# Input data files are available in the \"../input/\" directory.\n",
    "# For example, running this (by clicking run or pressing Shift+Enter) will list all files under the input directory\n",
    "\n",
    "import os\n",
    "for dirname, _, filenames in os.walk('../input'):\n",
    "    for filename in filenames:\n",
    "        print(os.path.join(dirname, filename))\n",
    "\n",
    "# Any results you write to the current directory are saved as output."
   ]
  },
  {
   "cell_type": "code",
   "execution_count": 2,
   "metadata": {
    "scrolled": true
   },
   "outputs": [
    {
     "name": "stdout",
     "output_type": "stream",
     "text": [
      "[PhysicalDevice(name='/physical_device:GPU:0', device_type='GPU'), PhysicalDevice(name='/physical_device:GPU:1', device_type='GPU')]\n",
      "PhysicalDevice(name='/physical_device:GPU:0', device_type='GPU') memory growth: True\n",
      "PhysicalDevice(name='/physical_device:GPU:1', device_type='GPU') memory growth: True\n",
      "[LogicalDevice(name='/device:GPU:0', device_type='GPU'), LogicalDevice(name='/device:GPU:1', device_type='GPU')]\n"
     ]
    },
    {
     "name": "stderr",
     "output_type": "stream",
     "text": [
      "Using TensorFlow backend.\n"
     ]
    },
    {
     "name": "stdout",
     "output_type": "stream",
     "text": [
      "['LSWMD.pkl']\n"
     ]
    }
   ],
   "source": [
    "import os\n",
    "from os.path import join\n",
    "os.environ[\"CUDA_VISIBLE_DEVICES\"] = \"0,1\"\n",
    "\n",
    "import csv\n",
    "\n",
    "import pickle\n",
    "import copy\n",
    "import cv2\n",
    "import random\n",
    "\n",
    "from sklearn.model_selection import KFold \n",
    "from sklearn.model_selection import cross_val_score\n",
    "from sklearn.model_selection import train_test_split\n",
    "\n",
    "import tensorflow as tf\n",
    "physical_devices = tf.config.list_physical_devices('GPU')\n",
    "print(physical_devices)\n",
    "if len(physical_devices) > 0:\n",
    "    for device in physical_devices:\n",
    "        tf.config.experimental.set_memory_growth(device, True)\n",
    "        print('{} memory growth: {}'.format(device, tf.config.experimental.get_memory_growth(device)))\n",
    "else:\n",
    "    print(\"Not enough GPU hardware devices available\")\n",
    "logical_gpus = tf.config.experimental.list_logical_devices('GPU')\n",
    "print(logical_gpus)\n",
    "import keras\n",
    "from tensorflow.keras import layers, Input, models\n",
    "from tensorflow.keras.utils import to_categorical\n",
    "from tensorflow.keras.wrappers.scikit_learn import KerasClassifier \n",
    "import keras.backend.tensorflow_backend as tfback\n",
    "# from tf.keras.utils import multi_gpu_model\n",
    "\n",
    "\n",
    "import matplotlib.pyplot as plt\n",
    "\n",
    "from keras.preprocessing import image\n",
    "from keras.preprocessing.image import ImageDataGenerator\n",
    "\n",
    "datapath = join('data', 'wafer')\n",
    "\n",
    "print(os.listdir(\"../input\"))\n",
    "import warnings\n",
    "warnings.filterwarnings(\"ignore\")\n",
    "\n",
    "MAKE_DATASET = False"
   ]
  },
  {
   "cell_type": "markdown",
   "metadata": {},
   "source": [
    "### データについて"
   ]
  },
  {
   "cell_type": "markdown",
   "metadata": {},
   "source": [
    "- データセットは811,457枚のウエハマップから構成されている．"
   ]
  },
  {
   "cell_type": "markdown",
   "metadata": {},
   "source": [
    "- ウエハマップのそれぞれの列から得られる情報はないが，インスタンスごとにダイサイズが異なることがわかる．\n",
    "- ウエハマップのダイサイズをチェックするための変数`WaferMapDim`を定義する．（縦，横の値）"
   ]
  },
  {
   "cell_type": "code",
   "execution_count": 3,
   "metadata": {},
   "outputs": [],
   "source": [
    "if MAKE_DATASET:\n",
    "    df=pd.read_pickle(\"../input/LSWMD.pkl\")\n",
    "\n",
    "    df = df.drop(['waferIndex'], axis = 1)\n",
    "\n",
    "    def find_dim(x):\n",
    "        dim0=np.size(x,axis=0)\n",
    "        dim1=np.size(x,axis=1)\n",
    "        return dim0,dim1\n",
    "    df['waferMapDim']=df.waferMap.apply(find_dim)"
   ]
  },
  {
   "cell_type": "markdown",
   "metadata": {},
   "source": [
    "- 不良パターンと学習orテストラベルを数値で表す．"
   ]
  },
  {
   "cell_type": "code",
   "execution_count": 4,
   "metadata": {},
   "outputs": [],
   "source": [
    "if MAKE_DATASET:\n",
    "    df['failureNum']=df.failureType\n",
    "    df['trainTestNum']=df.trianTestLabel\n",
    "    mapping_type={'Center':0,'Donut':1,'Edge-Loc':2,'Edge-Ring':3,'Loc':4,'Random':5,'Scratch':6,'Near-full':7,'none':8}\n",
    "    mapping_traintest={'Training':0,'Test':1}\n",
    "    df=df.replace({'failureNum':mapping_type, 'trainTestNum':mapping_traintest})\n",
    "\n",
    "    tol_wafers = df.shape[0]\n",
    "\n",
    "    df_withlabel = df[(df['failureNum']>=0) & (df['failureNum']<=8)]\n",
    "    df_withlabel =df_withlabel.reset_index()\n",
    "    df_withpattern = df[(df['failureNum']>=0) & (df['failureNum']<=7)]\n",
    "    df_withpattern = df_withpattern.reset_index()\n",
    "    df_nonpattern = df[(df['failureNum']==8)]"
   ]
  },
  {
   "cell_type": "markdown",
   "metadata": {},
   "source": [
    "### 26x26のデータに対して処理"
   ]
  },
  {
   "cell_type": "code",
   "execution_count": 5,
   "metadata": {},
   "outputs": [],
   "source": [
    "if MAKE_DATASET:\n",
    "    sub_df = df.loc[df['waferMapDim'] == (26, 26)]\n",
    "    sub_wafer = sub_df['waferMap'].values\n",
    "\n",
    "    sw = np.ones((1, 26, 26))\n",
    "    label = list()\n",
    "\n",
    "    for i in range(len(sub_df)):\n",
    "        # skip null label\n",
    "        if len(sub_df.iloc[i,:]['failureType']) == 0:\n",
    "            continue\n",
    "        sw = np.concatenate((sw, sub_df.iloc[i,:]['waferMap'].reshape(1, 26, 26)))\n",
    "        label.append(sub_df.iloc[i,:]['failureType'][0][0])\n",
    "\n",
    "    x = sw[1:]\n",
    "    y = np.array(label).reshape((-1,1))"
   ]
  },
  {
   "cell_type": "markdown",
   "metadata": {},
   "source": [
    "### xとyをファイルに保存"
   ]
  },
  {
   "cell_type": "code",
   "execution_count": 6,
   "metadata": {},
   "outputs": [],
   "source": [
    "def pickle_dump(obj, path):\n",
    "    with open(path, mode='wb') as f:\n",
    "        pickle.dump(obj,f)\n",
    "\n",
    "def pickle_load(path):\n",
    "    with open(path, mode='rb') as f:\n",
    "        data = pickle.load(f)\n",
    "        return data\n",
    "\n",
    "if MAKE_DATASET:\n",
    "    pickle_dump(x, './data/x2626.pickle')\n",
    "    pickle_dump(y, './data/y2626.pickle')\n",
    "    \n",
    "if not MAKE_DATASET:\n",
    "    x = pickle_load('./data/x2626.pickle')\n",
    "    y = pickle_load('./data/y2626.pickle')"
   ]
  },
  {
   "cell_type": "code",
   "execution_count": 7,
   "metadata": {},
   "outputs": [],
   "source": [
    "mask_x = np.zeros((24, 24))\n",
    "dummy_x = cv2.resize(x[0], (24,24))\n",
    "mask_x[dummy_x == 1] = 1 \n",
    "mask_x[dummy_x == 2] = 1 \n",
    "mask_x = mask_x.reshape((1, 24,24))"
   ]
  },
  {
   "cell_type": "code",
   "execution_count": 8,
   "metadata": {},
   "outputs": [
    {
     "name": "stdout",
     "output_type": "stream",
     "text": [
      "x shape : (14366, 26, 26), y shape : (14366, 1)\n"
     ]
    }
   ],
   "source": [
    "print('x shape : {}, y shape : {}'.format(x.shape, y.shape))"
   ]
  },
  {
   "cell_type": "markdown",
   "metadata": {},
   "source": [
    "- 26x26のウエハが14366枚抽出できた．"
   ]
  },
  {
   "cell_type": "code",
   "execution_count": 9,
   "metadata": {
    "scrolled": true
   },
   "outputs": [],
   "source": [
    "# print(y[50][0])\n",
    "# c = 0\n",
    "# for i in range(len(y)):\n",
    "#     if y[i][0] == 'Edge-Ring':\n",
    "#         plt.imshow(x[i])\n",
    "#         print(y[i])\n",
    "#         plt.show()\n",
    "#         c += 1\n",
    "        \n",
    "# print(c)"
   ]
  },
  {
   "cell_type": "markdown",
   "metadata": {},
   "source": [
    "- 最初のデータを可視化してみる．\n",
    "- その前に，26x26のデータでおかしなものを表示"
   ]
  },
  {
   "cell_type": "code",
   "execution_count": 10,
   "metadata": {},
   "outputs": [],
   "source": [
    "for i in range(len(x)):\n",
    "    error = np.where((x[0] != x[i]) & ((x[0] == 0) | (x[i] == 0)))"
   ]
  },
  {
   "cell_type": "markdown",
   "metadata": {},
   "source": [
    "- おかしなウエハは除去する"
   ]
  },
  {
   "cell_type": "code",
   "execution_count": 11,
   "metadata": {},
   "outputs": [
    {
     "name": "stdout",
     "output_type": "stream",
     "text": [
      "(14350, 26, 26)\n",
      "(14350, 1)\n"
     ]
    }
   ],
   "source": [
    "error_list = []\n",
    "for i in range(len(x)):\n",
    "    error = np.where((x[0] != x[i]) & ((x[0] == 0) | (x[i] == 0)))\n",
    "    if len(error[0]) > 0:\n",
    "        error_list.append(i)\n",
    "x = np.delete(x, error_list, 0)\n",
    "y = np.delete(y, error_list, 0)\n",
    "print(x.shape)\n",
    "print(y.shape)"
   ]
  },
  {
   "cell_type": "markdown",
   "metadata": {},
   "source": [
    "- 形が異なるウエハを削除したところ，14350枚となった．"
   ]
  },
  {
   "cell_type": "markdown",
   "metadata": {},
   "source": [
    "### かぶりの除去"
   ]
  },
  {
   "cell_type": "code",
   "execution_count": 12,
   "metadata": {
    "scrolled": true
   },
   "outputs": [],
   "source": [
    "# かぶっているものを特定する\n",
    "# count = 0\n",
    "# no = 0\n",
    "# duplicate_list = []\n",
    "# for i in range(x.shape[0]):\n",
    "#     dup = 0\n",
    "#     for j in range(i+1, x.shape[0]):\n",
    "#         if np.array_equal(x[i], x[j]):\n",
    "#             count += 1\n",
    "#             dup += 1\n",
    "#             if y[i][0] != y[j][0]:  \n",
    "#                 no += 1\n",
    "#                 print(str(i) + \":\" + y[i][0] + \", \" + str(j) + \":\" + y[j][0])\n",
    "#                 plt.imshow(x[i])\n",
    "#                 plt.show()\n",
    "#             else:\n",
    "#                 duplicate_list.append(j)\n",
    "#     if dup > 1:\n",
    "#         print(i)\n",
    "\n",
    "# print(count)\n",
    "# print(no)\n",
    "# print(duplicate_list)"
   ]
  },
  {
   "cell_type": "markdown",
   "metadata": {},
   "source": [
    "- 重複しているウエハ（同じラベル）\n",
    "    - `duplicate_list`\n",
    "- 異なるラベル付けがされた重複しているウエハに対し，残すものをピックアップ\n",
    "    - 565:none\n",
    "    - 6944:Edge-Loc\n",
    "    - 10875:Edge-Loc\n",
    "    - 2103:Center\n",
    "    - 9884:Loc\n",
    "    - 10987:Edge-Loc\n",
    "    - 11437:Edge-Loc\n",
    "    - 4628:none\n",
    "    - 5021:Edge-Loc\n",
    "    - 9706:Loc\n",
    "    - 9007:Loc\n",
    "    - 10943:Edge-Loc\n",
    "    - 9137:Edge-Loc\n",
    "    - 11345:Edge-Loc\n",
    "- 残さないものはdupulicate_listに追加\n",
    "    - [8106, 1276, 1929, 10626, 2603, 3264, 3712, 11012, 9412, 5160, 5521, 5828, 6058, 6238]"
   ]
  },
  {
   "cell_type": "code",
   "execution_count": 13,
   "metadata": {
    "scrolled": true
   },
   "outputs": [
    {
     "name": "stdout",
     "output_type": "stream",
     "text": [
      "(14350, 26, 26)\n",
      "(14350, 1)\n",
      "(11191, 26, 26)\n",
      "(11191, 1)\n"
     ]
    }
   ],
   "source": [
    "duplicate_list = [7219, 8235, 6936, 7036, 6875, 8363, 7255, 7241, 7107, 7982, 7206, 7390, 7740, 7101, 7146, 7646, 7016, 10967, 6738, 9402, 6948, 6546, 8048, 7044, 7357, 8206, 7781, 6806, 6671, 6751, 6975, 10358, 7600, 11037, 6920, 7229, 11230, 6899, 6721, 7663, 7023, 6775, 7532, 9748, 10288, 7003, 8154, 8273, 7346, 7511, 7699, 7197, 10636, 10646, 6988, 8326, 8353, 7548, 7502, 10873, 8723, 10172, 8148, 7460, 7652, 7810, 7823, 7074, 6764, 6857, 8871, 7143, 7014, 9266, 7574, 7113, 8085, 7758, 7960, 7412, 10891, 8224, 8327, 6982, 8215, 7399, 7349, 7100, 8214, 6709, 8061, 6924, 8218, 7730, 8491, 6782, 6714, 7227, 8413, 7932, 9033, 6959, 9273, 6972, 7253, 7737, 10307, 8960, 7658, 9841, 9192, 7165, 8109, 6901, 7271, 8895, 7679, 7094, 6868, 7409, 8005, 7906, 8387, 7155, 8320, 7613, 8385, 8390, 10278, 7154, 7209, 7126, 7112, 9107, 9147, 7404, 7741, 6927, 7709, 6989, 6780, 8361, 7964, 8697, 8044, 7106, 7642, 10345, 8391, 7191, 7948, 8276, 7395, 6925, 9317, 7096, 8408, 7245, 10691, 8432, 7091, 7235, 8038, 7530, 10806, 7228, 10881, 10054, 6705, 10298, 7817, 7896, 6951, 8842, 7476, 7116, 7992, 6955, 6874, 8152, 6761, 6777, 8020, 7350, 6797, 9867, 7318, 11119, 7254, 10248, 6953, 7079, 7233, 8901, 9633, 8269, 6973, 8029, 7413, 8321, 7087, 8562, 7457, 7675, 7049, 10682, 7081, 8369, 6742, 9436, 6999, 7731, 7135, 8638, 7916, 10259, 6603, 6754, 6734, 6931, 7621, 8157, 6922, 7140, 7720, 6547, 7708, 6902, 7187, 8823, 11073, 8019, 7147, 7057, 8244, 9893, 6702, 7455, 8356, 8359, 8207, 7068, 10336, 6817, 7221, 7533, 8672, 8150, 7355, 6957, 7568, 7035, 9863, 7450, 6724, 6984, 6947, 6997, 7572, 10101, 6819, 8147, 6802, 6870, 7200, 8059, 7122, 7064, 7870, 8774, 7934, 7797, 8439, 7054, 6731, 7751, 9988, 9553, 8156, 6898, 9805, 10832, 7286, 10786, 7202, 6871, 8402, 7244, 6962, 8058, 10461, 7951, 7836, 7007, 6888, 7962, 6846, 9315, 7808, 8117, 8054, 6987, 6858, 7487, 7323, 7290, 7289, 7067, 10158, 7419, 9622, 8500, 9453, 10611, 7875, 8227, 8825, 6889, 7148, 8667, 6842, 7957, 10046, 7017, 7129, 10392, 6961, 8877, 9298, 7052, 10772, 7118, 7105, 10484, 7807, 10485, 6981, 7676, 7130, 7347, 8380, 7733, 6934, 6862, 6824, 8338, 9801, 6425, 7669, 8231, 6904, 7225, 9359, 7292, 8780, 7494, 8766, 7072, 7145, 10737, 7570, 6566, 10041, 7098, 10563, 8179, 8922, 7604, 7501, 6400, 7099, 7735, 10579, 9575, 7048, 6998, 6779, 6915, 9582, 8466, 7638, 7134, 9148, 6937, 9900, 10157, 7018, 7158, 7223, 6911, 8355, 10385, 10558, 10418, 10770, 6906, 7188, 9886, 7559, 6733, 9578, 6840, 10382, 9397, 8172, 9046, 9981, 10117, 7789, 7391, 7719, 6949, 6971, 8099, 7536, 8809, 8135, 7495, 8694, 7121, 7786, 7194, 10129, 7004, 8924, 10577, 6958, 9305, 7277, 6891, 7889, 7178, 6749, 8336, 7821, 10234, 7790, 9879, 8393, 7782, 9434, 7240, 10521, 6768, 7794, 7056, 7909, 7028, 9624, 6966, 7120, 8151, 10286, 7343, 8546, 8073, 7231, 6808, 7952, 8114, 7265, 7602, 7102, 9445, 7109, 8076, 10565, 8312, 6752, 9458, 10119, 6446, 9852, 6912, 6974, 7177, 6967, 7239, 8323, 9526, 8813, 7046, 7144, 7640, 8039, 8551, 7215, 6423, 8506, 6956, 6838, 7469, 8374, 7063, 10507, 9666, 6770, 7123, 7433, 8418, 8134, 9888, 6728, 8233, 7528, 7852, 8242, 10719, 7697, 7172, 6710, 10753, 11274, 7125, 10734, 8062, 6455, 8226, 6986, 10589, 6978, 6820, 7401, 7185, 7963, 6942, 7133, 10616, 6867, 9968, 7217, 7032, 8882, 9995, 8337, 7436, 9745, 6881, 10775, 7204, 6918, 7632, 7678, 6524, 7031, 6574, 10495, 8742, 6913, 7787, 7220, 10423, 9348, 9158, 7461, 7246, 10618, 6763, 7518, 10488, 8131, 7842, 9665, 10701, 6921, 6941, 7510, 10843, 10460, 7041, 8278, 7089, 7027, 7575, 7629, 7626, 7334, 10252, 7527, 6894, 6954, 8325, 10625, 10420, 9232, 7365, 8201, 10778, 6729, 6896, 6786, 7162, 7186, 9527, 9263, 7218, 7943, 6940, 7619, 6996, 6836, 7925, 10798, 7824, 10401, 8373, 8016, 8001, 7039, 10439, 8791, 9685, 7463, 7995, 8328, 7095, 10058, 7339, 7075, 6853, 8053, 6781, 8576, 7082, 8136, 10282, 8056, 6759, 8093, 7009, 6897, 7900, 10375, 7757, 10189, 8222, 8916, 8972, 6708, 10142, 6892, 7212, 7214, 7205, 6935, 8407, 7257, 7156, 8032, 7195, 6928, 7169, 6859, 8383, 7085, 6969, 7329, 9650, 7398, 6943, 6879, 7020, 8847, 10176, 8238, 10562, 7554, 8397, 7008, 7767, 6821, 6791, 10849, 7222, 7635, 9203, 7076, 7552, 7199, 7643, 7111, 7865, 8767, 7625, 7150, 8358, 8561, 10552, 6692, 6741, 10862, 6837, 7545, 7764, 8162, 6658, 7132, 6885, 7161, 6736, 8349, 6990, 8296, 7698, 7848, 11189, 7230, 7458, 10681, 6776, 7055, 6908, 7686, 10755, 7956, 8107, 8184, 8108, 8086, 7772, 7998, 10764, 10722, 10726, 8272, 10864, 10438, 7260, 7579, 7885, 9375, 8072, 10639, 7306, 10258, 7537, 7857, 10481, 10450, 8370, 7442, 7914, 10555, 7473, 8357, 10710, 10617, 8194, 10399, 7567, 10421, 7560, 10003, 11169, 10575, 8097, 8200, 7718, 7428, 7250, 10343, 7721, 7877, 7364, 10659, 7416, 10790, 8803, 7444, 10290, 9223, 8009, 8316, 7580, 7524, 7498, 8075, 7354, 10692, 7762, 10296, 7874, 10585, 7421, 10665, 7717, 7252, 10858, 7618, 7705, 8158, 7685, 9635, 7526, 8428, 8427, 10373, 8768, 8674, 8275, 10808, 10199, 10727, 7607, 8298, 8082, 7332, 7622, 10642, 10795, 7835, 10327, 9077, 8132, 8371, 8341, 8245, 7432, 10257, 9754, 7860, 7813, 7907, 7478, 7606, 7279, 8203, 9146, 7901, 7272, 7744, 7531, 8003, 10424, 7691, 8396, 7382, 10000, 9345, 8031, 8169, 8249, 10793, 8307, 7381, 9719, 9532, 7396, 8120, 8052, 7535, 8398, 10466, 7472, 7803, 7508, 7590, 9616, 8417, 7970, 7933, 10810, 8175, 10720, 8929, 8045, 7368, 7672, 8478, 7667, 7939, 10311, 8410, 10406, 7912, 7712, 7838, 9394, 7281, 8213, 10746, 8266, 8329, 8265, 7485, 8287, 7707, 7915, 7456, 8208, 9303, 7397, 8047, 10070, 7446, 7734, 8745, 8290, 8028, 10567, 7564, 7815, 10687, 7973, 7538, 7516, 9842, 7636, 7462, 10356, 7706, 7481, 7362, 7611, 7459, 10852, 8340, 8066, 9300, 10872, 8309, 10754, 10354, 8012, 7923, 10277, 10651, 8141, 7300, 7379, 8230, 7513, 7702, 11000, 10661, 9701, 7805, 10851, 7451, 7553, 7660, 10274, 10391, 7942, 8267, 7415, 10644, 8409, 8188, 8100, 7673, 7363, 8247, 10097, 8116, 8689, 8140, 9794, 7344, 10653, 7839, 10745, 8436, 10850, 8036, 8004, 7295, 7497, 8030, 8090, 8400, 8810, 7437, 7596, 7831, 8556, 8144, 7732, 8057, 7540, 8014, 8118, 7922, 10742, 7926, 8429, 10592, 7980, 7928, 7822, 7648, 10486, 9449, 7894, 8421, 7430, 7653, 7301, 10619, 7447, 7910, 10713, 8976, 10652, 7778, 11159, 9567, 7872, 8342, 10800, 10586, 10545, 7555, 10449, 10580, 7275, 10863, 10714, 10300, 8069, 10874, 10500, 7504, 8282, 7578, 7935, 10412, 8302, 9912, 7577, 7280, 10519, 8165, 8079, 7426, 7407, 7561, 7750, 7322, 7895, 10415, 7820, 10698, 10782, 7736, 10564, 7940, 9149, 7304, 7588, 10606, 7832, 10676, 7893, 8600, 10329, 10374, 8096, 7475, 7453, 10291, 9052, 8232, 8279, 7693, 7425, 7647, 7834, 8354, 11277, 10309, 7519, 7855, 10112, 10655, 7471, 10707, 10546, 7946, 7258, 10353, 8064, 7965, 10271, 7704, 8241, 7429, 8381, 10842, 10209, 7529, 7417, 8332, 7336, 7558, 8318, 10640, 10794, 8065, 8240, 8254, 7670, 7858, 7659, 10641, 7692, 10674, 7392, 9705, 7597, 7991, 8171, 8665, 10649, 10364, 7856, 10834, 10683, 7321, 9406, 7883, 7936, 7521, 8133, 10956, 8199, 7695, 11040, 10578, 8011, 7505, 8042, 10513, 8411, 10715, 9966, 7467, 7825, 8294, 10304, 7388, 7929, 10275, 8292, 10328, 7514, 7582, 7985, 7773, 7466, 7259, 7298, 9080, 10560, 10803, 10337, 10856, 8101, 10825, 7837, 8285, 10666, 7879, 8311, 8103, 7434, 7512, 10515, 10272, 10404, 8339, 7307, 8161, 7264, 7482, 8706, 7249, 7726, 10338, 7847, 8191, 8431, 7845, 7586, 7953, 10357, 11218, 10462, 10105, 7624, 10621, 7694, 10292, 8379, 10960, 7989, 8250, 8284, 7479, 8426, 7394, 7630, 7783, 7377, 10799, 8092, 9466, 8305, 7738, 8253, 8313, 7319, 10384, 7400, 7441, 7930, 7655, 8190, 9735, 7320, 7700, 8375, 10065, 7595, 7897, 7974, 8433, 7383, 8784, 9293, 8291, 10009, 11315, 10900, 11464, 11405, 11259, 11379, 11322, 11444, 11338, 11200, 10807, 10359, 12112, 10388, 10969, 12057, 11167, 11281, 11358, 10443, 11341, 10266, 11530, 11097, 11860, 11312, 10672, 10945, 11347, 11236, 11075, 11502, 11397, 11654, 10355, 11120, 12032, 8653, 11679, 9876, 12215, 11460, 10994, 11375, 11029, 10434, 11045, 11168, 11202, 12175, 11482, 10962, 11239, 10526, 10350, 10638, 11210, 11439, 11633, 11061, 10886, 11704, 10983, 11558, 11336, 12344, 11054, 10914, 11247, 11220, 11187, 12026, 11237, 11599, 11441, 12371, 11048, 11667, 10387, 10297, 11351, 12423, 12037, 11270, 11559, 11109, 11114, 11384, 10281, 12192, 11699, 11474, 11201, 10263, 11564, 10386, 11589, 10721, 11091, 10426, 11445, 11052, 11307, 11262, 11215, 12261, 3639, 10134, 11476, 10922, 10948, 10631, 10684, 11945, 11504, 11525, 11693, 11440, 12161, 11577, 12138, 11152, 10797, 11084, 11829, 11361, 11093, 11408, 11229, 11381, 11069, 11066, 11665, 12369, 10756, 10339, 11415, 11072, 12373, 10389, 11185, 10827, 11632, 10981, 11157, 11715, 11340, 12200, 10940, 11228, 10964, 11118, 11022, 10866, 11001, 11286, 11205, 11534, 11462, 10897, 11043, 11594, 11616, 11986, 10970, 11360, 11701, 11225, 10976, 10689, 11092, 12331, 11422, 10504, 11858, 12380, 10550, 12011, 11486, 10370, 11216, 10464, 12045, 11801, 11550, 11467, 10414, 11566, 10917, 11275, 9903, 11572, 11231, 11163, 11668, 10928, 11403, 11529, 11490, 11714, 11683, 10134, 10506, 11513, 11527, 10728, 11373, 11186, 11023, 11199, 11548, 10840, 11394, 10596, 11103, 10624, 10269, 11673, 11480, 12387, 11005, 10632, 9400, 10369, 9548, 12352, 10985, 10317, 11518, 10924, 10537, 11617, 11648, 11605, 11773, 11619, 11057, 11153, 12250, 11224, 10551, 11400, 11691, 11756, 11614, 11028, 11362, 11412, 11639, 11472, 10409, 11094, 11780, 11871, 10482, 11050, 11831, 11937, 10984, 12125, 11713, 11106, 10893, 10762, 10991, 12412, 11947, 11499, 10534, 11372, 11496, 11547, 11076, 11524, 10982, 11884, 11112, 11285, 10878, 11293, 11219, 11426, 10305, 10781, 11283, 12322, 11598, 9066, 11454, 10738, 11099, 11014, 11148, 10923, 11335, 11414, 11695, 11705, 11523, 12188, 11557, 9211, 11484, 10936, 11008, 11429, 11320, 12287, 11249, 11252, 11115, 11562, 11273, 11576, 11771, 10711, 11463, 10882, 11019, 11369, 10906, 10518, 11878, 10553, 11468, 10289, 10973, 11698, 10887, 11653, 11540, 10402, 11380, 11416, 11002, 10516, 11554, 10166, 11348, 11661, 11613, 10487, 11173, 8714, 11278, 11364, 10907, 10301, 10938, 10901, 10896, 11254, 11132, 11209, 11567, 9444, 12054, 12427, 10763, 11733, 11678, 11339, 10582, 11280, 11495, 11053, 11026, 11487, 11130, 10576, 11136, 10280, 11146, 11090, 11660, 10393, 11265, 11604, 12232, 10441, 10916, 9094, 11501, 10349, 11382, 11465, 12348, 11532, 11251, 10999, 11880, 11125, 11041, 10283, 11697, 11506, 11455, 11310, 11213, 8704, 10933, 11407, 11712, 11047, 11194, 11526, 11284, 11717, 11376, 11046, 11388, 10313, 12170, 10904, 10750, 11292, 11398, 11258, 11684, 11245, 12104, 11389, 11059, 10884, 11508, 11110, 11299, 10971, 10730, 11155, 11628, 11842, 11211, 11411, 11593, 11689, 11808, 11404, 11204, 11533, 11481, 11131, 11359, 10918, 12073, 10954, 10584, 12002, 11649, 10926, 11823, 10749, 10361, 12018, 11129, 11646, 10937, 11762, 10735, 11177, 11266, 11356, 10870, 10950, 11261, 11056, 10958, 10532, 10671, 11150, 10939, 10930, 10541, 11095, 11392, 11116, 11694, 11456, 11243, 10859, 8738, 11671, 10995, 11383, 11206, 9395, 11770, 10934, 11192, 12211, 11127, 10574, 11582, 11535, 10015, 12036, 11478, 11470, 11365, 11410, 9261, 9944, 11972, 8798, 11960, 9913, 8815, 8453, 11760, 9985, 8442, 12361, 8751, 8820, 11741, 9915, 12286, 11944, 9648, 9274, 8628, 9670, 12091, 8548, 12292, 8716, 9200, 8455, 9123, 12534, 11985, 9686, 8808, 8608, 12295, 9264, 9111, 8679, 9242, 8656, 9119, 9634, 12334, 9982, 8582, 8730, 11721, 12043, 9253, 11997, 8642, 9174, 9287, 9316, 12363, 9939, 9135, 8480, 9241, 8547, 8531, 8485, 8575, 9938, 11746, 9281, 9887, 12715, 12084, 8777, 8509, 9947, 9547, 9479, 8946, 8870, 9044, 10240, 9533, 10253, 10210, 9746, 9041, 10196, 9364, 9391, 9821, 10187, 9084, 9013, 12187, 9857, 12171, 9568, 11814, 10113, 11781, 8982, 10219, 9781, 8967, 9807, 11847, 9419, 10177, 9758, 12217, 9360, 10179, 9537, 11811, 9467, 12235, 10111, 10102, 9499, 10106, 9752, 8854, 10201, 9584, 9769, 12213, 9086, 10241, 9355, 9378, 9096, 12157, 10077, 9401, 11877, 8921, 9806, 12168, 9551, 9856, 11875, 11790, 12402, 9815, 10220, 11809, 12202, 8873, 12468, 9005, 9001, 9117, 9258, 9941, 9726, 8471, 8717, 9114, 10022, 8737, 8748, 9632, 9990, 9245, 8554, 9669, 8666, 11973, 9933, 8781, 8760, 8591, 8761, 12102, 8793, 9204, 8449, 9679, 8587, 12023, 9312, 9159, 12277, 12053, 9642, 12297, 8617, 12280, 8501, 8787, 8476, 9971, 9964, 9188, 12354, 9101, 8728, 9672, 12040, 9994, 8747, 11993, 9201, 12337, 8585, 10011, 12314, 8632, 9925, 12370, 8604, 9329, 12318, 9653, 11969, 8655, 12028, 8528, 9121, 12303, 9715, 8648, 8722, 12050, 12012, 12093, 9132, 12105, 8624, 8710, 12393, 10044, 11815, 9834, 8941, 10050, 8845, 9536, 11795, 10193, 10061, 8888, 9438, 9585, 10137, 11843, 9417, 8932, 9460, 10216, 12434, 12456, 11927, 9457, 9508, 9829, 9045, 12376, 8931, 10059, 9802, 11851, 9569, 11794, 9793, 9564, 11791, 9072, 9010, 12381, 10135, 9376, 11924, 9753, 12447, 11852, 12403, 12142, 8961, 9361, 9869, 10108, 8905, 10149, 9491, 11826, 9430, 9042, 12132, 9500, 9032, 9761, 12149, 11899, 9817, 9454, 10232, 10057, 9572, 12131, 9757, 8865, 9093, 9440, 12151, 9390, 9067, 10447, 10069, 9803, 8953, 12404, 12449, 12228, 11918, 9495, 8989, 9075, 9062, 10131, 9413, 10152, 10090, 9474, 10122, 8955, 11855, 8884, 10034, 8948, 8944, 10235, 9520, 12227, 9496, 9570, 9795, 9088, 12158, 9439, 12382, 9485, 9418, 12214, 8917, 9816, 11922, 9451, 9522, 8863, 12379, 9071, 9403, 10478, 9860, 10202, 12163, 10221, 12248, 12454, 9797, 12476, 9501, 9020, 9425, 12424, 9432, 8851, 11932, 12395, 9555, 12396, 10239, 12155, 9016, 8930, 9878, 9076, 9055, 9562, 10019, 9997, 8614, 9209, 8629, 9734, 9325, 12003, 12272, 9958, 9657, 9920, 9998, 9636, 8541, 11949, 12007, 11738, 8725, 12302, 12316, 8758, 9171, 8605, 9168, 8592, 9630, 8812, 11764, 9335, 8452, 9321, 8543, 8469, 12268, 8772, 12301, 10014, 8695, 8615, 12355, 9120, 8796, 8488, 9681, 11753, 8627, 8729, 8741, 9178, 8636, 10017, 9342, 9319, 9910, 8447, 8630, 8493, 12329, 9639, 9895, 8599, 8764, 12276, 8482, 12030, 9210, 9129, 9717, 12077, 11989, 8759, 9652, 8640, 8669, 8570, 12013, 9240, 12039, 8458, 8606, 8673, 11747, 9678, 11987, 8763, 9721, 11728, 8719, 12067, 8564, 11749, 8503, 8684, 8529, 9660, 10020, 9183, 9115, 8757, 9243, 8770, 9154, 12349, 8577, 10018, 9711, 9227, 9965, 8677, 8711, 9330, 8643, 8680, 8805, 9307, 8457, 8483, 9664, 12350, 12306, 9278, 12325, 8700, 8448, 8552, 8659, 12537, 9655, 12345, 9099, 11722, 12075, 8715, 9165, 8634, 9744, 8475, 9713, 9673, 8553, 11950, 9987, 12041, 8752, 9628, 8513, 9296, 8662, 9301, 11954, 11934, 12293, 9167, 9688, 12310, 9327, 9333, 12289, 12078, 9244, 9217, 9284, 9889, 8533, 11730, 12260, 11761, 9951, 9901, 11763, 9140, 8702, 8560, 12338, 12347, 9196, 9969, 9700, 11953, 11994, 8456, 9208, 8661, 8790, 12063, 8463, 9897, 9220, 12336, 12296, 8718, 9699, 9689, 12339, 8487, 9250, 9185, 11942, 11754, 8540, 9136, 9976, 8775, 9970, 9280, 11967, 9310, 11964, 9177, 8765, 8581, 9977, 9207, 8733, 9180, 8450, 8724, 9257, 11734, 9723, 8736, 11887, 8951, 12385, 8864, 8848, 12221, 9768, 10227, 9018, 11912, 9513, 10116, 12180, 12392, 10145, 11802, 9404, 9379, 9776, 10185, 9870, 10025, 8999, 9435, 9800, 8881, 9004, 9410, 9408, 10197, 10168, 8856, 9515, 9786, 10037, 12225, 11838, 11775, 9813, 10151, 12195, 9871, 10159, 9097, 10056, 9777, 9089, 9610, 9604, 12150, 9809, 11897, 10182, 10038, 11812, 9433, 9808, 9079, 10124, 9442, 10212, 12186, 8910, 8983, 12152, 8956, 8966, 9832, 9068, 8943, 9581, 12244, 11816, 10222, 11768, 12130, 12435, 11861, 9600, 12128, 9347, 10231, 8971, 12174, 11833, 12388, 12147, 10255, 9557, 9833, 10123, 9429, 9790, 9396, 9450, 12457, 9534, 11785, 12153, 9420, 9542, 9350, 10236, 12462, 9054, 9509, 11796, 9810, 12210, 10218, 9015, 12400, 10052, 10082, 11821, 9356, 10211, 12205, 11930, 9864, 8990, 8973, 9535, 9047, 9027, 8933, 8936, 9873, 9591, 8899, 9574, 10181, 8913, 9822, 9426, 9059, 10103, 8887, 10195, 10071, 10173, 9751, 9846, 12442, 9063, 12191, 9407, 9561, 12206, 10192, 12209, 12179, 9405, 9835, 11850, 9490, 8947, 9859, 12418, 9424, 10164, 11915, 8981, 9877, 11925, 11804, 11900, 12399, 9070, 12421, 10045, 12181, 9026, 12405, 9559, 9019, 8968, 8958, 10095, 9602, 11779, 8908, 10150, 9385, 9804, 9483, 9014, 9095, 9023, 8902, 8861, 9589, 12220, 10110, 9779, 8875, 9461, 12143, 9830, 9415, 11859, 8857, 9446, 10126, 12133, 10138, 9352, 10154, 8893, 12443, 11914, 9849, 11841, 10223, 9595, 10064, 12154, 12474, 9372, 9365, 9545, 11923, 12312, 9214, 8520, 8637, 9934, 11992, 8631, 11735, 8512, 12330, 8633, 8593, 8818, 12305, 9919, 8822, 8832, 8539, 9950, 12291, 8727, 9326, 12114, 8647, 12083, 12343, 12284, 12001, 9625, 9695, 8709, 8795, 11951, 11740, 12059, 9727, 8839, 9145, 8474, 9320, 9179, 8703, 12055, 9707, 9182, 9927, 9260, 8830, 8572, 12082, 9999, 11995, 9103, 9899, 8735, 8454, 8705, 9980, 10008, 9654, 8829, 9974, 12366, 8731, 9181, 8668, 9269, 11975, 9176, 8574, 11856, 10023, 8979, 11004, 9003, 10942, 9131, 10860, 11269, 12271, 9382, 11819, 9763, 9949, 9249, 12482, 11864, 11957, 8649, 9304, 12094, 9728, 11941, 12074, 8594, 9598, 11931, 12471, 9358, 9233, 9874, 9637, 10053, 11778, 10627, 12757, 10709, 10036, 11268, 10765, 12182, 12699, 10032, 12542, 8846, 9212, 8778, 8635, 12136, 12613, 12596, 9049, 8641, 9928, 10417, 12762, 12571, 12630, 9384, 10801, 10455, 11862, 12372, 11926, 10829, 12113, 12686, 10228, 10027, 12751, 12126, 12702, 9955, 9914, 9381, 10341, 12514, 8753, 10955, 9738, 8841, 12766, 9507, 9462, 10098, 11788, 10838, 12242, 9975, 9064, 9698, 9160, 12358, 12770, 10630, 12583, 9339, 12378, 10607, 12554, 9012, 12031, 12283, 12675, 12490, 12167, 11963, 10089, 9104, 9191, 11006, 10432, 12535, 10729, 12557, 12742, 10330, 9606, 12328, 9057, 9733, 8444, 8942, 8732, 10428, 12156, 11921, 12231, 9195, 8903, 9780, 10268, 10120, 8843, 11279, 9539, 10376, 9313, 8549, 12612, 12390, 11879, 12092, 10087, 11241, 9623, 10675, 9197, 10363, 10571, 12034, 10245, 9963, 10921, 10920, 9649, 12491, 10509, 12706, 8817, 12570, 12556, 9295, 12680, 9690, 12108, 10319, 8514, 12689, 9126, 10242, 12634, 12748, 12622, 11238, 12745, 10403, 10978, 8495, 12265, 10004, 10751, 10819, 12095, 12038, 9932, 12190, 10477, 9656, 12712, 8441, 8779, 10167, 9541, 12504, 11909, 10006, 9579, 12714, 9387, 12516, 9048, 12687, 9224, 12713, 10459, 9370, 12719, 9880, 10294, 12519, 11227, 10731, 10310, 12275, 12721, 9583, 12584, 11928, 10744, 12240, 12521, 12636, 12469, 8499, 12560, 9609, 12768, 9996, 12716, 11064, 9890, 12590, 8811, 8824, 10246, 12617, 9363, 9528, 8465, 10492, 9866, 9008, 12708, 12518, 9322, 12690, 10559, 12627, 11916, 12495, 9789, 10892, 12061, 11846, 12587, 12669, 9443, 8840, 10284, 12049, 9109, 9060, 8626, 12678, 12695, 11751, 8708, 12121, 11917, 10084, 12736, 8957, 12602, 11138, 12440, 12299, 10344, 12755, 12665, 11977, 8915, 12515, 10397, 12579, 12107, 12507, 12604, 9349, 8613, 12502, 9608, 9566, 11070, 12422, 9943, 11835, 10694, 12649, 10779, 11939, 12577, 9984, 12489, 12544, 9755, 12477, 12552, 9124, 12500, 12282, 9166, 8515, 8970, 12024, 11104, 10093, 12097, 10847, 9074, 9644, 9631, 8997, 8855, 10002, 12006, 9276, 10366, 12540, 11250, 11805, 12115, 8692, 8521, 12088, 12756, 12718, 12664, 12035, 10076, 11461, 8937, 9498, 10657, 10716, 10685, 11895, 12597, 10594, 10169, 12732, 9162, 9463, 8987, 9199, 9580, 10225, 11832, 12679, 12478, 12137, 12741, 10383, 11936, 10517, 12659, 12647, 12480, 12632, 9142, 11769, 12625, 12510, 9024, 9050, 8739, 12520, 8682, 10547, 12025, 11233, 8470, 12267, 12419, 9486, 12593, 11848, 9850, 10465, 10768, 9428, 12683, 12526, 10980, 11242, 9082, 8896, 12646, 12009, 9680, 12511, 12199, 11133, 12064, 12563, 8671, 10952, 12501, 12122, 10256, 9615, 9906, 12576, 12524, 12567, 12760, 12685, 11580, 12626, 12709, 11418, 11948, 12682, 12737, 11432, 11929, 12079, 11902, 11706, 11716, 12655, 12582, 11651, 12700, 12204, 11612, 11903, 12752, 11350, 11570, 11723, 12429, 11427, 11659, 11711, 12335, 11561, 12743, 11545, 12488, 12196, 11494, 12661, 11596, 12527, 12623, 12783, 12746, 12609, 12532, 11708, 12694, 11453, 12391, 11442, 12601, 11652, 11610, 11670, 12546, 11896, 12691, 12264, 11700, 11428, 12086, 11626, 11687, 11590, 12677, 12234, 11882, 12503, 11552, 12042, 12730, 12644, 11586, 12658, 11438, 11516, 12439, 12733, 11374, 12580, 12672, 11620, 12654, 12263, 12145, 11681, 12738, 12496, 12321, 11574, 11346, 12758, 11385, 11363, 11643, 12208, 11541, 12717, 12058, 11425, 12747, 11702, 12605, 12772, 12696, 11419, 12618, 12693]\n",
    "duplicate_list = list(set(duplicate_list))\n",
    "duplicate_list.extend([8106, 1276, 1929, 10626, 2603, 3264, 3712, 11012, 9412, 5160, 5521, 5828, 6058, 6238])\n",
    "print(x.shape)\n",
    "print(y.shape)\n",
    "duplicate_list.sort()\n",
    "no_duplicate_list = [i for i in range(x.shape[0]) if i not in duplicate_list]\n",
    "x = x[no_duplicate_list, :, :]\n",
    "y = y[no_duplicate_list, :]\n",
    "print(x.shape)\n",
    "print(y.shape)"
   ]
  },
  {
   "cell_type": "markdown",
   "metadata": {},
   "source": [
    "### 間違ったラベル付けがないかチェック（誤識別の結果から）"
   ]
  },
  {
   "cell_type": "code",
   "execution_count": 14,
   "metadata": {
    "scrolled": true
   },
   "outputs": [
    {
     "name": "stdout",
     "output_type": "stream",
     "text": [
      "7876:none\n"
     ]
    },
    {
     "data": {
      "image/png": "[encoded data removed]",
      "text/plain": [
       "<Figure size 432x288 with 1 Axes>"
      ]
     },
     "metadata": {
      "needs_background": "light"
     },
     "output_type": "display_data"
    },
    {
     "name": "stdout",
     "output_type": "stream",
     "text": [
      "8736:none\n"
     ]
    },
    {
     "data": {
      "image/png": "[encoded data removed]",
      "text/plain": [
       "<Figure size 432x288 with 1 Axes>"
      ]
     },
     "metadata": {
      "needs_background": "light"
     },
     "output_type": "display_data"
    },
    {
     "name": "stdout",
     "output_type": "stream",
     "text": [
      "8139:none\n"
     ]
    },
    {
     "data": {
      "image/png": "[encoded data removed]",
      "text/plain": [
       "<Figure size 432x288 with 1 Axes>"
      ]
     },
     "metadata": {
      "needs_background": "light"
     },
     "output_type": "display_data"
    },
    {
     "name": "stdout",
     "output_type": "stream",
     "text": [
      "5159:none\n"
     ]
    },
    {
     "data": {
      "image/png": "[encoded data removed]",
      "text/plain": [
       "<Figure size 432x288 with 1 Axes>"
      ]
     },
     "metadata": {
      "needs_background": "light"
     },
     "output_type": "display_data"
    },
    {
     "name": "stdout",
     "output_type": "stream",
     "text": [
      "10327:none\n"
     ]
    },
    {
     "data": {
      "image/png": "[encoded data removed]",
      "text/plain": [
       "<Figure size 432x288 with 1 Axes>"
      ]
     },
     "metadata": {
      "needs_background": "light"
     },
     "output_type": "display_data"
    },
    {
     "name": "stdout",
     "output_type": "stream",
     "text": [
      "6410:none\n"
     ]
    },
    {
     "data": {
      "image/png": "[encoded data removed]",
      "text/plain": [
       "<Figure size 432x288 with 1 Axes>"
      ]
     },
     "metadata": {
      "needs_background": "light"
     },
     "output_type": "display_data"
    },
    {
     "name": "stdout",
     "output_type": "stream",
     "text": [
      "7332:none\n"
     ]
    },
    {
     "data": {
      "image/png": "[encoded data removed]",
      "text/plain": [
       "<Figure size 432x288 with 1 Axes>"
      ]
     },
     "metadata": {
      "needs_background": "light"
     },
     "output_type": "display_data"
    },
    {
     "name": "stdout",
     "output_type": "stream",
     "text": [
      "8500:none\n"
     ]
    },
    {
     "data": {
      "image/png": "[encoded data removed]",
      "text/plain": [
       "<Figure size 432x288 with 1 Axes>"
      ]
     },
     "metadata": {
      "needs_background": "light"
     },
     "output_type": "display_data"
    },
    {
     "name": "stdout",
     "output_type": "stream",
     "text": [
      "8774:Edge-Loc\n"
     ]
    },
    {
     "data": {
      "image/png": "[encoded data removed]",
      "text/plain": [
       "<Figure size 432x288 with 1 Axes>"
      ]
     },
     "metadata": {
      "needs_background": "light"
     },
     "output_type": "display_data"
    },
    {
     "name": "stdout",
     "output_type": "stream",
     "text": [
      "6057:none\n"
     ]
    },
    {
     "data": {
      "image/png": "[encoded data removed]",
      "text/plain": [
       "<Figure size 432x288 with 1 Axes>"
      ]
     },
     "metadata": {
      "needs_background": "light"
     },
     "output_type": "display_data"
    },
    {
     "name": "stdout",
     "output_type": "stream",
     "text": [
      "8034:none\n"
     ]
    },
    {
     "data": {
      "image/png": "[encoded data removed]",
      "text/plain": [
       "<Figure size 432x288 with 1 Axes>"
      ]
     },
     "metadata": {
      "needs_background": "light"
     },
     "output_type": "display_data"
    },
    {
     "name": "stdout",
     "output_type": "stream",
     "text": [
      "10323:none\n"
     ]
    },
    {
     "data": {
      "image/png": "[encoded data removed]",
      "text/plain": [
       "<Figure size 432x288 with 1 Axes>"
      ]
     },
     "metadata": {
      "needs_background": "light"
     },
     "output_type": "display_data"
    },
    {
     "name": "stdout",
     "output_type": "stream",
     "text": [
      "11059:none\n"
     ]
    },
    {
     "data": {
      "image/png": "[encoded data removed]",
      "text/plain": [
       "<Figure size 432x288 with 1 Axes>"
      ]
     },
     "metadata": {
      "needs_background": "light"
     },
     "output_type": "display_data"
    },
    {
     "name": "stdout",
     "output_type": "stream",
     "text": [
      "6381:none\n"
     ]
    },
    {
     "data": {
      "image/png": "[encoded data removed]",
      "text/plain": [
       "<Figure size 432x288 with 1 Axes>"
      ]
     },
     "metadata": {
      "needs_background": "light"
     },
     "output_type": "display_data"
    },
    {
     "name": "stdout",
     "output_type": "stream",
     "text": [
      "8613:none\n"
     ]
    },
    {
     "data": {
      "image/png": "[encoded data removed]",
      "text/plain": [
       "<Figure size 432x288 with 1 Axes>"
      ]
     },
     "metadata": {
      "needs_background": "light"
     },
     "output_type": "display_data"
    },
    {
     "name": "stdout",
     "output_type": "stream",
     "text": [
      "9252:none\n"
     ]
    },
    {
     "data": {
      "image/png": "[encoded data removed]",
      "text/plain": [
       "<Figure size 432x288 with 1 Axes>"
      ]
     },
     "metadata": {
      "needs_background": "light"
     },
     "output_type": "display_data"
    }
   ],
   "source": [
    "error_label_list = [7876, 8736, 8139, 5159, 10327, 6410, 7332, 8500, 8774, 6057, 8034, 10323, 11059, 6381, 8613, 9252]\n",
    "for i in error_label_list:\n",
    "    print(str(i) + \":\" + y[i][0])\n",
    "    plt.imshow(x[i])\n",
    "    plt.show()"
   ]
  },
  {
   "cell_type": "code",
   "execution_count": 15,
   "metadata": {
    "scrolled": true
   },
   "outputs": [
    {
     "data": {
      "text/plain": [
       "(11191, 26, 26, 1)"
      ]
     },
     "execution_count": 15,
     "metadata": {},
     "output_type": "execute_result"
    }
   ],
   "source": [
    "x = x.reshape((-1, 26, 26, 1))\n",
    "x.shape"
   ]
  },
  {
   "cell_type": "code",
   "execution_count": 16,
   "metadata": {},
   "outputs": [
    {
     "name": "stdout",
     "output_type": "stream",
     "text": [
      "Faulty case list : ['Center' 'Donut' 'Edge-Loc' 'Edge-Ring' 'Loc' 'Near-full' 'Random'\n",
      " 'Scratch' 'none']\n"
     ]
    }
   ],
   "source": [
    "faulty_case = np.unique(y)\n",
    "print('Faulty case list : {}'.format(faulty_case))"
   ]
  },
  {
   "cell_type": "code",
   "execution_count": 17,
   "metadata": {},
   "outputs": [],
   "source": [
    "faulty_case_dict = dict()"
   ]
  },
  {
   "cell_type": "code",
   "execution_count": 18,
   "metadata": {},
   "outputs": [
    {
     "name": "stdout",
     "output_type": "stream",
     "text": [
      "Center : 83\n",
      "Donut : 1\n",
      "Edge-Loc : 259\n",
      "Edge-Ring : 15\n",
      "Loc : 279\n",
      "Near-full : 9\n",
      "Random : 60\n",
      "Scratch : 60\n",
      "none : 10425\n"
     ]
    }
   ],
   "source": [
    "for i, f in enumerate(faulty_case) :\n",
    "    print('{} : {}'.format(f, len(y[y==f])))\n",
    "    faulty_case_dict[i] = f"
   ]
  },
  {
   "cell_type": "markdown",
   "metadata": {},
   "source": [
    "- 14366枚の26x26ウエハの不良パターンは上記のようになっている．"
   ]
  },
  {
   "cell_type": "code",
   "execution_count": 19,
   "metadata": {},
   "outputs": [],
   "source": [
    "new_x = np.zeros((len(x), 26, 26, 3))\n",
    "\n",
    "for w in range(len(x)):\n",
    "    for i in range(26):\n",
    "        for j in range(26):\n",
    "            new_x[w, i, j, int(x[w, i, j])] = 1"
   ]
  },
  {
   "cell_type": "code",
   "execution_count": 20,
   "metadata": {},
   "outputs": [
    {
     "data": {
      "text/plain": [
       "(11191, 26, 26, 3)"
      ]
     },
     "execution_count": 20,
     "metadata": {},
     "output_type": "execute_result"
    }
   ],
   "source": [
    "new_x.shape"
   ]
  },
  {
   "cell_type": "markdown",
   "metadata": {},
   "source": [
    "- new_xを(14366, 26, 26, 3)とし，最後の次元にはウエハの値(0, 1, 2)がそれぞれの値毎にベクトルとしてまとめられている．\n",
    "- ウエハデータの各ピクセルは，0:ウエハなし，1:正常，2:不良を表す．"
   ]
  },
  {
   "cell_type": "markdown",
   "metadata": {},
   "source": [
    "### 各ウエハにラベル付け"
   ]
  },
  {
   "cell_type": "code",
   "execution_count": 21,
   "metadata": {},
   "outputs": [],
   "source": [
    "trials = 2\n",
    "label_list = []\n",
    "for i in range(new_x.shape[0]):\n",
    "    label_dict = {'wafer_id':str(i).zfill(6), 'true_label':y[i][0], 'predict_label':None, 'augmentation':{'noise':0, 'rotation':0, 'inversion':0}, 'trials':trials}\n",
    "    label_list.append(label_dict)"
   ]
  },
  {
   "cell_type": "code",
   "execution_count": 22,
   "metadata": {
    "scrolled": true
   },
   "outputs": [
    {
     "name": "stdout",
     "output_type": "stream",
     "text": [
      "{'wafer_id': '000001', 'true_label': 'none', 'predict_label': None, 'augmentation': {'noise': 0, 'rotation': 0, 'inversion': 0}, 'trials': 2}\n"
     ]
    }
   ],
   "source": [
    "print(label_list[1])"
   ]
  },
  {
   "cell_type": "code",
   "execution_count": 23,
   "metadata": {
    "scrolled": true
   },
   "outputs": [],
   "source": [
    "# check_list = [5160, 9137, 10943, 11345, 9706, 9884, 9029, 9182]\n",
    "# for j in check_list:\n",
    "#     plt.imshow(np.argmax(new_x[j], axis=2))\n",
    "#     print(y[j])\n",
    "#     plt.show()"
   ]
  },
  {
   "cell_type": "markdown",
   "metadata": {},
   "source": [
    "### テストデータに分割\n",
    "- ランダムなリストを生成する"
   ]
  },
  {
   "cell_type": "code",
   "execution_count": 24,
   "metadata": {},
   "outputs": [],
   "source": [
    "random.seed(1)\n",
    "def rand_ints_nodup(a, b, k):\n",
    "    ns = []\n",
    "    while len(ns) < k:\n",
    "        n = random.randint(a, b)\n",
    "        if not n in ns:\n",
    "            ns.append(n)\n",
    "    return ns"
   ]
  },
  {
   "cell_type": "code",
   "execution_count": 25,
   "metadata": {},
   "outputs": [],
   "source": [
    "testsize = 705\n",
    "randlist = rand_ints_nodup(0, new_x.shape[0]-1, testsize)"
   ]
  },
  {
   "cell_type": "code",
   "execution_count": 26,
   "metadata": {},
   "outputs": [],
   "source": [
    "tempx = new_x.copy()[randlist, :, :, :]\n",
    "tempy = y.copy()[randlist, :]\n",
    "label_temp = copy.deepcopy([label_list[i] for i in randlist])"
   ]
  },
  {
   "cell_type": "code",
   "execution_count": 27,
   "metadata": {
    "scrolled": true
   },
   "outputs": [
    {
     "name": "stdout",
     "output_type": "stream",
     "text": [
      "Center : 6\n",
      "Donut : 0\n",
      "Edge-Loc : 17\n",
      "Edge-Ring : 2\n",
      "Loc : 22\n",
      "Near-full : 1\n",
      "Random : 3\n",
      "Scratch : 2\n",
      "none : 652\n"
     ]
    }
   ],
   "source": [
    "for f in faulty_case :\n",
    "    print('{} : {}'.format(f, len(tempy[tempy==f])))"
   ]
  },
  {
   "cell_type": "code",
   "execution_count": 28,
   "metadata": {},
   "outputs": [],
   "source": [
    "new_x = np.delete(new_x, randlist, axis=0)\n",
    "y = np.delete(y, randlist, axis=0)\n",
    "for i in sorted(randlist, reverse=True):\n",
    "    label_list.pop(i)"
   ]
  },
  {
   "cell_type": "markdown",
   "metadata": {},
   "source": [
    "### オートエンコーダで学習"
   ]
  },
  {
   "cell_type": "markdown",
   "metadata": {},
   "source": [
    "#### エンコーダとデコーダのモデルを学習"
   ]
  },
  {
   "cell_type": "markdown",
   "metadata": {},
   "source": [
    "- モデルの定義をする．"
   ]
  },
  {
   "cell_type": "code",
   "execution_count": 29,
   "metadata": {},
   "outputs": [
    {
     "name": "stdout",
     "output_type": "stream",
     "text": [
      "INFO:tensorflow:Using MirroredStrategy with devices ('/job:localhost/replica:0/task:0/device:GPU:0', '/job:localhost/replica:0/task:0/device:GPU:1')\n",
      "Number of devices: 2\n"
     ]
    }
   ],
   "source": [
    "strategy = tf.distribute.MirroredStrategy(devices=[\"/gpu:0\", \"/gpu:1\"], cross_device_ops = tf.distribute.HierarchicalCopyAllReduce())\n",
    "print('Number of devices: {}'.format(strategy.num_replicas_in_sync))\n",
    "\n",
    "with strategy.scope():\n",
    "    # Encoder\n",
    "    input_shape = (26, 26, 3)\n",
    "    input_tensor = Input(input_shape)\n",
    "    encode = layers.Conv2D(64, (3,3), padding='same', activation='relu')(input_tensor)\n",
    "\n",
    "    latent_vector = layers.MaxPool2D()(encode)\n",
    "\n",
    "    # Decoder\n",
    "    decode_layer_1 = layers.Conv2DTranspose(64, (3,3), padding='same', activation='relu')\n",
    "    decode_layer_2 = layers.UpSampling2D()\n",
    "    output_tensor = layers.Conv2DTranspose(3, (3,3), padding='same', activation='sigmoid')\n",
    "\n",
    "    # connect decoder layers\n",
    "    decode = decode_layer_1(latent_vector)\n",
    "    decode = decode_layer_2(decode)\n",
    "\n",
    "    ae = models.Model(input_tensor, output_tensor(decode))\n",
    "    ae.compile(optimizer = 'Adam',\n",
    "                  loss = 'mse',\n",
    "                 )"
   ]
  },
  {
   "cell_type": "code",
   "execution_count": 30,
   "metadata": {},
   "outputs": [
    {
     "name": "stdout",
     "output_type": "stream",
     "text": [
      "Model: \"functional_1\"\n",
      "_________________________________________________________________\n",
      "Layer (type)                 Output Shape              Param #   \n",
      "=================================================================\n",
      "input_1 (InputLayer)         [(None, 26, 26, 3)]       0         \n",
      "_________________________________________________________________\n",
      "conv2d (Conv2D)              (None, 26, 26, 64)        1792      \n",
      "_________________________________________________________________\n",
      "max_pooling2d (MaxPooling2D) (None, 13, 13, 64)        0         \n",
      "_________________________________________________________________\n",
      "conv2d_transpose (Conv2DTran (None, 13, 13, 64)        36928     \n",
      "_________________________________________________________________\n",
      "up_sampling2d (UpSampling2D) (None, 26, 26, 64)        0         \n",
      "_________________________________________________________________\n",
      "conv2d_transpose_1 (Conv2DTr (None, 26, 26, 3)         1731      \n",
      "=================================================================\n",
      "Total params: 40,451\n",
      "Trainable params: 40,451\n",
      "Non-trainable params: 0\n",
      "_________________________________________________________________\n"
     ]
    }
   ],
   "source": [
    "ae.summary()"
   ]
  },
  {
   "cell_type": "markdown",
   "metadata": {},
   "source": [
    "- 層は\n",
    "    - 入力層\n",
    "    - 畳み込み層\n",
    "    - プーリング層\n",
    "    - 転置畳み込み層\n",
    "    - アップサンプリング層"
   ]
  },
  {
   "cell_type": "code",
   "execution_count": 31,
   "metadata": {},
   "outputs": [],
   "source": [
    "epoch=100\n",
    "batch_size=1024"
   ]
  },
  {
   "cell_type": "markdown",
   "metadata": {},
   "source": [
    "- 学習を開始する．\n",
    "- `new_x`を`new_x`にエンコードしデコードする．"
   ]
  },
  {
   "cell_type": "code",
   "execution_count": 32,
   "metadata": {
    "scrolled": true
   },
   "outputs": [
    {
     "name": "stdout",
     "output_type": "stream",
     "text": [
      "Epoch 1/100\n",
      "WARNING:tensorflow:From /data/student/o1710117/.local/share/virtualenvs/wafermap-fQtCJoMb/lib/python3.7/site-packages/tensorflow/python/data/ops/multi_device_iterator_ops.py:601: get_next_as_optional (from tensorflow.python.data.ops.iterator_ops) is deprecated and will be removed in a future version.\n",
      "Instructions for updating:\n",
      "Use `tf.data.Iterator.get_next_as_optional()` instead.\n",
      "INFO:tensorflow:batch_all_reduce: 6 all-reduces with algorithm = hierarchical_copy, num_packs = 1\n",
      "INFO:tensorflow:Reduce to /job:localhost/replica:0/task:0/device:CPU:0 then broadcast to ('/job:localhost/replica:0/task:0/device:CPU:0',).\n",
      "INFO:tensorflow:Reduce to /job:localhost/replica:0/task:0/device:CPU:0 then broadcast to ('/job:localhost/replica:0/task:0/device:CPU:0',).\n",
      "INFO:tensorflow:batch_all_reduce: 6 all-reduces with algorithm = hierarchical_copy, num_packs = 1\n",
      "INFO:tensorflow:Reduce to /job:localhost/replica:0/task:0/device:CPU:0 then broadcast to ('/job:localhost/replica:0/task:0/device:CPU:0',).\n",
      "INFO:tensorflow:Reduce to /job:localhost/replica:0/task:0/device:CPU:0 then broadcast to ('/job:localhost/replica:0/task:0/device:CPU:0',).\n",
      "11/11 [==============================] - 0s 22ms/step - loss: 0.1626\n",
      "INFO:tensorflow:Reduce to /job:localhost/replica:0/task:0/device:CPU:0 then broadcast to ('/job:localhost/replica:0/task:0/device:CPU:0',).\n",
      "INFO:tensorflow:Reduce to /job:localhost/replica:0/task:0/device:CPU:0 then broadcast to ('/job:localhost/replica:0/task:0/device:CPU:0',).\n",
      "Epoch 2/100\n",
      "11/11 [==============================] - 0s 17ms/step - loss: 0.1142\n",
      "INFO:tensorflow:Reduce to /job:localhost/replica:0/task:0/device:CPU:0 then broadcast to ('/job:localhost/replica:0/task:0/device:CPU:0',).\n",
      "INFO:tensorflow:Reduce to /job:localhost/replica:0/task:0/device:CPU:0 then broadcast to ('/job:localhost/replica:0/task:0/device:CPU:0',).\n",
      "Epoch 3/100\n",
      "11/11 [==============================] - 0s 17ms/step - loss: 0.0941\n",
      "INFO:tensorflow:Reduce to /job:localhost/replica:0/task:0/device:CPU:0 then broadcast to ('/job:localhost/replica:0/task:0/device:CPU:0',).\n",
      "INFO:tensorflow:Reduce to /job:localhost/replica:0/task:0/device:CPU:0 then broadcast to ('/job:localhost/replica:0/task:0/device:CPU:0',).\n",
      "Epoch 4/100\n",
      "11/11 [==============================] - 0s 17ms/step - loss: 0.0852\n",
      "Epoch 5/100\n",
      "11/11 [==============================] - 0s 18ms/step - loss: 0.0764\n",
      "Epoch 6/100\n",
      "11/11 [==============================] - 0s 17ms/step - loss: 0.0681\n",
      "Epoch 7/100\n",
      "11/11 [==============================] - 0s 17ms/step - loss: 0.0612\n",
      "Epoch 8/100\n",
      "11/11 [==============================] - 0s 17ms/step - loss: 0.0555\n",
      "Epoch 9/100\n",
      "11/11 [==============================] - 0s 17ms/step - loss: 0.0505\n",
      "Epoch 10/100\n",
      "11/11 [==============================] - 0s 17ms/step - loss: 0.0461\n",
      "Epoch 11/100\n",
      "11/11 [==============================] - 0s 17ms/step - loss: 0.0421\n",
      "Epoch 12/100\n",
      "11/11 [==============================] - 0s 17ms/step - loss: 0.0383\n",
      "Epoch 13/100\n",
      "11/11 [==============================] - 0s 17ms/step - loss: 0.0349\n",
      "Epoch 14/100\n",
      "11/11 [==============================] - 0s 17ms/step - loss: 0.0319\n",
      "Epoch 15/100\n",
      "11/11 [==============================] - 0s 18ms/step - loss: 0.0293\n",
      "Epoch 16/100\n",
      "11/11 [==============================] - 0s 17ms/step - loss: 0.0270\n",
      "Epoch 17/100\n",
      "11/11 [==============================] - 0s 17ms/step - loss: 0.0249\n",
      "Epoch 18/100\n",
      "11/11 [==============================] - 0s 17ms/step - loss: 0.0232\n",
      "Epoch 19/100\n",
      "11/11 [==============================] - 0s 18ms/step - loss: 0.0216\n",
      "Epoch 20/100\n",
      "11/11 [==============================] - 0s 17ms/step - loss: 0.0202\n",
      "Epoch 21/100\n",
      "11/11 [==============================] - 0s 17ms/step - loss: 0.0190\n",
      "Epoch 22/100\n",
      "11/11 [==============================] - 0s 17ms/step - loss: 0.0179\n",
      "Epoch 23/100\n",
      "11/11 [==============================] - 0s 17ms/step - loss: 0.0169\n",
      "Epoch 24/100\n",
      "11/11 [==============================] - 0s 17ms/step - loss: 0.0161\n",
      "Epoch 25/100\n",
      "11/11 [==============================] - 0s 17ms/step - loss: 0.0153\n",
      "Epoch 26/100\n",
      "11/11 [==============================] - 0s 17ms/step - loss: 0.0145\n",
      "Epoch 27/100\n",
      "11/11 [==============================] - 0s 17ms/step - loss: 0.0139\n",
      "Epoch 28/100\n",
      "11/11 [==============================] - 0s 17ms/step - loss: 0.0132\n",
      "Epoch 29/100\n",
      "11/11 [==============================] - 0s 17ms/step - loss: 0.0127\n",
      "Epoch 30/100\n",
      "11/11 [==============================] - 0s 17ms/step - loss: 0.0121\n",
      "Epoch 31/100\n",
      "11/11 [==============================] - 0s 17ms/step - loss: 0.0116\n",
      "Epoch 32/100\n",
      "11/11 [==============================] - 0s 17ms/step - loss: 0.0112\n",
      "Epoch 33/100\n",
      "11/11 [==============================] - 0s 17ms/step - loss: 0.0107\n",
      "Epoch 34/100\n",
      "11/11 [==============================] - 0s 17ms/step - loss: 0.0103\n",
      "Epoch 35/100\n",
      "11/11 [==============================] - 0s 17ms/step - loss: 0.0099\n",
      "Epoch 36/100\n",
      "11/11 [==============================] - 0s 17ms/step - loss: 0.0096\n",
      "Epoch 37/100\n",
      "11/11 [==============================] - 0s 17ms/step - loss: 0.0092\n",
      "Epoch 38/100\n",
      "11/11 [==============================] - 0s 17ms/step - loss: 0.0089\n",
      "Epoch 39/100\n",
      "11/11 [==============================] - 0s 17ms/step - loss: 0.0086\n",
      "Epoch 40/100\n",
      "11/11 [==============================] - 0s 17ms/step - loss: 0.0083\n",
      "Epoch 41/100\n",
      "11/11 [==============================] - 0s 17ms/step - loss: 0.0080\n",
      "Epoch 42/100\n",
      "11/11 [==============================] - 0s 17ms/step - loss: 0.0078\n",
      "Epoch 43/100\n",
      "11/11 [==============================] - 0s 17ms/step - loss: 0.0075\n",
      "Epoch 44/100\n",
      "11/11 [==============================] - 0s 17ms/step - loss: 0.0073\n",
      "Epoch 45/100\n",
      "11/11 [==============================] - 0s 17ms/step - loss: 0.0070\n",
      "Epoch 46/100\n",
      "11/11 [==============================] - 0s 17ms/step - loss: 0.0068\n",
      "Epoch 47/100\n",
      "11/11 [==============================] - 0s 17ms/step - loss: 0.0066\n",
      "Epoch 48/100\n",
      "11/11 [==============================] - 0s 17ms/step - loss: 0.0064\n",
      "Epoch 49/100\n",
      "11/11 [==============================] - 0s 17ms/step - loss: 0.0062\n",
      "Epoch 50/100\n",
      "11/11 [==============================] - 0s 17ms/step - loss: 0.0060\n",
      "Epoch 51/100\n",
      "11/11 [==============================] - 0s 17ms/step - loss: 0.0059\n",
      "Epoch 52/100\n",
      "11/11 [==============================] - 0s 17ms/step - loss: 0.0057\n",
      "Epoch 53/100\n",
      "11/11 [==============================] - 0s 17ms/step - loss: 0.0055\n",
      "Epoch 54/100\n",
      "11/11 [==============================] - 0s 17ms/step - loss: 0.0054\n",
      "Epoch 55/100\n",
      "11/11 [==============================] - 0s 17ms/step - loss: 0.0052\n",
      "Epoch 56/100\n",
      "11/11 [==============================] - 0s 17ms/step - loss: 0.0051\n",
      "Epoch 57/100\n",
      "11/11 [==============================] - 0s 17ms/step - loss: 0.0050\n",
      "Epoch 58/100\n",
      "11/11 [==============================] - 0s 17ms/step - loss: 0.0049\n",
      "Epoch 59/100\n",
      "11/11 [==============================] - 0s 17ms/step - loss: 0.0047\n",
      "Epoch 60/100\n",
      "11/11 [==============================] - 0s 17ms/step - loss: 0.0046\n",
      "Epoch 61/100\n",
      "11/11 [==============================] - 0s 17ms/step - loss: 0.0045\n",
      "Epoch 62/100\n",
      "11/11 [==============================] - 0s 17ms/step - loss: 0.0044\n",
      "Epoch 63/100\n",
      "11/11 [==============================] - 0s 17ms/step - loss: 0.0043\n",
      "Epoch 64/100\n",
      "11/11 [==============================] - 0s 16ms/step - loss: 0.0042\n",
      "Epoch 65/100\n",
      "11/11 [==============================] - 0s 17ms/step - loss: 0.0041\n",
      "Epoch 66/100\n",
      "11/11 [==============================] - 0s 17ms/step - loss: 0.0040\n",
      "Epoch 67/100\n",
      "11/11 [==============================] - 0s 17ms/step - loss: 0.0039\n",
      "Epoch 68/100\n",
      "11/11 [==============================] - 0s 17ms/step - loss: 0.0038\n",
      "Epoch 69/100\n",
      "11/11 [==============================] - 0s 17ms/step - loss: 0.0037\n",
      "Epoch 70/100\n",
      "11/11 [==============================] - 0s 17ms/step - loss: 0.0037\n",
      "Epoch 71/100\n",
      "11/11 [==============================] - 0s 17ms/step - loss: 0.0036\n",
      "Epoch 72/100\n",
      "11/11 [==============================] - 0s 17ms/step - loss: 0.0035\n",
      "Epoch 73/100\n",
      "11/11 [==============================] - 0s 16ms/step - loss: 0.0034\n",
      "Epoch 74/100\n",
      "11/11 [==============================] - 0s 17ms/step - loss: 0.0034\n",
      "Epoch 75/100\n",
      "11/11 [==============================] - 0s 17ms/step - loss: 0.0033\n",
      "Epoch 76/100\n"
     ]
    },
    {
     "name": "stdout",
     "output_type": "stream",
     "text": [
      "11/11 [==============================] - 0s 18ms/step - loss: 0.0033\n",
      "Epoch 77/100\n",
      "11/11 [==============================] - 0s 17ms/step - loss: 0.0032\n",
      "Epoch 78/100\n",
      "11/11 [==============================] - 0s 17ms/step - loss: 0.0031\n",
      "Epoch 79/100\n",
      "11/11 [==============================] - 0s 17ms/step - loss: 0.0031\n",
      "Epoch 80/100\n",
      "11/11 [==============================] - 0s 17ms/step - loss: 0.0030\n",
      "Epoch 81/100\n",
      "11/11 [==============================] - 0s 17ms/step - loss: 0.0030\n",
      "Epoch 82/100\n",
      "11/11 [==============================] - 0s 17ms/step - loss: 0.0029\n",
      "Epoch 83/100\n",
      "11/11 [==============================] - 0s 17ms/step - loss: 0.0028\n",
      "Epoch 84/100\n",
      "11/11 [==============================] - 0s 17ms/step - loss: 0.0028\n",
      "Epoch 85/100\n",
      "11/11 [==============================] - 0s 17ms/step - loss: 0.0028\n",
      "Epoch 86/100\n",
      "11/11 [==============================] - 0s 17ms/step - loss: 0.0027\n",
      "Epoch 87/100\n",
      "11/11 [==============================] - 0s 17ms/step - loss: 0.0027\n",
      "Epoch 88/100\n",
      "11/11 [==============================] - 0s 17ms/step - loss: 0.0026\n",
      "Epoch 89/100\n",
      "11/11 [==============================] - 0s 17ms/step - loss: 0.0026\n",
      "Epoch 90/100\n",
      "11/11 [==============================] - 0s 17ms/step - loss: 0.0025\n",
      "Epoch 91/100\n",
      "11/11 [==============================] - 0s 17ms/step - loss: 0.0025\n",
      "Epoch 92/100\n",
      "11/11 [==============================] - 0s 17ms/step - loss: 0.0024\n",
      "Epoch 93/100\n",
      "11/11 [==============================] - 0s 17ms/step - loss: 0.0024\n",
      "Epoch 94/100\n",
      "11/11 [==============================] - 0s 17ms/step - loss: 0.0024\n",
      "Epoch 95/100\n",
      "11/11 [==============================] - 0s 17ms/step - loss: 0.0023\n",
      "Epoch 96/100\n",
      "11/11 [==============================] - 0s 17ms/step - loss: 0.0023\n",
      "Epoch 97/100\n",
      "11/11 [==============================] - 0s 17ms/step - loss: 0.0023\n",
      "Epoch 98/100\n",
      "11/11 [==============================] - 0s 17ms/step - loss: 0.0022\n",
      "Epoch 99/100\n",
      "11/11 [==============================] - 0s 17ms/step - loss: 0.0022\n",
      "Epoch 100/100\n",
      "11/11 [==============================] - 0s 16ms/step - loss: 0.0022\n"
     ]
    },
    {
     "data": {
      "text/plain": [
       "<tensorflow.python.keras.callbacks.History at 0x7f9f94290f90>"
      ]
     },
     "execution_count": 32,
     "metadata": {},
     "output_type": "execute_result"
    }
   ],
   "source": [
    "# start train\n",
    "ae.fit(new_x, new_x,\n",
    "       batch_size=batch_size,\n",
    "       epochs=epoch,\n",
    "       verbose=1)"
   ]
  },
  {
   "cell_type": "markdown",
   "metadata": {},
   "source": [
    "- エンコーダだけのモデルを定義する．"
   ]
  },
  {
   "cell_type": "code",
   "execution_count": 33,
   "metadata": {},
   "outputs": [
    {
     "name": "stdout",
     "output_type": "stream",
     "text": [
      "Model: \"functional_3\"\n",
      "_________________________________________________________________\n",
      "Layer (type)                 Output Shape              Param #   \n",
      "=================================================================\n",
      "input_1 (InputLayer)         [(None, 26, 26, 3)]       0         \n",
      "_________________________________________________________________\n",
      "conv2d (Conv2D)              (None, 26, 26, 64)        1792      \n",
      "_________________________________________________________________\n",
      "max_pooling2d (MaxPooling2D) (None, 13, 13, 64)        0         \n",
      "=================================================================\n",
      "Total params: 1,792\n",
      "Trainable params: 1,792\n",
      "Non-trainable params: 0\n",
      "_________________________________________________________________\n"
     ]
    }
   ],
   "source": [
    "encoder = models.Model(input_tensor, latent_vector)\n",
    "encoder.summary()"
   ]
  },
  {
   "cell_type": "markdown",
   "metadata": {},
   "source": [
    "- デコーダだけのモデルを定義する．"
   ]
  },
  {
   "cell_type": "code",
   "execution_count": 34,
   "metadata": {},
   "outputs": [
    {
     "name": "stdout",
     "output_type": "stream",
     "text": [
      "Model: \"functional_5\"\n",
      "_________________________________________________________________\n",
      "Layer (type)                 Output Shape              Param #   \n",
      "=================================================================\n",
      "input_2 (InputLayer)         [(None, 13, 13, 64)]      0         \n",
      "_________________________________________________________________\n",
      "conv2d_transpose (Conv2DTran (None, 13, 13, 64)        36928     \n",
      "_________________________________________________________________\n",
      "up_sampling2d (UpSampling2D) (None, 26, 26, 64)        0         \n",
      "_________________________________________________________________\n",
      "conv2d_transpose_1 (Conv2DTr (None, 26, 26, 3)         1731      \n",
      "=================================================================\n",
      "Total params: 38,659\n",
      "Trainable params: 38,659\n",
      "Non-trainable params: 0\n",
      "_________________________________________________________________\n"
     ]
    }
   ],
   "source": [
    "decoder_input = Input((13, 13, 64))\n",
    "decode = decode_layer_1(decoder_input)\n",
    "decode = decode_layer_2(decode)\n",
    "\n",
    "decoder = models.Model(decoder_input, output_tensor(decode))\n",
    "decoder.summary()"
   ]
  },
  {
   "cell_type": "markdown",
   "metadata": {},
   "source": [
    "- `encoder`を使って元のウエハ画像をエンコードする．"
   ]
  },
  {
   "cell_type": "code",
   "execution_count": 35,
   "metadata": {},
   "outputs": [],
   "source": [
    "# Encode original faulty wafer\n",
    "encoded_x = encoder.predict(new_x)"
   ]
  },
  {
   "cell_type": "markdown",
   "metadata": {},
   "source": [
    "- エンコードされた潜伏的な不良ウエハにノイズを負荷する．"
   ]
  },
  {
   "cell_type": "code",
   "execution_count": 36,
   "metadata": {},
   "outputs": [],
   "source": [
    "# Add noise to encoded latent faulty wafers vector.\n",
    "noised_encoded_x = encoded_x + np.random.normal(loc=0, scale=0.1, size = (len(encoded_x), 13, 13, 64))"
   ]
  },
  {
   "cell_type": "markdown",
   "metadata": {},
   "source": [
    "- 元のウエハ画像"
   ]
  },
  {
   "cell_type": "code",
   "execution_count": 37,
   "metadata": {
    "scrolled": true
   },
   "outputs": [
    {
     "data": {
      "text/plain": [
       "<matplotlib.image.AxesImage at 0x7f9fbc4a2290>"
      ]
     },
     "execution_count": 37,
     "metadata": {},
     "output_type": "execute_result"
    },
    {
     "data": {
      "image/png": "[encoded data removed]",
      "text/plain": [
       "<Figure size 432x288 with 1 Axes>"
      ]
     },
     "metadata": {
      "needs_background": "light"
     },
     "output_type": "display_data"
    }
   ],
   "source": [
    "# check original faulty wafer data\n",
    "plt.imshow(np.argmax(new_x[3], axis=2))"
   ]
  },
  {
   "cell_type": "markdown",
   "metadata": {},
   "source": [
    "- ノイズが付加されたウエハ画像"
   ]
  },
  {
   "cell_type": "code",
   "execution_count": 38,
   "metadata": {},
   "outputs": [
    {
     "data": {
      "text/plain": [
       "<matplotlib.image.AxesImage at 0x7f9fc81427d0>"
      ]
     },
     "execution_count": 38,
     "metadata": {},
     "output_type": "execute_result"
    },
    {
     "data": {
      "image/png": "[encoded data removed]",
      "text/plain": [
       "<Figure size 432x288 with 1 Axes>"
      ]
     },
     "metadata": {
      "needs_background": "light"
     },
     "output_type": "display_data"
    }
   ],
   "source": [
    "# check new noised faulty wafer data\n",
    "noised_gen_x = np.argmax(decoder.predict(noised_encoded_x), axis=3)\n",
    "plt.imshow(noised_gen_x[3])"
   ]
  },
  {
   "cell_type": "code",
   "execution_count": 39,
   "metadata": {
    "scrolled": true
   },
   "outputs": [
    {
     "data": {
      "text/plain": [
       "'\\nnoised_encoded_x.shape\\nnoise = 0\\nsize = 1000 #new_x.shape[0]\\nfor i in range(size):\\n    noise += np.count_nonzero(np.argmax(decoder.predict(noised_encoded_x)[i], axis=2) - np.argmax(new_x[i], axis=2))\\n    print(i)\\nprint(noise)\\nprint(noise / size)\\n'"
      ]
     },
     "execution_count": 39,
     "metadata": {},
     "output_type": "execute_result"
    }
   ],
   "source": [
    "# ノイズが1枚当たりいくつ入るのかを調べる\n",
    "'''\n",
    "noised_encoded_x.shape\n",
    "noise = 0\n",
    "size = 1000 #new_x.shape[0]\n",
    "for i in range(size):\n",
    "    noise += np.count_nonzero(np.argmax(decoder.predict(noised_encoded_x)[i], axis=2) - np.argmax(new_x[i], axis=2))\n",
    "    print(i)\n",
    "print(noise)\n",
    "print(noise / size)\n",
    "'''"
   ]
  },
  {
   "cell_type": "markdown",
   "metadata": {},
   "source": [
    "- マスクの定義"
   ]
  },
  {
   "cell_type": "code",
   "execution_count": 40,
   "metadata": {
    "scrolled": false
   },
   "outputs": [],
   "source": [
    "# 0がウエハ領域，1が範囲外\n",
    "mask = new_x[0, :, :, 0].copy()\n",
    "#out_region = np.where(mask == 1.0)\n",
    "#in_region = np.where(mask == 0.0)\n",
    "#mask[out_region] = 0.0\n",
    "#mask[in_region] = 1.0\n",
    "#print(mask)"
   ]
  },
  {
   "cell_type": "markdown",
   "metadata": {},
   "source": [
    "- 90度以外の回転"
   ]
  },
  {
   "cell_type": "code",
   "execution_count": 41,
   "metadata": {},
   "outputs": [],
   "source": [
    "from PIL import Image, ImageOps\n",
    "def rotation_pil_mask(img, degree):\n",
    "    src = Image.fromarray(np.uint8(img))\n",
    "    img_rotate = np.array(src.rotate(degree))\n",
    "    \n",
    "    #before\n",
    "    '''\n",
    "    plt.imshow(np.argmax(img_rotate, axis=2))\n",
    "    plt.title(\"rotate \" + str(degree) + \" degree before\")\n",
    "    plt.show()\n",
    "    '''\n",
    "    \n",
    "    #マスクの適用, \n",
    "    out_region = np.where((np.argmax(img_rotate, axis=2) != 0) & (mask > 0.0))\n",
    "    img_rotate[out_region[0], out_region[1]] = np.array([1., 0., 0.])\n",
    "    in_region = np.where((np.argmax(img_rotate, axis=2) == 0) & (mask == 0.0))\n",
    "    img_rotate[in_region[0], in_region[1]] = np.array([0., 1., 0.])\n",
    "\n",
    "    #after\n",
    "    '''plt.imshow(np.argmax(img_rotate, axis=2))\n",
    "    plt.title(\"rotate \" + str(degree) + \" degree after\")\n",
    "    plt.show()'''\n",
    "\n",
    "    return img_rotate\n",
    "\n",
    "# 上下方向の鏡映\n",
    "def flip_pil_mask(img):\n",
    "    src = Image.fromarray(np.uint8(img))\n",
    "    img_flip = np.array(ImageOps.flip(src))\n",
    "    \n",
    "    #マスクの適用, \n",
    "    out_region = np.where((np.argmax(img_flip, axis=2) != 0) & (mask > 0.0))\n",
    "    img_flip[out_region[0], out_region[1]] = np.array([1., 0., 0.])\n",
    "    in_region = np.where((np.argmax(img_flip, axis=2) == 0) & (mask == 0.0))\n",
    "    img_flip[in_region[0], in_region[1]] = np.array([0., 1., 0.])\n",
    "    \n",
    "    return img_flip\n",
    "\n",
    "# 左右方向の鏡映\n",
    "def mirror_pil_mask(img):\n",
    "    src = Image.fromarray(np.uint8(img))\n",
    "    img_mirror = np.array(ImageOps.mirror(src))\n",
    "    \n",
    "    #マスクの適用, \n",
    "    out_region = np.where((np.argmax(img_mirror, axis=2) != 0) & (mask > 0.0))\n",
    "    img_mirror[out_region[0], out_region[1]] = np.array([1., 0., 0.])\n",
    "    in_region = np.where((np.argmax(img_mirror, axis=2) == 0) & (mask == 0.0))\n",
    "    img_mirror[in_region[0], in_region[1]] = np.array([0., 1., 0.])\n",
    "    \n",
    "    return img_mirror"
   ]
  },
  {
   "cell_type": "code",
   "execution_count": 42,
   "metadata": {
    "scrolled": false
   },
   "outputs": [
    {
     "data": {
      "text/plain": [
       "'\\nwafer = new_x[np.where(y==\"Edge-Loc\")[0]].reshape(len(np.where(y==\"Edge-Loc\")[0]), 26, 26, 3)\\nplt.imshow(np.argmax(wafer[0], axis=2))\\nplt.show()\\n\\n\\n# for i in range(19):\\n#     rotation_pil_mask(wafer[0], i*20)\\n\\nplt.imshow(np.argmax(flip_pil_mask(wafer[0]), axis=2))\\nplt.show()\\n\\nplt.imshow(np.argmax(mirror_pil_mask(wafer[0]), axis=2))\\nplt.show()\\n\\nplt.imshow(np.argmax(flip_pil_mask(mirror_pil_mask(wafer[0])), axis=2))\\nplt.show()\\n'"
      ]
     },
     "execution_count": 42,
     "metadata": {},
     "output_type": "execute_result"
    }
   ],
   "source": [
    "# 回転の実験\n",
    "'''\n",
    "wafer = new_x[np.where(y==\"Edge-Loc\")[0]].reshape(len(np.where(y==\"Edge-Loc\")[0]), 26, 26, 3)\n",
    "plt.imshow(np.argmax(wafer[0], axis=2))\n",
    "plt.show()\n",
    "\n",
    "\n",
    "# for i in range(19):\n",
    "#     rotation_pil_mask(wafer[0], i*20)\n",
    "\n",
    "plt.imshow(np.argmax(flip_pil_mask(wafer[0]), axis=2))\n",
    "plt.show()\n",
    "\n",
    "plt.imshow(np.argmax(mirror_pil_mask(wafer[0]), axis=2))\n",
    "plt.show()\n",
    "\n",
    "plt.imshow(np.argmax(flip_pil_mask(mirror_pil_mask(wafer[0])), axis=2))\n",
    "plt.show()\n",
    "'''"
   ]
  },
  {
   "cell_type": "markdown",
   "metadata": {},
   "source": [
    "### データオーギュメンテーション"
   ]
  },
  {
   "cell_type": "markdown",
   "metadata": {},
   "source": [
    "- データオーギュメンテーションを行う関数を定義する．\n",
    "- 鏡映，回転を行う"
   ]
  },
  {
   "cell_type": "code",
   "execution_count": 43,
   "metadata": {},
   "outputs": [],
   "source": [
    "shawon = True\n",
    "rotation_num = 3\n",
    "inversion = False\n",
    "pattern_num = 9000 if shawon else 9000\n",
    "version = \"v1\""
   ]
  },
  {
   "cell_type": "code",
   "execution_count": 44,
   "metadata": {},
   "outputs": [],
   "source": [
    "# augment function define (add rotate, flip)\n",
    "def gen_data(wafer, label):\n",
    "    global label_list\n",
    "    label_list_pattern = []\n",
    "    for k, v in enumerate(label_list):\n",
    "        if v['true_label'] == label:\n",
    "            label_list_pattern.append(label_list[k])\n",
    "            \n",
    "            \n",
    "    # Encode input wafer\n",
    "    #encoded_x = encoder.predict(wafer)\n",
    "    \n",
    "    # dummy array for collecting noised wafer\n",
    "    gen_x = np.zeros((1, 26, 26, 3))\n",
    "    aug_x = np.zeros((1, 26, 26, 3))\n",
    "    \n",
    "    augmentation_dict = []\n",
    "    \n",
    "    ite = rotation_num if label != 'none' else 1\n",
    "    \n",
    "    if not shawon:\n",
    "        for i in range(len(wafer)):\n",
    "            for j in range(ite):\n",
    "    #             rotatedata = wafer[i]\n",
    "                angle = int(180 / ite) if inversion else int(360 / ite)\n",
    "                rotatedata = rotation_pil_mask(wafer[i], j * angle)\n",
    "                \n",
    "\n",
    "                if inversion:\n",
    "                    flipdata = flip_pil_mask(rotatedata)\n",
    "                    flipmirrordata = mirror_pil_mask(flipdata)\n",
    "                    mirrordata = mirror_pil_mask(rotatedata)\n",
    "                    flipdata = flipdata.reshape(1, 26, 26, 3)\n",
    "                    flipmirrordata = flipmirrordata.reshape(1, 26, 26, 3)\n",
    "                    mirrordata = mirrordata.reshape(1, 26, 26, 3)\n",
    "                    rotatedata = rotatedata.reshape(1, 26, 26, 3)\n",
    "                    augmentation_dict.append({'wafer_id':str(label_list_pattern[i]['wafer_id']).zfill(6), 'true_label':label_list_pattern[i]['true_label'], 'predict_label':None, 'augmentation':{'noise':0, 'rotation':j*angle, 'inversion':0}, 'trials':trials})\n",
    "                    aug_x = np.concatenate((aug_x, rotatedata, flipdata, flipmirrordata, mirrordata), axis = 0)\n",
    "                    augmentation_dict.append({'wafer_id':str(label_list_pattern[i]['wafer_id']).zfill(6), 'true_label':label_list_pattern[i]['true_label'], 'predict_label':None, 'augmentation':{'noise':0, 'rotation':j*angle, 'inversion':1}, 'trials':trials})\n",
    "                    augmentation_dict.append({'wafer_id':str(label_list_pattern[i]['wafer_id']).zfill(6), 'true_label':label_list_pattern[i]['true_label'], 'predict_label':None, 'augmentation':{'noise':0, 'rotation':j*angle, 'inversion':2}, 'trials':trials})\n",
    "                    augmentation_dict.append({'wafer_id':str(label_list_pattern[i]['wafer_id']).zfill(6), 'true_label':label_list_pattern[i]['true_label'], 'predict_label':None, 'augmentation':{'noise':0, 'rotation':j*angle, 'inversion':3}, 'trials':trials})\n",
    "                else:\n",
    "                    rotatedata = rotatedata.reshape(1, 26, 26, 3)\n",
    "                    augmentation_dict.append({'wafer_id':str(label_list_pattern[i]['wafer_id']).zfill(6), 'true_label':label_list_pattern[i]['true_label'], 'predict_label':None, 'augmentation':{'noise':0, 'rotation':angle, 'inversion':0}, 'trials':trials})\n",
    "                    aug_x = np.concatenate((aug_x, rotatedata), axis = 0)\n",
    "\n",
    "        aug_x = aug_x[1:]\n",
    "        encoded_x = encoder.predict(aug_x)\n",
    "    \n",
    "    else:\n",
    "        encoded_x = encoder.predict(wafer)\n",
    "        for i in range(len(wafer)):\n",
    "            augmentation_dict.append({'wafer_id':str(label_list_pattern[i]['wafer_id']).zfill(6), 'true_label':label_list_pattern[i]['true_label'], 'predict_label':None, 'augmentation':{'noise':0, 'rotation':0, 'inversion':0}, 'trials':trials})\n",
    "    print(encoded_x.shape)\n",
    "        \n",
    "    # Shawon's experiment 2000\n",
    "    for i in range((pattern_num//len(encoded_x)) + 1):\n",
    "        noised_encoded_x = encoded_x + np.random.normal(loc=0, scale=0.1, size = (len(encoded_x), 13, 13, 64)) \n",
    "        noised_gen_x = decoder.predict(noised_encoded_x)\n",
    "        gen_x = np.concatenate((gen_x, noised_gen_x), axis=0)\n",
    "        label_list_before = copy.deepcopy(augmentation_dict)\n",
    "        for j in range(len(encoded_x)):\n",
    "            label_list_before[j]['augmentation']['noise'] = i+1\n",
    "        label_list += copy.deepcopy(label_list_before)\n",
    "        \n",
    "    # also make label vector with same length\n",
    "    gen_y = np.full((len(gen_x), 1), label)\n",
    "    \n",
    "    # return date without 1st dummy data.\n",
    "    return gen_x[1:], gen_y[1:]"
   ]
  },
  {
   "cell_type": "markdown",
   "metadata": {},
   "source": [
    "- 不良ラベルが付いているデータに対してデータオーギュメンテーションを行う．"
   ]
  },
  {
   "cell_type": "code",
   "execution_count": 45,
   "metadata": {
    "scrolled": true
   },
   "outputs": [
    {
     "name": "stdout",
     "output_type": "stream",
     "text": [
      "(77, 13, 13, 64)\n",
      "(1, 13, 13, 64)\n",
      "(242, 13, 13, 64)\n",
      "(13, 13, 13, 64)\n",
      "(257, 13, 13, 64)\n",
      "(8, 13, 13, 64)\n",
      "(57, 13, 13, 64)\n",
      "(58, 13, 13, 64)\n"
     ]
    }
   ],
   "source": [
    "# Augmentation for all faulty case.\n",
    "for f in faulty_case : \n",
    "    # skip none case\n",
    "    if f == 'none' : \n",
    "        continue\n",
    "    \n",
    "    gen_x, gen_y = gen_data(new_x[np.where(y==f)[0]], f)\n",
    "    new_x = np.concatenate((new_x, gen_x), axis=0)\n",
    "    y = np.concatenate((y, gen_y))"
   ]
  },
  {
   "cell_type": "code",
   "execution_count": 46,
   "metadata": {
    "scrolled": true
   },
   "outputs": [
    {
     "name": "stdout",
     "output_type": "stream",
     "text": [
      "After Generate new_x shape : (83015, 26, 26, 3), new_y shape : (83015, 1)\n"
     ]
    }
   ],
   "source": [
    "print('After Generate new_x shape : {}, new_y shape : {}'.format(new_x.shape, y.shape))"
   ]
  },
  {
   "cell_type": "code",
   "execution_count": 47,
   "metadata": {
    "scrolled": true
   },
   "outputs": [
    {
     "name": "stdout",
     "output_type": "stream",
     "text": [
      "Center : 9086\n",
      "Donut : 9002\n",
      "Edge-Loc : 9438\n",
      "Edge-Ring : 9022\n",
      "Loc : 9509\n",
      "Near-full : 9016\n",
      "Random : 9063\n",
      "Scratch : 9106\n",
      "none : 9773\n"
     ]
    }
   ],
   "source": [
    "for f in faulty_case :\n",
    "    print('{} : {}'.format(f, len(y[y==f])))\n",
    "new_y = y"
   ]
  },
  {
   "cell_type": "code",
   "execution_count": 48,
   "metadata": {},
   "outputs": [],
   "source": [
    "# if shawon:\n",
    "#     none_idx = np.where(y=='none')[0][np.random.choice(len(np.where(y=='none')[0]), size=7500, replace=False)]\n",
    "#     new_x = np.delete(new_x, none_idx, axis=0)\n",
    "#     new_y = np.delete(y, none_idx, axis=0)\n",
    "#     for i in sorted(none_idx.tolist(), reverse=True):\n",
    "#         label_list.pop(i)\n",
    "#     print('After Delete \"none\" class new_x shape : {}, new_y shape : {}'.format(new_x.shape, new_y.shape))\n",
    "#     for f in faulty_case :\n",
    "#         print('{} : {}'.format(f, len(new_y[new_y==f])))"
   ]
  },
  {
   "cell_type": "markdown",
   "metadata": {},
   "source": [
    "### ノイズ付加後もマスクで直す"
   ]
  },
  {
   "cell_type": "code",
   "execution_count": 49,
   "metadata": {},
   "outputs": [],
   "source": [
    "backup_new_x = new_x.copy()\n",
    "backup_new_y = new_y.copy()"
   ]
  },
  {
   "cell_type": "code",
   "execution_count": 50,
   "metadata": {
    "scrolled": false
   },
   "outputs": [],
   "source": [
    "if not shawon:\n",
    "    count = 0\n",
    "    for i in range(len(new_x)):\n",
    "        error = np.where((np.argmax(new_x[0], axis=2) != np.argmax(new_x[i], axis=2)) & (np.argmax(new_x[0], axis=2) == 0))\n",
    "        if len(error[0]) > 0:\n",
    "            #print(str(i) + \"error\")\n",
    "            #print(error)\n",
    "            count += 1\n",
    "    print(count)\n",
    "\n",
    "    for i in range(len(new_x)):\n",
    "        #マスクの適用, \n",
    "        out_region = np.where((np.argmax(new_x[i], axis=2) != 0) & (mask > 0.0))\n",
    "        new_x[i, out_region[0], out_region[1]] = np.array([1., 0., 0.])\n",
    "        in_region = np.where((np.argmax(new_x[i], axis=2) == 0) & (mask == 0.0))\n",
    "        new_x[i, in_region[0], in_region[1]] = np.array([0., 1., 0.])\n",
    "\n",
    "    count = 0\n",
    "    for i in range(len(new_x)):\n",
    "        error = np.where((np.argmax(new_x[0], axis=2) != np.argmax(new_x[i], axis=2)) & (np.argmax(new_x[0], axis=2) == 0))\n",
    "        if len(error[0]) > 0:\n",
    "            #print(str(i) + \"error\")\n",
    "            #print(error)\n",
    "            count += 1\n",
    "    print(count)\n"
   ]
  },
  {
   "cell_type": "markdown",
   "metadata": {},
   "source": [
    "- データオーギュメンテーションを行った結果，各不良データごとに約40000枚に増えた．\n",
    "- 合計は368112枚となった．"
   ]
  },
  {
   "cell_type": "code",
   "execution_count": 51,
   "metadata": {
    "scrolled": true
   },
   "outputs": [
    {
     "data": {
      "image/png": "[encoded data removed]",
      "text/plain": [
       "<Figure size 1440x1440 with 10 Axes>"
      ]
     },
     "metadata": {},
     "output_type": "display_data"
    },
    {
     "data": {
      "image/png": "[encoded data removed]",
      "text/plain": [
       "<Figure size 1440x1440 with 10 Axes>"
      ]
     },
     "metadata": {},
     "output_type": "display_data"
    },
    {
     "data": {
      "image/png": "[encoded data removed]",
      "text/plain": [
       "<Figure size 1440x1440 with 10 Axes>"
      ]
     },
     "metadata": {},
     "output_type": "display_data"
    },
    {
     "data": {
      "image/png": "[encoded data removed]",
      "text/plain": [
       "<Figure size 1440x1440 with 10 Axes>"
      ]
     },
     "metadata": {},
     "output_type": "display_data"
    },
    {
     "data": {
      "image/png": "[encoded data removed]",
      "text/plain": [
       "<Figure size 1440x1440 with 10 Axes>"
      ]
     },
     "metadata": {},
     "output_type": "display_data"
    },
    {
     "data": {
      "image/png": "[encoded data removed]",
      "text/plain": [
       "<Figure size 1440x1440 with 10 Axes>"
      ]
     },
     "metadata": {},
     "output_type": "display_data"
    },
    {
     "data": {
      "image/png": "[encoded data removed]",
      "text/plain": [
       "<Figure size 1440x1440 with 10 Axes>"
      ]
     },
     "metadata": {},
     "output_type": "display_data"
    },
    {
     "data": {
      "image/png": "[encoded data removed]",
      "text/plain": [
       "<Figure size 1440x1440 with 10 Axes>"
      ]
     },
     "metadata": {},
     "output_type": "display_data"
    },
    {
     "data": {
      "image/png": "[encoded data removed]",
      "text/plain": [
       "<Figure size 1440x1440 with 10 Axes>"
      ]
     },
     "metadata": {},
     "output_type": "display_data"
    }
   ],
   "source": [
    "x = [0,1,2,3,4,5,6,7,8]\n",
    "labels2 = ['Center','Donut','Edge-Loc','Edge-Ring','Loc','Random','Scratch','Near-full','none']\n",
    "\n",
    "for k in x:\n",
    "    fig, ax = plt.subplots(nrows = 1, ncols = 10, figsize=(20, 20))\n",
    "    ax = ax.ravel(order='C')\n",
    "    for j in [k]:\n",
    "        index = np.where(new_y==labels2[j])[0]\n",
    "        img = new_x[index]\n",
    "        #img = new_x[0:10]\n",
    "        for i in range(10):\n",
    "            ax[i].imshow(np.argmax(img[i+0], axis=2))\n",
    "            ax[i].set_title(new_y[index[i+0]], fontsize=15)\n",
    "            #ax[i].set_xlabel(df_withpattern.index[img.index[i]], fontsize=10)\n",
    "            ax[i].set_xticks([])\n",
    "            ax[i].set_yticks([])\n",
    "    plt.tight_layout()\n",
    "    plt.show() "
   ]
  },
  {
   "cell_type": "markdown",
   "metadata": {},
   "source": [
    "- 小数を01に変更"
   ]
  },
  {
   "cell_type": "code",
   "execution_count": 52,
   "metadata": {},
   "outputs": [],
   "source": [
    "def convert_float_to_01(wafer):\n",
    "    width, height, _ = wafer.shape\n",
    "    for i in range(width):\n",
    "        for j in range(height):\n",
    "            max_index = np.argmax(wafer[i, j])\n",
    "            for k in range(3):\n",
    "                wafer[i, j, k] = 1.0 if k == max_index else 0.0\n",
    "    return wafer"
   ]
  },
  {
   "cell_type": "code",
   "execution_count": 53,
   "metadata": {},
   "outputs": [],
   "source": [
    "if not shawon:\n",
    "    for i in range(new_x.shape[0]):\n",
    "        new_x[i] = convert_float_to_01(new_x[i])"
   ]
  },
  {
   "cell_type": "markdown",
   "metadata": {},
   "source": [
    "### 学習を行う\n",
    "- 不良ラベルを0-8の9次元のベクトルとして表現する．\n",
    "- one-hotエンコーディングを行っている．"
   ]
  },
  {
   "cell_type": "markdown",
   "metadata": {},
   "source": [
    "- 保存/読み込み"
   ]
  },
  {
   "cell_type": "code",
   "execution_count": 54,
   "metadata": {},
   "outputs": [],
   "source": [
    "# MAKE_DATASET = True\n",
    "ver = 'shawon' if shawon else 'propose'\n",
    "# if MAKE_DATASET:\n",
    "#     pickle_dump(new_x, './data/new_x_' + ver + '.pickle')\n",
    "#     pickle_dump(new_y, './data/new_y_' + ver + '.pickle')\n",
    "#     pickle_dump(label_list, './data/label_list_' + ver + '.pickle')\n",
    "    \n",
    "# if not MAKE_DATASET:\n",
    "#     new_x = pickle_load('./data/new_x_' + ver + '.pickle')\n",
    "#     new_y = pickle_load('./data/new_y_' + ver + '.pickle')\n",
    "#     label_list = pickle_load('./data/label_list_' + ver + '.pickle')"
   ]
  },
  {
   "cell_type": "code",
   "execution_count": 55,
   "metadata": {},
   "outputs": [],
   "source": [
    "for i, l in enumerate(faulty_case):\n",
    "    new_y[new_y==l] = i"
   ]
  },
  {
   "cell_type": "code",
   "execution_count": 56,
   "metadata": {},
   "outputs": [],
   "source": [
    "for i in range(len(label_list)):\n",
    "    label_list[i]['true_label'] = new_y[i][0]"
   ]
  },
  {
   "cell_type": "code",
   "execution_count": 57,
   "metadata": {},
   "outputs": [],
   "source": [
    "# one-hot-encoding\n",
    "new_y = to_categorical(new_y)"
   ]
  },
  {
   "cell_type": "code",
   "execution_count": 58,
   "metadata": {},
   "outputs": [],
   "source": [
    "random.seed(1)\n",
    "def rand_ints_nodup(a, b, k):\n",
    "    ns = []\n",
    "    while len(ns) < k:\n",
    "        n = random.randint(a, b)\n",
    "        if not n in ns:\n",
    "            ns.append(n)\n",
    "    return ns"
   ]
  },
  {
   "cell_type": "code",
   "execution_count": 59,
   "metadata": {},
   "outputs": [],
   "source": [
    "# testsize = 2000\n",
    "# randlist = rand_ints_nodup(0, new_x.shape[0]-1, testsize)\n",
    "\n",
    "# valx = new_x.copy()[randlist, :, :, :]\n",
    "# valy = y.copy()[randlist, :]\n",
    "\n",
    "# test_size = 705 #705\n",
    "# new_x_size = new_x.shape[0]\n",
    "# testlist = rand_ints_nodup(0, new_x_size-1, test_size)\n",
    "# trainlist = [i for i in range(new_x_size) if i != testlist]\n",
    "# new_X=new_x[trainlist]\n",
    "# new_Y=new_y[trainlist]\n",
    "# test_x=new_x[testlist]\n",
    "# test_y=new_y[testlist]\n",
    "\n",
    "# label_train = copy.deepcopy([label_list[i] for i in trainlist])\n",
    "# label_test = copy.deepcopy([label_list[i] for i in testlist])\n",
    "\n",
    "# test_x.shape"
   ]
  },
  {
   "cell_type": "code",
   "execution_count": 60,
   "metadata": {},
   "outputs": [],
   "source": [
    "new_X=new_x\n",
    "new_Y=new_y\n",
    "label_train = copy.deepcopy(label_list)"
   ]
  },
  {
   "cell_type": "markdown",
   "metadata": {},
   "source": [
    "- 学習データとテストデータに分割する．"
   ]
  },
  {
   "cell_type": "code",
   "execution_count": 61,
   "metadata": {},
   "outputs": [],
   "source": [
    "indices = np.array(range(new_X.shape[0]))\n",
    "\n",
    "x_train, x_test, y_train, y_test, indices_train, indices_test = train_test_split(new_X, new_Y, indices,\n",
    "                                                                test_size=0.33,\n",
    "                                                                random_state=2020)"
   ]
  },
  {
   "cell_type": "code",
   "execution_count": 62,
   "metadata": {},
   "outputs": [],
   "source": [
    "label_vali = copy.deepcopy([label_train[i] for i in indices_test.tolist()])\n",
    "label_train = copy.deepcopy([label_train[i] for i in indices_train.tolist()])"
   ]
  },
  {
   "cell_type": "code",
   "execution_count": 63,
   "metadata": {},
   "outputs": [
    {
     "name": "stdout",
     "output_type": "stream",
     "text": [
      "Train x : (55620, 26, 26, 3), y : (55620, 9)\n",
      "Test x: (27395, 26, 26, 3), y : (27395, 9)\n"
     ]
    }
   ],
   "source": [
    "print('Train x : {}, y : {}'.format(x_train.shape, y_train.shape))\n",
    "print('Test x: {}, y : {}'.format(x_test.shape, y_test.shape))"
   ]
  },
  {
   "cell_type": "markdown",
   "metadata": {},
   "source": [
    "- 学習データ246635枚，テストデータ121477枚．"
   ]
  },
  {
   "cell_type": "markdown",
   "metadata": {},
   "source": [
    "- モデルの定義を行う．"
   ]
  },
  {
   "cell_type": "markdown",
   "metadata": {},
   "source": [
    "### CNN"
   ]
  },
  {
   "cell_type": "code",
   "execution_count": 64,
   "metadata": {},
   "outputs": [],
   "source": [
    "input_shape = (26, 26, 3)\n",
    "input_tensor = Input(input_shape)\n",
    "def create_model():\n",
    "\n",
    "    with tf.distribute.MirroredStrategy(devices=[\"/gpu:0\", \"/gpu:1\"], \n",
    "                                        cross_device_ops = tf.distribute.HierarchicalCopyAllReduce()).scope():\n",
    "        conv_1 = layers.Conv2D(16, (3,3), activation='relu', padding='same')(input_tensor)\n",
    "        pool_1 = layers.MaxPooling2D(pool_size=(2, 2), padding='valid')(conv_1)\n",
    "        conv_2 = layers.Conv2D(64, (3,3), activation='relu', padding='same')(pool_1)\n",
    "        pool_2 = layers.MaxPooling2D(pool_size=(2, 2), padding='valid')(conv_2)\n",
    "        conv_3 = layers.Conv2D(128, (3,3), activation='relu', padding='same')(pool_2)\n",
    "        pool_3 = layers.MaxPooling2D(pool_size=(2, 2), padding='valid')(conv_3)\n",
    "\n",
    "        flat = layers.Flatten()(pool_3)\n",
    "\n",
    "        dense_1 = layers.Dense(512, activation='relu')(flat)\n",
    "        dense_2 = layers.Dense(128, activation='relu')(dense_1)\n",
    "        output_tensor = layers.Dense(9, activation='softmax')(dense_2)\n",
    "\n",
    "        model = models.Model(input_tensor, output_tensor)\n",
    "        model.compile(optimizer='Adam',\n",
    "                     loss='categorical_crossentropy',\n",
    "                     metrics=['accuracy'])\n",
    "\n",
    "    return model"
   ]
  },
  {
   "cell_type": "markdown",
   "metadata": {},
   "source": [
    "- 3-Fold Cross validationで分割して学習する．"
   ]
  },
  {
   "cell_type": "code",
   "execution_count": 65,
   "metadata": {
    "scrolled": true
   },
   "outputs": [],
   "source": [
    "model = KerasClassifier(build_fn=create_model, epochs=30, batch_size=1024, verbose=1) \n",
    "# 3-Fold Crossvalidation\n",
    "kfold = KFold(n_splits=3, shuffle=True, random_state=2019) \n",
    "# results = cross_val_score(model, x_train, y_train, cv=kfold)\n",
    "# # Check 3-fold model's mean accuracy\n",
    "# print('Simple CNN Cross validation score : {:.4f}'.format(np.mean(results)))"
   ]
  },
  {
   "cell_type": "markdown",
   "metadata": {},
   "source": [
    "- Cross validiationによる精度は99.55%であった．"
   ]
  },
  {
   "cell_type": "markdown",
   "metadata": {},
   "source": [
    "- Cross validationなしで学習する．"
   ]
  },
  {
   "cell_type": "code",
   "execution_count": 66,
   "metadata": {},
   "outputs": [
    {
     "name": "stdout",
     "output_type": "stream",
     "text": [
      "INFO:tensorflow:Using MirroredStrategy with devices ('/job:localhost/replica:0/task:0/device:GPU:0', '/job:localhost/replica:0/task:0/device:GPU:1', '/job:localhost/replica:0/task:0/device:XLA_GPU:0')\n",
      "Number of devices: 3\n"
     ]
    }
   ],
   "source": [
    "strategy = tf.distribute.MirroredStrategy(devices=[\"/gpu:0\", \"/gpu:1\", \"device:XLA_GPU:0\"], cross_device_ops = tf.distribute.HierarchicalCopyAllReduce())\n",
    "print('Number of devices: {}'.format(strategy.num_replicas_in_sync))"
   ]
  },
  {
   "cell_type": "code",
   "execution_count": 67,
   "metadata": {},
   "outputs": [],
   "source": [
    "# from tensorflow.python.client import device_lib\n",
    "# device_lib.list_local_devices()"
   ]
  },
  {
   "cell_type": "code",
   "execution_count": 68,
   "metadata": {},
   "outputs": [],
   "source": [
    "epoch=60\n",
    "batch_size=2048"
   ]
  },
  {
   "cell_type": "code",
   "execution_count": 69,
   "metadata": {
    "scrolled": true
   },
   "outputs": [
    {
     "name": "stdout",
     "output_type": "stream",
     "text": [
      "INFO:tensorflow:Using MirroredStrategy with devices ('/job:localhost/replica:0/task:0/device:GPU:0', '/job:localhost/replica:0/task:0/device:GPU:1')\n",
      "Epoch 1/60\n",
      "INFO:tensorflow:batch_all_reduce: 12 all-reduces with algorithm = hierarchical_copy, num_packs = 1\n",
      "INFO:tensorflow:batch_all_reduce: 12 all-reduces with algorithm = hierarchical_copy, num_packs = 1\n",
      "28/28 [==============================] - 2s 89ms/step - loss: 1.3666 - accuracy: 0.4770 - val_loss: 0.8934 - val_accuracy: 0.6372\n",
      "Epoch 2/60\n",
      "28/28 [==============================] - 1s 24ms/step - loss: 0.7122 - accuracy: 0.7194 - val_loss: 0.5642 - val_accuracy: 0.7818\n",
      "Epoch 3/60\n",
      "28/28 [==============================] - 1s 24ms/step - loss: 0.4779 - accuracy: 0.8171 - val_loss: 0.3956 - val_accuracy: 0.8444\n",
      "Epoch 4/60\n",
      "28/28 [==============================] - 1s 24ms/step - loss: 0.3332 - accuracy: 0.8823 - val_loss: 0.2839 - val_accuracy: 0.9071\n",
      "Epoch 5/60\n",
      "28/28 [==============================] - 1s 24ms/step - loss: 0.2359 - accuracy: 0.9233 - val_loss: 0.2691 - val_accuracy: 0.8977\n",
      "Epoch 6/60\n",
      "28/28 [==============================] - 1s 23ms/step - loss: 0.1797 - accuracy: 0.9429 - val_loss: 0.1525 - val_accuracy: 0.9501\n",
      "Epoch 7/60\n",
      "28/28 [==============================] - 1s 24ms/step - loss: 0.1284 - accuracy: 0.9600 - val_loss: 0.1137 - val_accuracy: 0.9753\n",
      "Epoch 8/60\n",
      "28/28 [==============================] - 1s 24ms/step - loss: 0.0836 - accuracy: 0.9770 - val_loss: 0.0672 - val_accuracy: 0.9804\n",
      "Epoch 9/60\n",
      "28/28 [==============================] - 1s 24ms/step - loss: 0.0614 - accuracy: 0.9848 - val_loss: 0.0512 - val_accuracy: 0.9890\n",
      "Epoch 10/60\n",
      "28/28 [==============================] - 1s 24ms/step - loss: 0.0416 - accuracy: 0.9922 - val_loss: 0.0386 - val_accuracy: 0.9931\n",
      "Epoch 11/60\n",
      "28/28 [==============================] - 1s 24ms/step - loss: 0.0317 - accuracy: 0.9945 - val_loss: 0.0258 - val_accuracy: 0.9959\n",
      "Epoch 12/60\n",
      "28/28 [==============================] - 1s 24ms/step - loss: 0.8392 - accuracy: 0.8726 - val_loss: 0.5548 - val_accuracy: 0.8086\n",
      "Epoch 13/60\n",
      "28/28 [==============================] - 1s 23ms/step - loss: 0.3102 - accuracy: 0.9064 - val_loss: 0.1386 - val_accuracy: 0.9493\n",
      "Epoch 14/60\n",
      "28/28 [==============================] - 1s 23ms/step - loss: 0.0726 - accuracy: 0.9823 - val_loss: 0.0573 - val_accuracy: 0.9850\n",
      "Epoch 15/60\n",
      "28/28 [==============================] - 1s 24ms/step - loss: 0.0378 - accuracy: 0.9938 - val_loss: 0.0298 - val_accuracy: 0.9961\n",
      "Epoch 16/60\n",
      "28/28 [==============================] - 1s 31ms/step - loss: 0.0259 - accuracy: 0.9964 - val_loss: 0.0223 - val_accuracy: 0.9963\n",
      "Epoch 17/60\n",
      "28/28 [==============================] - 1s 24ms/step - loss: 0.0198 - accuracy: 0.9969 - val_loss: 0.0190 - val_accuracy: 0.9966\n",
      "Epoch 18/60\n",
      "28/28 [==============================] - 1s 24ms/step - loss: 0.0160 - accuracy: 0.9974 - val_loss: 0.0155 - val_accuracy: 0.9972\n",
      "Epoch 19/60\n",
      "28/28 [==============================] - 1s 24ms/step - loss: 0.0135 - accuracy: 0.9976 - val_loss: 0.0137 - val_accuracy: 0.9973\n",
      "Epoch 20/60\n",
      "28/28 [==============================] - 1s 23ms/step - loss: 0.0148 - accuracy: 0.9971 - val_loss: 0.0137 - val_accuracy: 0.9975\n",
      "Epoch 21/60\n",
      "28/28 [==============================] - 1s 24ms/step - loss: 0.0100 - accuracy: 0.9980 - val_loss: 0.0119 - val_accuracy: 0.9971\n",
      "Epoch 22/60\n",
      "28/28 [==============================] - 1s 23ms/step - loss: 0.0094 - accuracy: 0.9980 - val_loss: 0.0158 - val_accuracy: 0.9970\n",
      "Epoch 23/60\n",
      "28/28 [==============================] - 1s 24ms/step - loss: 0.0095 - accuracy: 0.9979 - val_loss: 0.0095 - val_accuracy: 0.9977\n",
      "Epoch 24/60\n",
      "28/28 [==============================] - 1s 24ms/step - loss: 0.0067 - accuracy: 0.9986 - val_loss: 0.0083 - val_accuracy: 0.9981\n",
      "Epoch 25/60\n",
      "28/28 [==============================] - 1s 24ms/step - loss: 0.0060 - accuracy: 0.9987 - val_loss: 0.0088 - val_accuracy: 0.9978\n",
      "Epoch 26/60\n",
      "28/28 [==============================] - 1s 24ms/step - loss: 0.0056 - accuracy: 0.9987 - val_loss: 0.0086 - val_accuracy: 0.9980\n",
      "Epoch 27/60\n",
      "28/28 [==============================] - 1s 23ms/step - loss: 0.0048 - accuracy: 0.9989 - val_loss: 0.0082 - val_accuracy: 0.9980\n",
      "Epoch 28/60\n",
      "28/28 [==============================] - 1s 24ms/step - loss: 0.0043 - accuracy: 0.9990 - val_loss: 0.0071 - val_accuracy: 0.9980\n",
      "Epoch 29/60\n",
      "28/28 [==============================] - 1s 23ms/step - loss: 0.0043 - accuracy: 0.9991 - val_loss: 0.0081 - val_accuracy: 0.9980\n",
      "Epoch 30/60\n",
      "28/28 [==============================] - 1s 24ms/step - loss: 0.0036 - accuracy: 0.9993 - val_loss: 0.0064 - val_accuracy: 0.9985\n",
      "Epoch 31/60\n",
      "28/28 [==============================] - 1s 24ms/step - loss: 0.0033 - accuracy: 0.9994 - val_loss: 0.0073 - val_accuracy: 0.9984\n",
      "Epoch 32/60\n",
      "28/28 [==============================] - 1s 24ms/step - loss: 0.0037 - accuracy: 0.9992 - val_loss: 0.0059 - val_accuracy: 0.9985\n",
      "Epoch 33/60\n",
      "28/28 [==============================] - 1s 24ms/step - loss: 0.0032 - accuracy: 0.9994 - val_loss: 0.0063 - val_accuracy: 0.9986\n",
      "Epoch 34/60\n",
      "28/28 [==============================] - 1s 24ms/step - loss: 0.0025 - accuracy: 0.9996 - val_loss: 0.0057 - val_accuracy: 0.9984\n",
      "Epoch 35/60\n",
      "28/28 [==============================] - 1s 23ms/step - loss: 0.0020 - accuracy: 0.9997 - val_loss: 0.0055 - val_accuracy: 0.9985\n",
      "Epoch 36/60\n",
      "28/28 [==============================] - 1s 24ms/step - loss: 0.0020 - accuracy: 0.9998 - val_loss: 0.0066 - val_accuracy: 0.9983\n",
      "Epoch 37/60\n",
      "28/28 [==============================] - 1s 24ms/step - loss: 0.0017 - accuracy: 0.9997 - val_loss: 0.0057 - val_accuracy: 0.9985\n",
      "Epoch 38/60\n",
      "28/28 [==============================] - 1s 24ms/step - loss: 0.0014 - accuracy: 0.9998 - val_loss: 0.0055 - val_accuracy: 0.9984\n",
      "Epoch 39/60\n",
      "28/28 [==============================] - 1s 23ms/step - loss: 0.0013 - accuracy: 0.9998 - val_loss: 0.0054 - val_accuracy: 0.9984\n",
      "Epoch 40/60\n",
      "28/28 [==============================] - 1s 23ms/step - loss: 0.0011 - accuracy: 0.9999 - val_loss: 0.0058 - val_accuracy: 0.9985\n",
      "Epoch 41/60\n",
      "28/28 [==============================] - 1s 24ms/step - loss: 0.0010 - accuracy: 0.9999 - val_loss: 0.0064 - val_accuracy: 0.9984\n",
      "Epoch 42/60\n",
      "28/28 [==============================] - 1s 24ms/step - loss: 8.8045e-04 - accuracy: 0.9999 - val_loss: 0.0054 - val_accuracy: 0.9985\n",
      "Epoch 43/60\n",
      "28/28 [==============================] - 1s 23ms/step - loss: 7.8334e-04 - accuracy: 0.9999 - val_loss: 0.0058 - val_accuracy: 0.9985\n",
      "Epoch 44/60\n",
      "28/28 [==============================] - 1s 23ms/step - loss: 7.9167e-04 - accuracy: 0.9999 - val_loss: 0.0054 - val_accuracy: 0.9986\n",
      "Epoch 45/60\n",
      "28/28 [==============================] - 1s 24ms/step - loss: 7.7469e-04 - accuracy: 1.0000 - val_loss: 0.0057 - val_accuracy: 0.9985\n",
      "Epoch 46/60\n",
      "28/28 [==============================] - 1s 24ms/step - loss: 7.2566e-04 - accuracy: 1.0000 - val_loss: 0.0064 - val_accuracy: 0.9983\n",
      "Epoch 47/60\n",
      "28/28 [==============================] - 1s 24ms/step - loss: 6.5925e-04 - accuracy: 1.0000 - val_loss: 0.0059 - val_accuracy: 0.9982\n",
      "Epoch 48/60\n",
      "28/28 [==============================] - 1s 23ms/step - loss: 5.7479e-04 - accuracy: 1.0000 - val_loss: 0.0062 - val_accuracy: 0.9984\n",
      "Epoch 49/60\n",
      "28/28 [==============================] - 1s 24ms/step - loss: 4.8903e-04 - accuracy: 1.0000 - val_loss: 0.0051 - val_accuracy: 0.9985\n",
      "Epoch 50/60\n",
      "28/28 [==============================] - 1s 24ms/step - loss: 4.4868e-04 - accuracy: 1.0000 - val_loss: 0.0053 - val_accuracy: 0.9985\n",
      "Epoch 51/60\n",
      "28/28 [==============================] - 1s 23ms/step - loss: 4.0612e-04 - accuracy: 1.0000 - val_loss: 0.0054 - val_accuracy: 0.9985\n",
      "Epoch 52/60\n",
      "28/28 [==============================] - 1s 24ms/step - loss: 3.8774e-04 - accuracy: 1.0000 - val_loss: 0.0053 - val_accuracy: 0.9986\n",
      "Epoch 53/60\n",
      "28/28 [==============================] - 1s 24ms/step - loss: 3.7799e-04 - accuracy: 1.0000 - val_loss: 0.0052 - val_accuracy: 0.9986\n",
      "Epoch 54/60\n",
      "28/28 [==============================] - 1s 24ms/step - loss: 5.7900e-04 - accuracy: 1.0000 - val_loss: 0.0049 - val_accuracy: 0.9985\n",
      "Epoch 55/60\n",
      "28/28 [==============================] - 1s 23ms/step - loss: 4.1227e-04 - accuracy: 1.0000 - val_loss: 0.0051 - val_accuracy: 0.9986\n"
     ]
    },
    {
     "name": "stdout",
     "output_type": "stream",
     "text": [
      "Epoch 56/60\n",
      "28/28 [==============================] - 1s 23ms/step - loss: 3.1718e-04 - accuracy: 1.0000 - val_loss: 0.0052 - val_accuracy: 0.9984\n",
      "Epoch 57/60\n",
      "28/28 [==============================] - 1s 23ms/step - loss: 2.8888e-04 - accuracy: 1.0000 - val_loss: 0.0054 - val_accuracy: 0.9986\n",
      "Epoch 58/60\n",
      "28/28 [==============================] - 1s 24ms/step - loss: 2.5497e-04 - accuracy: 1.0000 - val_loss: 0.0056 - val_accuracy: 0.9985\n",
      "Epoch 59/60\n",
      "28/28 [==============================] - 1s 23ms/step - loss: 2.5579e-04 - accuracy: 1.0000 - val_loss: 0.0048 - val_accuracy: 0.9987\n",
      "Epoch 60/60\n",
      "28/28 [==============================] - 1s 24ms/step - loss: 2.5118e-04 - accuracy: 1.0000 - val_loss: 0.0051 - val_accuracy: 0.9986\n"
     ]
    }
   ],
   "source": [
    "model = create_model()\n",
    "history = model.fit(x_train, y_train,\n",
    "         validation_data=(x_test, y_test),\n",
    "         epochs=epoch,\n",
    "         batch_size=batch_size,\n",
    "         verbose=1           \n",
    "         )"
   ]
  },
  {
   "cell_type": "markdown",
   "metadata": {},
   "source": [
    "### 結果のラベル付け"
   ]
  },
  {
   "cell_type": "code",
   "execution_count": 70,
   "metadata": {},
   "outputs": [
    {
     "name": "stdout",
     "output_type": "stream",
     "text": [
      "1739/1739 [==============================] - 6s 4ms/step - loss: 2.4245e-04 - accuracy: 1.0000\n",
      "Training Accuracy: 1.0\n"
     ]
    }
   ],
   "source": [
    "y_train_pred = np.argmax(model.predict(x_train),axis=1)\n",
    "y_train_max = np.argmax(y_train, axis=1)\n",
    "failure = np.where(y_train_pred != y_train_max)[0]\n",
    "failure = list(failure)\n",
    "for i in failure:\n",
    "    label_train[i]['predict_label'] = y_train_pred[i]\n",
    "score = model.evaluate(x_train, y_train)[1]\n",
    "print('Training Accuracy:',score)\n",
    "trainscore = score"
   ]
  },
  {
   "cell_type": "markdown",
   "metadata": {},
   "source": [
    "- バリデーションデータで評価．    "
   ]
  },
  {
   "cell_type": "code",
   "execution_count": 71,
   "metadata": {},
   "outputs": [
    {
     "name": "stdout",
     "output_type": "stream",
     "text": [
      "857/857 [==============================] - 3s 3ms/step - loss: 0.0051 - accuracy: 0.9986\n",
      "Testing Accuracy: 0.9986128807067871\n"
     ]
    }
   ],
   "source": [
    "score = model.evaluate(x_test, y_test)[1]\n",
    "#print('Test Loss:', score[0])\n",
    "#print('Test accuracy:', score[1])\n",
    "print('Testing Accuracy:',score)\n",
    "valiscore = score"
   ]
  },
  {
   "cell_type": "code",
   "execution_count": 72,
   "metadata": {
    "scrolled": true
   },
   "outputs": [
    {
     "name": "stdout",
     "output_type": "stream",
     "text": [
      "Number of failure 38\n"
     ]
    }
   ],
   "source": [
    "y_test_pred = np.argmax(model.predict(x_test), axis=1)\n",
    "y_test_max = np.argmax(y_test, axis=1)\n",
    "failure = np.where(y_test_pred != y_test_max)[0]\n",
    "failure = list(failure)\n",
    "print('Number of failure ' + str(len(failure)))"
   ]
  },
  {
   "cell_type": "code",
   "execution_count": 73,
   "metadata": {
    "scrolled": true
   },
   "outputs": [
    {
     "name": "stdout",
     "output_type": "stream",
     "text": [
      "faulty case : Loc\n",
      "8\n",
      "predict label : none\n",
      "{'wafer_id': '009273', 'true_label': '4', 'predict_label': 8, 'augmentation': {'noise': 0, 'rotation': 0, 'inversion': 0}, 'trials': 2}\n"
     ]
    },
    {
     "data": {
      "image/png": "[encoded data removed]",
      "text/plain": [
       "<Figure size 432x288 with 1 Axes>"
      ]
     },
     "metadata": {
      "needs_background": "light"
     },
     "output_type": "display_data"
    },
    {
     "name": "stdout",
     "output_type": "stream",
     "text": [
      "{'wafer_id': '009273', 'true_label': '4', 'predict_label': 8, 'trials': 2}\n",
      "{'noise': 0, 'rotation': 0, 'inversion': 0}\n",
      "==================================================\n",
      "faulty case : Loc\n",
      "8\n",
      "predict label : none\n",
      "{'wafer_id': '008421', 'true_label': '4', 'predict_label': 8, 'augmentation': {'noise': 0, 'rotation': 0, 'inversion': 0}, 'trials': 2}\n"
     ]
    },
    {
     "data": {
      "image/png": "[encoded data removed]",
      "text/plain": [
       "<Figure size 432x288 with 1 Axes>"
      ]
     },
     "metadata": {
      "needs_background": "light"
     },
     "output_type": "display_data"
    },
    {
     "name": "stdout",
     "output_type": "stream",
     "text": [
      "{'wafer_id': '008421', 'true_label': '4', 'predict_label': 8, 'trials': 2}\n",
      "{'noise': 0, 'rotation': 0, 'inversion': 0}\n",
      "==================================================\n",
      "faulty case : none\n",
      "2\n",
      "predict label : Edge-Loc\n",
      "{'wafer_id': '009534', 'true_label': '8', 'predict_label': 2, 'augmentation': {'noise': 0, 'rotation': 0, 'inversion': 0}, 'trials': 2}\n"
     ]
    },
    {
     "data": {
      "image/png": "[encoded data removed]",
      "text/plain": [
       "<Figure size 432x288 with 1 Axes>"
      ]
     },
     "metadata": {
      "needs_background": "light"
     },
     "output_type": "display_data"
    },
    {
     "name": "stdout",
     "output_type": "stream",
     "text": [
      "{'wafer_id': '009534', 'true_label': '8', 'predict_label': 2, 'trials': 2}\n",
      "{'noise': 0, 'rotation': 0, 'inversion': 0}\n",
      "==================================================\n",
      "faulty case : none\n",
      "2\n",
      "predict label : Edge-Loc\n",
      "{'wafer_id': '006479', 'true_label': '8', 'predict_label': 2, 'augmentation': {'noise': 0, 'rotation': 0, 'inversion': 0}, 'trials': 2}\n"
     ]
    },
    {
     "data": {
      "image/png": "[encoded data removed]",
      "text/plain": [
       "<Figure size 432x288 with 1 Axes>"
      ]
     },
     "metadata": {
      "needs_background": "light"
     },
     "output_type": "display_data"
    },
    {
     "name": "stdout",
     "output_type": "stream",
     "text": [
      "{'wafer_id': '006479', 'true_label': '8', 'predict_label': 2, 'trials': 2}\n",
      "{'noise': 0, 'rotation': 0, 'inversion': 0}\n",
      "==================================================\n",
      "faulty case : Edge-Loc\n",
      "8\n",
      "predict label : none\n",
      "{'wafer_id': '008103', 'true_label': '2', 'predict_label': 8, 'augmentation': {'noise': 0, 'rotation': 0, 'inversion': 0}, 'trials': 2}\n"
     ]
    },
    {
     "data": {
      "image/png": "[encoded data removed]",
      "text/plain": [
       "<Figure size 432x288 with 1 Axes>"
      ]
     },
     "metadata": {
      "needs_background": "light"
     },
     "output_type": "display_data"
    },
    {
     "name": "stdout",
     "output_type": "stream",
     "text": [
      "{'wafer_id': '008103', 'true_label': '2', 'predict_label': 8, 'trials': 2}\n",
      "{'noise': 0, 'rotation': 0, 'inversion': 0}\n",
      "==================================================\n",
      "faulty case : none\n",
      "4\n",
      "predict label : Loc\n",
      "{'wafer_id': '002862', 'true_label': '8', 'predict_label': 4, 'augmentation': {'noise': 0, 'rotation': 0, 'inversion': 0}, 'trials': 2}\n"
     ]
    },
    {
     "data": {
      "image/png": "[encoded data removed]",
      "text/plain": [
       "<Figure size 432x288 with 1 Axes>"
      ]
     },
     "metadata": {
      "needs_background": "light"
     },
     "output_type": "display_data"
    },
    {
     "name": "stdout",
     "output_type": "stream",
     "text": [
      "{'wafer_id': '002862', 'true_label': '8', 'predict_label': 4, 'trials': 2}\n",
      "{'noise': 0, 'rotation': 0, 'inversion': 0}\n",
      "==================================================\n",
      "faulty case : none\n",
      "2\n",
      "predict label : Edge-Loc\n",
      "{'wafer_id': '003242', 'true_label': '8', 'predict_label': 2, 'augmentation': {'noise': 0, 'rotation': 0, 'inversion': 0}, 'trials': 2}\n"
     ]
    },
    {
     "data": {
      "image/png": "[encoded data removed]",
      "text/plain": [
       "<Figure size 432x288 with 1 Axes>"
      ]
     },
     "metadata": {
      "needs_background": "light"
     },
     "output_type": "display_data"
    },
    {
     "name": "stdout",
     "output_type": "stream",
     "text": [
      "{'wafer_id': '003242', 'true_label': '8', 'predict_label': 2, 'trials': 2}\n",
      "{'noise': 0, 'rotation': 0, 'inversion': 0}\n",
      "==================================================\n",
      "faulty case : Loc\n",
      "8\n",
      "predict label : none\n",
      "{'wafer_id': '008876', 'true_label': '4', 'predict_label': 8, 'augmentation': {'noise': 0, 'rotation': 0, 'inversion': 0}, 'trials': 2}\n"
     ]
    },
    {
     "data": {
      "image/png": "[encoded data removed]",
      "text/plain": [
       "<Figure size 432x288 with 1 Axes>"
      ]
     },
     "metadata": {
      "needs_background": "light"
     },
     "output_type": "display_data"
    },
    {
     "name": "stdout",
     "output_type": "stream",
     "text": [
      "{'wafer_id': '008876', 'true_label': '4', 'predict_label': 8, 'trials': 2}\n",
      "{'noise': 0, 'rotation': 0, 'inversion': 0}\n",
      "==================================================\n",
      "faulty case : Loc\n",
      "8\n",
      "predict label : none\n",
      "{'wafer_id': '007812', 'true_label': '4', 'predict_label': 8, 'augmentation': {'noise': 0, 'rotation': 0, 'inversion': 0}, 'trials': 2}\n"
     ]
    },
    {
     "data": {
      "image/png": "[encoded data removed]",
      "text/plain": [
       "<Figure size 432x288 with 1 Axes>"
      ]
     },
     "metadata": {
      "needs_background": "light"
     },
     "output_type": "display_data"
    },
    {
     "name": "stdout",
     "output_type": "stream",
     "text": [
      "{'wafer_id': '007812', 'true_label': '4', 'predict_label': 8, 'trials': 2}\n",
      "{'noise': 0, 'rotation': 0, 'inversion': 0}\n",
      "==================================================\n",
      "faulty case : Loc\n",
      "8\n",
      "predict label : none\n",
      "{'wafer_id': '007216', 'true_label': '4', 'predict_label': 8, 'augmentation': {'noise': 0, 'rotation': 0, 'inversion': 0}, 'trials': 2}\n"
     ]
    },
    {
     "data": {
      "image/png": "[encoded data removed]",
      "text/plain": [
       "<Figure size 432x288 with 1 Axes>"
      ]
     },
     "metadata": {
      "needs_background": "light"
     },
     "output_type": "display_data"
    },
    {
     "name": "stdout",
     "output_type": "stream",
     "text": [
      "{'wafer_id': '007216', 'true_label': '4', 'predict_label': 8, 'trials': 2}\n",
      "{'noise': 0, 'rotation': 0, 'inversion': 0}\n",
      "==================================================\n",
      "faulty case : none\n",
      "0\n",
      "predict label : Center\n",
      "{'wafer_id': '006491', 'true_label': '8', 'predict_label': 0, 'augmentation': {'noise': 0, 'rotation': 0, 'inversion': 0}, 'trials': 2}\n"
     ]
    },
    {
     "data": {
      "image/png": "[encoded data removed]",
      "text/plain": [
       "<Figure size 432x288 with 1 Axes>"
      ]
     },
     "metadata": {
      "needs_background": "light"
     },
     "output_type": "display_data"
    },
    {
     "name": "stdout",
     "output_type": "stream",
     "text": [
      "{'wafer_id': '006491', 'true_label': '8', 'predict_label': 0, 'trials': 2}\n",
      "{'noise': 0, 'rotation': 0, 'inversion': 0}\n",
      "==================================================\n",
      "faulty case : none\n",
      "4\n",
      "predict label : Loc\n",
      "{'wafer_id': '010599', 'true_label': '8', 'predict_label': 4, 'augmentation': {'noise': 0, 'rotation': 0, 'inversion': 0}, 'trials': 2}\n"
     ]
    },
    {
     "data": {
      "image/png": "[encoded data removed]",
      "text/plain": [
       "<Figure size 432x288 with 1 Axes>"
      ]
     },
     "metadata": {
      "needs_background": "light"
     },
     "output_type": "display_data"
    },
    {
     "name": "stdout",
     "output_type": "stream",
     "text": [
      "{'wafer_id': '010599', 'true_label': '8', 'predict_label': 4, 'trials': 2}\n",
      "{'noise': 0, 'rotation': 0, 'inversion': 0}\n",
      "==================================================\n",
      "faulty case : Loc\n",
      "8\n",
      "predict label : none\n",
      "{'wafer_id': '008854', 'true_label': '4', 'predict_label': 8, 'augmentation': {'noise': 0, 'rotation': 0, 'inversion': 0}, 'trials': 2}\n"
     ]
    },
    {
     "data": {
      "image/png": "[encoded data removed]",
      "text/plain": [
       "<Figure size 432x288 with 1 Axes>"
      ]
     },
     "metadata": {
      "needs_background": "light"
     },
     "output_type": "display_data"
    },
    {
     "name": "stdout",
     "output_type": "stream",
     "text": [
      "{'wafer_id': '008854', 'true_label': '4', 'predict_label': 8, 'trials': 2}\n",
      "{'noise': 0, 'rotation': 0, 'inversion': 0}\n",
      "==================================================\n",
      "faulty case : none\n",
      "2\n",
      "predict label : Edge-Loc\n",
      "{'wafer_id': '003995', 'true_label': '8', 'predict_label': 2, 'augmentation': {'noise': 0, 'rotation': 0, 'inversion': 0}, 'trials': 2}\n"
     ]
    },
    {
     "data": {
      "image/png": "[encoded data removed]",
      "text/plain": [
       "<Figure size 432x288 with 1 Axes>"
      ]
     },
     "metadata": {
      "needs_background": "light"
     },
     "output_type": "display_data"
    },
    {
     "name": "stdout",
     "output_type": "stream",
     "text": [
      "{'wafer_id': '003995', 'true_label': '8', 'predict_label': 2, 'trials': 2}\n",
      "{'noise': 0, 'rotation': 0, 'inversion': 0}\n",
      "==================================================\n",
      "faulty case : Edge-Loc\n",
      "8\n",
      "predict label : none\n",
      "{'wafer_id': '008961', 'true_label': '2', 'predict_label': 8, 'augmentation': {'noise': 0, 'rotation': 0, 'inversion': 0}, 'trials': 2}\n"
     ]
    },
    {
     "data": {
      "image/png": "[encoded data removed]",
      "text/plain": [
       "<Figure size 432x288 with 1 Axes>"
      ]
     },
     "metadata": {
      "needs_background": "light"
     },
     "output_type": "display_data"
    },
    {
     "name": "stdout",
     "output_type": "stream",
     "text": [
      "{'wafer_id': '008961', 'true_label': '2', 'predict_label': 8, 'trials': 2}\n",
      "{'noise': 0, 'rotation': 0, 'inversion': 0}\n",
      "==================================================\n",
      "faulty case : none\n",
      "2\n",
      "predict label : Edge-Loc\n",
      "{'wafer_id': '007089', 'true_label': '8', 'predict_label': 2, 'augmentation': {'noise': 0, 'rotation': 0, 'inversion': 0}, 'trials': 2}\n"
     ]
    },
    {
     "data": {
      "image/png": "[encoded data removed]",
      "text/plain": [
       "<Figure size 432x288 with 1 Axes>"
      ]
     },
     "metadata": {
      "needs_background": "light"
     },
     "output_type": "display_data"
    },
    {
     "name": "stdout",
     "output_type": "stream",
     "text": [
      "{'wafer_id': '007089', 'true_label': '8', 'predict_label': 2, 'trials': 2}\n",
      "{'noise': 0, 'rotation': 0, 'inversion': 0}\n",
      "==================================================\n",
      "faulty case : none\n",
      "4\n",
      "predict label : Loc\n",
      "{'wafer_id': '005494', 'true_label': '8', 'predict_label': 4, 'augmentation': {'noise': 0, 'rotation': 0, 'inversion': 0}, 'trials': 2}\n"
     ]
    },
    {
     "data": {
      "image/png": "[encoded data removed]",
      "text/plain": [
       "<Figure size 432x288 with 1 Axes>"
      ]
     },
     "metadata": {
      "needs_background": "light"
     },
     "output_type": "display_data"
    },
    {
     "name": "stdout",
     "output_type": "stream",
     "text": [
      "{'wafer_id': '005494', 'true_label': '8', 'predict_label': 4, 'trials': 2}\n",
      "{'noise': 0, 'rotation': 0, 'inversion': 0}\n",
      "==================================================\n",
      "faulty case : none\n",
      "2\n",
      "predict label : Edge-Loc\n",
      "{'wafer_id': '008211', 'true_label': '8', 'predict_label': 2, 'augmentation': {'noise': 0, 'rotation': 0, 'inversion': 0}, 'trials': 2}\n"
     ]
    },
    {
     "data": {
      "image/png": "[encoded data removed]",
      "text/plain": [
       "<Figure size 432x288 with 1 Axes>"
      ]
     },
     "metadata": {
      "needs_background": "light"
     },
     "output_type": "display_data"
    },
    {
     "name": "stdout",
     "output_type": "stream",
     "text": [
      "{'wafer_id': '008211', 'true_label': '8', 'predict_label': 2, 'trials': 2}\n",
      "{'noise': 0, 'rotation': 0, 'inversion': 0}\n",
      "==================================================\n",
      "faulty case : none\n",
      "4\n",
      "predict label : Loc\n",
      "{'wafer_id': '005282', 'true_label': '8', 'predict_label': 4, 'augmentation': {'noise': 0, 'rotation': 0, 'inversion': 0}, 'trials': 2}\n"
     ]
    },
    {
     "data": {
      "image/png": "[encoded data removed]",
      "text/plain": [
       "<Figure size 432x288 with 1 Axes>"
      ]
     },
     "metadata": {
      "needs_background": "light"
     },
     "output_type": "display_data"
    },
    {
     "name": "stdout",
     "output_type": "stream",
     "text": [
      "{'wafer_id': '005282', 'true_label': '8', 'predict_label': 4, 'trials': 2}\n",
      "{'noise': 0, 'rotation': 0, 'inversion': 0}\n",
      "==================================================\n",
      "faulty case : none\n",
      "4\n",
      "predict label : Loc\n",
      "{'wafer_id': '000770', 'true_label': '8', 'predict_label': 4, 'augmentation': {'noise': 0, 'rotation': 0, 'inversion': 0}, 'trials': 2}\n"
     ]
    },
    {
     "data": {
      "image/png": "[encoded data removed]",
      "text/plain": [
       "<Figure size 432x288 with 1 Axes>"
      ]
     },
     "metadata": {
      "needs_background": "light"
     },
     "output_type": "display_data"
    },
    {
     "name": "stdout",
     "output_type": "stream",
     "text": [
      "{'wafer_id': '000770', 'true_label': '8', 'predict_label': 4, 'trials': 2}\n",
      "{'noise': 0, 'rotation': 0, 'inversion': 0}\n",
      "==================================================\n",
      "faulty case : none\n",
      "2\n",
      "predict label : Edge-Loc\n",
      "{'wafer_id': '006946', 'true_label': '8', 'predict_label': 2, 'augmentation': {'noise': 0, 'rotation': 0, 'inversion': 0}, 'trials': 2}\n"
     ]
    },
    {
     "data": {
      "image/png": "[encoded data removed]",
      "text/plain": [
       "<Figure size 432x288 with 1 Axes>"
      ]
     },
     "metadata": {
      "needs_background": "light"
     },
     "output_type": "display_data"
    },
    {
     "name": "stdout",
     "output_type": "stream",
     "text": [
      "{'wafer_id': '006946', 'true_label': '8', 'predict_label': 2, 'trials': 2}\n",
      "{'noise': 0, 'rotation': 0, 'inversion': 0}\n",
      "==================================================\n",
      "faulty case : none\n",
      "4\n",
      "predict label : Loc\n",
      "{'wafer_id': '010690', 'true_label': '8', 'predict_label': 4, 'augmentation': {'noise': 0, 'rotation': 0, 'inversion': 0}, 'trials': 2}\n"
     ]
    },
    {
     "data": {
      "image/png": "[encoded data removed]",
      "text/plain": [
       "<Figure size 432x288 with 1 Axes>"
      ]
     },
     "metadata": {
      "needs_background": "light"
     },
     "output_type": "display_data"
    },
    {
     "name": "stdout",
     "output_type": "stream",
     "text": [
      "{'wafer_id': '010690', 'true_label': '8', 'predict_label': 4, 'trials': 2}\n",
      "{'noise': 0, 'rotation': 0, 'inversion': 0}\n",
      "==================================================\n",
      "faulty case : none\n",
      "4\n",
      "predict label : Loc\n",
      "{'wafer_id': '009440', 'true_label': '8', 'predict_label': 4, 'augmentation': {'noise': 0, 'rotation': 0, 'inversion': 0}, 'trials': 2}\n"
     ]
    },
    {
     "data": {
      "image/png": "[encoded data removed]",
      "text/plain": [
       "<Figure size 432x288 with 1 Axes>"
      ]
     },
     "metadata": {
      "needs_background": "light"
     },
     "output_type": "display_data"
    },
    {
     "name": "stdout",
     "output_type": "stream",
     "text": [
      "{'wafer_id': '009440', 'true_label': '8', 'predict_label': 4, 'trials': 2}\n",
      "{'noise': 0, 'rotation': 0, 'inversion': 0}\n",
      "==================================================\n",
      "faulty case : Loc\n",
      "8\n",
      "predict label : none\n",
      "{'wafer_id': '010291', 'true_label': '4', 'predict_label': 8, 'augmentation': {'noise': 0, 'rotation': 0, 'inversion': 0}, 'trials': 2}\n"
     ]
    },
    {
     "data": {
      "image/png": "[encoded data removed]",
      "text/plain": [
       "<Figure size 432x288 with 1 Axes>"
      ]
     },
     "metadata": {
      "needs_background": "light"
     },
     "output_type": "display_data"
    },
    {
     "name": "stdout",
     "output_type": "stream",
     "text": [
      "{'wafer_id': '010291', 'true_label': '4', 'predict_label': 8, 'trials': 2}\n",
      "{'noise': 0, 'rotation': 0, 'inversion': 0}\n",
      "==================================================\n",
      "faulty case : none\n",
      "4\n",
      "predict label : Loc\n",
      "{'wafer_id': '006485', 'true_label': '8', 'predict_label': 4, 'augmentation': {'noise': 0, 'rotation': 0, 'inversion': 0}, 'trials': 2}\n"
     ]
    },
    {
     "data": {
      "image/png": "[encoded data removed]",
      "text/plain": [
       "<Figure size 432x288 with 1 Axes>"
      ]
     },
     "metadata": {
      "needs_background": "light"
     },
     "output_type": "display_data"
    },
    {
     "name": "stdout",
     "output_type": "stream",
     "text": [
      "{'wafer_id': '006485', 'true_label': '8', 'predict_label': 4, 'trials': 2}\n",
      "{'noise': 0, 'rotation': 0, 'inversion': 0}\n",
      "==================================================\n",
      "faulty case : none\n",
      "2\n",
      "predict label : Edge-Loc\n",
      "{'wafer_id': '001977', 'true_label': '8', 'predict_label': 2, 'augmentation': {'noise': 0, 'rotation': 0, 'inversion': 0}, 'trials': 2}\n"
     ]
    },
    {
     "data": {
      "image/png": "[encoded data removed]",
      "text/plain": [
       "<Figure size 432x288 with 1 Axes>"
      ]
     },
     "metadata": {
      "needs_background": "light"
     },
     "output_type": "display_data"
    },
    {
     "name": "stdout",
     "output_type": "stream",
     "text": [
      "{'wafer_id': '001977', 'true_label': '8', 'predict_label': 2, 'trials': 2}\n",
      "{'noise': 0, 'rotation': 0, 'inversion': 0}\n",
      "==================================================\n",
      "faulty case : Edge-Loc\n",
      "8\n",
      "predict label : none\n",
      "{'wafer_id': '008390', 'true_label': '2', 'predict_label': 8, 'augmentation': {'noise': 0, 'rotation': 0, 'inversion': 0}, 'trials': 2}\n"
     ]
    },
    {
     "data": {
      "image/png": "[encoded data removed]",
      "text/plain": [
       "<Figure size 432x288 with 1 Axes>"
      ]
     },
     "metadata": {
      "needs_background": "light"
     },
     "output_type": "display_data"
    },
    {
     "name": "stdout",
     "output_type": "stream",
     "text": [
      "{'wafer_id': '008390', 'true_label': '2', 'predict_label': 8, 'trials': 2}\n",
      "{'noise': 0, 'rotation': 0, 'inversion': 0}\n",
      "==================================================\n",
      "faulty case : none\n",
      "2\n",
      "predict label : Edge-Loc\n",
      "{'wafer_id': '010726', 'true_label': '8', 'predict_label': 2, 'augmentation': {'noise': 0, 'rotation': 0, 'inversion': 0}, 'trials': 2}\n"
     ]
    },
    {
     "data": {
      "image/png": "[encoded data removed]",
      "text/plain": [
       "<Figure size 432x288 with 1 Axes>"
      ]
     },
     "metadata": {
      "needs_background": "light"
     },
     "output_type": "display_data"
    },
    {
     "name": "stdout",
     "output_type": "stream",
     "text": [
      "{'wafer_id': '010726', 'true_label': '8', 'predict_label': 2, 'trials': 2}\n",
      "{'noise': 0, 'rotation': 0, 'inversion': 0}\n",
      "==================================================\n",
      "faulty case : none\n",
      "2\n",
      "predict label : Edge-Loc\n",
      "{'wafer_id': '007337', 'true_label': '8', 'predict_label': 2, 'augmentation': {'noise': 0, 'rotation': 0, 'inversion': 0}, 'trials': 2}\n"
     ]
    },
    {
     "data": {
      "image/png": "[encoded data removed]",
      "text/plain": [
       "<Figure size 432x288 with 1 Axes>"
      ]
     },
     "metadata": {
      "needs_background": "light"
     },
     "output_type": "display_data"
    },
    {
     "name": "stdout",
     "output_type": "stream",
     "text": [
      "{'wafer_id': '007337', 'true_label': '8', 'predict_label': 2, 'trials': 2}\n",
      "{'noise': 0, 'rotation': 0, 'inversion': 0}\n",
      "==================================================\n",
      "faulty case : none\n",
      "2\n",
      "predict label : Edge-Loc\n",
      "{'wafer_id': '007053', 'true_label': '8', 'predict_label': 2, 'augmentation': {'noise': 0, 'rotation': 0, 'inversion': 0}, 'trials': 2}\n"
     ]
    },
    {
     "data": {
      "image/png": "[encoded data removed]",
      "text/plain": [
       "<Figure size 432x288 with 1 Axes>"
      ]
     },
     "metadata": {
      "needs_background": "light"
     },
     "output_type": "display_data"
    },
    {
     "name": "stdout",
     "output_type": "stream",
     "text": [
      "{'wafer_id': '007053', 'true_label': '8', 'predict_label': 2, 'trials': 2}\n",
      "{'noise': 0, 'rotation': 0, 'inversion': 0}\n",
      "==================================================\n",
      "faulty case : Loc\n",
      "8\n",
      "predict label : none\n",
      "{'wafer_id': '007322', 'true_label': '4', 'predict_label': 8, 'augmentation': {'noise': 0, 'rotation': 0, 'inversion': 0}, 'trials': 2}\n"
     ]
    },
    {
     "data": {
      "image/png": "[encoded data removed]",
      "text/plain": [
       "<Figure size 432x288 with 1 Axes>"
      ]
     },
     "metadata": {
      "needs_background": "light"
     },
     "output_type": "display_data"
    },
    {
     "name": "stdout",
     "output_type": "stream",
     "text": [
      "{'wafer_id': '007322', 'true_label': '4', 'predict_label': 8, 'trials': 2}\n",
      "{'noise': 0, 'rotation': 0, 'inversion': 0}\n",
      "==================================================\n",
      "faulty case : none\n",
      "4\n",
      "predict label : Loc\n",
      "{'wafer_id': '002174', 'true_label': '8', 'predict_label': 4, 'augmentation': {'noise': 0, 'rotation': 0, 'inversion': 0}, 'trials': 2}\n"
     ]
    },
    {
     "data": {
      "image/png": "[encoded data removed]",
      "text/plain": [
       "<Figure size 432x288 with 1 Axes>"
      ]
     },
     "metadata": {
      "needs_background": "light"
     },
     "output_type": "display_data"
    },
    {
     "name": "stdout",
     "output_type": "stream",
     "text": [
      "{'wafer_id': '002174', 'true_label': '8', 'predict_label': 4, 'trials': 2}\n",
      "{'noise': 0, 'rotation': 0, 'inversion': 0}\n",
      "==================================================\n",
      "faulty case : none\n",
      "4\n",
      "predict label : Loc\n",
      "{'wafer_id': '004465', 'true_label': '8', 'predict_label': 4, 'augmentation': {'noise': 0, 'rotation': 0, 'inversion': 0}, 'trials': 2}\n"
     ]
    },
    {
     "data": {
      "image/png": "[encoded data removed]",
      "text/plain": [
       "<Figure size 432x288 with 1 Axes>"
      ]
     },
     "metadata": {
      "needs_background": "light"
     },
     "output_type": "display_data"
    },
    {
     "name": "stdout",
     "output_type": "stream",
     "text": [
      "{'wafer_id': '004465', 'true_label': '8', 'predict_label': 4, 'trials': 2}\n",
      "{'noise': 0, 'rotation': 0, 'inversion': 0}\n",
      "==================================================\n",
      "faulty case : none\n",
      "7\n",
      "predict label : Scratch\n",
      "{'wafer_id': '008511', 'true_label': '8', 'predict_label': 7, 'augmentation': {'noise': 0, 'rotation': 0, 'inversion': 0}, 'trials': 2}\n"
     ]
    },
    {
     "data": {
      "image/png": "[encoded data removed]",
      "text/plain": [
       "<Figure size 432x288 with 1 Axes>"
      ]
     },
     "metadata": {
      "needs_background": "light"
     },
     "output_type": "display_data"
    },
    {
     "name": "stdout",
     "output_type": "stream",
     "text": [
      "{'wafer_id': '008511', 'true_label': '8', 'predict_label': 7, 'trials': 2}\n",
      "{'noise': 0, 'rotation': 0, 'inversion': 0}\n",
      "==================================================\n",
      "faulty case : none\n",
      "2\n",
      "predict label : Edge-Loc\n",
      "{'wafer_id': '008829', 'true_label': '8', 'predict_label': 2, 'augmentation': {'noise': 0, 'rotation': 0, 'inversion': 0}, 'trials': 2}\n"
     ]
    },
    {
     "data": {
      "image/png": "[encoded data removed]",
      "text/plain": [
       "<Figure size 432x288 with 1 Axes>"
      ]
     },
     "metadata": {
      "needs_background": "light"
     },
     "output_type": "display_data"
    },
    {
     "name": "stdout",
     "output_type": "stream",
     "text": [
      "{'wafer_id': '008829', 'true_label': '8', 'predict_label': 2, 'trials': 2}\n",
      "{'noise': 0, 'rotation': 0, 'inversion': 0}\n",
      "==================================================\n",
      "faulty case : Edge-Loc\n",
      "8\n",
      "predict label : none\n",
      "{'wafer_id': '008926', 'true_label': '2', 'predict_label': 8, 'augmentation': {'noise': 0, 'rotation': 0, 'inversion': 0}, 'trials': 2}\n"
     ]
    },
    {
     "data": {
      "image/png": "[encoded data removed]",
      "text/plain": [
       "<Figure size 432x288 with 1 Axes>"
      ]
     },
     "metadata": {
      "needs_background": "light"
     },
     "output_type": "display_data"
    },
    {
     "name": "stdout",
     "output_type": "stream",
     "text": [
      "{'wafer_id': '008926', 'true_label': '2', 'predict_label': 8, 'trials': 2}\n",
      "{'noise': 0, 'rotation': 0, 'inversion': 0}\n",
      "==================================================\n",
      "faulty case : Scratch\n",
      "8\n",
      "predict label : none\n",
      "{'wafer_id': '009228', 'true_label': '7', 'predict_label': 8, 'augmentation': {'noise': 0, 'rotation': 0, 'inversion': 0}, 'trials': 2}\n"
     ]
    },
    {
     "data": {
      "image/png": "[encoded data removed]",
      "text/plain": [
       "<Figure size 432x288 with 1 Axes>"
      ]
     },
     "metadata": {
      "needs_background": "light"
     },
     "output_type": "display_data"
    },
    {
     "name": "stdout",
     "output_type": "stream",
     "text": [
      "{'wafer_id': '009228', 'true_label': '7', 'predict_label': 8, 'trials': 2}\n",
      "{'noise': 0, 'rotation': 0, 'inversion': 0}\n",
      "==================================================\n",
      "faulty case : none\n",
      "7\n",
      "predict label : Scratch\n",
      "{'wafer_id': '011148', 'true_label': '8', 'predict_label': 7, 'augmentation': {'noise': 0, 'rotation': 0, 'inversion': 0}, 'trials': 2}\n"
     ]
    },
    {
     "data": {
      "image/png": "[encoded data removed]",
      "text/plain": [
       "<Figure size 432x288 with 1 Axes>"
      ]
     },
     "metadata": {
      "needs_background": "light"
     },
     "output_type": "display_data"
    },
    {
     "name": "stdout",
     "output_type": "stream",
     "text": [
      "{'wafer_id': '011148', 'true_label': '8', 'predict_label': 7, 'trials': 2}\n",
      "{'noise': 0, 'rotation': 0, 'inversion': 0}\n",
      "==================================================\n"
     ]
    }
   ],
   "source": [
    "is_exist = os.path.exists(('./img/' + ver + '_' + version + '/imglist.csv'))\n",
    "\n",
    "with open('./img/' + ver + '_' + version + '/imglist.csv', 'a', newline='') as f:\n",
    "    fieldnames = ['wafer_id', 'true_label', 'predict_label', 'noise', 'rotation', 'inversion', 'trials', 'type']\n",
    "    writer = csv.DictWriter(f, fieldnames=fieldnames)\n",
    "    if not is_exist:\n",
    "        writer.writeheader()\n",
    "\n",
    "    for i in failure:\n",
    "        fig = plt.figure()\n",
    "        plt.imshow(np.argmax(x_test[i], axis=2))\n",
    "        print('faulty case : {}'.format(faulty_case_dict[np.argmax(y_test[i])]))\n",
    "        print(y_test_pred[i])\n",
    "        print('predict label : {}'.format(faulty_case_dict[y_test_pred[i]]))\n",
    "        label_vali[i]['predict_label'] = y_test_pred[i]\n",
    "        print(label_vali[i])\n",
    "        plt.show()\n",
    "\n",
    "        img_name = '_'.join(map(str, [label_vali[i][\"wafer_id\"], label_vali[i][\"true_label\"], label_vali[i][\"predict_label\"], label_vali[i][\"augmentation\"][\"noise\"], label_vali[i][\"augmentation\"][\"rotation\"], label_vali[i][\"augmentation\"][\"inversion\"], label_vali[i][\"trials\"], \"validation\"]))\n",
    "        fig.savefig('./img/' + ver + '_' + version + '/' + img_name)\n",
    "        \n",
    "        pop_label_vali = label_vali[i].pop('augmentation')\n",
    "        print(label_vali[i])\n",
    "        print(pop_label_vali)\n",
    "        label_vali[i].update(pop_label_vali)\n",
    "        label_vali[i].update({\"type\": \"validation\"})\n",
    "        writer.writerow(label_vali[i])\n",
    "        print(\"=\"*50)"
   ]
  },
  {
   "cell_type": "markdown",
   "metadata": {},
   "source": [
    "- acuurayは99.70%であった．"
   ]
  },
  {
   "cell_type": "markdown",
   "metadata": {},
   "source": [
    "- 705枚のテストデータで評価"
   ]
  },
  {
   "cell_type": "code",
   "execution_count": 74,
   "metadata": {},
   "outputs": [
    {
     "name": "stdout",
     "output_type": "stream",
     "text": [
      "23/23 [==============================] - 0s 3ms/step - loss: 0.2488 - accuracy: 0.9660\n",
      "Testing Accuracy: 0.9659574627876282\n"
     ]
    }
   ],
   "source": [
    "label_test = label_temp\n",
    "test_x = tempx\n",
    "for i, l in enumerate(faulty_case):\n",
    "    tempy[tempy==l] = i\n",
    "for i in range(len(label_test)):\n",
    "    label_test[i]['true_label'] = tempy[i][0]\n",
    "test_y = to_categorical(tempy)\n",
    "score = model.evaluate(test_x, test_y)[1]\n",
    "#print('Test Loss:', score[0])\n",
    "#print('Test accuracy:', score[1])\n",
    "print('Testing Accuracy:',score)\n",
    "testscore = score"
   ]
  },
  {
   "cell_type": "code",
   "execution_count": 75,
   "metadata": {
    "scrolled": true
   },
   "outputs": [
    {
     "name": "stdout",
     "output_type": "stream",
     "text": [
      "Number of failure 24\n"
     ]
    }
   ],
   "source": [
    "test_y_pred = np.argmax(model.predict(test_x), axis=1)\n",
    "test_y_max = np.argmax(test_y, axis=1)\n",
    "failure = np.where(test_y_pred != test_y_max)[0]\n",
    "failure = list(failure)\n",
    "print('Number of failure ' + str(len(failure)))"
   ]
  },
  {
   "cell_type": "code",
   "execution_count": 76,
   "metadata": {
    "scrolled": true
   },
   "outputs": [
    {
     "name": "stdout",
     "output_type": "stream",
     "text": [
      "faulty case : none\n",
      "predict label : Edge-Loc\n",
      "{'wafer_id': '007174', 'true_label': '8', 'predict_label': 2, 'augmentation': {'noise': 0, 'rotation': 0, 'inversion': 0}, 'trials': 2}\n"
     ]
    },
    {
     "data": {
      "image/png": "[encoded data removed]",
      "text/plain": [
       "<Figure size 432x288 with 1 Axes>"
      ]
     },
     "metadata": {
      "needs_background": "light"
     },
     "output_type": "display_data"
    },
    {
     "name": "stdout",
     "output_type": "stream",
     "text": [
      "{'wafer_id': '007174', 'true_label': '8', 'predict_label': 2, 'trials': 2}\n",
      "{'noise': 0, 'rotation': 0, 'inversion': 0}\n",
      "==================================================\n",
      "faulty case : none\n",
      "predict label : Edge-Loc\n",
      "{'wafer_id': '000352', 'true_label': '8', 'predict_label': 2, 'augmentation': {'noise': 0, 'rotation': 0, 'inversion': 0}, 'trials': 2}\n"
     ]
    },
    {
     "data": {
      "image/png": "[encoded data removed]",
      "text/plain": [
       "<Figure size 432x288 with 1 Axes>"
      ]
     },
     "metadata": {
      "needs_background": "light"
     },
     "output_type": "display_data"
    },
    {
     "name": "stdout",
     "output_type": "stream",
     "text": [
      "{'wafer_id': '000352', 'true_label': '8', 'predict_label': 2, 'trials': 2}\n",
      "{'noise': 0, 'rotation': 0, 'inversion': 0}\n",
      "==================================================\n",
      "faulty case : Loc\n",
      "predict label : none\n",
      "{'wafer_id': '007868', 'true_label': '4', 'predict_label': 8, 'augmentation': {'noise': 0, 'rotation': 0, 'inversion': 0}, 'trials': 2}\n"
     ]
    },
    {
     "data": {
      "image/png": "[encoded data removed]",
      "text/plain": [
       "<Figure size 432x288 with 1 Axes>"
      ]
     },
     "metadata": {
      "needs_background": "light"
     },
     "output_type": "display_data"
    },
    {
     "name": "stdout",
     "output_type": "stream",
     "text": [
      "{'wafer_id': '007868', 'true_label': '4', 'predict_label': 8, 'trials': 2}\n",
      "{'noise': 0, 'rotation': 0, 'inversion': 0}\n",
      "==================================================\n",
      "faulty case : Loc\n",
      "predict label : none\n",
      "{'wafer_id': '008841', 'true_label': '4', 'predict_label': 8, 'augmentation': {'noise': 0, 'rotation': 0, 'inversion': 0}, 'trials': 2}\n"
     ]
    },
    {
     "data": {
      "image/png": "[encoded data removed]",
      "text/plain": [
       "<Figure size 432x288 with 1 Axes>"
      ]
     },
     "metadata": {
      "needs_background": "light"
     },
     "output_type": "display_data"
    },
    {
     "name": "stdout",
     "output_type": "stream",
     "text": [
      "{'wafer_id': '008841', 'true_label': '4', 'predict_label': 8, 'trials': 2}\n",
      "{'noise': 0, 'rotation': 0, 'inversion': 0}\n",
      "==================================================\n",
      "faulty case : Edge-Loc\n",
      "predict label : none\n",
      "{'wafer_id': '006981', 'true_label': '2', 'predict_label': 8, 'augmentation': {'noise': 0, 'rotation': 0, 'inversion': 0}, 'trials': 2}\n"
     ]
    },
    {
     "data": {
      "image/png": "[encoded data removed]",
      "text/plain": [
       "<Figure size 432x288 with 1 Axes>"
      ]
     },
     "metadata": {
      "needs_background": "light"
     },
     "output_type": "display_data"
    },
    {
     "name": "stdout",
     "output_type": "stream",
     "text": [
      "{'wafer_id': '006981', 'true_label': '2', 'predict_label': 8, 'trials': 2}\n",
      "{'noise': 0, 'rotation': 0, 'inversion': 0}\n",
      "==================================================\n",
      "faulty case : Random\n",
      "predict label : Edge-Loc\n",
      "{'wafer_id': '008822', 'true_label': '6', 'predict_label': 2, 'augmentation': {'noise': 0, 'rotation': 0, 'inversion': 0}, 'trials': 2}\n"
     ]
    },
    {
     "data": {
      "image/png": "[encoded data removed]",
      "text/plain": [
       "<Figure size 432x288 with 1 Axes>"
      ]
     },
     "metadata": {
      "needs_background": "light"
     },
     "output_type": "display_data"
    },
    {
     "name": "stdout",
     "output_type": "stream",
     "text": [
      "{'wafer_id': '008822', 'true_label': '6', 'predict_label': 2, 'trials': 2}\n",
      "{'noise': 0, 'rotation': 0, 'inversion': 0}\n",
      "==================================================\n",
      "faulty case : Edge-Loc\n",
      "predict label : Edge-Ring\n",
      "{'wafer_id': '002615', 'true_label': '2', 'predict_label': 3, 'augmentation': {'noise': 0, 'rotation': 0, 'inversion': 0}, 'trials': 2}\n"
     ]
    },
    {
     "data": {
      "image/png": "[encoded data removed]",
      "text/plain": [
       "<Figure size 432x288 with 1 Axes>"
      ]
     },
     "metadata": {
      "needs_background": "light"
     },
     "output_type": "display_data"
    },
    {
     "name": "stdout",
     "output_type": "stream",
     "text": [
      "{'wafer_id': '002615', 'true_label': '2', 'predict_label': 3, 'trials': 2}\n",
      "{'noise': 0, 'rotation': 0, 'inversion': 0}\n",
      "==================================================\n",
      "faulty case : Edge-Loc\n",
      "predict label : Loc\n",
      "{'wafer_id': '011111', 'true_label': '2', 'predict_label': 4, 'augmentation': {'noise': 0, 'rotation': 0, 'inversion': 0}, 'trials': 2}\n"
     ]
    },
    {
     "data": {
      "image/png": "[encoded data removed]",
      "text/plain": [
       "<Figure size 432x288 with 1 Axes>"
      ]
     },
     "metadata": {
      "needs_background": "light"
     },
     "output_type": "display_data"
    },
    {
     "name": "stdout",
     "output_type": "stream",
     "text": [
      "{'wafer_id': '011111', 'true_label': '2', 'predict_label': 4, 'trials': 2}\n",
      "{'noise': 0, 'rotation': 0, 'inversion': 0}\n",
      "==================================================\n",
      "faulty case : Loc\n",
      "predict label : Center\n",
      "{'wafer_id': '011045', 'true_label': '4', 'predict_label': 0, 'augmentation': {'noise': 0, 'rotation': 0, 'inversion': 0}, 'trials': 2}\n"
     ]
    },
    {
     "data": {
      "image/png": "[encoded data removed]",
      "text/plain": [
       "<Figure size 432x288 with 1 Axes>"
      ]
     },
     "metadata": {
      "needs_background": "light"
     },
     "output_type": "display_data"
    },
    {
     "name": "stdout",
     "output_type": "stream",
     "text": [
      "{'wafer_id': '011045', 'true_label': '4', 'predict_label': 0, 'trials': 2}\n",
      "{'noise': 0, 'rotation': 0, 'inversion': 0}\n",
      "==================================================\n",
      "faulty case : Loc\n",
      "predict label : none\n",
      "{'wafer_id': '008188', 'true_label': '4', 'predict_label': 8, 'augmentation': {'noise': 0, 'rotation': 0, 'inversion': 0}, 'trials': 2}\n"
     ]
    },
    {
     "data": {
      "image/png": "[encoded data removed]",
      "text/plain": [
       "<Figure size 432x288 with 1 Axes>"
      ]
     },
     "metadata": {
      "needs_background": "light"
     },
     "output_type": "display_data"
    },
    {
     "name": "stdout",
     "output_type": "stream",
     "text": [
      "{'wafer_id': '008188', 'true_label': '4', 'predict_label': 8, 'trials': 2}\n",
      "{'noise': 0, 'rotation': 0, 'inversion': 0}\n",
      "==================================================\n",
      "faulty case : Edge-Loc\n",
      "predict label : none\n",
      "{'wafer_id': '008972', 'true_label': '2', 'predict_label': 8, 'augmentation': {'noise': 0, 'rotation': 0, 'inversion': 0}, 'trials': 2}\n"
     ]
    },
    {
     "data": {
      "image/png": "[encoded data removed]",
      "text/plain": [
       "<Figure size 432x288 with 1 Axes>"
      ]
     },
     "metadata": {
      "needs_background": "light"
     },
     "output_type": "display_data"
    },
    {
     "name": "stdout",
     "output_type": "stream",
     "text": [
      "{'wafer_id': '008972', 'true_label': '2', 'predict_label': 8, 'trials': 2}\n",
      "{'noise': 0, 'rotation': 0, 'inversion': 0}\n",
      "==================================================\n",
      "faulty case : Center\n",
      "predict label : none\n",
      "{'wafer_id': '008288', 'true_label': '0', 'predict_label': 8, 'augmentation': {'noise': 0, 'rotation': 0, 'inversion': 0}, 'trials': 2}\n"
     ]
    },
    {
     "data": {
      "image/png": "[encoded data removed]",
      "text/plain": [
       "<Figure size 432x288 with 1 Axes>"
      ]
     },
     "metadata": {
      "needs_background": "light"
     },
     "output_type": "display_data"
    },
    {
     "name": "stdout",
     "output_type": "stream",
     "text": [
      "{'wafer_id': '008288', 'true_label': '0', 'predict_label': 8, 'trials': 2}\n",
      "{'noise': 0, 'rotation': 0, 'inversion': 0}\n",
      "==================================================\n",
      "faulty case : Loc\n",
      "predict label : none\n",
      "{'wafer_id': '007500', 'true_label': '4', 'predict_label': 8, 'augmentation': {'noise': 0, 'rotation': 0, 'inversion': 0}, 'trials': 2}\n"
     ]
    },
    {
     "data": {
      "image/png": "[encoded data removed]",
      "text/plain": [
       "<Figure size 432x288 with 1 Axes>"
      ]
     },
     "metadata": {
      "needs_background": "light"
     },
     "output_type": "display_data"
    },
    {
     "name": "stdout",
     "output_type": "stream",
     "text": [
      "{'wafer_id': '007500', 'true_label': '4', 'predict_label': 8, 'trials': 2}\n",
      "{'noise': 0, 'rotation': 0, 'inversion': 0}\n",
      "==================================================\n",
      "faulty case : Loc\n",
      "predict label : Center\n",
      "{'wafer_id': '008427', 'true_label': '4', 'predict_label': 0, 'augmentation': {'noise': 0, 'rotation': 0, 'inversion': 0}, 'trials': 2}\n"
     ]
    },
    {
     "data": {
      "image/png": "[encoded data removed]",
      "text/plain": [
       "<Figure size 432x288 with 1 Axes>"
      ]
     },
     "metadata": {
      "needs_background": "light"
     },
     "output_type": "display_data"
    },
    {
     "name": "stdout",
     "output_type": "stream",
     "text": [
      "{'wafer_id': '008427', 'true_label': '4', 'predict_label': 0, 'trials': 2}\n",
      "{'noise': 0, 'rotation': 0, 'inversion': 0}\n",
      "==================================================\n",
      "faulty case : Center\n",
      "predict label : none\n",
      "{'wafer_id': '008937', 'true_label': '0', 'predict_label': 8, 'augmentation': {'noise': 0, 'rotation': 0, 'inversion': 0}, 'trials': 2}\n"
     ]
    },
    {
     "data": {
      "image/png": "[encoded data removed]",
      "text/plain": [
       "<Figure size 432x288 with 1 Axes>"
      ]
     },
     "metadata": {
      "needs_background": "light"
     },
     "output_type": "display_data"
    },
    {
     "name": "stdout",
     "output_type": "stream",
     "text": [
      "{'wafer_id': '008937', 'true_label': '0', 'predict_label': 8, 'trials': 2}\n",
      "{'noise': 0, 'rotation': 0, 'inversion': 0}\n",
      "==================================================\n",
      "faulty case : Loc\n",
      "predict label : Random\n",
      "{'wafer_id': '008383', 'true_label': '4', 'predict_label': 6, 'augmentation': {'noise': 0, 'rotation': 0, 'inversion': 0}, 'trials': 2}\n"
     ]
    },
    {
     "data": {
      "image/png": "[encoded data removed]",
      "text/plain": [
       "<Figure size 432x288 with 1 Axes>"
      ]
     },
     "metadata": {
      "needs_background": "light"
     },
     "output_type": "display_data"
    },
    {
     "name": "stdout",
     "output_type": "stream",
     "text": [
      "{'wafer_id': '008383', 'true_label': '4', 'predict_label': 6, 'trials': 2}\n",
      "{'noise': 0, 'rotation': 0, 'inversion': 0}\n",
      "==================================================\n",
      "faulty case : Edge-Loc\n",
      "predict label : none\n",
      "{'wafer_id': '008110', 'true_label': '2', 'predict_label': 8, 'augmentation': {'noise': 0, 'rotation': 0, 'inversion': 0}, 'trials': 2}\n"
     ]
    },
    {
     "data": {
      "image/png": "[encoded data removed]",
      "text/plain": [
       "<Figure size 432x288 with 1 Axes>"
      ]
     },
     "metadata": {
      "needs_background": "light"
     },
     "output_type": "display_data"
    },
    {
     "name": "stdout",
     "output_type": "stream",
     "text": [
      "{'wafer_id': '008110', 'true_label': '2', 'predict_label': 8, 'trials': 2}\n",
      "{'noise': 0, 'rotation': 0, 'inversion': 0}\n",
      "==================================================\n",
      "faulty case : Edge-Ring\n",
      "predict label : Edge-Loc\n",
      "{'wafer_id': '004383', 'true_label': '3', 'predict_label': 2, 'augmentation': {'noise': 0, 'rotation': 0, 'inversion': 0}, 'trials': 2}\n"
     ]
    },
    {
     "data": {
      "image/png": "[encoded data removed]",
      "text/plain": [
       "<Figure size 432x288 with 1 Axes>"
      ]
     },
     "metadata": {
      "needs_background": "light"
     },
     "output_type": "display_data"
    },
    {
     "name": "stdout",
     "output_type": "stream",
     "text": [
      "{'wafer_id': '004383', 'true_label': '3', 'predict_label': 2, 'trials': 2}\n",
      "{'noise': 0, 'rotation': 0, 'inversion': 0}\n",
      "==================================================\n",
      "faulty case : Center\n",
      "predict label : none\n",
      "{'wafer_id': '010821', 'true_label': '0', 'predict_label': 8, 'augmentation': {'noise': 0, 'rotation': 0, 'inversion': 0}, 'trials': 2}\n"
     ]
    },
    {
     "data": {
      "image/png": "[encoded data removed]",
      "text/plain": [
       "<Figure size 432x288 with 1 Axes>"
      ]
     },
     "metadata": {
      "needs_background": "light"
     },
     "output_type": "display_data"
    },
    {
     "name": "stdout",
     "output_type": "stream",
     "text": [
      "{'wafer_id': '010821', 'true_label': '0', 'predict_label': 8, 'trials': 2}\n",
      "{'noise': 0, 'rotation': 0, 'inversion': 0}\n",
      "==================================================\n",
      "faulty case : Edge-Loc\n",
      "predict label : none\n",
      "{'wafer_id': '008885', 'true_label': '2', 'predict_label': 8, 'augmentation': {'noise': 0, 'rotation': 0, 'inversion': 0}, 'trials': 2}\n"
     ]
    },
    {
     "data": {
      "image/png": "[encoded data removed]",
      "text/plain": [
       "<Figure size 432x288 with 1 Axes>"
      ]
     },
     "metadata": {
      "needs_background": "light"
     },
     "output_type": "display_data"
    },
    {
     "name": "stdout",
     "output_type": "stream",
     "text": [
      "{'wafer_id': '008885', 'true_label': '2', 'predict_label': 8, 'trials': 2}\n",
      "{'noise': 0, 'rotation': 0, 'inversion': 0}\n",
      "==================================================\n",
      "faulty case : Scratch\n",
      "predict label : Loc\n",
      "{'wafer_id': '004476', 'true_label': '7', 'predict_label': 4, 'augmentation': {'noise': 0, 'rotation': 0, 'inversion': 0}, 'trials': 2}\n"
     ]
    },
    {
     "data": {
      "image/png": "[encoded data removed]",
      "text/plain": [
       "<Figure size 432x288 with 1 Axes>"
      ]
     },
     "metadata": {
      "needs_background": "light"
     },
     "output_type": "display_data"
    },
    {
     "name": "stdout",
     "output_type": "stream",
     "text": [
      "{'wafer_id': '004476', 'true_label': '7', 'predict_label': 4, 'trials': 2}\n",
      "{'noise': 0, 'rotation': 0, 'inversion': 0}\n",
      "==================================================\n",
      "faulty case : Random\n",
      "predict label : Edge-Loc\n",
      "{'wafer_id': '000395', 'true_label': '6', 'predict_label': 2, 'augmentation': {'noise': 0, 'rotation': 0, 'inversion': 0}, 'trials': 2}\n"
     ]
    },
    {
     "data": {
      "image/png": "[encoded data removed]",
      "text/plain": [
       "<Figure size 432x288 with 1 Axes>"
      ]
     },
     "metadata": {
      "needs_background": "light"
     },
     "output_type": "display_data"
    },
    {
     "name": "stdout",
     "output_type": "stream",
     "text": [
      "{'wafer_id': '000395', 'true_label': '6', 'predict_label': 2, 'trials': 2}\n",
      "{'noise': 0, 'rotation': 0, 'inversion': 0}\n",
      "==================================================\n",
      "faulty case : none\n",
      "predict label : Edge-Loc\n",
      "{'wafer_id': '008241', 'true_label': '8', 'predict_label': 2, 'augmentation': {'noise': 0, 'rotation': 0, 'inversion': 0}, 'trials': 2}\n"
     ]
    },
    {
     "data": {
      "image/png": "[encoded data removed]",
      "text/plain": [
       "<Figure size 432x288 with 1 Axes>"
      ]
     },
     "metadata": {
      "needs_background": "light"
     },
     "output_type": "display_data"
    },
    {
     "name": "stdout",
     "output_type": "stream",
     "text": [
      "{'wafer_id': '008241', 'true_label': '8', 'predict_label': 2, 'trials': 2}\n",
      "{'noise': 0, 'rotation': 0, 'inversion': 0}\n",
      "==================================================\n",
      "faulty case : Edge-Loc\n",
      "predict label : Center\n",
      "{'wafer_id': '010309', 'true_label': '2', 'predict_label': 0, 'augmentation': {'noise': 0, 'rotation': 0, 'inversion': 0}, 'trials': 2}\n"
     ]
    },
    {
     "data": {
      "image/png": "[encoded data removed]",
      "text/plain": [
       "<Figure size 432x288 with 1 Axes>"
      ]
     },
     "metadata": {
      "needs_background": "light"
     },
     "output_type": "display_data"
    },
    {
     "name": "stdout",
     "output_type": "stream",
     "text": [
      "{'wafer_id': '010309', 'true_label': '2', 'predict_label': 0, 'trials': 2}\n",
      "{'noise': 0, 'rotation': 0, 'inversion': 0}\n",
      "==================================================\n"
     ]
    }
   ],
   "source": [
    "is_exist = os.path.exists(('./img/' + ver + '_' + version + '/imglist.csv'))\n",
    "\n",
    "with open('./img/' + ver + '_' + version + '/imglist.csv', 'a', newline='') as f:\n",
    "    fieldnames = ['wafer_id', 'true_label', 'predict_label', 'noise', 'rotation', 'inversion', 'trials', 'type']\n",
    "    writer = csv.DictWriter(f, fieldnames=fieldnames)\n",
    "    if not is_exist:\n",
    "        writer.writeheader()\n",
    "\n",
    "    for i in failure:\n",
    "        fig = plt.figure()\n",
    "        plt.imshow(np.argmax(test_x[i], axis=2))\n",
    "        print('faulty case : {}'.format(faulty_case_dict[np.argmax(test_y[i])]))\n",
    "        print('predict label : {}'.format(faulty_case_dict[test_y_pred[i]]))\n",
    "        label_test[i]['predict_label'] = test_y_pred[i]\n",
    "        print(label_test[i])\n",
    "        plt.show()\n",
    "\n",
    "        img_name = '_'.join(map(str, [label_test[i][\"wafer_id\"], label_test[i][\"true_label\"], label_test[i][\"predict_label\"], label_test[i][\"augmentation\"][\"noise\"], label_test[i][\"augmentation\"][\"rotation\"], label_test[i][\"augmentation\"][\"inversion\"], label_test[i][\"trials\"], \"test\"]))\n",
    "        fig.savefig('./img/' + ver + '_' + version + '/' + img_name)\n",
    "        \n",
    "        pop_label_test = label_test[i].pop('augmentation')\n",
    "        print(label_test[i])\n",
    "        print(pop_label_test)\n",
    "        label_test[i].update(pop_label_test)\n",
    "        label_test[i].update({\"type\": \"test\"})\n",
    "        writer.writerow(label_test[i])\n",
    "        \n",
    "        print(\"=\"*50)"
   ]
  },
  {
   "cell_type": "markdown",
   "metadata": {},
   "source": [
    "- モデルは以下．\n",
    "    - 入力層\n",
    "    - 畳み込み層3つ\n",
    "    - Flatten層（1次元に）\n",
    "    - 全結合層3つ"
   ]
  },
  {
   "cell_type": "code",
   "execution_count": 77,
   "metadata": {
    "scrolled": false
   },
   "outputs": [
    {
     "name": "stdout",
     "output_type": "stream",
     "text": [
      "Model: \"functional_7\"\n",
      "_________________________________________________________________\n",
      "Layer (type)                 Output Shape              Param #   \n",
      "=================================================================\n",
      "input_3 (InputLayer)         [(None, 26, 26, 3)]       0         \n",
      "_________________________________________________________________\n",
      "conv2d_1 (Conv2D)            (None, 26, 26, 16)        448       \n",
      "_________________________________________________________________\n",
      "max_pooling2d_1 (MaxPooling2 (None, 13, 13, 16)        0         \n",
      "_________________________________________________________________\n",
      "conv2d_2 (Conv2D)            (None, 13, 13, 64)        9280      \n",
      "_________________________________________________________________\n",
      "max_pooling2d_2 (MaxPooling2 (None, 6, 6, 64)          0         \n",
      "_________________________________________________________________\n",
      "conv2d_3 (Conv2D)            (None, 6, 6, 128)         73856     \n",
      "_________________________________________________________________\n",
      "max_pooling2d_3 (MaxPooling2 (None, 3, 3, 128)         0         \n",
      "_________________________________________________________________\n",
      "flatten (Flatten)            (None, 1152)              0         \n",
      "_________________________________________________________________\n",
      "dense (Dense)                (None, 512)               590336    \n",
      "_________________________________________________________________\n",
      "dense_1 (Dense)              (None, 128)               65664     \n",
      "_________________________________________________________________\n",
      "dense_2 (Dense)              (None, 9)                 1161      \n",
      "=================================================================\n",
      "Total params: 740,745\n",
      "Trainable params: 740,745\n",
      "Non-trainable params: 0\n",
      "_________________________________________________________________\n"
     ]
    }
   ],
   "source": [
    "model.summary()"
   ]
  },
  {
   "cell_type": "markdown",
   "metadata": {},
   "source": [
    "- accuracyグラフ，lossグラフは以下．\n",
    "- 5epoch程度で落ち着いている．"
   ]
  },
  {
   "cell_type": "code",
   "execution_count": 78,
   "metadata": {},
   "outputs": [
    {
     "data": {
      "image/png": "[encoded data removed]",
      "text/plain": [
       "<Figure size 432x288 with 1 Axes>"
      ]
     },
     "metadata": {
      "needs_background": "light"
     },
     "output_type": "display_data"
    },
    {
     "data": {
      "image/png": "[encoded data removed]",
      "text/plain": [
       "<Figure size 432x288 with 1 Axes>"
      ]
     },
     "metadata": {
      "needs_background": "light"
     },
     "output_type": "display_data"
    }
   ],
   "source": [
    "# accuracy plot \n",
    "fig1 = plt.figure()\n",
    "plt.plot(history.history['accuracy'])\n",
    "plt.plot(history.history['val_accuracy'])\n",
    "plt.title('model accuracy')\n",
    "plt.ylabel('accuracy')\n",
    "plt.xlabel('epoch')\n",
    "plt.legend(['train', 'test'], loc='upper left')\n",
    "plt.show()\n",
    "fig1.savefig(\"accuracy.png\")\n",
    "\n",
    "# loss plot\n",
    "fig2 = plt.figure()\n",
    "plt.plot(history.history['loss'])\n",
    "plt.plot(history.history['val_loss'])\n",
    "plt.title('model loss')\n",
    "plt.ylabel('loss')\n",
    "plt.xlabel('epoch')\n",
    "plt.legend(['train', 'test'], loc='upper left')\n",
    "plt.show()\n",
    "fig2.savefig(\"loss.png\")"
   ]
  },
  {
   "cell_type": "code",
   "execution_count": 79,
   "metadata": {
    "scrolled": true
   },
   "outputs": [
    {
     "name": "stdout",
     "output_type": "stream",
     "text": [
      "1\n",
      "1\n",
      "Training acc: 100.0\n",
      "Testing acc: 99.8612885563059\n",
      "y_train_pred[:100]:  [1 4 2 8 8 2 4 3 2 3 7 8 7 1 7 3 3 3 5 4 4 0 5 5 2 4 3 3 0 0 5 2 8 6 7 7 5\n",
      " 0 8 8 7 4 6 8 8 0 6 6 7 8 3 5 6 0 5 3 8 3 2 2 1 3 0 2 3 2 6 2 6 8 1 5 1 1\n",
      " 7 6 0 1 0 6 8 1 3 2 4 2 3 7 6 5 2 8 7 5 6 4 8 4 0 4]\n",
      "y_train_max[:100]:  [1 4 2 8 8 2 4 3 2 3 7 8 7 1 7 3 3 3 5 4 4 0 5 5 2 4 3 3 0 0 5 2 8 6 7 7 5\n",
      " 0 8 8 7 4 6 8 8 0 6 6 7 8 3 5 6 0 5 3 8 3 2 2 1 3 0 2 3 2 6 2 6 8 1 5 1 1\n",
      " 7 6 0 1 0 6 8 1 3 2 4 2 3 7 6 5 2 8 7 5 6 4 8 4 0 4]\n"
     ]
    }
   ],
   "source": [
    "#y_train_pred = np.argmax(model.predict(x_train))\n",
    "y_train_pred = np.argmax(model.predict(x_train), axis=1)\n",
    "y_test_pred = np.argmax(model.predict(x_test), axis=1)\n",
    "y_train_max = np.argmax(y_train, axis=1)\n",
    "y_test_max = np.argmax(y_test, axis=1)\n",
    "test_y_pred = np.argmax(model.predict(test_x), axis=1)\n",
    "test_y_max = np.argmax(test_y, axis=1)\n",
    "\n",
    "print(y_train_max[0])\n",
    "print(y_train_pred[0])\n",
    "\n",
    "train_acc2 = np.sum(y_train_max == y_train_pred, axis=0, dtype='float') / x_train.shape[0]\n",
    "test_acc2 = np.sum(y_test_max == y_test_pred, axis=0, dtype='float') / x_test.shape[0]\n",
    "print('Training acc: {}'.format(train_acc2*100))\n",
    "print('Testing acc: {}'.format(test_acc2*100))\n",
    "print(\"y_train_pred[:100]: \", y_train_pred[:100])\n",
    "print (\"y_train_max[:100]: \", y_train_max[:100])"
   ]
  },
  {
   "cell_type": "markdown",
   "metadata": {},
   "source": [
    "### 混同行列"
   ]
  },
  {
   "cell_type": "code",
   "execution_count": 80,
   "metadata": {},
   "outputs": [],
   "source": [
    "import itertools\n",
    "from sklearn.metrics import confusion_matrix\n",
    "\n",
    "def plot_confusion_matrix(cm, normalize=False, title='Confusion matrix', cmap=plt.cm.Blues):\n",
    "    \"\"\"\n",
    "    This function prints and plots the confusion matrix.\n",
    "    Normalization can be applied by setting `normalize=True`.\n",
    "    \"\"\"\n",
    "    if normalize:\n",
    "        cm = cm.astype('float') / cm.sum(axis=1)[:, np.newaxis]\n",
    "        print(\"Normalized confusion matrix\")\n",
    "    else:\n",
    "        print('Confusion matrix, without normalization')\n",
    "\n",
    "    #print(cm)\n",
    "\n",
    "    plt.imshow(cm, interpolation='nearest', cmap=cmap)\n",
    "    plt.title(title)\n",
    "    plt.colorbar()\n",
    "\n",
    "    fmt = '.4f' if normalize else 'd'\n",
    "    thresh = cm.max() / 2.\n",
    "    for i, j in itertools.product(range(cm.shape[0]), range(cm.shape[1])):\n",
    "        plt.text(j, i, format(cm[i, j], fmt),\n",
    "                 horizontalalignment=\"center\",\n",
    "                 color=\"white\" if cm[i, j] > thresh else \"black\")\n",
    "    \n",
    "    plt.xticks([0, 1, 2, 3, 4, 5, 6, 7 ,8], [\"Center\", \"Donut\", \"Edge-Loc\", \"Edge-Ring\", \"Loc\", \"Near-full\", \"Random\", \"Scratch\", \"None\"])\n",
    "    plt.yticks([0, 1, 2, 3, 4, 5, 6, 7 ,8], [\"Center\", \"Donut\", \"Edge-Loc\", \"Edge-Ring\", \"Loc\", \"Near-full\", \"Random\", \"Scratch\", \"None\"])\n",
    "    \n",
    "    plt.tight_layout()\n",
    "    plt.ylabel('True label')\n",
    "    plt.xlabel('Predicted label')"
   ]
  },
  {
   "cell_type": "markdown",
   "metadata": {},
   "source": [
    "- validation confmat"
   ]
  },
  {
   "cell_type": "code",
   "execution_count": 81,
   "metadata": {},
   "outputs": [
    {
     "name": "stdout",
     "output_type": "stream",
     "text": [
      "Confusion matrix, without normalization\n",
      "Normalized confusion matrix\n"
     ]
    },
    {
     "data": {
      "image/png": "[encoded data removed]",
      "text/plain": [
       "<Figure size 576x1080 with 4 Axes>"
      ]
     },
     "metadata": {
      "needs_background": "light"
     },
     "output_type": "display_data"
    }
   ],
   "source": [
    "# Compute confusion matrix\n",
    "cnf_matrix = confusion_matrix(y_test_max, y_test_pred)\n",
    "np.set_printoptions(precision=2)\n",
    "\n",
    "from matplotlib import gridspec\n",
    "fig = plt.figure(figsize=(8, 15)) \n",
    "gs = gridspec.GridSpec(2, 1, height_ratios=[1, 1]) \n",
    "\n",
    "## Plot non-normalized confusion matrix\n",
    "plt.subplot(gs[0])\n",
    "plot_confusion_matrix(cnf_matrix, title='Confusion matrix')\n",
    "\n",
    "# Plot normalized confusion matrix\n",
    "plt.subplot(gs[1])\n",
    "plot_confusion_matrix(cnf_matrix, normalize=True, title='Normalized confusion matrix')\n",
    "\n",
    "plt.show()\n",
    "fig.savefig(\"valiconfmat.png\")"
   ]
  },
  {
   "cell_type": "markdown",
   "metadata": {},
   "source": [
    "- test confmat"
   ]
  },
  {
   "cell_type": "code",
   "execution_count": 82,
   "metadata": {
    "scrolled": false
   },
   "outputs": [
    {
     "name": "stdout",
     "output_type": "stream",
     "text": [
      "Confusion matrix, without normalization\n",
      "Normalized confusion matrix\n"
     ]
    },
    {
     "data": {
      "image/png": "[encoded data removed]",
      "text/plain": [
       "<Figure size 576x1080 with 4 Axes>"
      ]
     },
     "metadata": {
      "needs_background": "light"
     },
     "output_type": "display_data"
    }
   ],
   "source": [
    "# Compute confusion matrix\n",
    "cnf_matrix = confusion_matrix(test_y_max, test_y_pred)\n",
    "np.set_printoptions(precision=2)\n",
    "\n",
    "from matplotlib import gridspec\n",
    "fig = plt.figure(figsize=(8, 15)) \n",
    "gs = gridspec.GridSpec(2, 1, height_ratios=[1, 1]) \n",
    "\n",
    "## Plot non-normalized confusion matrix\n",
    "plt.subplot(gs[0])\n",
    "plot_confusion_matrix(cnf_matrix, title='Confusion matrix')\n",
    "\n",
    "# Plot normalized confusion matrix\n",
    "plt.subplot(gs[1])\n",
    "plot_confusion_matrix(cnf_matrix, normalize=True, title='Normalized confusion matrix')\n",
    "\n",
    "plt.show()\n",
    "fig.savefig(\"testconfmat.png\")"
   ]
  },
  {
   "cell_type": "code",
   "execution_count": 83,
   "metadata": {
    "scrolled": true
   },
   "outputs": [
    {
     "name": "stdout",
     "output_type": "stream",
     "text": [
      "Train accuracy: 1.0\n",
      "Validation accuracy: 0.9986128807067871\n",
      "Test accuracy: 0.9659574627876282\n"
     ]
    }
   ],
   "source": [
    "print(\"Train accuracy:\", trainscore)\n",
    "print(\"Validation accuracy:\", valiscore)\n",
    "print(\"Test accuracy:\", testscore)"
   ]
  },
  {
   "cell_type": "code",
   "execution_count": 84,
   "metadata": {},
   "outputs": [
    {
     "ename": "ConnectionError",
     "evalue": "HTTPSConnectionPool(host='notify-api.line.me', port=443): Max retries exceeded with url: /api/notify (Caused by NewConnectionError('<urllib3.connection.HTTPSConnection object at 0x7f9f71bb8d50>: Failed to establish a new connection: [Errno 110] Connection timed out'))",
     "output_type": "error",
     "traceback": [
      "\u001b[0;31m---------------------------------------------------------------------------\u001b[0m",
      "\u001b[0;31mTimeoutError\u001b[0m                              Traceback (most recent call last)",
      "\u001b[0;32m/data/student/o1710117/.local/share/virtualenvs/wafermap-fQtCJoMb/lib/python3.7/site-packages/urllib3/connection.py\u001b[0m in \u001b[0;36m_new_conn\u001b[0;34m(self)\u001b[0m\n\u001b[1;32m    169\u001b[0m             conn = connection.create_connection(\n\u001b[0;32m--> 170\u001b[0;31m                 \u001b[0;34m(\u001b[0m\u001b[0mself\u001b[0m\u001b[0;34m.\u001b[0m\u001b[0m_dns_host\u001b[0m\u001b[0;34m,\u001b[0m \u001b[0mself\u001b[0m\u001b[0;34m.\u001b[0m\u001b[0mport\u001b[0m\u001b[0;34m)\u001b[0m\u001b[0;34m,\u001b[0m \u001b[0mself\u001b[0m\u001b[0;34m.\u001b[0m\u001b[0mtimeout\u001b[0m\u001b[0;34m,\u001b[0m \u001b[0;34m**\u001b[0m\u001b[0mextra_kw\u001b[0m\u001b[0;34m\u001b[0m\u001b[0;34m\u001b[0m\u001b[0m\n\u001b[0m\u001b[1;32m    171\u001b[0m             )\n",
      "\u001b[0;32m/data/student/o1710117/.local/share/virtualenvs/wafermap-fQtCJoMb/lib/python3.7/site-packages/urllib3/util/connection.py\u001b[0m in \u001b[0;36mcreate_connection\u001b[0;34m(address, timeout, source_address, socket_options)\u001b[0m\n\u001b[1;32m     95\u001b[0m     \u001b[0;32mif\u001b[0m \u001b[0merr\u001b[0m \u001b[0;32mis\u001b[0m \u001b[0;32mnot\u001b[0m \u001b[0;32mNone\u001b[0m\u001b[0;34m:\u001b[0m\u001b[0;34m\u001b[0m\u001b[0;34m\u001b[0m\u001b[0m\n\u001b[0;32m---> 96\u001b[0;31m         \u001b[0;32mraise\u001b[0m \u001b[0merr\u001b[0m\u001b[0;34m\u001b[0m\u001b[0;34m\u001b[0m\u001b[0m\n\u001b[0m\u001b[1;32m     97\u001b[0m \u001b[0;34m\u001b[0m\u001b[0m\n",
      "\u001b[0;32m/data/student/o1710117/.local/share/virtualenvs/wafermap-fQtCJoMb/lib/python3.7/site-packages/urllib3/util/connection.py\u001b[0m in \u001b[0;36mcreate_connection\u001b[0;34m(address, timeout, source_address, socket_options)\u001b[0m\n\u001b[1;32m     85\u001b[0m                 \u001b[0msock\u001b[0m\u001b[0;34m.\u001b[0m\u001b[0mbind\u001b[0m\u001b[0;34m(\u001b[0m\u001b[0msource_address\u001b[0m\u001b[0;34m)\u001b[0m\u001b[0;34m\u001b[0m\u001b[0;34m\u001b[0m\u001b[0m\n\u001b[0;32m---> 86\u001b[0;31m             \u001b[0msock\u001b[0m\u001b[0;34m.\u001b[0m\u001b[0mconnect\u001b[0m\u001b[0;34m(\u001b[0m\u001b[0msa\u001b[0m\u001b[0;34m)\u001b[0m\u001b[0;34m\u001b[0m\u001b[0;34m\u001b[0m\u001b[0m\n\u001b[0m\u001b[1;32m     87\u001b[0m             \u001b[0;32mreturn\u001b[0m \u001b[0msock\u001b[0m\u001b[0;34m\u001b[0m\u001b[0;34m\u001b[0m\u001b[0m\n",
      "\u001b[0;31mTimeoutError\u001b[0m: [Errno 110] Connection timed out",
      "\nDuring handling of the above exception, another exception occurred:\n",
      "\u001b[0;31mNewConnectionError\u001b[0m                        Traceback (most recent call last)",
      "\u001b[0;32m/data/student/o1710117/.local/share/virtualenvs/wafermap-fQtCJoMb/lib/python3.7/site-packages/urllib3/connectionpool.py\u001b[0m in \u001b[0;36murlopen\u001b[0;34m(self, method, url, body, headers, retries, redirect, assert_same_host, timeout, pool_timeout, release_conn, chunked, body_pos, **response_kw)\u001b[0m\n\u001b[1;32m    705\u001b[0m                 \u001b[0mheaders\u001b[0m\u001b[0;34m=\u001b[0m\u001b[0mheaders\u001b[0m\u001b[0;34m,\u001b[0m\u001b[0;34m\u001b[0m\u001b[0;34m\u001b[0m\u001b[0m\n\u001b[0;32m--> 706\u001b[0;31m                 \u001b[0mchunked\u001b[0m\u001b[0;34m=\u001b[0m\u001b[0mchunked\u001b[0m\u001b[0;34m,\u001b[0m\u001b[0;34m\u001b[0m\u001b[0;34m\u001b[0m\u001b[0m\n\u001b[0m\u001b[1;32m    707\u001b[0m             )\n",
      "\u001b[0;32m/data/student/o1710117/.local/share/virtualenvs/wafermap-fQtCJoMb/lib/python3.7/site-packages/urllib3/connectionpool.py\u001b[0m in \u001b[0;36m_make_request\u001b[0;34m(self, conn, method, url, timeout, chunked, **httplib_request_kw)\u001b[0m\n\u001b[1;32m    381\u001b[0m         \u001b[0;32mtry\u001b[0m\u001b[0;34m:\u001b[0m\u001b[0;34m\u001b[0m\u001b[0;34m\u001b[0m\u001b[0m\n\u001b[0;32m--> 382\u001b[0;31m             \u001b[0mself\u001b[0m\u001b[0;34m.\u001b[0m\u001b[0m_validate_conn\u001b[0m\u001b[0;34m(\u001b[0m\u001b[0mconn\u001b[0m\u001b[0;34m)\u001b[0m\u001b[0;34m\u001b[0m\u001b[0;34m\u001b[0m\u001b[0m\n\u001b[0m\u001b[1;32m    383\u001b[0m         \u001b[0;32mexcept\u001b[0m \u001b[0;34m(\u001b[0m\u001b[0mSocketTimeout\u001b[0m\u001b[0;34m,\u001b[0m \u001b[0mBaseSSLError\u001b[0m\u001b[0;34m)\u001b[0m \u001b[0;32mas\u001b[0m \u001b[0me\u001b[0m\u001b[0;34m:\u001b[0m\u001b[0;34m\u001b[0m\u001b[0;34m\u001b[0m\u001b[0m\n",
      "\u001b[0;32m/data/student/o1710117/.local/share/virtualenvs/wafermap-fQtCJoMb/lib/python3.7/site-packages/urllib3/connectionpool.py\u001b[0m in \u001b[0;36m_validate_conn\u001b[0;34m(self, conn)\u001b[0m\n\u001b[1;32m   1009\u001b[0m         \u001b[0;32mif\u001b[0m \u001b[0;32mnot\u001b[0m \u001b[0mgetattr\u001b[0m\u001b[0;34m(\u001b[0m\u001b[0mconn\u001b[0m\u001b[0;34m,\u001b[0m \u001b[0;34m\"sock\"\u001b[0m\u001b[0;34m,\u001b[0m \u001b[0;32mNone\u001b[0m\u001b[0;34m)\u001b[0m\u001b[0;34m:\u001b[0m  \u001b[0;31m# AppEngine might not have  `.sock`\u001b[0m\u001b[0;34m\u001b[0m\u001b[0;34m\u001b[0m\u001b[0m\n\u001b[0;32m-> 1010\u001b[0;31m             \u001b[0mconn\u001b[0m\u001b[0;34m.\u001b[0m\u001b[0mconnect\u001b[0m\u001b[0;34m(\u001b[0m\u001b[0;34m)\u001b[0m\u001b[0;34m\u001b[0m\u001b[0;34m\u001b[0m\u001b[0m\n\u001b[0m\u001b[1;32m   1011\u001b[0m \u001b[0;34m\u001b[0m\u001b[0m\n",
      "\u001b[0;32m/data/student/o1710117/.local/share/virtualenvs/wafermap-fQtCJoMb/lib/python3.7/site-packages/urllib3/connection.py\u001b[0m in \u001b[0;36mconnect\u001b[0;34m(self)\u001b[0m\n\u001b[1;32m    352\u001b[0m         \u001b[0;31m# Add certificate verification\u001b[0m\u001b[0;34m\u001b[0m\u001b[0;34m\u001b[0m\u001b[0;34m\u001b[0m\u001b[0m\n\u001b[0;32m--> 353\u001b[0;31m         \u001b[0mconn\u001b[0m \u001b[0;34m=\u001b[0m \u001b[0mself\u001b[0m\u001b[0;34m.\u001b[0m\u001b[0m_new_conn\u001b[0m\u001b[0;34m(\u001b[0m\u001b[0;34m)\u001b[0m\u001b[0;34m\u001b[0m\u001b[0;34m\u001b[0m\u001b[0m\n\u001b[0m\u001b[1;32m    354\u001b[0m         \u001b[0mhostname\u001b[0m \u001b[0;34m=\u001b[0m \u001b[0mself\u001b[0m\u001b[0;34m.\u001b[0m\u001b[0mhost\u001b[0m\u001b[0;34m\u001b[0m\u001b[0;34m\u001b[0m\u001b[0m\n",
      "\u001b[0;32m/data/student/o1710117/.local/share/virtualenvs/wafermap-fQtCJoMb/lib/python3.7/site-packages/urllib3/connection.py\u001b[0m in \u001b[0;36m_new_conn\u001b[0;34m(self)\u001b[0m\n\u001b[1;32m    181\u001b[0m             raise NewConnectionError(\n\u001b[0;32m--> 182\u001b[0;31m                 \u001b[0mself\u001b[0m\u001b[0;34m,\u001b[0m \u001b[0;34m\"Failed to establish a new connection: %s\"\u001b[0m \u001b[0;34m%\u001b[0m \u001b[0me\u001b[0m\u001b[0;34m\u001b[0m\u001b[0;34m\u001b[0m\u001b[0m\n\u001b[0m\u001b[1;32m    183\u001b[0m             )\n",
      "\u001b[0;31mNewConnectionError\u001b[0m: <urllib3.connection.HTTPSConnection object at 0x7f9f71bb8d50>: Failed to establish a new connection: [Errno 110] Connection timed out",
      "\nDuring handling of the above exception, another exception occurred:\n",
      "\u001b[0;31mMaxRetryError\u001b[0m                             Traceback (most recent call last)",
      "\u001b[0;32m/data/student/o1710117/.local/share/virtualenvs/wafermap-fQtCJoMb/lib/python3.7/site-packages/requests/adapters.py\u001b[0m in \u001b[0;36msend\u001b[0;34m(self, request, stream, timeout, verify, cert, proxies)\u001b[0m\n\u001b[1;32m    448\u001b[0m                     \u001b[0mretries\u001b[0m\u001b[0;34m=\u001b[0m\u001b[0mself\u001b[0m\u001b[0;34m.\u001b[0m\u001b[0mmax_retries\u001b[0m\u001b[0;34m,\u001b[0m\u001b[0;34m\u001b[0m\u001b[0;34m\u001b[0m\u001b[0m\n\u001b[0;32m--> 449\u001b[0;31m                     \u001b[0mtimeout\u001b[0m\u001b[0;34m=\u001b[0m\u001b[0mtimeout\u001b[0m\u001b[0;34m\u001b[0m\u001b[0;34m\u001b[0m\u001b[0m\n\u001b[0m\u001b[1;32m    450\u001b[0m                 )\n",
      "\u001b[0;32m/data/student/o1710117/.local/share/virtualenvs/wafermap-fQtCJoMb/lib/python3.7/site-packages/urllib3/connectionpool.py\u001b[0m in \u001b[0;36murlopen\u001b[0;34m(self, method, url, body, headers, retries, redirect, assert_same_host, timeout, pool_timeout, release_conn, chunked, body_pos, **response_kw)\u001b[0m\n\u001b[1;32m    755\u001b[0m             retries = retries.increment(\n\u001b[0;32m--> 756\u001b[0;31m                 \u001b[0mmethod\u001b[0m\u001b[0;34m,\u001b[0m \u001b[0murl\u001b[0m\u001b[0;34m,\u001b[0m \u001b[0merror\u001b[0m\u001b[0;34m=\u001b[0m\u001b[0me\u001b[0m\u001b[0;34m,\u001b[0m \u001b[0m_pool\u001b[0m\u001b[0;34m=\u001b[0m\u001b[0mself\u001b[0m\u001b[0;34m,\u001b[0m \u001b[0m_stacktrace\u001b[0m\u001b[0;34m=\u001b[0m\u001b[0msys\u001b[0m\u001b[0;34m.\u001b[0m\u001b[0mexc_info\u001b[0m\u001b[0;34m(\u001b[0m\u001b[0;34m)\u001b[0m\u001b[0;34m[\u001b[0m\u001b[0;36m2\u001b[0m\u001b[0;34m]\u001b[0m\u001b[0;34m\u001b[0m\u001b[0;34m\u001b[0m\u001b[0m\n\u001b[0m\u001b[1;32m    757\u001b[0m             )\n",
      "\u001b[0;32m/data/student/o1710117/.local/share/virtualenvs/wafermap-fQtCJoMb/lib/python3.7/site-packages/urllib3/util/retry.py\u001b[0m in \u001b[0;36mincrement\u001b[0;34m(self, method, url, response, error, _pool, _stacktrace)\u001b[0m\n\u001b[1;32m    572\u001b[0m         \u001b[0;32mif\u001b[0m \u001b[0mnew_retry\u001b[0m\u001b[0;34m.\u001b[0m\u001b[0mis_exhausted\u001b[0m\u001b[0;34m(\u001b[0m\u001b[0;34m)\u001b[0m\u001b[0;34m:\u001b[0m\u001b[0;34m\u001b[0m\u001b[0;34m\u001b[0m\u001b[0m\n\u001b[0;32m--> 573\u001b[0;31m             \u001b[0;32mraise\u001b[0m \u001b[0mMaxRetryError\u001b[0m\u001b[0;34m(\u001b[0m\u001b[0m_pool\u001b[0m\u001b[0;34m,\u001b[0m \u001b[0murl\u001b[0m\u001b[0;34m,\u001b[0m \u001b[0merror\u001b[0m \u001b[0;32mor\u001b[0m \u001b[0mResponseError\u001b[0m\u001b[0;34m(\u001b[0m\u001b[0mcause\u001b[0m\u001b[0;34m)\u001b[0m\u001b[0;34m)\u001b[0m\u001b[0;34m\u001b[0m\u001b[0;34m\u001b[0m\u001b[0m\n\u001b[0m\u001b[1;32m    574\u001b[0m \u001b[0;34m\u001b[0m\u001b[0m\n",
      "\u001b[0;31mMaxRetryError\u001b[0m: HTTPSConnectionPool(host='notify-api.line.me', port=443): Max retries exceeded with url: /api/notify (Caused by NewConnectionError('<urllib3.connection.HTTPSConnection object at 0x7f9f71bb8d50>: Failed to establish a new connection: [Errno 110] Connection timed out'))",
      "\nDuring handling of the above exception, another exception occurred:\n",
      "\u001b[0;31mConnectionError\u001b[0m                           Traceback (most recent call last)",
      "\u001b[0;32m<ipython-input-84-131421593516>\u001b[0m in \u001b[0;36m<module>\u001b[0;34m\u001b[0m\n\u001b[1;32m     30\u001b[0m     \u001b[0mrequests\u001b[0m\u001b[0;34m.\u001b[0m\u001b[0mpost\u001b[0m\u001b[0;34m(\u001b[0m\u001b[0murl\u001b[0m\u001b[0;34m,\u001b[0m \u001b[0mdata\u001b[0m\u001b[0;34m=\u001b[0m\u001b[0mdata\u001b[0m\u001b[0;34m,\u001b[0m \u001b[0mfiles\u001b[0m\u001b[0;34m=\u001b[0m\u001b[0mfiles\u001b[0m\u001b[0;34m,\u001b[0m \u001b[0mheaders\u001b[0m\u001b[0;34m=\u001b[0m\u001b[0mheaders\u001b[0m\u001b[0;34m,\u001b[0m \u001b[0mproxies\u001b[0m\u001b[0;34m=\u001b[0m\u001b[0mproxies\u001b[0m\u001b[0;34m)\u001b[0m\u001b[0;34m\u001b[0m\u001b[0;34m\u001b[0m\u001b[0m\n\u001b[1;32m     31\u001b[0m \u001b[0;34m\u001b[0m\u001b[0m\n\u001b[0;32m---> 32\u001b[0;31m \u001b[0mline_notify\u001b[0m\u001b[0;34m(\u001b[0m\u001b[0;34m\"学習が終了しました\"\u001b[0m\u001b[0;34m)\u001b[0m\u001b[0;34m\u001b[0m\u001b[0;34m\u001b[0m\u001b[0m\n\u001b[0m\u001b[1;32m     33\u001b[0m \u001b[0mline_notify\u001b[0m\u001b[0;34m(\u001b[0m\u001b[0;34m\"Shawon: \"\u001b[0m \u001b[0;34m+\u001b[0m \u001b[0mstr\u001b[0m\u001b[0;34m(\u001b[0m\u001b[0mshawon\u001b[0m\u001b[0;34m)\u001b[0m \u001b[0;34m+\u001b[0m \u001b[0;34m\", rotation_num: \"\u001b[0m \u001b[0;34m+\u001b[0m \u001b[0mstr\u001b[0m\u001b[0;34m(\u001b[0m\u001b[0mrotation_num\u001b[0m\u001b[0;34m)\u001b[0m \u001b[0;34m+\u001b[0m \u001b[0;34m\", inversion: \"\u001b[0m \u001b[0;34m+\u001b[0m \u001b[0mstr\u001b[0m\u001b[0;34m(\u001b[0m\u001b[0minversion\u001b[0m\u001b[0;34m)\u001b[0m \u001b[0;34m+\u001b[0m \u001b[0;34m\", trials: \"\u001b[0m \u001b[0;34m+\u001b[0m \u001b[0mstr\u001b[0m\u001b[0;34m(\u001b[0m\u001b[0mtrials\u001b[0m\u001b[0;34m)\u001b[0m\u001b[0;34m)\u001b[0m\u001b[0;34m\u001b[0m\u001b[0;34m\u001b[0m\u001b[0m\n\u001b[1;32m     34\u001b[0m \u001b[0mline_notify_img\u001b[0m\u001b[0;34m(\u001b[0m\u001b[0;34m\"正解率\"\u001b[0m\u001b[0;34m,\u001b[0m \u001b[0;34m\"accuracy.png\"\u001b[0m\u001b[0;34m)\u001b[0m\u001b[0;34m\u001b[0m\u001b[0;34m\u001b[0m\u001b[0m\n",
      "\u001b[0;32m<ipython-input-84-131421593516>\u001b[0m in \u001b[0;36mline_notify\u001b[0;34m(text)\u001b[0m\n\u001b[1;32m     16\u001b[0m         \u001b[0;34m'https'\u001b[0m\u001b[0;34m:\u001b[0m \u001b[0;34m'https://proxy.uec.ac.jp:8080'\u001b[0m\u001b[0;34m,\u001b[0m\u001b[0;34m\u001b[0m\u001b[0;34m\u001b[0m\u001b[0m\n\u001b[1;32m     17\u001b[0m     }\n\u001b[0;32m---> 18\u001b[0;31m     \u001b[0mrequests\u001b[0m\u001b[0;34m.\u001b[0m\u001b[0mpost\u001b[0m\u001b[0;34m(\u001b[0m\u001b[0murl\u001b[0m\u001b[0;34m,\u001b[0m \u001b[0mdata\u001b[0m\u001b[0;34m=\u001b[0m\u001b[0mdata\u001b[0m\u001b[0;34m,\u001b[0m \u001b[0mheaders\u001b[0m\u001b[0;34m=\u001b[0m\u001b[0mheaders\u001b[0m\u001b[0;34m)\u001b[0m\u001b[0;31m#, proxies=proxies)\u001b[0m\u001b[0;34m\u001b[0m\u001b[0;34m\u001b[0m\u001b[0m\n\u001b[0m\u001b[1;32m     19\u001b[0m \u001b[0;34m\u001b[0m\u001b[0m\n\u001b[1;32m     20\u001b[0m \u001b[0;31m# LINEに画像を送る関数\u001b[0m\u001b[0;34m\u001b[0m\u001b[0;34m\u001b[0m\u001b[0;34m\u001b[0m\u001b[0m\n",
      "\u001b[0;32m/data/student/o1710117/.local/share/virtualenvs/wafermap-fQtCJoMb/lib/python3.7/site-packages/requests/api.py\u001b[0m in \u001b[0;36mpost\u001b[0;34m(url, data, json, **kwargs)\u001b[0m\n\u001b[1;32m    117\u001b[0m     \"\"\"\n\u001b[1;32m    118\u001b[0m \u001b[0;34m\u001b[0m\u001b[0m\n\u001b[0;32m--> 119\u001b[0;31m     \u001b[0;32mreturn\u001b[0m \u001b[0mrequest\u001b[0m\u001b[0;34m(\u001b[0m\u001b[0;34m'post'\u001b[0m\u001b[0;34m,\u001b[0m \u001b[0murl\u001b[0m\u001b[0;34m,\u001b[0m \u001b[0mdata\u001b[0m\u001b[0;34m=\u001b[0m\u001b[0mdata\u001b[0m\u001b[0;34m,\u001b[0m \u001b[0mjson\u001b[0m\u001b[0;34m=\u001b[0m\u001b[0mjson\u001b[0m\u001b[0;34m,\u001b[0m \u001b[0;34m**\u001b[0m\u001b[0mkwargs\u001b[0m\u001b[0;34m)\u001b[0m\u001b[0;34m\u001b[0m\u001b[0;34m\u001b[0m\u001b[0m\n\u001b[0m\u001b[1;32m    120\u001b[0m \u001b[0;34m\u001b[0m\u001b[0m\n\u001b[1;32m    121\u001b[0m \u001b[0;34m\u001b[0m\u001b[0m\n",
      "\u001b[0;32m/data/student/o1710117/.local/share/virtualenvs/wafermap-fQtCJoMb/lib/python3.7/site-packages/requests/api.py\u001b[0m in \u001b[0;36mrequest\u001b[0;34m(method, url, **kwargs)\u001b[0m\n\u001b[1;32m     59\u001b[0m     \u001b[0;31m# cases, and look like a memory leak in others.\u001b[0m\u001b[0;34m\u001b[0m\u001b[0;34m\u001b[0m\u001b[0;34m\u001b[0m\u001b[0m\n\u001b[1;32m     60\u001b[0m     \u001b[0;32mwith\u001b[0m \u001b[0msessions\u001b[0m\u001b[0;34m.\u001b[0m\u001b[0mSession\u001b[0m\u001b[0;34m(\u001b[0m\u001b[0;34m)\u001b[0m \u001b[0;32mas\u001b[0m \u001b[0msession\u001b[0m\u001b[0;34m:\u001b[0m\u001b[0;34m\u001b[0m\u001b[0;34m\u001b[0m\u001b[0m\n\u001b[0;32m---> 61\u001b[0;31m         \u001b[0;32mreturn\u001b[0m \u001b[0msession\u001b[0m\u001b[0;34m.\u001b[0m\u001b[0mrequest\u001b[0m\u001b[0;34m(\u001b[0m\u001b[0mmethod\u001b[0m\u001b[0;34m=\u001b[0m\u001b[0mmethod\u001b[0m\u001b[0;34m,\u001b[0m \u001b[0murl\u001b[0m\u001b[0;34m=\u001b[0m\u001b[0murl\u001b[0m\u001b[0;34m,\u001b[0m \u001b[0;34m**\u001b[0m\u001b[0mkwargs\u001b[0m\u001b[0;34m)\u001b[0m\u001b[0;34m\u001b[0m\u001b[0;34m\u001b[0m\u001b[0m\n\u001b[0m\u001b[1;32m     62\u001b[0m \u001b[0;34m\u001b[0m\u001b[0m\n\u001b[1;32m     63\u001b[0m \u001b[0;34m\u001b[0m\u001b[0m\n",
      "\u001b[0;32m/data/student/o1710117/.local/share/virtualenvs/wafermap-fQtCJoMb/lib/python3.7/site-packages/requests/sessions.py\u001b[0m in \u001b[0;36mrequest\u001b[0;34m(self, method, url, params, data, headers, cookies, files, auth, timeout, allow_redirects, proxies, hooks, stream, verify, cert, json)\u001b[0m\n\u001b[1;32m    540\u001b[0m         }\n\u001b[1;32m    541\u001b[0m         \u001b[0msend_kwargs\u001b[0m\u001b[0;34m.\u001b[0m\u001b[0mupdate\u001b[0m\u001b[0;34m(\u001b[0m\u001b[0msettings\u001b[0m\u001b[0;34m)\u001b[0m\u001b[0;34m\u001b[0m\u001b[0;34m\u001b[0m\u001b[0m\n\u001b[0;32m--> 542\u001b[0;31m         \u001b[0mresp\u001b[0m \u001b[0;34m=\u001b[0m \u001b[0mself\u001b[0m\u001b[0;34m.\u001b[0m\u001b[0msend\u001b[0m\u001b[0;34m(\u001b[0m\u001b[0mprep\u001b[0m\u001b[0;34m,\u001b[0m \u001b[0;34m**\u001b[0m\u001b[0msend_kwargs\u001b[0m\u001b[0;34m)\u001b[0m\u001b[0;34m\u001b[0m\u001b[0;34m\u001b[0m\u001b[0m\n\u001b[0m\u001b[1;32m    543\u001b[0m \u001b[0;34m\u001b[0m\u001b[0m\n\u001b[1;32m    544\u001b[0m         \u001b[0;32mreturn\u001b[0m \u001b[0mresp\u001b[0m\u001b[0;34m\u001b[0m\u001b[0;34m\u001b[0m\u001b[0m\n",
      "\u001b[0;32m/data/student/o1710117/.local/share/virtualenvs/wafermap-fQtCJoMb/lib/python3.7/site-packages/requests/sessions.py\u001b[0m in \u001b[0;36msend\u001b[0;34m(self, request, **kwargs)\u001b[0m\n\u001b[1;32m    653\u001b[0m \u001b[0;34m\u001b[0m\u001b[0m\n\u001b[1;32m    654\u001b[0m         \u001b[0;31m# Send the request\u001b[0m\u001b[0;34m\u001b[0m\u001b[0;34m\u001b[0m\u001b[0;34m\u001b[0m\u001b[0m\n\u001b[0;32m--> 655\u001b[0;31m         \u001b[0mr\u001b[0m \u001b[0;34m=\u001b[0m \u001b[0madapter\u001b[0m\u001b[0;34m.\u001b[0m\u001b[0msend\u001b[0m\u001b[0;34m(\u001b[0m\u001b[0mrequest\u001b[0m\u001b[0;34m,\u001b[0m \u001b[0;34m**\u001b[0m\u001b[0mkwargs\u001b[0m\u001b[0;34m)\u001b[0m\u001b[0;34m\u001b[0m\u001b[0;34m\u001b[0m\u001b[0m\n\u001b[0m\u001b[1;32m    656\u001b[0m \u001b[0;34m\u001b[0m\u001b[0m\n\u001b[1;32m    657\u001b[0m         \u001b[0;31m# Total elapsed time of the request (approximately)\u001b[0m\u001b[0;34m\u001b[0m\u001b[0;34m\u001b[0m\u001b[0;34m\u001b[0m\u001b[0m\n",
      "\u001b[0;32m/data/student/o1710117/.local/share/virtualenvs/wafermap-fQtCJoMb/lib/python3.7/site-packages/requests/adapters.py\u001b[0m in \u001b[0;36msend\u001b[0;34m(self, request, stream, timeout, verify, cert, proxies)\u001b[0m\n\u001b[1;32m    514\u001b[0m                 \u001b[0;32mraise\u001b[0m \u001b[0mSSLError\u001b[0m\u001b[0;34m(\u001b[0m\u001b[0me\u001b[0m\u001b[0;34m,\u001b[0m \u001b[0mrequest\u001b[0m\u001b[0;34m=\u001b[0m\u001b[0mrequest\u001b[0m\u001b[0;34m)\u001b[0m\u001b[0;34m\u001b[0m\u001b[0;34m\u001b[0m\u001b[0m\n\u001b[1;32m    515\u001b[0m \u001b[0;34m\u001b[0m\u001b[0m\n\u001b[0;32m--> 516\u001b[0;31m             \u001b[0;32mraise\u001b[0m \u001b[0mConnectionError\u001b[0m\u001b[0;34m(\u001b[0m\u001b[0me\u001b[0m\u001b[0;34m,\u001b[0m \u001b[0mrequest\u001b[0m\u001b[0;34m=\u001b[0m\u001b[0mrequest\u001b[0m\u001b[0;34m)\u001b[0m\u001b[0;34m\u001b[0m\u001b[0;34m\u001b[0m\u001b[0m\n\u001b[0m\u001b[1;32m    517\u001b[0m \u001b[0;34m\u001b[0m\u001b[0m\n\u001b[1;32m    518\u001b[0m         \u001b[0;32mexcept\u001b[0m \u001b[0mClosedPoolError\u001b[0m \u001b[0;32mas\u001b[0m \u001b[0me\u001b[0m\u001b[0;34m:\u001b[0m\u001b[0;34m\u001b[0m\u001b[0;34m\u001b[0m\u001b[0m\n",
      "\u001b[0;31mConnectionError\u001b[0m: HTTPSConnectionPool(host='notify-api.line.me', port=443): Max retries exceeded with url: /api/notify (Caused by NewConnectionError('<urllib3.connection.HTTPSConnection object at 0x7f9f71bb8d50>: Failed to establish a new connection: [Errno 110] Connection timed out'))"
     ]
    }
   ],
   "source": [
    "import requests\n",
    "\n",
    "# LINEの設定\n",
    "path = './lineapi.txt'\n",
    "with open(path) as f:\n",
    "    s = f.read()\n",
    "    line_token = s.rstrip('\\n')\n",
    "\n",
    "# LINEに通知する関数\n",
    "def line_notify(text):\n",
    "    url = \"https://notify-api.line.me/api/notify\"\n",
    "    data = {\"message\": text}\n",
    "    headers = {\"Authorization\": \"Bearer \" + line_token}\n",
    "    proxies = {\n",
    "        'http': 'http://proxy.uec.ac.jp:8080',\n",
    "        'https': 'https://proxy.uec.ac.jp:8080',\n",
    "    }\n",
    "    requests.post(url, data=data, headers=headers)#, proxies=proxies)\n",
    "\n",
    "# LINEに画像を送る関数\n",
    "def line_notify_img(text, imgpath):\n",
    "    url = \"https://notify-api.line.me/api/notify\"\n",
    "    data = {\"message\": text, \"notificationDisabled\": True}\n",
    "    files = {\"imageFile\": open(imgpath, \"rb\")}\n",
    "    headers = {\"Authorization\": \"Bearer \" + line_token}\n",
    "    proxies = {\n",
    "        'http': 'http://proxy.uec.ac.jp:8080',\n",
    "        'https': 'https://proxy.uec.ac.jp:8080',\n",
    "    }\n",
    "    requests.post(url, data=data, files=files, headers=headers, proxies=proxies)\n",
    "    \n",
    "line_notify(\"学習が終了しました\")\n",
    "line_notify(\"Shawon: \" + str(shawon) + \", rotation_num: \" + str(rotation_num) + \", inversion: \" + str(inversion) + \", trials: \" + str(trials))\n",
    "line_notify_img(\"正解率\", \"accuracy.png\")\n",
    "line_notify_img(\"Loss\", \"loss.png\")\n",
    "line_notify_img(\"validation混同行列\", \"valiconfmat.png\")\n",
    "line_notify_img(\"test混同行列\", \"testconfmat.png\")\n",
    "line_notify(\"train:\" + str(trainscore) + \"\\nvali:\" + str(valiscore) + \"\\ntest:\" + str(testscore))"
   ]
  }
 ],
 "metadata": {
  "kernelspec": {
   "display_name": "wafermap",
   "language": "python",
   "name": "wafermap"
  },
  "language_info": {
   "codemirror_mode": {
    "name": "ipython",
    "version": 3
   },
   "file_extension": ".py",
   "mimetype": "text/x-python",
   "name": "python",
   "nbconvert_exporter": "python",
   "pygments_lexer": "ipython3",
   "version": "3.7.6"
  }
 },
 "nbformat": 4,
 "nbformat_minor": 2
}
