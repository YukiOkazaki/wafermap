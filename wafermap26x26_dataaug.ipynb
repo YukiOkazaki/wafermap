{
 "cells": [
  {
   "cell_type": "markdown",
   "metadata": {},
   "source": [
    "## 26x26のウエハに限定して機械学習させる\n",
    "- データオーギュメンテーション（鏡映，回転を追加）"
   ]
  },
  {
   "cell_type": "markdown",
   "metadata": {},
   "source": [
    "### import，入力データの読み込み"
   ]
  },
  {
   "cell_type": "code",
   "execution_count": 1,
   "metadata": {},
   "outputs": [
    {
     "name": "stdout",
     "output_type": "stream",
     "text": [
      "../input/LSWMD.pkl\n"
     ]
    }
   ],
   "source": [
    "# This Python 3 environment comes with many helpful analytics libraries installed\n",
    "# It is defined by the kaggle/python docker image: https://github.com/kaggle/docker-python\n",
    "# For example, here's several helpful packages to load in \n",
    "\n",
    "import numpy as np # linear algebra\n",
    "import pandas as pd # data processing, CSV file I/O (e.g. pd.read_csv)\n",
    "\n",
    "# Input data files are available in the \"../input/\" directory.\n",
    "# For example, running this (by clicking run or pressing Shift+Enter) will list all files under the input directory\n",
    "\n",
    "import os\n",
    "for dirname, _, filenames in os.walk('../input'):\n",
    "    for filename in filenames:\n",
    "        print(os.path.join(dirname, filename))\n",
    "\n",
    "# Any results you write to the current directory are saved as output."
   ]
  },
  {
   "cell_type": "code",
   "execution_count": 2,
   "metadata": {
    "scrolled": true
   },
   "outputs": [
    {
     "name": "stderr",
     "output_type": "stream",
     "text": [
      "GPU: 0\n",
      "Using TensorFlow backend.\n"
     ]
    },
    {
     "name": "stdout",
     "output_type": "stream",
     "text": [
      "['LSWMD.pkl']\n"
     ]
    }
   ],
   "source": [
    "import os\n",
    "from os.path import join\n",
    "\n",
    "import numpy as np\n",
    "import pandas as pd\n",
    "import cv2\n",
    "\n",
    "import tensorflow as tf\n",
    "import keras\n",
    "from keras import layers, Input, models\n",
    "from keras.utils import to_categorical\n",
    "from keras.wrappers.scikit_learn import KerasClassifier \n",
    "from sklearn.model_selection import KFold \n",
    "from sklearn.model_selection import cross_val_score\n",
    "\n",
    "from sklearn.model_selection import train_test_split\n",
    "\n",
    "import matplotlib.pyplot as plt\n",
    "\n",
    "from keras.preprocessing import image\n",
    "from keras.preprocessing.image import ImageDataGenerator\n",
    "\n",
    "datapath = join('data', 'wafer')\n",
    "\n",
    "print(os.listdir(\"../input\"))\n",
    "import warnings\n",
    "warnings.filterwarnings(\"ignore\")"
   ]
  },
  {
   "cell_type": "markdown",
   "metadata": {},
   "source": [
    "### データについて"
   ]
  },
  {
   "cell_type": "code",
   "execution_count": 3,
   "metadata": {
    "scrolled": true
   },
   "outputs": [
    {
     "name": "stdout",
     "output_type": "stream",
     "text": [
      "<class 'pandas.core.frame.DataFrame'>\n",
      "RangeIndex: 811457 entries, 0 to 811456\n",
      "Data columns (total 6 columns):\n",
      "waferMap          811457 non-null object\n",
      "dieSize           811457 non-null float64\n",
      "lotName           811457 non-null object\n",
      "waferIndex        811457 non-null float64\n",
      "trianTestLabel    811457 non-null object\n",
      "failureType       811457 non-null object\n",
      "dtypes: float64(2), object(4)\n",
      "memory usage: 37.1+ MB\n"
     ]
    }
   ],
   "source": [
    "df=pd.read_pickle(\"../input/LSWMD.pkl\")\n",
    "df.info()"
   ]
  },
  {
   "cell_type": "markdown",
   "metadata": {},
   "source": [
    "- データセットは811,457枚のウエハマップから構成されている．"
   ]
  },
  {
   "cell_type": "code",
   "execution_count": 4,
   "metadata": {
    "scrolled": true
   },
   "outputs": [
    {
     "data": {
      "text/html": [
       "<div>\n",
       "<style scoped>\n",
       "    .dataframe tbody tr th:only-of-type {\n",
       "        vertical-align: middle;\n",
       "    }\n",
       "\n",
       "    .dataframe tbody tr th {\n",
       "        vertical-align: top;\n",
       "    }\n",
       "\n",
       "    .dataframe thead th {\n",
       "        text-align: right;\n",
       "    }\n",
       "</style>\n",
       "<table border=\"1\" class=\"dataframe\">\n",
       "  <thead>\n",
       "    <tr style=\"text-align: right;\">\n",
       "      <th></th>\n",
       "      <th>waferMap</th>\n",
       "      <th>dieSize</th>\n",
       "      <th>lotName</th>\n",
       "      <th>waferIndex</th>\n",
       "      <th>trianTestLabel</th>\n",
       "      <th>failureType</th>\n",
       "    </tr>\n",
       "  </thead>\n",
       "  <tbody>\n",
       "    <tr>\n",
       "      <th>811452</th>\n",
       "      <td>[[0, 0, 0, 0, 0, 0, 0, 0, 0, 0, 0, 1, 2, 1, 1,...</td>\n",
       "      <td>600.0</td>\n",
       "      <td>lot47542</td>\n",
       "      <td>23.0</td>\n",
       "      <td>[[Test]]</td>\n",
       "      <td>[[Edge-Ring]]</td>\n",
       "    </tr>\n",
       "    <tr>\n",
       "      <th>811453</th>\n",
       "      <td>[[0, 0, 0, 0, 0, 0, 0, 0, 0, 0, 0, 2, 2, 1, 1,...</td>\n",
       "      <td>600.0</td>\n",
       "      <td>lot47542</td>\n",
       "      <td>24.0</td>\n",
       "      <td>[[Test]]</td>\n",
       "      <td>[[Edge-Loc]]</td>\n",
       "    </tr>\n",
       "    <tr>\n",
       "      <th>811454</th>\n",
       "      <td>[[0, 0, 0, 0, 0, 0, 0, 0, 0, 0, 0, 1, 2, 1, 1,...</td>\n",
       "      <td>600.0</td>\n",
       "      <td>lot47542</td>\n",
       "      <td>25.0</td>\n",
       "      <td>[[Test]]</td>\n",
       "      <td>[[Edge-Ring]]</td>\n",
       "    </tr>\n",
       "    <tr>\n",
       "      <th>811455</th>\n",
       "      <td>[[0, 0, 0, 0, 0, 0, 0, 0, 0, 0, 0, 1, 1, 1, 1,...</td>\n",
       "      <td>600.0</td>\n",
       "      <td>lot47543</td>\n",
       "      <td>1.0</td>\n",
       "      <td>[]</td>\n",
       "      <td>[]</td>\n",
       "    </tr>\n",
       "    <tr>\n",
       "      <th>811456</th>\n",
       "      <td>[[0, 0, 0, 0, 0, 0, 0, 0, 0, 0, 0, 1, 2, 1, 1,...</td>\n",
       "      <td>600.0</td>\n",
       "      <td>lot47543</td>\n",
       "      <td>2.0</td>\n",
       "      <td>[]</td>\n",
       "      <td>[]</td>\n",
       "    </tr>\n",
       "  </tbody>\n",
       "</table>\n",
       "</div>"
      ],
      "text/plain": [
       "                                                 waferMap  dieSize   lotName  \\\n",
       "811452  [[0, 0, 0, 0, 0, 0, 0, 0, 0, 0, 0, 1, 2, 1, 1,...    600.0  lot47542   \n",
       "811453  [[0, 0, 0, 0, 0, 0, 0, 0, 0, 0, 0, 2, 2, 1, 1,...    600.0  lot47542   \n",
       "811454  [[0, 0, 0, 0, 0, 0, 0, 0, 0, 0, 0, 1, 2, 1, 1,...    600.0  lot47542   \n",
       "811455  [[0, 0, 0, 0, 0, 0, 0, 0, 0, 0, 0, 1, 1, 1, 1,...    600.0  lot47543   \n",
       "811456  [[0, 0, 0, 0, 0, 0, 0, 0, 0, 0, 0, 1, 2, 1, 1,...    600.0  lot47543   \n",
       "\n",
       "        waferIndex trianTestLabel    failureType  \n",
       "811452        23.0       [[Test]]  [[Edge-Ring]]  \n",
       "811453        24.0       [[Test]]   [[Edge-Loc]]  \n",
       "811454        25.0       [[Test]]  [[Edge-Ring]]  \n",
       "811455         1.0             []             []  \n",
       "811456         2.0             []             []  "
      ]
     },
     "execution_count": 4,
     "metadata": {},
     "output_type": "execute_result"
    }
   ],
   "source": [
    "df.tail()"
   ]
  },
  {
   "cell_type": "markdown",
   "metadata": {},
   "source": [
    "- ウエハマップのそれぞれの列から得られる情報はないが，インスタンスごとにダイサイズが異なることがわかる．\n",
    "- ウエハマップのダイサイズをチェックするための変数`WaferMapDim`を定義する．（縦，横の値）"
   ]
  },
  {
   "cell_type": "code",
   "execution_count": 5,
   "metadata": {},
   "outputs": [],
   "source": [
    "df = df.drop(['waferIndex'], axis = 1)"
   ]
  },
  {
   "cell_type": "code",
   "execution_count": 6,
   "metadata": {},
   "outputs": [
    {
     "data": {
      "text/html": [
       "<div>\n",
       "<style scoped>\n",
       "    .dataframe tbody tr th:only-of-type {\n",
       "        vertical-align: middle;\n",
       "    }\n",
       "\n",
       "    .dataframe tbody tr th {\n",
       "        vertical-align: top;\n",
       "    }\n",
       "\n",
       "    .dataframe thead th {\n",
       "        text-align: right;\n",
       "    }\n",
       "</style>\n",
       "<table border=\"1\" class=\"dataframe\">\n",
       "  <thead>\n",
       "    <tr style=\"text-align: right;\">\n",
       "      <th></th>\n",
       "      <th>waferMap</th>\n",
       "      <th>dieSize</th>\n",
       "      <th>lotName</th>\n",
       "      <th>trianTestLabel</th>\n",
       "      <th>failureType</th>\n",
       "      <th>waferMapDim</th>\n",
       "    </tr>\n",
       "  </thead>\n",
       "  <tbody>\n",
       "    <tr>\n",
       "      <th>738795</th>\n",
       "      <td>[[0, 0, 0, 0, 0, 0, 0, 0, 0, 0, 0, 0, 0, 0, 0,...</td>\n",
       "      <td>1507.0</td>\n",
       "      <td>lot44593</td>\n",
       "      <td>[]</td>\n",
       "      <td>[]</td>\n",
       "      <td>(43, 44)</td>\n",
       "    </tr>\n",
       "    <tr>\n",
       "      <th>447418</th>\n",
       "      <td>[[0, 0, 0, 0, 0, 0, 0, 0, 0, 0, 0, 0, 2, 2, 2,...</td>\n",
       "      <td>712.0</td>\n",
       "      <td>lot27457</td>\n",
       "      <td>[]</td>\n",
       "      <td>[]</td>\n",
       "      <td>(32, 29)</td>\n",
       "    </tr>\n",
       "    <tr>\n",
       "      <th>317207</th>\n",
       "      <td>[[0, 0, 0, 0, 0, 0, 0, 0, 0, 0, 0, 0, 0, 0, 0,...</td>\n",
       "      <td>1534.0</td>\n",
       "      <td>lot19280</td>\n",
       "      <td>[]</td>\n",
       "      <td>[]</td>\n",
       "      <td>(45, 43)</td>\n",
       "    </tr>\n",
       "    <tr>\n",
       "      <th>506286</th>\n",
       "      <td>[[0, 0, 0, 0, 0, 0, 0, 0, 0, 0, 0, 0, 1, 1, 2,...</td>\n",
       "      <td>710.0</td>\n",
       "      <td>lot31461</td>\n",
       "      <td>[]</td>\n",
       "      <td>[]</td>\n",
       "      <td>(32, 29)</td>\n",
       "    </tr>\n",
       "    <tr>\n",
       "      <th>576797</th>\n",
       "      <td>[[0, 0, 0, 0, 0, 0, 0, 0, 0, 0, 1, 1, 1, 1, 1,...</td>\n",
       "      <td>686.0</td>\n",
       "      <td>lot36063</td>\n",
       "      <td>[]</td>\n",
       "      <td>[]</td>\n",
       "      <td>(31, 28)</td>\n",
       "    </tr>\n",
       "  </tbody>\n",
       "</table>\n",
       "</div>"
      ],
      "text/plain": [
       "                                                 waferMap  dieSize   lotName  \\\n",
       "738795  [[0, 0, 0, 0, 0, 0, 0, 0, 0, 0, 0, 0, 0, 0, 0,...   1507.0  lot44593   \n",
       "447418  [[0, 0, 0, 0, 0, 0, 0, 0, 0, 0, 0, 0, 2, 2, 2,...    712.0  lot27457   \n",
       "317207  [[0, 0, 0, 0, 0, 0, 0, 0, 0, 0, 0, 0, 0, 0, 0,...   1534.0  lot19280   \n",
       "506286  [[0, 0, 0, 0, 0, 0, 0, 0, 0, 0, 0, 0, 1, 1, 2,...    710.0  lot31461   \n",
       "576797  [[0, 0, 0, 0, 0, 0, 0, 0, 0, 0, 1, 1, 1, 1, 1,...    686.0  lot36063   \n",
       "\n",
       "       trianTestLabel failureType waferMapDim  \n",
       "738795             []          []    (43, 44)  \n",
       "447418             []          []    (32, 29)  \n",
       "317207             []          []    (45, 43)  \n",
       "506286             []          []    (32, 29)  \n",
       "576797             []          []    (31, 28)  "
      ]
     },
     "execution_count": 6,
     "metadata": {},
     "output_type": "execute_result"
    }
   ],
   "source": [
    "def find_dim(x):\n",
    "    dim0=np.size(x,axis=0)\n",
    "    dim1=np.size(x,axis=1)\n",
    "    return dim0,dim1\n",
    "df['waferMapDim']=df.waferMap.apply(find_dim)\n",
    "df.sample(5)"
   ]
  },
  {
   "cell_type": "markdown",
   "metadata": {},
   "source": [
    "- 不良パターンと学習orテストラベルを数値で表す．"
   ]
  },
  {
   "cell_type": "code",
   "execution_count": 7,
   "metadata": {},
   "outputs": [],
   "source": [
    "df['failureNum']=df.failureType\n",
    "df['trainTestNum']=df.trianTestLabel\n",
    "mapping_type={'Center':0,'Donut':1,'Edge-Loc':2,'Edge-Ring':3,'Loc':4,'Random':5,'Scratch':6,'Near-full':7,'none':8}\n",
    "mapping_traintest={'Training':0,'Test':1}\n",
    "df=df.replace({'failureNum':mapping_type, 'trainTestNum':mapping_traintest})"
   ]
  },
  {
   "cell_type": "code",
   "execution_count": 8,
   "metadata": {},
   "outputs": [
    {
     "data": {
      "text/plain": [
       "811457"
      ]
     },
     "execution_count": 8,
     "metadata": {},
     "output_type": "execute_result"
    }
   ],
   "source": [
    "tol_wafers = df.shape[0]\n",
    "tol_wafers"
   ]
  },
  {
   "cell_type": "code",
   "execution_count": 9,
   "metadata": {},
   "outputs": [
    {
     "data": {
      "text/plain": [
       "(172950, 25519, 147431)"
      ]
     },
     "execution_count": 9,
     "metadata": {},
     "output_type": "execute_result"
    }
   ],
   "source": [
    "df_withlabel = df[(df['failureNum']>=0) & (df['failureNum']<=8)]\n",
    "df_withlabel =df_withlabel.reset_index()\n",
    "df_withpattern = df[(df['failureNum']>=0) & (df['failureNum']<=7)]\n",
    "df_withpattern = df_withpattern.reset_index()\n",
    "df_nonpattern = df[(df['failureNum']==8)]\n",
    "df_withlabel.shape[0], df_withpattern.shape[0], df_nonpattern.shape[0]"
   ]
  },
  {
   "cell_type": "code",
   "execution_count": 10,
   "metadata": {},
   "outputs": [
    {
     "data": {
      "image/png": "[encoded data removed]",
      "text/plain": [
       "<Figure size 1440x324 with 2 Axes>"
      ]
     },
     "metadata": {},
     "output_type": "display_data"
    }
   ],
   "source": [
    "import matplotlib.pyplot as plt\n",
    "%matplotlib inline\n",
    "\n",
    "from matplotlib import gridspec\n",
    "fig = plt.figure(figsize=(20, 4.5)) \n",
    "gs = gridspec.GridSpec(1, 2, width_ratios=[1, 2.5]) \n",
    "ax1 = plt.subplot(gs[0])\n",
    "ax2 = plt.subplot(gs[1])\n",
    "\n",
    "no_wafers=[tol_wafers-df_withlabel.shape[0], df_withpattern.shape[0], df_nonpattern.shape[0]]\n",
    "\n",
    "colors = ['silver', 'orange', 'gold']\n",
    "explode = (0.1, 0, 0)  # explode 1st slice\n",
    "labels = ['no-label','label&pattern','label&non-pattern']\n",
    "ax1.pie(no_wafers, explode=explode, labels=labels, colors=colors, autopct='%1.1f%%', shadow=True, startangle=140)\n",
    "\n",
    "uni_pattern=np.unique(df_withpattern.failureNum, return_counts=True)\n",
    "labels2 = ['','Center','Donut','Edge-Loc','Edge-Ring','Loc','Random','Scratch','Near-full']\n",
    "ax2.bar(uni_pattern[0],uni_pattern[1]/df_withpattern.shape[0], color='gold', align='center', alpha=0.9)\n",
    "ax2.set_title(\"failure type frequency\")\n",
    "ax2.set_ylabel(\"% of pattern wafers\")\n",
    "ax2.set_xticklabels(labels2)\n",
    "\n",
    "plt.show()"
   ]
  },
  {
   "cell_type": "markdown",
   "metadata": {},
   "source": [
    "- 結果として，172,950枚のウエハは不良ラベルを持ち，78.7%のウエハは不良ラベルがない．\n",
    "- また，ラベル付きのウエハのうち，実際に不良パターンがあるのは全体のわずか3.1%(25,519枚)であり，残りの147,431枚のウエハは不良パターンが`none`となっている．\n",
    "- その結果，実際に不良パターンがあるのは3.1%(25,519枚）だけであり，計算量は大幅に削減される．\n",
    "- 上の2つ目の図から，データセットは高い不均衡分布を示していることがわかる．"
   ]
  },
  {
   "cell_type": "markdown",
   "metadata": {},
   "source": [
    "### 26x26のデータに対して処理"
   ]
  },
  {
   "cell_type": "code",
   "execution_count": 11,
   "metadata": {},
   "outputs": [],
   "source": [
    "sub_df = df.loc[df['waferMapDim'] == (26, 26)]\n",
    "sub_wafer = sub_df['waferMap'].values\n",
    "\n",
    "sw = np.ones((1, 26, 26))\n",
    "label = list()\n",
    "\n",
    "for i in range(len(sub_df)):\n",
    "    # skip null label\n",
    "    if len(sub_df.iloc[i,:]['failureType']) == 0:\n",
    "        continue\n",
    "    sw = np.concatenate((sw, sub_df.iloc[i,:]['waferMap'].reshape(1, 26, 26)))\n",
    "    label.append(sub_df.iloc[i,:]['failureType'][0][0])"
   ]
  },
  {
   "cell_type": "code",
   "execution_count": 12,
   "metadata": {
    "scrolled": true
   },
   "outputs": [
    {
     "data": {
      "text/html": [
       "<div>\n",
       "<style scoped>\n",
       "    .dataframe tbody tr th:only-of-type {\n",
       "        vertical-align: middle;\n",
       "    }\n",
       "\n",
       "    .dataframe tbody tr th {\n",
       "        vertical-align: top;\n",
       "    }\n",
       "\n",
       "    .dataframe thead th {\n",
       "        text-align: right;\n",
       "    }\n",
       "</style>\n",
       "<table border=\"1\" class=\"dataframe\">\n",
       "  <thead>\n",
       "    <tr style=\"text-align: right;\">\n",
       "      <th></th>\n",
       "      <th>waferMap</th>\n",
       "      <th>dieSize</th>\n",
       "      <th>lotName</th>\n",
       "      <th>trianTestLabel</th>\n",
       "      <th>failureType</th>\n",
       "      <th>waferMapDim</th>\n",
       "      <th>failureNum</th>\n",
       "      <th>trainTestNum</th>\n",
       "    </tr>\n",
       "  </thead>\n",
       "  <tbody>\n",
       "    <tr>\n",
       "      <th>150</th>\n",
       "      <td>[[0, 0, 0, 0, 0, 0, 0, 0, 0, 0, 2, 2, 1, 1, 2,...</td>\n",
       "      <td>533.0</td>\n",
       "      <td>lot7</td>\n",
       "      <td>[[Training]]</td>\n",
       "      <td>[[none]]</td>\n",
       "      <td>(26, 26)</td>\n",
       "      <td>8</td>\n",
       "      <td>0</td>\n",
       "    </tr>\n",
       "    <tr>\n",
       "      <th>151</th>\n",
       "      <td>[[0, 0, 0, 0, 0, 0, 0, 0, 0, 0, 2, 1, 1, 1, 1,...</td>\n",
       "      <td>533.0</td>\n",
       "      <td>lot7</td>\n",
       "      <td>[[Training]]</td>\n",
       "      <td>[[none]]</td>\n",
       "      <td>(26, 26)</td>\n",
       "      <td>8</td>\n",
       "      <td>0</td>\n",
       "    </tr>\n",
       "    <tr>\n",
       "      <th>152</th>\n",
       "      <td>[[0, 0, 0, 0, 0, 0, 0, 0, 0, 0, 1, 2, 1, 1, 1,...</td>\n",
       "      <td>533.0</td>\n",
       "      <td>lot7</td>\n",
       "      <td>[[Training]]</td>\n",
       "      <td>[[none]]</td>\n",
       "      <td>(26, 26)</td>\n",
       "      <td>8</td>\n",
       "      <td>0</td>\n",
       "    </tr>\n",
       "    <tr>\n",
       "      <th>153</th>\n",
       "      <td>[[0, 0, 0, 0, 0, 0, 0, 0, 0, 0, 1, 2, 2, 1, 1,...</td>\n",
       "      <td>533.0</td>\n",
       "      <td>lot7</td>\n",
       "      <td>[[Training]]</td>\n",
       "      <td>[[none]]</td>\n",
       "      <td>(26, 26)</td>\n",
       "      <td>8</td>\n",
       "      <td>0</td>\n",
       "    </tr>\n",
       "    <tr>\n",
       "      <th>154</th>\n",
       "      <td>[[0, 0, 0, 0, 0, 0, 0, 0, 0, 0, 2, 2, 2, 2, 2,...</td>\n",
       "      <td>533.0</td>\n",
       "      <td>lot7</td>\n",
       "      <td>[[Training]]</td>\n",
       "      <td>[[none]]</td>\n",
       "      <td>(26, 26)</td>\n",
       "      <td>8</td>\n",
       "      <td>0</td>\n",
       "    </tr>\n",
       "  </tbody>\n",
       "</table>\n",
       "</div>"
      ],
      "text/plain": [
       "                                              waferMap  dieSize lotName  \\\n",
       "150  [[0, 0, 0, 0, 0, 0, 0, 0, 0, 0, 2, 2, 1, 1, 2,...    533.0    lot7   \n",
       "151  [[0, 0, 0, 0, 0, 0, 0, 0, 0, 0, 2, 1, 1, 1, 1,...    533.0    lot7   \n",
       "152  [[0, 0, 0, 0, 0, 0, 0, 0, 0, 0, 1, 2, 1, 1, 1,...    533.0    lot7   \n",
       "153  [[0, 0, 0, 0, 0, 0, 0, 0, 0, 0, 1, 2, 2, 1, 1,...    533.0    lot7   \n",
       "154  [[0, 0, 0, 0, 0, 0, 0, 0, 0, 0, 2, 2, 2, 2, 2,...    533.0    lot7   \n",
       "\n",
       "    trianTestLabel failureType waferMapDim failureNum trainTestNum  \n",
       "150   [[Training]]    [[none]]    (26, 26)          8            0  \n",
       "151   [[Training]]    [[none]]    (26, 26)          8            0  \n",
       "152   [[Training]]    [[none]]    (26, 26)          8            0  \n",
       "153   [[Training]]    [[none]]    (26, 26)          8            0  \n",
       "154   [[Training]]    [[none]]    (26, 26)          8            0  "
      ]
     },
     "execution_count": 12,
     "metadata": {},
     "output_type": "execute_result"
    }
   ],
   "source": [
    "sub_df.head()"
   ]
  },
  {
   "cell_type": "code",
   "execution_count": 13,
   "metadata": {},
   "outputs": [],
   "source": [
    "x = sw[1:]\n",
    "y = np.array(label).reshape((-1,1))"
   ]
  },
  {
   "cell_type": "code",
   "execution_count": 14,
   "metadata": {},
   "outputs": [],
   "source": [
    "mask_x = np.zeros((24, 24))\n",
    "dummy_x = cv2.resize(x[0], (24,24))\n",
    "mask_x[dummy_x == 1] = 1 \n",
    "mask_x[dummy_x == 2] = 1 \n",
    "mask_x = mask_x.reshape((1, 24,24))"
   ]
  },
  {
   "cell_type": "code",
   "execution_count": 15,
   "metadata": {},
   "outputs": [
    {
     "name": "stdout",
     "output_type": "stream",
     "text": [
      "x shape : (14366, 26, 26), y shape : (14366, 1)\n"
     ]
    }
   ],
   "source": [
    "print('x shape : {}, y shape : {}'.format(x.shape, y.shape))"
   ]
  },
  {
   "cell_type": "markdown",
   "metadata": {},
   "source": [
    "- 26x26のウエハが14366枚抽出できた．"
   ]
  },
  {
   "cell_type": "markdown",
   "metadata": {},
   "source": [
    "- 最初のデータを可視化してみる．"
   ]
  },
  {
   "cell_type": "code",
   "execution_count": 16,
   "metadata": {},
   "outputs": [
    {
     "data": {
      "image/png": "[encoded data removed]",
      "text/plain": [
       "<Figure size 432x288 with 1 Axes>"
      ]
     },
     "metadata": {},
     "output_type": "display_data"
    },
    {
     "name": "stdout",
     "output_type": "stream",
     "text": [
      "Faulty case : ['none'] \n"
     ]
    }
   ],
   "source": [
    "# plot 1st data\n",
    "plt.imshow(x[0])\n",
    "plt.show()\n",
    "\n",
    "# check faulty case\n",
    "print('Faulty case : {} '.format(y[0]))"
   ]
  },
  {
   "cell_type": "code",
   "execution_count": 17,
   "metadata": {},
   "outputs": [
    {
     "data": {
      "text/plain": [
       "(14366, 26, 26, 1)"
      ]
     },
     "execution_count": 17,
     "metadata": {},
     "output_type": "execute_result"
    }
   ],
   "source": [
    "x = x.reshape((-1, 26, 26, 1))\n",
    "x.shape"
   ]
  },
  {
   "cell_type": "code",
   "execution_count": 18,
   "metadata": {},
   "outputs": [
    {
     "name": "stdout",
     "output_type": "stream",
     "text": [
      "Faulty case list : ['Center' 'Donut' 'Edge-Loc' 'Edge-Ring' 'Loc' 'Near-full' 'Random'\n",
      " 'Scratch' 'none']\n"
     ]
    }
   ],
   "source": [
    "faulty_case = np.unique(y)\n",
    "print('Faulty case list : {}'.format(faulty_case))"
   ]
  },
  {
   "cell_type": "code",
   "execution_count": 19,
   "metadata": {},
   "outputs": [],
   "source": [
    "faulty_case_dict =dict()"
   ]
  },
  {
   "cell_type": "code",
   "execution_count": 20,
   "metadata": {},
   "outputs": [
    {
     "name": "stdout",
     "output_type": "stream",
     "text": [
      "Center : 90\n",
      "Donut : 1\n",
      "Edge-Loc : 296\n",
      "Edge-Ring : 31\n",
      "Loc : 297\n",
      "Near-full : 16\n",
      "Random : 74\n",
      "Scratch : 72\n",
      "none : 13489\n"
     ]
    }
   ],
   "source": [
    "for i, f in enumerate(faulty_case) :\n",
    "    print('{} : {}'.format(f, len(y[y==f])))\n",
    "    faulty_case_dict[i] = f"
   ]
  },
  {
   "cell_type": "markdown",
   "metadata": {},
   "source": [
    "- 14366枚の26x26ウエハの不良パターンは上記のようになっている．"
   ]
  },
  {
   "cell_type": "code",
   "execution_count": 21,
   "metadata": {},
   "outputs": [],
   "source": [
    "new_x = np.zeros((len(x), 26, 26, 3))\n",
    "\n",
    "for w in range(len(x)):\n",
    "    for i in range(26):\n",
    "        for j in range(26):\n",
    "            new_x[w, i, j, int(x[w, i, j])] = 1"
   ]
  },
  {
   "cell_type": "code",
   "execution_count": 22,
   "metadata": {},
   "outputs": [
    {
     "data": {
      "text/plain": [
       "(14366, 26, 26, 3)"
      ]
     },
     "execution_count": 22,
     "metadata": {},
     "output_type": "execute_result"
    }
   ],
   "source": [
    "new_x.shape"
   ]
  },
  {
   "cell_type": "markdown",
   "metadata": {},
   "source": [
    "- new_xを(14366, 26, 26, 3)とし，最後の次元にはウエハの値(0, 1, 2)がそれぞれの値毎にベクトルとしてまとめられている．\n",
    "- ウエハデータの各ピクセルは，0:ウエハなし，1:正常，2:不良を表す．"
   ]
  },
  {
   "cell_type": "markdown",
   "metadata": {},
   "source": [
    "### オートエンコーダで学習"
   ]
  },
  {
   "cell_type": "markdown",
   "metadata": {},
   "source": [
    "#### エンコーダとデコーダのモデルを学習"
   ]
  },
  {
   "cell_type": "markdown",
   "metadata": {},
   "source": [
    "- モデルの定義をする．"
   ]
  },
  {
   "cell_type": "code",
   "execution_count": 23,
   "metadata": {},
   "outputs": [],
   "source": [
    "# Encoder\n",
    "input_shape = (26, 26, 3)\n",
    "input_tensor = Input(input_shape)\n",
    "encode = layers.Conv2D(64, (3,3), padding='same', activation='relu')(input_tensor)\n",
    "\n",
    "latent_vector = layers.MaxPool2D()(encode)\n",
    "\n",
    "# Decoder\n",
    "decode_layer_1 = layers.Conv2DTranspose(64, (3,3), padding='same', activation='relu')\n",
    "decode_layer_2 = layers.UpSampling2D()\n",
    "output_tensor = layers.Conv2DTranspose(3, (3,3), padding='same', activation='sigmoid')\n",
    "\n",
    "# connect decoder layers\n",
    "decode = decode_layer_1(latent_vector)\n",
    "decode = decode_layer_2(decode)\n",
    "\n",
    "ae = models.Model(input_tensor, output_tensor(decode))\n",
    "ae.compile(optimizer = 'Adam',\n",
    "              loss = 'mse',\n",
    "             )"
   ]
  },
  {
   "cell_type": "code",
   "execution_count": 24,
   "metadata": {},
   "outputs": [
    {
     "name": "stdout",
     "output_type": "stream",
     "text": [
      "_________________________________________________________________\n",
      "Layer (type)                 Output Shape              Param #   \n",
      "=================================================================\n",
      "input_1 (InputLayer)         (None, 26, 26, 3)         0         \n",
      "_________________________________________________________________\n",
      "conv2d_1 (Conv2D)            (None, 26, 26, 64)        1792      \n",
      "_________________________________________________________________\n",
      "max_pooling2d_1 (MaxPooling2 (None, 13, 13, 64)        0         \n",
      "_________________________________________________________________\n",
      "conv2d_transpose_1 (Conv2DTr (None, 13, 13, 64)        36928     \n",
      "_________________________________________________________________\n",
      "up_sampling2d_1 (UpSampling2 (None, 26, 26, 64)        0         \n",
      "_________________________________________________________________\n",
      "conv2d_transpose_2 (Conv2DTr (None, 26, 26, 3)         1731      \n",
      "=================================================================\n",
      "Total params: 40,451\n",
      "Trainable params: 40,451\n",
      "Non-trainable params: 0\n",
      "_________________________________________________________________\n"
     ]
    }
   ],
   "source": [
    "ae.summary()"
   ]
  },
  {
   "cell_type": "markdown",
   "metadata": {},
   "source": [
    "- 層は\n",
    "    - 入力層\n",
    "    - 畳み込み層\n",
    "    - プーリング層\n",
    "    - 転置畳み込み層\n",
    "    - アップサンプリング層"
   ]
  },
  {
   "cell_type": "code",
   "execution_count": 25,
   "metadata": {},
   "outputs": [],
   "source": [
    "epoch=30\n",
    "batch_size=1024"
   ]
  },
  {
   "cell_type": "markdown",
   "metadata": {},
   "source": [
    "- 学習を開始する．\n",
    "- `new_x`を`new_x`にエンコードしデコードする．"
   ]
  },
  {
   "cell_type": "code",
   "execution_count": 26,
   "metadata": {
    "scrolled": true
   },
   "outputs": [
    {
     "name": "stdout",
     "output_type": "stream",
     "text": [
      "Epoch 1/30\n",
      "14366/14366 [==============================] - 1s 103us/step - loss: 0.1662\n",
      "Epoch 2/30\n",
      "14366/14366 [==============================] - 1s 40us/step - loss: 0.0968\n",
      "Epoch 3/30\n",
      "14366/14366 [==============================] - 1s 42us/step - loss: 0.0884\n",
      "Epoch 4/30\n",
      "14366/14366 [==============================] - 1s 42us/step - loss: 0.0781\n",
      "Epoch 5/30\n",
      "14366/14366 [==============================] - 1s 41us/step - loss: 0.0695\n",
      "Epoch 6/30\n",
      "14366/14366 [==============================] - 1s 42us/step - loss: 0.0620\n",
      "Epoch 7/30\n",
      "14366/14366 [==============================] - 1s 41us/step - loss: 0.0566\n",
      "Epoch 8/30\n",
      "14366/14366 [==============================] - 1s 44us/step - loss: 0.0521\n",
      "Epoch 9/30\n",
      "14366/14366 [==============================] - 1s 41us/step - loss: 0.0479\n",
      "Epoch 10/30\n",
      "14366/14366 [==============================] - 1s 40us/step - loss: 0.0436\n",
      "Epoch 11/30\n",
      "14366/14366 [==============================] - 1s 42us/step - loss: 0.0395\n",
      "Epoch 12/30\n",
      "14366/14366 [==============================] - 1s 41us/step - loss: 0.0356\n",
      "Epoch 13/30\n",
      "14366/14366 [==============================] - 1s 42us/step - loss: 0.0321\n",
      "Epoch 14/30\n",
      "14366/14366 [==============================] - 1s 42us/step - loss: 0.0290\n",
      "Epoch 15/30\n",
      "14366/14366 [==============================] - 1s 41us/step - loss: 0.0264\n",
      "Epoch 16/30\n",
      "14366/14366 [==============================] - 1s 41us/step - loss: 0.0242\n",
      "Epoch 17/30\n",
      "14366/14366 [==============================] - 1s 43us/step - loss: 0.0223\n",
      "Epoch 18/30\n",
      "14366/14366 [==============================] - 1s 42us/step - loss: 0.0207\n",
      "Epoch 19/30\n",
      "14366/14366 [==============================] - 1s 41us/step - loss: 0.0193\n",
      "Epoch 20/30\n",
      "14366/14366 [==============================] - 1s 42us/step - loss: 0.0181\n",
      "Epoch 21/30\n",
      "14366/14366 [==============================] - 1s 42us/step - loss: 0.0170\n",
      "Epoch 22/30\n",
      "14366/14366 [==============================] - 1s 41us/step - loss: 0.0160\n",
      "Epoch 23/30\n",
      "14366/14366 [==============================] - 1s 43us/step - loss: 0.0151\n",
      "Epoch 24/30\n",
      "14366/14366 [==============================] - 1s 41us/step - loss: 0.0144\n",
      "Epoch 25/30\n",
      "14366/14366 [==============================] - 1s 42us/step - loss: 0.0137\n",
      "Epoch 26/30\n",
      "14366/14366 [==============================] - 1s 42us/step - loss: 0.0130\n",
      "Epoch 27/30\n",
      "14366/14366 [==============================] - 1s 42us/step - loss: 0.0124\n",
      "Epoch 28/30\n",
      "14366/14366 [==============================] - 1s 42us/step - loss: 0.0118\n",
      "Epoch 29/30\n",
      "14366/14366 [==============================] - 1s 42us/step - loss: 0.0113\n",
      "Epoch 30/30\n",
      "14366/14366 [==============================] - 1s 40us/step - loss: 0.0109\n"
     ]
    },
    {
     "data": {
      "text/plain": [
       "<keras.callbacks.History at 0x7f8c9b480a20>"
      ]
     },
     "execution_count": 26,
     "metadata": {},
     "output_type": "execute_result"
    }
   ],
   "source": [
    "# start train\n",
    "ae.fit(new_x, new_x,\n",
    "       batch_size=batch_size,\n",
    "       epochs=epoch,\n",
    "       verbose=1)"
   ]
  },
  {
   "cell_type": "markdown",
   "metadata": {},
   "source": [
    "- エンコーダだけのモデルを定義する．"
   ]
  },
  {
   "cell_type": "code",
   "execution_count": 27,
   "metadata": {},
   "outputs": [],
   "source": [
    "encoder = models.Model(input_tensor, latent_vector)"
   ]
  },
  {
   "cell_type": "markdown",
   "metadata": {},
   "source": [
    "- デコーダだけのモデルを定義する．"
   ]
  },
  {
   "cell_type": "code",
   "execution_count": 28,
   "metadata": {},
   "outputs": [],
   "source": [
    "decoder_input = Input((13, 13, 64))\n",
    "decode = decode_layer_1(decoder_input)\n",
    "decode = decode_layer_2(decode)\n",
    "\n",
    "decoder = models.Model(decoder_input, output_tensor(decode))"
   ]
  },
  {
   "cell_type": "markdown",
   "metadata": {},
   "source": [
    "- `encoder`を使って元のウエハ画像をエンコードする．"
   ]
  },
  {
   "cell_type": "code",
   "execution_count": 29,
   "metadata": {},
   "outputs": [],
   "source": [
    "# Encode original faulty wafer\n",
    "encoded_x = encoder.predict(new_x)"
   ]
  },
  {
   "cell_type": "markdown",
   "metadata": {},
   "source": [
    "- エンコードされた潜伏的な不良ウエハにノイズを負荷する．"
   ]
  },
  {
   "cell_type": "code",
   "execution_count": 30,
   "metadata": {},
   "outputs": [],
   "source": [
    "# Add noise to encoded latent faulty wafers vector.\n",
    "noised_encoded_x = encoded_x + np.random.normal(loc=0, scale=0.1, size = (len(encoded_x), 13, 13, 64))"
   ]
  },
  {
   "cell_type": "markdown",
   "metadata": {},
   "source": [
    "- 元のウエハ画像"
   ]
  },
  {
   "cell_type": "code",
   "execution_count": 31,
   "metadata": {},
   "outputs": [
    {
     "data": {
      "text/plain": [
       "<matplotlib.image.AxesImage at 0x7f8cacef9780>"
      ]
     },
     "execution_count": 31,
     "metadata": {},
     "output_type": "execute_result"
    },
    {
     "data": {
      "image/png": "[encoded data removed]",
      "text/plain": [
       "<Figure size 432x288 with 1 Axes>"
      ]
     },
     "metadata": {},
     "output_type": "display_data"
    }
   ],
   "source": [
    "# check original faulty wafer data\n",
    "plt.imshow(np.argmax(new_x[3], axis=2))"
   ]
  },
  {
   "cell_type": "markdown",
   "metadata": {},
   "source": [
    "- ノイズが付加されたウエハ画像"
   ]
  },
  {
   "cell_type": "code",
   "execution_count": 32,
   "metadata": {},
   "outputs": [
    {
     "data": {
      "text/plain": [
       "<matplotlib.image.AxesImage at 0x7f8cad06f400>"
      ]
     },
     "execution_count": 32,
     "metadata": {},
     "output_type": "execute_result"
    },
    {
     "data": {
      "image/png": "[encoded data removed]",
      "text/plain": [
       "<Figure size 432x288 with 1 Axes>"
      ]
     },
     "metadata": {},
     "output_type": "display_data"
    }
   ],
   "source": [
    "# check new noised faulty wafer data\n",
    "noised_gen_x = np.argmax(decoder.predict(noised_encoded_x), axis=3)\n",
    "plt.imshow(noised_gen_x[3])"
   ]
  },
  {
   "cell_type": "markdown",
   "metadata": {},
   "source": [
    "### データオーギュメンテーション"
   ]
  },
  {
   "cell_type": "markdown",
   "metadata": {},
   "source": [
    "- データオーギュメンテーションを行う関数を定義する．\n",
    "- 鏡映，回転を行う"
   ]
  },
  {
   "cell_type": "code",
   "execution_count": 33,
   "metadata": {},
   "outputs": [],
   "source": [
    "# augment function define (add rotate, flip)\n",
    "def gen_data(wafer, label):\n",
    "    # Encode input wafer\n",
    "    #encoded_x = encoder.predict(wafer)\n",
    "    \n",
    "    # dummy array for collecting noised wafer\n",
    "    gen_x = np.zeros((1, 26, 26, 3))\n",
    "    aug_x = np.zeros((1, 26, 26, 3))\n",
    "    \n",
    "    datagen = ImageDataGenerator(rotation_range = 90, horizontal_flip = True, vertical_flip = True)\n",
    "    \n",
    "    ite = 20 if label != 'none' else 2\n",
    "    \n",
    "    gen = datagen.flow(wafer, batch_size = len(wafer))\n",
    "    for i in range(ite):\n",
    "        data = next(gen)\n",
    "        #print(data.shape)\n",
    "        aug_x = np.concatenate((aug_x, data), axis = 0)\n",
    "        '''\n",
    "        for j, img in enumerate(data):\n",
    "            plot_num = j+1\n",
    "            plt.subplot(4, 5, plot_num)\n",
    "            plt.tick_params(labelbottom=False)\n",
    "            plt.tick_params(labelleft=False)\n",
    "            plt.imshow(img)\n",
    "        plt.show()\n",
    "        '''\n",
    "    encoded_x = encoder.predict(aug_x)\n",
    "    print(encoded_x.shape)\n",
    "        \n",
    "    \n",
    "    # Make wafer until total # of wafer to 15000\n",
    "    if label != 'none':\n",
    "        for i in range((40000//len(encoded_x)) + 1):\n",
    "            noised_encoded_x = encoded_x + np.random.normal(loc=0, scale=0.1, size = (len(encoded_x), 13, 13, 64)) \n",
    "            noised_gen_x = decoder.predict(noised_encoded_x)\n",
    "            gen_x = np.concatenate((gen_x, noised_gen_x), axis=0)\n",
    "    else:\n",
    "        gen_x = aug_x\n",
    "        \n",
    "    # also make label vector with same length\n",
    "    gen_y = np.full((len(gen_x), 1), label)\n",
    "    \n",
    "    # return date without 1st dummy data.\n",
    "    return gen_x[1:], gen_y[1:]"
   ]
  },
  {
   "cell_type": "markdown",
   "metadata": {},
   "source": [
    "- 不良ラベルが付いているデータに対してデータオーギュメンテーションを行う．"
   ]
  },
  {
   "cell_type": "code",
   "execution_count": 36,
   "metadata": {},
   "outputs": [
    {
     "name": "stdout",
     "output_type": "stream",
     "text": [
      "(1801, 13, 13, 64)\n",
      "(21, 13, 13, 64)\n",
      "(5921, 13, 13, 64)\n",
      "(621, 13, 13, 64)\n",
      "(5941, 13, 13, 64)\n",
      "(321, 13, 13, 64)\n",
      "(1481, 13, 13, 64)\n",
      "(1441, 13, 13, 64)\n",
      "(26979, 13, 13, 64)\n"
     ]
    }
   ],
   "source": [
    "# Augmentation for all faulty case.\n",
    "for f in faulty_case : \n",
    "    # skip none case\n",
    "    #if f == 'none' : \n",
    "    #    continue\n",
    "    \n",
    "    gen_x, gen_y = gen_data(new_x[np.where(y==f)[0]], f)\n",
    "    new_x = np.concatenate((new_x, gen_x), axis=0)\n",
    "    y = np.concatenate((y, gen_y))"
   ]
  },
  {
   "cell_type": "code",
   "execution_count": 37,
   "metadata": {},
   "outputs": [
    {
     "name": "stdout",
     "output_type": "stream",
     "text": [
      "After Generate new_x shape : (368112, 26, 26, 3), new_y shape : (368112, 1)\n"
     ]
    }
   ],
   "source": [
    "print('After Generate new_x shape : {}, new_y shape : {}'.format(new_x.shape, y.shape))"
   ]
  },
  {
   "cell_type": "code",
   "execution_count": 38,
   "metadata": {},
   "outputs": [
    {
     "name": "stdout",
     "output_type": "stream",
     "text": [
      "Center : 41513\n",
      "Donut : 40006\n",
      "Edge-Loc : 41743\n",
      "Edge-Ring : 40396\n",
      "Loc : 41884\n",
      "Near-full : 40141\n",
      "Random : 41542\n",
      "Scratch : 40420\n",
      "none : 40467\n"
     ]
    }
   ],
   "source": [
    "for f in faulty_case :\n",
    "    print('{} : {}'.format(f, len(y[y==f])))"
   ]
  },
  {
   "cell_type": "markdown",
   "metadata": {},
   "source": [
    "- データオーギュメンテーションを行った結果，各不良データごとに約40000枚に増えた．\n",
    "- 合計は368112枚となった．"
   ]
  },
  {
   "cell_type": "code",
   "execution_count": 39,
   "metadata": {},
   "outputs": [],
   "source": [
    "new_y = y"
   ]
  },
  {
   "cell_type": "markdown",
   "metadata": {},
   "source": [
    "### 学習を行う\n",
    "- 不良ラベルを0-8の9次元のベクトルとして表現する．\n",
    "- one-hotエンコーディングを行っている．"
   ]
  },
  {
   "cell_type": "code",
   "execution_count": 40,
   "metadata": {},
   "outputs": [],
   "source": [
    "for i, l in enumerate(faulty_case):\n",
    "    new_y[new_y==l] = i"
   ]
  },
  {
   "cell_type": "code",
   "execution_count": 41,
   "metadata": {},
   "outputs": [],
   "source": [
    "# one-hot-encoding\n",
    "new_y = to_categorical(new_y)"
   ]
  },
  {
   "cell_type": "code",
   "execution_count": 42,
   "metadata": {},
   "outputs": [],
   "source": [
    "new_X=new_x\n",
    "new_Y=new_y"
   ]
  },
  {
   "cell_type": "markdown",
   "metadata": {},
   "source": [
    "- 学習データとテストデータに分割する．"
   ]
  },
  {
   "cell_type": "code",
   "execution_count": 43,
   "metadata": {},
   "outputs": [],
   "source": [
    "x_train, x_test, y_train, y_test = train_test_split(new_X, new_Y,\n",
    "                                                    test_size=0.33,\n",
    "                                                    random_state=2019)"
   ]
  },
  {
   "cell_type": "code",
   "execution_count": 44,
   "metadata": {},
   "outputs": [
    {
     "name": "stdout",
     "output_type": "stream",
     "text": [
      "Train x : (246635, 26, 26, 3), y : (246635, 9)\n",
      "Test x: (121477, 26, 26, 3), y : (121477, 9)\n"
     ]
    }
   ],
   "source": [
    "print('Train x : {}, y : {}'.format(x_train.shape, y_train.shape))\n",
    "print('Test x: {}, y : {}'.format(x_test.shape, y_test.shape))"
   ]
  },
  {
   "cell_type": "markdown",
   "metadata": {},
   "source": [
    "- 学習データ246635枚，テストデータ121477枚．"
   ]
  },
  {
   "cell_type": "markdown",
   "metadata": {},
   "source": [
    "- モデルの定義を行う．"
   ]
  },
  {
   "cell_type": "code",
   "execution_count": 45,
   "metadata": {},
   "outputs": [],
   "source": [
    "input_shape = (26, 26, 3)\n",
    "input_tensor = Input(input_shape)\n",
    "\n",
    "def create_model():\n",
    "    global input_tensor\n",
    "    \n",
    "    conv = layers.Conv2D(32, (3,3), activation='relu', name='conv1')(input_tensor)\n",
    "    padding = layers.ZeroPadding2D(padding=(1, 1), name='padding1')(conv)\n",
    "    conv = layers.Conv2D(64, (3,3), activation='relu', name='conv2')(padding)\n",
    "    padding = layers.ZeroPadding2D(padding=(1, 1), name='padding2')(conv)\n",
    "    conv = layers.Conv2D(128, (3,3), activation='relu', name='conv3')(padding)\n",
    "    padding = layers.ZeroPadding2D(padding=(1, 1), name='padding3')(conv)\n",
    "    conv_out = layers.Conv2D(256, (3,3), activation='relu', name='conv4')(padding)\n",
    "\n",
    "    gap_layer = layers.GlobalAveragePooling2D(name='GAP')\n",
    "    output_layer = layers.Dense(9, activation='softmax', name='output')\n",
    "\n",
    "    aver_pool = gap_layer(conv_out)\n",
    "    output_tensor = output_layer(aver_pool)\n",
    "\n",
    "    model = models.Model(input_tensor, output_tensor)\n",
    "\n",
    "    model.compile(optimizer='Adam',\n",
    "             loss='categorical_crossentropy',\n",
    "             metrics=['accuracy'])\n",
    "\n",
    "    return model"
   ]
  },
  {
   "cell_type": "markdown",
   "metadata": {},
   "source": [
    "- 3-Fold Cross validationで分割して学習する．"
   ]
  },
  {
   "cell_type": "code",
   "execution_count": 46,
   "metadata": {
    "scrolled": true
   },
   "outputs": [
    {
     "name": "stdout",
     "output_type": "stream",
     "text": [
      "Epoch 1/30\n",
      "164423/164423 [==============================] - 26s 157us/step - loss: 0.8938 - acc: 0.6555\n",
      "Epoch 2/30\n",
      "164423/164423 [==============================] - 25s 151us/step - loss: 0.6510 - acc: 0.7506\n",
      "Epoch 3/30\n",
      "164423/164423 [==============================] - 25s 151us/step - loss: 0.5699 - acc: 0.7888\n",
      "Epoch 4/30\n",
      "164423/164423 [==============================] - 25s 151us/step - loss: 0.5115 - acc: 0.8157\n",
      "Epoch 5/30\n",
      "164423/164423 [==============================] - 25s 151us/step - loss: 0.4732 - acc: 0.8314\n",
      "Epoch 6/30\n",
      "164423/164423 [==============================] - 25s 152us/step - loss: 0.4303 - acc: 0.8468\n",
      "Epoch 7/30\n",
      "164423/164423 [==============================] - 25s 151us/step - loss: 0.3973 - acc: 0.8576\n",
      "Epoch 8/30\n",
      "164423/164423 [==============================] - 25s 151us/step - loss: 0.3736 - acc: 0.8661\n",
      "Epoch 9/30\n",
      "164423/164423 [==============================] - 25s 151us/step - loss: 0.3504 - acc: 0.8738\n",
      "Epoch 10/30\n",
      "164423/164423 [==============================] - 25s 152us/step - loss: 0.3334 - acc: 0.8799\n",
      "Epoch 11/30\n",
      "164423/164423 [==============================] - 25s 152us/step - loss: 0.3162 - acc: 0.8860\n",
      "Epoch 12/30\n",
      "164423/164423 [==============================] - 25s 151us/step - loss: 0.3046 - acc: 0.8894\n",
      "Epoch 13/30\n",
      "164423/164423 [==============================] - 25s 151us/step - loss: 0.2898 - acc: 0.8947\n",
      "Epoch 14/30\n",
      "164423/164423 [==============================] - 25s 152us/step - loss: 0.2844 - acc: 0.8969\n",
      "Epoch 15/30\n",
      "164423/164423 [==============================] - 25s 152us/step - loss: 0.2703 - acc: 0.9015\n",
      "Epoch 16/30\n",
      "164423/164423 [==============================] - 25s 151us/step - loss: 0.2625 - acc: 0.9053\n",
      "Epoch 17/30\n",
      "164423/164423 [==============================] - 25s 151us/step - loss: 0.2553 - acc: 0.9074\n",
      "Epoch 18/30\n",
      "164423/164423 [==============================] - 25s 151us/step - loss: 0.2507 - acc: 0.9091\n",
      "Epoch 19/30\n",
      "164423/164423 [==============================] - 25s 152us/step - loss: 0.2351 - acc: 0.9146\n",
      "Epoch 20/30\n",
      "164423/164423 [==============================] - 25s 152us/step - loss: 0.2264 - acc: 0.9177\n",
      "Epoch 21/30\n",
      "164423/164423 [==============================] - 25s 152us/step - loss: 0.2246 - acc: 0.9185\n",
      "Epoch 22/30\n",
      "164423/164423 [==============================] - 25s 152us/step - loss: 0.2186 - acc: 0.9207\n",
      "Epoch 23/30\n",
      "164423/164423 [==============================] - 25s 152us/step - loss: 0.2098 - acc: 0.9246\n",
      "Epoch 24/30\n",
      "164423/164423 [==============================] - 25s 152us/step - loss: 0.2090 - acc: 0.9249\n",
      "Epoch 25/30\n",
      "164423/164423 [==============================] - 25s 152us/step - loss: 0.1982 - acc: 0.9287\n",
      "Epoch 26/30\n",
      "164423/164423 [==============================] - 25s 152us/step - loss: 0.1947 - acc: 0.9298\n",
      "Epoch 27/30\n",
      "164423/164423 [==============================] - 25s 152us/step - loss: 0.1879 - acc: 0.9325\n",
      "Epoch 28/30\n",
      "164423/164423 [==============================] - 25s 151us/step - loss: 0.1883 - acc: 0.9329\n",
      "Epoch 29/30\n",
      "164423/164423 [==============================] - 25s 151us/step - loss: 0.1775 - acc: 0.9368\n",
      "Epoch 30/30\n",
      "164423/164423 [==============================] - 25s 151us/step - loss: 0.1738 - acc: 0.9380\n",
      "82212/82212 [==============================] - 5s 57us/step\n",
      "Epoch 1/30\n",
      "164423/164423 [==============================] - 25s 155us/step - loss: 0.9109 - acc: 0.6491\n",
      "Epoch 2/30\n",
      "164423/164423 [==============================] - 25s 152us/step - loss: 0.6695 - acc: 0.7470\n",
      "Epoch 3/30\n",
      "164423/164423 [==============================] - 25s 153us/step - loss: 0.5765 - acc: 0.7865\n",
      "Epoch 4/30\n",
      "164423/164423 [==============================] - 25s 152us/step - loss: 0.5338 - acc: 0.8057\n",
      "Epoch 5/30\n",
      "164423/164423 [==============================] - 25s 152us/step - loss: 0.4870 - acc: 0.8239\n",
      "Epoch 6/30\n",
      "164423/164423 [==============================] - 25s 152us/step - loss: 0.4570 - acc: 0.8364\n",
      "Epoch 7/30\n",
      "164423/164423 [==============================] - 25s 152us/step - loss: 0.4190 - acc: 0.8503\n",
      "Epoch 8/30\n",
      "164423/164423 [==============================] - 25s 152us/step - loss: 0.3884 - acc: 0.8613\n",
      "Epoch 9/30\n",
      "164423/164423 [==============================] - 25s 152us/step - loss: 0.3658 - acc: 0.8691\n",
      "Epoch 10/30\n",
      "164423/164423 [==============================] - 25s 152us/step - loss: 0.3425 - acc: 0.8776\n",
      "Epoch 11/30\n",
      "164423/164423 [==============================] - 25s 152us/step - loss: 0.3256 - acc: 0.8832\n",
      "Epoch 12/30\n",
      "164423/164423 [==============================] - 25s 152us/step - loss: 0.3106 - acc: 0.8881\n",
      "Epoch 13/30\n",
      "164423/164423 [==============================] - 25s 152us/step - loss: 0.2952 - acc: 0.8934\n",
      "Epoch 14/30\n",
      "164423/164423 [==============================] - 25s 152us/step - loss: 0.2843 - acc: 0.8983\n",
      "Epoch 15/30\n",
      "164423/164423 [==============================] - 25s 152us/step - loss: 0.2799 - acc: 0.8994\n",
      "Epoch 16/30\n",
      "164423/164423 [==============================] - 25s 152us/step - loss: 0.2674 - acc: 0.9033\n",
      "Epoch 17/30\n",
      "164423/164423 [==============================] - 25s 152us/step - loss: 0.2588 - acc: 0.9074\n",
      "Epoch 18/30\n",
      "164423/164423 [==============================] - 25s 152us/step - loss: 0.2445 - acc: 0.9124\n",
      "Epoch 19/30\n",
      "164423/164423 [==============================] - 25s 152us/step - loss: 0.2411 - acc: 0.9140\n",
      "Epoch 20/30\n",
      "164423/164423 [==============================] - 25s 152us/step - loss: 0.2280 - acc: 0.9185\n",
      "Epoch 21/30\n",
      "164423/164423 [==============================] - 25s 152us/step - loss: 0.2252 - acc: 0.9199\n",
      "Epoch 22/30\n",
      "164423/164423 [==============================] - 25s 152us/step - loss: 0.2173 - acc: 0.9226\n",
      "Epoch 23/30\n",
      "164423/164423 [==============================] - 25s 152us/step - loss: 0.2120 - acc: 0.9239\n",
      "Epoch 24/30\n",
      "164423/164423 [==============================] - 25s 152us/step - loss: 0.1981 - acc: 0.9296\n",
      "Epoch 25/30\n",
      "164423/164423 [==============================] - 25s 152us/step - loss: 0.1905 - acc: 0.9324\n",
      "Epoch 26/30\n",
      "164423/164423 [==============================] - 25s 152us/step - loss: 0.1876 - acc: 0.9342\n",
      "Epoch 27/30\n",
      "164423/164423 [==============================] - 25s 152us/step - loss: 0.1754 - acc: 0.9377\n",
      "Epoch 28/30\n",
      "164423/164423 [==============================] - 25s 151us/step - loss: 0.1706 - acc: 0.9384\n",
      "Epoch 29/30\n",
      "164423/164423 [==============================] - 25s 152us/step - loss: 0.1639 - acc: 0.9419\n",
      "Epoch 30/30\n",
      "164423/164423 [==============================] - 25s 152us/step - loss: 0.1607 - acc: 0.9426\n",
      "82212/82212 [==============================] - 5s 57us/step\n",
      "Epoch 1/30\n",
      "164424/164424 [==============================] - 26s 156us/step - loss: 0.9051 - acc: 0.6510\n",
      "Epoch 2/30\n",
      "164424/164424 [==============================] - 25s 152us/step - loss: 0.6484 - acc: 0.7532\n",
      "Epoch 3/30\n",
      "164424/164424 [==============================] - 25s 152us/step - loss: 0.5702 - acc: 0.7871\n",
      "Epoch 4/30\n",
      "164424/164424 [==============================] - 25s 152us/step - loss: 0.5172 - acc: 0.8101\n",
      "Epoch 5/30\n",
      "164424/164424 [==============================] - 25s 153us/step - loss: 0.4650 - acc: 0.8326\n",
      "Epoch 6/30\n",
      "164424/164424 [==============================] - 25s 152us/step - loss: 0.4252 - acc: 0.8471\n",
      "Epoch 7/30\n",
      "164424/164424 [==============================] - 25s 152us/step - loss: 0.3815 - acc: 0.8632\n",
      "Epoch 8/30\n",
      "164424/164424 [==============================] - 25s 153us/step - loss: 0.3639 - acc: 0.8689\n",
      "Epoch 9/30\n",
      "164424/164424 [==============================] - 25s 152us/step - loss: 0.3376 - acc: 0.8781\n",
      "Epoch 10/30\n",
      "164424/164424 [==============================] - 25s 152us/step - loss: 0.3211 - acc: 0.8849\n",
      "Epoch 11/30\n",
      "164424/164424 [==============================] - 25s 152us/step - loss: 0.3098 - acc: 0.8883\n",
      "Epoch 12/30\n",
      "164424/164424 [==============================] - 25s 152us/step - loss: 0.2960 - acc: 0.8939\n",
      "Epoch 13/30\n",
      "164424/164424 [==============================] - 25s 152us/step - loss: 0.2787 - acc: 0.8993\n",
      "Epoch 14/30\n",
      "164424/164424 [==============================] - 25s 152us/step - loss: 0.2770 - acc: 0.9004\n",
      "Epoch 15/30\n",
      "164424/164424 [==============================] - 25s 152us/step - loss: 0.2650 - acc: 0.9040\n",
      "Epoch 16/30\n",
      "164424/164424 [==============================] - 25s 152us/step - loss: 0.2532 - acc: 0.9087\n",
      "Epoch 17/30\n",
      "164424/164424 [==============================] - 25s 152us/step - loss: 0.2493 - acc: 0.9103\n",
      "Epoch 18/30\n"
     ]
    },
    {
     "name": "stdout",
     "output_type": "stream",
     "text": [
      "164424/164424 [==============================] - 25s 152us/step - loss: 0.2412 - acc: 0.9134\n",
      "Epoch 19/30\n",
      "164424/164424 [==============================] - 25s 152us/step - loss: 0.2289 - acc: 0.9178\n",
      "Epoch 20/30\n",
      "164424/164424 [==============================] - 25s 152us/step - loss: 0.2194 - acc: 0.9214\n",
      "Epoch 21/30\n",
      "164424/164424 [==============================] - 25s 152us/step - loss: 0.2183 - acc: 0.9220\n",
      "Epoch 22/30\n",
      "164424/164424 [==============================] - 25s 152us/step - loss: 0.2089 - acc: 0.9255\n",
      "Epoch 23/30\n",
      "164424/164424 [==============================] - 25s 152us/step - loss: 0.2006 - acc: 0.9284\n",
      "Epoch 24/30\n",
      "164424/164424 [==============================] - 25s 152us/step - loss: 0.1973 - acc: 0.9290\n",
      "Epoch 25/30\n",
      "164424/164424 [==============================] - 25s 151us/step - loss: 0.1915 - acc: 0.9314\n",
      "Epoch 26/30\n",
      "164424/164424 [==============================] - 25s 152us/step - loss: 0.1813 - acc: 0.9356\n",
      "Epoch 27/30\n",
      "164424/164424 [==============================] - 25s 152us/step - loss: 0.1834 - acc: 0.9347\n",
      "Epoch 28/30\n",
      "164424/164424 [==============================] - 25s 152us/step - loss: 0.1773 - acc: 0.9371\n",
      "Epoch 29/30\n",
      "164424/164424 [==============================] - 25s 152us/step - loss: 0.1684 - acc: 0.9402\n",
      "Epoch 30/30\n",
      "164424/164424 [==============================] - 25s 152us/step - loss: 0.1648 - acc: 0.9418\n",
      "82211/82211 [==============================] - 5s 59us/step\n",
      "Class Activation Map Cross validation score : 0.9356\n"
     ]
    }
   ],
   "source": [
    "model = KerasClassifier(build_fn=create_model, epochs=30, batch_size=512, verbose=1) \n",
    "# 3-Fold Crossvalidation\n",
    "kfold = KFold(n_splits=3, shuffle=True, random_state=2019) \n",
    "results = cross_val_score(model, x_train, y_train, cv=kfold)\n",
    "# Check 3-fold model's mean accuracy\n",
    "print('Class Activation Map Cross validation score : {:.4f}'.format(np.mean(results)))"
   ]
  },
  {
   "cell_type": "markdown",
   "metadata": {},
   "source": [
    "- Cross validiationによる精度は99.10%であった．"
   ]
  },
  {
   "cell_type": "markdown",
   "metadata": {},
   "source": [
    "- Cross validationなしで学習する．"
   ]
  },
  {
   "cell_type": "code",
   "execution_count": 47,
   "metadata": {
    "scrolled": true
   },
   "outputs": [
    {
     "name": "stdout",
     "output_type": "stream",
     "text": [
      "Train on 246635 samples, validate on 121477 samples\n",
      "Epoch 1/50\n",
      "246635/246635 [==============================] - 45s 183us/step - loss: 0.8283 - acc: 0.6811 - val_loss: 0.6352 - val_acc: 0.7616\n",
      "Epoch 2/50\n",
      "246635/246635 [==============================] - 44s 179us/step - loss: 0.5992 - acc: 0.7755 - val_loss: 0.5500 - val_acc: 0.7961\n",
      "Epoch 3/50\n",
      "246635/246635 [==============================] - 44s 179us/step - loss: 0.5176 - acc: 0.8129 - val_loss: 0.4764 - val_acc: 0.8267\n",
      "Epoch 4/50\n",
      "246635/246635 [==============================] - 44s 179us/step - loss: 0.4519 - acc: 0.8375 - val_loss: 0.4377 - val_acc: 0.8498\n",
      "Epoch 5/50\n",
      "246635/246635 [==============================] - 44s 179us/step - loss: 0.3996 - acc: 0.8575 - val_loss: 0.3767 - val_acc: 0.8656\n",
      "Epoch 6/50\n",
      "246635/246635 [==============================] - 44s 179us/step - loss: 0.3625 - acc: 0.8703 - val_loss: 0.3469 - val_acc: 0.8750\n",
      "Epoch 7/50\n",
      "246635/246635 [==============================] - 44s 179us/step - loss: 0.3351 - acc: 0.8796 - val_loss: 0.3071 - val_acc: 0.8916\n",
      "Epoch 8/50\n",
      "246635/246635 [==============================] - 44s 179us/step - loss: 0.3078 - acc: 0.8895 - val_loss: 0.3116 - val_acc: 0.8910\n",
      "Epoch 9/50\n",
      "246635/246635 [==============================] - 44s 179us/step - loss: 0.2862 - acc: 0.8975 - val_loss: 0.2816 - val_acc: 0.8979\n",
      "Epoch 10/50\n",
      "246635/246635 [==============================] - 44s 178us/step - loss: 0.2761 - acc: 0.9007 - val_loss: 0.2895 - val_acc: 0.8915\n",
      "Epoch 11/50\n",
      "246635/246635 [==============================] - 44s 178us/step - loss: 0.2597 - acc: 0.9064 - val_loss: 0.2516 - val_acc: 0.9097\n",
      "Epoch 12/50\n",
      "246635/246635 [==============================] - 44s 179us/step - loss: 0.2469 - acc: 0.9124 - val_loss: 0.2428 - val_acc: 0.9127\n",
      "Epoch 13/50\n",
      "246635/246635 [==============================] - 44s 178us/step - loss: 0.2349 - acc: 0.9163 - val_loss: 0.2323 - val_acc: 0.9166\n",
      "Epoch 14/50\n",
      "246635/246635 [==============================] - 44s 178us/step - loss: 0.2254 - acc: 0.9195 - val_loss: 0.2790 - val_acc: 0.8969\n",
      "Epoch 15/50\n",
      "246635/246635 [==============================] - 44s 179us/step - loss: 0.2141 - acc: 0.9241 - val_loss: 0.1922 - val_acc: 0.9331\n",
      "Epoch 16/50\n",
      "246635/246635 [==============================] - 44s 178us/step - loss: 0.2041 - acc: 0.9273 - val_loss: 0.2015 - val_acc: 0.9292\n",
      "Epoch 17/50\n",
      "246635/246635 [==============================] - 44s 179us/step - loss: 0.1917 - acc: 0.9320 - val_loss: 0.1892 - val_acc: 0.9310\n",
      "Epoch 18/50\n",
      "246635/246635 [==============================] - 44s 179us/step - loss: 0.1849 - acc: 0.9344 - val_loss: 0.1979 - val_acc: 0.9293\n",
      "Epoch 19/50\n",
      "246635/246635 [==============================] - 44s 178us/step - loss: 0.1809 - acc: 0.9357 - val_loss: 0.1851 - val_acc: 0.9348\n",
      "Epoch 20/50\n",
      "246635/246635 [==============================] - 44s 178us/step - loss: 0.1688 - acc: 0.9407 - val_loss: 0.1957 - val_acc: 0.9280\n",
      "Epoch 21/50\n",
      "246635/246635 [==============================] - 44s 179us/step - loss: 0.1656 - acc: 0.9415 - val_loss: 0.1778 - val_acc: 0.9337\n",
      "Epoch 22/50\n",
      "246635/246635 [==============================] - 44s 178us/step - loss: 0.1565 - acc: 0.9448 - val_loss: 0.1477 - val_acc: 0.9490\n",
      "Epoch 23/50\n",
      "246635/246635 [==============================] - 44s 179us/step - loss: 0.1542 - acc: 0.9465 - val_loss: 0.1488 - val_acc: 0.9474\n",
      "Epoch 24/50\n",
      "246635/246635 [==============================] - 44s 178us/step - loss: 0.1402 - acc: 0.9506 - val_loss: 0.1396 - val_acc: 0.9513\n",
      "Epoch 25/50\n",
      "246635/246635 [==============================] - 44s 178us/step - loss: 0.1343 - acc: 0.9525 - val_loss: 0.1460 - val_acc: 0.9473\n",
      "Epoch 26/50\n",
      "246635/246635 [==============================] - 44s 178us/step - loss: 0.1320 - acc: 0.9535 - val_loss: 0.1295 - val_acc: 0.9545\n",
      "Epoch 27/50\n",
      "246635/246635 [==============================] - 44s 178us/step - loss: 0.1259 - acc: 0.9557 - val_loss: 0.1187 - val_acc: 0.9592\n",
      "Epoch 28/50\n",
      "246635/246635 [==============================] - 44s 178us/step - loss: 0.1192 - acc: 0.9582 - val_loss: 0.1138 - val_acc: 0.9615\n",
      "Epoch 29/50\n",
      "246635/246635 [==============================] - 44s 179us/step - loss: 0.1120 - acc: 0.9606 - val_loss: 0.1183 - val_acc: 0.9596\n",
      "Epoch 30/50\n",
      "246635/246635 [==============================] - 44s 178us/step - loss: 0.1063 - acc: 0.9627 - val_loss: 0.1134 - val_acc: 0.9592\n",
      "Epoch 31/50\n",
      "246635/246635 [==============================] - 44s 178us/step - loss: 0.1046 - acc: 0.9633 - val_loss: 0.1131 - val_acc: 0.9592\n",
      "Epoch 32/50\n",
      "246635/246635 [==============================] - 44s 178us/step - loss: 0.0958 - acc: 0.9667 - val_loss: 0.0993 - val_acc: 0.9649\n",
      "Epoch 33/50\n",
      "246635/246635 [==============================] - 44s 178us/step - loss: 0.0946 - acc: 0.9667 - val_loss: 0.0898 - val_acc: 0.9688\n",
      "Epoch 34/50\n",
      "246635/246635 [==============================] - 44s 178us/step - loss: 0.0896 - acc: 0.9689 - val_loss: 0.0963 - val_acc: 0.9660\n",
      "Epoch 35/50\n",
      "246635/246635 [==============================] - 44s 178us/step - loss: 0.0847 - acc: 0.9706 - val_loss: 0.0933 - val_acc: 0.9676\n",
      "Epoch 36/50\n",
      "246635/246635 [==============================] - 44s 179us/step - loss: 0.0794 - acc: 0.9725 - val_loss: 0.0839 - val_acc: 0.9703\n",
      "Epoch 37/50\n",
      "246635/246635 [==============================] - 44s 178us/step - loss: 0.0746 - acc: 0.9744 - val_loss: 0.0819 - val_acc: 0.9714\n",
      "Epoch 38/50\n",
      "246635/246635 [==============================] - 44s 178us/step - loss: 0.0736 - acc: 0.9749 - val_loss: 0.0956 - val_acc: 0.9656\n",
      "Epoch 39/50\n",
      "246635/246635 [==============================] - 44s 178us/step - loss: 0.0672 - acc: 0.9772 - val_loss: 0.0654 - val_acc: 0.9775\n",
      "Epoch 40/50\n",
      "246635/246635 [==============================] - 44s 178us/step - loss: 0.0665 - acc: 0.9774 - val_loss: 0.0887 - val_acc: 0.9681\n",
      "Epoch 41/50\n",
      "246635/246635 [==============================] - 44s 178us/step - loss: 0.0626 - acc: 0.9787 - val_loss: 0.0840 - val_acc: 0.9703\n",
      "Epoch 42/50\n",
      "246635/246635 [==============================] - 44s 178us/step - loss: 0.0571 - acc: 0.9808 - val_loss: 0.0802 - val_acc: 0.9719\n",
      "Epoch 43/50\n",
      "246635/246635 [==============================] - 44s 178us/step - loss: 0.0573 - acc: 0.9806 - val_loss: 0.0663 - val_acc: 0.9773\n",
      "Epoch 44/50\n",
      "246635/246635 [==============================] - 44s 177us/step - loss: 0.0538 - acc: 0.9822 - val_loss: 0.0575 - val_acc: 0.9808\n",
      "Epoch 45/50\n",
      "246635/246635 [==============================] - 44s 178us/step - loss: 0.0516 - acc: 0.9829 - val_loss: 0.0485 - val_acc: 0.9840\n",
      "Epoch 46/50\n",
      "246635/246635 [==============================] - 44s 178us/step - loss: 0.0549 - acc: 0.9826 - val_loss: 0.0523 - val_acc: 0.9823\n",
      "Epoch 47/50\n",
      "246635/246635 [==============================] - 44s 178us/step - loss: 0.0383 - acc: 0.9878 - val_loss: 0.0579 - val_acc: 0.9798\n",
      "Epoch 48/50\n",
      "246635/246635 [==============================] - 44s 178us/step - loss: 0.0448 - acc: 0.9851 - val_loss: 0.0540 - val_acc: 0.9817\n",
      "Epoch 49/50\n",
      "246635/246635 [==============================] - 44s 178us/step - loss: 0.0411 - acc: 0.9873 - val_loss: 0.0573 - val_acc: 0.9807\n",
      "Epoch 50/50\n",
      "246635/246635 [==============================] - 44s 178us/step - loss: 0.0390 - acc: 0.9879 - val_loss: 0.0863 - val_acc: 0.9687\n"
     ]
    }
   ],
   "source": [
    "history = model.fit(x_train, y_train,\n",
    "         validation_data=[x_test, y_test],\n",
    "         epochs=50,\n",
    "         batch_size=512,\n",
    "         verbose=1\n",
    "         )"
   ]
  },
  {
   "cell_type": "markdown",
   "metadata": {},
   "source": [
    "- テストデータで評価．    "
   ]
  },
  {
   "cell_type": "code",
   "execution_count": 48,
   "metadata": {},
   "outputs": [
    {
     "name": "stdout",
     "output_type": "stream",
     "text": [
      "121477/121477 [==============================] - 7s 55us/step\n",
      "Testing Accuracy: 0.9687348222586718\n"
     ]
    }
   ],
   "source": [
    "score = model.score(x_test, y_test)\n",
    "#print('Test Loss:', score[0])\n",
    "#print('Test accuracy:', score[1])\n",
    "print('Testing Accuracy:',score)"
   ]
  },
  {
   "cell_type": "markdown",
   "metadata": {},
   "source": [
    "- モデルは以下．\n",
    "    - 入力層\n",
    "    - 畳み込み層3つ\n",
    "    - Flatten層（1次元に）\n",
    "    - 全結合層3つ"
   ]
  },
  {
   "cell_type": "code",
   "execution_count": 49,
   "metadata": {
    "scrolled": true
   },
   "outputs": [
    {
     "name": "stdout",
     "output_type": "stream",
     "text": [
      "_________________________________________________________________\n",
      "Layer (type)                 Output Shape              Param #   \n",
      "=================================================================\n",
      "input_3 (InputLayer)         (None, 26, 26, 3)         0         \n",
      "_________________________________________________________________\n",
      "conv1 (Conv2D)               (None, 24, 24, 32)        896       \n",
      "_________________________________________________________________\n",
      "padding1 (ZeroPadding2D)     (None, 26, 26, 32)        0         \n",
      "_________________________________________________________________\n",
      "conv2 (Conv2D)               (None, 24, 24, 64)        18496     \n",
      "_________________________________________________________________\n",
      "padding2 (ZeroPadding2D)     (None, 26, 26, 64)        0         \n",
      "_________________________________________________________________\n",
      "conv3 (Conv2D)               (None, 24, 24, 128)       73856     \n",
      "_________________________________________________________________\n",
      "padding3 (ZeroPadding2D)     (None, 26, 26, 128)       0         \n",
      "_________________________________________________________________\n",
      "conv4 (Conv2D)               (None, 24, 24, 256)       295168    \n",
      "_________________________________________________________________\n",
      "GAP (GlobalAveragePooling2D) (None, 256)               0         \n",
      "_________________________________________________________________\n",
      "output (Dense)               (None, 9)                 2313      \n",
      "=================================================================\n",
      "Total params: 390,729\n",
      "Trainable params: 390,729\n",
      "Non-trainable params: 0\n",
      "_________________________________________________________________\n"
     ]
    }
   ],
   "source": [
    "model.model.summary()"
   ]
  },
  {
   "cell_type": "markdown",
   "metadata": {},
   "source": [
    "- accuracyグラフ，lossグラフは以下．\n",
    "- 5epoch程度で落ち着いている．"
   ]
  },
  {
   "cell_type": "code",
   "execution_count": 50,
   "metadata": {},
   "outputs": [
    {
     "data": {
      "image/png": "[encoded data removed]",
      "text/plain": [
       "<Figure size 432x288 with 1 Axes>"
      ]
     },
     "metadata": {},
     "output_type": "display_data"
    },
    {
     "data": {
      "image/png": "[encoded data removed]",
      "text/plain": [
       "<Figure size 432x288 with 1 Axes>"
      ]
     },
     "metadata": {},
     "output_type": "display_data"
    }
   ],
   "source": [
    "# accuracy plot \n",
    "plt.plot(history.history['acc'])\n",
    "plt.plot(history.history['val_acc'])\n",
    "plt.title('model accuracy')\n",
    "plt.ylabel('accuracy')\n",
    "plt.xlabel('epoch')\n",
    "plt.legend(['train', 'test'], loc='upper left')\n",
    "plt.show()\n",
    "\n",
    "# loss plot\n",
    "plt.plot(history.history['loss'])\n",
    "plt.plot(history.history['val_loss'])\n",
    "plt.title('model loss')\n",
    "plt.ylabel('loss')\n",
    "plt.xlabel('epoch')\n",
    "plt.legend(['train', 'test'], loc='upper left')\n",
    "plt.show()"
   ]
  },
  {
   "cell_type": "markdown",
   "metadata": {},
   "source": [
    "### クラス活性化マップ"
   ]
  },
  {
   "cell_type": "code",
   "execution_count": 51,
   "metadata": {},
   "outputs": [],
   "source": [
    "#set target wafer number\n",
    "target_wafer_num = 2\n",
    "# predict \n",
    "prob = model.model.predict(x_test[target_wafer_num].reshape(1,26,26,3))"
   ]
  },
  {
   "cell_type": "code",
   "execution_count": 52,
   "metadata": {},
   "outputs": [],
   "source": [
    "aver_output = model.model.layers[7]\n",
    "aver_model = models.Model(input_tensor, aver_output.output)\n",
    "cam_result = aver_model.predict(x_test[target_wafer_num].reshape(1, 26, 26, 3))"
   ]
  },
  {
   "cell_type": "code",
   "execution_count": 53,
   "metadata": {},
   "outputs": [],
   "source": [
    "weight_result = model.model.layers[-1].get_weights()[0]"
   ]
  },
  {
   "cell_type": "code",
   "execution_count": 54,
   "metadata": {},
   "outputs": [],
   "source": [
    "def make_cam(cam_result, weight_result): \n",
    "    cam_arr = np.zeros((1,24, 24))\n",
    "    for row in range(0,9):\n",
    "        cam = np.zeros((1, 24, 24))\n",
    "        for i, w in enumerate(weight_result[:, row]):\n",
    "            cam += (w*cam_result[0,:,:,i]).reshape(24,24)\n",
    "        cam = (cam - np.min(cam)) / (np.max(cam) - np.min(cam))\n",
    "        cam[mask_x == 0] = 0\n",
    "        cam_arr = np.concatenate((cam_arr, cam))\n",
    "    return cam_arr[1:]\n",
    "\n",
    "def display_activation(cam_arr, prob, wafer): \n",
    "    fig, ax = plt.subplots(9, 1, figsize=(50, 50))\n",
    "    count = 0\n",
    "    cam_arr[np.percentile(cam_arr, 0.8) > cam_arr] = 0\n",
    "    for row in range(0,9):\n",
    "        ax[row].imshow(np.argmax(wafer, axis=2))\n",
    "        ax[row].imshow(cam_arr[row],cmap='Reds', alpha=0.7)\n",
    "        ax[row].set_title('class : ' + faulty_case_dict[count]+', prob : {:.4f}'.format(prob[:, count][0]*100) + '%')\n",
    "        count += 1"
   ]
  },
  {
   "cell_type": "code",
   "execution_count": 55,
   "metadata": {},
   "outputs": [
    {
     "data": {
      "text/plain": [
       "'Edge-Loc'"
      ]
     },
     "execution_count": 55,
     "metadata": {},
     "output_type": "execute_result"
    }
   ],
   "source": [
    "faulty_case_dict[np.argmax(y_test[target_wafer_num])]"
   ]
  },
  {
   "cell_type": "code",
   "execution_count": 56,
   "metadata": {},
   "outputs": [
    {
     "name": "stdout",
     "output_type": "stream",
     "text": [
      "faulty case : Edge-Loc\n"
     ]
    },
    {
     "data": {
      "image/png": "[encoded data removed]",
      "text/plain": [
       "<Figure size 432x288 with 1 Axes>"
      ]
     },
     "metadata": {},
     "output_type": "display_data"
    }
   ],
   "source": [
    "plt.imshow(np.argmax(x_test[target_wafer_num], axis=2))\n",
    "print('faulty case : {}'.format(faulty_case_dict[np.argmax(y_test[target_wafer_num])]))"
   ]
  },
  {
   "cell_type": "markdown",
   "metadata": {},
   "source": [
    "- 対象のウエハの画像と不良パターンの表示"
   ]
  },
  {
   "cell_type": "code",
   "execution_count": 57,
   "metadata": {},
   "outputs": [
    {
     "data": {
      "text/plain": [
       "(1, 24, 24, 256)"
      ]
     },
     "execution_count": 57,
     "metadata": {},
     "output_type": "execute_result"
    }
   ],
   "source": [
    "cam_result.shape"
   ]
  },
  {
   "cell_type": "code",
   "execution_count": 58,
   "metadata": {},
   "outputs": [],
   "source": [
    "cam_arr = make_cam(cam_result, weight_result)"
   ]
  },
  {
   "cell_type": "code",
   "execution_count": 59,
   "metadata": {},
   "outputs": [
    {
     "data": {
      "text/plain": [
       "(1, 9)"
      ]
     },
     "execution_count": 59,
     "metadata": {},
     "output_type": "execute_result"
    }
   ],
   "source": [
    "prob.shape"
   ]
  },
  {
   "cell_type": "code",
   "execution_count": 60,
   "metadata": {},
   "outputs": [
    {
     "data": {
      "image/png": "[encoded data removed]",
      "text/plain": [
       "<Figure size 3600x3600 with 9 Axes>"
      ]
     },
     "metadata": {},
     "output_type": "display_data"
    }
   ],
   "source": [
    "display_activation(cam_arr, prob, x_test[target_wafer_num])"
   ]
  },
  {
   "cell_type": "markdown",
   "metadata": {},
   "source": [
    "- 活性化マップの表示\n",
    "- ドーナツでは円形状にヒートマップの赤い部分が点在している"
   ]
  },
  {
   "cell_type": "code",
   "execution_count": null,
   "metadata": {},
   "outputs": [],
   "source": []
  },
  {
   "cell_type": "markdown",
   "metadata": {},
   "source": [
    "### CNN"
   ]
  },
  {
   "cell_type": "code",
   "execution_count": 61,
   "metadata": {},
   "outputs": [],
   "source": [
    "input_shape = (26, 26, 3)\n",
    "input_tensor = Input(input_shape)\n",
    "def create_model():\n",
    "\n",
    "\n",
    "    conv_1 = layers.Conv2D(16, (3,3), activation='relu', padding='same')(input_tensor)\n",
    "    conv_2 = layers.Conv2D(64, (3,3), activation='relu', padding='same')(conv_1)\n",
    "    conv_3 = layers.Conv2D(128, (3,3), activation='relu', padding='same')(conv_2)\n",
    "\n",
    "    flat = layers.Flatten()(conv_3)\n",
    "\n",
    "    dense_1 = layers.Dense(512, activation='relu')(flat)\n",
    "    dense_2 = layers.Dense(128, activation='relu')(dense_1)\n",
    "    output_tensor = layers.Dense(9, activation='softmax')(dense_2)\n",
    "\n",
    "    model = models.Model(input_tensor, output_tensor)\n",
    "    model.compile(optimizer='Adam',\n",
    "                 loss='categorical_crossentropy',\n",
    "                 metrics=['accuracy'])\n",
    "\n",
    "    return model"
   ]
  },
  {
   "cell_type": "markdown",
   "metadata": {},
   "source": [
    "- 3-Fold Cross validationで分割して学習する．"
   ]
  },
  {
   "cell_type": "code",
   "execution_count": 62,
   "metadata": {
    "scrolled": true
   },
   "outputs": [
    {
     "name": "stdout",
     "output_type": "stream",
     "text": [
      "Epoch 1/30\n",
      "164423/164423 [==============================] - 19s 118us/step - loss: 0.5644 - acc: 0.7964\n",
      "Epoch 2/30\n",
      "164423/164423 [==============================] - 17s 106us/step - loss: 0.1874 - acc: 0.9375\n",
      "Epoch 3/30\n",
      "164423/164423 [==============================] - 17s 106us/step - loss: 0.2696 - acc: 0.9291\n",
      "Epoch 4/30\n",
      "164423/164423 [==============================] - 17s 105us/step - loss: 0.1160 - acc: 0.9628\n",
      "Epoch 5/30\n",
      "164423/164423 [==============================] - 17s 106us/step - loss: 0.0340 - acc: 0.9912\n",
      "Epoch 6/30\n",
      "164423/164423 [==============================] - 17s 106us/step - loss: 0.0153 - acc: 0.9962\n",
      "Epoch 7/30\n",
      "164423/164423 [==============================] - 17s 106us/step - loss: 0.0078 - acc: 0.9983\n",
      "Epoch 8/30\n",
      "164423/164423 [==============================] - 17s 105us/step - loss: 0.0316 - acc: 0.9922\n",
      "Epoch 9/30\n",
      "164423/164423 [==============================] - 17s 106us/step - loss: 0.0031 - acc: 0.9996\n",
      "Epoch 10/30\n",
      "164423/164423 [==============================] - 17s 105us/step - loss: 0.0014 - acc: 0.9999\n",
      "Epoch 11/30\n",
      "164423/164423 [==============================] - 17s 105us/step - loss: 0.0016 - acc: 0.9998\n",
      "Epoch 12/30\n",
      "164423/164423 [==============================] - 17s 105us/step - loss: 0.0016 - acc: 0.9998\n",
      "Epoch 13/30\n",
      "164423/164423 [==============================] - 17s 105us/step - loss: 0.0020 - acc: 0.9997\n",
      "Epoch 14/30\n",
      "164423/164423 [==============================] - 17s 106us/step - loss: 0.0015 - acc: 0.9998\n",
      "Epoch 15/30\n",
      "164423/164423 [==============================] - 17s 105us/step - loss: 0.0014 - acc: 0.9998\n",
      "Epoch 16/30\n",
      "164423/164423 [==============================] - 17s 105us/step - loss: 0.0012 - acc: 0.9998\n",
      "Epoch 17/30\n",
      "164423/164423 [==============================] - 17s 105us/step - loss: 0.0020 - acc: 0.9997\n",
      "Epoch 18/30\n",
      "164423/164423 [==============================] - 17s 105us/step - loss: 0.0039 - acc: 0.9992\n",
      "Epoch 19/30\n",
      "164423/164423 [==============================] - 17s 106us/step - loss: 0.0158 - acc: 0.9951\n",
      "Epoch 20/30\n",
      "164423/164423 [==============================] - 17s 105us/step - loss: 0.0055 - acc: 0.9985\n",
      "Epoch 21/30\n",
      "164423/164423 [==============================] - 17s 105us/step - loss: 0.0037 - acc: 0.9991\n",
      "Epoch 22/30\n",
      "164423/164423 [==============================] - 17s 105us/step - loss: 0.0026 - acc: 0.9994\n",
      "Epoch 23/30\n",
      "164423/164423 [==============================] - 17s 105us/step - loss: 0.0012 - acc: 0.9999\n",
      "Epoch 24/30\n",
      "164423/164423 [==============================] - 17s 105us/step - loss: 0.0012 - acc: 0.9999\n",
      "Epoch 25/30\n",
      "164423/164423 [==============================] - 17s 105us/step - loss: 9.0221e-04 - acc: 0.9999\n",
      "Epoch 26/30\n",
      "164423/164423 [==============================] - 17s 105us/step - loss: 0.0011 - acc: 0.9999\n",
      "Epoch 27/30\n",
      "164423/164423 [==============================] - 17s 105us/step - loss: 0.0013 - acc: 0.9998\n",
      "Epoch 28/30\n",
      "164423/164423 [==============================] - 17s 105us/step - loss: 9.0258e-04 - acc: 0.9999\n",
      "Epoch 29/30\n",
      "164423/164423 [==============================] - 17s 105us/step - loss: 0.0012 - acc: 0.9999\n",
      "Epoch 30/30\n",
      "164423/164423 [==============================] - 17s 106us/step - loss: 9.0091e-04 - acc: 0.9999\n",
      "82212/82212 [==============================] - 3s 41us/step\n",
      "Epoch 1/30\n",
      "164423/164423 [==============================] - 21s 125us/step - loss: 0.5325 - acc: 0.8093\n",
      "Epoch 2/30\n",
      "164423/164423 [==============================] - 17s 106us/step - loss: 0.1548 - acc: 0.9483\n",
      "Epoch 3/30\n",
      "164423/164423 [==============================] - 17s 106us/step - loss: 0.0634 - acc: 0.9808\n",
      "Epoch 4/30\n",
      "164423/164423 [==============================] - 17s 106us/step - loss: 0.0264 - acc: 0.9930\n",
      "Epoch 5/30\n",
      "164423/164423 [==============================] - 17s 106us/step - loss: 0.0147 - acc: 0.9963\n",
      "Epoch 6/30\n",
      "164423/164423 [==============================] - 17s 106us/step - loss: 0.0289 - acc: 0.9934\n",
      "Epoch 7/30\n",
      "164423/164423 [==============================] - 17s 106us/step - loss: 0.0050 - acc: 0.9990\n",
      "Epoch 8/30\n",
      "164423/164423 [==============================] - 17s 105us/step - loss: 0.0040 - acc: 0.9993\n",
      "Epoch 9/30\n",
      "164423/164423 [==============================] - 17s 105us/step - loss: 0.0039 - acc: 0.9994\n",
      "Epoch 10/30\n",
      "164423/164423 [==============================] - 17s 106us/step - loss: 0.0052 - acc: 0.9990\n",
      "Epoch 11/30\n",
      "164423/164423 [==============================] - 17s 106us/step - loss: 0.0036 - acc: 0.9992\n",
      "Epoch 12/30\n",
      "164423/164423 [==============================] - 17s 106us/step - loss: 0.0092 - acc: 0.9974\n",
      "Epoch 13/30\n",
      "164423/164423 [==============================] - 17s 105us/step - loss: 0.0084 - acc: 0.9974\n",
      "Epoch 14/30\n",
      "164423/164423 [==============================] - 17s 106us/step - loss: 0.0037 - acc: 0.9991\n",
      "Epoch 15/30\n",
      "164423/164423 [==============================] - 17s 106us/step - loss: 0.0059 - acc: 0.9985\n",
      "Epoch 16/30\n",
      "164423/164423 [==============================] - 17s 106us/step - loss: 0.0016 - acc: 0.9998\n",
      "Epoch 17/30\n",
      "164423/164423 [==============================] - 17s 106us/step - loss: 0.0012 - acc: 0.9998\n",
      "Epoch 18/30\n",
      "164423/164423 [==============================] - 17s 106us/step - loss: 0.0012 - acc: 0.9999\n",
      "Epoch 19/30\n",
      "164423/164423 [==============================] - 17s 105us/step - loss: 0.0013 - acc: 0.9998\n",
      "Epoch 20/30\n",
      "164423/164423 [==============================] - 17s 105us/step - loss: 9.6697e-04 - acc: 0.9998\n",
      "Epoch 21/30\n",
      "164423/164423 [==============================] - 17s 105us/step - loss: 0.0010 - acc: 0.9999\n",
      "Epoch 22/30\n",
      "164423/164423 [==============================] - 17s 105us/step - loss: 7.5443e-04 - acc: 0.9999\n",
      "Epoch 23/30\n",
      "164423/164423 [==============================] - 17s 106us/step - loss: 7.0463e-04 - acc: 0.9999\n",
      "Epoch 24/30\n",
      "164423/164423 [==============================] - 17s 106us/step - loss: 6.3729e-04 - acc: 0.9999\n",
      "Epoch 25/30\n",
      "164423/164423 [==============================] - 17s 106us/step - loss: 6.5724e-04 - acc: 0.9999\n",
      "Epoch 26/30\n",
      "164423/164423 [==============================] - 17s 105us/step - loss: 0.1107 - acc: 0.9754\n",
      "Epoch 27/30\n",
      "164423/164423 [==============================] - 17s 106us/step - loss: 0.0035 - acc: 0.9992\n",
      "Epoch 28/30\n",
      "164423/164423 [==============================] - 17s 105us/step - loss: 0.0012 - acc: 0.9998\n",
      "Epoch 29/30\n",
      "164423/164423 [==============================] - 17s 105us/step - loss: 6.7977e-04 - acc: 0.9999\n",
      "Epoch 30/30\n",
      "164423/164423 [==============================] - 17s 105us/step - loss: 6.5885e-04 - acc: 0.9999\n",
      "82212/82212 [==============================] - 3s 40us/step\n",
      "Epoch 1/30\n",
      "164424/164424 [==============================] - 22s 132us/step - loss: 0.5398 - acc: 0.8060\n",
      "Epoch 2/30\n",
      "164424/164424 [==============================] - 17s 106us/step - loss: 0.1466 - acc: 0.9525\n",
      "Epoch 3/30\n",
      "164424/164424 [==============================] - 17s 106us/step - loss: 0.0593 - acc: 0.9823\n",
      "Epoch 4/30\n",
      "164424/164424 [==============================] - 17s 106us/step - loss: 0.2611 - acc: 0.9483\n",
      "Epoch 5/30\n",
      "164424/164424 [==============================] - 17s 106us/step - loss: 0.0569 - acc: 0.9828\n",
      "Epoch 6/30\n",
      "164424/164424 [==============================] - 17s 106us/step - loss: 0.0126 - acc: 0.9973\n",
      "Epoch 7/30\n",
      "164424/164424 [==============================] - 17s 106us/step - loss: 0.0056 - acc: 0.9990\n",
      "Epoch 8/30\n",
      "164424/164424 [==============================] - 17s 106us/step - loss: 0.0037 - acc: 0.9993\n",
      "Epoch 9/30\n",
      "164424/164424 [==============================] - 17s 106us/step - loss: 0.0029 - acc: 0.9996\n",
      "Epoch 10/30\n",
      "164424/164424 [==============================] - 17s 106us/step - loss: 0.0021 - acc: 0.9997\n",
      "Epoch 11/30\n",
      "164424/164424 [==============================] - 17s 105us/step - loss: 0.0023 - acc: 0.9997\n",
      "Epoch 12/30\n",
      "164424/164424 [==============================] - 17s 105us/step - loss: 0.0022 - acc: 0.9997\n",
      "Epoch 13/30\n",
      "164424/164424 [==============================] - 17s 106us/step - loss: 0.0039 - acc: 0.9991\n",
      "Epoch 14/30\n",
      "164424/164424 [==============================] - 17s 106us/step - loss: 0.0214 - acc: 0.9938\n",
      "Epoch 15/30\n",
      "164424/164424 [==============================] - 17s 105us/step - loss: 0.0025 - acc: 0.9996\n",
      "Epoch 16/30\n",
      "164424/164424 [==============================] - 17s 106us/step - loss: 0.0013 - acc: 0.9998\n",
      "Epoch 17/30\n"
     ]
    },
    {
     "name": "stdout",
     "output_type": "stream",
     "text": [
      "164424/164424 [==============================] - 17s 106us/step - loss: 0.0016 - acc: 0.9998\n",
      "Epoch 18/30\n",
      "164424/164424 [==============================] - 17s 106us/step - loss: 8.2273e-04 - acc: 0.9999\n",
      "Epoch 19/30\n",
      "164424/164424 [==============================] - 17s 105us/step - loss: 6.8740e-04 - acc: 0.9999\n",
      "Epoch 20/30\n",
      "164424/164424 [==============================] - 17s 105us/step - loss: 7.6532e-04 - acc: 0.9999\n",
      "Epoch 21/30\n",
      "164424/164424 [==============================] - 17s 106us/step - loss: 0.0013 - acc: 0.9998\n",
      "Epoch 22/30\n",
      "164424/164424 [==============================] - 17s 106us/step - loss: 0.0010 - acc: 0.9999\n",
      "Epoch 23/30\n",
      "164424/164424 [==============================] - 17s 105us/step - loss: 8.5966e-04 - acc: 0.9999\n",
      "Epoch 24/30\n",
      "164424/164424 [==============================] - 17s 106us/step - loss: 0.0010 - acc: 0.9999\n",
      "Epoch 25/30\n",
      "164424/164424 [==============================] - 17s 105us/step - loss: 8.4105e-04 - acc: 0.9999\n",
      "Epoch 26/30\n",
      "164424/164424 [==============================] - 17s 105us/step - loss: 9.1832e-04 - acc: 0.9999\n",
      "Epoch 27/30\n",
      "164424/164424 [==============================] - 17s 105us/step - loss: 0.0021 - acc: 0.9996\n",
      "Epoch 28/30\n",
      "164424/164424 [==============================] - 17s 105us/step - loss: 0.0189 - acc: 0.9938\n",
      "Epoch 29/30\n",
      "164424/164424 [==============================] - 17s 106us/step - loss: 0.0054 - acc: 0.9984\n",
      "Epoch 30/30\n",
      "164424/164424 [==============================] - 17s 105us/step - loss: 0.0035 - acc: 0.9990\n",
      "82211/82211 [==============================] - 3s 41us/step\n",
      "Simple CNN Cross validation score : 0.9955\n"
     ]
    }
   ],
   "source": [
    "model = KerasClassifier(build_fn=create_model, epochs=30, batch_size=1024, verbose=1) \n",
    "# 3-Fold Crossvalidation\n",
    "kfold = KFold(n_splits=3, shuffle=True, random_state=2019) \n",
    "results = cross_val_score(model, x_train, y_train, cv=kfold)\n",
    "# Check 3-fold model's mean accuracy\n",
    "print('Simple CNN Cross validation score : {:.4f}'.format(np.mean(results)))"
   ]
  },
  {
   "cell_type": "markdown",
   "metadata": {},
   "source": [
    "- Cross validiationによる精度は99.55%であった．"
   ]
  },
  {
   "cell_type": "markdown",
   "metadata": {},
   "source": [
    "- Cross validationなしで学習する．"
   ]
  },
  {
   "cell_type": "code",
   "execution_count": 63,
   "metadata": {
    "scrolled": true
   },
   "outputs": [
    {
     "name": "stdout",
     "output_type": "stream",
     "text": [
      "Train on 246635 samples, validate on 121477 samples\n",
      "Epoch 1/30\n",
      "246635/246635 [==============================] - 32s 131us/step - loss: 0.4317 - acc: 0.8486 - val_loss: 0.1595 - val_acc: 0.9461\n",
      "Epoch 2/30\n",
      "246635/246635 [==============================] - 31s 124us/step - loss: 0.1139 - acc: 0.9656 - val_loss: 0.0667 - val_acc: 0.9809\n",
      "Epoch 3/30\n",
      "246635/246635 [==============================] - 31s 124us/step - loss: 0.0296 - acc: 0.9927 - val_loss: 0.0264 - val_acc: 0.9939\n",
      "Epoch 4/30\n",
      "246635/246635 [==============================] - 31s 124us/step - loss: 0.0111 - acc: 0.9977 - val_loss: 0.0279 - val_acc: 0.9939\n",
      "Epoch 5/30\n",
      "246635/246635 [==============================] - 31s 124us/step - loss: 0.0250 - acc: 0.9933 - val_loss: 0.1684 - val_acc: 0.9524\n",
      "Epoch 6/30\n",
      "246635/246635 [==============================] - 31s 124us/step - loss: 0.0151 - acc: 0.9959 - val_loss: 0.0185 - val_acc: 0.9970\n",
      "Epoch 7/30\n",
      "246635/246635 [==============================] - 30s 124us/step - loss: 0.0039 - acc: 0.9991 - val_loss: 0.0174 - val_acc: 0.9973\n",
      "Epoch 8/30\n",
      "246635/246635 [==============================] - 31s 124us/step - loss: 0.0024 - acc: 0.9995 - val_loss: 0.0193 - val_acc: 0.9970\n",
      "Epoch 9/30\n",
      "246635/246635 [==============================] - 31s 124us/step - loss: 0.0017 - acc: 0.9997 - val_loss: 0.0204 - val_acc: 0.9971\n",
      "Epoch 10/30\n",
      "246635/246635 [==============================] - 30s 124us/step - loss: 0.0015 - acc: 0.9998 - val_loss: 0.0227 - val_acc: 0.9969\n",
      "Epoch 11/30\n",
      "246635/246635 [==============================] - 31s 124us/step - loss: 0.0396 - acc: 0.9884 - val_loss: 0.0243 - val_acc: 0.9944\n",
      "Epoch 12/30\n",
      "246635/246635 [==============================] - 31s 124us/step - loss: 0.0047 - acc: 0.9989 - val_loss: 0.0221 - val_acc: 0.9964\n",
      "Epoch 13/30\n",
      "246635/246635 [==============================] - 30s 124us/step - loss: 0.0021 - acc: 0.9996 - val_loss: 0.0237 - val_acc: 0.9961\n",
      "Epoch 14/30\n",
      "246635/246635 [==============================] - 30s 124us/step - loss: 0.0014 - acc: 0.9997 - val_loss: 0.0248 - val_acc: 0.9963\n",
      "Epoch 15/30\n",
      "246635/246635 [==============================] - 31s 124us/step - loss: 0.0013 - acc: 0.9998 - val_loss: 0.0230 - val_acc: 0.9972\n",
      "Epoch 16/30\n",
      "246635/246635 [==============================] - 30s 124us/step - loss: 8.6455e-04 - acc: 0.9998 - val_loss: 0.0213 - val_acc: 0.9972\n",
      "Epoch 17/30\n",
      "246635/246635 [==============================] - 31s 124us/step - loss: 0.0010 - acc: 0.9998 - val_loss: 0.0217 - val_acc: 0.9968\n",
      "Epoch 18/30\n",
      "246635/246635 [==============================] - 30s 123us/step - loss: 9.0481e-04 - acc: 0.9998 - val_loss: 0.0233 - val_acc: 0.9969\n",
      "Epoch 19/30\n",
      "246635/246635 [==============================] - 31s 124us/step - loss: 8.7256e-04 - acc: 0.9998 - val_loss: 0.0216 - val_acc: 0.9974\n",
      "Epoch 20/30\n",
      "246635/246635 [==============================] - 30s 124us/step - loss: 9.1228e-04 - acc: 0.9998 - val_loss: 0.0209 - val_acc: 0.9972\n",
      "Epoch 21/30\n",
      "246635/246635 [==============================] - 31s 124us/step - loss: 6.5366e-04 - acc: 0.9999 - val_loss: 0.0209 - val_acc: 0.9972\n",
      "Epoch 22/30\n",
      "246635/246635 [==============================] - 31s 124us/step - loss: 5.0144e-04 - acc: 0.9999 - val_loss: 0.0209 - val_acc: 0.9973\n",
      "Epoch 23/30\n",
      "246635/246635 [==============================] - 31s 124us/step - loss: 0.0487 - acc: 0.9897 - val_loss: 0.5599 - val_acc: 0.8056\n",
      "Epoch 24/30\n",
      "246635/246635 [==============================] - 31s 124us/step - loss: 0.0289 - acc: 0.9904 - val_loss: 0.0214 - val_acc: 0.9963\n",
      "Epoch 25/30\n",
      "246635/246635 [==============================] - 30s 124us/step - loss: 0.0015 - acc: 0.9997 - val_loss: 0.0223 - val_acc: 0.9968\n",
      "Epoch 26/30\n",
      "246635/246635 [==============================] - 30s 123us/step - loss: 7.1460e-04 - acc: 0.9999 - val_loss: 0.0229 - val_acc: 0.9969\n",
      "Epoch 27/30\n",
      "246635/246635 [==============================] - 30s 123us/step - loss: 4.3904e-04 - acc: 0.9999 - val_loss: 0.0242 - val_acc: 0.9970\n",
      "Epoch 28/30\n",
      "246635/246635 [==============================] - 30s 124us/step - loss: 5.0774e-04 - acc: 0.9999 - val_loss: 0.0259 - val_acc: 0.9971\n",
      "Epoch 29/30\n",
      "246635/246635 [==============================] - 30s 123us/step - loss: 6.5680e-04 - acc: 0.9998 - val_loss: 0.0244 - val_acc: 0.9972\n",
      "Epoch 30/30\n",
      "246635/246635 [==============================] - 30s 124us/step - loss: 5.1418e-04 - acc: 0.9999 - val_loss: 0.0259 - val_acc: 0.9970\n"
     ]
    }
   ],
   "source": [
    "history = model.fit(x_train, y_train,\n",
    "         validation_data=[x_test, y_test],\n",
    "         epochs=epoch,\n",
    "         batch_size=batch_size,\n",
    "         verbose=1           \n",
    "         )"
   ]
  },
  {
   "cell_type": "markdown",
   "metadata": {},
   "source": [
    "- テストデータで評価．    "
   ]
  },
  {
   "cell_type": "code",
   "execution_count": 64,
   "metadata": {},
   "outputs": [
    {
     "name": "stdout",
     "output_type": "stream",
     "text": [
      "121477/121477 [==============================] - 5s 37us/step\n",
      "Testing Accuracy: 0.9969953159857422\n"
     ]
    }
   ],
   "source": [
    "score = model.score(x_test, y_test)\n",
    "#print('Test Loss:', score[0])\n",
    "#print('Test accuracy:', score[1])\n",
    "print('Testing Accuracy:',score)"
   ]
  },
  {
   "cell_type": "markdown",
   "metadata": {},
   "source": [
    "- acuurayは99.70%であった．"
   ]
  },
  {
   "cell_type": "markdown",
   "metadata": {},
   "source": [
    "- モデルは以下．\n",
    "    - 入力層\n",
    "    - 畳み込み層3つ\n",
    "    - Flatten層（1次元に）\n",
    "    - 全結合層3つ"
   ]
  },
  {
   "cell_type": "code",
   "execution_count": 65,
   "metadata": {
    "scrolled": true
   },
   "outputs": [
    {
     "name": "stdout",
     "output_type": "stream",
     "text": [
      "_________________________________________________________________\n",
      "Layer (type)                 Output Shape              Param #   \n",
      "=================================================================\n",
      "input_4 (InputLayer)         (None, 26, 26, 3)         0         \n",
      "_________________________________________________________________\n",
      "conv2d_11 (Conv2D)           (None, 26, 26, 16)        448       \n",
      "_________________________________________________________________\n",
      "conv2d_12 (Conv2D)           (None, 26, 26, 64)        9280      \n",
      "_________________________________________________________________\n",
      "conv2d_13 (Conv2D)           (None, 26, 26, 128)       73856     \n",
      "_________________________________________________________________\n",
      "flatten_4 (Flatten)          (None, 86528)             0         \n",
      "_________________________________________________________________\n",
      "dense_10 (Dense)             (None, 512)               44302848  \n",
      "_________________________________________________________________\n",
      "dense_11 (Dense)             (None, 128)               65664     \n",
      "_________________________________________________________________\n",
      "dense_12 (Dense)             (None, 9)                 1161      \n",
      "=================================================================\n",
      "Total params: 44,453,257\n",
      "Trainable params: 44,453,257\n",
      "Non-trainable params: 0\n",
      "_________________________________________________________________\n"
     ]
    }
   ],
   "source": [
    "model.model.summary()"
   ]
  },
  {
   "cell_type": "markdown",
   "metadata": {},
   "source": [
    "- accuracyグラフ，lossグラフは以下．\n",
    "- 5epoch程度で落ち着いている．"
   ]
  },
  {
   "cell_type": "code",
   "execution_count": 66,
   "metadata": {},
   "outputs": [
    {
     "data": {
      "image/png": "[encoded data removed]",
      "text/plain": [
       "<Figure size 432x288 with 1 Axes>"
      ]
     },
     "metadata": {},
     "output_type": "display_data"
    },
    {
     "data": {
      "image/png": "[encoded data removed]",
      "text/plain": [
       "<Figure size 432x288 with 1 Axes>"
      ]
     },
     "metadata": {},
     "output_type": "display_data"
    }
   ],
   "source": [
    "# accuracy plot \n",
    "plt.plot(history.history['acc'])\n",
    "plt.plot(history.history['val_acc'])\n",
    "plt.title('model accuracy')\n",
    "plt.ylabel('accuracy')\n",
    "plt.xlabel('epoch')\n",
    "plt.legend(['train', 'test'], loc='upper left')\n",
    "plt.show()\n",
    "\n",
    "# loss plot\n",
    "plt.plot(history.history['loss'])\n",
    "plt.plot(history.history['val_loss'])\n",
    "plt.title('model loss')\n",
    "plt.ylabel('loss')\n",
    "plt.xlabel('epoch')\n",
    "plt.legend(['train', 'test'], loc='upper left')\n",
    "plt.show()"
   ]
  },
  {
   "cell_type": "code",
   "execution_count": 67,
   "metadata": {},
   "outputs": [
    {
     "name": "stdout",
     "output_type": "stream",
     "text": [
      "246635/246635 [==============================] - 9s 38us/step\n",
      "121477/121477 [==============================] - 4s 36us/step\n",
      "7\n",
      "7\n",
      "Training acc: 99.99553996796887\n",
      "Testing acc: 99.69953159857423\n",
      "y_train_pred[:100]:  [7 0 7 5 1 7 7 2 6 1 7 1 3 8 1 0 1 4 0 1 5 4 5 8 5 8 5 5 7 4 7 7 7 0 0 4 7\n",
      " 5 6 1 1 0 6 8 7 7 8 4 3 1 8 7 8 3 6 7 8 7 1 1 7 2 4 6 2 1 8 0 1 4 0 5 5 3\n",
      " 6 3 5 2 5 6 8 6 1 0 0 6 1 0 0 4 5 4 8 1 0 4 8 3 2 4]\n",
      "y_train_max[:100]:  [7 0 7 5 1 7 7 2 6 1 7 1 3 8 1 0 1 4 0 1 5 4 5 8 5 8 5 5 7 4 7 7 7 0 0 4 7\n",
      " 5 6 1 1 0 6 8 7 7 8 4 3 1 8 7 8 3 6 7 8 7 1 1 7 2 4 6 2 1 8 0 1 4 0 5 5 3\n",
      " 6 3 5 2 5 6 8 6 1 0 0 6 1 0 0 4 5 4 8 1 0 4 8 3 2 4]\n"
     ]
    }
   ],
   "source": [
    "#y_train_pred = np.argmax(model.predict(x_train))\n",
    "y_train_pred = model.predict(x_train)\n",
    "y_test_pred = model.predict(x_test)\n",
    "y_train_max = np.argmax(y_train, axis=1)\n",
    "y_test_max = np.argmax(y_test, axis=1)\n",
    "\n",
    "print(y_train_max[0])\n",
    "print(y_train_pred[0])\n",
    "\n",
    "train_acc2 = np.sum(y_train_max == y_train_pred, axis=0, dtype='float') / x_train.shape[0]\n",
    "test_acc2 = np.sum(y_test_max == y_test_pred, axis=0, dtype='float') / x_test.shape[0]\n",
    "print('Training acc: {}'.format(train_acc2*100))\n",
    "print('Testing acc: {}'.format(test_acc2*100))\n",
    "print(\"y_train_pred[:100]: \", y_train_pred[:100])\n",
    "print (\"y_train_max[:100]: \", y_train_max[:100])"
   ]
  },
  {
   "cell_type": "markdown",
   "metadata": {},
   "source": [
    "### 混同行列"
   ]
  },
  {
   "cell_type": "code",
   "execution_count": 68,
   "metadata": {},
   "outputs": [],
   "source": [
    "import itertools\n",
    "from sklearn.metrics import confusion_matrix\n",
    "\n",
    "def plot_confusion_matrix(cm, normalize=False, title='Confusion matrix', cmap=plt.cm.Blues):\n",
    "    \"\"\"\n",
    "    This function prints and plots the confusion matrix.\n",
    "    Normalization can be applied by setting `normalize=True`.\n",
    "    \"\"\"\n",
    "    if normalize:\n",
    "        cm = cm.astype('float') / cm.sum(axis=1)[:, np.newaxis]\n",
    "        print(\"Normalized confusion matrix\")\n",
    "    else:\n",
    "        print('Confusion matrix, without normalization')\n",
    "\n",
    "    #print(cm)\n",
    "\n",
    "    plt.imshow(cm, interpolation='nearest', cmap=cmap)\n",
    "    plt.title(title)\n",
    "    plt.colorbar()\n",
    "\n",
    "    fmt = '.2f' if normalize else 'd'\n",
    "    thresh = cm.max() / 2.\n",
    "    for i, j in itertools.product(range(cm.shape[0]), range(cm.shape[1])):\n",
    "        plt.text(j, i, format(cm[i, j], fmt),\n",
    "                 horizontalalignment=\"center\",\n",
    "                 color=\"white\" if cm[i, j] > thresh else \"black\")\n",
    "\n",
    "    plt.tight_layout()\n",
    "    plt.ylabel('True label')\n",
    "    plt.xlabel('Predicted label')"
   ]
  },
  {
   "cell_type": "code",
   "execution_count": 69,
   "metadata": {},
   "outputs": [
    {
     "name": "stdout",
     "output_type": "stream",
     "text": [
      "Confusion matrix, without normalization\n",
      "Normalized confusion matrix\n"
     ]
    },
    {
     "data": {
      "image/png": "[encoded data removed]",
      "text/plain": [
       "<Figure size 576x1080 with 4 Axes>"
      ]
     },
     "metadata": {},
     "output_type": "display_data"
    }
   ],
   "source": [
    "# Compute confusion matrix\n",
    "cnf_matrix = confusion_matrix(y_test_max, y_test_pred)\n",
    "np.set_printoptions(precision=2)\n",
    "\n",
    "from matplotlib import gridspec\n",
    "fig = plt.figure(figsize=(8, 15)) \n",
    "gs = gridspec.GridSpec(2, 1, height_ratios=[1, 1]) \n",
    "\n",
    "## Plot non-normalized confusion matrix\n",
    "plt.subplot(gs[0])\n",
    "plot_confusion_matrix(cnf_matrix, title='Confusion matrix')\n",
    "\n",
    "# Plot normalized confusion matrix\n",
    "plt.subplot(gs[1])\n",
    "plot_confusion_matrix(cnf_matrix, normalize=True, title='Normalized confusion matrix')\n",
    "\n",
    "plt.show()"
   ]
  },
  {
   "cell_type": "markdown",
   "metadata": {},
   "source": [
    "### クラス活性化マップ"
   ]
  },
  {
   "cell_type": "code",
   "execution_count": 82,
   "metadata": {},
   "outputs": [],
   "source": [
    "#set target wafer number\n",
    "target_wafer_num = 100000\n",
    "# predict \n",
    "prob = model.model.predict(x_test[target_wafer_num].reshape(1,26,26,3))"
   ]
  },
  {
   "cell_type": "code",
   "execution_count": 83,
   "metadata": {},
   "outputs": [],
   "source": [
    "aver_output = model.model.layers[3]\n",
    "aver_model = models.Model(input_tensor, aver_output.output)\n",
    "cam_result = aver_model.predict(x_test[target_wafer_num].reshape(1, 26, 26, 3))"
   ]
  },
  {
   "cell_type": "code",
   "execution_count": 84,
   "metadata": {},
   "outputs": [
    {
     "name": "stdout",
     "output_type": "stream",
     "text": [
      "conv2d_13\n"
     ]
    }
   ],
   "source": [
    "print(model.model.layers[3].name)"
   ]
  },
  {
   "cell_type": "code",
   "execution_count": 85,
   "metadata": {},
   "outputs": [],
   "source": [
    "weight_result = model.model.layers[-1].get_weights()[0]"
   ]
  },
  {
   "cell_type": "code",
   "execution_count": 86,
   "metadata": {},
   "outputs": [],
   "source": [
    "def make_cam(cam_result, weight_result): \n",
    "    cam_arr = np.zeros((1,26, 26))\n",
    "    for row in range(0,9):\n",
    "        cam = np.zeros((1, 26, 26))\n",
    "        for i, w in enumerate(weight_result[:, row]):\n",
    "            cam += (w*cam_result[0,:,:,i]).reshape(26,26)\n",
    "        cam = (cam - np.min(cam)) / (np.max(cam) - np.min(cam))\n",
    "        cam[mask_x == 0] = 0\n",
    "        cam_arr = np.concatenate((cam_arr, cam))\n",
    "    return cam_arr[1:]\n",
    "\n",
    "def display_activation(cam_arr, prob, wafer): \n",
    "    fig, ax = plt.subplots(9, 1, figsize=(50, 50))\n",
    "    count = 0\n",
    "    cam_arr[np.percentile(cam_arr, 0.8) > cam_arr] = 0\n",
    "    for row in range(0,9):\n",
    "        ax[row].imshow(np.argmax(wafer, axis=2))\n",
    "        ax[row].imshow(cam_arr[row],cmap='Reds', alpha=0.7)\n",
    "        ax[row].set_title('class : ' + faulty_case_dict[count]+', prob : {:.4f}'.format(prob[:, count][0]*100) + '%')\n",
    "        count += 1"
   ]
  },
  {
   "cell_type": "code",
   "execution_count": 87,
   "metadata": {},
   "outputs": [
    {
     "data": {
      "text/plain": [
       "'Edge-Loc'"
      ]
     },
     "execution_count": 87,
     "metadata": {},
     "output_type": "execute_result"
    }
   ],
   "source": [
    "faulty_case_dict[np.argmax(y_test[target_wafer_num])]"
   ]
  },
  {
   "cell_type": "code",
   "execution_count": 88,
   "metadata": {},
   "outputs": [
    {
     "name": "stdout",
     "output_type": "stream",
     "text": [
      "faulty case : Edge-Loc\n"
     ]
    },
    {
     "data": {
      "image/png": "[encoded data removed]",
      "text/plain": [
       "<Figure size 432x288 with 1 Axes>"
      ]
     },
     "metadata": {},
     "output_type": "display_data"
    }
   ],
   "source": [
    "plt.imshow(np.argmax(x_test[target_wafer_num], axis=2))\n",
    "print('faulty case : {}'.format(faulty_case_dict[np.argmax(y_test[target_wafer_num])]))"
   ]
  },
  {
   "cell_type": "markdown",
   "metadata": {},
   "source": [
    "- 対象のウエハの画像と不良パターンの表示"
   ]
  },
  {
   "cell_type": "code",
   "execution_count": 89,
   "metadata": {},
   "outputs": [
    {
     "data": {
      "text/plain": [
       "(1, 26, 26, 128)"
      ]
     },
     "execution_count": 89,
     "metadata": {},
     "output_type": "execute_result"
    }
   ],
   "source": [
    "cam_result.shape"
   ]
  },
  {
   "cell_type": "code",
   "execution_count": 90,
   "metadata": {},
   "outputs": [],
   "source": [
    "mask_x = np.zeros((26, 26))\n",
    "dummy_x = cv2.resize(x[0], (26,26))\n",
    "mask_x[dummy_x == 1] = 1 \n",
    "mask_x[dummy_x == 2] = 1 \n",
    "mask_x = mask_x.reshape((1, 26,26))"
   ]
  },
  {
   "cell_type": "code",
   "execution_count": 91,
   "metadata": {},
   "outputs": [],
   "source": [
    "cam_arr = make_cam(cam_result, weight_result)"
   ]
  },
  {
   "cell_type": "code",
   "execution_count": 92,
   "metadata": {},
   "outputs": [
    {
     "data": {
      "text/plain": [
       "(1, 9)"
      ]
     },
     "execution_count": 92,
     "metadata": {},
     "output_type": "execute_result"
    }
   ],
   "source": [
    "prob.shape"
   ]
  },
  {
   "cell_type": "code",
   "execution_count": 93,
   "metadata": {},
   "outputs": [
    {
     "data": {
      "image/png": "[encoded data removed]",
      "text/plain": [
       "<Figure size 3600x3600 with 9 Axes>"
      ]
     },
     "metadata": {},
     "output_type": "display_data"
    }
   ],
   "source": [
    "display_activation(cam_arr, prob, x_test[target_wafer_num])"
   ]
  },
  {
   "cell_type": "markdown",
   "metadata": {},
   "source": [
    "- 活性化マップの表示\n",
    "- ドーナツでは円形状にヒートマップの赤い部分が点在している"
   ]
  },
  {
   "cell_type": "code",
   "execution_count": null,
   "metadata": {},
   "outputs": [],
   "source": []
  }
 ],
 "metadata": {
  "kernelspec": {
   "display_name": "Python 3 (Anaconda)",
   "language": "python",
   "name": "python3_anaconda"
  },
  "language_info": {
   "codemirror_mode": {
    "name": "ipython",
    "version": 3
   },
   "file_extension": ".py",
   "mimetype": "text/x-python",
   "name": "python",
   "nbconvert_exporter": "python",
   "pygments_lexer": "ipython3",
   "version": "3.6.8"
  }
 },
 "nbformat": 4,
 "nbformat_minor": 2
}
