{
 "cells": [
  {
   "cell_type": "markdown",
   "metadata": {},
   "source": [
    "## 26x26のウエハに限定して機械学習させる\n",
    "- データオーギュメンテーション（鏡映，回転を追加）"
   ]
  },
  {
   "cell_type": "markdown",
   "metadata": {},
   "source": [
    "### import，入力データの読み込み"
   ]
  },
  {
   "cell_type": "code",
   "execution_count": 1,
   "metadata": {},
   "outputs": [
    {
     "name": "stdout",
     "output_type": "stream",
     "text": [
      "../input/LSWMD.pkl\n"
     ]
    }
   ],
   "source": [
    "# This Python 3 environment comes with many helpful analytics libraries installed\n",
    "# It is defined by the kaggle/python docker image: https://github.com/kaggle/docker-python\n",
    "# For example, here's several helpful packages to load in \n",
    "\n",
    "import numpy as np # linear algebra\n",
    "import pandas as pd # data processing, CSV file I/O (e.g. pd.read_csv)\n",
    "\n",
    "# Input data files are available in the \"../input/\" directory.\n",
    "# For example, running this (by clicking run or pressing Shift+Enter) will list all files under the input directory\n",
    "\n",
    "import os\n",
    "for dirname, _, filenames in os.walk('../input'):\n",
    "    for filename in filenames:\n",
    "        print(os.path.join(dirname, filename))\n",
    "\n",
    "# Any results you write to the current directory are saved as output."
   ]
  },
  {
   "cell_type": "code",
   "execution_count": 2,
   "metadata": {
    "scrolled": true
   },
   "outputs": [
    {
     "name": "stderr",
     "output_type": "stream",
     "text": [
      "GPU: 0\n",
      "Using TensorFlow backend.\n"
     ]
    },
    {
     "name": "stdout",
     "output_type": "stream",
     "text": [
      "['LSWMD.pkl']\n"
     ]
    }
   ],
   "source": [
    "import os\n",
    "from os.path import join\n",
    "\n",
    "import numpy as np\n",
    "import pandas as pd\n",
    "\n",
    "import tensorflow as tf\n",
    "import keras\n",
    "from keras import layers, Input, models\n",
    "from keras.utils import to_categorical\n",
    "from keras.wrappers.scikit_learn import KerasClassifier \n",
    "from sklearn.model_selection import KFold \n",
    "from sklearn.model_selection import cross_val_score\n",
    "\n",
    "from sklearn.model_selection import train_test_split\n",
    "\n",
    "import matplotlib.pyplot as plt\n",
    "\n",
    "from keras.preprocessing import image\n",
    "from keras.preprocessing.image import ImageDataGenerator\n",
    "\n",
    "datapath = join('data', 'wafer')\n",
    "\n",
    "print(os.listdir(\"../input\"))\n",
    "import warnings\n",
    "warnings.filterwarnings(\"ignore\")"
   ]
  },
  {
   "cell_type": "markdown",
   "metadata": {},
   "source": [
    "### データについて"
   ]
  },
  {
   "cell_type": "code",
   "execution_count": 3,
   "metadata": {
    "scrolled": true
   },
   "outputs": [
    {
     "name": "stdout",
     "output_type": "stream",
     "text": [
      "<class 'pandas.core.frame.DataFrame'>\n",
      "RangeIndex: 811457 entries, 0 to 811456\n",
      "Data columns (total 6 columns):\n",
      "waferMap          811457 non-null object\n",
      "dieSize           811457 non-null float64\n",
      "lotName           811457 non-null object\n",
      "waferIndex        811457 non-null float64\n",
      "trianTestLabel    811457 non-null object\n",
      "failureType       811457 non-null object\n",
      "dtypes: float64(2), object(4)\n",
      "memory usage: 37.1+ MB\n"
     ]
    }
   ],
   "source": [
    "df=pd.read_pickle(\"../input/LSWMD.pkl\")\n",
    "df.info()"
   ]
  },
  {
   "cell_type": "markdown",
   "metadata": {},
   "source": [
    "- データセットは811,457枚のウエハマップから構成されている．"
   ]
  },
  {
   "cell_type": "code",
   "execution_count": 4,
   "metadata": {
    "scrolled": true
   },
   "outputs": [
    {
     "data": {
      "text/html": [
       "<div>\n",
       "<style scoped>\n",
       "    .dataframe tbody tr th:only-of-type {\n",
       "        vertical-align: middle;\n",
       "    }\n",
       "\n",
       "    .dataframe tbody tr th {\n",
       "        vertical-align: top;\n",
       "    }\n",
       "\n",
       "    .dataframe thead th {\n",
       "        text-align: right;\n",
       "    }\n",
       "</style>\n",
       "<table border=\"1\" class=\"dataframe\">\n",
       "  <thead>\n",
       "    <tr style=\"text-align: right;\">\n",
       "      <th></th>\n",
       "      <th>waferMap</th>\n",
       "      <th>dieSize</th>\n",
       "      <th>lotName</th>\n",
       "      <th>waferIndex</th>\n",
       "      <th>trianTestLabel</th>\n",
       "      <th>failureType</th>\n",
       "    </tr>\n",
       "  </thead>\n",
       "  <tbody>\n",
       "    <tr>\n",
       "      <th>811452</th>\n",
       "      <td>[[0, 0, 0, 0, 0, 0, 0, 0, 0, 0, 0, 1, 2, 1, 1,...</td>\n",
       "      <td>600.0</td>\n",
       "      <td>lot47542</td>\n",
       "      <td>23.0</td>\n",
       "      <td>[[Test]]</td>\n",
       "      <td>[[Edge-Ring]]</td>\n",
       "    </tr>\n",
       "    <tr>\n",
       "      <th>811453</th>\n",
       "      <td>[[0, 0, 0, 0, 0, 0, 0, 0, 0, 0, 0, 2, 2, 1, 1,...</td>\n",
       "      <td>600.0</td>\n",
       "      <td>lot47542</td>\n",
       "      <td>24.0</td>\n",
       "      <td>[[Test]]</td>\n",
       "      <td>[[Edge-Loc]]</td>\n",
       "    </tr>\n",
       "    <tr>\n",
       "      <th>811454</th>\n",
       "      <td>[[0, 0, 0, 0, 0, 0, 0, 0, 0, 0, 0, 1, 2, 1, 1,...</td>\n",
       "      <td>600.0</td>\n",
       "      <td>lot47542</td>\n",
       "      <td>25.0</td>\n",
       "      <td>[[Test]]</td>\n",
       "      <td>[[Edge-Ring]]</td>\n",
       "    </tr>\n",
       "    <tr>\n",
       "      <th>811455</th>\n",
       "      <td>[[0, 0, 0, 0, 0, 0, 0, 0, 0, 0, 0, 1, 1, 1, 1,...</td>\n",
       "      <td>600.0</td>\n",
       "      <td>lot47543</td>\n",
       "      <td>1.0</td>\n",
       "      <td>[]</td>\n",
       "      <td>[]</td>\n",
       "    </tr>\n",
       "    <tr>\n",
       "      <th>811456</th>\n",
       "      <td>[[0, 0, 0, 0, 0, 0, 0, 0, 0, 0, 0, 1, 2, 1, 1,...</td>\n",
       "      <td>600.0</td>\n",
       "      <td>lot47543</td>\n",
       "      <td>2.0</td>\n",
       "      <td>[]</td>\n",
       "      <td>[]</td>\n",
       "    </tr>\n",
       "  </tbody>\n",
       "</table>\n",
       "</div>"
      ],
      "text/plain": [
       "                                                 waferMap  dieSize   lotName  \\\n",
       "811452  [[0, 0, 0, 0, 0, 0, 0, 0, 0, 0, 0, 1, 2, 1, 1,...    600.0  lot47542   \n",
       "811453  [[0, 0, 0, 0, 0, 0, 0, 0, 0, 0, 0, 2, 2, 1, 1,...    600.0  lot47542   \n",
       "811454  [[0, 0, 0, 0, 0, 0, 0, 0, 0, 0, 0, 1, 2, 1, 1,...    600.0  lot47542   \n",
       "811455  [[0, 0, 0, 0, 0, 0, 0, 0, 0, 0, 0, 1, 1, 1, 1,...    600.0  lot47543   \n",
       "811456  [[0, 0, 0, 0, 0, 0, 0, 0, 0, 0, 0, 1, 2, 1, 1,...    600.0  lot47543   \n",
       "\n",
       "        waferIndex trianTestLabel    failureType  \n",
       "811452        23.0       [[Test]]  [[Edge-Ring]]  \n",
       "811453        24.0       [[Test]]   [[Edge-Loc]]  \n",
       "811454        25.0       [[Test]]  [[Edge-Ring]]  \n",
       "811455         1.0             []             []  \n",
       "811456         2.0             []             []  "
      ]
     },
     "execution_count": 4,
     "metadata": {},
     "output_type": "execute_result"
    }
   ],
   "source": [
    "df.tail()"
   ]
  },
  {
   "cell_type": "markdown",
   "metadata": {},
   "source": [
    "- ウエハマップのそれぞれの列から得られる情報はないが，インスタンスごとにダイサイズが異なることがわかる．\n",
    "- ウエハマップのダイサイズをチェックするための変数`WaferMapDim`を定義する．（縦，横の値）"
   ]
  },
  {
   "cell_type": "code",
   "execution_count": 5,
   "metadata": {},
   "outputs": [],
   "source": [
    "df = df.drop(['waferIndex'], axis = 1)"
   ]
  },
  {
   "cell_type": "code",
   "execution_count": 6,
   "metadata": {},
   "outputs": [
    {
     "data": {
      "text/html": [
       "<div>\n",
       "<style scoped>\n",
       "    .dataframe tbody tr th:only-of-type {\n",
       "        vertical-align: middle;\n",
       "    }\n",
       "\n",
       "    .dataframe tbody tr th {\n",
       "        vertical-align: top;\n",
       "    }\n",
       "\n",
       "    .dataframe thead th {\n",
       "        text-align: right;\n",
       "    }\n",
       "</style>\n",
       "<table border=\"1\" class=\"dataframe\">\n",
       "  <thead>\n",
       "    <tr style=\"text-align: right;\">\n",
       "      <th></th>\n",
       "      <th>waferMap</th>\n",
       "      <th>dieSize</th>\n",
       "      <th>lotName</th>\n",
       "      <th>trianTestLabel</th>\n",
       "      <th>failureType</th>\n",
       "      <th>waferMapDim</th>\n",
       "    </tr>\n",
       "  </thead>\n",
       "  <tbody>\n",
       "    <tr>\n",
       "      <th>657116</th>\n",
       "      <td>[[0, 0, 0, 0, 0, 0, 0, 0, 0, 0, 0, 0, 0, 0, 0,...</td>\n",
       "      <td>776.0</td>\n",
       "      <td>lot41040</td>\n",
       "      <td>[[Test]]</td>\n",
       "      <td>[[none]]</td>\n",
       "      <td>(30, 34)</td>\n",
       "    </tr>\n",
       "    <tr>\n",
       "      <th>131022</th>\n",
       "      <td>[[0, 0, 0, 0, 0, 0, 0, 0, 0, 0, 0, 0, 0, 0, 2,...</td>\n",
       "      <td>1109.0</td>\n",
       "      <td>lot8553</td>\n",
       "      <td>[]</td>\n",
       "      <td>[]</td>\n",
       "      <td>(39, 37)</td>\n",
       "    </tr>\n",
       "    <tr>\n",
       "      <th>390212</th>\n",
       "      <td>[[0, 0, 0, 0, 0, 0, 0, 0, 0, 0, 0, 0, 0, 0, 0,...</td>\n",
       "      <td>4423.0</td>\n",
       "      <td>lot23427</td>\n",
       "      <td>[]</td>\n",
       "      <td>[]</td>\n",
       "      <td>(74, 76)</td>\n",
       "    </tr>\n",
       "    <tr>\n",
       "      <th>808985</th>\n",
       "      <td>[[0, 0, 0, 0, 0, 0, 0, 0, 0, 0, 0, 0, 0, 0, 1,...</td>\n",
       "      <td>1060.0</td>\n",
       "      <td>lot47439</td>\n",
       "      <td>[[Test]]</td>\n",
       "      <td>[[none]]</td>\n",
       "      <td>(41, 33)</td>\n",
       "    </tr>\n",
       "    <tr>\n",
       "      <th>501798</th>\n",
       "      <td>[[0, 0, 0, 0, 0, 0, 0, 0, 0, 0, 0, 0, 2, 1, 2,...</td>\n",
       "      <td>710.0</td>\n",
       "      <td>lot31186</td>\n",
       "      <td>[]</td>\n",
       "      <td>[]</td>\n",
       "      <td>(32, 29)</td>\n",
       "    </tr>\n",
       "  </tbody>\n",
       "</table>\n",
       "</div>"
      ],
      "text/plain": [
       "                                                 waferMap  dieSize   lotName  \\\n",
       "657116  [[0, 0, 0, 0, 0, 0, 0, 0, 0, 0, 0, 0, 0, 0, 0,...    776.0  lot41040   \n",
       "131022  [[0, 0, 0, 0, 0, 0, 0, 0, 0, 0, 0, 0, 0, 0, 2,...   1109.0   lot8553   \n",
       "390212  [[0, 0, 0, 0, 0, 0, 0, 0, 0, 0, 0, 0, 0, 0, 0,...   4423.0  lot23427   \n",
       "808985  [[0, 0, 0, 0, 0, 0, 0, 0, 0, 0, 0, 0, 0, 0, 1,...   1060.0  lot47439   \n",
       "501798  [[0, 0, 0, 0, 0, 0, 0, 0, 0, 0, 0, 0, 2, 1, 2,...    710.0  lot31186   \n",
       "\n",
       "       trianTestLabel failureType waferMapDim  \n",
       "657116       [[Test]]    [[none]]    (30, 34)  \n",
       "131022             []          []    (39, 37)  \n",
       "390212             []          []    (74, 76)  \n",
       "808985       [[Test]]    [[none]]    (41, 33)  \n",
       "501798             []          []    (32, 29)  "
      ]
     },
     "execution_count": 6,
     "metadata": {},
     "output_type": "execute_result"
    }
   ],
   "source": [
    "def find_dim(x):\n",
    "    dim0=np.size(x,axis=0)\n",
    "    dim1=np.size(x,axis=1)\n",
    "    return dim0,dim1\n",
    "df['waferMapDim']=df.waferMap.apply(find_dim)\n",
    "df.sample(5)"
   ]
  },
  {
   "cell_type": "markdown",
   "metadata": {},
   "source": [
    "- 不良パターンと学習orテストラベルを数値で表す．"
   ]
  },
  {
   "cell_type": "code",
   "execution_count": 7,
   "metadata": {},
   "outputs": [],
   "source": [
    "df['failureNum']=df.failureType\n",
    "df['trainTestNum']=df.trianTestLabel\n",
    "mapping_type={'Center':0,'Donut':1,'Edge-Loc':2,'Edge-Ring':3,'Loc':4,'Random':5,'Scratch':6,'Near-full':7,'none':8}\n",
    "mapping_traintest={'Training':0,'Test':1}\n",
    "df=df.replace({'failureNum':mapping_type, 'trainTestNum':mapping_traintest})"
   ]
  },
  {
   "cell_type": "code",
   "execution_count": 8,
   "metadata": {},
   "outputs": [
    {
     "data": {
      "text/plain": [
       "811457"
      ]
     },
     "execution_count": 8,
     "metadata": {},
     "output_type": "execute_result"
    }
   ],
   "source": [
    "tol_wafers = df.shape[0]\n",
    "tol_wafers"
   ]
  },
  {
   "cell_type": "code",
   "execution_count": 9,
   "metadata": {},
   "outputs": [
    {
     "data": {
      "text/plain": [
       "(172950, 25519, 147431)"
      ]
     },
     "execution_count": 9,
     "metadata": {},
     "output_type": "execute_result"
    }
   ],
   "source": [
    "df_withlabel = df[(df['failureNum']>=0) & (df['failureNum']<=8)]\n",
    "df_withlabel =df_withlabel.reset_index()\n",
    "df_withpattern = df[(df['failureNum']>=0) & (df['failureNum']<=7)]\n",
    "df_withpattern = df_withpattern.reset_index()\n",
    "df_nonpattern = df[(df['failureNum']==8)]\n",
    "df_withlabel.shape[0], df_withpattern.shape[0], df_nonpattern.shape[0]"
   ]
  },
  {
   "cell_type": "code",
   "execution_count": 10,
   "metadata": {},
   "outputs": [
    {
     "data": {
      "image/png": "[encoded data removed]",
      "text/plain": [
       "<Figure size 1440x324 with 2 Axes>"
      ]
     },
     "metadata": {},
     "output_type": "display_data"
    }
   ],
   "source": [
    "import matplotlib.pyplot as plt\n",
    "%matplotlib inline\n",
    "\n",
    "from matplotlib import gridspec\n",
    "fig = plt.figure(figsize=(20, 4.5)) \n",
    "gs = gridspec.GridSpec(1, 2, width_ratios=[1, 2.5]) \n",
    "ax1 = plt.subplot(gs[0])\n",
    "ax2 = plt.subplot(gs[1])\n",
    "\n",
    "no_wafers=[tol_wafers-df_withlabel.shape[0], df_withpattern.shape[0], df_nonpattern.shape[0]]\n",
    "\n",
    "colors = ['silver', 'orange', 'gold']\n",
    "explode = (0.1, 0, 0)  # explode 1st slice\n",
    "labels = ['no-label','label&pattern','label&non-pattern']\n",
    "ax1.pie(no_wafers, explode=explode, labels=labels, colors=colors, autopct='%1.1f%%', shadow=True, startangle=140)\n",
    "\n",
    "uni_pattern=np.unique(df_withpattern.failureNum, return_counts=True)\n",
    "labels2 = ['','Center','Donut','Edge-Loc','Edge-Ring','Loc','Random','Scratch','Near-full']\n",
    "ax2.bar(uni_pattern[0],uni_pattern[1]/df_withpattern.shape[0], color='gold', align='center', alpha=0.9)\n",
    "ax2.set_title(\"failure type frequency\")\n",
    "ax2.set_ylabel(\"% of pattern wafers\")\n",
    "ax2.set_xticklabels(labels2)\n",
    "\n",
    "plt.show()"
   ]
  },
  {
   "cell_type": "markdown",
   "metadata": {},
   "source": [
    "- 結果として，172,950枚のウエハは不良ラベルを持ち，78.7%のウエハは不良ラベルがない．\n",
    "- また，ラベル付きのウエハのうち，実際に不良パターンがあるのは全体のわずか3.1%(25,519枚)であり，残りの147,431枚のウエハは不良パターンが`none`となっている．\n",
    "- その結果，実際に不良パターンがあるのは3.1%(25,519枚）だけであり，計算量は大幅に削減される．\n",
    "- 上の2つ目の図から，データセットは高い不均衡分布を示していることがわかる．"
   ]
  },
  {
   "cell_type": "markdown",
   "metadata": {},
   "source": [
    "### 26x26のデータに対して処理"
   ]
  },
  {
   "cell_type": "code",
   "execution_count": 11,
   "metadata": {},
   "outputs": [],
   "source": [
    "sub_df = df.loc[df['waferMapDim'] == (26, 26)]\n",
    "sub_wafer = sub_df['waferMap'].values\n",
    "\n",
    "sw = np.ones((1, 26, 26))\n",
    "label = list()\n",
    "\n",
    "for i in range(len(sub_df)):\n",
    "    # skip null label\n",
    "    if len(sub_df.iloc[i,:]['failureType']) == 0:\n",
    "        continue\n",
    "    sw = np.concatenate((sw, sub_df.iloc[i,:]['waferMap'].reshape(1, 26, 26)))\n",
    "    label.append(sub_df.iloc[i,:]['failureType'][0][0])"
   ]
  },
  {
   "cell_type": "code",
   "execution_count": 12,
   "metadata": {
    "scrolled": true
   },
   "outputs": [
    {
     "data": {
      "text/html": [
       "<div>\n",
       "<style scoped>\n",
       "    .dataframe tbody tr th:only-of-type {\n",
       "        vertical-align: middle;\n",
       "    }\n",
       "\n",
       "    .dataframe tbody tr th {\n",
       "        vertical-align: top;\n",
       "    }\n",
       "\n",
       "    .dataframe thead th {\n",
       "        text-align: right;\n",
       "    }\n",
       "</style>\n",
       "<table border=\"1\" class=\"dataframe\">\n",
       "  <thead>\n",
       "    <tr style=\"text-align: right;\">\n",
       "      <th></th>\n",
       "      <th>waferMap</th>\n",
       "      <th>dieSize</th>\n",
       "      <th>lotName</th>\n",
       "      <th>trianTestLabel</th>\n",
       "      <th>failureType</th>\n",
       "      <th>waferMapDim</th>\n",
       "      <th>failureNum</th>\n",
       "      <th>trainTestNum</th>\n",
       "    </tr>\n",
       "  </thead>\n",
       "  <tbody>\n",
       "    <tr>\n",
       "      <th>150</th>\n",
       "      <td>[[0, 0, 0, 0, 0, 0, 0, 0, 0, 0, 2, 2, 1, 1, 2,...</td>\n",
       "      <td>533.0</td>\n",
       "      <td>lot7</td>\n",
       "      <td>[[Training]]</td>\n",
       "      <td>[[none]]</td>\n",
       "      <td>(26, 26)</td>\n",
       "      <td>8</td>\n",
       "      <td>0</td>\n",
       "    </tr>\n",
       "    <tr>\n",
       "      <th>151</th>\n",
       "      <td>[[0, 0, 0, 0, 0, 0, 0, 0, 0, 0, 2, 1, 1, 1, 1,...</td>\n",
       "      <td>533.0</td>\n",
       "      <td>lot7</td>\n",
       "      <td>[[Training]]</td>\n",
       "      <td>[[none]]</td>\n",
       "      <td>(26, 26)</td>\n",
       "      <td>8</td>\n",
       "      <td>0</td>\n",
       "    </tr>\n",
       "    <tr>\n",
       "      <th>152</th>\n",
       "      <td>[[0, 0, 0, 0, 0, 0, 0, 0, 0, 0, 1, 2, 1, 1, 1,...</td>\n",
       "      <td>533.0</td>\n",
       "      <td>lot7</td>\n",
       "      <td>[[Training]]</td>\n",
       "      <td>[[none]]</td>\n",
       "      <td>(26, 26)</td>\n",
       "      <td>8</td>\n",
       "      <td>0</td>\n",
       "    </tr>\n",
       "    <tr>\n",
       "      <th>153</th>\n",
       "      <td>[[0, 0, 0, 0, 0, 0, 0, 0, 0, 0, 1, 2, 2, 1, 1,...</td>\n",
       "      <td>533.0</td>\n",
       "      <td>lot7</td>\n",
       "      <td>[[Training]]</td>\n",
       "      <td>[[none]]</td>\n",
       "      <td>(26, 26)</td>\n",
       "      <td>8</td>\n",
       "      <td>0</td>\n",
       "    </tr>\n",
       "    <tr>\n",
       "      <th>154</th>\n",
       "      <td>[[0, 0, 0, 0, 0, 0, 0, 0, 0, 0, 2, 2, 2, 2, 2,...</td>\n",
       "      <td>533.0</td>\n",
       "      <td>lot7</td>\n",
       "      <td>[[Training]]</td>\n",
       "      <td>[[none]]</td>\n",
       "      <td>(26, 26)</td>\n",
       "      <td>8</td>\n",
       "      <td>0</td>\n",
       "    </tr>\n",
       "  </tbody>\n",
       "</table>\n",
       "</div>"
      ],
      "text/plain": [
       "                                              waferMap  dieSize lotName  \\\n",
       "150  [[0, 0, 0, 0, 0, 0, 0, 0, 0, 0, 2, 2, 1, 1, 2,...    533.0    lot7   \n",
       "151  [[0, 0, 0, 0, 0, 0, 0, 0, 0, 0, 2, 1, 1, 1, 1,...    533.0    lot7   \n",
       "152  [[0, 0, 0, 0, 0, 0, 0, 0, 0, 0, 1, 2, 1, 1, 1,...    533.0    lot7   \n",
       "153  [[0, 0, 0, 0, 0, 0, 0, 0, 0, 0, 1, 2, 2, 1, 1,...    533.0    lot7   \n",
       "154  [[0, 0, 0, 0, 0, 0, 0, 0, 0, 0, 2, 2, 2, 2, 2,...    533.0    lot7   \n",
       "\n",
       "    trianTestLabel failureType waferMapDim failureNum trainTestNum  \n",
       "150   [[Training]]    [[none]]    (26, 26)          8            0  \n",
       "151   [[Training]]    [[none]]    (26, 26)          8            0  \n",
       "152   [[Training]]    [[none]]    (26, 26)          8            0  \n",
       "153   [[Training]]    [[none]]    (26, 26)          8            0  \n",
       "154   [[Training]]    [[none]]    (26, 26)          8            0  "
      ]
     },
     "execution_count": 12,
     "metadata": {},
     "output_type": "execute_result"
    }
   ],
   "source": [
    "sub_df.head()"
   ]
  },
  {
   "cell_type": "code",
   "execution_count": 13,
   "metadata": {},
   "outputs": [],
   "source": [
    "x = sw[1:]\n",
    "y = np.array(label).reshape((-1,1))"
   ]
  },
  {
   "cell_type": "code",
   "execution_count": 14,
   "metadata": {},
   "outputs": [
    {
     "name": "stdout",
     "output_type": "stream",
     "text": [
      "x shape : (14366, 26, 26), y shape : (14366, 1)\n"
     ]
    }
   ],
   "source": [
    "print('x shape : {}, y shape : {}'.format(x.shape, y.shape))"
   ]
  },
  {
   "cell_type": "markdown",
   "metadata": {},
   "source": [
    "- 26x26のウエハが14366枚抽出できた．"
   ]
  },
  {
   "cell_type": "markdown",
   "metadata": {},
   "source": [
    "- 最初のデータを可視化してみる．"
   ]
  },
  {
   "cell_type": "code",
   "execution_count": 15,
   "metadata": {},
   "outputs": [
    {
     "data": {
      "image/png": "[encoded data removed]",
      "text/plain": [
       "<Figure size 432x288 with 1 Axes>"
      ]
     },
     "metadata": {},
     "output_type": "display_data"
    },
    {
     "name": "stdout",
     "output_type": "stream",
     "text": [
      "Faulty case : ['none'] \n"
     ]
    }
   ],
   "source": [
    "# plot 1st data\n",
    "plt.imshow(x[0])\n",
    "plt.show()\n",
    "\n",
    "# check faulty case\n",
    "print('Faulty case : {} '.format(y[0]))"
   ]
  },
  {
   "cell_type": "code",
   "execution_count": 16,
   "metadata": {},
   "outputs": [
    {
     "data": {
      "text/plain": [
       "(14366, 26, 26, 1)"
      ]
     },
     "execution_count": 16,
     "metadata": {},
     "output_type": "execute_result"
    }
   ],
   "source": [
    "x = x.reshape((-1, 26, 26, 1))\n",
    "x.shape"
   ]
  },
  {
   "cell_type": "code",
   "execution_count": 17,
   "metadata": {},
   "outputs": [
    {
     "name": "stdout",
     "output_type": "stream",
     "text": [
      "Faulty case list : ['Center' 'Donut' 'Edge-Loc' 'Edge-Ring' 'Loc' 'Near-full' 'Random'\n",
      " 'Scratch' 'none']\n"
     ]
    }
   ],
   "source": [
    "faulty_case = np.unique(y)\n",
    "print('Faulty case list : {}'.format(faulty_case))"
   ]
  },
  {
   "cell_type": "code",
   "execution_count": 18,
   "metadata": {},
   "outputs": [
    {
     "name": "stdout",
     "output_type": "stream",
     "text": [
      "Center : 90\n",
      "Donut : 1\n",
      "Edge-Loc : 296\n",
      "Edge-Ring : 31\n",
      "Loc : 297\n",
      "Near-full : 16\n",
      "Random : 74\n",
      "Scratch : 72\n",
      "none : 13489\n"
     ]
    }
   ],
   "source": [
    "for f in faulty_case :\n",
    "    print('{} : {}'.format(f, len(y[y==f])))"
   ]
  },
  {
   "cell_type": "markdown",
   "metadata": {},
   "source": [
    "- 14366枚の26x26ウエハの不良パターンは上記のようになっている．"
   ]
  },
  {
   "cell_type": "code",
   "execution_count": 19,
   "metadata": {},
   "outputs": [],
   "source": [
    "new_x = np.zeros((len(x), 26, 26, 3))\n",
    "\n",
    "for w in range(len(x)):\n",
    "    for i in range(26):\n",
    "        for j in range(26):\n",
    "            new_x[w, i, j, int(x[w, i, j])] = 1"
   ]
  },
  {
   "cell_type": "code",
   "execution_count": 20,
   "metadata": {},
   "outputs": [
    {
     "data": {
      "text/plain": [
       "(14366, 26, 26, 3)"
      ]
     },
     "execution_count": 20,
     "metadata": {},
     "output_type": "execute_result"
    }
   ],
   "source": [
    "new_x.shape"
   ]
  },
  {
   "cell_type": "markdown",
   "metadata": {},
   "source": [
    "- new_xを(14366, 26, 26, 3)とし，最後の次元にはウエハの値(0, 1, 2)がそれぞれの値毎にベクトルとしてまとめられている．"
   ]
  },
  {
   "cell_type": "markdown",
   "metadata": {},
   "source": [
    "### オートエンコーダで学習"
   ]
  },
  {
   "cell_type": "markdown",
   "metadata": {},
   "source": [
    "#### エンコーダとデコーダのモデルを学習"
   ]
  },
  {
   "cell_type": "markdown",
   "metadata": {},
   "source": [
    "- モデルの定義をする．"
   ]
  },
  {
   "cell_type": "code",
   "execution_count": 21,
   "metadata": {},
   "outputs": [],
   "source": [
    "# Encoder\n",
    "input_shape = (26, 26, 3)\n",
    "input_tensor = Input(input_shape)\n",
    "encode = layers.Conv2D(64, (3,3), padding='same', activation='relu')(input_tensor)\n",
    "\n",
    "latent_vector = layers.MaxPool2D()(encode)\n",
    "\n",
    "# Decoder\n",
    "decode_layer_1 = layers.Conv2DTranspose(64, (3,3), padding='same', activation='relu')\n",
    "decode_layer_2 = layers.UpSampling2D()\n",
    "output_tensor = layers.Conv2DTranspose(3, (3,3), padding='same', activation='sigmoid')\n",
    "\n",
    "# connect decoder layers\n",
    "decode = decode_layer_1(latent_vector)\n",
    "decode = decode_layer_2(decode)\n",
    "\n",
    "ae = models.Model(input_tensor, output_tensor(decode))\n",
    "ae.compile(optimizer = 'Adam',\n",
    "              loss = 'mse',\n",
    "             )"
   ]
  },
  {
   "cell_type": "code",
   "execution_count": 22,
   "metadata": {},
   "outputs": [
    {
     "name": "stdout",
     "output_type": "stream",
     "text": [
      "_________________________________________________________________\n",
      "Layer (type)                 Output Shape              Param #   \n",
      "=================================================================\n",
      "input_1 (InputLayer)         (None, 26, 26, 3)         0         \n",
      "_________________________________________________________________\n",
      "conv2d_1 (Conv2D)            (None, 26, 26, 64)        1792      \n",
      "_________________________________________________________________\n",
      "max_pooling2d_1 (MaxPooling2 (None, 13, 13, 64)        0         \n",
      "_________________________________________________________________\n",
      "conv2d_transpose_1 (Conv2DTr (None, 13, 13, 64)        36928     \n",
      "_________________________________________________________________\n",
      "up_sampling2d_1 (UpSampling2 (None, 26, 26, 64)        0         \n",
      "_________________________________________________________________\n",
      "conv2d_transpose_2 (Conv2DTr (None, 26, 26, 3)         1731      \n",
      "=================================================================\n",
      "Total params: 40,451\n",
      "Trainable params: 40,451\n",
      "Non-trainable params: 0\n",
      "_________________________________________________________________\n"
     ]
    }
   ],
   "source": [
    "ae.summary()"
   ]
  },
  {
   "cell_type": "markdown",
   "metadata": {},
   "source": [
    "- 層は\n",
    "    - 入力層\n",
    "    - 畳み込み層\n",
    "    - プーリング層\n",
    "    - 転置畳み込み層\n",
    "    - アップサンプリング層"
   ]
  },
  {
   "cell_type": "code",
   "execution_count": 23,
   "metadata": {},
   "outputs": [],
   "source": [
    "epoch=30\n",
    "batch_size=1024"
   ]
  },
  {
   "cell_type": "markdown",
   "metadata": {},
   "source": [
    "- 学習を開始する．\n",
    "- `new_x`を`new_x`にエンコードしデコードする．"
   ]
  },
  {
   "cell_type": "code",
   "execution_count": 24,
   "metadata": {
    "scrolled": true
   },
   "outputs": [
    {
     "name": "stdout",
     "output_type": "stream",
     "text": [
      "Epoch 1/30\n",
      "14366/14366 [==============================] - 2s 106us/step - loss: 0.1604\n",
      "Epoch 2/30\n",
      "14366/14366 [==============================] - 1s 41us/step - loss: 0.0994\n",
      "Epoch 3/30\n",
      "14366/14366 [==============================] - 1s 43us/step - loss: 0.0867\n",
      "Epoch 4/30\n",
      "14366/14366 [==============================] - 1s 43us/step - loss: 0.0746\n",
      "Epoch 5/30\n",
      "14366/14366 [==============================] - 1s 41us/step - loss: 0.0651\n",
      "Epoch 6/30\n",
      "14366/14366 [==============================] - 1s 42us/step - loss: 0.0579\n",
      "Epoch 7/30\n",
      "14366/14366 [==============================] - 1s 42us/step - loss: 0.0521\n",
      "Epoch 8/30\n",
      "14366/14366 [==============================] - 1s 42us/step - loss: 0.0469\n",
      "Epoch 9/30\n",
      "14366/14366 [==============================] - 1s 42us/step - loss: 0.0417\n",
      "Epoch 10/30\n",
      "14366/14366 [==============================] - 1s 42us/step - loss: 0.0368\n",
      "Epoch 11/30\n",
      "14366/14366 [==============================] - 1s 42us/step - loss: 0.0325\n",
      "Epoch 12/30\n",
      "14366/14366 [==============================] - 1s 43us/step - loss: 0.0289\n",
      "Epoch 13/30\n",
      "14366/14366 [==============================] - 1s 42us/step - loss: 0.0259\n",
      "Epoch 14/30\n",
      "14366/14366 [==============================] - 1s 43us/step - loss: 0.0235\n",
      "Epoch 15/30\n",
      "14366/14366 [==============================] - 1s 40us/step - loss: 0.0214\n",
      "Epoch 16/30\n",
      "14366/14366 [==============================] - 1s 41us/step - loss: 0.0197\n",
      "Epoch 17/30\n",
      "14366/14366 [==============================] - 1s 43us/step - loss: 0.0183\n",
      "Epoch 18/30\n",
      "14366/14366 [==============================] - 1s 43us/step - loss: 0.0171\n",
      "Epoch 19/30\n",
      "14366/14366 [==============================] - 1s 42us/step - loss: 0.0159\n",
      "Epoch 20/30\n",
      "14366/14366 [==============================] - 1s 43us/step - loss: 0.0149\n",
      "Epoch 21/30\n",
      "14366/14366 [==============================] - 1s 42us/step - loss: 0.0140\n",
      "Epoch 22/30\n",
      "14366/14366 [==============================] - 1s 43us/step - loss: 0.0132\n",
      "Epoch 23/30\n",
      "14366/14366 [==============================] - 1s 43us/step - loss: 0.0124\n",
      "Epoch 24/30\n",
      "14366/14366 [==============================] - 1s 42us/step - loss: 0.0117\n",
      "Epoch 25/30\n",
      "14366/14366 [==============================] - 1s 43us/step - loss: 0.0111\n",
      "Epoch 26/30\n",
      "14366/14366 [==============================] - 1s 42us/step - loss: 0.0105\n",
      "Epoch 27/30\n",
      "14366/14366 [==============================] - 1s 42us/step - loss: 0.0100\n",
      "Epoch 28/30\n",
      "14366/14366 [==============================] - 1s 42us/step - loss: 0.0095\n",
      "Epoch 29/30\n",
      "14366/14366 [==============================] - 1s 42us/step - loss: 0.0090\n",
      "Epoch 30/30\n",
      "14366/14366 [==============================] - 1s 43us/step - loss: 0.0086\n"
     ]
    },
    {
     "data": {
      "text/plain": [
       "<keras.callbacks.History at 0x7f560b669940>"
      ]
     },
     "execution_count": 24,
     "metadata": {},
     "output_type": "execute_result"
    }
   ],
   "source": [
    "# start train\n",
    "ae.fit(new_x, new_x,\n",
    "       batch_size=batch_size,\n",
    "       epochs=epoch,\n",
    "       verbose=1)"
   ]
  },
  {
   "cell_type": "markdown",
   "metadata": {},
   "source": [
    "- エンコーダだけのモデルを定義する．"
   ]
  },
  {
   "cell_type": "code",
   "execution_count": 25,
   "metadata": {},
   "outputs": [],
   "source": [
    "encoder = models.Model(input_tensor, latent_vector)"
   ]
  },
  {
   "cell_type": "code",
   "execution_count": 26,
   "metadata": {},
   "outputs": [
    {
     "name": "stdout",
     "output_type": "stream",
     "text": [
      "_________________________________________________________________\n",
      "Layer (type)                 Output Shape              Param #   \n",
      "=================================================================\n",
      "input_1 (InputLayer)         (None, 26, 26, 3)         0         \n",
      "_________________________________________________________________\n",
      "conv2d_1 (Conv2D)            (None, 26, 26, 64)        1792      \n",
      "_________________________________________________________________\n",
      "max_pooling2d_1 (MaxPooling2 (None, 13, 13, 64)        0         \n",
      "=================================================================\n",
      "Total params: 1,792\n",
      "Trainable params: 1,792\n",
      "Non-trainable params: 0\n",
      "_________________________________________________________________\n"
     ]
    }
   ],
   "source": [
    "encoder.summary()"
   ]
  },
  {
   "cell_type": "markdown",
   "metadata": {},
   "source": [
    "- デコーダだけのモデルを定義する．"
   ]
  },
  {
   "cell_type": "code",
   "execution_count": 27,
   "metadata": {},
   "outputs": [],
   "source": [
    "decoder_input = Input((13, 13, 64))\n",
    "decode = decode_layer_1(decoder_input)\n",
    "decode = decode_layer_2(decode)\n",
    "\n",
    "decoder = models.Model(decoder_input, output_tensor(decode))"
   ]
  },
  {
   "cell_type": "markdown",
   "metadata": {},
   "source": [
    "- `encoder`を使って元のウエハ画像をエンコードする．"
   ]
  },
  {
   "cell_type": "code",
   "execution_count": 28,
   "metadata": {},
   "outputs": [],
   "source": [
    "# Encode original faulty wafer\n",
    "encoded_x = encoder.predict(new_x)"
   ]
  },
  {
   "cell_type": "markdown",
   "metadata": {},
   "source": [
    "- エンコードされた潜伏的な不良ウエハにノイズを負荷する．"
   ]
  },
  {
   "cell_type": "code",
   "execution_count": 29,
   "metadata": {},
   "outputs": [],
   "source": [
    "# Add noise to encoded latent faulty wafers vector.\n",
    "noised_encoded_x = encoded_x + np.random.normal(loc=0, scale=0.1, size = (len(encoded_x), 13, 13, 64))"
   ]
  },
  {
   "cell_type": "markdown",
   "metadata": {},
   "source": [
    "- 元のウエハ画像"
   ]
  },
  {
   "cell_type": "code",
   "execution_count": 30,
   "metadata": {},
   "outputs": [
    {
     "data": {
      "text/plain": [
       "<matplotlib.image.AxesImage at 0x7f5630f98518>"
      ]
     },
     "execution_count": 30,
     "metadata": {},
     "output_type": "execute_result"
    },
    {
     "data": {
      "image/png": "[encoded data removed]",
      "text/plain": [
       "<Figure size 432x288 with 1 Axes>"
      ]
     },
     "metadata": {},
     "output_type": "display_data"
    }
   ],
   "source": [
    "# check original faulty wafer data\n",
    "plt.imshow(np.argmax(new_x[3], axis=2))"
   ]
  },
  {
   "cell_type": "markdown",
   "metadata": {},
   "source": [
    "- ノイズが付加されたウエハ画像"
   ]
  },
  {
   "cell_type": "code",
   "execution_count": 31,
   "metadata": {},
   "outputs": [
    {
     "data": {
      "text/plain": [
       "<matplotlib.image.AxesImage at 0x7f563110b1d0>"
      ]
     },
     "execution_count": 31,
     "metadata": {},
     "output_type": "execute_result"
    },
    {
     "data": {
      "image/png": "[encoded data removed]",
      "text/plain": [
       "<Figure size 432x288 with 1 Axes>"
      ]
     },
     "metadata": {},
     "output_type": "display_data"
    }
   ],
   "source": [
    "# check new noised faulty wafer data\n",
    "noised_gen_x = np.argmax(decoder.predict(noised_encoded_x), axis=3)\n",
    "plt.imshow(noised_gen_x[3])"
   ]
  },
  {
   "cell_type": "markdown",
   "metadata": {},
   "source": [
    "### データオーギュメンテーション"
   ]
  },
  {
   "cell_type": "markdown",
   "metadata": {},
   "source": [
    "- データオーギュメンテーションを行う関数を定義する．\n",
    "- 鏡映，回転を行う"
   ]
  },
  {
   "cell_type": "code",
   "execution_count": 32,
   "metadata": {},
   "outputs": [],
   "source": [
    "# augment function define (add rotate, flip)\n",
    "def gen_data(wafer, label):\n",
    "    # Encode input wafer\n",
    "    #encoded_x = encoder.predict(wafer)\n",
    "    \n",
    "    # dummy array for collecting noised wafer\n",
    "    gen_x = np.zeros((1, 26, 26, 3))\n",
    "    aug_x = np.zeros((1, 26, 26, 3))\n",
    "    \n",
    "    datagen = ImageDataGenerator(rotation_range = 90, horizontal_flip = True, vertical_flip = True)\n",
    "    \n",
    "    gen = datagen.flow(wafer, batch_size = len(wafer))\n",
    "    for i in range(50):\n",
    "        data = next(gen)\n",
    "        #print(data.shape)\n",
    "        aug_x = np.concatenate((aug_x, data), axis = 0)\n",
    "        '''\n",
    "        for j, img in enumerate(data):\n",
    "            plot_num = j+1\n",
    "            plt.subplot(4, 5, plot_num)\n",
    "            plt.tick_params(labelbottom=False)\n",
    "            plt.tick_params(labelleft=False)\n",
    "            plt.imshow(img)\n",
    "        plt.show()\n",
    "        '''\n",
    "    encoded_x = encoder.predict(aug_x)\n",
    "    print(encoded_x.shape)\n",
    "        \n",
    "    \n",
    "    # Make wafer until total # of wafer to 15000\n",
    "    for i in range((13500//len(encoded_x)) + 1):\n",
    "        noised_encoded_x = encoded_x + np.random.normal(loc=0, scale=0.1, size = (len(encoded_x), 13, 13, 64)) \n",
    "        noised_gen_x = decoder.predict(noised_encoded_x)\n",
    "        gen_x = np.concatenate((gen_x, noised_gen_x), axis=0)\n",
    "    # also make label vector with same length\n",
    "    gen_y = np.full((len(gen_x), 1), label)\n",
    "    \n",
    "    # return date without 1st dummy data.\n",
    "    return gen_x[1:], gen_y[1:]"
   ]
  },
  {
   "cell_type": "markdown",
   "metadata": {},
   "source": [
    "- 不良ラベルが付いているデータに対してデータオーギュメンテーションを行う．"
   ]
  },
  {
   "cell_type": "code",
   "execution_count": 34,
   "metadata": {
    "scrolled": true
   },
   "outputs": [
    {
     "name": "stdout",
     "output_type": "stream",
     "text": [
      "(4501, 13, 13, 64)\n",
      "(51, 13, 13, 64)\n",
      "(14801, 13, 13, 64)\n",
      "(1551, 13, 13, 64)\n",
      "(14851, 13, 13, 64)\n",
      "(801, 13, 13, 64)\n",
      "(3701, 13, 13, 64)\n",
      "(3601, 13, 13, 64)\n"
     ]
    }
   ],
   "source": [
    "# Augmentation for all faulty case.\n",
    "for f in faulty_case : \n",
    "    # skip none case\n",
    "    if f == 'none' : \n",
    "        continue\n",
    "    \n",
    "    gen_x, gen_y = gen_data(new_x[np.where(y==f)[0]], f)\n",
    "    new_x = np.concatenate((new_x, gen_x), axis=0)\n",
    "    y = np.concatenate((y, gen_y))"
   ]
  },
  {
   "cell_type": "code",
   "execution_count": 35,
   "metadata": {},
   "outputs": [
    {
     "name": "stdout",
     "output_type": "stream",
     "text": [
      "After Generate new_x shape : (127820, 26, 26, 3), new_y shape : (127820, 1)\n"
     ]
    }
   ],
   "source": [
    "print('After Generate new_x shape : {}, new_y shape : {}'.format(new_x.shape, y.shape))"
   ]
  },
  {
   "cell_type": "code",
   "execution_count": 36,
   "metadata": {},
   "outputs": [
    {
     "name": "stdout",
     "output_type": "stream",
     "text": [
      "Center : 13593\n",
      "Donut : 13516\n",
      "Edge-Loc : 15097\n",
      "Edge-Ring : 13990\n",
      "Loc : 15148\n",
      "Near-full : 13633\n",
      "Random : 14878\n",
      "Scratch : 14476\n",
      "none : 13489\n"
     ]
    }
   ],
   "source": [
    "for f in faulty_case :\n",
    "    print('{} : {}'.format(f, len(y[y==f])))"
   ]
  },
  {
   "cell_type": "markdown",
   "metadata": {},
   "source": [
    "- データオーギュメンテーションを行った結果，各不良データごとに13000枚程度に増えた．\n",
    "- 合計は127820枚となった．"
   ]
  },
  {
   "cell_type": "code",
   "execution_count": 37,
   "metadata": {},
   "outputs": [],
   "source": [
    "new_y = y"
   ]
  },
  {
   "cell_type": "markdown",
   "metadata": {},
   "source": [
    "- 削除した結果，全体は19707枚となった．"
   ]
  },
  {
   "cell_type": "markdown",
   "metadata": {},
   "source": [
    "### 学習を行う\n",
    "- 不良ラベルを0-8の9次元のベクトルとして表現する．\n",
    "- one-hotエンコーディングを行っている．"
   ]
  },
  {
   "cell_type": "code",
   "execution_count": 38,
   "metadata": {},
   "outputs": [],
   "source": [
    "for i, l in enumerate(faulty_case):\n",
    "    new_y[new_y==l] = i"
   ]
  },
  {
   "cell_type": "code",
   "execution_count": 39,
   "metadata": {},
   "outputs": [],
   "source": [
    "# one-hot-encoding\n",
    "new_y = to_categorical(new_y)"
   ]
  },
  {
   "cell_type": "markdown",
   "metadata": {},
   "source": [
    "- 学習データ（学習データと学習時のテストデータ）と最終的なテストデータに分割する．"
   ]
  },
  {
   "cell_type": "code",
   "execution_count": 40,
   "metadata": {},
   "outputs": [],
   "source": [
    "new_X=new_x\n",
    "new_Y=new_y"
   ]
  },
  {
   "cell_type": "markdown",
   "metadata": {},
   "source": [
    "- 学習データを学習データと学習時のテストデータに分割する．"
   ]
  },
  {
   "cell_type": "code",
   "execution_count": 41,
   "metadata": {},
   "outputs": [],
   "source": [
    "x_train, x_test, y_train, y_test = train_test_split(new_X, new_Y,\n",
    "                                                    test_size=0.33,\n",
    "                                                    random_state=2019)"
   ]
  },
  {
   "cell_type": "code",
   "execution_count": 42,
   "metadata": {},
   "outputs": [
    {
     "name": "stdout",
     "output_type": "stream",
     "text": [
      "Train x : (85639, 26, 26, 3), y : (85639, 9)\n",
      "Test x: (42181, 26, 26, 3), y : (42181, 9)\n"
     ]
    }
   ],
   "source": [
    "print('Train x : {}, y : {}'.format(x_train.shape, y_train.shape))\n",
    "print('Test x: {}, y : {}'.format(x_test.shape, y_test.shape))"
   ]
  },
  {
   "cell_type": "markdown",
   "metadata": {},
   "source": [
    "- 学習データ65639枚，テストデータ42181枚．"
   ]
  },
  {
   "cell_type": "markdown",
   "metadata": {},
   "source": [
    "- モデルの定義を行う．"
   ]
  },
  {
   "cell_type": "code",
   "execution_count": 43,
   "metadata": {},
   "outputs": [],
   "source": [
    "def create_model():\n",
    "    input_shape = (26, 26, 3)\n",
    "    input_tensor = Input(input_shape)\n",
    "\n",
    "    conv_1 = layers.Conv2D(16, (3,3), activation='relu', padding='same')(input_tensor)\n",
    "    conv_2 = layers.Conv2D(64, (3,3), activation='relu', padding='same')(conv_1)\n",
    "    conv_3 = layers.Conv2D(128, (3,3), activation='relu', padding='same')(conv_2)\n",
    "\n",
    "    flat = layers.Flatten()(conv_3)\n",
    "\n",
    "    dense_1 = layers.Dense(512, activation='relu')(flat)\n",
    "    dense_2 = layers.Dense(128, activation='relu')(dense_1)\n",
    "    output_tensor = layers.Dense(9, activation='softmax')(dense_2)\n",
    "\n",
    "    model = models.Model(input_tensor, output_tensor)\n",
    "    model.compile(optimizer='Adam',\n",
    "                 loss='categorical_crossentropy',\n",
    "                 metrics=['accuracy'])\n",
    "\n",
    "    return model"
   ]
  },
  {
   "cell_type": "markdown",
   "metadata": {},
   "source": [
    "- 3-Fold Cross validationで分割して学習する．"
   ]
  },
  {
   "cell_type": "code",
   "execution_count": 44,
   "metadata": {
    "scrolled": true
   },
   "outputs": [
    {
     "name": "stdout",
     "output_type": "stream",
     "text": [
      "Epoch 1/30\n",
      "57092/57092 [==============================] - 8s 135us/step - loss: 0.8702 - acc: 0.6979\n",
      "Epoch 2/30\n",
      "57092/57092 [==============================] - 6s 105us/step - loss: 0.3598 - acc: 0.8693\n",
      "Epoch 3/30\n",
      "57092/57092 [==============================] - 6s 104us/step - loss: 0.2714 - acc: 0.9021\n",
      "Epoch 4/30\n",
      "57092/57092 [==============================] - 6s 105us/step - loss: 0.2188 - acc: 0.9220\n",
      "Epoch 5/30\n",
      "57092/57092 [==============================] - 6s 104us/step - loss: 0.1641 - acc: 0.9433\n",
      "Epoch 6/30\n",
      "57092/57092 [==============================] - 6s 105us/step - loss: 0.4207 - acc: 0.8745\n",
      "Epoch 7/30\n",
      "57092/57092 [==============================] - 6s 104us/step - loss: 0.1402 - acc: 0.9516\n",
      "Epoch 8/30\n",
      "57092/57092 [==============================] - 6s 105us/step - loss: 0.0911 - acc: 0.9700\n",
      "Epoch 9/30\n",
      "57092/57092 [==============================] - 6s 105us/step - loss: 0.0613 - acc: 0.9807\n",
      "Epoch 10/30\n",
      "57092/57092 [==============================] - 6s 105us/step - loss: 0.0375 - acc: 0.9895\n",
      "Epoch 11/30\n",
      "57092/57092 [==============================] - 6s 105us/step - loss: 0.0274 - acc: 0.9923\n",
      "Epoch 12/30\n",
      "57092/57092 [==============================] - 6s 105us/step - loss: 0.0197 - acc: 0.9951\n",
      "Epoch 13/30\n",
      "57092/57092 [==============================] - 6s 105us/step - loss: 0.0117 - acc: 0.9979\n",
      "Epoch 14/30\n",
      "57092/57092 [==============================] - 6s 104us/step - loss: 0.0107 - acc: 0.9977\n",
      "Epoch 15/30\n",
      "57092/57092 [==============================] - 6s 104us/step - loss: 0.0062 - acc: 0.9992\n",
      "Epoch 16/30\n",
      "57092/57092 [==============================] - 6s 105us/step - loss: 0.0054 - acc: 0.9992\n",
      "Epoch 17/30\n",
      "57092/57092 [==============================] - 6s 105us/step - loss: 0.0052 - acc: 0.9991\n",
      "Epoch 18/30\n",
      "57092/57092 [==============================] - 6s 105us/step - loss: 0.0068 - acc: 0.9985\n",
      "Epoch 19/30\n",
      "57092/57092 [==============================] - 6s 104us/step - loss: 0.0049 - acc: 0.9989\n",
      "Epoch 20/30\n",
      "57092/57092 [==============================] - 6s 106us/step - loss: 0.0060 - acc: 0.9987\n",
      "Epoch 21/30\n",
      "57092/57092 [==============================] - 6s 105us/step - loss: 0.0051 - acc: 0.9992\n",
      "Epoch 22/30\n",
      "57092/57092 [==============================] - 6s 105us/step - loss: 0.0032 - acc: 0.9995\n",
      "Epoch 23/30\n",
      "57092/57092 [==============================] - 6s 105us/step - loss: 0.0023 - acc: 0.9997\n",
      "Epoch 24/30\n",
      "57092/57092 [==============================] - 6s 105us/step - loss: 0.0025 - acc: 0.9997\n",
      "Epoch 25/30\n",
      "57092/57092 [==============================] - 6s 104us/step - loss: 0.0029 - acc: 0.9996\n",
      "Epoch 26/30\n",
      "57092/57092 [==============================] - 6s 105us/step - loss: 0.0016 - acc: 0.9999\n",
      "Epoch 27/30\n",
      "57092/57092 [==============================] - 6s 105us/step - loss: 0.0019 - acc: 0.9998\n",
      "Epoch 28/30\n",
      "57092/57092 [==============================] - 6s 105us/step - loss: 0.0012 - acc: 0.9999\n",
      "Epoch 29/30\n",
      "57092/57092 [==============================] - 6s 105us/step - loss: 0.0014 - acc: 0.9999\n",
      "Epoch 30/30\n",
      "57092/57092 [==============================] - 6s 105us/step - loss: 0.0012 - acc: 0.9999\n",
      "28547/28547 [==============================] - 1s 43us/step\n",
      "Epoch 1/30\n",
      "57093/57093 [==============================] - 7s 126us/step - loss: 0.9108 - acc: 0.6758\n",
      "Epoch 2/30\n",
      "57093/57093 [==============================] - 6s 105us/step - loss: 0.3718 - acc: 0.8630\n",
      "Epoch 3/30\n",
      "57093/57093 [==============================] - 6s 105us/step - loss: 0.2743 - acc: 0.9005\n",
      "Epoch 4/30\n",
      "57093/57093 [==============================] - 6s 105us/step - loss: 0.2178 - acc: 0.9212\n",
      "Epoch 5/30\n",
      "57093/57093 [==============================] - 6s 106us/step - loss: 0.1621 - acc: 0.9438\n",
      "Epoch 6/30\n",
      "57093/57093 [==============================] - 6s 106us/step - loss: 0.1222 - acc: 0.9586\n",
      "Epoch 7/30\n",
      "57093/57093 [==============================] - 6s 106us/step - loss: 0.0905 - acc: 0.9700\n",
      "Epoch 8/30\n",
      "57093/57093 [==============================] - 6s 105us/step - loss: 0.0643 - acc: 0.9795\n",
      "Epoch 9/30\n",
      "57093/57093 [==============================] - 6s 106us/step - loss: 0.0481 - acc: 0.9856\n",
      "Epoch 10/30\n",
      "57093/57093 [==============================] - 6s 106us/step - loss: 0.0718 - acc: 0.9798\n",
      "Epoch 11/30\n",
      "57093/57093 [==============================] - 6s 105us/step - loss: 0.0212 - acc: 0.9950\n",
      "Epoch 12/30\n",
      "57093/57093 [==============================] - 6s 105us/step - loss: 0.0138 - acc: 0.9974\n",
      "Epoch 13/30\n",
      "57093/57093 [==============================] - 6s 105us/step - loss: 0.0074 - acc: 0.9992\n",
      "Epoch 14/30\n",
      "57093/57093 [==============================] - 6s 106us/step - loss: 0.0058 - acc: 0.9995\n",
      "Epoch 15/30\n",
      "57093/57093 [==============================] - 6s 105us/step - loss: 0.0071 - acc: 0.9991\n",
      "Epoch 16/30\n",
      "57093/57093 [==============================] - 6s 105us/step - loss: 0.0069 - acc: 0.9992\n",
      "Epoch 17/30\n",
      "57093/57093 [==============================] - 6s 105us/step - loss: 0.0072 - acc: 0.9989\n",
      "Epoch 18/30\n",
      "57093/57093 [==============================] - 6s 105us/step - loss: 0.0070 - acc: 0.9991\n",
      "Epoch 19/30\n",
      "57093/57093 [==============================] - 6s 105us/step - loss: 0.0057 - acc: 0.9994\n",
      "Epoch 20/30\n",
      "57093/57093 [==============================] - 6s 106us/step - loss: 0.0051 - acc: 0.9995\n",
      "Epoch 21/30\n",
      "57093/57093 [==============================] - 6s 105us/step - loss: 0.0042 - acc: 0.9997\n",
      "Epoch 22/30\n",
      "57093/57093 [==============================] - 6s 105us/step - loss: 0.0040 - acc: 0.9997\n",
      "Epoch 23/30\n",
      "57093/57093 [==============================] - 6s 105us/step - loss: 0.0041 - acc: 0.9997\n",
      "Epoch 24/30\n",
      "57093/57093 [==============================] - 6s 106us/step - loss: 0.0044 - acc: 0.9996\n",
      "Epoch 25/30\n",
      "57093/57093 [==============================] - 6s 106us/step - loss: 0.0041 - acc: 0.9997\n",
      "Epoch 26/30\n",
      "57093/57093 [==============================] - 6s 106us/step - loss: 0.0045 - acc: 0.9995\n",
      "Epoch 27/30\n",
      "57093/57093 [==============================] - 6s 106us/step - loss: 0.0048 - acc: 0.9994\n",
      "Epoch 28/30\n",
      "57093/57093 [==============================] - 6s 105us/step - loss: 0.0202 - acc: 0.9946\n",
      "Epoch 29/30\n",
      "57093/57093 [==============================] - 6s 106us/step - loss: 0.0245 - acc: 0.9929\n",
      "Epoch 30/30\n",
      "57093/57093 [==============================] - 6s 105us/step - loss: 0.0171 - acc: 0.9954\n",
      "28546/28546 [==============================] - 1s 45us/step\n",
      "Epoch 1/30\n",
      "57093/57093 [==============================] - 7s 124us/step - loss: 0.8956 - acc: 0.6817\n",
      "Epoch 2/30\n",
      "57093/57093 [==============================] - 6s 106us/step - loss: 0.3637 - acc: 0.8664\n",
      "Epoch 3/30\n",
      "57093/57093 [==============================] - 6s 106us/step - loss: 0.2733 - acc: 0.9010\n",
      "Epoch 4/30\n",
      "57093/57093 [==============================] - 6s 106us/step - loss: 0.2100 - acc: 0.9251\n",
      "Epoch 5/30\n",
      "57093/57093 [==============================] - 6s 105us/step - loss: 0.1643 - acc: 0.9422\n",
      "Epoch 6/30\n",
      "57093/57093 [==============================] - 6s 106us/step - loss: 0.1181 - acc: 0.9597\n",
      "Epoch 7/30\n",
      "57093/57093 [==============================] - 6s 106us/step - loss: 0.0799 - acc: 0.9738\n",
      "Epoch 8/30\n",
      "57093/57093 [==============================] - 6s 106us/step - loss: 0.0571 - acc: 0.9826\n",
      "Epoch 9/30\n",
      "57093/57093 [==============================] - 6s 106us/step - loss: 0.0382 - acc: 0.9895\n",
      "Epoch 10/30\n",
      "57093/57093 [==============================] - 6s 106us/step - loss: 0.0304 - acc: 0.9917\n",
      "Epoch 11/30\n",
      "57093/57093 [==============================] - 6s 106us/step - loss: 0.0650 - acc: 0.9814\n",
      "Epoch 12/30\n",
      "57093/57093 [==============================] - 6s 106us/step - loss: 0.0130 - acc: 0.9979\n",
      "Epoch 13/30\n",
      "57093/57093 [==============================] - 6s 106us/step - loss: 0.0084 - acc: 0.9991\n",
      "Epoch 14/30\n",
      "57093/57093 [==============================] - 6s 106us/step - loss: 0.0060 - acc: 0.9993\n",
      "Epoch 15/30\n",
      "57093/57093 [==============================] - 6s 106us/step - loss: 0.0059 - acc: 0.9993\n",
      "Epoch 16/30\n",
      "57093/57093 [==============================] - 6s 105us/step - loss: 0.0046 - acc: 0.9995\n",
      "Epoch 17/30\n",
      "57093/57093 [==============================] - 6s 105us/step - loss: 0.0043 - acc: 0.9997\n",
      "Epoch 18/30\n",
      "57093/57093 [==============================] - 6s 105us/step - loss: 0.0041 - acc: 0.9996\n",
      "Epoch 19/30\n",
      "57093/57093 [==============================] - 6s 105us/step - loss: 0.0046 - acc: 0.9995\n",
      "Epoch 20/30\n"
     ]
    },
    {
     "name": "stdout",
     "output_type": "stream",
     "text": [
      "57093/57093 [==============================] - 6s 105us/step - loss: 0.0119 - acc: 0.9973\n",
      "Epoch 21/30\n",
      "57093/57093 [==============================] - 6s 105us/step - loss: 0.0076 - acc: 0.9986\n",
      "Epoch 22/30\n",
      "57093/57093 [==============================] - 6s 106us/step - loss: 0.0048 - acc: 0.9995\n",
      "Epoch 23/30\n",
      "57093/57093 [==============================] - 6s 105us/step - loss: 0.0039 - acc: 0.9997\n",
      "Epoch 24/30\n",
      "57093/57093 [==============================] - 6s 105us/step - loss: 0.0907 - acc: 0.9829\n",
      "Epoch 25/30\n",
      "57093/57093 [==============================] - 6s 105us/step - loss: 0.1701 - acc: 0.9406\n",
      "Epoch 26/30\n",
      "57093/57093 [==============================] - 6s 105us/step - loss: 0.0233 - acc: 0.9941\n",
      "Epoch 27/30\n",
      "57093/57093 [==============================] - 6s 105us/step - loss: 0.0077 - acc: 0.9991\n",
      "Epoch 28/30\n",
      "57093/57093 [==============================] - 6s 105us/step - loss: 0.0040 - acc: 0.9997\n",
      "Epoch 29/30\n",
      "57093/57093 [==============================] - 6s 106us/step - loss: 0.0037 - acc: 0.9997\n",
      "Epoch 30/30\n",
      "57093/57093 [==============================] - 6s 105us/step - loss: 0.0037 - acc: 0.9996\n",
      "28546/28546 [==============================] - 1s 43us/step\n",
      "Simple CNN Cross validation score : 0.9478\n"
     ]
    }
   ],
   "source": [
    "model = KerasClassifier(build_fn=create_model, epochs=30, batch_size=1024, verbose=1) \n",
    "# 3-Fold Crossvalidation\n",
    "kfold = KFold(n_splits=3, shuffle=True, random_state=2019) \n",
    "results = cross_val_score(model, x_train, y_train, cv=kfold)\n",
    "# Check 3-fold model's mean accuracy\n",
    "print('Simple CNN Cross validation score : {:.4f}'.format(np.mean(results)))"
   ]
  },
  {
   "cell_type": "markdown",
   "metadata": {},
   "source": [
    "- Cross validiationによる精度は91.64%であった．"
   ]
  },
  {
   "cell_type": "markdown",
   "metadata": {},
   "source": [
    "- Cross validationなしで学習する．"
   ]
  },
  {
   "cell_type": "code",
   "execution_count": 45,
   "metadata": {
    "scrolled": false
   },
   "outputs": [
    {
     "name": "stdout",
     "output_type": "stream",
     "text": [
      "Train on 85639 samples, validate on 42181 samples\n",
      "Epoch 1/30\n",
      "85639/85639 [==============================] - 12s 141us/step - loss: 0.8259 - acc: 0.7247 - val_loss: 0.3888 - val_acc: 0.8554\n",
      "Epoch 2/30\n",
      "85639/85639 [==============================] - 11s 124us/step - loss: 0.3197 - acc: 0.8832 - val_loss: 0.2728 - val_acc: 0.9039\n",
      "Epoch 3/30\n",
      "85639/85639 [==============================] - 11s 124us/step - loss: 0.2278 - acc: 0.9188 - val_loss: 0.2339 - val_acc: 0.9196\n",
      "Epoch 4/30\n",
      "85639/85639 [==============================] - 11s 124us/step - loss: 0.1716 - acc: 0.9405 - val_loss: 0.1985 - val_acc: 0.9309\n",
      "Epoch 5/30\n",
      "85639/85639 [==============================] - 11s 124us/step - loss: 0.1217 - acc: 0.9587 - val_loss: 0.1776 - val_acc: 0.9405\n",
      "Epoch 6/30\n",
      "85639/85639 [==============================] - 11s 124us/step - loss: 0.0824 - acc: 0.9738 - val_loss: 0.1583 - val_acc: 0.9485\n",
      "Epoch 7/30\n",
      "85639/85639 [==============================] - 11s 124us/step - loss: 0.0939 - acc: 0.9749 - val_loss: 0.2407 - val_acc: 0.9185\n",
      "Epoch 8/30\n",
      "85639/85639 [==============================] - 11s 124us/step - loss: 0.0561 - acc: 0.9837 - val_loss: 0.1629 - val_acc: 0.9526\n",
      "Epoch 9/30\n",
      "85639/85639 [==============================] - 11s 124us/step - loss: 0.0198 - acc: 0.9953 - val_loss: 0.1596 - val_acc: 0.9580\n",
      "Epoch 10/30\n",
      "85639/85639 [==============================] - 11s 124us/step - loss: 0.0111 - acc: 0.9979 - val_loss: 0.1858 - val_acc: 0.9581\n",
      "Epoch 11/30\n",
      "85639/85639 [==============================] - 11s 124us/step - loss: 0.0072 - acc: 0.9987 - val_loss: 0.1993 - val_acc: 0.9564\n",
      "Epoch 12/30\n",
      "85639/85639 [==============================] - 11s 124us/step - loss: 0.0054 - acc: 0.9991 - val_loss: 0.2064 - val_acc: 0.9556\n",
      "Epoch 13/30\n",
      "85639/85639 [==============================] - 11s 124us/step - loss: 0.0044 - acc: 0.9993 - val_loss: 0.2125 - val_acc: 0.9568\n",
      "Epoch 14/30\n",
      "85639/85639 [==============================] - 11s 124us/step - loss: 0.0042 - acc: 0.9994 - val_loss: 0.2109 - val_acc: 0.9595\n",
      "Epoch 15/30\n",
      "85639/85639 [==============================] - 11s 124us/step - loss: 0.0028 - acc: 0.9996 - val_loss: 0.2065 - val_acc: 0.9593\n",
      "Epoch 16/30\n",
      "85639/85639 [==============================] - 11s 123us/step - loss: 0.0083 - acc: 0.9980 - val_loss: 0.2098 - val_acc: 0.9553\n",
      "Epoch 17/30\n",
      "85639/85639 [==============================] - 11s 123us/step - loss: 0.0091 - acc: 0.9975 - val_loss: 0.2726 - val_acc: 0.9491\n",
      "Epoch 18/30\n",
      "85639/85639 [==============================] - 11s 123us/step - loss: 0.0102 - acc: 0.9971 - val_loss: 0.2463 - val_acc: 0.9550\n",
      "Epoch 19/30\n",
      "85639/85639 [==============================] - 11s 123us/step - loss: 0.0080 - acc: 0.9978 - val_loss: 0.2679 - val_acc: 0.9520\n",
      "Epoch 20/30\n",
      "85639/85639 [==============================] - 11s 123us/step - loss: 0.0040 - acc: 0.9991 - val_loss: 0.2520 - val_acc: 0.9556\n",
      "Epoch 21/30\n",
      "85639/85639 [==============================] - 11s 124us/step - loss: 0.0026 - acc: 0.9995 - val_loss: 0.2506 - val_acc: 0.9562\n",
      "Epoch 22/30\n",
      "85639/85639 [==============================] - 11s 123us/step - loss: 0.0020 - acc: 0.9997 - val_loss: 0.2554 - val_acc: 0.9571\n",
      "Epoch 23/30\n",
      "85639/85639 [==============================] - 11s 123us/step - loss: 0.0028 - acc: 0.9994 - val_loss: 0.2210 - val_acc: 0.9610\n",
      "Epoch 24/30\n",
      "85639/85639 [==============================] - 11s 123us/step - loss: 0.0020 - acc: 0.9997 - val_loss: 0.2335 - val_acc: 0.9605\n",
      "Epoch 25/30\n",
      "85639/85639 [==============================] - 11s 124us/step - loss: 0.0015 - acc: 0.9998 - val_loss: 0.2362 - val_acc: 0.9599\n",
      "Epoch 26/30\n",
      "85639/85639 [==============================] - 11s 123us/step - loss: 0.0012 - acc: 0.9999 - val_loss: 0.2355 - val_acc: 0.9611\n",
      "Epoch 27/30\n",
      "85639/85639 [==============================] - 11s 124us/step - loss: 0.0012 - acc: 0.9999 - val_loss: 0.2412 - val_acc: 0.9587\n",
      "Epoch 28/30\n",
      "85639/85639 [==============================] - 11s 123us/step - loss: 0.0019 - acc: 0.9996 - val_loss: 0.2543 - val_acc: 0.9550\n",
      "Epoch 29/30\n",
      "85639/85639 [==============================] - 11s 124us/step - loss: 0.0022 - acc: 0.9995 - val_loss: 0.2373 - val_acc: 0.9595\n",
      "Epoch 30/30\n",
      "85639/85639 [==============================] - 11s 124us/step - loss: 0.0016 - acc: 0.9997 - val_loss: 0.2334 - val_acc: 0.9599\n"
     ]
    }
   ],
   "source": [
    "history = model.fit(x_train, y_train,\n",
    "         validation_data=[x_test, y_test],\n",
    "         epochs=epoch,\n",
    "         batch_size=batch_size,\n",
    "         verbose=1           \n",
    "         )"
   ]
  },
  {
   "cell_type": "markdown",
   "metadata": {},
   "source": [
    "- テストデータで評価．    "
   ]
  },
  {
   "cell_type": "code",
   "execution_count": 46,
   "metadata": {},
   "outputs": [
    {
     "name": "stdout",
     "output_type": "stream",
     "text": [
      "42181/42181 [==============================] - 2s 38us/step\n",
      "Testing Accuracy: 0.9598634454971758\n"
     ]
    }
   ],
   "source": [
    "score = model.score(x_test, y_test)\n",
    "#print('Test Loss:', score[0])\n",
    "#print('Test accuracy:', score[1])\n",
    "print('Testing Accuracy:',score)"
   ]
  },
  {
   "cell_type": "markdown",
   "metadata": {},
   "source": [
    "- acuurayは96.31%であった．"
   ]
  },
  {
   "cell_type": "markdown",
   "metadata": {},
   "source": [
    "- モデルは以下．\n",
    "    - 入力層\n",
    "    - 畳み込み層3つ\n",
    "    - Flatten層（1次元に）\n",
    "    - 全結合層3つ"
   ]
  },
  {
   "cell_type": "code",
   "execution_count": 47,
   "metadata": {
    "scrolled": true
   },
   "outputs": [
    {
     "name": "stdout",
     "output_type": "stream",
     "text": [
      "_________________________________________________________________\n",
      "Layer (type)                 Output Shape              Param #   \n",
      "=================================================================\n",
      "input_6 (InputLayer)         (None, 26, 26, 3)         0         \n",
      "_________________________________________________________________\n",
      "conv2d_11 (Conv2D)           (None, 26, 26, 16)        448       \n",
      "_________________________________________________________________\n",
      "conv2d_12 (Conv2D)           (None, 26, 26, 64)        9280      \n",
      "_________________________________________________________________\n",
      "conv2d_13 (Conv2D)           (None, 26, 26, 128)       73856     \n",
      "_________________________________________________________________\n",
      "flatten_4 (Flatten)          (None, 86528)             0         \n",
      "_________________________________________________________________\n",
      "dense_10 (Dense)             (None, 512)               44302848  \n",
      "_________________________________________________________________\n",
      "dense_11 (Dense)             (None, 128)               65664     \n",
      "_________________________________________________________________\n",
      "dense_12 (Dense)             (None, 9)                 1161      \n",
      "=================================================================\n",
      "Total params: 44,453,257\n",
      "Trainable params: 44,453,257\n",
      "Non-trainable params: 0\n",
      "_________________________________________________________________\n"
     ]
    }
   ],
   "source": [
    "model.model.summary()"
   ]
  },
  {
   "cell_type": "markdown",
   "metadata": {},
   "source": [
    "- accuracyグラフ，lossグラフは以下．\n",
    "- 5epoch程度で落ち着いている．"
   ]
  },
  {
   "cell_type": "code",
   "execution_count": 48,
   "metadata": {},
   "outputs": [
    {
     "data": {
      "image/png": "[encoded data removed]",
      "text/plain": [
       "<Figure size 432x288 with 1 Axes>"
      ]
     },
     "metadata": {},
     "output_type": "display_data"
    },
    {
     "data": {
      "image/png": "[encoded data removed]",
      "text/plain": [
       "<Figure size 432x288 with 1 Axes>"
      ]
     },
     "metadata": {},
     "output_type": "display_data"
    }
   ],
   "source": [
    "# accuracy plot \n",
    "plt.plot(history.history['acc'])\n",
    "plt.plot(history.history['val_acc'])\n",
    "plt.title('model accuracy')\n",
    "plt.ylabel('accuracy')\n",
    "plt.xlabel('epoch')\n",
    "plt.legend(['train', 'test'], loc='upper left')\n",
    "plt.show()\n",
    "\n",
    "# loss plot\n",
    "plt.plot(history.history['loss'])\n",
    "plt.plot(history.history['val_loss'])\n",
    "plt.title('model loss')\n",
    "plt.ylabel('loss')\n",
    "plt.xlabel('epoch')\n",
    "plt.legend(['train', 'test'], loc='upper left')\n",
    "plt.show()"
   ]
  },
  {
   "cell_type": "code",
   "execution_count": 49,
   "metadata": {},
   "outputs": [
    {
     "name": "stdout",
     "output_type": "stream",
     "text": [
      "85639/85639 [==============================] - 3s 39us/step\n",
      "42181/42181 [==============================] - 2s 37us/step\n",
      "4\n",
      "4\n",
      "Training acc: 99.99065846168219\n",
      "Testing acc: 95.9863445627178\n",
      "y_train_pred[:100]:  [4 3 1 6 2 4 6 6 2 2 4 6 6 7 4 5 5 4 2 6 0 1 5 5 1 5 5 7 1 0 5 7 4 8 3 4 6\n",
      " 3 7 3 5 7 6 6 7 1 1 5 0 8 0 6 1 3 7 2 5 8 2 6 4 5 6 0 3 6 6 4 2 3 8 1 8 0\n",
      " 3 1 4 0 8 2 6 5 3 2 4 4 7 7 3 5 0 5 5 3 5 2 0 1 0 3]\n",
      "y_train_max[:100]:  [4 3 1 6 2 4 6 6 2 2 4 6 6 7 4 5 5 4 2 6 0 1 5 5 1 5 5 7 1 0 5 7 4 8 3 4 6\n",
      " 3 7 3 5 7 6 6 7 1 1 5 0 8 0 6 1 3 7 2 5 8 2 6 4 5 6 0 3 6 6 4 2 3 8 1 8 0\n",
      " 3 1 4 0 8 2 6 5 3 2 4 4 7 7 3 5 0 5 5 3 5 2 0 1 0 3]\n"
     ]
    }
   ],
   "source": [
    "#y_train_pred = np.argmax(model.predict(x_train))\n",
    "y_train_pred = model.predict(x_train)\n",
    "y_test_pred = model.predict(x_test)\n",
    "y_train_max = np.argmax(y_train, axis=1)\n",
    "y_test_max = np.argmax(y_test, axis=1)\n",
    "\n",
    "print(y_train_max[0])\n",
    "print(y_train_pred[0])\n",
    "\n",
    "train_acc2 = np.sum(y_train_max == y_train_pred, axis=0, dtype='float') / x_train.shape[0]\n",
    "test_acc2 = np.sum(y_test_max == y_test_pred, axis=0, dtype='float') / x_test.shape[0]\n",
    "print('Training acc: {}'.format(train_acc2*100))\n",
    "print('Testing acc: {}'.format(test_acc2*100))\n",
    "print(\"y_train_pred[:100]: \", y_train_pred[:100])\n",
    "print (\"y_train_max[:100]: \", y_train_max[:100])"
   ]
  },
  {
   "cell_type": "markdown",
   "metadata": {},
   "source": [
    "### 混同行列"
   ]
  },
  {
   "cell_type": "code",
   "execution_count": 50,
   "metadata": {},
   "outputs": [],
   "source": [
    "import itertools\n",
    "from sklearn.metrics import confusion_matrix\n",
    "\n",
    "def plot_confusion_matrix(cm, normalize=False, title='Confusion matrix', cmap=plt.cm.Blues):\n",
    "    \"\"\"\n",
    "    This function prints and plots the confusion matrix.\n",
    "    Normalization can be applied by setting `normalize=True`.\n",
    "    \"\"\"\n",
    "    if normalize:\n",
    "        cm = cm.astype('float') / cm.sum(axis=1)[:, np.newaxis]\n",
    "        print(\"Normalized confusion matrix\")\n",
    "    else:\n",
    "        print('Confusion matrix, without normalization')\n",
    "\n",
    "    #print(cm)\n",
    "\n",
    "    plt.imshow(cm, interpolation='nearest', cmap=cmap)\n",
    "    plt.title(title)\n",
    "    plt.colorbar()\n",
    "\n",
    "    fmt = '.2f' if normalize else 'd'\n",
    "    thresh = cm.max() / 2.\n",
    "    for i, j in itertools.product(range(cm.shape[0]), range(cm.shape[1])):\n",
    "        plt.text(j, i, format(cm[i, j], fmt),\n",
    "                 horizontalalignment=\"center\",\n",
    "                 color=\"white\" if cm[i, j] > thresh else \"black\")\n",
    "\n",
    "    plt.tight_layout()\n",
    "    plt.ylabel('True label')\n",
    "    plt.xlabel('Predicted label')"
   ]
  },
  {
   "cell_type": "code",
   "execution_count": 51,
   "metadata": {},
   "outputs": [
    {
     "name": "stdout",
     "output_type": "stream",
     "text": [
      "Confusion matrix, without normalization\n",
      "Normalized confusion matrix\n"
     ]
    },
    {
     "data": {
      "image/png": "[encoded data removed]",
      "text/plain": [
       "<Figure size 576x1080 with 4 Axes>"
      ]
     },
     "metadata": {},
     "output_type": "display_data"
    }
   ],
   "source": [
    "# Compute confusion matrix\n",
    "cnf_matrix = confusion_matrix(y_test_max, y_test_pred)\n",
    "np.set_printoptions(precision=2)\n",
    "\n",
    "from matplotlib import gridspec\n",
    "fig = plt.figure(figsize=(8, 15)) \n",
    "gs = gridspec.GridSpec(2, 1, height_ratios=[1, 1]) \n",
    "\n",
    "## Plot non-normalized confusion matrix\n",
    "plt.subplot(gs[0])\n",
    "plot_confusion_matrix(cnf_matrix, title='Confusion matrix')\n",
    "\n",
    "# Plot normalized confusion matrix\n",
    "plt.subplot(gs[1])\n",
    "plot_confusion_matrix(cnf_matrix, normalize=True, title='Normalized confusion matrix')\n",
    "\n",
    "plt.show()"
   ]
  }
 ],
 "metadata": {
  "kernelspec": {
   "display_name": "Python 3 (Anaconda)",
   "language": "python",
   "name": "python3_anaconda"
  },
  "language_info": {
   "codemirror_mode": {
    "name": "ipython",
    "version": 3
   },
   "file_extension": ".py",
   "mimetype": "text/x-python",
   "name": "python",
   "nbconvert_exporter": "python",
   "pygments_lexer": "ipython3",
   "version": "3.6.8"
  }
 },
 "nbformat": 4,
 "nbformat_minor": 2
}
