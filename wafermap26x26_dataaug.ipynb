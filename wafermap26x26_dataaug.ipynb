{
 "cells": [
  {
   "cell_type": "markdown",
   "metadata": {},
   "source": [
    "## 26x26のウエハに限定して機械学習させる\n",
    "- データオーギュメンテーション（鏡映，回転を追加）"
   ]
  },
  {
   "cell_type": "markdown",
   "metadata": {},
   "source": [
    "### import，入力データの読み込み"
   ]
  },
  {
   "cell_type": "code",
   "execution_count": 1,
   "metadata": {},
   "outputs": [
    {
     "name": "stdout",
     "output_type": "stream",
     "text": [
      "../input/LSWMD.pkl\n"
     ]
    }
   ],
   "source": [
    "# This Python 3 environment comes with many helpful analytics libraries installed\n",
    "# It is defined by the kaggle/python docker image: https://github.com/kaggle/docker-python\n",
    "# For example, here's several helpful packages to load in \n",
    "\n",
    "import numpy as np # linear algebra\n",
    "import pandas as pd # data processing, CSV file I/O (e.g. pd.read_csv)\n",
    "\n",
    "# Input data files are available in the \"../input/\" directory.\n",
    "# For example, running this (by clicking run or pressing Shift+Enter) will list all files under the input directory\n",
    "\n",
    "import os\n",
    "for dirname, _, filenames in os.walk('../input'):\n",
    "    for filename in filenames:\n",
    "        print(os.path.join(dirname, filename))\n",
    "\n",
    "# Any results you write to the current directory are saved as output."
   ]
  },
  {
   "cell_type": "code",
   "execution_count": 2,
   "metadata": {
    "scrolled": true
   },
   "outputs": [
    {
     "name": "stdout",
     "output_type": "stream",
     "text": [
      "using GPU: 0\n"
     ]
    },
    {
     "name": "stderr",
     "output_type": "stream",
     "text": [
      "Using TensorFlow backend.\n"
     ]
    },
    {
     "name": "stdout",
     "output_type": "stream",
     "text": [
      "['LSWMD.pkl']\n"
     ]
    }
   ],
   "source": [
    "import os\n",
    "from os.path import join\n",
    "\n",
    "import numpy as np\n",
    "import pandas as pd\n",
    "import cv2\n",
    "\n",
    "from sklearn.model_selection import KFold \n",
    "from sklearn.model_selection import cross_val_score\n",
    "from sklearn.model_selection import train_test_split\n",
    "\n",
    "import tensorflow as tf\n",
    "import keras\n",
    "from keras import layers, Input, models\n",
    "from keras.utils import to_categorical\n",
    "from keras.wrappers.scikit_learn import KerasClassifier \n",
    "\n",
    "\n",
    "import matplotlib.pyplot as plt\n",
    "\n",
    "from keras.preprocessing import image\n",
    "from keras.preprocessing.image import ImageDataGenerator\n",
    "\n",
    "datapath = join('data', 'wafer')\n",
    "\n",
    "print(os.listdir(\"../input\"))\n",
    "import warnings\n",
    "warnings.filterwarnings(\"ignore\")"
   ]
  },
  {
   "cell_type": "markdown",
   "metadata": {},
   "source": [
    "### データについて"
   ]
  },
  {
   "cell_type": "code",
   "execution_count": 3,
   "metadata": {
    "scrolled": false
   },
   "outputs": [
    {
     "name": "stdout",
     "output_type": "stream",
     "text": [
      "<class 'pandas.core.frame.DataFrame'>\n",
      "RangeIndex: 811457 entries, 0 to 811456\n",
      "Data columns (total 6 columns):\n",
      " #   Column          Non-Null Count   Dtype  \n",
      "---  ------          --------------   -----  \n",
      " 0   waferMap        811457 non-null  object \n",
      " 1   dieSize         811457 non-null  float64\n",
      " 2   lotName         811457 non-null  object \n",
      " 3   waferIndex      811457 non-null  float64\n",
      " 4   trianTestLabel  811457 non-null  object \n",
      " 5   failureType     811457 non-null  object \n",
      "dtypes: float64(2), object(4)\n",
      "memory usage: 37.1+ MB\n"
     ]
    }
   ],
   "source": [
    "df=pd.read_pickle(\"../input/LSWMD.pkl\")\n",
    "df.info()"
   ]
  },
  {
   "cell_type": "markdown",
   "metadata": {},
   "source": [
    "- データセットは811,457枚のウエハマップから構成されている．"
   ]
  },
  {
   "cell_type": "code",
   "execution_count": 4,
   "metadata": {
    "scrolled": true
   },
   "outputs": [
    {
     "data": {
      "text/html": [
       "<div>\n",
       "<style scoped>\n",
       "    .dataframe tbody tr th:only-of-type {\n",
       "        vertical-align: middle;\n",
       "    }\n",
       "\n",
       "    .dataframe tbody tr th {\n",
       "        vertical-align: top;\n",
       "    }\n",
       "\n",
       "    .dataframe thead th {\n",
       "        text-align: right;\n",
       "    }\n",
       "</style>\n",
       "<table border=\"1\" class=\"dataframe\">\n",
       "  <thead>\n",
       "    <tr style=\"text-align: right;\">\n",
       "      <th></th>\n",
       "      <th>waferMap</th>\n",
       "      <th>dieSize</th>\n",
       "      <th>lotName</th>\n",
       "      <th>waferIndex</th>\n",
       "      <th>trianTestLabel</th>\n",
       "      <th>failureType</th>\n",
       "    </tr>\n",
       "  </thead>\n",
       "  <tbody>\n",
       "    <tr>\n",
       "      <th>811452</th>\n",
       "      <td>[[0, 0, 0, 0, 0, 0, 0, 0, 0, 0, 0, 1, 2, 1, 1,...</td>\n",
       "      <td>600.0</td>\n",
       "      <td>lot47542</td>\n",
       "      <td>23.0</td>\n",
       "      <td>[[Test]]</td>\n",
       "      <td>[[Edge-Ring]]</td>\n",
       "    </tr>\n",
       "    <tr>\n",
       "      <th>811453</th>\n",
       "      <td>[[0, 0, 0, 0, 0, 0, 0, 0, 0, 0, 0, 2, 2, 1, 1,...</td>\n",
       "      <td>600.0</td>\n",
       "      <td>lot47542</td>\n",
       "      <td>24.0</td>\n",
       "      <td>[[Test]]</td>\n",
       "      <td>[[Edge-Loc]]</td>\n",
       "    </tr>\n",
       "    <tr>\n",
       "      <th>811454</th>\n",
       "      <td>[[0, 0, 0, 0, 0, 0, 0, 0, 0, 0, 0, 1, 2, 1, 1,...</td>\n",
       "      <td>600.0</td>\n",
       "      <td>lot47542</td>\n",
       "      <td>25.0</td>\n",
       "      <td>[[Test]]</td>\n",
       "      <td>[[Edge-Ring]]</td>\n",
       "    </tr>\n",
       "    <tr>\n",
       "      <th>811455</th>\n",
       "      <td>[[0, 0, 0, 0, 0, 0, 0, 0, 0, 0, 0, 1, 1, 1, 1,...</td>\n",
       "      <td>600.0</td>\n",
       "      <td>lot47543</td>\n",
       "      <td>1.0</td>\n",
       "      <td>[]</td>\n",
       "      <td>[]</td>\n",
       "    </tr>\n",
       "    <tr>\n",
       "      <th>811456</th>\n",
       "      <td>[[0, 0, 0, 0, 0, 0, 0, 0, 0, 0, 0, 1, 2, 1, 1,...</td>\n",
       "      <td>600.0</td>\n",
       "      <td>lot47543</td>\n",
       "      <td>2.0</td>\n",
       "      <td>[]</td>\n",
       "      <td>[]</td>\n",
       "    </tr>\n",
       "  </tbody>\n",
       "</table>\n",
       "</div>"
      ],
      "text/plain": [
       "                                                 waferMap  dieSize   lotName  \\\n",
       "811452  [[0, 0, 0, 0, 0, 0, 0, 0, 0, 0, 0, 1, 2, 1, 1,...    600.0  lot47542   \n",
       "811453  [[0, 0, 0, 0, 0, 0, 0, 0, 0, 0, 0, 2, 2, 1, 1,...    600.0  lot47542   \n",
       "811454  [[0, 0, 0, 0, 0, 0, 0, 0, 0, 0, 0, 1, 2, 1, 1,...    600.0  lot47542   \n",
       "811455  [[0, 0, 0, 0, 0, 0, 0, 0, 0, 0, 0, 1, 1, 1, 1,...    600.0  lot47543   \n",
       "811456  [[0, 0, 0, 0, 0, 0, 0, 0, 0, 0, 0, 1, 2, 1, 1,...    600.0  lot47543   \n",
       "\n",
       "        waferIndex trianTestLabel    failureType  \n",
       "811452        23.0       [[Test]]  [[Edge-Ring]]  \n",
       "811453        24.0       [[Test]]   [[Edge-Loc]]  \n",
       "811454        25.0       [[Test]]  [[Edge-Ring]]  \n",
       "811455         1.0             []             []  \n",
       "811456         2.0             []             []  "
      ]
     },
     "execution_count": 4,
     "metadata": {},
     "output_type": "execute_result"
    }
   ],
   "source": [
    "df.tail()"
   ]
  },
  {
   "cell_type": "markdown",
   "metadata": {},
   "source": [
    "- ウエハマップのそれぞれの列から得られる情報はないが，インスタンスごとにダイサイズが異なることがわかる．\n",
    "- ウエハマップのダイサイズをチェックするための変数`WaferMapDim`を定義する．（縦，横の値）"
   ]
  },
  {
   "cell_type": "code",
   "execution_count": 5,
   "metadata": {},
   "outputs": [],
   "source": [
    "df = df.drop(['waferIndex'], axis = 1)"
   ]
  },
  {
   "cell_type": "code",
   "execution_count": 6,
   "metadata": {},
   "outputs": [
    {
     "data": {
      "text/html": [
       "<div>\n",
       "<style scoped>\n",
       "    .dataframe tbody tr th:only-of-type {\n",
       "        vertical-align: middle;\n",
       "    }\n",
       "\n",
       "    .dataframe tbody tr th {\n",
       "        vertical-align: top;\n",
       "    }\n",
       "\n",
       "    .dataframe thead th {\n",
       "        text-align: right;\n",
       "    }\n",
       "</style>\n",
       "<table border=\"1\" class=\"dataframe\">\n",
       "  <thead>\n",
       "    <tr style=\"text-align: right;\">\n",
       "      <th></th>\n",
       "      <th>waferMap</th>\n",
       "      <th>dieSize</th>\n",
       "      <th>lotName</th>\n",
       "      <th>trianTestLabel</th>\n",
       "      <th>failureType</th>\n",
       "      <th>waferMapDim</th>\n",
       "    </tr>\n",
       "  </thead>\n",
       "  <tbody>\n",
       "    <tr>\n",
       "      <th>402508</th>\n",
       "      <td>[[0, 0, 0, 0, 0, 0, 0, 0, 0, 0, 0, 0, 0, 1, 1,...</td>\n",
       "      <td>811.0</td>\n",
       "      <td>lot24121</td>\n",
       "      <td>[]</td>\n",
       "      <td>[]</td>\n",
       "      <td>(34, 31)</td>\n",
       "    </tr>\n",
       "    <tr>\n",
       "      <th>97252</th>\n",
       "      <td>[[0, 0, 0, 0, 0, 0, 0, 0, 0, 0, 0, 0, 0, 0, 0,...</td>\n",
       "      <td>5082.0</td>\n",
       "      <td>lot6805</td>\n",
       "      <td>[]</td>\n",
       "      <td>[]</td>\n",
       "      <td>(87, 74)</td>\n",
       "    </tr>\n",
       "    <tr>\n",
       "      <th>53645</th>\n",
       "      <td>[[0, 0, 0, 0, 0, 0, 0, 0, 0, 0, 0, 0, 0, 0, 0,...</td>\n",
       "      <td>5082.0</td>\n",
       "      <td>lot4343</td>\n",
       "      <td>[]</td>\n",
       "      <td>[]</td>\n",
       "      <td>(87, 74)</td>\n",
       "    </tr>\n",
       "    <tr>\n",
       "      <th>504448</th>\n",
       "      <td>[[0, 0, 0, 0, 0, 0, 0, 0, 0, 0, 0, 0, 1, 1, 1,...</td>\n",
       "      <td>710.0</td>\n",
       "      <td>lot31343</td>\n",
       "      <td>[]</td>\n",
       "      <td>[]</td>\n",
       "      <td>(32, 29)</td>\n",
       "    </tr>\n",
       "    <tr>\n",
       "      <th>675204</th>\n",
       "      <td>[[0, 0, 0, 0, 0, 0, 0, 0, 0, 0, 0, 0, 1, 1, 2,...</td>\n",
       "      <td>592.0</td>\n",
       "      <td>lot42017</td>\n",
       "      <td>[[Test]]</td>\n",
       "      <td>[[none]]</td>\n",
       "      <td>(29, 27)</td>\n",
       "    </tr>\n",
       "  </tbody>\n",
       "</table>\n",
       "</div>"
      ],
      "text/plain": [
       "                                                 waferMap  dieSize   lotName  \\\n",
       "402508  [[0, 0, 0, 0, 0, 0, 0, 0, 0, 0, 0, 0, 0, 1, 1,...    811.0  lot24121   \n",
       "97252   [[0, 0, 0, 0, 0, 0, 0, 0, 0, 0, 0, 0, 0, 0, 0,...   5082.0   lot6805   \n",
       "53645   [[0, 0, 0, 0, 0, 0, 0, 0, 0, 0, 0, 0, 0, 0, 0,...   5082.0   lot4343   \n",
       "504448  [[0, 0, 0, 0, 0, 0, 0, 0, 0, 0, 0, 0, 1, 1, 1,...    710.0  lot31343   \n",
       "675204  [[0, 0, 0, 0, 0, 0, 0, 0, 0, 0, 0, 0, 1, 1, 2,...    592.0  lot42017   \n",
       "\n",
       "       trianTestLabel failureType waferMapDim  \n",
       "402508             []          []    (34, 31)  \n",
       "97252              []          []    (87, 74)  \n",
       "53645              []          []    (87, 74)  \n",
       "504448             []          []    (32, 29)  \n",
       "675204       [[Test]]    [[none]]    (29, 27)  "
      ]
     },
     "execution_count": 6,
     "metadata": {},
     "output_type": "execute_result"
    }
   ],
   "source": [
    "def find_dim(x):\n",
    "    dim0=np.size(x,axis=0)\n",
    "    dim1=np.size(x,axis=1)\n",
    "    return dim0,dim1\n",
    "df['waferMapDim']=df.waferMap.apply(find_dim)\n",
    "df.sample(5)"
   ]
  },
  {
   "cell_type": "markdown",
   "metadata": {},
   "source": [
    "- 不良パターンと学習orテストラベルを数値で表す．"
   ]
  },
  {
   "cell_type": "code",
   "execution_count": 7,
   "metadata": {},
   "outputs": [],
   "source": [
    "df['failureNum']=df.failureType\n",
    "df['trainTestNum']=df.trianTestLabel\n",
    "mapping_type={'Center':0,'Donut':1,'Edge-Loc':2,'Edge-Ring':3,'Loc':4,'Random':5,'Scratch':6,'Near-full':7,'none':8}\n",
    "mapping_traintest={'Training':0,'Test':1}\n",
    "df=df.replace({'failureNum':mapping_type, 'trainTestNum':mapping_traintest})"
   ]
  },
  {
   "cell_type": "code",
   "execution_count": 8,
   "metadata": {},
   "outputs": [
    {
     "data": {
      "text/plain": [
       "811457"
      ]
     },
     "execution_count": 8,
     "metadata": {},
     "output_type": "execute_result"
    }
   ],
   "source": [
    "tol_wafers = df.shape[0]\n",
    "tol_wafers"
   ]
  },
  {
   "cell_type": "code",
   "execution_count": 9,
   "metadata": {},
   "outputs": [
    {
     "data": {
      "text/plain": [
       "(172950, 25519, 147431)"
      ]
     },
     "execution_count": 9,
     "metadata": {},
     "output_type": "execute_result"
    }
   ],
   "source": [
    "df_withlabel = df[(df['failureNum']>=0) & (df['failureNum']<=8)]\n",
    "df_withlabel =df_withlabel.reset_index()\n",
    "df_withpattern = df[(df['failureNum']>=0) & (df['failureNum']<=7)]\n",
    "df_withpattern = df_withpattern.reset_index()\n",
    "df_nonpattern = df[(df['failureNum']==8)]\n",
    "df_withlabel.shape[0], df_withpattern.shape[0], df_nonpattern.shape[0]"
   ]
  },
  {
   "cell_type": "markdown",
   "metadata": {},
   "source": [
    "### 26x26のデータに対して処理"
   ]
  },
  {
   "cell_type": "code",
   "execution_count": 10,
   "metadata": {},
   "outputs": [],
   "source": [
    "sub_df = df.loc[df['waferMapDim'] == (26, 26)]\n",
    "sub_wafer = sub_df['waferMap'].values\n",
    "\n",
    "sw = np.ones((1, 26, 26))\n",
    "label = list()\n",
    "\n",
    "for i in range(len(sub_df)):\n",
    "    # skip null label\n",
    "    if len(sub_df.iloc[i,:]['failureType']) == 0:\n",
    "        continue\n",
    "    sw = np.concatenate((sw, sub_df.iloc[i,:]['waferMap'].reshape(1, 26, 26)))\n",
    "    label.append(sub_df.iloc[i,:]['failureType'][0][0])"
   ]
  },
  {
   "cell_type": "code",
   "execution_count": 11,
   "metadata": {
    "scrolled": true
   },
   "outputs": [
    {
     "data": {
      "text/html": [
       "<div>\n",
       "<style scoped>\n",
       "    .dataframe tbody tr th:only-of-type {\n",
       "        vertical-align: middle;\n",
       "    }\n",
       "\n",
       "    .dataframe tbody tr th {\n",
       "        vertical-align: top;\n",
       "    }\n",
       "\n",
       "    .dataframe thead th {\n",
       "        text-align: right;\n",
       "    }\n",
       "</style>\n",
       "<table border=\"1\" class=\"dataframe\">\n",
       "  <thead>\n",
       "    <tr style=\"text-align: right;\">\n",
       "      <th></th>\n",
       "      <th>waferMap</th>\n",
       "      <th>dieSize</th>\n",
       "      <th>lotName</th>\n",
       "      <th>trianTestLabel</th>\n",
       "      <th>failureType</th>\n",
       "      <th>waferMapDim</th>\n",
       "      <th>failureNum</th>\n",
       "      <th>trainTestNum</th>\n",
       "    </tr>\n",
       "  </thead>\n",
       "  <tbody>\n",
       "    <tr>\n",
       "      <th>150</th>\n",
       "      <td>[[0, 0, 0, 0, 0, 0, 0, 0, 0, 0, 2, 2, 1, 1, 2,...</td>\n",
       "      <td>533.0</td>\n",
       "      <td>lot7</td>\n",
       "      <td>[[Training]]</td>\n",
       "      <td>[[none]]</td>\n",
       "      <td>(26, 26)</td>\n",
       "      <td>8</td>\n",
       "      <td>0</td>\n",
       "    </tr>\n",
       "    <tr>\n",
       "      <th>151</th>\n",
       "      <td>[[0, 0, 0, 0, 0, 0, 0, 0, 0, 0, 2, 1, 1, 1, 1,...</td>\n",
       "      <td>533.0</td>\n",
       "      <td>lot7</td>\n",
       "      <td>[[Training]]</td>\n",
       "      <td>[[none]]</td>\n",
       "      <td>(26, 26)</td>\n",
       "      <td>8</td>\n",
       "      <td>0</td>\n",
       "    </tr>\n",
       "    <tr>\n",
       "      <th>152</th>\n",
       "      <td>[[0, 0, 0, 0, 0, 0, 0, 0, 0, 0, 1, 2, 1, 1, 1,...</td>\n",
       "      <td>533.0</td>\n",
       "      <td>lot7</td>\n",
       "      <td>[[Training]]</td>\n",
       "      <td>[[none]]</td>\n",
       "      <td>(26, 26)</td>\n",
       "      <td>8</td>\n",
       "      <td>0</td>\n",
       "    </tr>\n",
       "    <tr>\n",
       "      <th>153</th>\n",
       "      <td>[[0, 0, 0, 0, 0, 0, 0, 0, 0, 0, 1, 2, 2, 1, 1,...</td>\n",
       "      <td>533.0</td>\n",
       "      <td>lot7</td>\n",
       "      <td>[[Training]]</td>\n",
       "      <td>[[none]]</td>\n",
       "      <td>(26, 26)</td>\n",
       "      <td>8</td>\n",
       "      <td>0</td>\n",
       "    </tr>\n",
       "    <tr>\n",
       "      <th>154</th>\n",
       "      <td>[[0, 0, 0, 0, 0, 0, 0, 0, 0, 0, 2, 2, 2, 2, 2,...</td>\n",
       "      <td>533.0</td>\n",
       "      <td>lot7</td>\n",
       "      <td>[[Training]]</td>\n",
       "      <td>[[none]]</td>\n",
       "      <td>(26, 26)</td>\n",
       "      <td>8</td>\n",
       "      <td>0</td>\n",
       "    </tr>\n",
       "  </tbody>\n",
       "</table>\n",
       "</div>"
      ],
      "text/plain": [
       "                                              waferMap  dieSize lotName  \\\n",
       "150  [[0, 0, 0, 0, 0, 0, 0, 0, 0, 0, 2, 2, 1, 1, 2,...    533.0    lot7   \n",
       "151  [[0, 0, 0, 0, 0, 0, 0, 0, 0, 0, 2, 1, 1, 1, 1,...    533.0    lot7   \n",
       "152  [[0, 0, 0, 0, 0, 0, 0, 0, 0, 0, 1, 2, 1, 1, 1,...    533.0    lot7   \n",
       "153  [[0, 0, 0, 0, 0, 0, 0, 0, 0, 0, 1, 2, 2, 1, 1,...    533.0    lot7   \n",
       "154  [[0, 0, 0, 0, 0, 0, 0, 0, 0, 0, 2, 2, 2, 2, 2,...    533.0    lot7   \n",
       "\n",
       "    trianTestLabel failureType waferMapDim failureNum trainTestNum  \n",
       "150   [[Training]]    [[none]]    (26, 26)          8            0  \n",
       "151   [[Training]]    [[none]]    (26, 26)          8            0  \n",
       "152   [[Training]]    [[none]]    (26, 26)          8            0  \n",
       "153   [[Training]]    [[none]]    (26, 26)          8            0  \n",
       "154   [[Training]]    [[none]]    (26, 26)          8            0  "
      ]
     },
     "execution_count": 11,
     "metadata": {},
     "output_type": "execute_result"
    }
   ],
   "source": [
    "sub_df.head()"
   ]
  },
  {
   "cell_type": "code",
   "execution_count": 12,
   "metadata": {},
   "outputs": [],
   "source": [
    "x = sw[1:]\n",
    "y = np.array(label).reshape((-1,1))"
   ]
  },
  {
   "cell_type": "code",
   "execution_count": 13,
   "metadata": {},
   "outputs": [],
   "source": [
    "mask_x = np.zeros((24, 24))\n",
    "dummy_x = cv2.resize(x[0], (24,24))\n",
    "mask_x[dummy_x == 1] = 1 \n",
    "mask_x[dummy_x == 2] = 1 \n",
    "mask_x = mask_x.reshape((1, 24,24))"
   ]
  },
  {
   "cell_type": "code",
   "execution_count": 14,
   "metadata": {},
   "outputs": [
    {
     "name": "stdout",
     "output_type": "stream",
     "text": [
      "x shape : (14366, 26, 26), y shape : (14366, 1)\n"
     ]
    }
   ],
   "source": [
    "print('x shape : {}, y shape : {}'.format(x.shape, y.shape))"
   ]
  },
  {
   "cell_type": "markdown",
   "metadata": {},
   "source": [
    "- 26x26のウエハが14366枚抽出できた．"
   ]
  },
  {
   "cell_type": "markdown",
   "metadata": {},
   "source": [
    "- 最初のデータを可視化してみる．\n",
    "- その前に，26x26のデータでおかしなものを表示"
   ]
  },
  {
   "cell_type": "code",
   "execution_count": 15,
   "metadata": {},
   "outputs": [
    {
     "name": "stdout",
     "output_type": "stream",
     "text": [
      "6267error\n",
      "(array([ 0,  0,  2,  5,  7,  9,  9, 10, 14, 15, 16, 16, 18, 20, 20, 21, 22,\n",
      "       23, 24]), array([ 9, 16,  5, 23, 24,  0, 25, 25, 25, 25,  0, 25, 24,  2, 23, 22, 21,\n",
      "        5, 18]))\n",
      "6268error\n",
      "(array([ 0,  0,  2,  5,  7,  9,  9, 10, 14, 15, 16, 16, 18, 20, 20, 21, 22,\n",
      "       23, 24]), array([ 9, 16,  5, 23, 24,  0, 25, 25, 25, 25,  0, 25, 24,  2, 23, 22, 21,\n",
      "        5, 18]))\n",
      "6269error\n",
      "(array([ 0,  0,  2,  5,  7,  9,  9, 10, 14, 15, 16, 16, 18, 20, 20, 21, 22,\n",
      "       23, 24]), array([ 9, 16,  5, 23, 24,  0, 25, 25, 25, 25,  0, 25, 24,  2, 23, 22, 21,\n",
      "        5, 18]))\n",
      "6270error\n",
      "(array([ 0,  0,  2,  5,  7,  9,  9, 10, 14, 15, 16, 16, 18, 20, 20, 21, 22,\n",
      "       23, 24]), array([ 9, 16,  5, 23, 24,  0, 25, 25, 25, 25,  0, 25, 24,  2, 23, 22, 21,\n",
      "        5, 18]))\n",
      "6271error\n",
      "(array([ 0,  0,  2,  5,  7,  9,  9, 10, 14, 15, 16, 16, 18, 20, 20, 21, 22,\n",
      "       23, 24]), array([ 9, 16,  5, 23, 24,  0, 25, 25, 25, 25,  0, 25, 24,  2, 23, 22, 21,\n",
      "        5, 18]))\n",
      "6272error\n",
      "(array([ 0,  0,  2,  5,  7,  9,  9, 10, 14, 15, 16, 16, 18, 20, 20, 21, 22,\n",
      "       23, 24]), array([ 9, 16,  5, 23, 24,  0, 25, 25, 25, 25,  0, 25, 24,  2, 23, 22, 21,\n",
      "        5, 18]))\n",
      "6273error\n",
      "(array([ 0,  0,  2,  5,  7,  9,  9, 10, 14, 15, 16, 16, 18, 20, 20, 21, 22,\n",
      "       23, 24]), array([ 9, 16,  5, 23, 24,  0, 25, 25, 25, 25,  0, 25, 24,  2, 23, 22, 21,\n",
      "        5, 18]))\n",
      "6274error\n",
      "(array([ 0,  0,  2,  5,  7,  9,  9, 10, 14, 15, 16, 16, 18, 20, 20, 21, 22,\n",
      "       23, 24]), array([ 9, 16,  5, 23, 24,  0, 25, 25, 25, 25,  0, 25, 24,  2, 23, 22, 21,\n",
      "        5, 18]))\n",
      "6275error\n",
      "(array([ 0,  0,  2,  5,  7,  9,  9, 10, 14, 15, 16, 16, 18, 20, 20, 21, 22,\n",
      "       23, 24]), array([ 9, 16,  5, 23, 24,  0, 25, 25, 25, 25,  0, 25, 24,  2, 23, 22, 21,\n",
      "        5, 18]))\n",
      "6276error\n",
      "(array([ 0,  0,  2,  5,  7,  9,  9, 10, 14, 15, 16, 16, 18, 20, 20, 21, 22,\n",
      "       23, 24]), array([ 9, 16,  5, 23, 24,  0, 25, 25, 25, 25,  0, 25, 24,  2, 23, 22, 21,\n",
      "        5, 18]))\n",
      "6277error\n",
      "(array([ 0,  0,  2,  5,  7,  9,  9, 10, 14, 15, 16, 16, 18, 20, 20, 21, 22,\n",
      "       23, 24]), array([ 9, 16,  5, 23, 24,  0, 25, 25, 25, 25,  0, 25, 24,  2, 23, 22, 21,\n",
      "        5, 18]))\n",
      "6278error\n",
      "(array([ 0,  0,  2,  5,  7,  9,  9, 10, 14, 15, 16, 16, 18, 20, 20, 21, 22,\n",
      "       23, 24]), array([ 9, 16,  5, 23, 24,  0, 25, 25, 25, 25,  0, 25, 24,  2, 23, 22, 21,\n",
      "        5, 18]))\n",
      "6279error\n",
      "(array([ 0,  0,  2,  5,  7,  9,  9, 10, 14, 15, 16, 16, 18, 20, 20, 21, 22,\n",
      "       23, 24]), array([ 9, 16,  5, 23, 24,  0, 25, 25, 25, 25,  0, 25, 24,  2, 23, 22, 21,\n",
      "        5, 18]))\n",
      "6280error\n",
      "(array([ 0,  0,  2,  5,  7,  9,  9, 10, 14, 15, 16, 16, 18, 20, 20, 21, 22,\n",
      "       23, 24]), array([ 9, 16,  5, 23, 24,  0, 25, 25, 25, 25,  0, 25, 24,  2, 23, 22, 21,\n",
      "        5, 18]))\n",
      "6281error\n",
      "(array([ 0,  0,  2,  5,  7,  9,  9, 10, 14, 15, 16, 16, 18, 20, 20, 21, 22,\n",
      "       23, 24]), array([ 9, 16,  5, 23, 24,  0, 25, 25, 25, 25,  0, 25, 24,  2, 23, 22, 21,\n",
      "        5, 18]))\n",
      "6282error\n",
      "(array([ 0,  0,  2,  5,  7,  9,  9, 10, 14, 15, 16, 16, 18, 20, 20, 21, 22,\n",
      "       23, 24]), array([ 9, 16,  5, 23, 24,  0, 25, 25, 25, 25,  0, 25, 24,  2, 23, 22, 21,\n",
      "        5, 18]))\n"
     ]
    }
   ],
   "source": [
    "for i in range(len(x)):\n",
    "    error = np.where((x[0] != x[i]) & ((x[0] == 0) | (x[i] == 0)))\n",
    "    if len(error[0]) > 0:\n",
    "        print(str(i) + \"error\")\n",
    "        print(error)"
   ]
  },
  {
   "cell_type": "code",
   "execution_count": 16,
   "metadata": {},
   "outputs": [
    {
     "data": {
      "image/png": "[encoded data removed]",
      "text/plain": [
       "<Figure size 432x288 with 1 Axes>"
      ]
     },
     "metadata": {
      "needs_background": "light"
     },
     "output_type": "display_data"
    },
    {
     "data": {
      "image/png": "[encoded data removed]",
      "text/plain": [
       "<Figure size 432x288 with 1 Axes>"
      ]
     },
     "metadata": {
      "needs_background": "light"
     },
     "output_type": "display_data"
    },
    {
     "name": "stdout",
     "output_type": "stream",
     "text": [
      "Faulty case : ['Edge-Loc'] \n"
     ]
    }
   ],
   "source": [
    "# plot 1st data\n",
    "plt.imshow(x[0])\n",
    "plt.show()\n",
    "plt.imshow(x[6272])\n",
    "plt.show()\n",
    "\n",
    "print('Faulty case : {} '.format(y[6272]))"
   ]
  },
  {
   "cell_type": "code",
   "execution_count": 17,
   "metadata": {},
   "outputs": [
    {
     "data": {
      "image/png": "[encoded data removed]",
      "text/plain": [
       "<Figure size 432x288 with 1 Axes>"
      ]
     },
     "metadata": {
      "needs_background": "light"
     },
     "output_type": "display_data"
    },
    {
     "name": "stdout",
     "output_type": "stream",
     "text": [
      "Faulty case : ['none'] \n"
     ]
    }
   ],
   "source": [
    "# plot 1st data\n",
    "plt.imshow(x[0])\n",
    "plt.show()\n",
    "\n",
    "# check faulty case\n",
    "print('Faulty case : {} '.format(y[0]))"
   ]
  },
  {
   "cell_type": "markdown",
   "metadata": {},
   "source": [
    "- おかしなウエハは除去する"
   ]
  },
  {
   "cell_type": "code",
   "execution_count": 18,
   "metadata": {},
   "outputs": [
    {
     "name": "stdout",
     "output_type": "stream",
     "text": [
      "(14350, 26, 26)\n",
      "(14350, 1)\n"
     ]
    }
   ],
   "source": [
    "error_list = []\n",
    "for i in range(len(x)):\n",
    "    error = np.where((x[0] != x[i]) & ((x[0] == 0) | (x[i] == 0)))\n",
    "    if len(error[0]) > 0:\n",
    "        error_list.append(i)\n",
    "x = np.delete(x, error_list, 0)\n",
    "y = np.delete(y, error_list, 0)\n",
    "print(x.shape)\n",
    "print(y.shape)"
   ]
  },
  {
   "cell_type": "markdown",
   "metadata": {},
   "source": [
    "- 形が異なるウエハを削除したところ，14350枚となった．"
   ]
  },
  {
   "cell_type": "code",
   "execution_count": 19,
   "metadata": {},
   "outputs": [
    {
     "data": {
      "text/plain": [
       "(14350, 26, 26, 1)"
      ]
     },
     "execution_count": 19,
     "metadata": {},
     "output_type": "execute_result"
    }
   ],
   "source": [
    "x = x.reshape((-1, 26, 26, 1))\n",
    "x.shape"
   ]
  },
  {
   "cell_type": "code",
   "execution_count": 20,
   "metadata": {},
   "outputs": [
    {
     "name": "stdout",
     "output_type": "stream",
     "text": [
      "Faulty case list : ['Center' 'Donut' 'Edge-Loc' 'Edge-Ring' 'Loc' 'Near-full' 'Random'\n",
      " 'Scratch' 'none']\n"
     ]
    }
   ],
   "source": [
    "faulty_case = np.unique(y)\n",
    "print('Faulty case list : {}'.format(faulty_case))"
   ]
  },
  {
   "cell_type": "code",
   "execution_count": 21,
   "metadata": {},
   "outputs": [],
   "source": [
    "faulty_case_dict =dict()"
   ]
  },
  {
   "cell_type": "code",
   "execution_count": 22,
   "metadata": {},
   "outputs": [
    {
     "name": "stdout",
     "output_type": "stream",
     "text": [
      "Center : 90\n",
      "Donut : 1\n",
      "Edge-Loc : 289\n",
      "Edge-Ring : 23\n",
      "Loc : 297\n",
      "Near-full : 16\n",
      "Random : 74\n",
      "Scratch : 71\n",
      "none : 13489\n"
     ]
    }
   ],
   "source": [
    "for i, f in enumerate(faulty_case) :\n",
    "    print('{} : {}'.format(f, len(y[y==f])))\n",
    "    faulty_case_dict[i] = f"
   ]
  },
  {
   "cell_type": "markdown",
   "metadata": {},
   "source": [
    "- 14366枚の26x26ウエハの不良パターンは上記のようになっている．"
   ]
  },
  {
   "cell_type": "code",
   "execution_count": 23,
   "metadata": {},
   "outputs": [],
   "source": [
    "new_x = np.zeros((len(x), 26, 26, 3))\n",
    "\n",
    "for w in range(len(x)):\n",
    "    for i in range(26):\n",
    "        for j in range(26):\n",
    "            new_x[w, i, j, int(x[w, i, j])] = 1"
   ]
  },
  {
   "cell_type": "code",
   "execution_count": 24,
   "metadata": {},
   "outputs": [
    {
     "data": {
      "text/plain": [
       "(14350, 26, 26, 3)"
      ]
     },
     "execution_count": 24,
     "metadata": {},
     "output_type": "execute_result"
    }
   ],
   "source": [
    "new_x.shape"
   ]
  },
  {
   "cell_type": "markdown",
   "metadata": {},
   "source": [
    "- new_xを(14366, 26, 26, 3)とし，最後の次元にはウエハの値(0, 1, 2)がそれぞれの値毎にベクトルとしてまとめられている．\n",
    "- ウエハデータの各ピクセルは，0:ウエハなし，1:正常，2:不良を表す．"
   ]
  },
  {
   "cell_type": "markdown",
   "metadata": {},
   "source": [
    "### オートエンコーダで学習"
   ]
  },
  {
   "cell_type": "markdown",
   "metadata": {},
   "source": [
    "#### エンコーダとデコーダのモデルを学習"
   ]
  },
  {
   "cell_type": "markdown",
   "metadata": {},
   "source": [
    "- モデルの定義をする．"
   ]
  },
  {
   "cell_type": "code",
   "execution_count": 25,
   "metadata": {},
   "outputs": [],
   "source": [
    "# Encoder\n",
    "input_shape = (26, 26, 3)\n",
    "input_tensor = Input(input_shape)\n",
    "encode = layers.Conv2D(64, (3,3), padding='same', activation='relu')(input_tensor)\n",
    "\n",
    "latent_vector = layers.MaxPool2D()(encode)\n",
    "\n",
    "# Decoder\n",
    "decode_layer_1 = layers.Conv2DTranspose(64, (3,3), padding='same', activation='relu')\n",
    "decode_layer_2 = layers.UpSampling2D()\n",
    "output_tensor = layers.Conv2DTranspose(3, (3,3), padding='same', activation='sigmoid')\n",
    "\n",
    "# connect decoder layers\n",
    "decode = decode_layer_1(latent_vector)\n",
    "decode = decode_layer_2(decode)\n",
    "\n",
    "ae = models.Model(input_tensor, output_tensor(decode))\n",
    "ae.compile(optimizer = 'Adam',\n",
    "              loss = 'mse',\n",
    "             )"
   ]
  },
  {
   "cell_type": "code",
   "execution_count": 26,
   "metadata": {},
   "outputs": [
    {
     "name": "stdout",
     "output_type": "stream",
     "text": [
      "Model: \"model_1\"\n",
      "_________________________________________________________________\n",
      "Layer (type)                 Output Shape              Param #   \n",
      "=================================================================\n",
      "input_1 (InputLayer)         (None, 26, 26, 3)         0         \n",
      "_________________________________________________________________\n",
      "conv2d_1 (Conv2D)            (None, 26, 26, 64)        1792      \n",
      "_________________________________________________________________\n",
      "max_pooling2d_1 (MaxPooling2 (None, 13, 13, 64)        0         \n",
      "_________________________________________________________________\n",
      "conv2d_transpose_1 (Conv2DTr (None, 13, 13, 64)        36928     \n",
      "_________________________________________________________________\n",
      "up_sampling2d_1 (UpSampling2 (None, 26, 26, 64)        0         \n",
      "_________________________________________________________________\n",
      "conv2d_transpose_2 (Conv2DTr (None, 26, 26, 3)         1731      \n",
      "=================================================================\n",
      "Total params: 40,451\n",
      "Trainable params: 40,451\n",
      "Non-trainable params: 0\n",
      "_________________________________________________________________\n"
     ]
    }
   ],
   "source": [
    "ae.summary()"
   ]
  },
  {
   "cell_type": "markdown",
   "metadata": {},
   "source": [
    "- 層は\n",
    "    - 入力層\n",
    "    - 畳み込み層\n",
    "    - プーリング層\n",
    "    - 転置畳み込み層\n",
    "    - アップサンプリング層"
   ]
  },
  {
   "cell_type": "code",
   "execution_count": 27,
   "metadata": {},
   "outputs": [],
   "source": [
    "epoch=30\n",
    "batch_size=1024"
   ]
  },
  {
   "cell_type": "markdown",
   "metadata": {},
   "source": [
    "- 学習を開始する．\n",
    "- `new_x`を`new_x`にエンコードしデコードする．"
   ]
  },
  {
   "cell_type": "code",
   "execution_count": 28,
   "metadata": {
    "scrolled": true
   },
   "outputs": [
    {
     "name": "stdout",
     "output_type": "stream",
     "text": [
      "Epoch 1/30\n",
      "14350/14350 [==============================] - 2s 109us/step - loss: 0.1670\n",
      "Epoch 2/30\n",
      "14350/14350 [==============================] - 1s 39us/step - loss: 0.1020\n",
      "Epoch 3/30\n",
      "14350/14350 [==============================] - 1s 40us/step - loss: 0.0857\n",
      "Epoch 4/30\n",
      "14350/14350 [==============================] - 1s 42us/step - loss: 0.0748\n",
      "Epoch 5/30\n",
      "14350/14350 [==============================] - 1s 42us/step - loss: 0.0664\n",
      "Epoch 6/30\n",
      "14350/14350 [==============================] - 1s 42us/step - loss: 0.0602\n",
      "Epoch 7/30\n",
      "14350/14350 [==============================] - 1s 43us/step - loss: 0.0546\n",
      "Epoch 8/30\n",
      "14350/14350 [==============================] - 1s 43us/step - loss: 0.0496\n",
      "Epoch 9/30\n",
      "14350/14350 [==============================] - 1s 42us/step - loss: 0.0449\n",
      "Epoch 10/30\n",
      "14350/14350 [==============================] - 1s 43us/step - loss: 0.0402\n",
      "Epoch 11/30\n",
      "14350/14350 [==============================] - 1s 43us/step - loss: 0.0354\n",
      "Epoch 12/30\n",
      "14350/14350 [==============================] - 1s 43us/step - loss: 0.0312\n",
      "Epoch 13/30\n",
      "14350/14350 [==============================] - 1s 43us/step - loss: 0.0277\n",
      "Epoch 14/30\n",
      "14350/14350 [==============================] - 1s 43us/step - loss: 0.0249\n",
      "Epoch 15/30\n",
      "14350/14350 [==============================] - 1s 42us/step - loss: 0.0227\n",
      "Epoch 16/30\n",
      "14350/14350 [==============================] - 1s 42us/step - loss: 0.0208\n",
      "Epoch 17/30\n",
      "14350/14350 [==============================] - 1s 42us/step - loss: 0.0193\n",
      "Epoch 18/30\n",
      "14350/14350 [==============================] - 1s 42us/step - loss: 0.0180\n",
      "Epoch 19/30\n",
      "14350/14350 [==============================] - 1s 42us/step - loss: 0.0168\n",
      "Epoch 20/30\n",
      "14350/14350 [==============================] - 1s 43us/step - loss: 0.0157\n",
      "Epoch 21/30\n",
      "14350/14350 [==============================] - 1s 41us/step - loss: 0.0148\n",
      "Epoch 22/30\n",
      "14350/14350 [==============================] - 1s 41us/step - loss: 0.0140\n",
      "Epoch 23/30\n",
      "14350/14350 [==============================] - 1s 42us/step - loss: 0.0132\n",
      "Epoch 24/30\n",
      "14350/14350 [==============================] - 1s 42us/step - loss: 0.0125\n",
      "Epoch 25/30\n",
      "14350/14350 [==============================] - 1s 42us/step - loss: 0.0118\n",
      "Epoch 26/30\n",
      "14350/14350 [==============================] - 1s 42us/step - loss: 0.0112\n",
      "Epoch 27/30\n",
      "14350/14350 [==============================] - 1s 43us/step - loss: 0.0107\n",
      "Epoch 28/30\n",
      "14350/14350 [==============================] - 1s 42us/step - loss: 0.0101\n",
      "Epoch 29/30\n",
      "14350/14350 [==============================] - 1s 41us/step - loss: 0.0097\n",
      "Epoch 30/30\n",
      "14350/14350 [==============================] - 1s 41us/step - loss: 0.0092\n"
     ]
    },
    {
     "data": {
      "text/plain": [
       "<keras.callbacks.callbacks.History at 0x7f8974667390>"
      ]
     },
     "execution_count": 28,
     "metadata": {},
     "output_type": "execute_result"
    }
   ],
   "source": [
    "# start train\n",
    "ae.fit(new_x, new_x,\n",
    "       batch_size=batch_size,\n",
    "       epochs=epoch,\n",
    "       verbose=1)"
   ]
  },
  {
   "cell_type": "markdown",
   "metadata": {},
   "source": [
    "- エンコーダだけのモデルを定義する．"
   ]
  },
  {
   "cell_type": "code",
   "execution_count": 29,
   "metadata": {},
   "outputs": [],
   "source": [
    "encoder = models.Model(input_tensor, latent_vector)"
   ]
  },
  {
   "cell_type": "markdown",
   "metadata": {},
   "source": [
    "- デコーダだけのモデルを定義する．"
   ]
  },
  {
   "cell_type": "code",
   "execution_count": 30,
   "metadata": {},
   "outputs": [],
   "source": [
    "decoder_input = Input((13, 13, 64))\n",
    "decode = decode_layer_1(decoder_input)\n",
    "decode = decode_layer_2(decode)\n",
    "\n",
    "decoder = models.Model(decoder_input, output_tensor(decode))"
   ]
  },
  {
   "cell_type": "markdown",
   "metadata": {},
   "source": [
    "- `encoder`を使って元のウエハ画像をエンコードする．"
   ]
  },
  {
   "cell_type": "code",
   "execution_count": 31,
   "metadata": {},
   "outputs": [],
   "source": [
    "# Encode original faulty wafer\n",
    "encoded_x = encoder.predict(new_x)"
   ]
  },
  {
   "cell_type": "markdown",
   "metadata": {},
   "source": [
    "- エンコードされた潜伏的な不良ウエハにノイズを負荷する．"
   ]
  },
  {
   "cell_type": "code",
   "execution_count": 32,
   "metadata": {},
   "outputs": [],
   "source": [
    "# Add noise to encoded latent faulty wafers vector.\n",
    "noised_encoded_x = encoded_x + np.random.normal(loc=0, scale=0.1, size = (len(encoded_x), 13, 13, 64))"
   ]
  },
  {
   "cell_type": "markdown",
   "metadata": {},
   "source": [
    "- 元のウエハ画像"
   ]
  },
  {
   "cell_type": "code",
   "execution_count": 33,
   "metadata": {
    "scrolled": true
   },
   "outputs": [
    {
     "data": {
      "text/plain": [
       "<matplotlib.image.AxesImage at 0x7f88604f51d0>"
      ]
     },
     "execution_count": 33,
     "metadata": {},
     "output_type": "execute_result"
    },
    {
     "data": {
      "image/png": "[encoded data removed]",
      "text/plain": [
       "<Figure size 432x288 with 1 Axes>"
      ]
     },
     "metadata": {
      "needs_background": "light"
     },
     "output_type": "display_data"
    }
   ],
   "source": [
    "# check original faulty wafer data\n",
    "plt.imshow(np.argmax(new_x[3], axis=2))"
   ]
  },
  {
   "cell_type": "markdown",
   "metadata": {},
   "source": [
    "- マスクの定義"
   ]
  },
  {
   "cell_type": "code",
   "execution_count": 34,
   "metadata": {
    "scrolled": false
   },
   "outputs": [
    {
     "name": "stdout",
     "output_type": "stream",
     "text": [
      "[[1. 1. 1. 1. 1. 1. 1. 1. 1. 1. 0. 0. 0. 0. 0. 0. 1. 1. 1. 1. 1. 1. 1. 1.\n",
      "  1. 1.]\n",
      " [1. 1. 1. 1. 1. 1. 1. 0. 0. 0. 0. 0. 0. 0. 0. 0. 0. 0. 0. 1. 1. 1. 1. 1.\n",
      "  1. 1.]\n",
      " [1. 1. 1. 1. 1. 1. 0. 0. 0. 0. 0. 0. 0. 0. 0. 0. 0. 0. 0. 0. 1. 1. 1. 1.\n",
      "  1. 1.]\n",
      " [1. 1. 1. 1. 0. 0. 0. 0. 0. 0. 0. 0. 0. 0. 0. 0. 0. 0. 0. 0. 0. 0. 1. 1.\n",
      "  1. 1.]\n",
      " [1. 1. 1. 0. 0. 0. 0. 0. 0. 0. 0. 0. 0. 0. 0. 0. 0. 0. 0. 0. 0. 0. 0. 1.\n",
      "  1. 1.]\n",
      " [1. 1. 0. 0. 0. 0. 0. 0. 0. 0. 0. 0. 0. 0. 0. 0. 0. 0. 0. 0. 0. 0. 0. 0.\n",
      "  1. 1.]\n",
      " [1. 1. 0. 0. 0. 0. 0. 0. 0. 0. 0. 0. 0. 0. 0. 0. 0. 0. 0. 0. 0. 0. 0. 0.\n",
      "  1. 1.]\n",
      " [1. 0. 0. 0. 0. 0. 0. 0. 0. 0. 0. 0. 0. 0. 0. 0. 0. 0. 0. 0. 0. 0. 0. 0.\n",
      "  0. 1.]\n",
      " [1. 0. 0. 0. 0. 0. 0. 0. 0. 0. 0. 0. 0. 0. 0. 0. 0. 0. 0. 0. 0. 0. 0. 0.\n",
      "  0. 1.]\n",
      " [0. 0. 0. 0. 0. 0. 0. 0. 0. 0. 0. 0. 0. 0. 0. 0. 0. 0. 0. 0. 0. 0. 0. 0.\n",
      "  0. 0.]\n",
      " [0. 0. 0. 0. 0. 0. 0. 0. 0. 0. 0. 0. 0. 0. 0. 0. 0. 0. 0. 0. 0. 0. 0. 0.\n",
      "  0. 0.]\n",
      " [0. 0. 0. 0. 0. 0. 0. 0. 0. 0. 0. 0. 0. 0. 0. 0. 0. 0. 0. 0. 0. 0. 0. 0.\n",
      "  0. 0.]\n",
      " [0. 0. 0. 0. 0. 0. 0. 0. 0. 0. 0. 0. 0. 0. 0. 0. 0. 0. 0. 0. 0. 0. 0. 0.\n",
      "  0. 0.]\n",
      " [0. 0. 0. 0. 0. 0. 0. 0. 0. 0. 0. 0. 0. 0. 0. 0. 0. 0. 0. 0. 0. 0. 0. 0.\n",
      "  0. 0.]\n",
      " [0. 0. 0. 0. 0. 0. 0. 0. 0. 0. 0. 0. 0. 0. 0. 0. 0. 0. 0. 0. 0. 0. 0. 0.\n",
      "  0. 0.]\n",
      " [0. 0. 0. 0. 0. 0. 0. 0. 0. 0. 0. 0. 0. 0. 0. 0. 0. 0. 0. 0. 0. 0. 0. 0.\n",
      "  0. 0.]\n",
      " [0. 0. 0. 0. 0. 0. 0. 0. 0. 0. 0. 0. 0. 0. 0. 0. 0. 0. 0. 0. 0. 0. 0. 0.\n",
      "  0. 0.]\n",
      " [1. 0. 0. 0. 0. 0. 0. 0. 0. 0. 0. 0. 0. 0. 0. 0. 0. 0. 0. 0. 0. 0. 0. 0.\n",
      "  0. 1.]\n",
      " [1. 0. 0. 0. 0. 0. 0. 0. 0. 0. 0. 0. 0. 0. 0. 0. 0. 0. 0. 0. 0. 0. 0. 0.\n",
      "  0. 1.]\n",
      " [1. 1. 0. 0. 0. 0. 0. 0. 0. 0. 0. 0. 0. 0. 0. 0. 0. 0. 0. 0. 0. 0. 0. 0.\n",
      "  1. 1.]\n",
      " [1. 1. 0. 0. 0. 0. 0. 0. 0. 0. 0. 0. 0. 0. 0. 0. 0. 0. 0. 0. 0. 0. 0. 0.\n",
      "  1. 1.]\n",
      " [1. 1. 1. 0. 0. 0. 0. 0. 0. 0. 0. 0. 0. 0. 0. 0. 0. 0. 0. 0. 0. 0. 0. 1.\n",
      "  1. 1.]\n",
      " [1. 1. 1. 1. 0. 0. 0. 0. 0. 0. 0. 0. 0. 0. 0. 0. 0. 0. 0. 0. 0. 0. 1. 1.\n",
      "  1. 1.]\n",
      " [1. 1. 1. 1. 1. 0. 0. 0. 0. 0. 0. 0. 0. 0. 0. 0. 0. 0. 0. 0. 1. 1. 1. 1.\n",
      "  1. 1.]\n",
      " [1. 1. 1. 1. 1. 1. 1. 0. 0. 0. 0. 0. 0. 0. 0. 0. 0. 0. 0. 1. 1. 1. 1. 1.\n",
      "  1. 1.]\n",
      " [1. 1. 1. 1. 1. 1. 1. 1. 1. 1. 0. 0. 0. 0. 0. 0. 1. 1. 1. 1. 1. 1. 1. 1.\n",
      "  1. 1.]]\n"
     ]
    }
   ],
   "source": [
    "# 0がウエハ領域，1が範囲外\n",
    "mask = new_x[0, :, :, 0].copy()\n",
    "#out_region = np.where(mask == 1.0)\n",
    "#in_region = np.where(mask == 0.0)\n",
    "#mask[out_region] = 0.0\n",
    "#mask[in_region] = 1.0\n",
    "print(mask)"
   ]
  },
  {
   "cell_type": "markdown",
   "metadata": {},
   "source": [
    "- 回転の実験\n",
    "\n",
    "90度ごとなら自作OpenCV関数が有用"
   ]
  },
  {
   "cell_type": "code",
   "execution_count": 35,
   "metadata": {},
   "outputs": [],
   "source": [
    "from keras_preprocessing.image import apply_affine_transform\n",
    "def rotation(img, degree):\n",
    "    gendata = apply_affine_transform(img, channel_axis = 2, theta = degree, fill_mode = 'constant', cval = 0)\n",
    "    plt.imshow(np.argmax(gendata, axis=2))\n",
    "    plt.title(\"rotate \" + str(degree) + \" degree\")\n",
    "    plt.show()\n",
    "    "
   ]
  },
  {
   "cell_type": "code",
   "execution_count": 36,
   "metadata": {},
   "outputs": [],
   "source": [
    "def rotation_cv2(img, degree):\n",
    "    center = (img.shape[1]//2, img.shape[0]//2)\n",
    "    affine = cv2.getRotationMatrix2D(center, -degree,  1.0)\n",
    "    img_afn = cv2.warpAffine(img, affine, (img.shape[1]+1, img.shape[0]+1),borderMode = cv2.BORDER_CONSTANT,flags=cv2.INTER_LINEAR)\n",
    "\n",
    "    plt.imshow(np.argmax(img_afn, axis=2))\n",
    "    plt.title(\"rotate \" + str(degree) + \" degree\")\n",
    "    plt.show()"
   ]
  },
  {
   "cell_type": "code",
   "execution_count": 37,
   "metadata": {},
   "outputs": [],
   "source": [
    "#90度用に自作　opencv利用\n",
    "def rotation_cv2_select(img, degree):\n",
    "    center = (img.shape[1]//2, img.shape[0]//2)\n",
    "    affine = cv2.getRotationMatrix2D(center, -degree,  1.0)\n",
    "    img_afn = cv2.warpAffine(img, affine, (img.shape[1]+1, img.shape[0]+1),borderMode = cv2.BORDER_CONSTANT,flags=cv2.INTER_LINEAR)\n",
    "    \n",
    "    if ((degree % 360) // 90) == 0:\n",
    "        img_afn = img_afn[0:26, 0:26, :]\n",
    "    elif ((degree % 360) // 90) == 1:\n",
    "        img_afn = img_afn[0:26, 1:27, :]\n",
    "    elif ((degree % 360) // 90) == 2:\n",
    "        img_afn = img_afn[1:27, 1:27, :]\n",
    "    elif ((degree % 360) // 90) == 3:\n",
    "        img_afn = img_afn[1:27, 0:26, :]\n",
    "    \n",
    "    #ずれ表示用\n",
    "    error = np.where((np.argmax(img, axis=2) != np.argmax(img_afn, axis=2)) & ((np.argmax(img, axis=2) == 0) | (np.argmax(img_afn, axis=2) == 0)))\n",
    "    print(error)\n",
    "    \n",
    "    plt.imshow(np.argmax(img_afn, axis=2))\n",
    "    plt.title(\"rotate \" + str(degree) + \" degree\")\n",
    "    plt.show()"
   ]
  },
  {
   "cell_type": "code",
   "execution_count": 38,
   "metadata": {},
   "outputs": [],
   "source": [
    "#90度用に自作　opencv利用 マスク適用\n",
    "def rotation_cv2_select_mask(img, degree):\n",
    "    center = (img.shape[1]//2, img.shape[0]//2)\n",
    "    affine = cv2.getRotationMatrix2D(center, -degree,  1.0)\n",
    "    img_afn = cv2.warpAffine(img, affine, (img.shape[1]+1, img.shape[0]+1),borderMode = cv2.BORDER_CONSTANT,flags=cv2.INTER_LINEAR)\n",
    "    \n",
    "    if ((degree % 360) // 90) == 0:\n",
    "        img_afn = img_afn[0:26, 0:26, :]\n",
    "    elif ((degree % 360) // 90) == 1:\n",
    "        img_afn = img_afn[0:26, 1:27, :]\n",
    "    elif ((degree % 360) // 90) == 2:\n",
    "        img_afn = img_afn[1:27, 1:27, :]\n",
    "    elif ((degree % 360) // 90) == 3:\n",
    "        img_afn = img_afn[1:27, 0:26, :]\n",
    "    \n",
    "    #ずれ表示用\n",
    "    error = np.where((np.argmax(img, axis=2) != np.argmax(img_afn, axis=2)) & ((np.argmax(img, axis=2) == 0) | (np.argmax(img_afn, axis=2) == 0)))\n",
    "    print(error)\n",
    "    \n",
    "    #マスクの適用\n",
    "    out_region = np.where((img_afn[:, :, 0] != mask) & (mask > 0.0))\n",
    "    img_afn[out_region] = np.array([1., 0., 0.])\n",
    "    in_region = np.where((img_afn[:, :, 0] != mask) & (mask == 0.0))\n",
    "    img_afn[in_region] = np.array([0., 1., 0.])\n",
    "    \n",
    "    #再度ずれ表示用\n",
    "    error = np.where((np.argmax(img, axis=2) != np.argmax(img_afn, axis=2)) & ((np.argmax(img, axis=2) == 0) | (np.argmax(img_afn, axis=2) == 0)))\n",
    "    print(error)\n",
    "    \n",
    "    plt.imshow(np.argmax(img_afn, axis=2))\n",
    "    plt.title(\"rotate \" + str(degree) + \" degree\")\n",
    "    plt.show()"
   ]
  },
  {
   "cell_type": "code",
   "execution_count": 39,
   "metadata": {},
   "outputs": [],
   "source": [
    "#90度以外　opencv利用 マスク適用　サイズの違いでうまくいっていない\n",
    "def rotation_cv2_mask(img, degree):\n",
    "    center = (img.shape[1]//2, img.shape[0]//2)\n",
    "    affine = cv2.getRotationMatrix2D(center, -degree,  1.0)\n",
    "    img_afn = cv2.warpAffine(img, affine, (img.shape[1]+1, img.shape[0]+1),borderMode = cv2.BORDER_CONSTANT,flags=cv2.INTER_LINEAR)\n",
    "    \n",
    "    #ずれ表示用\n",
    "    error = np.where((np.argmax(img, axis=2) != np.argmax(img_afn, axis=2)) & ((np.argmax(img, axis=2) == 0) | (np.argmax(img_afn, axis=2) == 0)))\n",
    "    print(error)\n",
    "    \n",
    "    #マスクの適用\n",
    "    out_region = np.where((img_afn[:, :, 0] != mask) & (mask > 0.0))\n",
    "    img_afn[out_region] = np.array([1., 0., 0.])\n",
    "    in_region = np.where((img_afn[:, :, 0] != mask) & (mask == 0.0))\n",
    "    img_afn[in_region] = np.array([0., 1., 0.])\n",
    "    \n",
    "    #再度ずれ表示用\n",
    "    error = np.where((np.argmax(img, axis=2) != np.argmax(img_afn, axis=2)) & ((np.argmax(img, axis=2) == 0) | (np.argmax(img_afn, axis=2) == 0)))\n",
    "    print(error)\n",
    "    \n",
    "    plt.imshow(np.argmax(img_afn, axis=2))\n",
    "    plt.title(\"rotate \" + str(degree) + \" degree\")\n",
    "    plt.show()"
   ]
  },
  {
   "cell_type": "markdown",
   "metadata": {},
   "source": [
    "- 回転したときにずれが生じる"
   ]
  },
  {
   "cell_type": "code",
   "execution_count": 40,
   "metadata": {
    "scrolled": false
   },
   "outputs": [
    {
     "name": "stdout",
     "output_type": "stream",
     "text": [
      "(array([], dtype=int64), array([], dtype=int64))\n",
      "(array([], dtype=int64), array([], dtype=int64))\n"
     ]
    },
    {
     "data": {
      "image/png": "[encoded data removed]",
      "text/plain": [
       "<Figure size 432x288 with 1 Axes>"
      ]
     },
     "metadata": {
      "needs_background": "light"
     },
     "output_type": "display_data"
    },
    {
     "name": "stdout",
     "output_type": "stream",
     "text": [
      "(array([ 0,  0,  2,  2,  5,  9,  9, 16, 16, 20, 20, 23, 25, 25]), array([ 9, 16,  5, 20, 23,  0, 25,  0, 25,  2, 23, 20,  9, 16]))\n",
      "(array([], dtype=int64), array([], dtype=int64))\n"
     ]
    },
    {
     "data": {
      "image/png": "[encoded data removed]",
      "text/plain": [
       "<Figure size 432x288 with 1 Axes>"
      ]
     },
     "metadata": {
      "needs_background": "light"
     },
     "output_type": "display_data"
    },
    {
     "name": "stdout",
     "output_type": "stream",
     "text": [
      "(array([ 2, 23]), array([20,  5]))\n",
      "(array([], dtype=int64), array([], dtype=int64))\n"
     ]
    },
    {
     "data": {
      "image/png": "[encoded data removed]",
      "text/plain": [
       "<Figure size 432x288 with 1 Axes>"
      ]
     },
     "metadata": {
      "needs_background": "light"
     },
     "output_type": "display_data"
    },
    {
     "name": "stdout",
     "output_type": "stream",
     "text": [
      "(array([ 0,  0,  2,  2,  5,  5,  9,  9, 16, 16, 20, 23, 25, 25]), array([ 9, 16,  5, 20,  2, 23,  0, 25,  0, 25,  2, 20,  9, 16]))\n",
      "(array([], dtype=int64), array([], dtype=int64))\n"
     ]
    },
    {
     "data": {
      "image/png": "[encoded data removed]",
      "text/plain": [
       "<Figure size 432x288 with 1 Axes>"
      ]
     },
     "metadata": {
      "needs_background": "light"
     },
     "output_type": "display_data"
    },
    {
     "name": "stdout",
     "output_type": "stream",
     "text": [
      "(array([], dtype=int64), array([], dtype=int64))\n",
      "(array([], dtype=int64), array([], dtype=int64))\n"
     ]
    },
    {
     "data": {
      "image/png": "[encoded data removed]",
      "text/plain": [
       "<Figure size 432x288 with 1 Axes>"
      ]
     },
     "metadata": {
      "needs_background": "light"
     },
     "output_type": "display_data"
    }
   ],
   "source": [
    "wafer = new_x[np.where(y==\"Edge-Loc\")[0]].reshape(len(np.where(y==\"Edge-Loc\")[0]), 26, 26, 3)\n",
    "#plt.imshow(np.argmax(wafer[0], axis=2))\n",
    "#plt.show()\n",
    "\n",
    "for i in range(5):\n",
    "    rotation_cv2_select_mask(wafer[0], i*90)"
   ]
  },
  {
   "cell_type": "code",
   "execution_count": null,
   "metadata": {
    "scrolled": false
   },
   "outputs": [],
   "source": [
    "wafer = new_x[np.where(y==\"Edge-Loc\")[0]].reshape(len(np.where(y==\"Edge-Loc\")[0]), 26, 26, 3)\n",
    "#plt.imshow(np.argmax(wafer[0], axis=2))\n",
    "#plt.show()\n",
    "\n",
    "for i in range(5):\n",
    "    rotation_cv2_mask(wafer[0], i*90)"
   ]
  },
  {
   "cell_type": "code",
   "execution_count": 41,
   "metadata": {
    "scrolled": false
   },
   "outputs": [
    {
     "data": {
      "text/plain": [
       "'\\nwafer = new_x[np.where(y==\"Edge-Loc\")[0]].reshape(len(np.where(y==\"Edge-Loc\")[0]), 26, 26, 3)\\nplt.imshow(np.argmax(wafer[0], axis=2))\\nplt.show()\\nimg = wafer[0].reshape(1, 26, 26, 3)\\ndatagen = ImageDataGenerator(rotation_range = 90, horizontal_flip = True, vertical_flip = True, fill_mode = \\'constant\\', cval = 0)\\ngen = datagen.flow(img, batch_size = 1)\\nfor i in range(20):\\n        data = next(gen)\\n        plt.imshow(np.argmax(data[0], axis=2))\\n        plt.show()\\n'"
      ]
     },
     "execution_count": 41,
     "metadata": {},
     "output_type": "execute_result"
    }
   ],
   "source": [
    "'''\n",
    "wafer = new_x[np.where(y==\"Edge-Loc\")[0]].reshape(len(np.where(y==\"Edge-Loc\")[0]), 26, 26, 3)\n",
    "plt.imshow(np.argmax(wafer[0], axis=2))\n",
    "plt.show()\n",
    "img = wafer[0].reshape(1, 26, 26, 3)\n",
    "datagen = ImageDataGenerator(rotation_range = 90, horizontal_flip = True, vertical_flip = True, fill_mode = 'constant', cval = 0)\n",
    "gen = datagen.flow(img, batch_size = 1)\n",
    "for i in range(20):\n",
    "        data = next(gen)\n",
    "        plt.imshow(np.argmax(data[0], axis=2))\n",
    "        plt.show()\n",
    "'''"
   ]
  },
  {
   "cell_type": "code",
   "execution_count": null,
   "metadata": {},
   "outputs": [],
   "source": []
  },
  {
   "cell_type": "markdown",
   "metadata": {},
   "source": [
    "- ノイズが付加されたウエハ画像"
   ]
  },
  {
   "cell_type": "code",
   "execution_count": 42,
   "metadata": {},
   "outputs": [
    {
     "data": {
      "text/plain": [
       "<matplotlib.image.AxesImage at 0x7f87ae74ca50>"
      ]
     },
     "execution_count": 42,
     "metadata": {},
     "output_type": "execute_result"
    },
    {
     "data": {
      "image/png": "[encoded data removed]",
      "text/plain": [
       "<Figure size 432x288 with 1 Axes>"
      ]
     },
     "metadata": {
      "needs_background": "light"
     },
     "output_type": "display_data"
    }
   ],
   "source": [
    "# check new noised faulty wafer data\n",
    "noised_gen_x = np.argmax(decoder.predict(noised_encoded_x), axis=3)\n",
    "plt.imshow(noised_gen_x[3])"
   ]
  },
  {
   "cell_type": "markdown",
   "metadata": {},
   "source": [
    "### データオーギュメンテーション"
   ]
  },
  {
   "cell_type": "markdown",
   "metadata": {},
   "source": [
    "- データオーギュメンテーションを行う関数を定義する．\n",
    "- 鏡映，回転を行う"
   ]
  },
  {
   "cell_type": "code",
   "execution_count": 43,
   "metadata": {},
   "outputs": [],
   "source": [
    "# augment function define (add rotate, flip)\n",
    "def gen_data(wafer, label):\n",
    "    # Encode input wafer\n",
    "    #encoded_x = encoder.predict(wafer)\n",
    "    \n",
    "    # dummy array for collecting noised wafer\n",
    "    gen_x = np.zeros((1, 26, 26, 3))\n",
    "    aug_x = np.zeros((1, 26, 26, 3))\n",
    "    \n",
    "    #datagen = ImageDataGenerator(rotation_range = 90, horizontal_flip = True, vertical_flip = True, fill_mode = 'constant', cval = 0)\n",
    "    datagen = ImageDataGenerator(rotation_range = 0)\n",
    "    #ite = 20 if label != 'none' else 2\n",
    "    ite = 0\n",
    "    \n",
    "    gen = datagen.flow(wafer, batch_size = len(wafer))\n",
    "    for i in range(ite):\n",
    "        data = next(gen)\n",
    "        #print(data.shape)\n",
    "        aug_x = np.concatenate((aug_x, data), axis = 0)\n",
    "        '''\n",
    "        for j, img in enumerate(data):\n",
    "            plot_num = j+1\n",
    "            plt.subplot(4, 5, plot_num)\n",
    "            plt.tick_params(labelbottom=False)\n",
    "            plt.tick_params(labelleft=False)\n",
    "            plt.imshow(img)\n",
    "        plt.show()\n",
    "        '''\n",
    "    #aug_x -> waferに変更\n",
    "    encoded_x = encoder.predict(wafer)\n",
    "    #print(encoded_x.shape)\n",
    "        \n",
    "    \n",
    "    # Make wafer until total # of wafer to 15000\n",
    "    if label != 'none':\n",
    "        for i in range((2000//len(encoded_x)) + 1):\n",
    "            noised_encoded_x = encoded_x + np.random.normal(loc=0, scale=0.1, size = (len(encoded_x), 13, 13, 64)) \n",
    "            noised_gen_x = decoder.predict(noised_encoded_x)\n",
    "            gen_x = np.concatenate((gen_x, noised_gen_x), axis=0)\n",
    "    else:\n",
    "        gen_x = aug_x\n",
    "        \n",
    "    # also make label vector with same length\n",
    "    gen_y = np.full((len(gen_x), 1), label)\n",
    "    \n",
    "    # return date without 1st dummy data.\n",
    "    return gen_x[1:], gen_y[1:]"
   ]
  },
  {
   "cell_type": "markdown",
   "metadata": {},
   "source": [
    "- データオーギュメンテーション（ノイズ付加）したものが適切か調べる\n",
    "\n",
    "一番左が元画像\n",
    "右がデータオーギュメンテーション後"
   ]
  },
  {
   "cell_type": "code",
   "execution_count": 44,
   "metadata": {
    "scrolled": true
   },
   "outputs": [
    {
     "name": "stdout",
     "output_type": "stream",
     "text": [
      "(90, 26, 26, 3) (90, 1)\n"
     ]
    }
   ],
   "source": [
    "a = np.empty((0, 26, 26, 3))\n",
    "b = np.empty((0,1))\n",
    "\n",
    "# Augmentation for all faulty case.\n",
    "for f in faulty_case :     \n",
    "    a = np.concatenate((a, new_x[np.where(y==f)[0][0]].reshape(1, 26, 26, 3)), axis=0)\n",
    "    b = np.concatenate((b, f.reshape(1, 1)))\n",
    "    \n",
    "    for i in range(9):\n",
    "        encoded_x = encoder.predict(new_x[np.where(y==f)[0][0]].reshape(1, 26, 26, 3))\n",
    "        noised_encoded_x = encoded_x + np.random.normal(loc=0, scale=0.1, size = (len(encoded_x), 13, 13, 64)) \n",
    "        noised_gen_x = decoder.predict(noised_encoded_x)\n",
    "        a = np.concatenate((a, noised_gen_x), axis=0)\n",
    "        b = np.concatenate((b, f.reshape(1, 1)))\n",
    "\n",
    "print(a.shape, b.shape)"
   ]
  },
  {
   "cell_type": "code",
   "execution_count": 45,
   "metadata": {
    "scrolled": false
   },
   "outputs": [
    {
     "data": {
      "image/png": "[encoded data removed]",
      "text/plain": [
       "<Figure size 1440x1440 with 10 Axes>"
      ]
     },
     "metadata": {},
     "output_type": "display_data"
    },
    {
     "data": {
      "image/png": "[encoded data removed]",
      "text/plain": [
       "<Figure size 1440x1440 with 10 Axes>"
      ]
     },
     "metadata": {},
     "output_type": "display_data"
    },
    {
     "data": {
      "image/png": "[encoded data removed]",
      "text/plain": [
       "<Figure size 1440x1440 with 10 Axes>"
      ]
     },
     "metadata": {},
     "output_type": "display_data"
    },
    {
     "data": {
      "image/png": "[encoded data removed]",
      "text/plain": [
       "<Figure size 1440x1440 with 10 Axes>"
      ]
     },
     "metadata": {},
     "output_type": "display_data"
    },
    {
     "data": {
      "image/png": "[encoded data removed]",
      "text/plain": [
       "<Figure size 1440x1440 with 10 Axes>"
      ]
     },
     "metadata": {},
     "output_type": "display_data"
    },
    {
     "data": {
      "image/png": "[encoded data removed]",
      "text/plain": [
       "<Figure size 1440x1440 with 10 Axes>"
      ]
     },
     "metadata": {},
     "output_type": "display_data"
    },
    {
     "data": {
      "image/png": "[encoded data removed]",
      "text/plain": [
       "<Figure size 1440x1440 with 10 Axes>"
      ]
     },
     "metadata": {},
     "output_type": "display_data"
    },
    {
     "data": {
      "image/png": "[encoded data removed]",
      "text/plain": [
       "<Figure size 1440x1440 with 10 Axes>"
      ]
     },
     "metadata": {},
     "output_type": "display_data"
    },
    {
     "data": {
      "image/png": "[encoded data removed]",
      "text/plain": [
       "<Figure size 1440x1440 with 10 Axes>"
      ]
     },
     "metadata": {},
     "output_type": "display_data"
    },
    {
     "data": {
      "text/plain": [
       "\"\\n# 四捨五入関数\\nmy_round_int = lambda x: np.round((x * 2 + 1) // 2)\\n\\nfor k in x:\\n    fig, ax = plt.subplots(nrows = 1, ncols = 10, figsize=(20, 20))\\n    ax = ax.ravel(order='C')\\n    for j in [k]:\\n        index = np.where(b==labels2[j])[0]\\n        img = a[index]\\n        #img = new_x[0:10]\\n        for i in range(10):\\n            img[i] = my_round_int(img[i]).astype(int)\\n            ax[i].imshow(np.argmax(img[i+0], axis=2))\\n            ax[i].set_title(b[index[i+0]], fontsize=15)\\n            #ax[i].set_xlabel(df_withpattern.index[img.index[i]], fontsize=10)\\n            ax[i].set_xticks([])\\n            ax[i].set_yticks([])\\n            \\n    plt.tight_layout()\\n    plt.show() \\n\""
      ]
     },
     "execution_count": 45,
     "metadata": {},
     "output_type": "execute_result"
    }
   ],
   "source": [
    "x = [0,1,2,3,4,5,6,7,8]\n",
    "labels2 = ['Center','Donut','Edge-Loc','Edge-Ring','Loc','Random','Scratch','Near-full','none']\n",
    "\n",
    "for k in x:\n",
    "    fig, ax = plt.subplots(nrows = 1, ncols = 10, figsize=(20, 20))\n",
    "    ax = ax.ravel(order='C')\n",
    "    for j in [k]:\n",
    "        index = np.where(b==labels2[j])[0]\n",
    "        img = a[index]\n",
    "        #img = new_x[0:10]\n",
    "        for i in range(10):\n",
    "            ax[i].imshow(np.argmax(img[i+0], axis=2))\n",
    "            ax[i].set_title(b[index[i+0]], fontsize=15)\n",
    "            #ax[i].set_xlabel(df_withpattern.index[img.index[i]], fontsize=10)\n",
    "            ax[i].set_xticks([])\n",
    "            ax[i].set_yticks([])\n",
    "    plt.tight_layout()\n",
    "    plt.show() \n",
    "    \n",
    "'''\n",
    "# 四捨五入関数\n",
    "my_round_int = lambda x: np.round((x * 2 + 1) // 2)\n",
    "\n",
    "for k in x:\n",
    "    fig, ax = plt.subplots(nrows = 1, ncols = 10, figsize=(20, 20))\n",
    "    ax = ax.ravel(order='C')\n",
    "    for j in [k]:\n",
    "        index = np.where(b==labels2[j])[0]\n",
    "        img = a[index]\n",
    "        #img = new_x[0:10]\n",
    "        for i in range(10):\n",
    "            img[i] = my_round_int(img[i]).astype(int)\n",
    "            ax[i].imshow(np.argmax(img[i+0], axis=2))\n",
    "            ax[i].set_title(b[index[i+0]], fontsize=15)\n",
    "            #ax[i].set_xlabel(df_withpattern.index[img.index[i]], fontsize=10)\n",
    "            ax[i].set_xticks([])\n",
    "            ax[i].set_yticks([])\n",
    "            \n",
    "    plt.tight_layout()\n",
    "    plt.show() \n",
    "'''"
   ]
  },
  {
   "cell_type": "code",
   "execution_count": null,
   "metadata": {},
   "outputs": [],
   "source": []
  },
  {
   "cell_type": "markdown",
   "metadata": {},
   "source": [
    "- 不良ラベルが付いているデータに対してデータオーギュメンテーションを行う．"
   ]
  },
  {
   "cell_type": "code",
   "execution_count": 46,
   "metadata": {},
   "outputs": [],
   "source": [
    "# Augmentation for all faulty case.\n",
    "for f in faulty_case : \n",
    "    # skip none case\n",
    "    #if f == 'none' : \n",
    "    #    continue\n",
    "    \n",
    "    gen_x, gen_y = gen_data(new_x[np.where(y==f)[0]], f)\n",
    "    new_x = np.concatenate((new_x, gen_x), axis=0)\n",
    "    y = np.concatenate((y, gen_y))"
   ]
  },
  {
   "cell_type": "code",
   "execution_count": 47,
   "metadata": {},
   "outputs": [
    {
     "name": "stdout",
     "output_type": "stream",
     "text": [
      "After Generate new_x shape : (30671, 26, 26, 3), new_y shape : (30671, 1)\n"
     ]
    }
   ],
   "source": [
    "print('After Generate new_x shape : {}, new_y shape : {}'.format(new_x.shape, y.shape))"
   ]
  },
  {
   "cell_type": "code",
   "execution_count": 48,
   "metadata": {},
   "outputs": [
    {
     "name": "stdout",
     "output_type": "stream",
     "text": [
      "Center : 2160\n",
      "Donut : 2002\n",
      "Edge-Loc : 2312\n",
      "Edge-Ring : 2024\n",
      "Loc : 2376\n",
      "Near-full : 2032\n",
      "Random : 2146\n",
      "Scratch : 2130\n",
      "none : 13489\n"
     ]
    }
   ],
   "source": [
    "for f in faulty_case :\n",
    "    print('{} : {}'.format(f, len(y[y==f])))\n",
    "new_y = y"
   ]
  },
  {
   "cell_type": "code",
   "execution_count": 49,
   "metadata": {},
   "outputs": [
    {
     "data": {
      "text/plain": [
       "array([0, 0, 0, ..., 0, 0, 0])"
      ]
     },
     "execution_count": 49,
     "metadata": {},
     "output_type": "execute_result"
    }
   ],
   "source": [
    "np.where(new_y=='Center')[1]"
   ]
  },
  {
   "cell_type": "markdown",
   "metadata": {},
   "source": [
    "- ノイズ付加後におかしなデータがあるかチェック\n",
    "- 元データとずれがあるもの：1689枚"
   ]
  },
  {
   "cell_type": "markdown",
   "metadata": {},
   "source": [
    "### ノイズ付加後もマスクで直そうとしたがうまくいかない"
   ]
  },
  {
   "cell_type": "code",
   "execution_count": 50,
   "metadata": {},
   "outputs": [
    {
     "data": {
      "image/png": "[encoded data removed]",
      "text/plain": [
       "<Figure size 432x288 with 1 Axes>"
      ]
     },
     "metadata": {
      "needs_background": "light"
     },
     "output_type": "display_data"
    }
   ],
   "source": [
    "plt.imshow(np.argmax(new_x[14397], axis=2))\n",
    "plt.show()"
   ]
  },
  {
   "cell_type": "code",
   "execution_count": 51,
   "metadata": {},
   "outputs": [],
   "source": [
    "backup_new_x = new_x.copy()\n",
    "backup_new_y = new_y.copy()"
   ]
  },
  {
   "cell_type": "code",
   "execution_count": 53,
   "metadata": {
    "scrolled": false
   },
   "outputs": [
    {
     "name": "stdout",
     "output_type": "stream",
     "text": [
      "751\n",
      "0\n"
     ]
    },
    {
     "data": {
      "image/png": "[encoded data removed]",
      "text/plain": [
       "<Figure size 432x288 with 1 Axes>"
      ]
     },
     "metadata": {
      "needs_background": "light"
     },
     "output_type": "display_data"
    },
    {
     "data": {
      "image/png": "[encoded data removed]",
      "text/plain": [
       "<Figure size 432x288 with 1 Axes>"
      ]
     },
     "metadata": {
      "needs_background": "light"
     },
     "output_type": "display_data"
    }
   ],
   "source": [
    "count = 0\n",
    "for i in range(len(new_x)):\n",
    "    error = np.where((np.argmax(new_x[0], axis=2) != np.argmax(new_x[i], axis=2)) & (np.argmax(new_x[0], axis=2) == 0))\n",
    "    if len(error[0]) > 0:\n",
    "        #print(str(i) + \"error\")\n",
    "        #print(error)\n",
    "        count += 1\n",
    "print(count)\n",
    "\n",
    "for i in range(len(new_x)):\n",
    "    #マスクの適用, \n",
    "    out_region = np.where((np.argmax(new_x[i], axis=2) != 0) & (mask > 0.0))\n",
    "    new_x[i, out_region[0], out_region[1]] = np.array([1., 0., 0.])\n",
    "    in_region = np.where((np.argmax(new_x[i], axis=2) == 0) & (mask == 0.0))\n",
    "    new_x[i, in_region[0], in_region[1]] = np.array([0., 1., 0.])\n",
    "    \n",
    "count = 0\n",
    "for i in range(len(new_x)):\n",
    "    error = np.where((np.argmax(new_x[0], axis=2) != np.argmax(new_x[i], axis=2)) & (np.argmax(new_x[0], axis=2) == 0))\n",
    "    if len(error[0]) > 0:\n",
    "        #print(str(i) + \"error\")\n",
    "        #print(error)\n",
    "        count += 1\n",
    "print(count)\n",
    "\n",
    "plt.imshow(np.argmax(new_x[14397], axis=2))\n",
    "plt.show()\n",
    "plt.imshow(np.argmax(new_x[0], axis=2))\n",
    "plt.show()"
   ]
  },
  {
   "cell_type": "code",
   "execution_count": null,
   "metadata": {},
   "outputs": [],
   "source": [
    "print(new_x[14397, :, :, 2])"
   ]
  },
  {
   "cell_type": "markdown",
   "metadata": {},
   "source": [
    "### ノイズが2回かかっている？？？"
   ]
  },
  {
   "cell_type": "code",
   "execution_count": null,
   "metadata": {
    "scrolled": false
   },
   "outputs": [],
   "source": [
    "index = 16436\n",
    "#print(new_x[index])\n",
    "#print(new_y[index])\n",
    "ind = np.where(new_y=='Donut')[0]\n",
    "\n",
    "ex = encoder.predict(new_x[index].reshape((1, 26, 26, 3)))\n",
    "nx = ex + np.random.normal(loc=0, scale=0.1, size = (1, 13, 13, 64)) \n",
    "nx = decoder.predict(nx)\n",
    "#nx = np.array(nx[0], dtype='int64')\n",
    "#print(nx)\n",
    "\n",
    "#plt.imshow(np.argmax(nx[0], axis=2))\n",
    "#plt.show()\n",
    "\n",
    "plt.imshow(np.argmax(new_x[0], axis=2))\n",
    "plt.show()"
   ]
  },
  {
   "cell_type": "markdown",
   "metadata": {},
   "source": [
    "- データオーギュメンテーションを行った結果，各不良データごとに約40000枚に増えた．\n",
    "- 合計は368112枚となった．"
   ]
  },
  {
   "cell_type": "code",
   "execution_count": null,
   "metadata": {
    "scrolled": false
   },
   "outputs": [],
   "source": [
    "x = [0,1,2,3,4,5,6,7,8]\n",
    "labels2 = ['Center','Donut','Edge-Loc','Edge-Ring','Loc','Random','Scratch','Near-full','none']\n",
    "\n",
    "for k in x:\n",
    "    fig, ax = plt.subplots(nrows = 1, ncols = 10, figsize=(20, 20))\n",
    "    ax = ax.ravel(order='C')\n",
    "    for j in [k]:\n",
    "        index = np.where(new_y==labels2[j])[0]\n",
    "        img = new_x[index]\n",
    "        #img = new_x[0:10]\n",
    "        for i in range(10):\n",
    "            ax[i].imshow(np.argmax(img[i+0], axis=2))\n",
    "            ax[i].set_title(new_y[index[i+0]], fontsize=15)\n",
    "            #ax[i].set_xlabel(df_withpattern.index[img.index[i]], fontsize=10)\n",
    "            ax[i].set_xticks([])\n",
    "            ax[i].set_yticks([])\n",
    "    plt.tight_layout()\n",
    "    plt.show() "
   ]
  },
  {
   "cell_type": "markdown",
   "metadata": {},
   "source": [
    "### 学習を行う\n",
    "- 不良ラベルを0-8の9次元のベクトルとして表現する．\n",
    "- one-hotエンコーディングを行っている．"
   ]
  },
  {
   "cell_type": "code",
   "execution_count": null,
   "metadata": {},
   "outputs": [],
   "source": [
    "for i, l in enumerate(faulty_case):\n",
    "    new_y[new_y==l] = i"
   ]
  },
  {
   "cell_type": "code",
   "execution_count": null,
   "metadata": {},
   "outputs": [],
   "source": [
    "# one-hot-encoding\n",
    "new_y = to_categorical(new_y)"
   ]
  },
  {
   "cell_type": "code",
   "execution_count": null,
   "metadata": {},
   "outputs": [],
   "source": [
    "new_X=new_x\n",
    "new_Y=new_y"
   ]
  },
  {
   "cell_type": "markdown",
   "metadata": {},
   "source": [
    "- 学習データとテストデータに分割する．"
   ]
  },
  {
   "cell_type": "code",
   "execution_count": null,
   "metadata": {},
   "outputs": [],
   "source": [
    "x_train, x_test, y_train, y_test = train_test_split(new_X, new_Y,\n",
    "                                                    test_size=0.33,\n",
    "                                                    random_state=2019)"
   ]
  },
  {
   "cell_type": "code",
   "execution_count": null,
   "metadata": {},
   "outputs": [],
   "source": [
    "print('Train x : {}, y : {}'.format(x_train.shape, y_train.shape))\n",
    "print('Test x: {}, y : {}'.format(x_test.shape, y_test.shape))"
   ]
  },
  {
   "cell_type": "markdown",
   "metadata": {},
   "source": [
    "- 学習データ246635枚，テストデータ121477枚．"
   ]
  },
  {
   "cell_type": "markdown",
   "metadata": {},
   "source": [
    "- モデルの定義を行う．"
   ]
  },
  {
   "cell_type": "code",
   "execution_count": null,
   "metadata": {},
   "outputs": [],
   "source": [
    "input_shape = (26, 26, 3)\n",
    "input_tensor = Input(input_shape)\n",
    "\n",
    "def create_model():\n",
    "    global input_tensor\n",
    "    \n",
    "    conv = layers.Conv2D(32, (3,3), activation='relu', name='conv1')(input_tensor)\n",
    "    padding = layers.ZeroPadding2D(padding=(1, 1), name='padding1')(conv)\n",
    "    conv = layers.Conv2D(64, (3,3), activation='relu', name='conv2')(padding)\n",
    "    padding = layers.ZeroPadding2D(padding=(1, 1), name='padding2')(conv)\n",
    "    conv = layers.Conv2D(128, (3,3), activation='relu', name='conv3')(padding)\n",
    "    padding = layers.ZeroPadding2D(padding=(1, 1), name='padding3')(conv)\n",
    "    conv_out = layers.Conv2D(256, (3,3), activation='relu', name='conv4')(padding)\n",
    "\n",
    "    gap_layer = layers.GlobalAveragePooling2D(name='GAP')\n",
    "    output_layer = layers.Dense(9, activation='softmax', name='output')\n",
    "\n",
    "    aver_pool = gap_layer(conv_out)\n",
    "    output_tensor = output_layer(aver_pool)\n",
    "\n",
    "    model = models.Model(input_tensor, output_tensor)\n",
    "\n",
    "    model.compile(optimizer='Adam',\n",
    "             loss='categorical_crossentropy',\n",
    "             metrics=['accuracy'])\n",
    "\n",
    "    return model"
   ]
  },
  {
   "cell_type": "markdown",
   "metadata": {},
   "source": [
    "- 3-Fold Cross validationで分割して学習する．"
   ]
  },
  {
   "cell_type": "code",
   "execution_count": null,
   "metadata": {
    "scrolled": true
   },
   "outputs": [],
   "source": [
    "model = KerasClassifier(build_fn=create_model, epochs=30, batch_size=512, verbose=1) \n",
    "# 3-Fold Crossvalidation\n",
    "kfold = KFold(n_splits=3, shuffle=True, random_state=2019) \n",
    "results = cross_val_score(model, x_train, y_train, cv=kfold)\n",
    "# Check 3-fold model's mean accuracy\n",
    "print('Class Activation Map Cross validation score : {:.4f}'.format(np.mean(results)))"
   ]
  },
  {
   "cell_type": "markdown",
   "metadata": {},
   "source": [
    "- Cross validiationによる精度は99.10%であった．"
   ]
  },
  {
   "cell_type": "markdown",
   "metadata": {},
   "source": [
    "- Cross validationなしで学習する．"
   ]
  },
  {
   "cell_type": "code",
   "execution_count": null,
   "metadata": {
    "scrolled": true
   },
   "outputs": [],
   "source": [
    "history = model.fit(x_train, y_train,\n",
    "         validation_data=[x_test, y_test],\n",
    "         epochs=50,\n",
    "         batch_size=512,\n",
    "         verbose=1\n",
    "         )"
   ]
  },
  {
   "cell_type": "markdown",
   "metadata": {},
   "source": [
    "- テストデータで評価．    "
   ]
  },
  {
   "cell_type": "code",
   "execution_count": null,
   "metadata": {},
   "outputs": [],
   "source": [
    "score = model.score(x_test, y_test)\n",
    "#print('Test Loss:', score[0])\n",
    "#print('Test accuracy:', score[1])\n",
    "print('Testing Accuracy:',score)"
   ]
  },
  {
   "cell_type": "markdown",
   "metadata": {},
   "source": [
    "- モデルは以下．\n",
    "    - 入力層\n",
    "    - 畳み込み層3つ\n",
    "    - Flatten層（1次元に）\n",
    "    - 全結合層3つ"
   ]
  },
  {
   "cell_type": "code",
   "execution_count": null,
   "metadata": {
    "scrolled": true
   },
   "outputs": [],
   "source": [
    "model.model.summary()"
   ]
  },
  {
   "cell_type": "markdown",
   "metadata": {},
   "source": [
    "- accuracyグラフ，lossグラフは以下．\n",
    "- 5epoch程度で落ち着いている．"
   ]
  },
  {
   "cell_type": "code",
   "execution_count": null,
   "metadata": {},
   "outputs": [],
   "source": [
    "# accuracy plot \n",
    "plt.plot(history.history['acc'])\n",
    "plt.plot(history.history['val_acc'])\n",
    "plt.title('model accuracy')\n",
    "plt.ylabel('accuracy')\n",
    "plt.xlabel('epoch')\n",
    "plt.legend(['train', 'test'], loc='upper left')\n",
    "plt.show()\n",
    "\n",
    "# loss plot\n",
    "plt.plot(history.history['loss'])\n",
    "plt.plot(history.history['val_loss'])\n",
    "plt.title('model loss')\n",
    "plt.ylabel('loss')\n",
    "plt.xlabel('epoch')\n",
    "plt.legend(['train', 'test'], loc='upper left')\n",
    "plt.show()"
   ]
  },
  {
   "cell_type": "markdown",
   "metadata": {},
   "source": [
    "### クラス活性化マップ"
   ]
  },
  {
   "cell_type": "code",
   "execution_count": null,
   "metadata": {},
   "outputs": [],
   "source": [
    "#set target wafer number\n",
    "target_wafer_num = 2\n",
    "# predict \n",
    "prob = model.model.predict(x_test[target_wafer_num].reshape(1,26,26,3))"
   ]
  },
  {
   "cell_type": "code",
   "execution_count": null,
   "metadata": {},
   "outputs": [],
   "source": [
    "aver_output = model.model.layers[7]\n",
    "aver_model = models.Model(input_tensor, aver_output.output)\n",
    "cam_result = aver_model.predict(x_test[target_wafer_num].reshape(1, 26, 26, 3))"
   ]
  },
  {
   "cell_type": "code",
   "execution_count": null,
   "metadata": {},
   "outputs": [],
   "source": [
    "weight_result = model.model.layers[-1].get_weights()[0]"
   ]
  },
  {
   "cell_type": "code",
   "execution_count": null,
   "metadata": {},
   "outputs": [],
   "source": [
    "def make_cam(cam_result, weight_result): \n",
    "    cam_arr = np.zeros((1,24, 24))\n",
    "    for row in range(0,9):\n",
    "        cam = np.zeros((1, 24, 24))\n",
    "        for i, w in enumerate(weight_result[:, row]):\n",
    "            cam += (w*cam_result[0,:,:,i]).reshape(24,24)\n",
    "        cam = (cam - np.min(cam)) / (np.max(cam) - np.min(cam))\n",
    "        cam[mask_x == 0] = 0\n",
    "        cam_arr = np.concatenate((cam_arr, cam))\n",
    "    return cam_arr[1:]\n",
    "\n",
    "def display_activation(cam_arr, prob, wafer): \n",
    "    fig, ax = plt.subplots(9, 1, figsize=(50, 50))\n",
    "    count = 0\n",
    "    cam_arr[np.percentile(cam_arr, 0.8) > cam_arr] = 0\n",
    "    for row in range(0,9):\n",
    "        ax[row].imshow(np.argmax(wafer, axis=2))\n",
    "        ax[row].imshow(cam_arr[row],cmap='Reds', alpha=0.7)\n",
    "        ax[row].set_title('class : ' + faulty_case_dict[count]+', prob : {:.4f}'.format(prob[:, count][0]*100) + '%')\n",
    "        count += 1"
   ]
  },
  {
   "cell_type": "code",
   "execution_count": null,
   "metadata": {},
   "outputs": [],
   "source": [
    "faulty_case_dict[np.argmax(y_test[target_wafer_num])]"
   ]
  },
  {
   "cell_type": "code",
   "execution_count": null,
   "metadata": {},
   "outputs": [],
   "source": [
    "plt.imshow(np.argmax(x_test[target_wafer_num], axis=2))\n",
    "print('faulty case : {}'.format(faulty_case_dict[np.argmax(y_test[target_wafer_num])]))"
   ]
  },
  {
   "cell_type": "markdown",
   "metadata": {},
   "source": [
    "- 対象のウエハの画像と不良パターンの表示"
   ]
  },
  {
   "cell_type": "code",
   "execution_count": null,
   "metadata": {},
   "outputs": [],
   "source": [
    "cam_result.shape"
   ]
  },
  {
   "cell_type": "code",
   "execution_count": null,
   "metadata": {},
   "outputs": [],
   "source": [
    "cam_arr = make_cam(cam_result, weight_result)"
   ]
  },
  {
   "cell_type": "code",
   "execution_count": null,
   "metadata": {},
   "outputs": [],
   "source": [
    "prob.shape"
   ]
  },
  {
   "cell_type": "code",
   "execution_count": null,
   "metadata": {},
   "outputs": [],
   "source": [
    "display_activation(cam_arr, prob, x_test[target_wafer_num])"
   ]
  },
  {
   "cell_type": "markdown",
   "metadata": {},
   "source": [
    "- 活性化マップの表示\n",
    "- ドーナツでは円形状にヒートマップの赤い部分が点在している"
   ]
  },
  {
   "cell_type": "code",
   "execution_count": null,
   "metadata": {},
   "outputs": [],
   "source": []
  },
  {
   "cell_type": "markdown",
   "metadata": {},
   "source": [
    "### CNN"
   ]
  },
  {
   "cell_type": "code",
   "execution_count": null,
   "metadata": {},
   "outputs": [],
   "source": [
    "input_shape = (26, 26, 3)\n",
    "input_tensor = Input(input_shape)\n",
    "def create_model():\n",
    "\n",
    "\n",
    "    conv_1 = layers.Conv2D(16, (3,3), activation='relu', padding='same')(input_tensor)\n",
    "    conv_2 = layers.Conv2D(64, (3,3), activation='relu', padding='same')(conv_1)\n",
    "    conv_3 = layers.Conv2D(128, (3,3), activation='relu', padding='same')(conv_2)\n",
    "\n",
    "    flat = layers.Flatten()(conv_3)\n",
    "\n",
    "    dense_1 = layers.Dense(512, activation='relu')(flat)\n",
    "    dense_2 = layers.Dense(128, activation='relu')(dense_1)\n",
    "    output_tensor = layers.Dense(9, activation='softmax')(dense_2)\n",
    "\n",
    "    model = models.Model(input_tensor, output_tensor)\n",
    "    model.compile(optimizer='Adam',\n",
    "                 loss='categorical_crossentropy',\n",
    "                 metrics=['accuracy'])\n",
    "\n",
    "    return model"
   ]
  },
  {
   "cell_type": "markdown",
   "metadata": {},
   "source": [
    "- 3-Fold Cross validationで分割して学習する．"
   ]
  },
  {
   "cell_type": "code",
   "execution_count": null,
   "metadata": {
    "scrolled": true
   },
   "outputs": [],
   "source": [
    "model = KerasClassifier(build_fn=create_model, epochs=30, batch_size=1024, verbose=1) \n",
    "# 3-Fold Crossvalidation\n",
    "kfold = KFold(n_splits=3, shuffle=True, random_state=2019) \n",
    "results = cross_val_score(model, x_train, y_train, cv=kfold)\n",
    "# Check 3-fold model's mean accuracy\n",
    "print('Simple CNN Cross validation score : {:.4f}'.format(np.mean(results)))"
   ]
  },
  {
   "cell_type": "markdown",
   "metadata": {},
   "source": [
    "- Cross validiationによる精度は99.55%であった．"
   ]
  },
  {
   "cell_type": "markdown",
   "metadata": {},
   "source": [
    "- Cross validationなしで学習する．"
   ]
  },
  {
   "cell_type": "code",
   "execution_count": null,
   "metadata": {
    "scrolled": true
   },
   "outputs": [],
   "source": [
    "history = model.fit(x_train, y_train,\n",
    "         validation_data=[x_test, y_test],\n",
    "         epochs=epoch,\n",
    "         batch_size=batch_size,\n",
    "         verbose=1           \n",
    "         )"
   ]
  },
  {
   "cell_type": "markdown",
   "metadata": {},
   "source": [
    "- テストデータで評価．    "
   ]
  },
  {
   "cell_type": "code",
   "execution_count": null,
   "metadata": {},
   "outputs": [],
   "source": [
    "score = model.score(x_test, y_test)\n",
    "#print('Test Loss:', score[0])\n",
    "#print('Test accuracy:', score[1])\n",
    "print('Testing Accuracy:',score)"
   ]
  },
  {
   "cell_type": "markdown",
   "metadata": {},
   "source": [
    "- acuurayは99.70%であった．"
   ]
  },
  {
   "cell_type": "markdown",
   "metadata": {},
   "source": [
    "- モデルは以下．\n",
    "    - 入力層\n",
    "    - 畳み込み層3つ\n",
    "    - Flatten層（1次元に）\n",
    "    - 全結合層3つ"
   ]
  },
  {
   "cell_type": "code",
   "execution_count": null,
   "metadata": {
    "scrolled": true
   },
   "outputs": [],
   "source": [
    "model.model.summary()"
   ]
  },
  {
   "cell_type": "markdown",
   "metadata": {},
   "source": [
    "- accuracyグラフ，lossグラフは以下．\n",
    "- 5epoch程度で落ち着いている．"
   ]
  },
  {
   "cell_type": "code",
   "execution_count": null,
   "metadata": {},
   "outputs": [],
   "source": [
    "# accuracy plot \n",
    "plt.plot(history.history['acc'])\n",
    "plt.plot(history.history['val_acc'])\n",
    "plt.title('model accuracy')\n",
    "plt.ylabel('accuracy')\n",
    "plt.xlabel('epoch')\n",
    "plt.legend(['train', 'test'], loc='upper left')\n",
    "plt.show()\n",
    "\n",
    "# loss plot\n",
    "plt.plot(history.history['loss'])\n",
    "plt.plot(history.history['val_loss'])\n",
    "plt.title('model loss')\n",
    "plt.ylabel('loss')\n",
    "plt.xlabel('epoch')\n",
    "plt.legend(['train', 'test'], loc='upper left')\n",
    "plt.show()"
   ]
  },
  {
   "cell_type": "code",
   "execution_count": null,
   "metadata": {},
   "outputs": [],
   "source": [
    "#y_train_pred = np.argmax(model.predict(x_train))\n",
    "y_train_pred = model.predict(x_train)\n",
    "y_test_pred = model.predict(x_test)\n",
    "y_train_max = np.argmax(y_train, axis=1)\n",
    "y_test_max = np.argmax(y_test, axis=1)\n",
    "\n",
    "print(y_train_max[0])\n",
    "print(y_train_pred[0])\n",
    "\n",
    "train_acc2 = np.sum(y_train_max == y_train_pred, axis=0, dtype='float') / x_train.shape[0]\n",
    "test_acc2 = np.sum(y_test_max == y_test_pred, axis=0, dtype='float') / x_test.shape[0]\n",
    "print('Training acc: {}'.format(train_acc2*100))\n",
    "print('Testing acc: {}'.format(test_acc2*100))\n",
    "print(\"y_train_pred[:100]: \", y_train_pred[:100])\n",
    "print (\"y_train_max[:100]: \", y_train_max[:100])"
   ]
  },
  {
   "cell_type": "markdown",
   "metadata": {},
   "source": [
    "### 混同行列"
   ]
  },
  {
   "cell_type": "code",
   "execution_count": null,
   "metadata": {},
   "outputs": [],
   "source": [
    "import itertools\n",
    "from sklearn.metrics import confusion_matrix\n",
    "\n",
    "def plot_confusion_matrix(cm, normalize=False, title='Confusion matrix', cmap=plt.cm.Blues):\n",
    "    \"\"\"\n",
    "    This function prints and plots the confusion matrix.\n",
    "    Normalization can be applied by setting `normalize=True`.\n",
    "    \"\"\"\n",
    "    if normalize:\n",
    "        cm = cm.astype('float') / cm.sum(axis=1)[:, np.newaxis]\n",
    "        print(\"Normalized confusion matrix\")\n",
    "    else:\n",
    "        print('Confusion matrix, without normalization')\n",
    "\n",
    "    #print(cm)\n",
    "\n",
    "    plt.imshow(cm, interpolation='nearest', cmap=cmap)\n",
    "    plt.title(title)\n",
    "    plt.colorbar()\n",
    "\n",
    "    fmt = '.2f' if normalize else 'd'\n",
    "    thresh = cm.max() / 2.\n",
    "    for i, j in itertools.product(range(cm.shape[0]), range(cm.shape[1])):\n",
    "        plt.text(j, i, format(cm[i, j], fmt),\n",
    "                 horizontalalignment=\"center\",\n",
    "                 color=\"white\" if cm[i, j] > thresh else \"black\")\n",
    "\n",
    "    plt.tight_layout()\n",
    "    plt.ylabel('True label')\n",
    "    plt.xlabel('Predicted label')"
   ]
  },
  {
   "cell_type": "code",
   "execution_count": null,
   "metadata": {},
   "outputs": [],
   "source": [
    "# Compute confusion matrix\n",
    "cnf_matrix = confusion_matrix(y_test_max, y_test_pred)\n",
    "np.set_printoptions(precision=2)\n",
    "\n",
    "from matplotlib import gridspec\n",
    "fig = plt.figure(figsize=(8, 15)) \n",
    "gs = gridspec.GridSpec(2, 1, height_ratios=[1, 1]) \n",
    "\n",
    "## Plot non-normalized confusion matrix\n",
    "plt.subplot(gs[0])\n",
    "plot_confusion_matrix(cnf_matrix, title='Confusion matrix')\n",
    "\n",
    "# Plot normalized confusion matrix\n",
    "plt.subplot(gs[1])\n",
    "plot_confusion_matrix(cnf_matrix, normalize=True, title='Normalized confusion matrix')\n",
    "\n",
    "plt.show()"
   ]
  },
  {
   "cell_type": "markdown",
   "metadata": {},
   "source": [
    "### クラス活性化マップ"
   ]
  },
  {
   "cell_type": "code",
   "execution_count": null,
   "metadata": {},
   "outputs": [],
   "source": [
    "#set target wafer number\n",
    "target_wafer_num = 100000\n",
    "# predict \n",
    "prob = model.model.predict(x_test[target_wafer_num].reshape(1,26,26,3))"
   ]
  },
  {
   "cell_type": "code",
   "execution_count": null,
   "metadata": {},
   "outputs": [],
   "source": [
    "aver_output = model.model.layers[3]\n",
    "aver_model = models.Model(input_tensor, aver_output.output)\n",
    "cam_result = aver_model.predict(x_test[target_wafer_num].reshape(1, 26, 26, 3))"
   ]
  },
  {
   "cell_type": "code",
   "execution_count": null,
   "metadata": {},
   "outputs": [],
   "source": [
    "print(model.model.layers[3].name)"
   ]
  },
  {
   "cell_type": "code",
   "execution_count": null,
   "metadata": {},
   "outputs": [],
   "source": [
    "weight_result = model.model.layers[-1].get_weights()[0]"
   ]
  },
  {
   "cell_type": "code",
   "execution_count": null,
   "metadata": {},
   "outputs": [],
   "source": [
    "def make_cam(cam_result, weight_result): \n",
    "    cam_arr = np.zeros((1,26, 26))\n",
    "    for row in range(0,9):\n",
    "        cam = np.zeros((1, 26, 26))\n",
    "        for i, w in enumerate(weight_result[:, row]):\n",
    "            cam += (w*cam_result[0,:,:,i]).reshape(26,26)\n",
    "        cam = (cam - np.min(cam)) / (np.max(cam) - np.min(cam))\n",
    "        cam[mask_x == 0] = 0\n",
    "        cam_arr = np.concatenate((cam_arr, cam))\n",
    "    return cam_arr[1:]\n",
    "\n",
    "def display_activation(cam_arr, prob, wafer): \n",
    "    fig, ax = plt.subplots(9, 1, figsize=(50, 50))\n",
    "    count = 0\n",
    "    cam_arr[np.percentile(cam_arr, 0.8) > cam_arr] = 0\n",
    "    for row in range(0,9):\n",
    "        ax[row].imshow(np.argmax(wafer, axis=2))\n",
    "        ax[row].imshow(cam_arr[row],cmap='Reds', alpha=0.7)\n",
    "        ax[row].set_title('class : ' + faulty_case_dict[count]+', prob : {:.4f}'.format(prob[:, count][0]*100) + '%')\n",
    "        count += 1"
   ]
  },
  {
   "cell_type": "code",
   "execution_count": null,
   "metadata": {},
   "outputs": [],
   "source": [
    "faulty_case_dict[np.argmax(y_test[target_wafer_num])]"
   ]
  },
  {
   "cell_type": "code",
   "execution_count": null,
   "metadata": {},
   "outputs": [],
   "source": [
    "plt.imshow(np.argmax(x_test[target_wafer_num], axis=2))\n",
    "print('faulty case : {}'.format(faulty_case_dict[np.argmax(y_test[target_wafer_num])]))"
   ]
  },
  {
   "cell_type": "markdown",
   "metadata": {},
   "source": [
    "- 対象のウエハの画像と不良パターンの表示"
   ]
  },
  {
   "cell_type": "code",
   "execution_count": null,
   "metadata": {},
   "outputs": [],
   "source": [
    "cam_result.shape"
   ]
  },
  {
   "cell_type": "code",
   "execution_count": null,
   "metadata": {},
   "outputs": [],
   "source": [
    "mask_x = np.zeros((26, 26))\n",
    "dummy_x = cv2.resize(x[0], (26,26))\n",
    "mask_x[dummy_x == 1] = 1 \n",
    "mask_x[dummy_x == 2] = 1 \n",
    "mask_x = mask_x.reshape((1, 26,26))"
   ]
  },
  {
   "cell_type": "code",
   "execution_count": null,
   "metadata": {},
   "outputs": [],
   "source": [
    "cam_arr = make_cam(cam_result, weight_result)"
   ]
  },
  {
   "cell_type": "code",
   "execution_count": null,
   "metadata": {},
   "outputs": [],
   "source": [
    "prob.shape"
   ]
  },
  {
   "cell_type": "code",
   "execution_count": null,
   "metadata": {},
   "outputs": [],
   "source": [
    "display_activation(cam_arr, prob, x_test[target_wafer_num])"
   ]
  },
  {
   "cell_type": "markdown",
   "metadata": {},
   "source": [
    "- 活性化マップの表示\n",
    "- ドーナツでは円形状にヒートマップの赤い部分が点在している"
   ]
  },
  {
   "cell_type": "code",
   "execution_count": null,
   "metadata": {},
   "outputs": [],
   "source": []
  }
 ],
 "metadata": {
  "kernelspec": {
   "display_name": "Python 3 (Anaconda)",
   "language": "python",
   "name": "python3_anaconda"
  },
  "language_info": {
   "codemirror_mode": {
    "name": "ipython",
    "version": 3
   },
   "file_extension": ".py",
   "mimetype": "text/x-python",
   "name": "python",
   "nbconvert_exporter": "python",
   "pygments_lexer": "ipython3",
   "version": "3.7.6"
  }
 },
 "nbformat": 4,
 "nbformat_minor": 2
}
