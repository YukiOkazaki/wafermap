{
 "cells": [
  {
   "cell_type": "markdown",
   "metadata": {},
   "source": [
    "## 26x26のウエハに限定して機械学習させる\n",
    "- データオーギュメンテーション（鏡映，回転を追加）"
   ]
  },
  {
   "cell_type": "markdown",
   "metadata": {},
   "source": [
    "### import，入力データの読み込み"
   ]
  },
  {
   "cell_type": "code",
   "execution_count": 1,
   "metadata": {},
   "outputs": [
    {
     "name": "stdout",
     "output_type": "stream",
     "text": [
      "../input/LSWMD.pkl\n"
     ]
    }
   ],
   "source": [
    "# This Python 3 environment comes with many helpful analytics libraries installed\n",
    "# It is defined by the kaggle/python docker image: https://github.com/kaggle/docker-python\n",
    "# For example, here's several helpful packages to load in \n",
    "\n",
    "import numpy as np # linear algebra\n",
    "import pandas as pd # data processing, CSV file I/O (e.g. pd.read_csv)\n",
    "\n",
    "# Input data files are available in the \"../input/\" directory.\n",
    "# For example, running this (by clicking run or pressing Shift+Enter) will list all files under the input directory\n",
    "\n",
    "import os\n",
    "for dirname, _, filenames in os.walk('../input'):\n",
    "    for filename in filenames:\n",
    "        print(os.path.join(dirname, filename))\n",
    "\n",
    "# Any results you write to the current directory are saved as output."
   ]
  },
  {
   "cell_type": "code",
   "execution_count": 2,
   "metadata": {
    "scrolled": true
   },
   "outputs": [
    {
     "name": "stdout",
     "output_type": "stream",
     "text": [
      "using GPU: 0,1\n"
     ]
    },
    {
     "name": "stderr",
     "output_type": "stream",
     "text": [
      "Using TensorFlow backend.\n"
     ]
    },
    {
     "name": "stdout",
     "output_type": "stream",
     "text": [
      "['LSWMD.pkl']\n"
     ]
    }
   ],
   "source": [
    "import os\n",
    "from os.path import join\n",
    "os.environ[\"CUDA_VISIBLE_DEVICES\"] = \"0,1\"\n",
    "\n",
    "import numpy as np\n",
    "import pandas as pd\n",
    "import cv2\n",
    "\n",
    "from sklearn.model_selection import KFold \n",
    "from sklearn.model_selection import cross_val_score\n",
    "from sklearn.model_selection import train_test_split\n",
    "\n",
    "import tensorflow as tf\n",
    "import keras\n",
    "from keras import layers, Input, models\n",
    "from keras.utils import to_categorical\n",
    "from keras.wrappers.scikit_learn import KerasClassifier \n",
    "\n",
    "\n",
    "import matplotlib.pyplot as plt\n",
    "\n",
    "from keras.preprocessing import image\n",
    "from keras.preprocessing.image import ImageDataGenerator\n",
    "\n",
    "import random\n",
    "random.seed(1)\n",
    "\n",
    "datapath = join('data', 'wafer')\n",
    "\n",
    "print(os.listdir(\"../input\"))\n",
    "import warnings\n",
    "warnings.filterwarnings(\"ignore\")"
   ]
  },
  {
   "cell_type": "markdown",
   "metadata": {},
   "source": [
    "### データについて"
   ]
  },
  {
   "cell_type": "code",
   "execution_count": 3,
   "metadata": {
    "scrolled": false
   },
   "outputs": [
    {
     "name": "stdout",
     "output_type": "stream",
     "text": [
      "<class 'pandas.core.frame.DataFrame'>\n",
      "RangeIndex: 811457 entries, 0 to 811456\n",
      "Data columns (total 6 columns):\n",
      " #   Column          Non-Null Count   Dtype  \n",
      "---  ------          --------------   -----  \n",
      " 0   waferMap        811457 non-null  object \n",
      " 1   dieSize         811457 non-null  float64\n",
      " 2   lotName         811457 non-null  object \n",
      " 3   waferIndex      811457 non-null  float64\n",
      " 4   trianTestLabel  811457 non-null  object \n",
      " 5   failureType     811457 non-null  object \n",
      "dtypes: float64(2), object(4)\n",
      "memory usage: 37.1+ MB\n"
     ]
    }
   ],
   "source": [
    "df=pd.read_pickle(\"../input/LSWMD.pkl\")\n",
    "df.info()"
   ]
  },
  {
   "cell_type": "markdown",
   "metadata": {},
   "source": [
    "- データセットは811,457枚のウエハマップから構成されている．"
   ]
  },
  {
   "cell_type": "markdown",
   "metadata": {},
   "source": [
    "- ウエハマップのそれぞれの列から得られる情報はないが，インスタンスごとにダイサイズが異なることがわかる．\n",
    "- ウエハマップのダイサイズをチェックするための変数`WaferMapDim`を定義する．（縦，横の値）"
   ]
  },
  {
   "cell_type": "code",
   "execution_count": 4,
   "metadata": {},
   "outputs": [],
   "source": [
    "df = df.drop(['waferIndex'], axis = 1)"
   ]
  },
  {
   "cell_type": "code",
   "execution_count": 5,
   "metadata": {},
   "outputs": [
    {
     "data": {
      "text/html": [
       "<div>\n",
       "<style scoped>\n",
       "    .dataframe tbody tr th:only-of-type {\n",
       "        vertical-align: middle;\n",
       "    }\n",
       "\n",
       "    .dataframe tbody tr th {\n",
       "        vertical-align: top;\n",
       "    }\n",
       "\n",
       "    .dataframe thead th {\n",
       "        text-align: right;\n",
       "    }\n",
       "</style>\n",
       "<table border=\"1\" class=\"dataframe\">\n",
       "  <thead>\n",
       "    <tr style=\"text-align: right;\">\n",
       "      <th></th>\n",
       "      <th>waferMap</th>\n",
       "      <th>dieSize</th>\n",
       "      <th>lotName</th>\n",
       "      <th>trianTestLabel</th>\n",
       "      <th>failureType</th>\n",
       "      <th>waferMapDim</th>\n",
       "    </tr>\n",
       "  </thead>\n",
       "  <tbody>\n",
       "    <tr>\n",
       "      <th>675837</th>\n",
       "      <td>[[0, 0, 0, 0, 0, 0, 0, 0, 0, 0, 0, 0, 2, 1, 2,...</td>\n",
       "      <td>592.0</td>\n",
       "      <td>lot42042</td>\n",
       "      <td>[[Test]]</td>\n",
       "      <td>[[none]]</td>\n",
       "      <td>(29, 27)</td>\n",
       "    </tr>\n",
       "    <tr>\n",
       "      <th>323572</th>\n",
       "      <td>[[0, 0, 0, 0, 0, 0, 0, 0, 0, 0, 0, 0, 0, 0, 0,...</td>\n",
       "      <td>4423.0</td>\n",
       "      <td>lot19571</td>\n",
       "      <td>[]</td>\n",
       "      <td>[]</td>\n",
       "      <td>(74, 76)</td>\n",
       "    </tr>\n",
       "    <tr>\n",
       "      <th>743596</th>\n",
       "      <td>[[0, 0, 0, 0, 0, 0, 0, 0, 0, 0, 0, 0, 0, 0, 0,...</td>\n",
       "      <td>1421.0</td>\n",
       "      <td>lot44788</td>\n",
       "      <td>[[Test]]</td>\n",
       "      <td>[[none]]</td>\n",
       "      <td>(43, 42)</td>\n",
       "    </tr>\n",
       "    <tr>\n",
       "      <th>227197</th>\n",
       "      <td>[[0, 0, 0, 0, 0, 0, 0, 0, 0, 0, 0, 0, 0, 0, 0,...</td>\n",
       "      <td>7810.0</td>\n",
       "      <td>lot14277</td>\n",
       "      <td>[]</td>\n",
       "      <td>[]</td>\n",
       "      <td>(89, 112)</td>\n",
       "    </tr>\n",
       "    <tr>\n",
       "      <th>710247</th>\n",
       "      <td>[[0, 0, 0, 0, 0, 0, 0, 0, 0, 0, 0, 0, 2, 2, 2,...</td>\n",
       "      <td>516.0</td>\n",
       "      <td>lot43436</td>\n",
       "      <td>[[Training]]</td>\n",
       "      <td>[[none]]</td>\n",
       "      <td>(25, 27)</td>\n",
       "    </tr>\n",
       "  </tbody>\n",
       "</table>\n",
       "</div>"
      ],
      "text/plain": [
       "                                                 waferMap  dieSize   lotName  \\\n",
       "675837  [[0, 0, 0, 0, 0, 0, 0, 0, 0, 0, 0, 0, 2, 1, 2,...    592.0  lot42042   \n",
       "323572  [[0, 0, 0, 0, 0, 0, 0, 0, 0, 0, 0, 0, 0, 0, 0,...   4423.0  lot19571   \n",
       "743596  [[0, 0, 0, 0, 0, 0, 0, 0, 0, 0, 0, 0, 0, 0, 0,...   1421.0  lot44788   \n",
       "227197  [[0, 0, 0, 0, 0, 0, 0, 0, 0, 0, 0, 0, 0, 0, 0,...   7810.0  lot14277   \n",
       "710247  [[0, 0, 0, 0, 0, 0, 0, 0, 0, 0, 0, 0, 2, 2, 2,...    516.0  lot43436   \n",
       "\n",
       "       trianTestLabel failureType waferMapDim  \n",
       "675837       [[Test]]    [[none]]    (29, 27)  \n",
       "323572             []          []    (74, 76)  \n",
       "743596       [[Test]]    [[none]]    (43, 42)  \n",
       "227197             []          []   (89, 112)  \n",
       "710247   [[Training]]    [[none]]    (25, 27)  "
      ]
     },
     "execution_count": 5,
     "metadata": {},
     "output_type": "execute_result"
    }
   ],
   "source": [
    "def find_dim(x):\n",
    "    dim0=np.size(x,axis=0)\n",
    "    dim1=np.size(x,axis=1)\n",
    "    return dim0,dim1\n",
    "df['waferMapDim']=df.waferMap.apply(find_dim)\n",
    "df.sample(5)"
   ]
  },
  {
   "cell_type": "markdown",
   "metadata": {},
   "source": [
    "- 不良パターンと学習orテストラベルを数値で表す．"
   ]
  },
  {
   "cell_type": "code",
   "execution_count": 6,
   "metadata": {},
   "outputs": [],
   "source": [
    "df['failureNum']=df.failureType\n",
    "df['trainTestNum']=df.trianTestLabel\n",
    "mapping_type={'Center':0,'Donut':1,'Edge-Loc':2,'Edge-Ring':3,'Loc':4,'Random':5,'Scratch':6,'Near-full':7,'none':8}\n",
    "mapping_traintest={'Training':0,'Test':1}\n",
    "df=df.replace({'failureNum':mapping_type, 'trainTestNum':mapping_traintest})"
   ]
  },
  {
   "cell_type": "code",
   "execution_count": 7,
   "metadata": {},
   "outputs": [
    {
     "data": {
      "text/plain": [
       "811457"
      ]
     },
     "execution_count": 7,
     "metadata": {},
     "output_type": "execute_result"
    }
   ],
   "source": [
    "tol_wafers = df.shape[0]\n",
    "tol_wafers"
   ]
  },
  {
   "cell_type": "code",
   "execution_count": 8,
   "metadata": {},
   "outputs": [
    {
     "data": {
      "text/plain": [
       "(172950, 25519, 147431)"
      ]
     },
     "execution_count": 8,
     "metadata": {},
     "output_type": "execute_result"
    }
   ],
   "source": [
    "df_withlabel = df[(df['failureNum']>=0) & (df['failureNum']<=8)]\n",
    "df_withlabel =df_withlabel.reset_index()\n",
    "df_withpattern = df[(df['failureNum']>=0) & (df['failureNum']<=7)]\n",
    "df_withpattern = df_withpattern.reset_index()\n",
    "df_nonpattern = df[(df['failureNum']==8)]\n",
    "df_withlabel.shape[0], df_withpattern.shape[0], df_nonpattern.shape[0]"
   ]
  },
  {
   "cell_type": "markdown",
   "metadata": {},
   "source": [
    "### 26x26のデータに対して処理"
   ]
  },
  {
   "cell_type": "code",
   "execution_count": 9,
   "metadata": {},
   "outputs": [],
   "source": [
    "sub_df = df.loc[df['waferMapDim'] == (26, 26)]\n",
    "sub_wafer = sub_df['waferMap'].values\n",
    "\n",
    "sw = np.ones((1, 26, 26))\n",
    "label = list()\n",
    "\n",
    "for i in range(len(sub_df)):\n",
    "    # skip null label\n",
    "    if len(sub_df.iloc[i,:]['failureType']) == 0:\n",
    "        continue\n",
    "    sw = np.concatenate((sw, sub_df.iloc[i,:]['waferMap'].reshape(1, 26, 26)))\n",
    "    label.append(sub_df.iloc[i,:]['failureType'][0][0])"
   ]
  },
  {
   "cell_type": "code",
   "execution_count": 10,
   "metadata": {},
   "outputs": [],
   "source": [
    "x = sw[1:]\n",
    "y = np.array(label).reshape((-1,1))"
   ]
  },
  {
   "cell_type": "code",
   "execution_count": 11,
   "metadata": {},
   "outputs": [],
   "source": [
    "mask_x = np.zeros((24, 24))\n",
    "dummy_x = cv2.resize(x[0], (24,24))\n",
    "mask_x[dummy_x == 1] = 1 \n",
    "mask_x[dummy_x == 2] = 1 \n",
    "mask_x = mask_x.reshape((1, 24,24))"
   ]
  },
  {
   "cell_type": "code",
   "execution_count": 12,
   "metadata": {},
   "outputs": [
    {
     "name": "stdout",
     "output_type": "stream",
     "text": [
      "x shape : (14366, 26, 26), y shape : (14366, 1)\n"
     ]
    }
   ],
   "source": [
    "print('x shape : {}, y shape : {}'.format(x.shape, y.shape))"
   ]
  },
  {
   "cell_type": "markdown",
   "metadata": {},
   "source": [
    "- 26x26のウエハが14366枚抽出できた．"
   ]
  },
  {
   "cell_type": "markdown",
   "metadata": {},
   "source": [
    "- 最初のデータを可視化してみる．\n",
    "- その前に，26x26のデータでおかしなものを表示"
   ]
  },
  {
   "cell_type": "code",
   "execution_count": 13,
   "metadata": {},
   "outputs": [
    {
     "name": "stdout",
     "output_type": "stream",
     "text": [
      "6267 is error\n",
      "6268 is error\n",
      "6269 is error\n",
      "6270 is error\n",
      "6271 is error\n",
      "6272 is error\n",
      "6273 is error\n",
      "6274 is error\n",
      "6275 is error\n",
      "6276 is error\n",
      "6277 is error\n",
      "6278 is error\n",
      "6279 is error\n",
      "6280 is error\n",
      "6281 is error\n",
      "6282 is error\n"
     ]
    }
   ],
   "source": [
    "for i in range(len(x)):\n",
    "    error = np.where((x[0] != x[i]) & ((x[0] == 0) | (x[i] == 0)))\n",
    "    if len(error[0]) > 0:\n",
    "        print(str(i) + \" is error\")\n",
    "        #print(error)"
   ]
  },
  {
   "cell_type": "code",
   "execution_count": 14,
   "metadata": {},
   "outputs": [
    {
     "data": {
      "image/png": "[encoded data removed]",
      "text/plain": [
       "<Figure size 432x288 with 1 Axes>"
      ]
     },
     "metadata": {
      "needs_background": "light"
     },
     "output_type": "display_data"
    },
    {
     "name": "stdout",
     "output_type": "stream",
     "text": [
      "Faulty case : ['none'] \n"
     ]
    }
   ],
   "source": [
    "# plot 1st data\n",
    "plt.imshow(x[0])\n",
    "plt.show()\n",
    "\n",
    "# check faulty case\n",
    "print('Faulty case : {} '.format(y[0]))"
   ]
  },
  {
   "cell_type": "markdown",
   "metadata": {},
   "source": [
    "- おかしなウエハは除去する"
   ]
  },
  {
   "cell_type": "code",
   "execution_count": 15,
   "metadata": {},
   "outputs": [
    {
     "name": "stdout",
     "output_type": "stream",
     "text": [
      "(14350, 26, 26)\n",
      "(14350, 1)\n"
     ]
    }
   ],
   "source": [
    "error_list = []\n",
    "for i in range(len(x)):\n",
    "    error = np.where((x[0] != x[i]) & ((x[0] == 0) | (x[i] == 0)))\n",
    "    if len(error[0]) > 0:\n",
    "        error_list.append(i)\n",
    "x = np.delete(x, error_list, 0)\n",
    "y = np.delete(y, error_list, 0)\n",
    "print(x.shape)\n",
    "print(y.shape)"
   ]
  },
  {
   "cell_type": "markdown",
   "metadata": {},
   "source": [
    "- 形が異なるウエハを削除したところ，14350枚となった．"
   ]
  },
  {
   "cell_type": "code",
   "execution_count": 16,
   "metadata": {},
   "outputs": [
    {
     "data": {
      "text/plain": [
       "(14350, 26, 26, 1)"
      ]
     },
     "execution_count": 16,
     "metadata": {},
     "output_type": "execute_result"
    }
   ],
   "source": [
    "x = x.reshape((-1, 26, 26, 1))\n",
    "x.shape"
   ]
  },
  {
   "cell_type": "code",
   "execution_count": 17,
   "metadata": {},
   "outputs": [
    {
     "name": "stdout",
     "output_type": "stream",
     "text": [
      "Faulty case list : ['Center' 'Donut' 'Edge-Loc' 'Edge-Ring' 'Loc' 'Near-full' 'Random'\n",
      " 'Scratch' 'none']\n"
     ]
    }
   ],
   "source": [
    "faulty_case = np.unique(y)\n",
    "print('Faulty case list : {}'.format(faulty_case))"
   ]
  },
  {
   "cell_type": "code",
   "execution_count": 18,
   "metadata": {},
   "outputs": [],
   "source": [
    "faulty_case_dict = dict()"
   ]
  },
  {
   "cell_type": "code",
   "execution_count": 19,
   "metadata": {},
   "outputs": [
    {
     "name": "stdout",
     "output_type": "stream",
     "text": [
      "Center : 90\n",
      "Donut : 1\n",
      "Edge-Loc : 289\n",
      "Edge-Ring : 23\n",
      "Loc : 297\n",
      "Near-full : 16\n",
      "Random : 74\n",
      "Scratch : 71\n",
      "none : 13489\n"
     ]
    }
   ],
   "source": [
    "for i, f in enumerate(faulty_case) :\n",
    "    print('{} : {}'.format(f, len(y[y==f])))\n",
    "    faulty_case_dict[i] = f"
   ]
  },
  {
   "cell_type": "markdown",
   "metadata": {},
   "source": [
    "- 14366枚の26x26ウエハの不良パターンは上記のようになっている．"
   ]
  },
  {
   "cell_type": "code",
   "execution_count": 20,
   "metadata": {},
   "outputs": [],
   "source": [
    "new_x = np.zeros((len(x), 26, 26, 3))\n",
    "\n",
    "for w in range(len(x)):\n",
    "    for i in range(26):\n",
    "        for j in range(26):\n",
    "            new_x[w, i, j, int(x[w, i, j])] = 1"
   ]
  },
  {
   "cell_type": "code",
   "execution_count": 21,
   "metadata": {},
   "outputs": [
    {
     "data": {
      "text/plain": [
       "(14350, 26, 26, 3)"
      ]
     },
     "execution_count": 21,
     "metadata": {},
     "output_type": "execute_result"
    }
   ],
   "source": [
    "new_x.shape"
   ]
  },
  {
   "cell_type": "markdown",
   "metadata": {},
   "source": [
    "- new_xを(14366, 26, 26, 3)とし，最後の次元にはウエハの値(0, 1, 2)がそれぞれの値毎にベクトルとしてまとめられている．\n",
    "- ウエハデータの各ピクセルは，0:ウエハなし，1:正常，2:不良を表す．"
   ]
  },
  {
   "cell_type": "markdown",
   "metadata": {},
   "source": [
    "### テストデータに分割\n",
    "- ランダムなリストを生成する"
   ]
  },
  {
   "cell_type": "code",
   "execution_count": 22,
   "metadata": {},
   "outputs": [],
   "source": [
    "def rand_ints_nodup(a, b, k):\n",
    "    ns = []\n",
    "    while len(ns) < k:\n",
    "        n = random.randint(a, b)\n",
    "        if not n in ns:\n",
    "            ns.append(n)\n",
    "    return ns"
   ]
  },
  {
   "cell_type": "code",
   "execution_count": 23,
   "metadata": {},
   "outputs": [],
   "source": [
    "testsize = 2500\n",
    "randlist = rand_ints_nodup(0, new_x.shape[0], testsize)"
   ]
  },
  {
   "cell_type": "markdown",
   "metadata": {},
   "source": [
    "- tempx, tempyにテストデータを分割\n",
    "- new_x, yからその分を削除"
   ]
  },
  {
   "cell_type": "code",
   "execution_count": 24,
   "metadata": {},
   "outputs": [],
   "source": [
    "tempx = new_x.copy()[randlist, :, :, :]\n",
    "tempy = y.copy()[randlist, :]"
   ]
  },
  {
   "cell_type": "code",
   "execution_count": 25,
   "metadata": {
    "scrolled": true
   },
   "outputs": [
    {
     "name": "stdout",
     "output_type": "stream",
     "text": [
      "Center : 16\n",
      "Donut : 0\n",
      "Edge-Loc : 53\n",
      "Edge-Ring : 3\n",
      "Loc : 53\n",
      "Near-full : 2\n",
      "Random : 13\n",
      "Scratch : 14\n",
      "none : 2346\n"
     ]
    }
   ],
   "source": [
    "for f in faulty_case :\n",
    "    print('{} : {}'.format(f, len(tempy[tempy==f])))"
   ]
  },
  {
   "cell_type": "code",
   "execution_count": 26,
   "metadata": {},
   "outputs": [],
   "source": [
    "new_x = np.delete(new_x, randlist, axis=0)\n",
    "y = np.delete(y, randlist, axis=0)"
   ]
  },
  {
   "cell_type": "markdown",
   "metadata": {},
   "source": [
    "### オートエンコーダで学習"
   ]
  },
  {
   "cell_type": "markdown",
   "metadata": {},
   "source": [
    "#### エンコーダとデコーダのモデルを学習"
   ]
  },
  {
   "cell_type": "markdown",
   "metadata": {},
   "source": [
    "- モデルの定義をする．"
   ]
  },
  {
   "cell_type": "code",
   "execution_count": 27,
   "metadata": {},
   "outputs": [],
   "source": [
    "# Encoder\n",
    "input_shape = (26, 26, 3)\n",
    "input_tensor = Input(input_shape)\n",
    "encode = layers.Conv2D(64, (3,3), padding='same', activation='relu')(input_tensor)\n",
    "\n",
    "latent_vector = layers.MaxPool2D()(encode)\n",
    "\n",
    "# Decoder\n",
    "decode_layer_1 = layers.Conv2DTranspose(64, (3,3), padding='same', activation='relu')\n",
    "decode_layer_2 = layers.UpSampling2D()\n",
    "output_tensor = layers.Conv2DTranspose(3, (3,3), padding='same', activation='sigmoid')\n",
    "\n",
    "# connect decoder layers\n",
    "decode = decode_layer_1(latent_vector)\n",
    "decode = decode_layer_2(decode)\n",
    "\n",
    "ae = models.Model(input_tensor, output_tensor(decode))\n",
    "ae.compile(optimizer = 'Adam',\n",
    "              loss = 'mse',\n",
    "             )"
   ]
  },
  {
   "cell_type": "code",
   "execution_count": 28,
   "metadata": {},
   "outputs": [
    {
     "name": "stdout",
     "output_type": "stream",
     "text": [
      "Model: \"model_1\"\n",
      "_________________________________________________________________\n",
      "Layer (type)                 Output Shape              Param #   \n",
      "=================================================================\n",
      "input_1 (InputLayer)         (None, 26, 26, 3)         0         \n",
      "_________________________________________________________________\n",
      "conv2d_1 (Conv2D)            (None, 26, 26, 64)        1792      \n",
      "_________________________________________________________________\n",
      "max_pooling2d_1 (MaxPooling2 (None, 13, 13, 64)        0         \n",
      "_________________________________________________________________\n",
      "conv2d_transpose_1 (Conv2DTr (None, 13, 13, 64)        36928     \n",
      "_________________________________________________________________\n",
      "up_sampling2d_1 (UpSampling2 (None, 26, 26, 64)        0         \n",
      "_________________________________________________________________\n",
      "conv2d_transpose_2 (Conv2DTr (None, 26, 26, 3)         1731      \n",
      "=================================================================\n",
      "Total params: 40,451\n",
      "Trainable params: 40,451\n",
      "Non-trainable params: 0\n",
      "_________________________________________________________________\n"
     ]
    }
   ],
   "source": [
    "ae.summary()"
   ]
  },
  {
   "cell_type": "markdown",
   "metadata": {},
   "source": [
    "- 層は\n",
    "    - 入力層\n",
    "    - 畳み込み層\n",
    "    - プーリング層\n",
    "    - 転置畳み込み層\n",
    "    - アップサンプリング層"
   ]
  },
  {
   "cell_type": "code",
   "execution_count": 29,
   "metadata": {},
   "outputs": [],
   "source": [
    "epoch=30\n",
    "batch_size=1024"
   ]
  },
  {
   "cell_type": "markdown",
   "metadata": {},
   "source": [
    "- 学習を開始する．\n",
    "- `new_x`を`new_x`にエンコードしデコードする．"
   ]
  },
  {
   "cell_type": "code",
   "execution_count": 30,
   "metadata": {
    "scrolled": true
   },
   "outputs": [
    {
     "name": "stdout",
     "output_type": "stream",
     "text": [
      "Epoch 1/30\n",
      "11850/11850 [==============================] - 2s 129us/step - loss: 0.1631\n",
      "Epoch 2/30\n",
      "11850/11850 [==============================] - 0s 38us/step - loss: 0.1007\n",
      "Epoch 3/30\n",
      "11850/11850 [==============================] - 0s 40us/step - loss: 0.0887\n",
      "Epoch 4/30\n",
      "11850/11850 [==============================] - 0s 40us/step - loss: 0.0783\n",
      "Epoch 5/30\n",
      "11850/11850 [==============================] - 0s 41us/step - loss: 0.0699\n",
      "Epoch 6/30\n",
      "11850/11850 [==============================] - 0s 40us/step - loss: 0.0632\n",
      "Epoch 7/30\n",
      "11850/11850 [==============================] - 0s 40us/step - loss: 0.0581\n",
      "Epoch 8/30\n",
      "11850/11850 [==============================] - 0s 41us/step - loss: 0.0537\n",
      "Epoch 9/30\n",
      "11850/11850 [==============================] - 0s 41us/step - loss: 0.0500\n",
      "Epoch 10/30\n",
      "11850/11850 [==============================] - 0s 42us/step - loss: 0.0466\n",
      "Epoch 11/30\n",
      "11850/11850 [==============================] - 0s 42us/step - loss: 0.0429\n",
      "Epoch 12/30\n",
      "11850/11850 [==============================] - 0s 40us/step - loss: 0.0390\n",
      "Epoch 13/30\n",
      "11850/11850 [==============================] - 0s 40us/step - loss: 0.0354\n",
      "Epoch 14/30\n",
      "11850/11850 [==============================] - 0s 41us/step - loss: 0.0321\n",
      "Epoch 15/30\n",
      "11850/11850 [==============================] - 0s 41us/step - loss: 0.0292\n",
      "Epoch 16/30\n",
      "11850/11850 [==============================] - 0s 40us/step - loss: 0.0267\n",
      "Epoch 17/30\n",
      "11850/11850 [==============================] - 0s 40us/step - loss: 0.0246\n",
      "Epoch 18/30\n",
      "11850/11850 [==============================] - 0s 41us/step - loss: 0.0226\n",
      "Epoch 19/30\n",
      "11850/11850 [==============================] - 0s 40us/step - loss: 0.0209\n",
      "Epoch 20/30\n",
      "11850/11850 [==============================] - 0s 40us/step - loss: 0.0194\n",
      "Epoch 21/30\n",
      "11850/11850 [==============================] - 0s 41us/step - loss: 0.0182\n",
      "Epoch 22/30\n",
      "11850/11850 [==============================] - 0s 40us/step - loss: 0.0170\n",
      "Epoch 23/30\n",
      "11850/11850 [==============================] - 0s 41us/step - loss: 0.0160\n",
      "Epoch 24/30\n",
      "11850/11850 [==============================] - 0s 41us/step - loss: 0.0151\n",
      "Epoch 25/30\n",
      "11850/11850 [==============================] - 0s 41us/step - loss: 0.0143\n",
      "Epoch 26/30\n",
      "11850/11850 [==============================] - 0s 41us/step - loss: 0.0135\n",
      "Epoch 27/30\n",
      "11850/11850 [==============================] - 0s 40us/step - loss: 0.0129\n",
      "Epoch 28/30\n",
      "11850/11850 [==============================] - 0s 41us/step - loss: 0.0122\n",
      "Epoch 29/30\n",
      "11850/11850 [==============================] - 0s 41us/step - loss: 0.0117\n",
      "Epoch 30/30\n",
      "11850/11850 [==============================] - 0s 41us/step - loss: 0.0112\n"
     ]
    },
    {
     "data": {
      "text/plain": [
       "<keras.callbacks.callbacks.History at 0x7f5e784c4cd0>"
      ]
     },
     "execution_count": 30,
     "metadata": {},
     "output_type": "execute_result"
    }
   ],
   "source": [
    "# start train\n",
    "ae.fit(new_x, new_x,\n",
    "       batch_size=batch_size,\n",
    "       epochs=epoch,\n",
    "       verbose=1)"
   ]
  },
  {
   "cell_type": "markdown",
   "metadata": {},
   "source": [
    "- エンコーダだけのモデルを定義する．"
   ]
  },
  {
   "cell_type": "code",
   "execution_count": 31,
   "metadata": {},
   "outputs": [],
   "source": [
    "encoder = models.Model(input_tensor, latent_vector)"
   ]
  },
  {
   "cell_type": "markdown",
   "metadata": {},
   "source": [
    "- デコーダだけのモデルを定義する．"
   ]
  },
  {
   "cell_type": "code",
   "execution_count": 32,
   "metadata": {},
   "outputs": [],
   "source": [
    "decoder_input = Input((13, 13, 64))\n",
    "decode = decode_layer_1(decoder_input)\n",
    "decode = decode_layer_2(decode)\n",
    "\n",
    "decoder = models.Model(decoder_input, output_tensor(decode))"
   ]
  },
  {
   "cell_type": "markdown",
   "metadata": {},
   "source": [
    "- `encoder`を使って元のウエハ画像をエンコードする．"
   ]
  },
  {
   "cell_type": "code",
   "execution_count": 33,
   "metadata": {},
   "outputs": [],
   "source": [
    "# Encode original faulty wafer\n",
    "encoded_x = encoder.predict(new_x)"
   ]
  },
  {
   "cell_type": "markdown",
   "metadata": {},
   "source": [
    "- エンコードされた潜伏的な不良ウエハにノイズを負荷する．"
   ]
  },
  {
   "cell_type": "code",
   "execution_count": 34,
   "metadata": {},
   "outputs": [],
   "source": [
    "# Add noise to encoded latent faulty wafers vector.\n",
    "noised_encoded_x = encoded_x + np.random.normal(loc=0, scale=0.1, size = (len(encoded_x), 13, 13, 64))"
   ]
  },
  {
   "cell_type": "markdown",
   "metadata": {},
   "source": [
    "- 元のウエハ画像"
   ]
  },
  {
   "cell_type": "code",
   "execution_count": 35,
   "metadata": {
    "scrolled": true
   },
   "outputs": [
    {
     "data": {
      "text/plain": [
       "<matplotlib.image.AxesImage at 0x7f5e680e9850>"
      ]
     },
     "execution_count": 35,
     "metadata": {},
     "output_type": "execute_result"
    },
    {
     "data": {
      "image/png": "[encoded data removed]",
      "text/plain": [
       "<Figure size 432x288 with 1 Axes>"
      ]
     },
     "metadata": {
      "needs_background": "light"
     },
     "output_type": "display_data"
    }
   ],
   "source": [
    "# check original faulty wafer data\n",
    "plt.imshow(np.argmax(new_x[3], axis=2))"
   ]
  },
  {
   "cell_type": "markdown",
   "metadata": {},
   "source": [
    "- マスクの定義"
   ]
  },
  {
   "cell_type": "code",
   "execution_count": 36,
   "metadata": {
    "scrolled": false
   },
   "outputs": [],
   "source": [
    "# 0がウエハ領域，1が範囲外\n",
    "mask = new_x[0, :, :, 0].copy()\n",
    "#out_region = np.where(mask == 1.0)\n",
    "#in_region = np.where(mask == 0.0)\n",
    "#mask[out_region] = 0.0\n",
    "#mask[in_region] = 1.0\n",
    "#print(mask)"
   ]
  },
  {
   "cell_type": "markdown",
   "metadata": {},
   "source": [
    "- 回転の実験\n",
    "\n",
    "90度ごとなら自作OpenCV関数が有用"
   ]
  },
  {
   "cell_type": "markdown",
   "metadata": {},
   "source": [
    "- 90度以外の回転"
   ]
  },
  {
   "cell_type": "code",
   "execution_count": 37,
   "metadata": {},
   "outputs": [],
   "source": [
    "from PIL import Image, ImageOps\n",
    "def rotation_pil_mask(img, degree):\n",
    "    src = Image.fromarray(np.uint8(img))\n",
    "    img_rotate = np.array(src.rotate(degree))\n",
    "    \n",
    "    #before\n",
    "    '''\n",
    "    plt.imshow(np.argmax(img_rotate, axis=2))\n",
    "    plt.title(\"rotate \" + str(degree) + \" degree before\")\n",
    "    plt.show()\n",
    "    '''\n",
    "    \n",
    "    #マスクの適用, \n",
    "    out_region = np.where((np.argmax(img_rotate, axis=2) != 0) & (mask > 0.0))\n",
    "    img_rotate[out_region[0], out_region[1]] = np.array([1., 0., 0.])\n",
    "    in_region = np.where((np.argmax(img_rotate, axis=2) == 0) & (mask == 0.0))\n",
    "    img_rotate[in_region[0], in_region[1]] = np.array([0., 1., 0.])\n",
    "\n",
    "    #after\n",
    "    '''plt.imshow(np.argmax(img_rotate, axis=2))\n",
    "    plt.title(\"rotate \" + str(degree) + \" degree after\")\n",
    "    plt.show()'''\n",
    "\n",
    "    return img_rotate\n",
    "\n",
    "# 上下方向の鏡映\n",
    "def flip_pil_mask(img):\n",
    "    src = Image.fromarray(np.uint8(img))\n",
    "    img_flip = np.array(ImageOps.flip(src))\n",
    "    \n",
    "    #マスクの適用, \n",
    "    out_region = np.where((np.argmax(img_flip, axis=2) != 0) & (mask > 0.0))\n",
    "    img_flip[out_region[0], out_region[1]] = np.array([1., 0., 0.])\n",
    "    in_region = np.where((np.argmax(img_flip, axis=2) == 0) & (mask == 0.0))\n",
    "    img_flip[in_region[0], in_region[1]] = np.array([0., 1., 0.])\n",
    "    \n",
    "    return img_flip\n",
    "\n",
    "# 左右方向の鏡映\n",
    "def mirror_pil_mask(img):\n",
    "    src = Image.fromarray(np.uint8(img))\n",
    "    img_mirror = np.array(ImageOps.mirror(src))\n",
    "    \n",
    "    #マスクの適用, \n",
    "    out_region = np.where((np.argmax(img_mirror, axis=2) != 0) & (mask > 0.0))\n",
    "    img_mirror[out_region[0], out_region[1]] = np.array([1., 0., 0.])\n",
    "    in_region = np.where((np.argmax(img_mirror, axis=2) == 0) & (mask == 0.0))\n",
    "    img_mirror[in_region[0], in_region[1]] = np.array([0., 1., 0.])\n",
    "    \n",
    "    return img_mirror"
   ]
  },
  {
   "cell_type": "code",
   "execution_count": 38,
   "metadata": {
    "scrolled": false
   },
   "outputs": [
    {
     "data": {
      "text/plain": [
       "'\\nwafer = new_x[np.where(y==\"Edge-Loc\")[0]].reshape(len(np.where(y==\"Edge-Loc\")[0]), 26, 26, 3)\\n#plt.imshow(np.argmax(wafer[0], axis=2))\\n#plt.show()\\n\\nprint(wafer[0].shape)\\n\\nfor i in range(19):\\n    rotation_pil_mask(wafer[0], i*20)\\n'"
      ]
     },
     "execution_count": 38,
     "metadata": {},
     "output_type": "execute_result"
    }
   ],
   "source": [
    "'''\n",
    "wafer = new_x[np.where(y==\"Edge-Loc\")[0]].reshape(len(np.where(y==\"Edge-Loc\")[0]), 26, 26, 3)\n",
    "#plt.imshow(np.argmax(wafer[0], axis=2))\n",
    "#plt.show()\n",
    "\n",
    "print(wafer[0].shape)\n",
    "\n",
    "for i in range(19):\n",
    "    rotation_pil_mask(wafer[0], i*20)\n",
    "'''"
   ]
  },
  {
   "cell_type": "code",
   "execution_count": null,
   "metadata": {},
   "outputs": [],
   "source": []
  },
  {
   "cell_type": "markdown",
   "metadata": {},
   "source": [
    "- ノイズが付加されたウエハ画像"
   ]
  },
  {
   "cell_type": "code",
   "execution_count": 39,
   "metadata": {},
   "outputs": [
    {
     "data": {
      "text/plain": [
       "<matplotlib.image.AxesImage at 0x7f5d5b3c1dd0>"
      ]
     },
     "execution_count": 39,
     "metadata": {},
     "output_type": "execute_result"
    },
    {
     "data": {
      "image/png": "[encoded data removed]",
      "text/plain": [
       "<Figure size 432x288 with 1 Axes>"
      ]
     },
     "metadata": {
      "needs_background": "light"
     },
     "output_type": "display_data"
    }
   ],
   "source": [
    "# check new noised faulty wafer data\n",
    "noised_gen_x = np.argmax(decoder.predict(noised_encoded_x), axis=3)\n",
    "plt.imshow(noised_gen_x[3])"
   ]
  },
  {
   "cell_type": "markdown",
   "metadata": {},
   "source": [
    "### データオーギュメンテーション"
   ]
  },
  {
   "cell_type": "markdown",
   "metadata": {},
   "source": [
    "- データオーギュメンテーションを行う関数を定義する．\n",
    "- 鏡映，回転を行う"
   ]
  },
  {
   "cell_type": "code",
   "execution_count": 40,
   "metadata": {},
   "outputs": [],
   "source": [
    "# augment function define (add rotate, flip)\n",
    "def gen_data(wafer, label):\n",
    "    # Encode input wafer\n",
    "    #encoded_x = encoder.predict(wafer)\n",
    "    \n",
    "    # dummy array for collecting noised wafer\n",
    "    gen_x = np.zeros((1, 26, 26, 3))\n",
    "    aug_x = np.zeros((1, 26, 26, 3))\n",
    "    \n",
    "    #datagen = ImageDataGenerator(rotation_range = 90, horizontal_flip = True, vertical_flip = True, fill_mode = 'constant', cval = 0)\n",
    "    #datagen = ImageDataGenerator(rotation_range = 0)\n",
    "    ite = 5 if label != 'none' else 1\n",
    "    for i in range(len(wafer)):\n",
    "        for j in range(ite):\n",
    "#             rotatedata = wafer[i]\n",
    "            angle = int(180 / ite)\n",
    "            if label != 'none':\n",
    "                rotatedata = rotation_pil_mask(wafer[i], j * angle)\n",
    "            else:\n",
    "                rotatedata = rotation_pil_mask(wafer[i], j * angle)\n",
    "            flipdata = flip_pil_mask(rotatedata)\n",
    "            flipmirrordata = mirror_pil_mask(flipdata)\n",
    "            mirrordata = mirror_pil_mask(rotatedata)\n",
    "            rotatedata = rotatedata.reshape(1, 26, 26, 3)\n",
    "            flipdata = flipdata.reshape(1, 26, 26, 3)\n",
    "            flipmirrordata = flipmirrordata.reshape(1, 26, 26, 3)\n",
    "            mirrordata = mirrordata.reshape(1, 26, 26, 3)\n",
    "            aug_x = np.concatenate((aug_x, rotatedata, flipdata, flipmirrordata, mirrordata), axis = 0)\n",
    "#             aug_x = np.concatenate((aug_x, rotatedata), axis = 0)\n",
    "            '''\n",
    "            for j, img in enumerate(data):\n",
    "                plot_num = j+1\n",
    "                plt.subplot(4, 5, plot_num)\n",
    "                plt.tick_params(labelbottom=False)\n",
    "                plt.tick_params(labelleft=False)\n",
    "                plt.imshow(img)\n",
    "            plt.show()\n",
    "            '''\n",
    "    aug_x = aug_x[1:]\n",
    "    encoded_x = encoder.predict(aug_x)\n",
    "    print(encoded_x.shape)\n",
    "        \n",
    "    \n",
    "    # Make wafer until total # of wafer to 15000\n",
    "    if label != 'none':\n",
    "        for i in range((13000//len(encoded_x)) + 1):\n",
    "            noised_encoded_x = encoded_x + np.random.normal(loc=0, scale=0.1, size = (len(encoded_x), 13, 13, 64)) \n",
    "#             noised_encoded_x = encoded_x\n",
    "            noised_gen_x = decoder.predict(noised_encoded_x)\n",
    "            gen_x = np.concatenate((gen_x, noised_gen_x), axis=0)\n",
    "    else:\n",
    "        gen_x = aug_x\n",
    "        \n",
    "    # also make label vector with same length\n",
    "    gen_y = np.full((len(gen_x), 1), label)\n",
    "    \n",
    "    # return date without 1st dummy data.\n",
    "    return gen_x[1:], gen_y[1:]"
   ]
  },
  {
   "cell_type": "markdown",
   "metadata": {},
   "source": [
    "- データオーギュメンテーション（ノイズ付加）したものが適切か調べる\n",
    "\n",
    "一番左が元画像\n",
    "右がデータオーギュメンテーション後"
   ]
  },
  {
   "cell_type": "code",
   "execution_count": 41,
   "metadata": {},
   "outputs": [],
   "source": [
    "# backup\n",
    "bu_new_x = new_x.copy()\n",
    "bu_y = y.copy()"
   ]
  },
  {
   "cell_type": "code",
   "execution_count": 42,
   "metadata": {},
   "outputs": [],
   "source": [
    "# new_x = bu_new_x.copy()\n",
    "# y = bu_y.copy()\n",
    "# gen_x = []"
   ]
  },
  {
   "cell_type": "markdown",
   "metadata": {},
   "source": [
    "- 不良ラベルが付いているデータに対してデータオーギュメンテーションを行う．"
   ]
  },
  {
   "cell_type": "code",
   "execution_count": 43,
   "metadata": {},
   "outputs": [
    {
     "name": "stdout",
     "output_type": "stream",
     "text": [
      "(1480, 13, 13, 64)\n",
      "(20, 13, 13, 64)\n",
      "(4720, 13, 13, 64)\n",
      "(400, 13, 13, 64)\n",
      "(4880, 13, 13, 64)\n",
      "(280, 13, 13, 64)\n",
      "(1220, 13, 13, 64)\n",
      "(1140, 13, 13, 64)\n"
     ]
    }
   ],
   "source": [
    "# Augmentation for all faulty case.\n",
    "for f in faulty_case : \n",
    "    # skip none case\n",
    "    if f == 'none' : \n",
    "        continue\n",
    "    \n",
    "    gen_x, gen_y = gen_data(new_x[np.where(y==f)[0]], f)\n",
    "    new_x = np.concatenate((new_x, gen_x), axis=0)\n",
    "    y = np.concatenate((y, gen_y))"
   ]
  },
  {
   "cell_type": "code",
   "execution_count": 44,
   "metadata": {},
   "outputs": [
    {
     "name": "stdout",
     "output_type": "stream",
     "text": [
      "After Generate new_x shape : (120450, 26, 26, 3), new_y shape : (120450, 1)\n"
     ]
    }
   ],
   "source": [
    "print('After Generate new_x shape : {}, new_y shape : {}'.format(new_x.shape, y.shape))"
   ]
  },
  {
   "cell_type": "code",
   "execution_count": 45,
   "metadata": {},
   "outputs": [
    {
     "name": "stdout",
     "output_type": "stream",
     "text": [
      "Center : 13394\n",
      "Donut : 13021\n",
      "Edge-Loc : 14396\n",
      "Edge-Ring : 13220\n",
      "Loc : 14884\n",
      "Near-full : 13174\n",
      "Random : 13481\n",
      "Scratch : 13737\n",
      "none : 11143\n"
     ]
    }
   ],
   "source": [
    "for f in faulty_case :\n",
    "    print('{} : {}'.format(f, len(y[y==f])))\n",
    "new_y = y"
   ]
  },
  {
   "cell_type": "markdown",
   "metadata": {},
   "source": [
    "- ノイズ付加後におかしなデータがあるかチェック\n",
    "- 元データとずれがあるもの：1689枚"
   ]
  },
  {
   "cell_type": "markdown",
   "metadata": {},
   "source": [
    "### ノイズ付加後もマスクで直す"
   ]
  },
  {
   "cell_type": "code",
   "execution_count": 46,
   "metadata": {},
   "outputs": [],
   "source": [
    "backup_new_x = new_x.copy()\n",
    "backup_new_y = new_y.copy()"
   ]
  },
  {
   "cell_type": "code",
   "execution_count": 47,
   "metadata": {
    "scrolled": false
   },
   "outputs": [
    {
     "name": "stdout",
     "output_type": "stream",
     "text": [
      "88495\n",
      "0\n"
     ]
    },
    {
     "data": {
      "text/plain": [
       "'plt.imshow(np.argmax(new_x[14397], axis=2))\\nplt.show()\\nplt.imshow(np.argmax(new_x[0], axis=2))\\nplt.show()'"
      ]
     },
     "execution_count": 47,
     "metadata": {},
     "output_type": "execute_result"
    }
   ],
   "source": [
    "count = 0\n",
    "for i in range(len(new_x)):\n",
    "    error = np.where((np.argmax(new_x[0], axis=2) != np.argmax(new_x[i], axis=2)) & (np.argmax(new_x[0], axis=2) == 0))\n",
    "    if len(error[0]) > 0:\n",
    "        #print(str(i) + \"error\")\n",
    "        #print(error)\n",
    "        count += 1\n",
    "print(count)\n",
    "\n",
    "for i in range(len(new_x)):\n",
    "    #マスクの適用, \n",
    "    out_region = np.where((np.argmax(new_x[i], axis=2) != 0) & (mask > 0.0))\n",
    "    new_x[i, out_region[0], out_region[1]] = np.array([1., 0., 0.])\n",
    "    in_region = np.where((np.argmax(new_x[i], axis=2) == 0) & (mask == 0.0))\n",
    "    new_x[i, in_region[0], in_region[1]] = np.array([0., 1., 0.])\n",
    "    \n",
    "count = 0\n",
    "for i in range(len(new_x)):\n",
    "    error = np.where((np.argmax(new_x[0], axis=2) != np.argmax(new_x[i], axis=2)) & (np.argmax(new_x[0], axis=2) == 0))\n",
    "    if len(error[0]) > 0:\n",
    "        #print(str(i) + \"error\")\n",
    "        #print(error)\n",
    "        count += 1\n",
    "print(count)\n",
    "\n",
    "\n",
    "'''plt.imshow(np.argmax(new_x[14397], axis=2))\n",
    "plt.show()\n",
    "plt.imshow(np.argmax(new_x[0], axis=2))\n",
    "plt.show()'''"
   ]
  },
  {
   "cell_type": "markdown",
   "metadata": {},
   "source": [
    "- データオーギュメンテーションを行った結果，各不良データごとに約40000枚に増えた．\n",
    "- 合計は368112枚となった．"
   ]
  },
  {
   "cell_type": "code",
   "execution_count": 48,
   "metadata": {
    "scrolled": false
   },
   "outputs": [],
   "source": [
    "# x = [0,1,2,3,4,5,6,7,8]\n",
    "# labels2 = ['Center','Donut','Edge-Loc','Edge-Ring','Loc','Random','Scratch','Near-full','none']\n",
    "\n",
    "# for k in x:\n",
    "#     fig, ax = plt.subplots(nrows = 1, ncols = 10, figsize=(20, 20))\n",
    "#     ax = ax.ravel(order='C')\n",
    "#     for j in [k]:\n",
    "#         index = np.where(new_y==labels2[j])[0]\n",
    "#         img = new_x[index]\n",
    "#         #img = new_x[0:10]\n",
    "#         for i in range(10):\n",
    "#             ax[i].imshow(np.argmax(img[i+0], axis=2))\n",
    "#             ax[i].set_title(new_y[index[i+0]], fontsize=15)\n",
    "#             #ax[i].set_xlabel(df_withpattern.index[img.index[i]], fontsize=10)\n",
    "#             ax[i].set_xticks([])\n",
    "#             ax[i].set_yticks([])\n",
    "#     plt.tight_layout()\n",
    "#     plt.show() "
   ]
  },
  {
   "cell_type": "markdown",
   "metadata": {},
   "source": [
    "### 学習を行う\n",
    "- 不良ラベルを0-8の9次元のベクトルとして表現する．\n",
    "- one-hotエンコーディングを行っている．"
   ]
  },
  {
   "cell_type": "code",
   "execution_count": 49,
   "metadata": {},
   "outputs": [],
   "source": [
    "for i, l in enumerate(faulty_case):\n",
    "    new_y[new_y==l] = i\n",
    "    tempy[tempy==l] = i"
   ]
  },
  {
   "cell_type": "code",
   "execution_count": 50,
   "metadata": {},
   "outputs": [],
   "source": [
    "# one-hot-encoding\n",
    "new_y = to_categorical(new_y)\n",
    "tempy = to_categorical(tempy)"
   ]
  },
  {
   "cell_type": "code",
   "execution_count": 51,
   "metadata": {},
   "outputs": [],
   "source": [
    "new_X=new_x\n",
    "new_Y=new_y"
   ]
  },
  {
   "cell_type": "markdown",
   "metadata": {},
   "source": [
    "- 学習データとテストデータに分割する．"
   ]
  },
  {
   "cell_type": "code",
   "execution_count": 52,
   "metadata": {},
   "outputs": [],
   "source": [
    "x_train, x_test, y_train, y_test = train_test_split(new_X, new_Y,\n",
    "                                                    test_size=0.33,\n",
    "                                                    random_state=2019)\n",
    "# x_train = new_X\n",
    "# x_test = tempx\n",
    "# y_train = new_Y\n",
    "# y_test = tempy"
   ]
  },
  {
   "cell_type": "code",
   "execution_count": 53,
   "metadata": {},
   "outputs": [
    {
     "name": "stdout",
     "output_type": "stream",
     "text": [
      "Train x : (80701, 26, 26, 3), y : (80701, 9)\n",
      "Test x: (39749, 26, 26, 3), y : (39749, 9)\n"
     ]
    }
   ],
   "source": [
    "print('Train x : {}, y : {}'.format(x_train.shape, y_train.shape))\n",
    "print('Test x: {}, y : {}'.format(x_test.shape, y_test.shape))"
   ]
  },
  {
   "cell_type": "markdown",
   "metadata": {},
   "source": [
    "- 学習データ246635枚，テストデータ121477枚．"
   ]
  },
  {
   "cell_type": "markdown",
   "metadata": {},
   "source": [
    "- モデルの定義を行う．"
   ]
  },
  {
   "cell_type": "markdown",
   "metadata": {},
   "source": [
    "### CNN"
   ]
  },
  {
   "cell_type": "code",
   "execution_count": 54,
   "metadata": {},
   "outputs": [],
   "source": [
    "input_shape = (26, 26, 3)\n",
    "input_tensor = Input(input_shape)\n",
    "def create_model():\n",
    "\n",
    "\n",
    "    conv_1 = layers.Conv2D(16, (3,3), activation='relu', padding='same')(input_tensor)\n",
    "    conv_2 = layers.Conv2D(64, (3,3), activation='relu', padding='same')(conv_1)\n",
    "    conv_3 = layers.Conv2D(128, (3,3), activation='relu', padding='same')(conv_2)\n",
    "\n",
    "    flat = layers.Flatten()(conv_3)\n",
    "\n",
    "    dense_1 = layers.Dense(512, activation='relu')(flat)\n",
    "    dense_2 = layers.Dense(128, activation='relu')(dense_1)\n",
    "    output_tensor = layers.Dense(9, activation='softmax')(dense_2)\n",
    "\n",
    "    model = models.Model(input_tensor, output_tensor)\n",
    "    model.compile(optimizer='Adam',\n",
    "                 loss='categorical_crossentropy',\n",
    "                 metrics=['accuracy'])\n",
    "\n",
    "    return model"
   ]
  },
  {
   "cell_type": "markdown",
   "metadata": {},
   "source": [
    "- 3-Fold Cross validationで分割して学習する．"
   ]
  },
  {
   "cell_type": "code",
   "execution_count": 55,
   "metadata": {
    "scrolled": true
   },
   "outputs": [
    {
     "name": "stdout",
     "output_type": "stream",
     "text": [
      "Epoch 1/30\n",
      "53800/53800 [==============================] - 6s 118us/step - loss: 1.0865 - accuracy: 0.6130\n",
      "Epoch 2/30\n",
      "53800/53800 [==============================] - 6s 103us/step - loss: 0.3483 - accuracy: 0.8740\n",
      "Epoch 3/30\n",
      "53800/53800 [==============================] - 6s 103us/step - loss: 0.2093 - accuracy: 0.9272\n",
      "Epoch 4/30\n",
      "53800/53800 [==============================] - 6s 104us/step - loss: 0.1356 - accuracy: 0.9549\n",
      "Epoch 5/30\n",
      "53800/53800 [==============================] - 6s 104us/step - loss: 0.0913 - accuracy: 0.9703\n",
      "Epoch 6/30\n",
      "53800/53800 [==============================] - 6s 103us/step - loss: 0.0581 - accuracy: 0.9817\n",
      "Epoch 7/30\n",
      "53800/53800 [==============================] - 6s 103us/step - loss: 0.0325 - accuracy: 0.9912\n",
      "Epoch 8/30\n",
      "53800/53800 [==============================] - 6s 103us/step - loss: 0.5271 - accuracy: 0.8579\n",
      "Epoch 9/30\n",
      "53800/53800 [==============================] - 6s 103us/step - loss: 0.1285 - accuracy: 0.9569\n",
      "Epoch 10/30\n",
      "53800/53800 [==============================] - 6s 104us/step - loss: 0.0552 - accuracy: 0.9837\n",
      "Epoch 11/30\n",
      "53800/53800 [==============================] - 6s 103us/step - loss: 0.0307 - accuracy: 0.9918\n",
      "Epoch 12/30\n",
      "53800/53800 [==============================] - 6s 103us/step - loss: 0.0199 - accuracy: 0.9951\n",
      "Epoch 13/30\n",
      "53800/53800 [==============================] - 6s 103us/step - loss: 0.0141 - accuracy: 0.9972\n",
      "Epoch 14/30\n",
      "53800/53800 [==============================] - 6s 103us/step - loss: 0.0105 - accuracy: 0.9976\n",
      "Epoch 15/30\n",
      "53800/53800 [==============================] - 6s 104us/step - loss: 0.0089 - accuracy: 0.9979\n",
      "Epoch 16/30\n",
      "53800/53800 [==============================] - 6s 104us/step - loss: 0.0088 - accuracy: 0.9978\n",
      "Epoch 17/30\n",
      "53800/53800 [==============================] - 6s 104us/step - loss: 0.0078 - accuracy: 0.9978\n",
      "Epoch 18/30\n",
      "53800/53800 [==============================] - 6s 104us/step - loss: 0.0069 - accuracy: 0.9983\n",
      "Epoch 19/30\n",
      "53800/53800 [==============================] - 6s 104us/step - loss: 0.0068 - accuracy: 0.9983\n",
      "Epoch 20/30\n",
      "53800/53800 [==============================] - 6s 104us/step - loss: 0.0067 - accuracy: 0.9981\n",
      "Epoch 21/30\n",
      "53800/53800 [==============================] - 6s 104us/step - loss: 0.0062 - accuracy: 0.9983\n",
      "Epoch 22/30\n",
      "53800/53800 [==============================] - 6s 104us/step - loss: 0.0057 - accuracy: 0.9983\n",
      "Epoch 23/30\n",
      "53800/53800 [==============================] - 6s 104us/step - loss: 0.0063 - accuracy: 0.9981\n",
      "Epoch 24/30\n",
      "53800/53800 [==============================] - 6s 104us/step - loss: 0.0061 - accuracy: 0.9984\n",
      "Epoch 25/30\n",
      "53800/53800 [==============================] - 6s 104us/step - loss: 0.0048 - accuracy: 0.9986\n",
      "Epoch 26/30\n",
      "53800/53800 [==============================] - 6s 104us/step - loss: 0.0050 - accuracy: 0.9984\n",
      "Epoch 27/30\n",
      "53800/53800 [==============================] - 6s 104us/step - loss: 0.0048 - accuracy: 0.9986\n",
      "Epoch 28/30\n",
      "53800/53800 [==============================] - 6s 104us/step - loss: 0.0047 - accuracy: 0.9985\n",
      "Epoch 29/30\n",
      "53800/53800 [==============================] - 6s 104us/step - loss: 0.0050 - accuracy: 0.9985\n",
      "Epoch 30/30\n",
      "53800/53800 [==============================] - 6s 104us/step - loss: 0.0038 - accuracy: 0.9990\n",
      "26901/26901 [==============================] - 1s 43us/step\n",
      "Epoch 1/30\n",
      "53801/53801 [==============================] - 6s 111us/step - loss: 1.0295 - accuracy: 0.6503\n",
      "Epoch 2/30\n",
      "53801/53801 [==============================] - 6s 105us/step - loss: 0.3207 - accuracy: 0.8835\n",
      "Epoch 3/30\n",
      "53801/53801 [==============================] - 6s 105us/step - loss: 0.1953 - accuracy: 0.9333\n",
      "Epoch 4/30\n",
      "53801/53801 [==============================] - 6s 105us/step - loss: 0.1441 - accuracy: 0.9508\n",
      "Epoch 5/30\n",
      "53801/53801 [==============================] - 6s 105us/step - loss: 0.2432 - accuracy: 0.9292\n",
      "Epoch 6/30\n",
      "53801/53801 [==============================] - 6s 105us/step - loss: 0.0796 - accuracy: 0.9752\n",
      "Epoch 7/30\n",
      "53801/53801 [==============================] - 6s 106us/step - loss: 0.0492 - accuracy: 0.9856\n",
      "Epoch 8/30\n",
      "53801/53801 [==============================] - 6s 105us/step - loss: 0.0345 - accuracy: 0.9906\n",
      "Epoch 9/30\n",
      "53801/53801 [==============================] - 6s 105us/step - loss: 0.0210 - accuracy: 0.9952\n",
      "Epoch 10/30\n",
      "53801/53801 [==============================] - 6s 106us/step - loss: 0.0158 - accuracy: 0.9966\n",
      "Epoch 11/30\n",
      "53801/53801 [==============================] - 6s 106us/step - loss: 0.0122 - accuracy: 0.9976\n",
      "Epoch 12/30\n",
      "53801/53801 [==============================] - 6s 105us/step - loss: 0.0096 - accuracy: 0.9978\n",
      "Epoch 13/30\n",
      "53801/53801 [==============================] - 6s 106us/step - loss: 0.0104 - accuracy: 0.9977\n",
      "Epoch 14/30\n",
      "53801/53801 [==============================] - 6s 106us/step - loss: 0.0084 - accuracy: 0.9980\n",
      "Epoch 15/30\n",
      "53801/53801 [==============================] - 6s 106us/step - loss: 0.0085 - accuracy: 0.9983\n",
      "Epoch 16/30\n",
      "53801/53801 [==============================] - 6s 106us/step - loss: 0.0075 - accuracy: 0.9980\n",
      "Epoch 17/30\n",
      "53801/53801 [==============================] - 6s 106us/step - loss: 0.0062 - accuracy: 0.9984\n",
      "Epoch 18/30\n",
      "53801/53801 [==============================] - 6s 106us/step - loss: 0.0063 - accuracy: 0.9984\n",
      "Epoch 19/30\n",
      "53801/53801 [==============================] - 6s 107us/step - loss: 0.0059 - accuracy: 0.9984\n",
      "Epoch 20/30\n",
      "53801/53801 [==============================] - 6s 106us/step - loss: 0.0059 - accuracy: 0.9985\n",
      "Epoch 21/30\n",
      "53801/53801 [==============================] - 6s 105us/step - loss: 0.0043 - accuracy: 0.9988\n",
      "Epoch 22/30\n",
      "53801/53801 [==============================] - 6s 106us/step - loss: 0.0059 - accuracy: 0.9983\n",
      "Epoch 23/30\n",
      "53801/53801 [==============================] - 6s 106us/step - loss: 0.0040 - accuracy: 0.9988\n",
      "Epoch 24/30\n",
      "53801/53801 [==============================] - 6s 106us/step - loss: 0.0041 - accuracy: 0.9988\n",
      "Epoch 25/30\n",
      "53801/53801 [==============================] - 6s 106us/step - loss: 0.0035 - accuracy: 0.9989\n",
      "Epoch 26/30\n",
      "53801/53801 [==============================] - 6s 106us/step - loss: 0.0040 - accuracy: 0.9989\n",
      "Epoch 27/30\n",
      "53801/53801 [==============================] - 6s 106us/step - loss: 0.0037 - accuracy: 0.9991\n",
      "Epoch 28/30\n",
      "53801/53801 [==============================] - 6s 106us/step - loss: 0.0035 - accuracy: 0.9989\n",
      "Epoch 29/30\n",
      "53801/53801 [==============================] - 6s 106us/step - loss: 0.0049 - accuracy: 0.9986\n",
      "Epoch 30/30\n",
      "53801/53801 [==============================] - 6s 106us/step - loss: 0.0042 - accuracy: 0.9990\n",
      "26900/26900 [==============================] - 1s 44us/step\n",
      "Epoch 1/30\n",
      "53801/53801 [==============================] - 6s 109us/step - loss: 0.9943 - accuracy: 0.6684\n",
      "Epoch 2/30\n",
      "53801/53801 [==============================] - 6s 106us/step - loss: 0.2941 - accuracy: 0.8919\n",
      "Epoch 3/30\n",
      "53801/53801 [==============================] - 6s 106us/step - loss: 0.2130 - accuracy: 0.9243\n",
      "Epoch 4/30\n",
      "53801/53801 [==============================] - 6s 106us/step - loss: 0.1269 - accuracy: 0.9579\n",
      "Epoch 5/30\n",
      "53801/53801 [==============================] - 6s 106us/step - loss: 0.0812 - accuracy: 0.9739\n",
      "Epoch 6/30\n",
      "53801/53801 [==============================] - 6s 106us/step - loss: 0.0578 - accuracy: 0.9822\n",
      "Epoch 7/30\n",
      "53801/53801 [==============================] - 6s 107us/step - loss: 0.0342 - accuracy: 0.9907\n",
      "Epoch 8/30\n",
      "53801/53801 [==============================] - 6s 107us/step - loss: 0.0214 - accuracy: 0.9946\n",
      "Epoch 9/30\n",
      "53801/53801 [==============================] - 6s 106us/step - loss: 0.0175 - accuracy: 0.9962\n",
      "Epoch 10/30\n",
      "53801/53801 [==============================] - 6s 106us/step - loss: 0.0127 - accuracy: 0.9973\n",
      "Epoch 11/30\n",
      "53801/53801 [==============================] - 6s 107us/step - loss: 0.0109 - accuracy: 0.9976\n",
      "Epoch 12/30\n",
      "53801/53801 [==============================] - 6s 107us/step - loss: 0.0113 - accuracy: 0.9974\n",
      "Epoch 13/30\n",
      "53801/53801 [==============================] - 6s 106us/step - loss: 0.8153 - accuracy: 0.8396\n",
      "Epoch 14/30\n",
      "53801/53801 [==============================] - 6s 106us/step - loss: 0.2956 - accuracy: 0.8925\n",
      "Epoch 15/30\n",
      "53801/53801 [==============================] - 6s 106us/step - loss: 0.1327 - accuracy: 0.9561\n",
      "Epoch 16/30\n"
     ]
    },
    {
     "name": "stdout",
     "output_type": "stream",
     "text": [
      "53801/53801 [==============================] - 6s 106us/step - loss: 0.0753 - accuracy: 0.9765\n",
      "Epoch 17/30\n",
      "53801/53801 [==============================] - 6s 106us/step - loss: 0.0378 - accuracy: 0.9904\n",
      "Epoch 18/30\n",
      "53801/53801 [==============================] - 6s 106us/step - loss: 0.0245 - accuracy: 0.9943\n",
      "Epoch 19/30\n",
      "53801/53801 [==============================] - 6s 106us/step - loss: 0.0164 - accuracy: 0.9969\n",
      "Epoch 20/30\n",
      "53801/53801 [==============================] - 6s 106us/step - loss: 0.0124 - accuracy: 0.9975\n",
      "Epoch 21/30\n",
      "53801/53801 [==============================] - 6s 106us/step - loss: 0.0106 - accuracy: 0.9977\n",
      "Epoch 22/30\n",
      "53801/53801 [==============================] - 6s 108us/step - loss: 0.0100 - accuracy: 0.9979\n",
      "Epoch 23/30\n",
      "53801/53801 [==============================] - 6s 108us/step - loss: 0.0082 - accuracy: 0.9979\n",
      "Epoch 24/30\n",
      "53801/53801 [==============================] - 6s 108us/step - loss: 0.0077 - accuracy: 0.9982\n",
      "Epoch 25/30\n",
      "53801/53801 [==============================] - 6s 108us/step - loss: 0.0078 - accuracy: 0.9982\n",
      "Epoch 26/30\n",
      "53801/53801 [==============================] - 6s 108us/step - loss: 0.0069 - accuracy: 0.9982\n",
      "Epoch 27/30\n",
      "53801/53801 [==============================] - 6s 108us/step - loss: 0.0077 - accuracy: 0.9980\n",
      "Epoch 28/30\n",
      "53801/53801 [==============================] - 6s 109us/step - loss: 0.0063 - accuracy: 0.9983\n",
      "Epoch 29/30\n",
      "53801/53801 [==============================] - 6s 110us/step - loss: 0.0062 - accuracy: 0.9983\n",
      "Epoch 30/30\n",
      "53801/53801 [==============================] - 6s 107us/step - loss: 0.0053 - accuracy: 0.9983\n",
      "26900/26900 [==============================] - 1s 45us/step\n",
      "Simple CNN Cross validation score : 0.9798\n"
     ]
    }
   ],
   "source": [
    "model = KerasClassifier(build_fn=create_model, epochs=30, batch_size=1024, verbose=1) \n",
    "# 3-Fold Crossvalidation\n",
    "kfold = KFold(n_splits=3, shuffle=True, random_state=2019) \n",
    "results = cross_val_score(model, x_train, y_train, cv=kfold)\n",
    "# Check 3-fold model's mean accuracy\n",
    "print('Simple CNN Cross validation score : {:.4f}'.format(np.mean(results)))"
   ]
  },
  {
   "cell_type": "markdown",
   "metadata": {},
   "source": [
    "- Cross validiationによる精度は99.55%であった．"
   ]
  },
  {
   "cell_type": "markdown",
   "metadata": {},
   "source": [
    "- Cross validationなしで学習する．"
   ]
  },
  {
   "cell_type": "code",
   "execution_count": 56,
   "metadata": {
    "scrolled": true
   },
   "outputs": [
    {
     "name": "stdout",
     "output_type": "stream",
     "text": [
      "Train on 80701 samples, validate on 39749 samples\n",
      "Epoch 1/30\n",
      "80701/80701 [==============================] - 11s 136us/step - loss: 0.7779 - accuracy: 0.7338 - val_loss: 0.2927 - val_accuracy: 0.8875\n",
      "Epoch 2/30\n",
      "80701/80701 [==============================] - 11s 131us/step - loss: 0.2429 - accuracy: 0.9148 - val_loss: 0.1554 - val_accuracy: 0.9485\n",
      "Epoch 3/30\n",
      "80701/80701 [==============================] - 10s 129us/step - loss: 0.1115 - accuracy: 0.9627 - val_loss: 0.0987 - val_accuracy: 0.9659\n",
      "Epoch 4/30\n",
      "80701/80701 [==============================] - 10s 129us/step - loss: 0.0604 - accuracy: 0.9808 - val_loss: 0.0589 - val_accuracy: 0.9815\n",
      "Epoch 5/30\n",
      "80701/80701 [==============================] - 10s 130us/step - loss: 0.0298 - accuracy: 0.9922 - val_loss: 0.0523 - val_accuracy: 0.9825\n",
      "Epoch 6/30\n",
      "80701/80701 [==============================] - 10s 130us/step - loss: 0.0214 - accuracy: 0.9944 - val_loss: 0.0411 - val_accuracy: 0.9884\n",
      "Epoch 7/30\n",
      "80701/80701 [==============================] - 10s 128us/step - loss: 0.0132 - accuracy: 0.9971 - val_loss: 0.0492 - val_accuracy: 0.9859\n",
      "Epoch 8/30\n",
      "80701/80701 [==============================] - 10s 130us/step - loss: 0.0114 - accuracy: 0.9975 - val_loss: 0.0365 - val_accuracy: 0.9900\n",
      "Epoch 9/30\n",
      "80701/80701 [==============================] - 10s 130us/step - loss: 0.0098 - accuracy: 0.9977 - val_loss: 0.0353 - val_accuracy: 0.9902\n",
      "Epoch 10/30\n",
      "80701/80701 [==============================] - 10s 129us/step - loss: 0.0093 - accuracy: 0.9976 - val_loss: 0.0352 - val_accuracy: 0.9910\n",
      "Epoch 11/30\n",
      "80701/80701 [==============================] - 10s 129us/step - loss: 0.0082 - accuracy: 0.9980 - val_loss: 0.0372 - val_accuracy: 0.9911\n",
      "Epoch 12/30\n",
      "80701/80701 [==============================] - 10s 129us/step - loss: 0.0077 - accuracy: 0.9981 - val_loss: 0.0359 - val_accuracy: 0.9913\n",
      "Epoch 13/30\n",
      "80701/80701 [==============================] - 10s 129us/step - loss: 0.0081 - accuracy: 0.9980 - val_loss: 0.0399 - val_accuracy: 0.9896\n",
      "Epoch 14/30\n",
      "80701/80701 [==============================] - 11s 131us/step - loss: 0.0071 - accuracy: 0.9982 - val_loss: 0.0347 - val_accuracy: 0.9914\n",
      "Epoch 15/30\n",
      "80701/80701 [==============================] - 10s 129us/step - loss: 0.0071 - accuracy: 0.9981 - val_loss: 0.0323 - val_accuracy: 0.9916\n",
      "Epoch 16/30\n",
      "80701/80701 [==============================] - 10s 130us/step - loss: 0.0057 - accuracy: 0.9984 - val_loss: 0.0385 - val_accuracy: 0.9915\n",
      "Epoch 17/30\n",
      "80701/80701 [==============================] - 10s 129us/step - loss: 0.0061 - accuracy: 0.9982 - val_loss: 0.0401 - val_accuracy: 0.9897\n",
      "Epoch 18/30\n",
      "80701/80701 [==============================] - 11s 130us/step - loss: 0.0058 - accuracy: 0.9984 - val_loss: 0.0373 - val_accuracy: 0.9903\n",
      "Epoch 19/30\n",
      "80701/80701 [==============================] - 10s 130us/step - loss: 0.0051 - accuracy: 0.9985 - val_loss: 0.0325 - val_accuracy: 0.9916\n",
      "Epoch 20/30\n",
      "80701/80701 [==============================] - 11s 130us/step - loss: 0.0051 - accuracy: 0.9985 - val_loss: 0.0329 - val_accuracy: 0.9920\n",
      "Epoch 21/30\n",
      "80701/80701 [==============================] - 10s 129us/step - loss: 0.0045 - accuracy: 0.9987 - val_loss: 0.0367 - val_accuracy: 0.9911\n",
      "Epoch 22/30\n",
      "80701/80701 [==============================] - 10s 130us/step - loss: 0.0047 - accuracy: 0.9985 - val_loss: 0.0410 - val_accuracy: 0.9902\n",
      "Epoch 23/30\n",
      "80701/80701 [==============================] - 10s 129us/step - loss: 0.5909 - accuracy: 0.8503 - val_loss: 0.2027 - val_accuracy: 0.9243\n",
      "Epoch 24/30\n",
      "80701/80701 [==============================] - 10s 128us/step - loss: 0.1022 - accuracy: 0.9658 - val_loss: 0.0637 - val_accuracy: 0.9796\n",
      "Epoch 25/30\n",
      "80701/80701 [==============================] - 10s 130us/step - loss: 0.0252 - accuracy: 0.9928 - val_loss: 0.0418 - val_accuracy: 0.9883\n",
      "Epoch 26/30\n",
      "80701/80701 [==============================] - 11s 130us/step - loss: 0.0114 - accuracy: 0.9973 - val_loss: 0.0437 - val_accuracy: 0.9889\n",
      "Epoch 27/30\n",
      "80701/80701 [==============================] - 10s 129us/step - loss: 0.0080 - accuracy: 0.9980 - val_loss: 0.0383 - val_accuracy: 0.9906\n",
      "Epoch 28/30\n",
      "80701/80701 [==============================] - 10s 130us/step - loss: 0.0063 - accuracy: 0.9983 - val_loss: 0.0379 - val_accuracy: 0.9908\n",
      "Epoch 29/30\n",
      "80701/80701 [==============================] - 11s 131us/step - loss: 0.0053 - accuracy: 0.9985 - val_loss: 0.0428 - val_accuracy: 0.9891\n",
      "Epoch 30/30\n",
      "80701/80701 [==============================] - 10s 130us/step - loss: 0.0052 - accuracy: 0.9985 - val_loss: 0.0430 - val_accuracy: 0.9900\n"
     ]
    }
   ],
   "source": [
    "history = model.fit(x_train, y_train,\n",
    "         validation_data=[x_test, y_test],\n",
    "         epochs=epoch,\n",
    "         batch_size=batch_size,\n",
    "         verbose=1           \n",
    "         )"
   ]
  },
  {
   "cell_type": "markdown",
   "metadata": {},
   "source": [
    "- テストデータで評価．    "
   ]
  },
  {
   "cell_type": "code",
   "execution_count": 57,
   "metadata": {},
   "outputs": [
    {
     "name": "stdout",
     "output_type": "stream",
     "text": [
      "39749/39749 [==============================] - 2s 42us/step\n",
      "Testing Accuracy: 0.9899871945381165\n"
     ]
    }
   ],
   "source": [
    "score = model.score(x_test, y_test)\n",
    "#print('Test Loss:', score[0])\n",
    "#print('Test accuracy:', score[1])\n",
    "print('Testing Accuracy:',score)"
   ]
  },
  {
   "cell_type": "markdown",
   "metadata": {},
   "source": [
    "- データオーギュメンテーションなしの実データで評価"
   ]
  },
  {
   "cell_type": "code",
   "execution_count": 58,
   "metadata": {},
   "outputs": [
    {
     "name": "stdout",
     "output_type": "stream",
     "text": [
      "2500/2500 [==============================] - 0s 69us/step\n",
      "Testing Accuracy: 0.9764000177383423\n"
     ]
    }
   ],
   "source": [
    "score = model.score(tempx, tempy)\n",
    "#print('Test Loss:', score[0])\n",
    "#print('Test accuracy:', score[1])\n",
    "print('Testing Accuracy:',score)"
   ]
  },
  {
   "cell_type": "markdown",
   "metadata": {},
   "source": [
    "- acuurayは99.70%であった．"
   ]
  },
  {
   "cell_type": "markdown",
   "metadata": {},
   "source": [
    "- モデルは以下．\n",
    "    - 入力層\n",
    "    - 畳み込み層3つ\n",
    "    - Flatten層（1次元に）\n",
    "    - 全結合層3つ"
   ]
  },
  {
   "cell_type": "code",
   "execution_count": 59,
   "metadata": {
    "scrolled": true
   },
   "outputs": [
    {
     "name": "stdout",
     "output_type": "stream",
     "text": [
      "Model: \"model_7\"\n",
      "_________________________________________________________________\n",
      "Layer (type)                 Output Shape              Param #   \n",
      "=================================================================\n",
      "input_3 (InputLayer)         (None, 26, 26, 3)         0         \n",
      "_________________________________________________________________\n",
      "conv2d_11 (Conv2D)           (None, 26, 26, 16)        448       \n",
      "_________________________________________________________________\n",
      "conv2d_12 (Conv2D)           (None, 26, 26, 64)        9280      \n",
      "_________________________________________________________________\n",
      "conv2d_13 (Conv2D)           (None, 26, 26, 128)       73856     \n",
      "_________________________________________________________________\n",
      "flatten_4 (Flatten)          (None, 86528)             0         \n",
      "_________________________________________________________________\n",
      "dense_10 (Dense)             (None, 512)               44302848  \n",
      "_________________________________________________________________\n",
      "dense_11 (Dense)             (None, 128)               65664     \n",
      "_________________________________________________________________\n",
      "dense_12 (Dense)             (None, 9)                 1161      \n",
      "=================================================================\n",
      "Total params: 44,453,257\n",
      "Trainable params: 44,453,257\n",
      "Non-trainable params: 0\n",
      "_________________________________________________________________\n"
     ]
    }
   ],
   "source": [
    "model.model.summary()"
   ]
  },
  {
   "cell_type": "markdown",
   "metadata": {},
   "source": [
    "- accuracyグラフ，lossグラフは以下．\n",
    "- 5epoch程度で落ち着いている．"
   ]
  },
  {
   "cell_type": "code",
   "execution_count": 60,
   "metadata": {},
   "outputs": [
    {
     "data": {
      "image/png": "[encoded data removed]",
      "text/plain": [
       "<Figure size 432x288 with 1 Axes>"
      ]
     },
     "metadata": {
      "needs_background": "light"
     },
     "output_type": "display_data"
    },
    {
     "data": {
      "image/png": "[encoded data removed]",
      "text/plain": [
       "<Figure size 432x288 with 1 Axes>"
      ]
     },
     "metadata": {
      "needs_background": "light"
     },
     "output_type": "display_data"
    }
   ],
   "source": [
    "# accuracy plot \n",
    "plt.plot(history.history['accuracy'])\n",
    "plt.plot(history.history['val_accuracy'])\n",
    "plt.title('model accuracy')\n",
    "plt.ylabel('accuracy')\n",
    "plt.xlabel('epoch')\n",
    "plt.legend(['train', 'test'], loc='upper left')\n",
    "plt.show()\n",
    "\n",
    "# loss plot\n",
    "plt.plot(history.history['loss'])\n",
    "plt.plot(history.history['val_loss'])\n",
    "plt.title('model loss')\n",
    "plt.ylabel('loss')\n",
    "plt.xlabel('epoch')\n",
    "plt.legend(['train', 'test'], loc='upper left')\n",
    "plt.show()"
   ]
  },
  {
   "cell_type": "code",
   "execution_count": 61,
   "metadata": {},
   "outputs": [
    {
     "name": "stdout",
     "output_type": "stream",
     "text": [
      "80701/80701 [==============================] - 3s 39us/step\n",
      "39749/39749 [==============================] - 2s 40us/step\n",
      "0\n",
      "0\n",
      "Training acc: 99.86493352003073\n",
      "Testing acc: 98.99871694885405\n",
      "y_train_pred[:100]:  [0 5 2 2 6 6 1 0 1 5 5 0 0 8 5 6 1 3 3 1 3 1 5 0 4 1 3 1 3 2 1 0 4 1 8 4 0\n",
      " 7 2 5 4 4 5 4 7 6 5 3 5 3 7 6 4 1 1 3 5 8 8 3 4 2 7 0 0 7 5 8 0 1 1 2 1 6\n",
      " 6 7 8 7 8 3 5 3 5 5 6 4 8 7 6 3 6 8 8 3 1 2 0 4 7 5]\n",
      "y_train_max[:100]:  [0 5 2 2 6 6 1 0 1 5 5 0 0 8 5 6 1 3 3 1 3 1 5 0 4 1 3 1 3 2 1 0 4 1 8 4 0\n",
      " 7 2 5 4 4 5 4 7 6 5 3 5 3 7 6 4 1 1 3 5 8 8 3 4 2 7 0 0 7 5 8 0 1 1 2 1 6\n",
      " 6 7 8 7 8 3 5 3 5 5 6 4 8 7 6 3 6 8 8 3 1 2 0 4 7 5]\n"
     ]
    }
   ],
   "source": [
    "#y_train_pred = np.argmax(model.predict(x_train))\n",
    "y_train_pred = model.predict(x_train)\n",
    "y_test_pred = model.predict(x_test)\n",
    "y_train_max = np.argmax(y_train, axis=1)\n",
    "y_test_max = np.argmax(y_test, axis=1)\n",
    "\n",
    "print(y_train_max[0])\n",
    "print(y_train_pred[0])\n",
    "\n",
    "train_acc2 = np.sum(y_train_max == y_train_pred, axis=0, dtype='float') / x_train.shape[0]\n",
    "test_acc2 = np.sum(y_test_max == y_test_pred, axis=0, dtype='float') / x_test.shape[0]\n",
    "print('Training acc: {}'.format(train_acc2*100))\n",
    "print('Testing acc: {}'.format(test_acc2*100))\n",
    "print(\"y_train_pred[:100]: \", y_train_pred[:100])\n",
    "print (\"y_train_max[:100]: \", y_train_max[:100])"
   ]
  },
  {
   "cell_type": "markdown",
   "metadata": {},
   "source": [
    "### 混同行列"
   ]
  },
  {
   "cell_type": "code",
   "execution_count": 62,
   "metadata": {},
   "outputs": [],
   "source": [
    "import itertools\n",
    "from sklearn.metrics import confusion_matrix\n",
    "\n",
    "def plot_confusion_matrix(cm, normalize=False, title='Confusion matrix', cmap=plt.cm.Blues):\n",
    "    \"\"\"\n",
    "    This function prints and plots the confusion matrix.\n",
    "    Normalization can be applied by setting `normalize=True`.\n",
    "    \"\"\"\n",
    "    if normalize:\n",
    "        cm = cm.astype('float') / cm.sum(axis=1)[:, np.newaxis]\n",
    "        print(\"Normalized confusion matrix\")\n",
    "    else:\n",
    "        print('Confusion matrix, without normalization')\n",
    "\n",
    "    #print(cm)\n",
    "\n",
    "    plt.imshow(cm, interpolation='nearest', cmap=cmap)\n",
    "    plt.title(title)\n",
    "    plt.colorbar()\n",
    "\n",
    "    fmt = '.2f' if normalize else 'd'\n",
    "    thresh = cm.max() / 2.\n",
    "    for i, j in itertools.product(range(cm.shape[0]), range(cm.shape[1])):\n",
    "        plt.text(j, i, format(cm[i, j], fmt),\n",
    "                 horizontalalignment=\"center\",\n",
    "                 color=\"white\" if cm[i, j] > thresh else \"black\")\n",
    "\n",
    "    plt.tight_layout()\n",
    "    plt.ylabel('True label')\n",
    "    plt.xlabel('Predicted label')"
   ]
  },
  {
   "cell_type": "code",
   "execution_count": 63,
   "metadata": {},
   "outputs": [
    {
     "name": "stdout",
     "output_type": "stream",
     "text": [
      "Confusion matrix, without normalization\n",
      "Normalized confusion matrix\n"
     ]
    },
    {
     "data": {
      "image/png": "[encoded data removed]",
      "text/plain": [
       "<Figure size 576x1080 with 4 Axes>"
      ]
     },
     "metadata": {
      "needs_background": "light"
     },
     "output_type": "display_data"
    }
   ],
   "source": [
    "# Compute confusion matrix\n",
    "cnf_matrix = confusion_matrix(y_test_max, y_test_pred)\n",
    "np.set_printoptions(precision=2)\n",
    "\n",
    "from matplotlib import gridspec\n",
    "fig = plt.figure(figsize=(8, 15)) \n",
    "gs = gridspec.GridSpec(2, 1, height_ratios=[1, 1]) \n",
    "\n",
    "## Plot non-normalized confusion matrix\n",
    "plt.subplot(gs[0])\n",
    "plot_confusion_matrix(cnf_matrix, title='Confusion matrix')\n",
    "\n",
    "# Plot normalized confusion matrix\n",
    "plt.subplot(gs[1])\n",
    "plot_confusion_matrix(cnf_matrix, normalize=True, title='Normalized confusion matrix')\n",
    "\n",
    "plt.show()"
   ]
  },
  {
   "cell_type": "markdown",
   "metadata": {},
   "source": [
    "### クラス活性化マップ"
   ]
  },
  {
   "cell_type": "code",
   "execution_count": 64,
   "metadata": {},
   "outputs": [],
   "source": [
    "#set target wafer number\n",
    "target_wafer_num = 100\n",
    "# predict \n",
    "prob = model.model.predict(x_test[target_wafer_num].reshape(1,26,26,3))"
   ]
  },
  {
   "cell_type": "code",
   "execution_count": 65,
   "metadata": {},
   "outputs": [],
   "source": [
    "aver_output = model.model.layers[3]\n",
    "aver_model = models.Model(input_tensor, aver_output.output)\n",
    "cam_result = aver_model.predict(x_test[target_wafer_num].reshape(1, 26, 26, 3))"
   ]
  },
  {
   "cell_type": "code",
   "execution_count": 66,
   "metadata": {},
   "outputs": [
    {
     "name": "stdout",
     "output_type": "stream",
     "text": [
      "conv2d_13\n"
     ]
    }
   ],
   "source": [
    "print(model.model.layers[3].name)"
   ]
  },
  {
   "cell_type": "code",
   "execution_count": 67,
   "metadata": {},
   "outputs": [],
   "source": [
    "weight_result = model.model.layers[-1].get_weights()[0]"
   ]
  },
  {
   "cell_type": "code",
   "execution_count": 68,
   "metadata": {},
   "outputs": [
    {
     "data": {
      "text/plain": [
       "(1, 26, 26, 128)"
      ]
     },
     "execution_count": 68,
     "metadata": {},
     "output_type": "execute_result"
    }
   ],
   "source": [
    "cam_result.shape"
   ]
  },
  {
   "cell_type": "code",
   "execution_count": 69,
   "metadata": {},
   "outputs": [],
   "source": [
    "mask_x = np.zeros((26, 26))\n",
    "dummy_x = cv2.resize(x[0], (26,26))\n",
    "mask_x[dummy_x == 1] = 1 \n",
    "mask_x[dummy_x == 2] = 1 \n",
    "mask_x = mask_x.reshape((1, 26,26))"
   ]
  },
  {
   "cell_type": "code",
   "execution_count": 70,
   "metadata": {},
   "outputs": [],
   "source": [
    "def make_cam(cam_result, weight_result): \n",
    "    cam_arr = np.zeros((1,26, 26))\n",
    "    for row in range(0,9):\n",
    "        cam = np.zeros((1, 26, 26))\n",
    "        for i, w in enumerate(weight_result[:, row]):\n",
    "            cam += (w*cam_result[0,:,:,i]).reshape(26,26)\n",
    "        cam = (cam - np.min(cam)) / (np.max(cam) - np.min(cam))\n",
    "        cam[mask_x == 0] = 0\n",
    "        cam_arr = np.concatenate((cam_arr, cam))\n",
    "    return cam_arr[1:]\n",
    "\n",
    "def display_activation(cam_arr, prob, wafer): \n",
    "    fig, ax = plt.subplots(9, 1, figsize=(50, 50))\n",
    "    count = 0\n",
    "    cam_arr[np.percentile(cam_arr, 0.8) > cam_arr] = 0\n",
    "    for row in range(0,9):\n",
    "        ax[row].imshow(np.argmax(wafer, axis=2))\n",
    "        ax[row].imshow(cam_arr[row],cmap='Reds', alpha=0.7)\n",
    "        ax[row].set_title('class : ' + faulty_case_dict[count]+', prob : {:.4f}'.format(prob[:, count][0]*100) + '%')\n",
    "        count += 1"
   ]
  },
  {
   "cell_type": "code",
   "execution_count": 71,
   "metadata": {},
   "outputs": [
    {
     "data": {
      "text/plain": [
       "'Scratch'"
      ]
     },
     "execution_count": 71,
     "metadata": {},
     "output_type": "execute_result"
    }
   ],
   "source": [
    "faulty_case_dict[np.argmax(y_test[target_wafer_num])]"
   ]
  },
  {
   "cell_type": "code",
   "execution_count": 72,
   "metadata": {},
   "outputs": [
    {
     "name": "stdout",
     "output_type": "stream",
     "text": [
      "faulty case : Scratch\n"
     ]
    },
    {
     "data": {
      "image/png": "[encoded data removed]",
      "text/plain": [
       "<Figure size 432x288 with 1 Axes>"
      ]
     },
     "metadata": {
      "needs_background": "light"
     },
     "output_type": "display_data"
    }
   ],
   "source": [
    "plt.imshow(np.argmax(x_test[target_wafer_num], axis=2))\n",
    "print('faulty case : {}'.format(faulty_case_dict[np.argmax(y_test[target_wafer_num])]))"
   ]
  },
  {
   "cell_type": "markdown",
   "metadata": {},
   "source": [
    "- 対象のウエハの画像と不良パターンの表示"
   ]
  },
  {
   "cell_type": "code",
   "execution_count": 73,
   "metadata": {},
   "outputs": [
    {
     "data": {
      "text/plain": [
       "(1, 26, 26, 128)"
      ]
     },
     "execution_count": 73,
     "metadata": {},
     "output_type": "execute_result"
    }
   ],
   "source": [
    "cam_result.shape"
   ]
  },
  {
   "cell_type": "code",
   "execution_count": 74,
   "metadata": {},
   "outputs": [],
   "source": [
    "cam_arr = make_cam(cam_result, weight_result)"
   ]
  },
  {
   "cell_type": "code",
   "execution_count": 75,
   "metadata": {},
   "outputs": [
    {
     "data": {
      "text/plain": [
       "(1, 9)"
      ]
     },
     "execution_count": 75,
     "metadata": {},
     "output_type": "execute_result"
    }
   ],
   "source": [
    "prob.shape"
   ]
  },
  {
   "cell_type": "code",
   "execution_count": 76,
   "metadata": {},
   "outputs": [
    {
     "data": {
      "image/png": "[encoded data removed]",
      "text/plain": [
       "<Figure size 3600x3600 with 9 Axes>"
      ]
     },
     "metadata": {
      "needs_background": "light"
     },
     "output_type": "display_data"
    }
   ],
   "source": [
    "display_activation(cam_arr, prob, x_test[target_wafer_num])"
   ]
  },
  {
   "cell_type": "markdown",
   "metadata": {},
   "source": [
    "- 活性化マップの表示\n",
    "- ドーナツでは円形状にヒートマップの赤い部分が点在している"
   ]
  },
  {
   "cell_type": "code",
   "execution_count": null,
   "metadata": {},
   "outputs": [],
   "source": []
  }
 ],
 "metadata": {
  "kernelspec": {
   "display_name": "Python 3 (Anaconda)",
   "language": "python",
   "name": "python3_anaconda"
  },
  "language_info": {
   "codemirror_mode": {
    "name": "ipython",
    "version": 3
   },
   "file_extension": ".py",
   "mimetype": "text/x-python",
   "name": "python",
   "nbconvert_exporter": "python",
   "pygments_lexer": "ipython3",
   "version": "3.7.6"
  }
 },
 "nbformat": 4,
 "nbformat_minor": 2
}
