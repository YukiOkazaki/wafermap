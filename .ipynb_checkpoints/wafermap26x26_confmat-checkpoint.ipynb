{
 "cells": [
  {
   "cell_type": "markdown",
   "metadata": {},
   "source": [
    "## 26x26のウエハに限定して機械学習させる"
   ]
  },
  {
   "cell_type": "markdown",
   "metadata": {},
   "source": [
    "### import，入力データの読み込み"
   ]
  },
  {
   "cell_type": "code",
   "execution_count": 1,
   "metadata": {},
   "outputs": [
    {
     "name": "stdout",
     "output_type": "stream",
     "text": [
      "../input/LSWMD.pkl\n"
     ]
    }
   ],
   "source": [
    "# This Python 3 environment comes with many helpful analytics libraries installed\n",
    "# It is defined by the kaggle/python docker image: https://github.com/kaggle/docker-python\n",
    "# For example, here's several helpful packages to load in \n",
    "\n",
    "import numpy as np # linear algebra\n",
    "import pandas as pd # data processing, CSV file I/O (e.g. pd.read_csv)\n",
    "\n",
    "# Input data files are available in the \"../input/\" directory.\n",
    "# For example, running this (by clicking run or pressing Shift+Enter) will list all files under the input directory\n",
    "\n",
    "import os\n",
    "for dirname, _, filenames in os.walk('../input'):\n",
    "    for filename in filenames:\n",
    "        print(os.path.join(dirname, filename))\n",
    "\n",
    "# Any results you write to the current directory are saved as output."
   ]
  },
  {
   "cell_type": "code",
   "execution_count": 2,
   "metadata": {
    "scrolled": true
   },
   "outputs": [
    {
     "name": "stderr",
     "output_type": "stream",
     "text": [
      "GPU: 1\n",
      "Using TensorFlow backend.\n"
     ]
    },
    {
     "name": "stdout",
     "output_type": "stream",
     "text": [
      "['LSWMD.pkl']\n"
     ]
    }
   ],
   "source": [
    "import os\n",
    "from os.path import join\n",
    "\n",
    "import numpy as np\n",
    "import pandas as pd\n",
    "\n",
    "import tensorflow as tf\n",
    "import keras\n",
    "from keras import layers, Input, models\n",
    "from keras.utils import to_categorical\n",
    "from keras.wrappers.scikit_learn import KerasClassifier \n",
    "from sklearn.model_selection import KFold \n",
    "from sklearn.model_selection import cross_val_score\n",
    "\n",
    "from sklearn.model_selection import train_test_split\n",
    "\n",
    "import matplotlib.pyplot as plt\n",
    "\n",
    "datapath = join('data', 'wafer')\n",
    "\n",
    "print(os.listdir(\"../input\"))\n",
    "import warnings\n",
    "warnings.filterwarnings(\"ignore\")"
   ]
  },
  {
   "cell_type": "markdown",
   "metadata": {},
   "source": [
    "### データについて"
   ]
  },
  {
   "cell_type": "code",
   "execution_count": 3,
   "metadata": {
    "scrolled": true
   },
   "outputs": [
    {
     "name": "stdout",
     "output_type": "stream",
     "text": [
      "<class 'pandas.core.frame.DataFrame'>\n",
      "RangeIndex: 811457 entries, 0 to 811456\n",
      "Data columns (total 6 columns):\n",
      "waferMap          811457 non-null object\n",
      "dieSize           811457 non-null float64\n",
      "lotName           811457 non-null object\n",
      "waferIndex        811457 non-null float64\n",
      "trianTestLabel    811457 non-null object\n",
      "failureType       811457 non-null object\n",
      "dtypes: float64(2), object(4)\n",
      "memory usage: 37.1+ MB\n"
     ]
    }
   ],
   "source": [
    "df=pd.read_pickle(\"../input/LSWMD.pkl\")\n",
    "df.info()"
   ]
  },
  {
   "cell_type": "markdown",
   "metadata": {},
   "source": [
    "- データセットは811,457枚のウエハマップから構成されている．"
   ]
  },
  {
   "cell_type": "code",
   "execution_count": 4,
   "metadata": {
    "scrolled": true
   },
   "outputs": [
    {
     "data": {
      "text/html": [
       "<div>\n",
       "<style scoped>\n",
       "    .dataframe tbody tr th:only-of-type {\n",
       "        vertical-align: middle;\n",
       "    }\n",
       "\n",
       "    .dataframe tbody tr th {\n",
       "        vertical-align: top;\n",
       "    }\n",
       "\n",
       "    .dataframe thead th {\n",
       "        text-align: right;\n",
       "    }\n",
       "</style>\n",
       "<table border=\"1\" class=\"dataframe\">\n",
       "  <thead>\n",
       "    <tr style=\"text-align: right;\">\n",
       "      <th></th>\n",
       "      <th>waferMap</th>\n",
       "      <th>dieSize</th>\n",
       "      <th>lotName</th>\n",
       "      <th>waferIndex</th>\n",
       "      <th>trianTestLabel</th>\n",
       "      <th>failureType</th>\n",
       "    </tr>\n",
       "  </thead>\n",
       "  <tbody>\n",
       "    <tr>\n",
       "      <th>811452</th>\n",
       "      <td>[[0, 0, 0, 0, 0, 0, 0, 0, 0, 0, 0, 1, 2, 1, 1,...</td>\n",
       "      <td>600.0</td>\n",
       "      <td>lot47542</td>\n",
       "      <td>23.0</td>\n",
       "      <td>[[Test]]</td>\n",
       "      <td>[[Edge-Ring]]</td>\n",
       "    </tr>\n",
       "    <tr>\n",
       "      <th>811453</th>\n",
       "      <td>[[0, 0, 0, 0, 0, 0, 0, 0, 0, 0, 0, 2, 2, 1, 1,...</td>\n",
       "      <td>600.0</td>\n",
       "      <td>lot47542</td>\n",
       "      <td>24.0</td>\n",
       "      <td>[[Test]]</td>\n",
       "      <td>[[Edge-Loc]]</td>\n",
       "    </tr>\n",
       "    <tr>\n",
       "      <th>811454</th>\n",
       "      <td>[[0, 0, 0, 0, 0, 0, 0, 0, 0, 0, 0, 1, 2, 1, 1,...</td>\n",
       "      <td>600.0</td>\n",
       "      <td>lot47542</td>\n",
       "      <td>25.0</td>\n",
       "      <td>[[Test]]</td>\n",
       "      <td>[[Edge-Ring]]</td>\n",
       "    </tr>\n",
       "    <tr>\n",
       "      <th>811455</th>\n",
       "      <td>[[0, 0, 0, 0, 0, 0, 0, 0, 0, 0, 0, 1, 1, 1, 1,...</td>\n",
       "      <td>600.0</td>\n",
       "      <td>lot47543</td>\n",
       "      <td>1.0</td>\n",
       "      <td>[]</td>\n",
       "      <td>[]</td>\n",
       "    </tr>\n",
       "    <tr>\n",
       "      <th>811456</th>\n",
       "      <td>[[0, 0, 0, 0, 0, 0, 0, 0, 0, 0, 0, 1, 2, 1, 1,...</td>\n",
       "      <td>600.0</td>\n",
       "      <td>lot47543</td>\n",
       "      <td>2.0</td>\n",
       "      <td>[]</td>\n",
       "      <td>[]</td>\n",
       "    </tr>\n",
       "  </tbody>\n",
       "</table>\n",
       "</div>"
      ],
      "text/plain": [
       "                                                 waferMap  dieSize   lotName  \\\n",
       "811452  [[0, 0, 0, 0, 0, 0, 0, 0, 0, 0, 0, 1, 2, 1, 1,...    600.0  lot47542   \n",
       "811453  [[0, 0, 0, 0, 0, 0, 0, 0, 0, 0, 0, 2, 2, 1, 1,...    600.0  lot47542   \n",
       "811454  [[0, 0, 0, 0, 0, 0, 0, 0, 0, 0, 0, 1, 2, 1, 1,...    600.0  lot47542   \n",
       "811455  [[0, 0, 0, 0, 0, 0, 0, 0, 0, 0, 0, 1, 1, 1, 1,...    600.0  lot47543   \n",
       "811456  [[0, 0, 0, 0, 0, 0, 0, 0, 0, 0, 0, 1, 2, 1, 1,...    600.0  lot47543   \n",
       "\n",
       "        waferIndex trianTestLabel    failureType  \n",
       "811452        23.0       [[Test]]  [[Edge-Ring]]  \n",
       "811453        24.0       [[Test]]   [[Edge-Loc]]  \n",
       "811454        25.0       [[Test]]  [[Edge-Ring]]  \n",
       "811455         1.0             []             []  \n",
       "811456         2.0             []             []  "
      ]
     },
     "execution_count": 4,
     "metadata": {},
     "output_type": "execute_result"
    }
   ],
   "source": [
    "df.tail()"
   ]
  },
  {
   "cell_type": "markdown",
   "metadata": {},
   "source": [
    "- ウエハマップのそれぞれの列から得られる情報はないが，インスタンスごとにダイサイズが異なることがわかる．\n",
    "- ウエハマップのダイサイズをチェックするための変数`WaferMapDim`を定義する．（縦，横の値）"
   ]
  },
  {
   "cell_type": "code",
   "execution_count": 5,
   "metadata": {},
   "outputs": [],
   "source": [
    "df = df.drop(['waferIndex'], axis = 1)"
   ]
  },
  {
   "cell_type": "code",
   "execution_count": 6,
   "metadata": {},
   "outputs": [
    {
     "data": {
      "text/html": [
       "<div>\n",
       "<style scoped>\n",
       "    .dataframe tbody tr th:only-of-type {\n",
       "        vertical-align: middle;\n",
       "    }\n",
       "\n",
       "    .dataframe tbody tr th {\n",
       "        vertical-align: top;\n",
       "    }\n",
       "\n",
       "    .dataframe thead th {\n",
       "        text-align: right;\n",
       "    }\n",
       "</style>\n",
       "<table border=\"1\" class=\"dataframe\">\n",
       "  <thead>\n",
       "    <tr style=\"text-align: right;\">\n",
       "      <th></th>\n",
       "      <th>waferMap</th>\n",
       "      <th>dieSize</th>\n",
       "      <th>lotName</th>\n",
       "      <th>trianTestLabel</th>\n",
       "      <th>failureType</th>\n",
       "      <th>waferMapDim</th>\n",
       "    </tr>\n",
       "  </thead>\n",
       "  <tbody>\n",
       "    <tr>\n",
       "      <th>724630</th>\n",
       "      <td>[[0, 0, 0, 0, 0, 0, 0, 0, 0, 0, 1, 1, 1, 1, 1,...</td>\n",
       "      <td>518.0</td>\n",
       "      <td>lot44015</td>\n",
       "      <td>[[Test]]</td>\n",
       "      <td>[[Loc]]</td>\n",
       "      <td>(25, 26)</td>\n",
       "    </tr>\n",
       "    <tr>\n",
       "      <th>796226</th>\n",
       "      <td>[[0, 0, 0, 0, 0, 0, 0, 0, 0, 0, 0, 2, 1, 1, 2,...</td>\n",
       "      <td>562.0</td>\n",
       "      <td>lot46922</td>\n",
       "      <td>[[Test]]</td>\n",
       "      <td>[[none]]</td>\n",
       "      <td>(29, 26)</td>\n",
       "    </tr>\n",
       "    <tr>\n",
       "      <th>348515</th>\n",
       "      <td>[[0, 0, 0, 0, 0, 0, 0, 0, 0, 0, 0, 0, 0, 0, 0,...</td>\n",
       "      <td>3133.0</td>\n",
       "      <td>lot20814</td>\n",
       "      <td>[]</td>\n",
       "      <td>[]</td>\n",
       "      <td>(64, 63)</td>\n",
       "    </tr>\n",
       "    <tr>\n",
       "      <th>345804</th>\n",
       "      <td>[[0, 0, 0, 0, 0, 0, 0, 0, 0, 0, 0, 0, 0, 0, 0,...</td>\n",
       "      <td>3127.0</td>\n",
       "      <td>lot20687</td>\n",
       "      <td>[]</td>\n",
       "      <td>[]</td>\n",
       "      <td>(63, 63)</td>\n",
       "    </tr>\n",
       "    <tr>\n",
       "      <th>282784</th>\n",
       "      <td>[[0, 0, 0, 0, 0, 0, 0, 0, 0, 0, 0, 0, 0, 0, 0,...</td>\n",
       "      <td>8147.0</td>\n",
       "      <td>lot17302</td>\n",
       "      <td>[]</td>\n",
       "      <td>[]</td>\n",
       "      <td>(101, 103)</td>\n",
       "    </tr>\n",
       "  </tbody>\n",
       "</table>\n",
       "</div>"
      ],
      "text/plain": [
       "                                                 waferMap  dieSize   lotName  \\\n",
       "724630  [[0, 0, 0, 0, 0, 0, 0, 0, 0, 0, 1, 1, 1, 1, 1,...    518.0  lot44015   \n",
       "796226  [[0, 0, 0, 0, 0, 0, 0, 0, 0, 0, 0, 2, 1, 1, 2,...    562.0  lot46922   \n",
       "348515  [[0, 0, 0, 0, 0, 0, 0, 0, 0, 0, 0, 0, 0, 0, 0,...   3133.0  lot20814   \n",
       "345804  [[0, 0, 0, 0, 0, 0, 0, 0, 0, 0, 0, 0, 0, 0, 0,...   3127.0  lot20687   \n",
       "282784  [[0, 0, 0, 0, 0, 0, 0, 0, 0, 0, 0, 0, 0, 0, 0,...   8147.0  lot17302   \n",
       "\n",
       "       trianTestLabel failureType waferMapDim  \n",
       "724630       [[Test]]     [[Loc]]    (25, 26)  \n",
       "796226       [[Test]]    [[none]]    (29, 26)  \n",
       "348515             []          []    (64, 63)  \n",
       "345804             []          []    (63, 63)  \n",
       "282784             []          []  (101, 103)  "
      ]
     },
     "execution_count": 6,
     "metadata": {},
     "output_type": "execute_result"
    }
   ],
   "source": [
    "def find_dim(x):\n",
    "    dim0=np.size(x,axis=0)\n",
    "    dim1=np.size(x,axis=1)\n",
    "    return dim0,dim1\n",
    "df['waferMapDim']=df.waferMap.apply(find_dim)\n",
    "df.sample(5)"
   ]
  },
  {
   "cell_type": "markdown",
   "metadata": {},
   "source": [
    "- 不良パターンと学習orテストラベルを数値で表す．"
   ]
  },
  {
   "cell_type": "code",
   "execution_count": 7,
   "metadata": {},
   "outputs": [],
   "source": [
    "df['failureNum']=df.failureType\n",
    "df['trainTestNum']=df.trianTestLabel\n",
    "mapping_type={'Center':0,'Donut':1,'Edge-Loc':2,'Edge-Ring':3,'Loc':4,'Random':5,'Scratch':6,'Near-full':7,'none':8}\n",
    "mapping_traintest={'Training':0,'Test':1}\n",
    "df=df.replace({'failureNum':mapping_type, 'trainTestNum':mapping_traintest})"
   ]
  },
  {
   "cell_type": "code",
   "execution_count": 8,
   "metadata": {},
   "outputs": [
    {
     "data": {
      "text/plain": [
       "811457"
      ]
     },
     "execution_count": 8,
     "metadata": {},
     "output_type": "execute_result"
    }
   ],
   "source": [
    "tol_wafers = df.shape[0]\n",
    "tol_wafers"
   ]
  },
  {
   "cell_type": "code",
   "execution_count": 9,
   "metadata": {},
   "outputs": [
    {
     "data": {
      "text/plain": [
       "(172950, 25519, 147431)"
      ]
     },
     "execution_count": 9,
     "metadata": {},
     "output_type": "execute_result"
    }
   ],
   "source": [
    "df_withlabel = df[(df['failureNum']>=0) & (df['failureNum']<=8)]\n",
    "df_withlabel =df_withlabel.reset_index()\n",
    "df_withpattern = df[(df['failureNum']>=0) & (df['failureNum']<=7)]\n",
    "df_withpattern = df_withpattern.reset_index()\n",
    "df_nonpattern = df[(df['failureNum']==8)]\n",
    "df_withlabel.shape[0], df_withpattern.shape[0], df_nonpattern.shape[0]"
   ]
  },
  {
   "cell_type": "code",
   "execution_count": 10,
   "metadata": {},
   "outputs": [
    {
     "data": {
      "image/png": "[encoded data removed]",
      "text/plain": [
       "<Figure size 1440x324 with 2 Axes>"
      ]
     },
     "metadata": {},
     "output_type": "display_data"
    }
   ],
   "source": [
    "import matplotlib.pyplot as plt\n",
    "%matplotlib inline\n",
    "\n",
    "from matplotlib import gridspec\n",
    "fig = plt.figure(figsize=(20, 4.5)) \n",
    "gs = gridspec.GridSpec(1, 2, width_ratios=[1, 2.5]) \n",
    "ax1 = plt.subplot(gs[0])\n",
    "ax2 = plt.subplot(gs[1])\n",
    "\n",
    "no_wafers=[tol_wafers-df_withlabel.shape[0], df_withpattern.shape[0], df_nonpattern.shape[0]]\n",
    "\n",
    "colors = ['silver', 'orange', 'gold']\n",
    "explode = (0.1, 0, 0)  # explode 1st slice\n",
    "labels = ['no-label','label&pattern','label&non-pattern']\n",
    "ax1.pie(no_wafers, explode=explode, labels=labels, colors=colors, autopct='%1.1f%%', shadow=True, startangle=140)\n",
    "\n",
    "uni_pattern=np.unique(df_withpattern.failureNum, return_counts=True)\n",
    "labels2 = ['','Center','Donut','Edge-Loc','Edge-Ring','Loc','Random','Scratch','Near-full']\n",
    "ax2.bar(uni_pattern[0],uni_pattern[1]/df_withpattern.shape[0], color='gold', align='center', alpha=0.9)\n",
    "ax2.set_title(\"failure type frequency\")\n",
    "ax2.set_ylabel(\"% of pattern wafers\")\n",
    "ax2.set_xticklabels(labels2)\n",
    "\n",
    "plt.show()"
   ]
  },
  {
   "cell_type": "markdown",
   "metadata": {},
   "source": [
    "- 結果として，172,950枚のウエハは不良ラベルを持ち，78.7%のウエハは不良ラベルがない．\n",
    "- また，ラベル付きのウエハのうち，実際に不良パターンがあるのは全体のわずか3.1%(25,519枚)であり，残りの147,431枚のウエハは不良パターンが`none`となっている．\n",
    "- その結果，実際に不良パターンがあるのは3.1%(25,519枚）だけであり，計算量は大幅に削減される．\n",
    "- 上の2つ目の図から，データセットは高い不均衡分布を示していることがわかる．"
   ]
  },
  {
   "cell_type": "markdown",
   "metadata": {},
   "source": [
    "### 26x26のデータに対して処理"
   ]
  },
  {
   "cell_type": "code",
   "execution_count": 11,
   "metadata": {},
   "outputs": [],
   "source": [
    "sub_df = df.loc[df['waferMapDim'] == (26, 26)]\n",
    "sub_wafer = sub_df['waferMap'].values\n",
    "\n",
    "sw = np.ones((1, 26, 26))\n",
    "label = list()\n",
    "\n",
    "for i in range(len(sub_df)):\n",
    "    # skip null label\n",
    "    if len(sub_df.iloc[i,:]['failureType']) == 0:\n",
    "        continue\n",
    "    sw = np.concatenate((sw, sub_df.iloc[i,:]['waferMap'].reshape(1, 26, 26)))\n",
    "    label.append(sub_df.iloc[i,:]['failureType'][0][0])"
   ]
  },
  {
   "cell_type": "code",
   "execution_count": 12,
   "metadata": {
    "scrolled": true
   },
   "outputs": [
    {
     "data": {
      "text/html": [
       "<div>\n",
       "<style scoped>\n",
       "    .dataframe tbody tr th:only-of-type {\n",
       "        vertical-align: middle;\n",
       "    }\n",
       "\n",
       "    .dataframe tbody tr th {\n",
       "        vertical-align: top;\n",
       "    }\n",
       "\n",
       "    .dataframe thead th {\n",
       "        text-align: right;\n",
       "    }\n",
       "</style>\n",
       "<table border=\"1\" class=\"dataframe\">\n",
       "  <thead>\n",
       "    <tr style=\"text-align: right;\">\n",
       "      <th></th>\n",
       "      <th>waferMap</th>\n",
       "      <th>dieSize</th>\n",
       "      <th>lotName</th>\n",
       "      <th>trianTestLabel</th>\n",
       "      <th>failureType</th>\n",
       "      <th>waferMapDim</th>\n",
       "      <th>failureNum</th>\n",
       "      <th>trainTestNum</th>\n",
       "    </tr>\n",
       "  </thead>\n",
       "  <tbody>\n",
       "    <tr>\n",
       "      <th>150</th>\n",
       "      <td>[[0, 0, 0, 0, 0, 0, 0, 0, 0, 0, 2, 2, 1, 1, 2,...</td>\n",
       "      <td>533.0</td>\n",
       "      <td>lot7</td>\n",
       "      <td>[[Training]]</td>\n",
       "      <td>[[none]]</td>\n",
       "      <td>(26, 26)</td>\n",
       "      <td>8</td>\n",
       "      <td>0</td>\n",
       "    </tr>\n",
       "    <tr>\n",
       "      <th>151</th>\n",
       "      <td>[[0, 0, 0, 0, 0, 0, 0, 0, 0, 0, 2, 1, 1, 1, 1,...</td>\n",
       "      <td>533.0</td>\n",
       "      <td>lot7</td>\n",
       "      <td>[[Training]]</td>\n",
       "      <td>[[none]]</td>\n",
       "      <td>(26, 26)</td>\n",
       "      <td>8</td>\n",
       "      <td>0</td>\n",
       "    </tr>\n",
       "    <tr>\n",
       "      <th>152</th>\n",
       "      <td>[[0, 0, 0, 0, 0, 0, 0, 0, 0, 0, 1, 2, 1, 1, 1,...</td>\n",
       "      <td>533.0</td>\n",
       "      <td>lot7</td>\n",
       "      <td>[[Training]]</td>\n",
       "      <td>[[none]]</td>\n",
       "      <td>(26, 26)</td>\n",
       "      <td>8</td>\n",
       "      <td>0</td>\n",
       "    </tr>\n",
       "    <tr>\n",
       "      <th>153</th>\n",
       "      <td>[[0, 0, 0, 0, 0, 0, 0, 0, 0, 0, 1, 2, 2, 1, 1,...</td>\n",
       "      <td>533.0</td>\n",
       "      <td>lot7</td>\n",
       "      <td>[[Training]]</td>\n",
       "      <td>[[none]]</td>\n",
       "      <td>(26, 26)</td>\n",
       "      <td>8</td>\n",
       "      <td>0</td>\n",
       "    </tr>\n",
       "    <tr>\n",
       "      <th>154</th>\n",
       "      <td>[[0, 0, 0, 0, 0, 0, 0, 0, 0, 0, 2, 2, 2, 2, 2,...</td>\n",
       "      <td>533.0</td>\n",
       "      <td>lot7</td>\n",
       "      <td>[[Training]]</td>\n",
       "      <td>[[none]]</td>\n",
       "      <td>(26, 26)</td>\n",
       "      <td>8</td>\n",
       "      <td>0</td>\n",
       "    </tr>\n",
       "  </tbody>\n",
       "</table>\n",
       "</div>"
      ],
      "text/plain": [
       "                                              waferMap  dieSize lotName  \\\n",
       "150  [[0, 0, 0, 0, 0, 0, 0, 0, 0, 0, 2, 2, 1, 1, 2,...    533.0    lot7   \n",
       "151  [[0, 0, 0, 0, 0, 0, 0, 0, 0, 0, 2, 1, 1, 1, 1,...    533.0    lot7   \n",
       "152  [[0, 0, 0, 0, 0, 0, 0, 0, 0, 0, 1, 2, 1, 1, 1,...    533.0    lot7   \n",
       "153  [[0, 0, 0, 0, 0, 0, 0, 0, 0, 0, 1, 2, 2, 1, 1,...    533.0    lot7   \n",
       "154  [[0, 0, 0, 0, 0, 0, 0, 0, 0, 0, 2, 2, 2, 2, 2,...    533.0    lot7   \n",
       "\n",
       "    trianTestLabel failureType waferMapDim failureNum trainTestNum  \n",
       "150   [[Training]]    [[none]]    (26, 26)          8            0  \n",
       "151   [[Training]]    [[none]]    (26, 26)          8            0  \n",
       "152   [[Training]]    [[none]]    (26, 26)          8            0  \n",
       "153   [[Training]]    [[none]]    (26, 26)          8            0  \n",
       "154   [[Training]]    [[none]]    (26, 26)          8            0  "
      ]
     },
     "execution_count": 12,
     "metadata": {},
     "output_type": "execute_result"
    }
   ],
   "source": [
    "sub_df.head()"
   ]
  },
  {
   "cell_type": "code",
   "execution_count": 13,
   "metadata": {},
   "outputs": [],
   "source": [
    "x = sw[1:]\n",
    "y = np.array(label).reshape((-1,1))"
   ]
  },
  {
   "cell_type": "code",
   "execution_count": 14,
   "metadata": {},
   "outputs": [
    {
     "name": "stdout",
     "output_type": "stream",
     "text": [
      "x shape : (14366, 26, 26), y shape : (14366, 1)\n"
     ]
    }
   ],
   "source": [
    "print('x shape : {}, y shape : {}'.format(x.shape, y.shape))"
   ]
  },
  {
   "cell_type": "markdown",
   "metadata": {},
   "source": [
    "- 26x26のウエハが14366枚抽出できた．"
   ]
  },
  {
   "cell_type": "markdown",
   "metadata": {},
   "source": [
    "- 最初のデータを可視化してみる．"
   ]
  },
  {
   "cell_type": "code",
   "execution_count": 15,
   "metadata": {},
   "outputs": [
    {
     "data": {
      "image/png": "[encoded data removed]",
      "text/plain": [
       "<Figure size 432x288 with 1 Axes>"
      ]
     },
     "metadata": {},
     "output_type": "display_data"
    },
    {
     "name": "stdout",
     "output_type": "stream",
     "text": [
      "Faulty case : ['none'] \n"
     ]
    }
   ],
   "source": [
    "# plot 1st data\n",
    "plt.imshow(x[0])\n",
    "plt.show()\n",
    "\n",
    "# check faulty case\n",
    "print('Faulty case : {} '.format(y[0]))"
   ]
  },
  {
   "cell_type": "code",
   "execution_count": 16,
   "metadata": {},
   "outputs": [
    {
     "data": {
      "text/plain": [
       "(14366, 26, 26, 1)"
      ]
     },
     "execution_count": 16,
     "metadata": {},
     "output_type": "execute_result"
    }
   ],
   "source": [
    "x = x.reshape((-1, 26, 26, 1))\n",
    "x.shape"
   ]
  },
  {
   "cell_type": "code",
   "execution_count": 17,
   "metadata": {},
   "outputs": [
    {
     "name": "stdout",
     "output_type": "stream",
     "text": [
      "Faulty case list : ['Center' 'Donut' 'Edge-Loc' 'Edge-Ring' 'Loc' 'Near-full' 'Random'\n",
      " 'Scratch' 'none']\n"
     ]
    }
   ],
   "source": [
    "faulty_case = np.unique(y)\n",
    "print('Faulty case list : {}'.format(faulty_case))"
   ]
  },
  {
   "cell_type": "code",
   "execution_count": 18,
   "metadata": {},
   "outputs": [
    {
     "name": "stdout",
     "output_type": "stream",
     "text": [
      "Center : 90\n",
      "Donut : 1\n",
      "Edge-Loc : 296\n",
      "Edge-Ring : 31\n",
      "Loc : 297\n",
      "Near-full : 16\n",
      "Random : 74\n",
      "Scratch : 72\n",
      "none : 13489\n"
     ]
    }
   ],
   "source": [
    "for f in faulty_case :\n",
    "    print('{} : {}'.format(f, len(y[y==f])))"
   ]
  },
  {
   "cell_type": "markdown",
   "metadata": {},
   "source": [
    "- 14366枚の26x26ウエハの不良パターンは上記のようになっている．"
   ]
  },
  {
   "cell_type": "code",
   "execution_count": 19,
   "metadata": {},
   "outputs": [],
   "source": [
    "new_x = np.zeros((len(x), 26, 26, 3))\n",
    "\n",
    "for w in range(len(x)):\n",
    "    for i in range(26):\n",
    "        for j in range(26):\n",
    "            new_x[w, i, j, int(x[w, i, j])] = 1"
   ]
  },
  {
   "cell_type": "code",
   "execution_count": 20,
   "metadata": {},
   "outputs": [
    {
     "data": {
      "text/plain": [
       "(14366, 26, 26, 3)"
      ]
     },
     "execution_count": 20,
     "metadata": {},
     "output_type": "execute_result"
    }
   ],
   "source": [
    "new_x.shape"
   ]
  },
  {
   "cell_type": "markdown",
   "metadata": {},
   "source": [
    "- new_xを(14366, 26, 26, 3)とし，最後の次元にはウエハの値(0, 1, 2)がそれぞれの値毎にベクトルとしてまとめられている．\n",
    "- ウエハデータの各ピクセルは，0:ウエハなし，1:正常，2:不良を表す．"
   ]
  },
  {
   "cell_type": "markdown",
   "metadata": {},
   "source": [
    "### オートエンコーダで学習"
   ]
  },
  {
   "cell_type": "markdown",
   "metadata": {},
   "source": [
    "#### エンコーダとデコーダのモデルを学習"
   ]
  },
  {
   "cell_type": "markdown",
   "metadata": {},
   "source": [
    "- モデルの定義をする．"
   ]
  },
  {
   "cell_type": "code",
   "execution_count": 21,
   "metadata": {},
   "outputs": [],
   "source": [
    "# Encoder\n",
    "input_shape = (26, 26, 3)\n",
    "input_tensor = Input(input_shape)\n",
    "encode = layers.Conv2D(64, (3,3), padding='same', activation='relu')(input_tensor)\n",
    "\n",
    "latent_vector = layers.MaxPool2D()(encode)\n",
    "\n",
    "# Decoder\n",
    "decode_layer_1 = layers.Conv2DTranspose(64, (3,3), padding='same', activation='relu')\n",
    "decode_layer_2 = layers.UpSampling2D()\n",
    "output_tensor = layers.Conv2DTranspose(3, (3,3), padding='same', activation='sigmoid')\n",
    "\n",
    "# connect decoder layers\n",
    "decode = decode_layer_1(latent_vector)\n",
    "decode = decode_layer_2(decode)\n",
    "\n",
    "ae = models.Model(input_tensor, output_tensor(decode))\n",
    "ae.compile(optimizer = 'Adam',\n",
    "              loss = 'mse',\n",
    "             )"
   ]
  },
  {
   "cell_type": "code",
   "execution_count": 22,
   "metadata": {},
   "outputs": [
    {
     "name": "stdout",
     "output_type": "stream",
     "text": [
      "_________________________________________________________________\n",
      "Layer (type)                 Output Shape              Param #   \n",
      "=================================================================\n",
      "input_1 (InputLayer)         (None, 26, 26, 3)         0         \n",
      "_________________________________________________________________\n",
      "conv2d_1 (Conv2D)            (None, 26, 26, 64)        1792      \n",
      "_________________________________________________________________\n",
      "max_pooling2d_1 (MaxPooling2 (None, 13, 13, 64)        0         \n",
      "_________________________________________________________________\n",
      "conv2d_transpose_1 (Conv2DTr (None, 13, 13, 64)        36928     \n",
      "_________________________________________________________________\n",
      "up_sampling2d_1 (UpSampling2 (None, 26, 26, 64)        0         \n",
      "_________________________________________________________________\n",
      "conv2d_transpose_2 (Conv2DTr (None, 26, 26, 3)         1731      \n",
      "=================================================================\n",
      "Total params: 40,451\n",
      "Trainable params: 40,451\n",
      "Non-trainable params: 0\n",
      "_________________________________________________________________\n"
     ]
    }
   ],
   "source": [
    "ae.summary()"
   ]
  },
  {
   "cell_type": "markdown",
   "metadata": {},
   "source": [
    "- 層は\n",
    "    - 入力層\n",
    "    - 畳み込み層\n",
    "    - プーリング層\n",
    "    - 転置畳み込み層\n",
    "    - アップサンプリング層"
   ]
  },
  {
   "cell_type": "code",
   "execution_count": 23,
   "metadata": {},
   "outputs": [],
   "source": [
    "epoch=30\n",
    "batch_size=1024"
   ]
  },
  {
   "cell_type": "markdown",
   "metadata": {},
   "source": [
    "- 学習を開始する．\n",
    "- `new_x`を`new_x`にエンコードしデコードする．"
   ]
  },
  {
   "cell_type": "code",
   "execution_count": 24,
   "metadata": {
    "scrolled": true
   },
   "outputs": [
    {
     "name": "stdout",
     "output_type": "stream",
     "text": [
      "Epoch 1/30\n",
      "14366/14366 [==============================] - 4s 302us/step - loss: 0.1596\n",
      "Epoch 2/30\n",
      "14366/14366 [==============================] - 1s 40us/step - loss: 0.0951\n",
      "Epoch 3/30\n",
      "14366/14366 [==============================] - 1s 43us/step - loss: 0.0872\n",
      "Epoch 4/30\n",
      "14366/14366 [==============================] - 1s 42us/step - loss: 0.0767\n",
      "Epoch 5/30\n",
      "14366/14366 [==============================] - 1s 43us/step - loss: 0.0672\n",
      "Epoch 6/30\n",
      "14366/14366 [==============================] - 1s 42us/step - loss: 0.0583\n",
      "Epoch 7/30\n",
      "14366/14366 [==============================] - 1s 42us/step - loss: 0.0526\n",
      "Epoch 8/30\n",
      "14366/14366 [==============================] - 1s 41us/step - loss: 0.0479\n",
      "Epoch 9/30\n",
      "14366/14366 [==============================] - 1s 42us/step - loss: 0.0431\n",
      "Epoch 10/30\n",
      "14366/14366 [==============================] - 1s 41us/step - loss: 0.0383\n",
      "Epoch 11/30\n",
      "14366/14366 [==============================] - 1s 44us/step - loss: 0.0341\n",
      "Epoch 12/30\n",
      "14366/14366 [==============================] - 1s 43us/step - loss: 0.0306\n",
      "Epoch 13/30\n",
      "14366/14366 [==============================] - 1s 41us/step - loss: 0.0277\n",
      "Epoch 14/30\n",
      "14366/14366 [==============================] - 1s 41us/step - loss: 0.0251\n",
      "Epoch 15/30\n",
      "14366/14366 [==============================] - 1s 40us/step - loss: 0.0229\n",
      "Epoch 16/30\n",
      "14366/14366 [==============================] - 1s 41us/step - loss: 0.0209\n",
      "Epoch 17/30\n",
      "14366/14366 [==============================] - 1s 42us/step - loss: 0.0193\n",
      "Epoch 18/30\n",
      "14366/14366 [==============================] - 1s 41us/step - loss: 0.0179\n",
      "Epoch 19/30\n",
      "14366/14366 [==============================] - 1s 43us/step - loss: 0.0167\n",
      "Epoch 20/30\n",
      "14366/14366 [==============================] - 1s 43us/step - loss: 0.0156\n",
      "Epoch 21/30\n",
      "14366/14366 [==============================] - 1s 44us/step - loss: 0.0146\n",
      "Epoch 22/30\n",
      "14366/14366 [==============================] - 1s 43us/step - loss: 0.0137\n",
      "Epoch 23/30\n",
      "14366/14366 [==============================] - 1s 43us/step - loss: 0.0129\n",
      "Epoch 24/30\n",
      "14366/14366 [==============================] - 1s 40us/step - loss: 0.0122\n",
      "Epoch 25/30\n",
      "14366/14366 [==============================] - 1s 44us/step - loss: 0.0115\n",
      "Epoch 26/30\n",
      "14366/14366 [==============================] - 1s 44us/step - loss: 0.0109\n",
      "Epoch 27/30\n",
      "14366/14366 [==============================] - 1s 43us/step - loss: 0.0104\n",
      "Epoch 28/30\n",
      "14366/14366 [==============================] - 1s 44us/step - loss: 0.0099\n",
      "Epoch 29/30\n",
      "14366/14366 [==============================] - 1s 43us/step - loss: 0.0093\n",
      "Epoch 30/30\n",
      "14366/14366 [==============================] - 1s 42us/step - loss: 0.0088\n"
     ]
    },
    {
     "data": {
      "text/plain": [
       "<keras.callbacks.History at 0x7f6f06271390>"
      ]
     },
     "execution_count": 24,
     "metadata": {},
     "output_type": "execute_result"
    }
   ],
   "source": [
    "# start train\n",
    "ae.fit(new_x, new_x,\n",
    "       batch_size=batch_size,\n",
    "       epochs=epoch,\n",
    "       verbose=1)"
   ]
  },
  {
   "cell_type": "markdown",
   "metadata": {},
   "source": [
    "- エンコーダだけのモデルを定義する．"
   ]
  },
  {
   "cell_type": "code",
   "execution_count": 25,
   "metadata": {},
   "outputs": [],
   "source": [
    "encoder = models.Model(input_tensor, latent_vector)"
   ]
  },
  {
   "cell_type": "markdown",
   "metadata": {},
   "source": [
    "- デコーダだけのモデルを定義する．"
   ]
  },
  {
   "cell_type": "code",
   "execution_count": 26,
   "metadata": {},
   "outputs": [],
   "source": [
    "decoder_input = Input((13, 13, 64))\n",
    "decode = decode_layer_1(decoder_input)\n",
    "decode = decode_layer_2(decode)\n",
    "\n",
    "decoder = models.Model(decoder_input, output_tensor(decode))"
   ]
  },
  {
   "cell_type": "markdown",
   "metadata": {},
   "source": [
    "- `encoder`を使って元のウエハ画像をエンコードする．"
   ]
  },
  {
   "cell_type": "code",
   "execution_count": 27,
   "metadata": {},
   "outputs": [],
   "source": [
    "# Encode original faulty wafer\n",
    "encoded_x = encoder.predict(new_x)"
   ]
  },
  {
   "cell_type": "markdown",
   "metadata": {},
   "source": [
    "- エンコードされた潜伏的な不良ウエハにノイズを負荷する．"
   ]
  },
  {
   "cell_type": "code",
   "execution_count": 28,
   "metadata": {},
   "outputs": [],
   "source": [
    "# Add noise to encoded latent faulty wafers vector.\n",
    "noised_encoded_x = encoded_x + np.random.normal(loc=0, scale=0.1, size = (len(encoded_x), 13, 13, 64))"
   ]
  },
  {
   "cell_type": "markdown",
   "metadata": {},
   "source": [
    "- 元のウエハ画像"
   ]
  },
  {
   "cell_type": "code",
   "execution_count": 29,
   "metadata": {},
   "outputs": [
    {
     "data": {
      "text/plain": [
       "<matplotlib.image.AxesImage at 0x7f6f17c47390>"
      ]
     },
     "execution_count": 29,
     "metadata": {},
     "output_type": "execute_result"
    },
    {
     "data": {
      "image/png": "[encoded data removed]",
      "text/plain": [
       "<Figure size 432x288 with 1 Axes>"
      ]
     },
     "metadata": {},
     "output_type": "display_data"
    }
   ],
   "source": [
    "# check original faulty wafer data\n",
    "plt.imshow(np.argmax(new_x[3], axis=2))"
   ]
  },
  {
   "cell_type": "markdown",
   "metadata": {},
   "source": [
    "- ノイズが付加されたウエハ画像"
   ]
  },
  {
   "cell_type": "code",
   "execution_count": 30,
   "metadata": {},
   "outputs": [
    {
     "data": {
      "text/plain": [
       "<matplotlib.image.AxesImage at 0x7f6f17e39048>"
      ]
     },
     "execution_count": 30,
     "metadata": {},
     "output_type": "execute_result"
    },
    {
     "data": {
      "image/png": "[encoded data removed]",
      "text/plain": [
       "<Figure size 432x288 with 1 Axes>"
      ]
     },
     "metadata": {},
     "output_type": "display_data"
    }
   ],
   "source": [
    "# check new noised faulty wafer data\n",
    "noised_gen_x = np.argmax(decoder.predict(noised_encoded_x), axis=3)\n",
    "plt.imshow(noised_gen_x[3])"
   ]
  },
  {
   "cell_type": "markdown",
   "metadata": {},
   "source": [
    "### データオーギュメンテーション"
   ]
  },
  {
   "cell_type": "markdown",
   "metadata": {},
   "source": [
    "- データオーギュメンテーションを行う関数を定義する．"
   ]
  },
  {
   "cell_type": "code",
   "execution_count": 31,
   "metadata": {},
   "outputs": [],
   "source": [
    "# augment function define\n",
    "def gen_data(wafer, label):\n",
    "    # Encode input wafer\n",
    "    encoded_x = encoder.predict(wafer)\n",
    "    \n",
    "    # dummy array for collecting noised wafer\n",
    "    gen_x = np.zeros((1, 26, 26, 3))\n",
    "    \n",
    "    # Make wafer until total # of wafer to 2000\n",
    "    for i in range((2000//len(wafer)) + 1):\n",
    "        noised_encoded_x = encoded_x + np.random.normal(loc=0, scale=0.1, size = (len(encoded_x), 13, 13, 64)) \n",
    "        noised_gen_x = decoder.predict(noised_encoded_x)\n",
    "        gen_x = np.concatenate((gen_x, noised_gen_x), axis=0)\n",
    "    # also make label vector with same length\n",
    "    gen_y = np.full((len(gen_x), 1), label)\n",
    "    \n",
    "    # return date without 1st dummy data.\n",
    "    return gen_x[1:], gen_y[1:]"
   ]
  },
  {
   "cell_type": "markdown",
   "metadata": {},
   "source": [
    "- 不良ラベルが付いているデータに対してデータオーギュメンテーションを行う．"
   ]
  },
  {
   "cell_type": "code",
   "execution_count": 32,
   "metadata": {},
   "outputs": [],
   "source": [
    "# Augmentation for all faulty case.\n",
    "for f in faulty_case : \n",
    "    # skip none case\n",
    "    if f == 'none' : \n",
    "        continue\n",
    "    \n",
    "    gen_x, gen_y = gen_data(new_x[np.where(y==f)[0]], f)\n",
    "    new_x = np.concatenate((new_x, gen_x), axis=0)\n",
    "    y = np.concatenate((y, gen_y))"
   ]
  },
  {
   "cell_type": "code",
   "execution_count": 33,
   "metadata": {},
   "outputs": [
    {
     "name": "stdout",
     "output_type": "stream",
     "text": [
      "After Generate new_x shape : (30707, 26, 26, 3), new_y shape : (30707, 1)\n"
     ]
    }
   ],
   "source": [
    "print('After Generate new_x shape : {}, new_y shape : {}'.format(new_x.shape, y.shape))"
   ]
  },
  {
   "cell_type": "code",
   "execution_count": 34,
   "metadata": {},
   "outputs": [
    {
     "name": "stdout",
     "output_type": "stream",
     "text": [
      "Center : 2160\n",
      "Donut : 2002\n",
      "Edge-Loc : 2368\n",
      "Edge-Ring : 2046\n",
      "Loc : 2376\n",
      "Near-full : 2032\n",
      "Random : 2146\n",
      "Scratch : 2088\n",
      "none : 13489\n"
     ]
    }
   ],
   "source": [
    "for f in faulty_case :\n",
    "    print('{} : {}'.format(f, len(y[y==f])))"
   ]
  },
  {
   "cell_type": "markdown",
   "metadata": {},
   "source": [
    "- データオーギュメンテーションを行った結果，各不良データごとに2000枚増えた．\n",
    "- 合計は30707枚となった．"
   ]
  },
  {
   "cell_type": "markdown",
   "metadata": {},
   "source": [
    "- 不良ラベルのないデータは削除し，枚数を不良ラベルと同程度にする．"
   ]
  },
  {
   "cell_type": "code",
   "execution_count": 35,
   "metadata": {},
   "outputs": [],
   "source": [
    "none_idx = np.where(y=='none')[0][np.random.choice(len(np.where(y=='none')[0]), size=11000, replace=False)]"
   ]
  },
  {
   "cell_type": "code",
   "execution_count": 36,
   "metadata": {},
   "outputs": [],
   "source": [
    "new_x = np.delete(new_x, none_idx, axis=0)\n",
    "new_y = np.delete(y, none_idx, axis=0)"
   ]
  },
  {
   "cell_type": "code",
   "execution_count": 37,
   "metadata": {},
   "outputs": [
    {
     "name": "stdout",
     "output_type": "stream",
     "text": [
      "After Delete \"none\" class new_x shape : (19707, 26, 26, 3), new_y shape : (19707, 1)\n"
     ]
    }
   ],
   "source": [
    "print('After Delete \"none\" class new_x shape : {}, new_y shape : {}'.format(new_x.shape, new_y.shape))"
   ]
  },
  {
   "cell_type": "code",
   "execution_count": 38,
   "metadata": {},
   "outputs": [
    {
     "name": "stdout",
     "output_type": "stream",
     "text": [
      "Center : 2160\n",
      "Donut : 2002\n",
      "Edge-Loc : 2368\n",
      "Edge-Ring : 2046\n",
      "Loc : 2376\n",
      "Near-full : 2032\n",
      "Random : 2146\n",
      "Scratch : 2088\n",
      "none : 2489\n"
     ]
    }
   ],
   "source": [
    "for f in faulty_case :\n",
    "    print('{} : {}'.format(f, len(new_y[new_y==f])))"
   ]
  },
  {
   "cell_type": "markdown",
   "metadata": {},
   "source": [
    "- 削除した結果，全体は19707枚となった．"
   ]
  },
  {
   "cell_type": "markdown",
   "metadata": {},
   "source": [
    "### 学習を行う\n",
    "- 不良ラベルを0-8の9次元のベクトルとして表現する．\n",
    "- one-hotエンコーディングを行っている．"
   ]
  },
  {
   "cell_type": "code",
   "execution_count": 39,
   "metadata": {},
   "outputs": [],
   "source": [
    "for i, l in enumerate(faulty_case):\n",
    "    new_y[new_y==l] = i"
   ]
  },
  {
   "cell_type": "code",
   "execution_count": 40,
   "metadata": {},
   "outputs": [],
   "source": [
    "# one-hot-encoding\n",
    "new_y = to_categorical(new_y)"
   ]
  },
  {
   "cell_type": "markdown",
   "metadata": {},
   "source": [
    "- 学習データ（学習データと学習時のテストデータ）を分割する．"
   ]
  },
  {
   "cell_type": "code",
   "execution_count": 41,
   "metadata": {},
   "outputs": [
    {
     "data": {
      "text/plain": [
       "(705, 26, 26, 3)"
      ]
     },
     "execution_count": 41,
     "metadata": {},
     "output_type": "execute_result"
    }
   ],
   "source": [
    "new_X=new_x[0:19000]\n",
    "new_Y=new_y[0:19000]\n",
    "test_x=new_x[19001:19706]\n",
    "test_y=new_y[19001:19706]\n",
    "test_x.shape"
   ]
  },
  {
   "cell_type": "markdown",
   "metadata": {},
   "source": [
    "- 学習データを学習データと学習時のテストデータに分割する．"
   ]
  },
  {
   "cell_type": "code",
   "execution_count": 42,
   "metadata": {},
   "outputs": [],
   "source": [
    "x_train, x_test, y_train, y_test = train_test_split(new_X, new_Y,\n",
    "                                                    test_size=0.33,\n",
    "                                                    random_state=2019)"
   ]
  },
  {
   "cell_type": "code",
   "execution_count": 43,
   "metadata": {},
   "outputs": [
    {
     "name": "stdout",
     "output_type": "stream",
     "text": [
      "Train x : (12730, 26, 26, 3), y : (12730, 9)\n",
      "Test x: (6270, 26, 26, 3), y : (6270, 9)\n"
     ]
    }
   ],
   "source": [
    "print('Train x : {}, y : {}'.format(x_train.shape, y_train.shape))\n",
    "print('Test x: {}, y : {}'.format(x_test.shape, y_test.shape))"
   ]
  },
  {
   "cell_type": "markdown",
   "metadata": {},
   "source": [
    "- 学習データ12730枚，テストデータ6270枚．"
   ]
  },
  {
   "cell_type": "markdown",
   "metadata": {},
   "source": [
    "- モデルの定義を行う．"
   ]
  },
  {
   "cell_type": "code",
   "execution_count": 44,
   "metadata": {},
   "outputs": [],
   "source": [
    "def create_model():\n",
    "    input_shape = (26, 26, 3)\n",
    "    input_tensor = Input(input_shape)\n",
    "\n",
    "    conv_1 = layers.Conv2D(16, (3,3), activation='relu', padding='same')(input_tensor)\n",
    "    conv_2 = layers.Conv2D(64, (3,3), activation='relu', padding='same')(conv_1)\n",
    "    conv_3 = layers.Conv2D(128, (3,3), activation='relu', padding='same')(conv_2)\n",
    "\n",
    "    flat = layers.Flatten()(conv_3)\n",
    "\n",
    "    dense_1 = layers.Dense(512, activation='relu')(flat)\n",
    "    dense_2 = layers.Dense(128, activation='relu')(dense_1)\n",
    "    output_tensor = layers.Dense(9, activation='softmax')(dense_2)\n",
    "\n",
    "    model = models.Model(input_tensor, output_tensor)\n",
    "    model.compile(optimizer='Adam',\n",
    "                 loss='categorical_crossentropy',\n",
    "                 metrics=['accuracy'])\n",
    "\n",
    "    return model"
   ]
  },
  {
   "cell_type": "markdown",
   "metadata": {},
   "source": [
    "- 3-Fold Cross validationで分割して学習する．"
   ]
  },
  {
   "cell_type": "code",
   "execution_count": 45,
   "metadata": {
    "scrolled": true
   },
   "outputs": [
    {
     "name": "stdout",
     "output_type": "stream",
     "text": [
      "Epoch 1/30\n",
      "8486/8486 [==============================] - 4s 466us/step - loss: 2.1061 - acc: 0.3189\n",
      "Epoch 2/30\n",
      "8486/8486 [==============================] - 1s 106us/step - loss: 1.0696 - acc: 0.6407\n",
      "Epoch 3/30\n",
      "8486/8486 [==============================] - 1s 106us/step - loss: 0.5923 - acc: 0.7811\n",
      "Epoch 4/30\n",
      "8486/8486 [==============================] - 1s 106us/step - loss: 0.3663 - acc: 0.8736\n",
      "Epoch 5/30\n",
      "8486/8486 [==============================] - 1s 108us/step - loss: 0.2152 - acc: 0.9300\n",
      "Epoch 6/30\n",
      "8486/8486 [==============================] - 1s 106us/step - loss: 0.1059 - acc: 0.9734\n",
      "Epoch 7/30\n",
      "8486/8486 [==============================] - 1s 106us/step - loss: 0.0547 - acc: 0.9885\n",
      "Epoch 8/30\n",
      "8486/8486 [==============================] - 1s 107us/step - loss: 0.0430 - acc: 0.9896\n",
      "Epoch 9/30\n",
      "8486/8486 [==============================] - 1s 107us/step - loss: 0.0242 - acc: 0.9959\n",
      "Epoch 10/30\n",
      "8486/8486 [==============================] - 1s 107us/step - loss: 0.0153 - acc: 0.9973\n",
      "Epoch 11/30\n",
      "8486/8486 [==============================] - 1s 106us/step - loss: 0.0100 - acc: 0.9988\n",
      "Epoch 12/30\n",
      "8486/8486 [==============================] - 1s 106us/step - loss: 0.0094 - acc: 0.9985\n",
      "Epoch 13/30\n",
      "8486/8486 [==============================] - 1s 104us/step - loss: 0.0046 - acc: 0.9992\n",
      "Epoch 14/30\n",
      "8486/8486 [==============================] - 1s 106us/step - loss: 0.0044 - acc: 0.9992\n",
      "Epoch 15/30\n",
      "8486/8486 [==============================] - 1s 108us/step - loss: 0.0054 - acc: 0.9986\n",
      "Epoch 16/30\n",
      "8486/8486 [==============================] - 1s 107us/step - loss: 0.0038 - acc: 0.9992\n",
      "Epoch 17/30\n",
      "8486/8486 [==============================] - 1s 106us/step - loss: 0.0040 - acc: 0.9991\n",
      "Epoch 18/30\n",
      "8486/8486 [==============================] - 1s 107us/step - loss: 0.0045 - acc: 0.9985\n",
      "Epoch 19/30\n",
      "8486/8486 [==============================] - 1s 107us/step - loss: 0.0040 - acc: 0.9985\n",
      "Epoch 20/30\n",
      "8486/8486 [==============================] - 1s 107us/step - loss: 0.0044 - acc: 0.9988\n",
      "Epoch 21/30\n",
      "8486/8486 [==============================] - 1s 106us/step - loss: 0.0042 - acc: 0.9987\n",
      "Epoch 22/30\n",
      "8486/8486 [==============================] - 1s 106us/step - loss: 0.0038 - acc: 0.9993\n",
      "Epoch 23/30\n",
      "8486/8486 [==============================] - 1s 107us/step - loss: 0.0021 - acc: 0.9994\n",
      "Epoch 24/30\n",
      "8486/8486 [==============================] - 1s 107us/step - loss: 0.0033 - acc: 0.9989\n",
      "Epoch 25/30\n",
      "8486/8486 [==============================] - 1s 108us/step - loss: 0.0036 - acc: 0.9993\n",
      "Epoch 26/30\n",
      "8486/8486 [==============================] - 1s 107us/step - loss: 0.0041 - acc: 0.9991\n",
      "Epoch 27/30\n",
      "8486/8486 [==============================] - 1s 108us/step - loss: 0.0043 - acc: 0.9988\n",
      "Epoch 28/30\n",
      "8486/8486 [==============================] - 1s 107us/step - loss: 0.0020 - acc: 0.9995\n",
      "Epoch 29/30\n",
      "8486/8486 [==============================] - 1s 108us/step - loss: 0.0033 - acc: 0.9988\n",
      "Epoch 30/30\n",
      "8486/8486 [==============================] - 1s 107us/step - loss: 0.0047 - acc: 0.9991\n",
      "4244/4244 [==============================] - 0s 63us/step\n",
      "Epoch 1/30\n",
      "8487/8487 [==============================] - 2s 229us/step - loss: 2.1078 - acc: 0.3173\n",
      "Epoch 2/30\n",
      "8487/8487 [==============================] - 1s 108us/step - loss: 0.9217 - acc: 0.6754\n",
      "Epoch 3/30\n",
      "8487/8487 [==============================] - 1s 108us/step - loss: 0.5832 - acc: 0.7940\n",
      "Epoch 4/30\n",
      "8487/8487 [==============================] - 1s 107us/step - loss: 0.4095 - acc: 0.8715\n",
      "Epoch 5/30\n",
      "8487/8487 [==============================] - 1s 106us/step - loss: 0.2464 - acc: 0.9255\n",
      "Epoch 6/30\n",
      "8487/8487 [==============================] - 1s 107us/step - loss: 0.1581 - acc: 0.9522\n",
      "Epoch 7/30\n",
      "8487/8487 [==============================] - 1s 106us/step - loss: 0.0958 - acc: 0.9744\n",
      "Epoch 8/30\n",
      "8487/8487 [==============================] - 1s 108us/step - loss: 0.0552 - acc: 0.9862\n",
      "Epoch 9/30\n",
      "8487/8487 [==============================] - 1s 108us/step - loss: 0.0416 - acc: 0.9912\n",
      "Epoch 10/30\n",
      "8487/8487 [==============================] - 1s 107us/step - loss: 0.0206 - acc: 0.9962\n",
      "Epoch 11/30\n",
      "8487/8487 [==============================] - 1s 106us/step - loss: 0.0159 - acc: 0.9974\n",
      "Epoch 12/30\n",
      "8487/8487 [==============================] - 1s 107us/step - loss: 0.0152 - acc: 0.9968\n",
      "Epoch 13/30\n",
      "8487/8487 [==============================] - 1s 108us/step - loss: 0.0102 - acc: 0.9984\n",
      "Epoch 14/30\n",
      "8487/8487 [==============================] - 1s 107us/step - loss: 0.0092 - acc: 0.9987\n",
      "Epoch 15/30\n",
      "8487/8487 [==============================] - 1s 106us/step - loss: 0.0079 - acc: 0.9985\n",
      "Epoch 16/30\n",
      "8487/8487 [==============================] - 1s 107us/step - loss: 0.0065 - acc: 0.9992\n",
      "Epoch 17/30\n",
      "8487/8487 [==============================] - 1s 108us/step - loss: 0.0057 - acc: 0.9989\n",
      "Epoch 18/30\n",
      "8487/8487 [==============================] - 1s 107us/step - loss: 0.0098 - acc: 0.9978\n",
      "Epoch 19/30\n",
      "8487/8487 [==============================] - 1s 107us/step - loss: 0.0071 - acc: 0.9986\n",
      "Epoch 20/30\n",
      "8487/8487 [==============================] - 1s 106us/step - loss: 0.0056 - acc: 0.9988\n",
      "Epoch 21/30\n",
      "8487/8487 [==============================] - 1s 107us/step - loss: 0.0053 - acc: 0.9986\n",
      "Epoch 22/30\n",
      "8487/8487 [==============================] - 1s 106us/step - loss: 0.0043 - acc: 0.9987\n",
      "Epoch 23/30\n",
      "8487/8487 [==============================] - 1s 104us/step - loss: 0.0038 - acc: 0.9989\n",
      "Epoch 24/30\n",
      "8487/8487 [==============================] - 1s 107us/step - loss: 0.0032 - acc: 0.9992\n",
      "Epoch 25/30\n",
      "8487/8487 [==============================] - 1s 108us/step - loss: 0.0036 - acc: 0.9992\n",
      "Epoch 26/30\n",
      "8487/8487 [==============================] - 1s 106us/step - loss: 0.0034 - acc: 0.9988\n",
      "Epoch 27/30\n",
      "8487/8487 [==============================] - 1s 106us/step - loss: 0.0031 - acc: 0.9993\n",
      "Epoch 28/30\n",
      "8487/8487 [==============================] - 1s 107us/step - loss: 0.0027 - acc: 0.9992\n",
      "Epoch 29/30\n",
      "8487/8487 [==============================] - 1s 106us/step - loss: 0.0027 - acc: 0.9992\n",
      "Epoch 30/30\n",
      "8487/8487 [==============================] - 1s 108us/step - loss: 0.0040 - acc: 0.9987\n",
      "4243/4243 [==============================] - 0s 70us/step\n",
      "Epoch 1/30\n",
      "8487/8487 [==============================] - 2s 232us/step - loss: 1.7681 - acc: 0.4083\n",
      "Epoch 2/30\n",
      "8487/8487 [==============================] - 1s 107us/step - loss: 0.8180 - acc: 0.6873\n",
      "Epoch 3/30\n",
      "8487/8487 [==============================] - 1s 108us/step - loss: 0.4290 - acc: 0.8682\n",
      "Epoch 4/30\n",
      "8487/8487 [==============================] - 1s 109us/step - loss: 0.2018 - acc: 0.9393\n",
      "Epoch 5/30\n",
      "8487/8487 [==============================] - 1s 106us/step - loss: 0.1020 - acc: 0.9690\n",
      "Epoch 6/30\n",
      "8487/8487 [==============================] - 1s 107us/step - loss: 0.0568 - acc: 0.9859\n",
      "Epoch 7/30\n",
      "8487/8487 [==============================] - 1s 107us/step - loss: 0.0281 - acc: 0.9943\n",
      "Epoch 8/30\n",
      "8487/8487 [==============================] - 1s 107us/step - loss: 0.0157 - acc: 0.9972\n",
      "Epoch 9/30\n",
      "8487/8487 [==============================] - 1s 109us/step - loss: 0.0093 - acc: 0.9980\n",
      "Epoch 10/30\n",
      "8487/8487 [==============================] - 1s 107us/step - loss: 0.0076 - acc: 0.9985\n",
      "Epoch 11/30\n",
      "8487/8487 [==============================] - 1s 108us/step - loss: 0.0065 - acc: 0.9982\n",
      "Epoch 12/30\n",
      "8487/8487 [==============================] - 1s 109us/step - loss: 0.0093 - acc: 0.9984\n",
      "Epoch 13/30\n",
      "8487/8487 [==============================] - 1s 107us/step - loss: 0.0077 - acc: 0.9985\n",
      "Epoch 14/30\n",
      "8487/8487 [==============================] - 1s 107us/step - loss: 0.0090 - acc: 0.9982\n",
      "Epoch 15/30\n",
      "8487/8487 [==============================] - 1s 108us/step - loss: 0.0062 - acc: 0.9986\n",
      "Epoch 16/30\n",
      "8487/8487 [==============================] - 1s 108us/step - loss: 0.0057 - acc: 0.9988\n",
      "Epoch 17/30\n",
      "8487/8487 [==============================] - 1s 108us/step - loss: 0.0063 - acc: 0.9987\n",
      "Epoch 18/30\n",
      "8487/8487 [==============================] - 1s 107us/step - loss: 0.0053 - acc: 0.9991\n",
      "Epoch 19/30\n",
      "8487/8487 [==============================] - 1s 107us/step - loss: 0.0047 - acc: 0.9986\n",
      "Epoch 20/30\n",
      "8487/8487 [==============================] - 1s 108us/step - loss: 0.0044 - acc: 0.9985\n",
      "Epoch 21/30\n",
      "8487/8487 [==============================] - 1s 109us/step - loss: 0.0047 - acc: 0.9985\n",
      "Epoch 22/30\n"
     ]
    },
    {
     "name": "stdout",
     "output_type": "stream",
     "text": [
      "8487/8487 [==============================] - 1s 108us/step - loss: 0.0050 - acc: 0.9984\n",
      "Epoch 23/30\n",
      "8487/8487 [==============================] - 1s 107us/step - loss: 0.0056 - acc: 0.9980\n",
      "Epoch 24/30\n",
      "8487/8487 [==============================] - 1s 108us/step - loss: 0.0115 - acc: 0.9984\n",
      "Epoch 25/30\n",
      "8487/8487 [==============================] - 1s 107us/step - loss: 0.0056 - acc: 0.9987\n",
      "Epoch 26/30\n",
      "8487/8487 [==============================] - 1s 109us/step - loss: 0.0058 - acc: 0.9982\n",
      "Epoch 27/30\n",
      "8487/8487 [==============================] - 1s 107us/step - loss: 0.0053 - acc: 0.9984\n",
      "Epoch 28/30\n",
      "8487/8487 [==============================] - 1s 107us/step - loss: 0.0031 - acc: 0.9992\n",
      "Epoch 29/30\n",
      "8487/8487 [==============================] - 1s 107us/step - loss: 0.0056 - acc: 0.9980\n",
      "Epoch 30/30\n",
      "8487/8487 [==============================] - 1s 107us/step - loss: 0.0061 - acc: 0.9981\n",
      "4243/4243 [==============================] - 0s 74us/step\n",
      "Simple CNN Cross validation score : 0.9921\n"
     ]
    }
   ],
   "source": [
    "model = KerasClassifier(build_fn=create_model, epochs=30, batch_size=1024, verbose=1) \n",
    "# 3-Fold Crossvalidation\n",
    "kfold = KFold(n_splits=3, shuffle=True, random_state=2019) \n",
    "results = cross_val_score(model, x_train, y_train, cv=kfold)\n",
    "# Check 3-fold model's mean accuracy\n",
    "print('Simple CNN Cross validation score : {:.4f}'.format(np.mean(results)))"
   ]
  },
  {
   "cell_type": "markdown",
   "metadata": {},
   "source": [
    "- Cross validiationによる精度は99.10%であった．"
   ]
  },
  {
   "cell_type": "markdown",
   "metadata": {},
   "source": [
    "- Cross validationなしで学習する．"
   ]
  },
  {
   "cell_type": "code",
   "execution_count": 46,
   "metadata": {
    "scrolled": true
   },
   "outputs": [
    {
     "name": "stdout",
     "output_type": "stream",
     "text": [
      "Train on 12730 samples, validate on 6270 samples\n",
      "Epoch 1/30\n",
      "12730/12730 [==============================] - 3s 232us/step - loss: 2.0990 - acc: 0.3574 - val_loss: 0.9998 - val_acc: 0.6879\n",
      "Epoch 2/30\n",
      "12730/12730 [==============================] - 2s 124us/step - loss: 0.7575 - acc: 0.7283 - val_loss: 0.4982 - val_acc: 0.8230\n",
      "Epoch 3/30\n",
      "12730/12730 [==============================] - 2s 125us/step - loss: 0.4097 - acc: 0.8553 - val_loss: 0.3038 - val_acc: 0.9121\n",
      "Epoch 4/30\n",
      "12730/12730 [==============================] - 2s 125us/step - loss: 0.2148 - acc: 0.9386 - val_loss: 0.1526 - val_acc: 0.9584\n",
      "Epoch 5/30\n",
      "12730/12730 [==============================] - 2s 124us/step - loss: 0.1147 - acc: 0.9671 - val_loss: 0.0822 - val_acc: 0.9788\n",
      "Epoch 6/30\n",
      "12730/12730 [==============================] - 2s 126us/step - loss: 0.0573 - acc: 0.9865 - val_loss: 0.0546 - val_acc: 0.9861\n",
      "Epoch 7/30\n",
      "12730/12730 [==============================] - 2s 124us/step - loss: 0.0401 - acc: 0.9910 - val_loss: 0.0529 - val_acc: 0.9863\n",
      "Epoch 8/30\n",
      "12730/12730 [==============================] - 2s 124us/step - loss: 0.0278 - acc: 0.9941 - val_loss: 0.0341 - val_acc: 0.9933\n",
      "Epoch 9/30\n",
      "12730/12730 [==============================] - 2s 126us/step - loss: 0.0159 - acc: 0.9974 - val_loss: 0.0317 - val_acc: 0.9900\n",
      "Epoch 10/30\n",
      "12730/12730 [==============================] - 2s 125us/step - loss: 0.0114 - acc: 0.9982 - val_loss: 0.0238 - val_acc: 0.9944\n",
      "Epoch 11/30\n",
      "12730/12730 [==============================] - 2s 123us/step - loss: 0.0088 - acc: 0.9984 - val_loss: 0.0233 - val_acc: 0.9935\n",
      "Epoch 12/30\n",
      "12730/12730 [==============================] - 2s 124us/step - loss: 0.0076 - acc: 0.9986 - val_loss: 0.0212 - val_acc: 0.9954\n",
      "Epoch 13/30\n",
      "12730/12730 [==============================] - 2s 124us/step - loss: 0.0077 - acc: 0.9986 - val_loss: 0.0295 - val_acc: 0.9936\n",
      "Epoch 14/30\n",
      "12730/12730 [==============================] - 2s 124us/step - loss: 0.0070 - acc: 0.9985 - val_loss: 0.0249 - val_acc: 0.9947\n",
      "Epoch 15/30\n",
      "12730/12730 [==============================] - 2s 125us/step - loss: 0.0055 - acc: 0.9989 - val_loss: 0.0257 - val_acc: 0.9952\n",
      "Epoch 16/30\n",
      "12730/12730 [==============================] - 2s 124us/step - loss: 0.0066 - acc: 0.9987 - val_loss: 0.0218 - val_acc: 0.9946\n",
      "Epoch 17/30\n",
      "12730/12730 [==============================] - 2s 124us/step - loss: 0.0057 - acc: 0.9987 - val_loss: 0.0238 - val_acc: 0.9951\n",
      "Epoch 18/30\n",
      "12730/12730 [==============================] - 2s 126us/step - loss: 0.0069 - acc: 0.9984 - val_loss: 0.0194 - val_acc: 0.9947\n",
      "Epoch 19/30\n",
      "12730/12730 [==============================] - 2s 125us/step - loss: 0.0058 - acc: 0.9983 - val_loss: 0.0344 - val_acc: 0.9946\n",
      "Epoch 20/30\n",
      "12730/12730 [==============================] - 2s 125us/step - loss: 0.0080 - acc: 0.9987 - val_loss: 0.0236 - val_acc: 0.9947\n",
      "Epoch 21/30\n",
      "12730/12730 [==============================] - 2s 126us/step - loss: 0.0062 - acc: 0.9991 - val_loss: 0.0269 - val_acc: 0.9952\n",
      "Epoch 22/30\n",
      "12730/12730 [==============================] - 2s 124us/step - loss: 0.0057 - acc: 0.9987 - val_loss: 0.0193 - val_acc: 0.9949\n",
      "Epoch 23/30\n",
      "12730/12730 [==============================] - 2s 123us/step - loss: 0.0050 - acc: 0.9989 - val_loss: 0.0203 - val_acc: 0.9960\n",
      "Epoch 24/30\n",
      "12730/12730 [==============================] - 2s 125us/step - loss: 0.0055 - acc: 0.9988 - val_loss: 0.0213 - val_acc: 0.9944\n",
      "Epoch 25/30\n",
      "12730/12730 [==============================] - 2s 125us/step - loss: 0.0059 - acc: 0.9988 - val_loss: 0.0272 - val_acc: 0.9943\n",
      "Epoch 26/30\n",
      "12730/12730 [==============================] - 2s 126us/step - loss: 0.0050 - acc: 0.9991 - val_loss: 0.0250 - val_acc: 0.9938\n",
      "Epoch 27/30\n",
      "12730/12730 [==============================] - 2s 125us/step - loss: 0.0046 - acc: 0.9991 - val_loss: 0.0376 - val_acc: 0.9936\n",
      "Epoch 28/30\n",
      "12730/12730 [==============================] - 2s 125us/step - loss: 0.0070 - acc: 0.9987 - val_loss: 0.0326 - val_acc: 0.9936\n",
      "Epoch 29/30\n",
      "12730/12730 [==============================] - 2s 124us/step - loss: 0.0046 - acc: 0.9990 - val_loss: 0.0191 - val_acc: 0.9957\n",
      "Epoch 30/30\n",
      "12730/12730 [==============================] - 2s 125us/step - loss: 0.0038 - acc: 0.9991 - val_loss: 0.0219 - val_acc: 0.9941\n"
     ]
    }
   ],
   "source": [
    "history = model.fit(x_train, y_train,\n",
    "         validation_data=[x_test, y_test],\n",
    "         epochs=epoch,\n",
    "         batch_size=batch_size,\n",
    "         verbose=1           \n",
    "         )"
   ]
  },
  {
   "cell_type": "markdown",
   "metadata": {},
   "source": [
    "- テストデータで評価．    "
   ]
  },
  {
   "cell_type": "code",
   "execution_count": 47,
   "metadata": {},
   "outputs": [
    {
     "name": "stdout",
     "output_type": "stream",
     "text": [
      "6270/6270 [==============================] - 0s 39us/step\n",
      "Testing Accuracy: 0.9940988835915804\n"
     ]
    }
   ],
   "source": [
    "score = model.score(x_test, y_test)\n",
    "#print('Test Loss:', score[0])\n",
    "#print('Test accuracy:', score[1])\n",
    "print('Testing Accuracy:',score)"
   ]
  },
  {
   "cell_type": "markdown",
   "metadata": {},
   "source": [
    "- acuurayは99.31%であった．"
   ]
  },
  {
   "cell_type": "markdown",
   "metadata": {},
   "source": [
    "- モデルは以下．\n",
    "    - 入力層\n",
    "    - 畳み込み層3つ\n",
    "    - Flatten層（1次元に）\n",
    "    - 全結合層3つ"
   ]
  },
  {
   "cell_type": "code",
   "execution_count": 48,
   "metadata": {
    "scrolled": true
   },
   "outputs": [
    {
     "name": "stdout",
     "output_type": "stream",
     "text": [
      "_________________________________________________________________\n",
      "Layer (type)                 Output Shape              Param #   \n",
      "=================================================================\n",
      "input_6 (InputLayer)         (None, 26, 26, 3)         0         \n",
      "_________________________________________________________________\n",
      "conv2d_11 (Conv2D)           (None, 26, 26, 16)        448       \n",
      "_________________________________________________________________\n",
      "conv2d_12 (Conv2D)           (None, 26, 26, 64)        9280      \n",
      "_________________________________________________________________\n",
      "conv2d_13 (Conv2D)           (None, 26, 26, 128)       73856     \n",
      "_________________________________________________________________\n",
      "flatten_4 (Flatten)          (None, 86528)             0         \n",
      "_________________________________________________________________\n",
      "dense_10 (Dense)             (None, 512)               44302848  \n",
      "_________________________________________________________________\n",
      "dense_11 (Dense)             (None, 128)               65664     \n",
      "_________________________________________________________________\n",
      "dense_12 (Dense)             (None, 9)                 1161      \n",
      "=================================================================\n",
      "Total params: 44,453,257\n",
      "Trainable params: 44,453,257\n",
      "Non-trainable params: 0\n",
      "_________________________________________________________________\n"
     ]
    }
   ],
   "source": [
    "model.model.summary()"
   ]
  },
  {
   "cell_type": "markdown",
   "metadata": {},
   "source": [
    "- accuracyグラフ，lossグラフは以下．\n",
    "- 5epoch程度で落ち着いている．"
   ]
  },
  {
   "cell_type": "code",
   "execution_count": 49,
   "metadata": {},
   "outputs": [
    {
     "data": {
      "image/png": "[encoded data removed]",
      "text/plain": [
       "<Figure size 432x288 with 1 Axes>"
      ]
     },
     "metadata": {},
     "output_type": "display_data"
    },
    {
     "data": {
      "image/png": "[encoded data removed]",
      "text/plain": [
       "<Figure size 432x288 with 1 Axes>"
      ]
     },
     "metadata": {},
     "output_type": "display_data"
    }
   ],
   "source": [
    "# accuracy plot \n",
    "plt.plot(history.history['acc'])\n",
    "plt.plot(history.history['val_acc'])\n",
    "plt.title('model accuracy')\n",
    "plt.ylabel('accuracy')\n",
    "plt.xlabel('epoch')\n",
    "plt.legend(['train', 'test'], loc='upper left')\n",
    "plt.show()\n",
    "\n",
    "# loss plot\n",
    "plt.plot(history.history['loss'])\n",
    "plt.plot(history.history['val_loss'])\n",
    "plt.title('model loss')\n",
    "plt.ylabel('loss')\n",
    "plt.xlabel('epoch')\n",
    "plt.legend(['train', 'test'], loc='upper left')\n",
    "plt.show()"
   ]
  },
  {
   "cell_type": "code",
   "execution_count": 83,
   "metadata": {},
   "outputs": [
    {
     "name": "stdout",
     "output_type": "stream",
     "text": [
      "12730/12730 [==============================] - 1s 42us/step\n",
      "6270/6270 [==============================] - 0s 38us/step\n",
      "4\n",
      "4\n",
      "Training acc: 99.89787902592302\n",
      "Testing acc: 99.40988835725678\n",
      "y_train_pred[:100]:  [4 1 0 5 0 2 5 5 7 2 1 4 4 4 6 2 4 8 5 0 3 3 1 4 3 2 6 8 8 1 8 7 0 5 6 2 1\n",
      " 6 1 4 4 0 2 2 6 4 0 0 2 4 2 3 0 6 4 5 6 7 1 3 0 2 5 2 5 7 5 0 7 0 0 2 8 3\n",
      " 8 5 4 2 7 2 8 6 0 1 4 2 2 8 3 6 1 7 2 5 0 8 2 2 4 8]\n",
      "y_train_max[:100]:  [4 1 0 5 0 2 5 5 7 2 1 4 4 4 6 2 4 8 5 0 3 3 1 4 3 2 6 8 8 1 8 7 0 5 6 2 1\n",
      " 6 1 4 4 0 2 2 6 4 0 0 2 4 2 3 0 6 4 5 6 7 1 3 0 2 5 2 5 7 5 0 7 0 0 2 8 3\n",
      " 8 5 4 2 7 2 8 6 0 1 4 2 2 8 3 6 1 7 2 5 0 8 2 2 4 8]\n"
     ]
    }
   ],
   "source": [
    "#y_train_pred = np.argmax(model.predict(x_train))\n",
    "y_train_pred = model.predict(x_train)\n",
    "y_test_pred = model.predict(x_test)\n",
    "y_train_max = np.argmax(y_train, axis=1)\n",
    "y_test_max = np.argmax(y_test, axis=1)\n",
    "\n",
    "print(y_train_max[0])\n",
    "print(y_train_pred[0])\n",
    "\n",
    "train_acc2 = np.sum(y_train_max == y_train_pred, axis=0, dtype='float') / x_train.shape[0]\n",
    "test_acc2 = np.sum(y_test_max == y_test_pred, axis=0, dtype='float') / x_test.shape[0]\n",
    "print('Training acc: {}'.format(train_acc2*100))\n",
    "print('Testing acc: {}'.format(test_acc2*100))\n",
    "print(\"y_train_pred[:100]: \", y_train_pred[:100])\n",
    "print (\"y_train_max[:100]: \", y_train_max[:100])"
   ]
  },
  {
   "cell_type": "markdown",
   "metadata": {},
   "source": [
    "### 混同行列"
   ]
  },
  {
   "cell_type": "code",
   "execution_count": 84,
   "metadata": {},
   "outputs": [],
   "source": [
    "import itertools\n",
    "from sklearn.metrics import confusion_matrix\n",
    "\n",
    "def plot_confusion_matrix(cm, normalize=False, title='Confusion matrix', cmap=plt.cm.Blues):\n",
    "    \"\"\"\n",
    "    This function prints and plots the confusion matrix.\n",
    "    Normalization can be applied by setting `normalize=True`.\n",
    "    \"\"\"\n",
    "    if normalize:\n",
    "        cm = cm.astype('float') / cm.sum(axis=1)[:, np.newaxis]\n",
    "        print(\"Normalized confusion matrix\")\n",
    "    else:\n",
    "        print('Confusion matrix, without normalization')\n",
    "\n",
    "    #print(cm)\n",
    "\n",
    "    plt.imshow(cm, interpolation='nearest', cmap=cmap)\n",
    "    plt.title(title)\n",
    "    plt.colorbar()\n",
    "\n",
    "    fmt = '.2f' if normalize else 'd'\n",
    "    thresh = cm.max() / 2.\n",
    "    for i, j in itertools.product(range(cm.shape[0]), range(cm.shape[1])):\n",
    "        plt.text(j, i, format(cm[i, j], fmt),\n",
    "                 horizontalalignment=\"center\",\n",
    "                 color=\"white\" if cm[i, j] > thresh else \"black\")\n",
    "\n",
    "    plt.tight_layout()\n",
    "    plt.ylabel('True label')\n",
    "    plt.xlabel('Predicted label')"
   ]
  },
  {
   "cell_type": "code",
   "execution_count": 85,
   "metadata": {},
   "outputs": [
    {
     "name": "stdout",
     "output_type": "stream",
     "text": [
      "Confusion matrix, without normalization\n",
      "Normalized confusion matrix\n"
     ]
    },
    {
     "data": {
      "image/png": "[encoded data removed]",
      "text/plain": [
       "<Figure size 576x1080 with 4 Axes>"
      ]
     },
     "metadata": {},
     "output_type": "display_data"
    }
   ],
   "source": [
    "# Compute confusion matrix\n",
    "cnf_matrix = confusion_matrix(y_test_max, y_test_pred)\n",
    "np.set_printoptions(precision=2)\n",
    "\n",
    "from matplotlib import gridspec\n",
    "fig = plt.figure(figsize=(8, 15)) \n",
    "gs = gridspec.GridSpec(2, 1, height_ratios=[1, 1]) \n",
    "\n",
    "## Plot non-normalized confusion matrix\n",
    "plt.subplot(gs[0])\n",
    "plot_confusion_matrix(cnf_matrix, title='Confusion matrix')\n",
    "\n",
    "# Plot normalized confusion matrix\n",
    "plt.subplot(gs[1])\n",
    "plot_confusion_matrix(cnf_matrix, normalize=True, title='Normalized confusion matrix')\n",
    "\n",
    "plt.show()"
   ]
  }
 ],
 "metadata": {
  "kernelspec": {
   "display_name": "Python 3 (Anaconda)",
   "language": "python",
   "name": "python3_anaconda"
  },
  "language_info": {
   "codemirror_mode": {
    "name": "ipython",
    "version": 3
   },
   "file_extension": ".py",
   "mimetype": "text/x-python",
   "name": "python",
   "nbconvert_exporter": "python",
   "pygments_lexer": "ipython3",
   "version": "3.6.8"
  }
 },
 "nbformat": 4,
 "nbformat_minor": 2
}
