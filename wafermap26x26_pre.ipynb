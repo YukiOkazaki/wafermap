{
 "cells": [
  {
   "cell_type": "markdown",
   "metadata": {},
   "source": [
    "## 26x26のウエハに限定して機械学習させる\n",
    "- データオーギュメンテーション（鏡映，回転を追加）"
   ]
  },
  {
   "cell_type": "markdown",
   "metadata": {},
   "source": [
    "### import，入力データの読み込み"
   ]
  },
  {
   "cell_type": "code",
   "execution_count": 1,
   "metadata": {},
   "outputs": [
    {
     "name": "stdout",
     "output_type": "stream",
     "text": [
      "../input/LSWMD.pkl\n"
     ]
    }
   ],
   "source": [
    "# This Python 3 environment comes with many helpful analytics libraries installed\n",
    "# It is defined by the kaggle/python docker image: https://github.com/kaggle/docker-python\n",
    "# For example, here's several helpful packages to load in \n",
    "\n",
    "import numpy as np # linear algebra\n",
    "import pandas as pd # data processing, CSV file I/O (e.g. pd.read_csv)\n",
    "\n",
    "# Input data files are available in the \"../input/\" directory.\n",
    "# For example, running this (by clicking run or pressing Shift+Enter) will list all files under the input directory\n",
    "\n",
    "import os\n",
    "for dirname, _, filenames in os.walk('../input'):\n",
    "    for filename in filenames:\n",
    "        print(os.path.join(dirname, filename))\n",
    "\n",
    "# Any results you write to the current directory are saved as output."
   ]
  },
  {
   "cell_type": "code",
   "execution_count": 2,
   "metadata": {
    "scrolled": true
   },
   "outputs": [
    {
     "name": "stdout",
     "output_type": "stream",
     "text": [
      "using GPU: 0,1\n"
     ]
    },
    {
     "name": "stderr",
     "output_type": "stream",
     "text": [
      "Using TensorFlow backend.\n"
     ]
    },
    {
     "name": "stdout",
     "output_type": "stream",
     "text": [
      "['LSWMD.pkl']\n"
     ]
    }
   ],
   "source": [
    "import os\n",
    "from os.path import join\n",
    "os.environ[\"CUDA_VISIBLE_DEVICES\"] = \"0,1\"\n",
    "\n",
    "import numpy as np\n",
    "import pandas as pd\n",
    "import cv2\n",
    "\n",
    "from sklearn.model_selection import KFold \n",
    "from sklearn.model_selection import cross_val_score\n",
    "from sklearn.model_selection import train_test_split\n",
    "\n",
    "import tensorflow as tf\n",
    "import keras\n",
    "from keras import layers, Input, models\n",
    "from keras.utils import to_categorical\n",
    "from keras.wrappers.scikit_learn import KerasClassifier \n",
    "\n",
    "\n",
    "import matplotlib.pyplot as plt\n",
    "\n",
    "from keras.preprocessing import image\n",
    "from keras.preprocessing.image import ImageDataGenerator\n",
    "\n",
    "datapath = join('data', 'wafer')\n",
    "\n",
    "print(os.listdir(\"../input\"))\n",
    "import warnings\n",
    "warnings.filterwarnings(\"ignore\")"
   ]
  },
  {
   "cell_type": "markdown",
   "metadata": {},
   "source": [
    "### データについて"
   ]
  },
  {
   "cell_type": "code",
   "execution_count": 3,
   "metadata": {
    "scrolled": false
   },
   "outputs": [
    {
     "name": "stdout",
     "output_type": "stream",
     "text": [
      "<class 'pandas.core.frame.DataFrame'>\n",
      "RangeIndex: 811457 entries, 0 to 811456\n",
      "Data columns (total 6 columns):\n",
      " #   Column          Non-Null Count   Dtype  \n",
      "---  ------          --------------   -----  \n",
      " 0   waferMap        811457 non-null  object \n",
      " 1   dieSize         811457 non-null  float64\n",
      " 2   lotName         811457 non-null  object \n",
      " 3   waferIndex      811457 non-null  float64\n",
      " 4   trianTestLabel  811457 non-null  object \n",
      " 5   failureType     811457 non-null  object \n",
      "dtypes: float64(2), object(4)\n",
      "memory usage: 37.1+ MB\n"
     ]
    }
   ],
   "source": [
    "df=pd.read_pickle(\"../input/LSWMD.pkl\")\n",
    "df.info()"
   ]
  },
  {
   "cell_type": "markdown",
   "metadata": {},
   "source": [
    "- データセットは811,457枚のウエハマップから構成されている．"
   ]
  },
  {
   "cell_type": "markdown",
   "metadata": {},
   "source": [
    "- ウエハマップのそれぞれの列から得られる情報はないが，インスタンスごとにダイサイズが異なることがわかる．\n",
    "- ウエハマップのダイサイズをチェックするための変数`WaferMapDim`を定義する．（縦，横の値）"
   ]
  },
  {
   "cell_type": "code",
   "execution_count": 4,
   "metadata": {},
   "outputs": [],
   "source": [
    "df = df.drop(['waferIndex'], axis = 1)"
   ]
  },
  {
   "cell_type": "code",
   "execution_count": 5,
   "metadata": {},
   "outputs": [
    {
     "data": {
      "text/html": [
       "<div>\n",
       "<style scoped>\n",
       "    .dataframe tbody tr th:only-of-type {\n",
       "        vertical-align: middle;\n",
       "    }\n",
       "\n",
       "    .dataframe tbody tr th {\n",
       "        vertical-align: top;\n",
       "    }\n",
       "\n",
       "    .dataframe thead th {\n",
       "        text-align: right;\n",
       "    }\n",
       "</style>\n",
       "<table border=\"1\" class=\"dataframe\">\n",
       "  <thead>\n",
       "    <tr style=\"text-align: right;\">\n",
       "      <th></th>\n",
       "      <th>waferMap</th>\n",
       "      <th>dieSize</th>\n",
       "      <th>lotName</th>\n",
       "      <th>trianTestLabel</th>\n",
       "      <th>failureType</th>\n",
       "      <th>waferMapDim</th>\n",
       "    </tr>\n",
       "  </thead>\n",
       "  <tbody>\n",
       "    <tr>\n",
       "      <th>803898</th>\n",
       "      <td>[[0, 0, 0, 0, 0, 0, 0, 0, 0, 0, 0, 0, 0, 0, 1,...</td>\n",
       "      <td>895.0</td>\n",
       "      <td>lot47234</td>\n",
       "      <td>[[Test]]</td>\n",
       "      <td>[[none]]</td>\n",
       "      <td>(33, 35)</td>\n",
       "    </tr>\n",
       "    <tr>\n",
       "      <th>567734</th>\n",
       "      <td>[[0, 0, 0, 0, 0, 0, 0, 0, 0, 0, 0, 0, 1, 1, 1,...</td>\n",
       "      <td>710.0</td>\n",
       "      <td>lot35598</td>\n",
       "      <td>[]</td>\n",
       "      <td>[]</td>\n",
       "      <td>(32, 29)</td>\n",
       "    </tr>\n",
       "    <tr>\n",
       "      <th>60631</th>\n",
       "      <td>[[0, 0, 0, 0, 0, 0, 0, 0, 0, 0, 0, 0, 0, 0, 0,...</td>\n",
       "      <td>1287.0</td>\n",
       "      <td>lot4778</td>\n",
       "      <td>[]</td>\n",
       "      <td>[]</td>\n",
       "      <td>(41, 41)</td>\n",
       "    </tr>\n",
       "    <tr>\n",
       "      <th>241818</th>\n",
       "      <td>[[0, 0, 0, 0, 0, 0, 0, 0, 0, 0, 0, 0, 2, 2, 2,...</td>\n",
       "      <td>793.0</td>\n",
       "      <td>lot15061</td>\n",
       "      <td>[[Training]]</td>\n",
       "      <td>[[Edge-Ring]]</td>\n",
       "      <td>(32, 32)</td>\n",
       "    </tr>\n",
       "    <tr>\n",
       "      <th>445015</th>\n",
       "      <td>[[0, 0, 0, 0, 0, 0, 0, 0, 0, 0, 0, 0, 1, 1, 1,...</td>\n",
       "      <td>846.0</td>\n",
       "      <td>lot27293</td>\n",
       "      <td>[]</td>\n",
       "      <td>[]</td>\n",
       "      <td>(33, 33)</td>\n",
       "    </tr>\n",
       "  </tbody>\n",
       "</table>\n",
       "</div>"
      ],
      "text/plain": [
       "                                                 waferMap  dieSize   lotName  \\\n",
       "803898  [[0, 0, 0, 0, 0, 0, 0, 0, 0, 0, 0, 0, 0, 0, 1,...    895.0  lot47234   \n",
       "567734  [[0, 0, 0, 0, 0, 0, 0, 0, 0, 0, 0, 0, 1, 1, 1,...    710.0  lot35598   \n",
       "60631   [[0, 0, 0, 0, 0, 0, 0, 0, 0, 0, 0, 0, 0, 0, 0,...   1287.0   lot4778   \n",
       "241818  [[0, 0, 0, 0, 0, 0, 0, 0, 0, 0, 0, 0, 2, 2, 2,...    793.0  lot15061   \n",
       "445015  [[0, 0, 0, 0, 0, 0, 0, 0, 0, 0, 0, 0, 1, 1, 1,...    846.0  lot27293   \n",
       "\n",
       "       trianTestLabel    failureType waferMapDim  \n",
       "803898       [[Test]]       [[none]]    (33, 35)  \n",
       "567734             []             []    (32, 29)  \n",
       "60631              []             []    (41, 41)  \n",
       "241818   [[Training]]  [[Edge-Ring]]    (32, 32)  \n",
       "445015             []             []    (33, 33)  "
      ]
     },
     "execution_count": 5,
     "metadata": {},
     "output_type": "execute_result"
    }
   ],
   "source": [
    "def find_dim(x):\n",
    "    dim0=np.size(x,axis=0)\n",
    "    dim1=np.size(x,axis=1)\n",
    "    return dim0,dim1\n",
    "df['waferMapDim']=df.waferMap.apply(find_dim)\n",
    "df.sample(5)"
   ]
  },
  {
   "cell_type": "markdown",
   "metadata": {},
   "source": [
    "- 不良パターンと学習orテストラベルを数値で表す．"
   ]
  },
  {
   "cell_type": "code",
   "execution_count": 6,
   "metadata": {},
   "outputs": [],
   "source": [
    "df['failureNum']=df.failureType\n",
    "df['trainTestNum']=df.trianTestLabel\n",
    "mapping_type={'Center':0,'Donut':1,'Edge-Loc':2,'Edge-Ring':3,'Loc':4,'Random':5,'Scratch':6,'Near-full':7,'none':8}\n",
    "mapping_traintest={'Training':0,'Test':1}\n",
    "df=df.replace({'failureNum':mapping_type, 'trainTestNum':mapping_traintest})"
   ]
  },
  {
   "cell_type": "code",
   "execution_count": 7,
   "metadata": {},
   "outputs": [
    {
     "data": {
      "text/plain": [
       "811457"
      ]
     },
     "execution_count": 7,
     "metadata": {},
     "output_type": "execute_result"
    }
   ],
   "source": [
    "tol_wafers = df.shape[0]\n",
    "tol_wafers"
   ]
  },
  {
   "cell_type": "code",
   "execution_count": 8,
   "metadata": {},
   "outputs": [
    {
     "data": {
      "text/plain": [
       "(172950, 25519, 147431)"
      ]
     },
     "execution_count": 8,
     "metadata": {},
     "output_type": "execute_result"
    }
   ],
   "source": [
    "df_withlabel = df[(df['failureNum']>=0) & (df['failureNum']<=8)]\n",
    "df_withlabel =df_withlabel.reset_index()\n",
    "df_withpattern = df[(df['failureNum']>=0) & (df['failureNum']<=7)]\n",
    "df_withpattern = df_withpattern.reset_index()\n",
    "df_nonpattern = df[(df['failureNum']==8)]\n",
    "df_withlabel.shape[0], df_withpattern.shape[0], df_nonpattern.shape[0]"
   ]
  },
  {
   "cell_type": "markdown",
   "metadata": {},
   "source": [
    "### 26x26のデータに対して処理"
   ]
  },
  {
   "cell_type": "code",
   "execution_count": 9,
   "metadata": {},
   "outputs": [],
   "source": [
    "sub_df = df.loc[df['waferMapDim'] == (26, 26)]\n",
    "sub_wafer = sub_df['waferMap'].values\n",
    "\n",
    "sw = np.ones((1, 26, 26))\n",
    "label = list()\n",
    "\n",
    "for i in range(len(sub_df)):\n",
    "    # skip null label\n",
    "    if len(sub_df.iloc[i,:]['failureType']) == 0:\n",
    "        continue\n",
    "    sw = np.concatenate((sw, sub_df.iloc[i,:]['waferMap'].reshape(1, 26, 26)))\n",
    "    label.append(sub_df.iloc[i,:]['failureType'][0][0])"
   ]
  },
  {
   "cell_type": "code",
   "execution_count": 10,
   "metadata": {},
   "outputs": [],
   "source": [
    "x = sw[1:]\n",
    "y = np.array(label).reshape((-1,1))"
   ]
  },
  {
   "cell_type": "code",
   "execution_count": 11,
   "metadata": {},
   "outputs": [],
   "source": [
    "mask_x = np.zeros((24, 24))\n",
    "dummy_x = cv2.resize(x[0], (24,24))\n",
    "mask_x[dummy_x == 1] = 1 \n",
    "mask_x[dummy_x == 2] = 1 \n",
    "mask_x = mask_x.reshape((1, 24,24))"
   ]
  },
  {
   "cell_type": "code",
   "execution_count": 12,
   "metadata": {},
   "outputs": [
    {
     "name": "stdout",
     "output_type": "stream",
     "text": [
      "x shape : (14366, 26, 26), y shape : (14366, 1)\n"
     ]
    }
   ],
   "source": [
    "print('x shape : {}, y shape : {}'.format(x.shape, y.shape))"
   ]
  },
  {
   "cell_type": "markdown",
   "metadata": {},
   "source": [
    "- 26x26のウエハが14366枚抽出できた．"
   ]
  },
  {
   "cell_type": "markdown",
   "metadata": {},
   "source": [
    "- none の中身を見る（不良なのか，正常なのか）"
   ]
  },
  {
   "cell_type": "code",
   "execution_count": 13,
   "metadata": {},
   "outputs": [
    {
     "data": {
      "text/plain": [
       "\"\\n# plot 1st data\\nindex = np.where(y == 'none')\\n#print(index[0])\\n\\nfor i in index[0]:\\n    print(i)\\n    plt.imshow(x[i])\\n    plt.show()\\n\\n    # check faulty case\\n    print('Faulty case : {} '.format(y[i]))\\n\""
      ]
     },
     "execution_count": 13,
     "metadata": {},
     "output_type": "execute_result"
    }
   ],
   "source": [
    "'''\n",
    "# plot 1st data\n",
    "index = np.where(y == 'none')\n",
    "#print(index[0])\n",
    "\n",
    "for i in index[0]:\n",
    "    print(i)\n",
    "    plt.imshow(x[i])\n",
    "    plt.show()\n",
    "\n",
    "    # check faulty case\n",
    "    print('Faulty case : {} '.format(y[i]))\n",
    "'''"
   ]
  },
  {
   "cell_type": "markdown",
   "metadata": {},
   "source": [
    "- 最初のデータを可視化してみる．\n",
    "- その前に，26x26のデータでおかしなものを表示"
   ]
  },
  {
   "cell_type": "code",
   "execution_count": 14,
   "metadata": {},
   "outputs": [
    {
     "name": "stdout",
     "output_type": "stream",
     "text": [
      "6267 is error\n",
      "6268 is error\n",
      "6269 is error\n",
      "6270 is error\n",
      "6271 is error\n",
      "6272 is error\n",
      "6273 is error\n",
      "6274 is error\n",
      "6275 is error\n",
      "6276 is error\n",
      "6277 is error\n",
      "6278 is error\n",
      "6279 is error\n",
      "6280 is error\n",
      "6281 is error\n",
      "6282 is error\n"
     ]
    }
   ],
   "source": [
    "for i in range(len(x)):\n",
    "    error = np.where((x[0] != x[i]) & ((x[0] == 0) | (x[i] == 0)))\n",
    "    if len(error[0]) > 0:\n",
    "        print(str(i) + \" is error\")\n",
    "        #print(error)"
   ]
  },
  {
   "cell_type": "code",
   "execution_count": 15,
   "metadata": {},
   "outputs": [
    {
     "data": {
      "image/png": "[encoded data removed]",
      "text/plain": [
       "<Figure size 432x288 with 1 Axes>"
      ]
     },
     "metadata": {
      "needs_background": "light"
     },
     "output_type": "display_data"
    },
    {
     "name": "stdout",
     "output_type": "stream",
     "text": [
      "Faulty case : ['none'] \n"
     ]
    }
   ],
   "source": [
    "# plot 1st data\n",
    "plt.imshow(x[0])\n",
    "plt.show()\n",
    "\n",
    "# check faulty case\n",
    "print('Faulty case : {} '.format(y[0]))"
   ]
  },
  {
   "cell_type": "markdown",
   "metadata": {},
   "source": [
    "- おかしなウエハは除去する"
   ]
  },
  {
   "cell_type": "code",
   "execution_count": 16,
   "metadata": {},
   "outputs": [
    {
     "name": "stdout",
     "output_type": "stream",
     "text": [
      "(14350, 26, 26)\n",
      "(14350, 1)\n"
     ]
    }
   ],
   "source": [
    "error_list = []\n",
    "for i in range(len(x)):\n",
    "    error = np.where((x[0] != x[i]) & ((x[0] == 0) | (x[i] == 0)))\n",
    "    if len(error[0]) > 0:\n",
    "        error_list.append(i)\n",
    "x = np.delete(x, error_list, 0)\n",
    "y = np.delete(y, error_list, 0)\n",
    "print(x.shape)\n",
    "print(y.shape)"
   ]
  },
  {
   "cell_type": "markdown",
   "metadata": {},
   "source": [
    "- 形が異なるウエハを削除したところ，14350枚となった．"
   ]
  },
  {
   "cell_type": "code",
   "execution_count": 17,
   "metadata": {},
   "outputs": [
    {
     "data": {
      "text/plain": [
       "(14350, 26, 26, 1)"
      ]
     },
     "execution_count": 17,
     "metadata": {},
     "output_type": "execute_result"
    }
   ],
   "source": [
    "x = x.reshape((-1, 26, 26, 1))\n",
    "x.shape"
   ]
  },
  {
   "cell_type": "code",
   "execution_count": 18,
   "metadata": {},
   "outputs": [
    {
     "name": "stdout",
     "output_type": "stream",
     "text": [
      "Faulty case list : ['Center' 'Donut' 'Edge-Loc' 'Edge-Ring' 'Loc' 'Near-full' 'Random'\n",
      " 'Scratch' 'none']\n"
     ]
    }
   ],
   "source": [
    "faulty_case = np.unique(y)\n",
    "print('Faulty case list : {}'.format(faulty_case))"
   ]
  },
  {
   "cell_type": "code",
   "execution_count": 19,
   "metadata": {},
   "outputs": [],
   "source": [
    "faulty_case_dict =dict()"
   ]
  },
  {
   "cell_type": "code",
   "execution_count": 20,
   "metadata": {},
   "outputs": [
    {
     "name": "stdout",
     "output_type": "stream",
     "text": [
      "Center : 90\n",
      "Donut : 1\n",
      "Edge-Loc : 289\n",
      "Edge-Ring : 23\n",
      "Loc : 297\n",
      "Near-full : 16\n",
      "Random : 74\n",
      "Scratch : 71\n",
      "none : 13489\n"
     ]
    }
   ],
   "source": [
    "for i, f in enumerate(faulty_case) :\n",
    "    print('{} : {}'.format(f, len(y[y==f])))\n",
    "    faulty_case_dict[i] = f"
   ]
  },
  {
   "cell_type": "markdown",
   "metadata": {},
   "source": [
    "- 14366枚の26x26ウエハの不良パターンは上記のようになっている．"
   ]
  },
  {
   "cell_type": "code",
   "execution_count": 21,
   "metadata": {},
   "outputs": [],
   "source": [
    "new_x = np.zeros((len(x), 26, 26, 3))\n",
    "\n",
    "for w in range(len(x)):\n",
    "    for i in range(26):\n",
    "        for j in range(26):\n",
    "            new_x[w, i, j, int(x[w, i, j])] = 1"
   ]
  },
  {
   "cell_type": "code",
   "execution_count": 22,
   "metadata": {},
   "outputs": [
    {
     "data": {
      "text/plain": [
       "(14350, 26, 26, 3)"
      ]
     },
     "execution_count": 22,
     "metadata": {},
     "output_type": "execute_result"
    }
   ],
   "source": [
    "new_x.shape"
   ]
  },
  {
   "cell_type": "markdown",
   "metadata": {},
   "source": [
    "- new_xを(14366, 26, 26, 3)とし，最後の次元にはウエハの値(0, 1, 2)がそれぞれの値毎にベクトルとしてまとめられている．\n",
    "- ウエハデータの各ピクセルは，0:ウエハなし，1:正常，2:不良を表す．"
   ]
  },
  {
   "cell_type": "markdown",
   "metadata": {},
   "source": [
    "### オートエンコーダで学習"
   ]
  },
  {
   "cell_type": "markdown",
   "metadata": {},
   "source": [
    "#### エンコーダとデコーダのモデルを学習"
   ]
  },
  {
   "cell_type": "markdown",
   "metadata": {},
   "source": [
    "- モデルの定義をする．"
   ]
  },
  {
   "cell_type": "code",
   "execution_count": 23,
   "metadata": {},
   "outputs": [],
   "source": [
    "# Encoder\n",
    "input_shape = (26, 26, 3)\n",
    "input_tensor = Input(input_shape)\n",
    "encode = layers.Conv2D(64, (3,3), padding='same', activation='relu')(input_tensor)\n",
    "\n",
    "latent_vector = layers.MaxPool2D()(encode)\n",
    "\n",
    "# Decoder\n",
    "decode_layer_1 = layers.Conv2DTranspose(64, (3,3), padding='same', activation='relu')\n",
    "decode_layer_2 = layers.UpSampling2D()\n",
    "output_tensor = layers.Conv2DTranspose(3, (3,3), padding='same', activation='sigmoid')\n",
    "\n",
    "# connect decoder layers\n",
    "decode = decode_layer_1(latent_vector)\n",
    "decode = decode_layer_2(decode)\n",
    "\n",
    "ae = models.Model(input_tensor, output_tensor(decode))\n",
    "ae.compile(optimizer = 'Adam',\n",
    "              loss = 'mse',\n",
    "             )"
   ]
  },
  {
   "cell_type": "code",
   "execution_count": 24,
   "metadata": {},
   "outputs": [
    {
     "name": "stdout",
     "output_type": "stream",
     "text": [
      "Model: \"model_1\"\n",
      "_________________________________________________________________\n",
      "Layer (type)                 Output Shape              Param #   \n",
      "=================================================================\n",
      "input_1 (InputLayer)         (None, 26, 26, 3)         0         \n",
      "_________________________________________________________________\n",
      "conv2d_1 (Conv2D)            (None, 26, 26, 64)        1792      \n",
      "_________________________________________________________________\n",
      "max_pooling2d_1 (MaxPooling2 (None, 13, 13, 64)        0         \n",
      "_________________________________________________________________\n",
      "conv2d_transpose_1 (Conv2DTr (None, 13, 13, 64)        36928     \n",
      "_________________________________________________________________\n",
      "up_sampling2d_1 (UpSampling2 (None, 26, 26, 64)        0         \n",
      "_________________________________________________________________\n",
      "conv2d_transpose_2 (Conv2DTr (None, 26, 26, 3)         1731      \n",
      "=================================================================\n",
      "Total params: 40,451\n",
      "Trainable params: 40,451\n",
      "Non-trainable params: 0\n",
      "_________________________________________________________________\n"
     ]
    }
   ],
   "source": [
    "ae.summary()"
   ]
  },
  {
   "cell_type": "markdown",
   "metadata": {},
   "source": [
    "- 層は\n",
    "    - 入力層\n",
    "    - 畳み込み層\n",
    "    - プーリング層\n",
    "    - 転置畳み込み層\n",
    "    - アップサンプリング層"
   ]
  },
  {
   "cell_type": "code",
   "execution_count": 25,
   "metadata": {},
   "outputs": [],
   "source": [
    "epoch=30\n",
    "batch_size=1024"
   ]
  },
  {
   "cell_type": "markdown",
   "metadata": {},
   "source": [
    "- 学習を開始する．\n",
    "- `new_x`を`new_x`にエンコードしデコードする．"
   ]
  },
  {
   "cell_type": "code",
   "execution_count": 26,
   "metadata": {
    "scrolled": true
   },
   "outputs": [
    {
     "name": "stdout",
     "output_type": "stream",
     "text": [
      "Epoch 1/30\n",
      "14350/14350 [==============================] - 2s 109us/step - loss: 0.1561\n",
      "Epoch 2/30\n",
      "14350/14350 [==============================] - 1s 39us/step - loss: 0.0968\n",
      "Epoch 3/30\n",
      "14350/14350 [==============================] - 1s 40us/step - loss: 0.0838\n",
      "Epoch 4/30\n",
      "14350/14350 [==============================] - 1s 41us/step - loss: 0.0727\n",
      "Epoch 5/30\n",
      "14350/14350 [==============================] - 1s 42us/step - loss: 0.0638\n",
      "Epoch 6/30\n",
      "14350/14350 [==============================] - 1s 41us/step - loss: 0.0570\n",
      "Epoch 7/30\n",
      "14350/14350 [==============================] - 1s 41us/step - loss: 0.0513\n",
      "Epoch 8/30\n",
      "14350/14350 [==============================] - 1s 42us/step - loss: 0.0462\n",
      "Epoch 9/30\n",
      "14350/14350 [==============================] - 1s 41us/step - loss: 0.0411\n",
      "Epoch 10/30\n",
      "14350/14350 [==============================] - 1s 42us/step - loss: 0.0361\n",
      "Epoch 11/30\n",
      "14350/14350 [==============================] - 1s 42us/step - loss: 0.0318\n",
      "Epoch 12/30\n",
      "14350/14350 [==============================] - 1s 41us/step - loss: 0.0283\n",
      "Epoch 13/30\n",
      "14350/14350 [==============================] - 1s 42us/step - loss: 0.0255\n",
      "Epoch 14/30\n",
      "14350/14350 [==============================] - 1s 42us/step - loss: 0.0231\n",
      "Epoch 15/30\n",
      "14350/14350 [==============================] - 1s 42us/step - loss: 0.0211\n",
      "Epoch 16/30\n",
      "14350/14350 [==============================] - 1s 43us/step - loss: 0.0194\n",
      "Epoch 17/30\n",
      "14350/14350 [==============================] - 1s 42us/step - loss: 0.0180\n",
      "Epoch 18/30\n",
      "14350/14350 [==============================] - 1s 41us/step - loss: 0.0168\n",
      "Epoch 19/30\n",
      "14350/14350 [==============================] - 1s 42us/step - loss: 0.0157\n",
      "Epoch 20/30\n",
      "14350/14350 [==============================] - 1s 42us/step - loss: 0.0147\n",
      "Epoch 21/30\n",
      "14350/14350 [==============================] - 1s 41us/step - loss: 0.0140\n",
      "Epoch 22/30\n",
      "14350/14350 [==============================] - 1s 41us/step - loss: 0.0132\n",
      "Epoch 23/30\n",
      "14350/14350 [==============================] - 1s 42us/step - loss: 0.0125\n",
      "Epoch 24/30\n",
      "14350/14350 [==============================] - 1s 41us/step - loss: 0.0119\n",
      "Epoch 25/30\n",
      "14350/14350 [==============================] - 1s 42us/step - loss: 0.0113\n",
      "Epoch 26/30\n",
      "14350/14350 [==============================] - 1s 42us/step - loss: 0.0107\n",
      "Epoch 27/30\n",
      "14350/14350 [==============================] - 1s 42us/step - loss: 0.0102\n",
      "Epoch 28/30\n",
      "14350/14350 [==============================] - 1s 42us/step - loss: 0.0098\n",
      "Epoch 29/30\n",
      "14350/14350 [==============================] - 1s 41us/step - loss: 0.0094\n",
      "Epoch 30/30\n",
      "14350/14350 [==============================] - 1s 42us/step - loss: 0.0089\n"
     ]
    },
    {
     "data": {
      "text/plain": [
       "<keras.callbacks.callbacks.History at 0x7f2bd42a7b90>"
      ]
     },
     "execution_count": 26,
     "metadata": {},
     "output_type": "execute_result"
    }
   ],
   "source": [
    "# start train\n",
    "ae.fit(new_x, new_x,\n",
    "       batch_size=batch_size,\n",
    "       epochs=epoch,\n",
    "       verbose=1)"
   ]
  },
  {
   "cell_type": "markdown",
   "metadata": {},
   "source": [
    "- エンコーダだけのモデルを定義する．"
   ]
  },
  {
   "cell_type": "code",
   "execution_count": 27,
   "metadata": {},
   "outputs": [],
   "source": [
    "encoder = models.Model(input_tensor, latent_vector)"
   ]
  },
  {
   "cell_type": "markdown",
   "metadata": {},
   "source": [
    "- デコーダだけのモデルを定義する．"
   ]
  },
  {
   "cell_type": "code",
   "execution_count": 28,
   "metadata": {},
   "outputs": [],
   "source": [
    "decoder_input = Input((13, 13, 64))\n",
    "decode = decode_layer_1(decoder_input)\n",
    "decode = decode_layer_2(decode)\n",
    "\n",
    "decoder = models.Model(decoder_input, output_tensor(decode))"
   ]
  },
  {
   "cell_type": "markdown",
   "metadata": {},
   "source": [
    "- `encoder`を使って元のウエハ画像をエンコードする．"
   ]
  },
  {
   "cell_type": "code",
   "execution_count": 29,
   "metadata": {},
   "outputs": [],
   "source": [
    "# Encode original faulty wafer\n",
    "encoded_x = encoder.predict(new_x)"
   ]
  },
  {
   "cell_type": "markdown",
   "metadata": {},
   "source": [
    "- エンコードされた潜伏的な不良ウエハにノイズを負荷する．"
   ]
  },
  {
   "cell_type": "code",
   "execution_count": 30,
   "metadata": {},
   "outputs": [],
   "source": [
    "# Add noise to encoded latent faulty wafers vector.\n",
    "noised_encoded_x = encoded_x + np.random.normal(loc=0, scale=0.1, size = (len(encoded_x), 13, 13, 64))"
   ]
  },
  {
   "cell_type": "markdown",
   "metadata": {},
   "source": [
    "- 元のウエハ画像"
   ]
  },
  {
   "cell_type": "code",
   "execution_count": 31,
   "metadata": {
    "scrolled": true
   },
   "outputs": [
    {
     "data": {
      "text/plain": [
       "<matplotlib.image.AxesImage at 0x7f2c2c33a490>"
      ]
     },
     "execution_count": 31,
     "metadata": {},
     "output_type": "execute_result"
    },
    {
     "data": {
      "image/png": "[encoded data removed]",
      "text/plain": [
       "<Figure size 432x288 with 1 Axes>"
      ]
     },
     "metadata": {
      "needs_background": "light"
     },
     "output_type": "display_data"
    }
   ],
   "source": [
    "# check original faulty wafer data\n",
    "plt.imshow(np.argmax(new_x[3], axis=2))"
   ]
  },
  {
   "cell_type": "markdown",
   "metadata": {},
   "source": [
    "- マスクの定義"
   ]
  },
  {
   "cell_type": "code",
   "execution_count": 32,
   "metadata": {
    "scrolled": false
   },
   "outputs": [],
   "source": [
    "# 0がウエハ領域，1が範囲外\n",
    "mask = new_x[0, :, :, 0].copy()\n",
    "#out_region = np.where(mask == 1.0)\n",
    "#in_region = np.where(mask == 0.0)\n",
    "#mask[out_region] = 0.0\n",
    "#mask[in_region] = 1.0\n",
    "#print(mask)"
   ]
  },
  {
   "cell_type": "markdown",
   "metadata": {},
   "source": [
    "- 回転の実験\n",
    "\n",
    "90度ごとなら自作OpenCV関数が有用"
   ]
  },
  {
   "cell_type": "markdown",
   "metadata": {},
   "source": [
    "- 90度以外の回転"
   ]
  },
  {
   "cell_type": "code",
   "execution_count": 33,
   "metadata": {},
   "outputs": [],
   "source": [
    "from PIL import Image\n",
    "def rotation_pil_mask(img, degree):\n",
    "    src = Image.fromarray(np.uint8(img))\n",
    "    img_rotate = np.array(src.rotate(degree))\n",
    "    \n",
    "    #before\n",
    "    '''\n",
    "    plt.imshow(np.argmax(img_rotate, axis=2))\n",
    "    plt.title(\"rotate \" + str(degree) + \" degree before\")\n",
    "    plt.show()\n",
    "    '''\n",
    "    \n",
    "    #マスクの適用, \n",
    "    out_region = np.where((np.argmax(img_rotate, axis=2) != 0) & (mask > 0.0))\n",
    "    img_rotate[out_region[0], out_region[1]] = np.array([1., 0., 0.])\n",
    "    in_region = np.where((np.argmax(img_rotate, axis=2) == 0) & (mask == 0.0))\n",
    "    img_rotate[in_region[0], in_region[1]] = np.array([0., 1., 0.])\n",
    "\n",
    "    #after\n",
    "    '''plt.imshow(np.argmax(img_rotate, axis=2))\n",
    "    plt.title(\"rotate \" + str(degree) + \" degree after\")\n",
    "    plt.show()'''\n",
    "\n",
    "    return img_rotate"
   ]
  },
  {
   "cell_type": "code",
   "execution_count": 34,
   "metadata": {
    "scrolled": false
   },
   "outputs": [
    {
     "data": {
      "text/plain": [
       "'\\nwafer = new_x[np.where(y==\"Edge-Loc\")[0]].reshape(len(np.where(y==\"Edge-Loc\")[0]), 26, 26, 3)\\n#plt.imshow(np.argmax(wafer[0], axis=2))\\n#plt.show()\\n\\nprint(wafer[0].shape)\\n\\nfor i in range(19):\\n    rotation_pil_mask(wafer[0], i*20)\\n'"
      ]
     },
     "execution_count": 34,
     "metadata": {},
     "output_type": "execute_result"
    }
   ],
   "source": [
    "'''\n",
    "wafer = new_x[np.where(y==\"Edge-Loc\")[0]].reshape(len(np.where(y==\"Edge-Loc\")[0]), 26, 26, 3)\n",
    "#plt.imshow(np.argmax(wafer[0], axis=2))\n",
    "#plt.show()\n",
    "\n",
    "print(wafer[0].shape)\n",
    "\n",
    "for i in range(19):\n",
    "    rotation_pil_mask(wafer[0], i*20)\n",
    "'''"
   ]
  },
  {
   "cell_type": "code",
   "execution_count": null,
   "metadata": {},
   "outputs": [],
   "source": []
  },
  {
   "cell_type": "markdown",
   "metadata": {},
   "source": [
    "- ノイズが付加されたウエハ画像"
   ]
  },
  {
   "cell_type": "code",
   "execution_count": 35,
   "metadata": {},
   "outputs": [
    {
     "data": {
      "text/plain": [
       "<matplotlib.image.AxesImage at 0x7f2b561affd0>"
      ]
     },
     "execution_count": 35,
     "metadata": {},
     "output_type": "execute_result"
    },
    {
     "data": {
      "image/png": "[encoded data removed]",
      "text/plain": [
       "<Figure size 432x288 with 1 Axes>"
      ]
     },
     "metadata": {
      "needs_background": "light"
     },
     "output_type": "display_data"
    }
   ],
   "source": [
    "# check new noised faulty wafer data\n",
    "noised_gen_x = np.argmax(decoder.predict(noised_encoded_x), axis=3)\n",
    "plt.imshow(noised_gen_x[3])"
   ]
  },
  {
   "cell_type": "markdown",
   "metadata": {},
   "source": [
    "### データオーギュメンテーション"
   ]
  },
  {
   "cell_type": "markdown",
   "metadata": {},
   "source": [
    "- データオーギュメンテーションを行う関数を定義する．\n",
    "- 鏡映，回転を行う"
   ]
  },
  {
   "cell_type": "code",
   "execution_count": 36,
   "metadata": {},
   "outputs": [],
   "source": [
    "# augment function define (add rotate, flip)\n",
    "def gen_data(wafer, label):\n",
    "    # Encode input wafer\n",
    "    #encoded_x = encoder.predict(wafer)\n",
    "    \n",
    "    # dummy array for collecting noised wafer\n",
    "    gen_x = np.zeros((1, 26, 26, 3))\n",
    "    aug_x = np.zeros((1, 26, 26, 3))\n",
    "    \n",
    "    #datagen = ImageDataGenerator(rotation_range = 90, horizontal_flip = True, vertical_flip = True, fill_mode = 'constant', cval = 0)\n",
    "    #datagen = ImageDataGenerator(rotation_range = 0)\n",
    "    ite = 20 if label != 'none' else 1\n",
    "    for i in range(len(wafer)):\n",
    "        for j in range(ite):\n",
    "#             data = wafer[i]\n",
    "            if label != 'none':\n",
    "                data = rotation_pil_mask(wafer[i], j*18)\n",
    "            else:\n",
    "                data = rotation_pil_mask(wafer[i], j*180)\n",
    "            data = data.reshape(1, 26, 26, 3)\n",
    "            aug_x = np.concatenate((aug_x, data), axis = 0)\n",
    "            '''\n",
    "            for j, img in enumerate(data):\n",
    "                plot_num = j+1\n",
    "                plt.subplot(4, 5, plot_num)\n",
    "                plt.tick_params(labelbottom=False)\n",
    "                plt.tick_params(labelleft=False)\n",
    "                plt.imshow(img)\n",
    "            plt.show()\n",
    "            '''\n",
    "    aug_x = aug_x[1:]\n",
    "    encoded_x = encoder.predict(aug_x)\n",
    "    print(encoded_x.shape)\n",
    "        \n",
    "    \n",
    "    # Make wafer until total # of wafer to 15000\n",
    "    if label != 'none':\n",
    "        for i in range((13000//len(encoded_x)) + 1):\n",
    "            noised_encoded_x = encoded_x + np.random.normal(loc=0, scale=0.1, size = (len(encoded_x), 13, 13, 64)) \n",
    "#             noised_encoded_x = encoded_x\n",
    "            noised_gen_x = decoder.predict(noised_encoded_x)\n",
    "            gen_x = np.concatenate((gen_x, noised_gen_x), axis=0)\n",
    "    else:\n",
    "        gen_x = aug_x\n",
    "        \n",
    "    # also make label vector with same length\n",
    "    gen_y = np.full((len(gen_x), 1), label)\n",
    "    \n",
    "    # return date without 1st dummy data.\n",
    "    return gen_x[1:], gen_y[1:]"
   ]
  },
  {
   "cell_type": "markdown",
   "metadata": {},
   "source": [
    "- データオーギュメンテーション（ノイズ付加）したものが適切か調べる\n",
    "\n",
    "一番左が元画像\n",
    "右がデータオーギュメンテーション後"
   ]
  },
  {
   "cell_type": "code",
   "execution_count": 37,
   "metadata": {},
   "outputs": [],
   "source": [
    "# backup\n",
    "bu_new_x = new_x.copy()\n",
    "bu_y = y.copy()"
   ]
  },
  {
   "cell_type": "code",
   "execution_count": 38,
   "metadata": {},
   "outputs": [],
   "source": [
    "# new_x = bu_new_x.copy()\n",
    "# y = bu_y.copy()\n",
    "# gen_x = []"
   ]
  },
  {
   "cell_type": "markdown",
   "metadata": {},
   "source": [
    "- 不良ラベルが付いているデータに対してデータオーギュメンテーションを行う．"
   ]
  },
  {
   "cell_type": "code",
   "execution_count": 39,
   "metadata": {},
   "outputs": [
    {
     "name": "stdout",
     "output_type": "stream",
     "text": [
      "(1800, 13, 13, 64)\n",
      "(20, 13, 13, 64)\n",
      "(5780, 13, 13, 64)\n",
      "(460, 13, 13, 64)\n",
      "(5940, 13, 13, 64)\n",
      "(320, 13, 13, 64)\n",
      "(1480, 13, 13, 64)\n",
      "(1420, 13, 13, 64)\n",
      "(13489, 13, 13, 64)\n"
     ]
    }
   ],
   "source": [
    "# Augmentation for all faulty case.\n",
    "for f in faulty_case : \n",
    "    # skip none case\n",
    "    #if f == 'none' : \n",
    "    #    continue\n",
    "    \n",
    "    gen_x, gen_y = gen_data(new_x[np.where(y==f)[0]], f)\n",
    "    new_x = np.concatenate((new_x, gen_x), axis=0)\n",
    "    y = np.concatenate((y, gen_y))"
   ]
  },
  {
   "cell_type": "code",
   "execution_count": 40,
   "metadata": {},
   "outputs": [
    {
     "name": "stdout",
     "output_type": "stream",
     "text": [
      "After Generate new_x shape : (144398, 26, 26, 3), new_y shape : (144398, 1)\n"
     ]
    }
   ],
   "source": [
    "print('After Generate new_x shape : {}, new_y shape : {}'.format(new_x.shape, y.shape))"
   ]
  },
  {
   "cell_type": "code",
   "execution_count": 41,
   "metadata": {},
   "outputs": [
    {
     "name": "stdout",
     "output_type": "stream",
     "text": [
      "Center : 14490\n",
      "Donut : 13021\n",
      "Edge-Loc : 17629\n",
      "Edge-Ring : 13363\n",
      "Loc : 18117\n",
      "Near-full : 13136\n",
      "Random : 13394\n",
      "Scratch : 14271\n",
      "none : 26977\n"
     ]
    }
   ],
   "source": [
    "for f in faulty_case :\n",
    "    print('{} : {}'.format(f, len(y[y==f])))\n",
    "new_y = y"
   ]
  },
  {
   "cell_type": "code",
   "execution_count": 42,
   "metadata": {},
   "outputs": [
    {
     "data": {
      "text/plain": [
       "array([0, 0, 0, ..., 0, 0, 0])"
      ]
     },
     "execution_count": 42,
     "metadata": {},
     "output_type": "execute_result"
    }
   ],
   "source": [
    "np.where(new_y=='Center')[1]"
   ]
  },
  {
   "cell_type": "markdown",
   "metadata": {},
   "source": [
    "- ノイズ付加後におかしなデータがあるかチェック\n",
    "- 元データとずれがあるもの：1689枚"
   ]
  },
  {
   "cell_type": "markdown",
   "metadata": {},
   "source": [
    "### ノイズ付加後もマスクで直す"
   ]
  },
  {
   "cell_type": "code",
   "execution_count": 43,
   "metadata": {},
   "outputs": [],
   "source": [
    "backup_new_x = new_x.copy()\n",
    "backup_new_y = new_y.copy()"
   ]
  },
  {
   "cell_type": "code",
   "execution_count": 44,
   "metadata": {
    "scrolled": false
   },
   "outputs": [
    {
     "name": "stdout",
     "output_type": "stream",
     "text": [
      "93927\n",
      "0\n"
     ]
    },
    {
     "data": {
      "text/plain": [
       "'plt.imshow(np.argmax(new_x[14397], axis=2))\\nplt.show()\\nplt.imshow(np.argmax(new_x[0], axis=2))\\nplt.show()'"
      ]
     },
     "execution_count": 44,
     "metadata": {},
     "output_type": "execute_result"
    }
   ],
   "source": [
    "count = 0\n",
    "for i in range(len(new_x)):\n",
    "    error = np.where((np.argmax(new_x[0], axis=2) != np.argmax(new_x[i], axis=2)) & (np.argmax(new_x[0], axis=2) == 0))\n",
    "    if len(error[0]) > 0:\n",
    "        #print(str(i) + \"error\")\n",
    "        #print(error)\n",
    "        count += 1\n",
    "print(count)\n",
    "\n",
    "for i in range(len(new_x)):\n",
    "    #マスクの適用, \n",
    "    out_region = np.where((np.argmax(new_x[i], axis=2) != 0) & (mask > 0.0))\n",
    "    new_x[i, out_region[0], out_region[1]] = np.array([1., 0., 0.])\n",
    "    in_region = np.where((np.argmax(new_x[i], axis=2) == 0) & (mask == 0.0))\n",
    "    new_x[i, in_region[0], in_region[1]] = np.array([0., 1., 0.])\n",
    "    \n",
    "count = 0\n",
    "for i in range(len(new_x)):\n",
    "    error = np.where((np.argmax(new_x[0], axis=2) != np.argmax(new_x[i], axis=2)) & (np.argmax(new_x[0], axis=2) == 0))\n",
    "    if len(error[0]) > 0:\n",
    "        #print(str(i) + \"error\")\n",
    "        #print(error)\n",
    "        count += 1\n",
    "print(count)\n",
    "\n",
    "\n",
    "'''plt.imshow(np.argmax(new_x[14397], axis=2))\n",
    "plt.show()\n",
    "plt.imshow(np.argmax(new_x[0], axis=2))\n",
    "plt.show()'''"
   ]
  },
  {
   "cell_type": "markdown",
   "metadata": {},
   "source": [
    "- データオーギュメンテーションを行った結果，各不良データごとに約40000枚に増えた．\n",
    "- 合計は368112枚となった．"
   ]
  },
  {
   "cell_type": "code",
   "execution_count": 45,
   "metadata": {
    "scrolled": false
   },
   "outputs": [
    {
     "data": {
      "image/png": "[encoded data removed]",
      "text/plain": [
       "<Figure size 1440x1440 with 10 Axes>"
      ]
     },
     "metadata": {},
     "output_type": "display_data"
    },
    {
     "data": {
      "image/png": "[encoded data removed]",
      "text/plain": [
       "<Figure size 1440x1440 with 10 Axes>"
      ]
     },
     "metadata": {},
     "output_type": "display_data"
    },
    {
     "data": {
      "image/png": "[encoded data removed]",
      "text/plain": [
       "<Figure size 1440x1440 with 10 Axes>"
      ]
     },
     "metadata": {},
     "output_type": "display_data"
    },
    {
     "data": {
      "image/png": "[encoded data removed]",
      "text/plain": [
       "<Figure size 1440x1440 with 10 Axes>"
      ]
     },
     "metadata": {},
     "output_type": "display_data"
    },
    {
     "data": {
      "image/png": "[encoded data removed]",
      "text/plain": [
       "<Figure size 1440x1440 with 10 Axes>"
      ]
     },
     "metadata": {},
     "output_type": "display_data"
    },
    {
     "data": {
      "image/png": "[encoded data removed]",
      "text/plain": [
       "<Figure size 1440x1440 with 10 Axes>"
      ]
     },
     "metadata": {},
     "output_type": "display_data"
    },
    {
     "data": {
      "image/png": "[encoded data removed]",
      "text/plain": [
       "<Figure size 1440x1440 with 10 Axes>"
      ]
     },
     "metadata": {},
     "output_type": "display_data"
    },
    {
     "data": {
      "image/png": "[encoded data removed]",
      "text/plain": [
       "<Figure size 1440x1440 with 10 Axes>"
      ]
     },
     "metadata": {},
     "output_type": "display_data"
    },
    {
     "data": {
      "image/png": "[encoded data removed]",
      "text/plain": [
       "<Figure size 1440x1440 with 10 Axes>"
      ]
     },
     "metadata": {},
     "output_type": "display_data"
    }
   ],
   "source": [
    "x = [0,1,2,3,4,5,6,7,8]\n",
    "labels2 = ['Center','Donut','Edge-Loc','Edge-Ring','Loc','Random','Scratch','Near-full','none']\n",
    "\n",
    "for k in x:\n",
    "    fig, ax = plt.subplots(nrows = 1, ncols = 10, figsize=(20, 20))\n",
    "    ax = ax.ravel(order='C')\n",
    "    for j in [k]:\n",
    "        index = np.where(new_y==labels2[j])[0]\n",
    "        img = new_x[index]\n",
    "        #img = new_x[0:10]\n",
    "        for i in range(10):\n",
    "            ax[i].imshow(np.argmax(img[i+0], axis=2))\n",
    "            ax[i].set_title(new_y[index[i+0]], fontsize=15)\n",
    "            #ax[i].set_xlabel(df_withpattern.index[img.index[i]], fontsize=10)\n",
    "            ax[i].set_xticks([])\n",
    "            ax[i].set_yticks([])\n",
    "    plt.tight_layout()\n",
    "    plt.show() "
   ]
  },
  {
   "cell_type": "markdown",
   "metadata": {},
   "source": [
    "### 学習を行う\n",
    "- 不良ラベルを0-8の9次元のベクトルとして表現する．\n",
    "- one-hotエンコーディングを行っている．"
   ]
  },
  {
   "cell_type": "code",
   "execution_count": 46,
   "metadata": {},
   "outputs": [],
   "source": [
    "for i, l in enumerate(faulty_case):\n",
    "    new_y[new_y==l] = i"
   ]
  },
  {
   "cell_type": "code",
   "execution_count": 47,
   "metadata": {},
   "outputs": [],
   "source": [
    "# one-hot-encoding\n",
    "new_y = to_categorical(new_y)"
   ]
  },
  {
   "cell_type": "code",
   "execution_count": 48,
   "metadata": {},
   "outputs": [],
   "source": [
    "new_X=new_x\n",
    "new_Y=new_y"
   ]
  },
  {
   "cell_type": "markdown",
   "metadata": {},
   "source": [
    "- 学習データとテストデータに分割する．"
   ]
  },
  {
   "cell_type": "code",
   "execution_count": 49,
   "metadata": {},
   "outputs": [],
   "source": [
    "x_train, x_test, y_train, y_test = train_test_split(new_X, new_Y,\n",
    "                                                    test_size=0.33,\n",
    "                                                    random_state=2019)"
   ]
  },
  {
   "cell_type": "code",
   "execution_count": 50,
   "metadata": {},
   "outputs": [
    {
     "name": "stdout",
     "output_type": "stream",
     "text": [
      "Train x : (96746, 26, 26, 3), y : (96746, 9)\n",
      "Test x: (47652, 26, 26, 3), y : (47652, 9)\n"
     ]
    }
   ],
   "source": [
    "print('Train x : {}, y : {}'.format(x_train.shape, y_train.shape))\n",
    "print('Test x: {}, y : {}'.format(x_test.shape, y_test.shape))"
   ]
  },
  {
   "cell_type": "markdown",
   "metadata": {},
   "source": [
    "- 学習データ246635枚，テストデータ121477枚．"
   ]
  },
  {
   "cell_type": "markdown",
   "metadata": {},
   "source": [
    "- モデルの定義を行う．"
   ]
  },
  {
   "cell_type": "code",
   "execution_count": 51,
   "metadata": {},
   "outputs": [],
   "source": [
    "input_shape = (26, 26, 3)\n",
    "input_tensor = Input(input_shape)\n",
    "\n",
    "def create_model():\n",
    "    global input_tensor\n",
    "    \n",
    "    conv = layers.Conv2D(32, (3,3), activation='relu', name='conv1')(input_tensor)\n",
    "    padding = layers.ZeroPadding2D(padding=(1, 1), name='padding1')(conv)\n",
    "    conv = layers.Conv2D(64, (3,3), activation='relu', name='conv2')(padding)\n",
    "    padding = layers.ZeroPadding2D(padding=(1, 1), name='padding2')(conv)\n",
    "    conv = layers.Conv2D(128, (3,3), activation='relu', name='conv3')(padding)\n",
    "    padding = layers.ZeroPadding2D(padding=(1, 1), name='padding3')(conv)\n",
    "    conv_out = layers.Conv2D(256, (3,3), activation='relu', name='conv4')(padding)\n",
    "\n",
    "    gap_layer = layers.GlobalAveragePooling2D(name='GAP')\n",
    "    output_layer = layers.Dense(9, activation='softmax', name='output')\n",
    "\n",
    "    aver_pool = gap_layer(conv_out)\n",
    "    output_tensor = output_layer(aver_pool)\n",
    "\n",
    "    model = models.Model(input_tensor, output_tensor)\n",
    "\n",
    "    model.compile(optimizer='Adam',\n",
    "             loss='categorical_crossentropy',\n",
    "             metrics=['accuracy'])\n",
    "\n",
    "    return model"
   ]
  },
  {
   "cell_type": "markdown",
   "metadata": {},
   "source": [
    "- 3-Fold Cross validationで分割して学習する．"
   ]
  },
  {
   "cell_type": "code",
   "execution_count": 52,
   "metadata": {
    "scrolled": true
   },
   "outputs": [
    {
     "name": "stdout",
     "output_type": "stream",
     "text": [
      "Epoch 1/30\n",
      "64497/64497 [==============================] - 11s 169us/step - loss: 1.1821 - accuracy: 0.5302\n",
      "Epoch 2/30\n",
      "64497/64497 [==============================] - 10s 149us/step - loss: 0.7699 - accuracy: 0.6937\n",
      "Epoch 3/30\n",
      "64497/64497 [==============================] - 10s 150us/step - loss: 0.6454 - accuracy: 0.7427\n",
      "Epoch 4/30\n",
      "64497/64497 [==============================] - 10s 149us/step - loss: 0.5937 - accuracy: 0.7617\n",
      "Epoch 5/30\n",
      "64497/64497 [==============================] - 10s 150us/step - loss: 0.5520 - accuracy: 0.7781\n",
      "Epoch 6/30\n",
      "64497/64497 [==============================] - 10s 150us/step - loss: 0.5432 - accuracy: 0.7828\n",
      "Epoch 7/30\n",
      "64497/64497 [==============================] - 10s 150us/step - loss: 0.5068 - accuracy: 0.7974\n",
      "Epoch 8/30\n",
      "64497/64497 [==============================] - 10s 150us/step - loss: 0.4943 - accuracy: 0.8046\n",
      "Epoch 9/30\n",
      "64497/64497 [==============================] - 10s 150us/step - loss: 0.4865 - accuracy: 0.8103\n",
      "Epoch 10/30\n",
      "64497/64497 [==============================] - 10s 150us/step - loss: 0.4700 - accuracy: 0.8171\n",
      "Epoch 11/30\n",
      "64497/64497 [==============================] - 10s 150us/step - loss: 0.4542 - accuracy: 0.8251\n",
      "Epoch 12/30\n",
      "64497/64497 [==============================] - 10s 151us/step - loss: 0.4427 - accuracy: 0.8298\n",
      "Epoch 13/30\n",
      "64497/64497 [==============================] - 10s 151us/step - loss: 0.4285 - accuracy: 0.8372\n",
      "Epoch 14/30\n",
      "64497/64497 [==============================] - 10s 151us/step - loss: 0.4153 - accuracy: 0.8466\n",
      "Epoch 15/30\n",
      "64497/64497 [==============================] - 10s 151us/step - loss: 0.3965 - accuracy: 0.8534\n",
      "Epoch 16/30\n",
      "64497/64497 [==============================] - 10s 151us/step - loss: 0.4021 - accuracy: 0.8524\n",
      "Epoch 17/30\n",
      "64497/64497 [==============================] - 10s 151us/step - loss: 0.3738 - accuracy: 0.8643\n",
      "Epoch 18/30\n",
      "64497/64497 [==============================] - 10s 152us/step - loss: 0.3532 - accuracy: 0.8703\n",
      "Epoch 19/30\n",
      "64497/64497 [==============================] - 10s 152us/step - loss: 0.3485 - accuracy: 0.8710\n",
      "Epoch 20/30\n",
      "64497/64497 [==============================] - 10s 152us/step - loss: 0.3383 - accuracy: 0.8743\n",
      "Epoch 21/30\n",
      "64497/64497 [==============================] - 10s 152us/step - loss: 0.3562 - accuracy: 0.8722\n",
      "Epoch 22/30\n",
      "64497/64497 [==============================] - 10s 152us/step - loss: 0.3179 - accuracy: 0.8837\n",
      "Epoch 23/30\n",
      "64497/64497 [==============================] - 10s 152us/step - loss: 0.3021 - accuracy: 0.8888\n",
      "Epoch 24/30\n",
      "64497/64497 [==============================] - 10s 152us/step - loss: 0.3062 - accuracy: 0.8863\n",
      "Epoch 25/30\n",
      "64497/64497 [==============================] - 10s 152us/step - loss: 0.2938 - accuracy: 0.8925\n",
      "Epoch 26/30\n",
      "64497/64497 [==============================] - 10s 152us/step - loss: 0.2976 - accuracy: 0.8903\n",
      "Epoch 27/30\n",
      "64497/64497 [==============================] - 10s 152us/step - loss: 0.2852 - accuracy: 0.8949\n",
      "Epoch 28/30\n",
      "64497/64497 [==============================] - 10s 152us/step - loss: 0.2787 - accuracy: 0.8973\n",
      "Epoch 29/30\n",
      "64497/64497 [==============================] - 10s 152us/step - loss: 0.2767 - accuracy: 0.8990\n",
      "Epoch 30/30\n",
      "64497/64497 [==============================] - 10s 152us/step - loss: 0.2754 - accuracy: 0.8980\n",
      "32249/32249 [==============================] - 2s 69us/step\n",
      "Epoch 1/30\n",
      "64497/64497 [==============================] - 10s 156us/step - loss: 1.1543 - accuracy: 0.5415\n",
      "Epoch 2/30\n",
      "64497/64497 [==============================] - 10s 155us/step - loss: 0.7415 - accuracy: 0.7086\n",
      "Epoch 3/30\n",
      "64497/64497 [==============================] - 10s 155us/step - loss: 0.6212 - accuracy: 0.7558\n",
      "Epoch 4/30\n",
      "64497/64497 [==============================] - 10s 155us/step - loss: 0.5714 - accuracy: 0.7748\n",
      "Epoch 5/30\n",
      "64497/64497 [==============================] - 10s 155us/step - loss: 0.5239 - accuracy: 0.7935\n",
      "Epoch 6/30\n",
      "64497/64497 [==============================] - 10s 155us/step - loss: 0.5179 - accuracy: 0.7992\n",
      "Epoch 7/30\n",
      "64497/64497 [==============================] - 10s 155us/step - loss: 0.5011 - accuracy: 0.8053\n",
      "Epoch 8/30\n",
      "64497/64497 [==============================] - 10s 155us/step - loss: 0.4826 - accuracy: 0.8138\n",
      "Epoch 9/30\n",
      "64497/64497 [==============================] - 10s 155us/step - loss: 0.4688 - accuracy: 0.8226\n",
      "Epoch 10/30\n",
      "64497/64497 [==============================] - 10s 156us/step - loss: 0.4518 - accuracy: 0.8279\n",
      "Epoch 11/30\n",
      "64497/64497 [==============================] - 10s 155us/step - loss: 0.4503 - accuracy: 0.8318\n",
      "Epoch 12/30\n",
      "64497/64497 [==============================] - 10s 156us/step - loss: 0.4456 - accuracy: 0.8363\n",
      "Epoch 13/30\n",
      "64497/64497 [==============================] - 10s 157us/step - loss: 0.3967 - accuracy: 0.8538\n",
      "Epoch 14/30\n",
      "64497/64497 [==============================] - 10s 156us/step - loss: 0.3920 - accuracy: 0.8550\n",
      "Epoch 15/30\n",
      "64497/64497 [==============================] - 10s 157us/step - loss: 0.3722 - accuracy: 0.8636\n",
      "Epoch 16/30\n",
      "64497/64497 [==============================] - 10s 157us/step - loss: 0.3682 - accuracy: 0.8647\n",
      "Epoch 17/30\n",
      "64497/64497 [==============================] - 10s 157us/step - loss: 0.3627 - accuracy: 0.8658\n",
      "Epoch 18/30\n",
      "64497/64497 [==============================] - 10s 157us/step - loss: 0.3583 - accuracy: 0.8704\n",
      "Epoch 19/30\n",
      "64497/64497 [==============================] - 10s 158us/step - loss: 0.3242 - accuracy: 0.8810\n",
      "Epoch 20/30\n",
      "64497/64497 [==============================] - 10s 158us/step - loss: 0.3194 - accuracy: 0.8828\n",
      "Epoch 21/30\n",
      "64497/64497 [==============================] - 10s 157us/step - loss: 0.3336 - accuracy: 0.8784\n",
      "Epoch 22/30\n",
      "64497/64497 [==============================] - 10s 160us/step - loss: 0.3070 - accuracy: 0.8880\n",
      "Epoch 23/30\n",
      "64497/64497 [==============================] - 10s 157us/step - loss: 0.3077 - accuracy: 0.8873\n",
      "Epoch 24/30\n",
      "64497/64497 [==============================] - 10s 159us/step - loss: 0.3056 - accuracy: 0.8886\n",
      "Epoch 25/30\n",
      "64497/64497 [==============================] - 10s 158us/step - loss: 0.2987 - accuracy: 0.8901\n",
      "Epoch 26/30\n",
      "64497/64497 [==============================] - 10s 158us/step - loss: 0.2859 - accuracy: 0.8953\n",
      "Epoch 27/30\n",
      "64497/64497 [==============================] - 10s 158us/step - loss: 0.2829 - accuracy: 0.8957\n",
      "Epoch 28/30\n",
      "64497/64497 [==============================] - 10s 160us/step - loss: 0.3001 - accuracy: 0.8910\n",
      "Epoch 29/30\n",
      "64497/64497 [==============================] - 10s 160us/step - loss: 0.2804 - accuracy: 0.8978\n",
      "Epoch 30/30\n",
      "64497/64497 [==============================] - 10s 159us/step - loss: 0.2698 - accuracy: 0.9006\n",
      "32249/32249 [==============================] - 2s 66us/step\n",
      "Epoch 1/30\n",
      "64498/64498 [==============================] - 11s 168us/step - loss: 1.1867 - accuracy: 0.5254\n",
      "Epoch 2/30\n",
      "64498/64498 [==============================] - 10s 158us/step - loss: 0.7066 - accuracy: 0.7224\n",
      "Epoch 3/30\n",
      "64498/64498 [==============================] - 10s 159us/step - loss: 0.6267 - accuracy: 0.7507\n",
      "Epoch 4/30\n",
      "64498/64498 [==============================] - 10s 157us/step - loss: 0.5565 - accuracy: 0.7790\n",
      "Epoch 5/30\n",
      "64498/64498 [==============================] - 10s 158us/step - loss: 0.5910 - accuracy: 0.7658\n",
      "Epoch 6/30\n",
      "64498/64498 [==============================] - 10s 157us/step - loss: 0.5183 - accuracy: 0.7929\n",
      "Epoch 7/30\n",
      "64498/64498 [==============================] - 10s 159us/step - loss: 0.5233 - accuracy: 0.7955\n",
      "Epoch 8/30\n",
      "64498/64498 [==============================] - 10s 161us/step - loss: 0.5146 - accuracy: 0.7997\n",
      "Epoch 9/30\n",
      "64498/64498 [==============================] - 10s 156us/step - loss: 0.4797 - accuracy: 0.8146\n",
      "Epoch 10/30\n",
      "64498/64498 [==============================] - 10s 158us/step - loss: 0.4621 - accuracy: 0.8221\n",
      "Epoch 11/30\n",
      "64498/64498 [==============================] - 10s 156us/step - loss: 0.4479 - accuracy: 0.8301\n",
      "Epoch 12/30\n",
      "64498/64498 [==============================] - 10s 161us/step - loss: 0.4604 - accuracy: 0.8284\n",
      "Epoch 13/30\n",
      "64498/64498 [==============================] - 10s 156us/step - loss: 0.4166 - accuracy: 0.8448\n",
      "Epoch 14/30\n",
      "64498/64498 [==============================] - 10s 157us/step - loss: 0.4057 - accuracy: 0.8506\n",
      "Epoch 15/30\n",
      "64498/64498 [==============================] - 10s 158us/step - loss: 0.3813 - accuracy: 0.8593\n"
     ]
    },
    {
     "name": "stdout",
     "output_type": "stream",
     "text": [
      "Epoch 16/30\n",
      "64498/64498 [==============================] - 10s 159us/step - loss: 0.3685 - accuracy: 0.8636\n",
      "Epoch 17/30\n",
      "64498/64498 [==============================] - 10s 160us/step - loss: 0.3686 - accuracy: 0.8662\n",
      "Epoch 18/30\n",
      "64498/64498 [==============================] - 10s 158us/step - loss: 0.3532 - accuracy: 0.8704\n",
      "Epoch 19/30\n",
      "64498/64498 [==============================] - 10s 159us/step - loss: 0.3286 - accuracy: 0.8794\n",
      "Epoch 20/30\n",
      "64498/64498 [==============================] - 10s 160us/step - loss: 0.4852 - accuracy: 0.8406\n",
      "Epoch 21/30\n",
      "64498/64498 [==============================] - 10s 158us/step - loss: 0.3294 - accuracy: 0.8775\n",
      "Epoch 22/30\n",
      "64498/64498 [==============================] - 10s 158us/step - loss: 0.3157 - accuracy: 0.8848\n",
      "Epoch 23/30\n",
      "64498/64498 [==============================] - 10s 159us/step - loss: 0.3010 - accuracy: 0.8896\n",
      "Epoch 24/30\n",
      "64498/64498 [==============================] - 10s 159us/step - loss: 0.2968 - accuracy: 0.8919\n",
      "Epoch 25/30\n",
      "64498/64498 [==============================] - 10s 159us/step - loss: 0.2948 - accuracy: 0.8905\n",
      "Epoch 26/30\n",
      "64498/64498 [==============================] - 10s 159us/step - loss: 0.2870 - accuracy: 0.8961\n",
      "Epoch 27/30\n",
      "64498/64498 [==============================] - 10s 157us/step - loss: 0.2786 - accuracy: 0.8987\n",
      "Epoch 28/30\n",
      "64498/64498 [==============================] - 10s 155us/step - loss: 0.2760 - accuracy: 0.8997\n",
      "Epoch 29/30\n",
      "64498/64498 [==============================] - 10s 155us/step - loss: 0.2752 - accuracy: 0.8997\n",
      "Epoch 30/30\n",
      "64498/64498 [==============================] - 10s 160us/step - loss: 0.2676 - accuracy: 0.9022\n",
      "32248/32248 [==============================] - 2s 70us/step\n",
      "Class Activation Map Cross validation score : 0.9024\n"
     ]
    }
   ],
   "source": [
    "model = KerasClassifier(build_fn=create_model, epochs=30, batch_size=512, verbose=1) \n",
    "# 3-Fold Crossvalidation\n",
    "kfold = KFold(n_splits=3, shuffle=True, random_state=2019) \n",
    "results = cross_val_score(model, x_train, y_train, cv=kfold)\n",
    "# Check 3-fold model's mean accuracy\n",
    "print('Class Activation Map Cross validation score : {:.4f}'.format(np.mean(results)))"
   ]
  },
  {
   "cell_type": "markdown",
   "metadata": {},
   "source": [
    "- Cross validiationによる精度は99.10%であった．"
   ]
  },
  {
   "cell_type": "markdown",
   "metadata": {},
   "source": [
    "- Cross validationなしで学習する．"
   ]
  },
  {
   "cell_type": "code",
   "execution_count": 53,
   "metadata": {
    "scrolled": true
   },
   "outputs": [
    {
     "name": "stdout",
     "output_type": "stream",
     "text": [
      "Train on 96746 samples, validate on 47652 samples\n",
      "Epoch 1/50\n",
      "96746/96746 [==============================] - 19s 198us/step - loss: 1.0399 - accuracy: 0.5897 - val_loss: 0.9455 - val_accuracy: 0.7008\n",
      "Epoch 2/50\n",
      "96746/96746 [==============================] - 18s 190us/step - loss: 0.6504 - accuracy: 0.7432 - val_loss: 0.5556 - val_accuracy: 0.7758\n",
      "Epoch 3/50\n",
      "96746/96746 [==============================] - 18s 187us/step - loss: 0.5929 - accuracy: 0.7672 - val_loss: 0.5279 - val_accuracy: 0.7901\n",
      "Epoch 4/50\n",
      "96746/96746 [==============================] - 19s 192us/step - loss: 0.5141 - accuracy: 0.7967 - val_loss: 0.5223 - val_accuracy: 0.7928\n",
      "Epoch 5/50\n",
      "96746/96746 [==============================] - 18s 188us/step - loss: 0.4926 - accuracy: 0.8073 - val_loss: 0.4598 - val_accuracy: 0.8164\n",
      "Epoch 6/50\n",
      "96746/96746 [==============================] - 18s 190us/step - loss: 0.4996 - accuracy: 0.8087 - val_loss: 0.4435 - val_accuracy: 0.8346\n",
      "Epoch 7/50\n",
      "96746/96746 [==============================] - 18s 190us/step - loss: 0.4391 - accuracy: 0.8331 - val_loss: 0.4253 - val_accuracy: 0.8367\n",
      "Epoch 8/50\n",
      "96746/96746 [==============================] - 18s 188us/step - loss: 0.4493 - accuracy: 0.8336 - val_loss: 0.4014 - val_accuracy: 0.8509\n",
      "Epoch 9/50\n",
      "96746/96746 [==============================] - 18s 191us/step - loss: 0.4747 - accuracy: 0.8260 - val_loss: 0.4107 - val_accuracy: 0.8527\n",
      "Epoch 10/50\n",
      "96746/96746 [==============================] - 18s 190us/step - loss: 0.3961 - accuracy: 0.8539 - val_loss: 0.3776 - val_accuracy: 0.8592\n",
      "Epoch 11/50\n",
      "96746/96746 [==============================] - 18s 191us/step - loss: 0.3808 - accuracy: 0.8598 - val_loss: 0.3683 - val_accuracy: 0.8687\n",
      "Epoch 12/50\n",
      "96746/96746 [==============================] - 18s 191us/step - loss: 0.3565 - accuracy: 0.8682 - val_loss: 0.3507 - val_accuracy: 0.8733\n",
      "Epoch 13/50\n",
      "96746/96746 [==============================] - 18s 189us/step - loss: 0.3332 - accuracy: 0.8791 - val_loss: 0.3288 - val_accuracy: 0.8793\n",
      "Epoch 14/50\n",
      "96746/96746 [==============================] - 19s 193us/step - loss: 0.3216 - accuracy: 0.8816 - val_loss: 0.3050 - val_accuracy: 0.8862\n",
      "Epoch 15/50\n",
      "96746/96746 [==============================] - 18s 189us/step - loss: 0.3104 - accuracy: 0.8852 - val_loss: 0.3048 - val_accuracy: 0.8872\n",
      "Epoch 16/50\n",
      "96746/96746 [==============================] - 18s 190us/step - loss: 0.3101 - accuracy: 0.8861 - val_loss: 0.2902 - val_accuracy: 0.8945\n",
      "Epoch 17/50\n",
      "96746/96746 [==============================] - 18s 190us/step - loss: 0.2878 - accuracy: 0.8942 - val_loss: 0.2933 - val_accuracy: 0.8881\n",
      "Epoch 18/50\n",
      "96746/96746 [==============================] - 18s 189us/step - loss: 0.2884 - accuracy: 0.8925 - val_loss: 0.3075 - val_accuracy: 0.8867\n",
      "Epoch 19/50\n",
      "96746/96746 [==============================] - 18s 191us/step - loss: 0.2800 - accuracy: 0.8966 - val_loss: 0.2796 - val_accuracy: 0.8959\n",
      "Epoch 20/50\n",
      "96746/96746 [==============================] - 18s 189us/step - loss: 0.2700 - accuracy: 0.9003 - val_loss: 0.2779 - val_accuracy: 0.8978\n",
      "Epoch 21/50\n",
      "96746/96746 [==============================] - 18s 187us/step - loss: 0.2733 - accuracy: 0.8987 - val_loss: 0.2933 - val_accuracy: 0.8900\n",
      "Epoch 22/50\n",
      "96746/96746 [==============================] - 18s 188us/step - loss: 0.2607 - accuracy: 0.9052 - val_loss: 0.2563 - val_accuracy: 0.9046\n",
      "Epoch 23/50\n",
      "96746/96746 [==============================] - 18s 190us/step - loss: 0.2720 - accuracy: 0.9009 - val_loss: 0.2819 - val_accuracy: 0.8991\n",
      "Epoch 24/50\n",
      "96746/96746 [==============================] - 18s 189us/step - loss: 0.2515 - accuracy: 0.9078 - val_loss: 0.2465 - val_accuracy: 0.9106\n",
      "Epoch 25/50\n",
      "96746/96746 [==============================] - 19s 192us/step - loss: 0.2543 - accuracy: 0.9067 - val_loss: 0.2487 - val_accuracy: 0.9102\n",
      "Epoch 26/50\n",
      "96746/96746 [==============================] - 18s 187us/step - loss: 0.2464 - accuracy: 0.9105 - val_loss: 0.2464 - val_accuracy: 0.9027\n",
      "Epoch 27/50\n",
      "96746/96746 [==============================] - 19s 191us/step - loss: 0.2392 - accuracy: 0.9124 - val_loss: 0.2403 - val_accuracy: 0.9096\n",
      "Epoch 28/50\n",
      "96746/96746 [==============================] - 18s 190us/step - loss: 0.2365 - accuracy: 0.9129 - val_loss: 0.2455 - val_accuracy: 0.9099\n",
      "Epoch 29/50\n",
      "96746/96746 [==============================] - 18s 190us/step - loss: 0.2337 - accuracy: 0.9138 - val_loss: 0.2394 - val_accuracy: 0.9143\n",
      "Epoch 30/50\n",
      "96746/96746 [==============================] - 18s 187us/step - loss: 0.2301 - accuracy: 0.9158 - val_loss: 0.2331 - val_accuracy: 0.9147\n",
      "Epoch 31/50\n",
      "96746/96746 [==============================] - 18s 190us/step - loss: 0.2261 - accuracy: 0.9167 - val_loss: 0.2468 - val_accuracy: 0.9076\n",
      "Epoch 32/50\n",
      "96746/96746 [==============================] - 18s 189us/step - loss: 0.2260 - accuracy: 0.9170 - val_loss: 0.2391 - val_accuracy: 0.9120\n",
      "Epoch 33/50\n",
      "96746/96746 [==============================] - 18s 187us/step - loss: 0.2222 - accuracy: 0.9181 - val_loss: 0.2258 - val_accuracy: 0.9185\n",
      "Epoch 34/50\n",
      "96746/96746 [==============================] - 18s 190us/step - loss: 0.2143 - accuracy: 0.9208 - val_loss: 0.2319 - val_accuracy: 0.9102\n",
      "Epoch 35/50\n",
      "96746/96746 [==============================] - 18s 191us/step - loss: 0.2114 - accuracy: 0.9223 - val_loss: 0.2120 - val_accuracy: 0.9215\n",
      "Epoch 36/50\n",
      "96746/96746 [==============================] - 18s 190us/step - loss: 0.2217 - accuracy: 0.9191 - val_loss: 0.2230 - val_accuracy: 0.9199\n",
      "Epoch 37/50\n",
      "96746/96746 [==============================] - 18s 190us/step - loss: 0.2068 - accuracy: 0.9239 - val_loss: 0.1994 - val_accuracy: 0.9267\n",
      "Epoch 38/50\n",
      "96746/96746 [==============================] - 18s 188us/step - loss: 0.2006 - accuracy: 0.9258 - val_loss: 0.2161 - val_accuracy: 0.9164\n",
      "Epoch 39/50\n",
      "96746/96746 [==============================] - 19s 191us/step - loss: 0.2036 - accuracy: 0.9248 - val_loss: 0.1977 - val_accuracy: 0.9276\n",
      "Epoch 40/50\n",
      "96746/96746 [==============================] - 18s 187us/step - loss: 0.1959 - accuracy: 0.9281 - val_loss: 0.2046 - val_accuracy: 0.9255\n",
      "Epoch 41/50\n",
      "96746/96746 [==============================] - 18s 188us/step - loss: 0.1994 - accuracy: 0.9271 - val_loss: 0.2033 - val_accuracy: 0.9265\n",
      "Epoch 42/50\n",
      "96746/96746 [==============================] - 18s 190us/step - loss: 0.1951 - accuracy: 0.9277 - val_loss: 0.2031 - val_accuracy: 0.9251\n",
      "Epoch 43/50\n",
      "96746/96746 [==============================] - 18s 189us/step - loss: 0.1834 - accuracy: 0.9331 - val_loss: 0.1894 - val_accuracy: 0.9299\n",
      "Epoch 44/50\n",
      "96746/96746 [==============================] - 19s 191us/step - loss: 0.1847 - accuracy: 0.9321 - val_loss: 0.2019 - val_accuracy: 0.9235\n",
      "Epoch 45/50\n",
      "96746/96746 [==============================] - 18s 188us/step - loss: 0.1788 - accuracy: 0.9344 - val_loss: 0.1796 - val_accuracy: 0.9330\n",
      "Epoch 46/50\n",
      "96746/96746 [==============================] - 18s 190us/step - loss: 0.1959 - accuracy: 0.9283 - val_loss: 0.1832 - val_accuracy: 0.9309\n",
      "Epoch 47/50\n",
      "96746/96746 [==============================] - 18s 188us/step - loss: 0.1755 - accuracy: 0.9359 - val_loss: 0.1743 - val_accuracy: 0.9362\n",
      "Epoch 48/50\n",
      "96746/96746 [==============================] - 18s 190us/step - loss: 0.1712 - accuracy: 0.9371 - val_loss: 0.1978 - val_accuracy: 0.9242\n",
      "Epoch 49/50\n",
      "96746/96746 [==============================] - 18s 191us/step - loss: 0.1693 - accuracy: 0.9380 - val_loss: 0.1920 - val_accuracy: 0.9302\n",
      "Epoch 50/50\n",
      "96746/96746 [==============================] - 18s 189us/step - loss: 0.1723 - accuracy: 0.9353 - val_loss: 0.1723 - val_accuracy: 0.9376\n"
     ]
    }
   ],
   "source": [
    "history = model.fit(x_train, y_train,\n",
    "         validation_data=[x_test, y_test],\n",
    "         epochs=50,\n",
    "         batch_size=512,\n",
    "         verbose=1\n",
    "         )"
   ]
  },
  {
   "cell_type": "markdown",
   "metadata": {},
   "source": [
    "- テストデータで評価．    "
   ]
  },
  {
   "cell_type": "code",
   "execution_count": 54,
   "metadata": {},
   "outputs": [
    {
     "name": "stdout",
     "output_type": "stream",
     "text": [
      "47652/47652 [==============================] - 3s 63us/step\n",
      "Testing Accuracy: 0.937589168548584\n"
     ]
    }
   ],
   "source": [
    "score = model.score(x_test, y_test)\n",
    "#print('Test Loss:', score[0])\n",
    "#print('Test accuracy:', score[1])\n",
    "print('Testing Accuracy:',score)"
   ]
  },
  {
   "cell_type": "markdown",
   "metadata": {},
   "source": [
    "- モデルは以下．\n",
    "    - 入力層\n",
    "    - 畳み込み層3つ\n",
    "    - Flatten層（1次元に）\n",
    "    - 全結合層3つ"
   ]
  },
  {
   "cell_type": "code",
   "execution_count": 55,
   "metadata": {
    "scrolled": true
   },
   "outputs": [
    {
     "name": "stdout",
     "output_type": "stream",
     "text": [
      "Model: \"model_7\"\n",
      "_________________________________________________________________\n",
      "Layer (type)                 Output Shape              Param #   \n",
      "=================================================================\n",
      "input_3 (InputLayer)         (None, 26, 26, 3)         0         \n",
      "_________________________________________________________________\n",
      "conv1 (Conv2D)               (None, 24, 24, 32)        896       \n",
      "_________________________________________________________________\n",
      "padding1 (ZeroPadding2D)     (None, 26, 26, 32)        0         \n",
      "_________________________________________________________________\n",
      "conv2 (Conv2D)               (None, 24, 24, 64)        18496     \n",
      "_________________________________________________________________\n",
      "padding2 (ZeroPadding2D)     (None, 26, 26, 64)        0         \n",
      "_________________________________________________________________\n",
      "conv3 (Conv2D)               (None, 24, 24, 128)       73856     \n",
      "_________________________________________________________________\n",
      "padding3 (ZeroPadding2D)     (None, 26, 26, 128)       0         \n",
      "_________________________________________________________________\n",
      "conv4 (Conv2D)               (None, 24, 24, 256)       295168    \n",
      "_________________________________________________________________\n",
      "GAP (GlobalAveragePooling2D) (None, 256)               0         \n",
      "_________________________________________________________________\n",
      "output (Dense)               (None, 9)                 2313      \n",
      "=================================================================\n",
      "Total params: 390,729\n",
      "Trainable params: 390,729\n",
      "Non-trainable params: 0\n",
      "_________________________________________________________________\n"
     ]
    }
   ],
   "source": [
    "model.model.summary()"
   ]
  },
  {
   "cell_type": "markdown",
   "metadata": {},
   "source": [
    "- accuracyグラフ，lossグラフは以下．\n",
    "- 5epoch程度で落ち着いている．"
   ]
  },
  {
   "cell_type": "code",
   "execution_count": 56,
   "metadata": {},
   "outputs": [
    {
     "data": {
      "image/png": "[encoded data removed]",
      "text/plain": [
       "<Figure size 432x288 with 1 Axes>"
      ]
     },
     "metadata": {
      "needs_background": "light"
     },
     "output_type": "display_data"
    },
    {
     "data": {
      "image/png": "[encoded data removed]",
      "text/plain": [
       "<Figure size 432x288 with 1 Axes>"
      ]
     },
     "metadata": {
      "needs_background": "light"
     },
     "output_type": "display_data"
    }
   ],
   "source": [
    "# accuracy plot \n",
    "plt.plot(history.history['accuracy'])\n",
    "plt.plot(history.history['val_accuracy'])\n",
    "plt.title('model accuracy')\n",
    "plt.ylabel('accuracy')\n",
    "plt.xlabel('epoch')\n",
    "plt.legend(['train', 'test'], loc='upper left')\n",
    "plt.show()\n",
    "\n",
    "# loss plot\n",
    "plt.plot(history.history['loss'])\n",
    "plt.plot(history.history['val_loss'])\n",
    "plt.title('model loss')\n",
    "plt.ylabel('loss')\n",
    "plt.xlabel('epoch')\n",
    "plt.legend(['train', 'test'], loc='upper left')\n",
    "plt.show()"
   ]
  },
  {
   "cell_type": "markdown",
   "metadata": {},
   "source": [
    "### クラス活性化マップ"
   ]
  },
  {
   "cell_type": "code",
   "execution_count": 57,
   "metadata": {},
   "outputs": [],
   "source": [
    "#set target wafer number\n",
    "target_wafer_num = 2\n",
    "# predict \n",
    "prob = model.model.predict(x_test[target_wafer_num].reshape(1,26,26,3))"
   ]
  },
  {
   "cell_type": "code",
   "execution_count": 58,
   "metadata": {},
   "outputs": [],
   "source": [
    "aver_output = model.model.layers[7]\n",
    "aver_model = models.Model(input_tensor, aver_output.output)\n",
    "cam_result = aver_model.predict(x_test[target_wafer_num].reshape(1, 26, 26, 3))"
   ]
  },
  {
   "cell_type": "code",
   "execution_count": 59,
   "metadata": {},
   "outputs": [],
   "source": [
    "weight_result = model.model.layers[-1].get_weights()[0]"
   ]
  },
  {
   "cell_type": "code",
   "execution_count": 60,
   "metadata": {},
   "outputs": [],
   "source": [
    "def make_cam(cam_result, weight_result): \n",
    "    cam_arr = np.zeros((1,24, 24))\n",
    "    for row in range(0,9):\n",
    "        cam = np.zeros((1, 24, 24))\n",
    "        for i, w in enumerate(weight_result[:, row]):\n",
    "            cam += (w*cam_result[0,:,:,i]).reshape(24,24)\n",
    "        cam = (cam - np.min(cam)) / (np.max(cam) - np.min(cam))\n",
    "        cam[mask_x == 0] = 0\n",
    "        cam_arr = np.concatenate((cam_arr, cam))\n",
    "    return cam_arr[1:]\n",
    "\n",
    "def display_activation(cam_arr, prob, wafer): \n",
    "    fig, ax = plt.subplots(9, 1, figsize=(50, 50))\n",
    "    count = 0\n",
    "    cam_arr[np.percentile(cam_arr, 0.8) > cam_arr] = 0\n",
    "    for row in range(0,9):\n",
    "        ax[row].imshow(np.argmax(wafer, axis=2))\n",
    "        ax[row].imshow(cam_arr[row],cmap='Reds', alpha=0.7)\n",
    "        ax[row].set_title('class : ' + faulty_case_dict[count]+', prob : {:.4f}'.format(prob[:, count][0]*100) + '%')\n",
    "        count += 1"
   ]
  },
  {
   "cell_type": "code",
   "execution_count": 61,
   "metadata": {},
   "outputs": [
    {
     "data": {
      "text/plain": [
       "'Edge-Ring'"
      ]
     },
     "execution_count": 61,
     "metadata": {},
     "output_type": "execute_result"
    }
   ],
   "source": [
    "faulty_case_dict[np.argmax(y_test[target_wafer_num])]"
   ]
  },
  {
   "cell_type": "code",
   "execution_count": 62,
   "metadata": {},
   "outputs": [
    {
     "name": "stdout",
     "output_type": "stream",
     "text": [
      "faulty case : Edge-Ring\n"
     ]
    },
    {
     "data": {
      "image/png": "[encoded data removed]",
      "text/plain": [
       "<Figure size 432x288 with 1 Axes>"
      ]
     },
     "metadata": {
      "needs_background": "light"
     },
     "output_type": "display_data"
    }
   ],
   "source": [
    "plt.imshow(np.argmax(x_test[target_wafer_num], axis=2))\n",
    "print('faulty case : {}'.format(faulty_case_dict[np.argmax(y_test[target_wafer_num])]))"
   ]
  },
  {
   "cell_type": "markdown",
   "metadata": {},
   "source": [
    "- 対象のウエハの画像と不良パターンの表示"
   ]
  },
  {
   "cell_type": "code",
   "execution_count": 63,
   "metadata": {},
   "outputs": [
    {
     "data": {
      "text/plain": [
       "(1, 24, 24, 256)"
      ]
     },
     "execution_count": 63,
     "metadata": {},
     "output_type": "execute_result"
    }
   ],
   "source": [
    "cam_result.shape"
   ]
  },
  {
   "cell_type": "code",
   "execution_count": 64,
   "metadata": {},
   "outputs": [],
   "source": [
    "cam_arr = make_cam(cam_result, weight_result)"
   ]
  },
  {
   "cell_type": "code",
   "execution_count": 65,
   "metadata": {},
   "outputs": [
    {
     "data": {
      "text/plain": [
       "(1, 9)"
      ]
     },
     "execution_count": 65,
     "metadata": {},
     "output_type": "execute_result"
    }
   ],
   "source": [
    "prob.shape"
   ]
  },
  {
   "cell_type": "code",
   "execution_count": 66,
   "metadata": {},
   "outputs": [
    {
     "data": {
      "image/png": "[encoded data removed]",
      "text/plain": [
       "<Figure size 3600x3600 with 9 Axes>"
      ]
     },
     "metadata": {
      "needs_background": "light"
     },
     "output_type": "display_data"
    }
   ],
   "source": [
    "display_activation(cam_arr, prob, x_test[target_wafer_num])"
   ]
  },
  {
   "cell_type": "markdown",
   "metadata": {},
   "source": [
    "- 活性化マップの表示\n",
    "- ドーナツでは円形状にヒートマップの赤い部分が点在している"
   ]
  },
  {
   "cell_type": "code",
   "execution_count": null,
   "metadata": {},
   "outputs": [],
   "source": []
  },
  {
   "cell_type": "markdown",
   "metadata": {},
   "source": [
    "### CNN"
   ]
  },
  {
   "cell_type": "code",
   "execution_count": 67,
   "metadata": {},
   "outputs": [],
   "source": [
    "input_shape = (26, 26, 3)\n",
    "input_tensor = Input(input_shape)\n",
    "def create_model():\n",
    "\n",
    "\n",
    "    conv_1 = layers.Conv2D(16, (3,3), activation='relu', padding='same')(input_tensor)\n",
    "    conv_2 = layers.Conv2D(64, (3,3), activation='relu', padding='same')(conv_1)\n",
    "    conv_3 = layers.Conv2D(128, (3,3), activation='relu', padding='same')(conv_2)\n",
    "\n",
    "    flat = layers.Flatten()(conv_3)\n",
    "\n",
    "    dense_1 = layers.Dense(512, activation='relu')(flat)\n",
    "    dense_2 = layers.Dense(128, activation='relu')(dense_1)\n",
    "    output_tensor = layers.Dense(9, activation='softmax')(dense_2)\n",
    "\n",
    "    model = models.Model(input_tensor, output_tensor)\n",
    "    model.compile(optimizer='Adam',\n",
    "                 loss='categorical_crossentropy',\n",
    "                 metrics=['accuracy'])\n",
    "\n",
    "    return model"
   ]
  },
  {
   "cell_type": "markdown",
   "metadata": {},
   "source": [
    "- 3-Fold Cross validationで分割して学習する．"
   ]
  },
  {
   "cell_type": "code",
   "execution_count": 68,
   "metadata": {
    "scrolled": true
   },
   "outputs": [
    {
     "name": "stdout",
     "output_type": "stream",
     "text": [
      "Epoch 1/30\n",
      "64497/64497 [==============================] - 8s 123us/step - loss: 0.9865 - accuracy: 0.6586\n",
      "Epoch 2/30\n",
      "64497/64497 [==============================] - 7s 109us/step - loss: 0.3162 - accuracy: 0.8833\n",
      "Epoch 3/30\n",
      "64497/64497 [==============================] - 7s 109us/step - loss: 0.2200 - accuracy: 0.9244\n",
      "Epoch 4/30\n",
      "64497/64497 [==============================] - 7s 108us/step - loss: 0.1297 - accuracy: 0.9571\n",
      "Epoch 5/30\n",
      "64497/64497 [==============================] - 7s 112us/step - loss: 0.0805 - accuracy: 0.9740\n",
      "Epoch 6/30\n",
      "64497/64497 [==============================] - 7s 109us/step - loss: 0.0509 - accuracy: 0.9846\n",
      "Epoch 7/30\n",
      "64497/64497 [==============================] - 7s 108us/step - loss: 0.0273 - accuracy: 0.9929\n",
      "Epoch 8/30\n",
      "64497/64497 [==============================] - 7s 108us/step - loss: 0.1838 - accuracy: 0.9566\n",
      "Epoch 9/30\n",
      "64497/64497 [==============================] - 7s 109us/step - loss: 0.0213 - accuracy: 0.9950\n",
      "Epoch 10/30\n",
      "64497/64497 [==============================] - 7s 108us/step - loss: 0.0120 - accuracy: 0.9976\n",
      "Epoch 11/30\n",
      "64497/64497 [==============================] - 7s 110us/step - loss: 0.0106 - accuracy: 0.9980\n",
      "Epoch 12/30\n",
      "64497/64497 [==============================] - 7s 111us/step - loss: 0.0091 - accuracy: 0.9981\n",
      "Epoch 13/30\n",
      "64497/64497 [==============================] - 7s 108us/step - loss: 0.0079 - accuracy: 0.9983\n",
      "Epoch 14/30\n",
      "64497/64497 [==============================] - 7s 108us/step - loss: 0.0072 - accuracy: 0.9983\n",
      "Epoch 15/30\n",
      "64497/64497 [==============================] - 7s 109us/step - loss: 0.0071 - accuracy: 0.9983\n",
      "Epoch 16/30\n",
      "64497/64497 [==============================] - 7s 108us/step - loss: 0.0070 - accuracy: 0.9981\n",
      "Epoch 17/30\n",
      "64497/64497 [==============================] - 7s 109us/step - loss: 0.0066 - accuracy: 0.9984\n",
      "Epoch 18/30\n",
      "64497/64497 [==============================] - 7s 110us/step - loss: 0.0066 - accuracy: 0.9983\n",
      "Epoch 19/30\n",
      "64497/64497 [==============================] - 7s 109us/step - loss: 0.0057 - accuracy: 0.9985\n",
      "Epoch 20/30\n",
      "64497/64497 [==============================] - 7s 109us/step - loss: 0.0072 - accuracy: 0.9983\n",
      "Epoch 21/30\n",
      "64497/64497 [==============================] - 7s 109us/step - loss: 0.0063 - accuracy: 0.9984\n",
      "Epoch 22/30\n",
      "64497/64497 [==============================] - 7s 109us/step - loss: 0.0050 - accuracy: 0.9987\n",
      "Epoch 23/30\n",
      "64497/64497 [==============================] - 7s 109us/step - loss: 0.0046 - accuracy: 0.9986\n",
      "Epoch 24/30\n",
      "64497/64497 [==============================] - 7s 110us/step - loss: 0.0041 - accuracy: 0.9990\n",
      "Epoch 25/30\n",
      "64497/64497 [==============================] - 7s 109us/step - loss: 0.0044 - accuracy: 0.9988\n",
      "Epoch 26/30\n",
      "64497/64497 [==============================] - 7s 109us/step - loss: 0.0046 - accuracy: 0.9988\n",
      "Epoch 27/30\n",
      "64497/64497 [==============================] - 7s 109us/step - loss: 0.0043 - accuracy: 0.9989\n",
      "Epoch 28/30\n",
      "64497/64497 [==============================] - 7s 109us/step - loss: 0.0052 - accuracy: 0.9987\n",
      "Epoch 29/30\n",
      "64497/64497 [==============================] - 7s 109us/step - loss: 0.0036 - accuracy: 0.9990\n",
      "Epoch 30/30\n",
      "64497/64497 [==============================] - 7s 109us/step - loss: 0.0039 - accuracy: 0.9989\n",
      "32249/32249 [==============================] - 1s 46us/step\n",
      "Epoch 1/30\n",
      "64497/64497 [==============================] - 7s 110us/step - loss: 1.0589 - accuracy: 0.6507\n",
      "Epoch 2/30\n",
      "64497/64497 [==============================] - 7s 109us/step - loss: 0.3648 - accuracy: 0.8777\n",
      "Epoch 3/30\n",
      "64497/64497 [==============================] - 7s 108us/step - loss: 0.2539 - accuracy: 0.9115\n",
      "Epoch 4/30\n",
      "64497/64497 [==============================] - 7s 109us/step - loss: 0.1579 - accuracy: 0.9460\n",
      "Epoch 5/30\n",
      "64497/64497 [==============================] - 7s 109us/step - loss: 0.1092 - accuracy: 0.9641\n",
      "Epoch 6/30\n",
      "64497/64497 [==============================] - 7s 110us/step - loss: 0.0682 - accuracy: 0.9789\n",
      "Epoch 7/30\n",
      "64497/64497 [==============================] - 7s 109us/step - loss: 0.0413 - accuracy: 0.9880\n",
      "Epoch 8/30\n",
      "64497/64497 [==============================] - 7s 108us/step - loss: 0.0255 - accuracy: 0.9936\n",
      "Epoch 9/30\n",
      "64497/64497 [==============================] - 7s 108us/step - loss: 0.0154 - accuracy: 0.9966\n",
      "Epoch 10/30\n",
      "64497/64497 [==============================] - 7s 109us/step - loss: 0.0132 - accuracy: 0.9974\n",
      "Epoch 11/30\n",
      "64497/64497 [==============================] - 7s 109us/step - loss: 0.0101 - accuracy: 0.9981\n",
      "Epoch 12/30\n",
      "64497/64497 [==============================] - 7s 109us/step - loss: 0.0096 - accuracy: 0.9980\n",
      "Epoch 13/30\n",
      "64497/64497 [==============================] - 7s 109us/step - loss: 0.0089 - accuracy: 0.9981\n",
      "Epoch 14/30\n",
      "64497/64497 [==============================] - 7s 109us/step - loss: 0.0086 - accuracy: 0.9980\n",
      "Epoch 15/30\n",
      "64497/64497 [==============================] - 7s 109us/step - loss: 0.0071 - accuracy: 0.9983\n",
      "Epoch 16/30\n",
      "64497/64497 [==============================] - 7s 110us/step - loss: 0.0070 - accuracy: 0.9985\n",
      "Epoch 17/30\n",
      "64497/64497 [==============================] - 7s 110us/step - loss: 0.0065 - accuracy: 0.9985\n",
      "Epoch 18/30\n",
      "64497/64497 [==============================] - 7s 108us/step - loss: 0.0064 - accuracy: 0.9985\n",
      "Epoch 19/30\n",
      "64497/64497 [==============================] - 7s 109us/step - loss: 0.0063 - accuracy: 0.9985\n",
      "Epoch 20/30\n",
      "64497/64497 [==============================] - 7s 109us/step - loss: 0.0062 - accuracy: 0.9984\n",
      "Epoch 21/30\n",
      "64497/64497 [==============================] - 7s 109us/step - loss: 0.0105 - accuracy: 0.9973\n",
      "Epoch 22/30\n",
      "64497/64497 [==============================] - 7s 110us/step - loss: 0.2818 - accuracy: 0.9209\n",
      "Epoch 23/30\n",
      "64497/64497 [==============================] - 7s 108us/step - loss: 0.0260 - accuracy: 0.9928\n",
      "Epoch 24/30\n",
      "64497/64497 [==============================] - 7s 108us/step - loss: 0.0097 - accuracy: 0.9980\n",
      "Epoch 25/30\n",
      "64497/64497 [==============================] - 7s 109us/step - loss: 0.0067 - accuracy: 0.9984\n",
      "Epoch 26/30\n",
      "64497/64497 [==============================] - 7s 109us/step - loss: 0.0059 - accuracy: 0.9987\n",
      "Epoch 27/30\n",
      "64497/64497 [==============================] - 7s 109us/step - loss: 0.0050 - accuracy: 0.9987\n",
      "Epoch 28/30\n",
      "64497/64497 [==============================] - 7s 111us/step - loss: 0.0042 - accuracy: 0.9988\n",
      "Epoch 29/30\n",
      "64497/64497 [==============================] - 7s 109us/step - loss: 0.0046 - accuracy: 0.9988\n",
      "Epoch 30/30\n",
      "64497/64497 [==============================] - 7s 107us/step - loss: 0.0050 - accuracy: 0.9987\n",
      "32249/32249 [==============================] - 1s 42us/step\n",
      "Epoch 1/30\n",
      "64498/64498 [==============================] - 8s 118us/step - loss: 0.9739 - accuracy: 0.6612\n",
      "Epoch 2/30\n",
      "64498/64498 [==============================] - 7s 109us/step - loss: 0.2964 - accuracy: 0.8943\n",
      "Epoch 3/30\n",
      "64498/64498 [==============================] - 7s 109us/step - loss: 0.1960 - accuracy: 0.9333\n",
      "Epoch 4/30\n",
      "64498/64498 [==============================] - 7s 110us/step - loss: 0.1223 - accuracy: 0.9596\n",
      "Epoch 5/30\n",
      "64498/64498 [==============================] - 7s 109us/step - loss: 0.0760 - accuracy: 0.9769\n",
      "Epoch 6/30\n",
      "64498/64498 [==============================] - 7s 109us/step - loss: 0.0448 - accuracy: 0.9878\n",
      "Epoch 7/30\n",
      "64498/64498 [==============================] - 7s 110us/step - loss: 0.0252 - accuracy: 0.9935\n",
      "Epoch 8/30\n",
      "64498/64498 [==============================] - 7s 109us/step - loss: 0.0181 - accuracy: 0.9960\n",
      "Epoch 9/30\n",
      "64498/64498 [==============================] - 7s 110us/step - loss: 0.0120 - accuracy: 0.9978\n",
      "Epoch 10/30\n",
      "64498/64498 [==============================] - 7s 110us/step - loss: 0.0114 - accuracy: 0.9977\n",
      "Epoch 11/30\n",
      "64498/64498 [==============================] - 7s 110us/step - loss: 0.0110 - accuracy: 0.9978\n",
      "Epoch 12/30\n",
      "64498/64498 [==============================] - 7s 110us/step - loss: 0.0101 - accuracy: 0.9979\n",
      "Epoch 13/30\n",
      "64498/64498 [==============================] - 7s 110us/step - loss: 0.0082 - accuracy: 0.9982\n",
      "Epoch 14/30\n",
      "64498/64498 [==============================] - 7s 110us/step - loss: 0.0072 - accuracy: 0.9984\n",
      "Epoch 15/30\n",
      "64498/64498 [==============================] - 7s 110us/step - loss: 0.0076 - accuracy: 0.9982\n",
      "Epoch 16/30\n"
     ]
    },
    {
     "name": "stdout",
     "output_type": "stream",
     "text": [
      "64498/64498 [==============================] - 7s 109us/step - loss: 1.0442 - accuracy: 0.7752\n",
      "Epoch 17/30\n",
      "64498/64498 [==============================] - 7s 109us/step - loss: 0.1550 - accuracy: 0.9462\n",
      "Epoch 18/30\n",
      "64498/64498 [==============================] - 7s 109us/step - loss: 0.0579 - accuracy: 0.9835\n",
      "Epoch 19/30\n",
      "64498/64498 [==============================] - 7s 108us/step - loss: 0.0241 - accuracy: 0.9945\n",
      "Epoch 20/30\n",
      "64498/64498 [==============================] - 7s 109us/step - loss: 0.0142 - accuracy: 0.9973\n",
      "Epoch 21/30\n",
      "64498/64498 [==============================] - 7s 108us/step - loss: 0.0099 - accuracy: 0.9981\n",
      "Epoch 22/30\n",
      "64498/64498 [==============================] - 7s 109us/step - loss: 0.0081 - accuracy: 0.9983\n",
      "Epoch 23/30\n",
      "64498/64498 [==============================] - 7s 109us/step - loss: 0.0082 - accuracy: 0.9981\n",
      "Epoch 24/30\n",
      "64498/64498 [==============================] - 7s 108us/step - loss: 0.0079 - accuracy: 0.9983\n",
      "Epoch 25/30\n",
      "64498/64498 [==============================] - 7s 108us/step - loss: 0.0071 - accuracy: 0.9983\n",
      "Epoch 26/30\n",
      "64498/64498 [==============================] - 7s 109us/step - loss: 0.0076 - accuracy: 0.9982\n",
      "Epoch 27/30\n",
      "64498/64498 [==============================] - 7s 110us/step - loss: 0.0061 - accuracy: 0.9986\n",
      "Epoch 28/30\n",
      "64498/64498 [==============================] - 7s 109us/step - loss: 0.0062 - accuracy: 0.9985\n",
      "Epoch 29/30\n",
      "64498/64498 [==============================] - 7s 108us/step - loss: 0.0060 - accuracy: 0.9983\n",
      "Epoch 30/30\n",
      "64498/64498 [==============================] - 7s 108us/step - loss: 0.0061 - accuracy: 0.9984\n",
      "32248/32248 [==============================] - 1s 46us/step\n",
      "Simple CNN Cross validation score : 0.9814\n"
     ]
    }
   ],
   "source": [
    "model = KerasClassifier(build_fn=create_model, epochs=30, batch_size=1024, verbose=1) \n",
    "# 3-Fold Crossvalidation\n",
    "kfold = KFold(n_splits=3, shuffle=True, random_state=2019) \n",
    "results = cross_val_score(model, x_train, y_train, cv=kfold)\n",
    "# Check 3-fold model's mean accuracy\n",
    "print('Simple CNN Cross validation score : {:.4f}'.format(np.mean(results)))"
   ]
  },
  {
   "cell_type": "markdown",
   "metadata": {},
   "source": [
    "- Cross validiationによる精度は99.55%であった．"
   ]
  },
  {
   "cell_type": "markdown",
   "metadata": {},
   "source": [
    "- Cross validationなしで学習する．"
   ]
  },
  {
   "cell_type": "code",
   "execution_count": 69,
   "metadata": {
    "scrolled": true
   },
   "outputs": [
    {
     "name": "stdout",
     "output_type": "stream",
     "text": [
      "Train on 96746 samples, validate on 47652 samples\n",
      "Epoch 1/30\n",
      "96746/96746 [==============================] - 13s 134us/step - loss: 0.8248 - accuracy: 0.7184 - val_loss: 0.3328 - val_accuracy: 0.8714\n",
      "Epoch 2/30\n",
      "96746/96746 [==============================] - 13s 130us/step - loss: 0.2478 - accuracy: 0.9106 - val_loss: 0.2071 - val_accuracy: 0.9271\n",
      "Epoch 3/30\n",
      "96746/96746 [==============================] - 13s 130us/step - loss: 0.1707 - accuracy: 0.9434 - val_loss: 0.1588 - val_accuracy: 0.9471\n",
      "Epoch 4/30\n",
      "96746/96746 [==============================] - 13s 131us/step - loss: 0.1029 - accuracy: 0.9662 - val_loss: 0.1055 - val_accuracy: 0.9650\n",
      "Epoch 5/30\n",
      "96746/96746 [==============================] - 13s 130us/step - loss: 0.0554 - accuracy: 0.9828 - val_loss: 0.0771 - val_accuracy: 0.9751\n",
      "Epoch 6/30\n",
      "96746/96746 [==============================] - 13s 131us/step - loss: 0.0312 - accuracy: 0.9915 - val_loss: 0.0705 - val_accuracy: 0.9791\n",
      "Epoch 7/30\n",
      "96746/96746 [==============================] - 13s 131us/step - loss: 0.0243 - accuracy: 0.9933 - val_loss: 0.0592 - val_accuracy: 0.9825\n",
      "Epoch 8/30\n",
      "96746/96746 [==============================] - 13s 130us/step - loss: 0.0136 - accuracy: 0.9970 - val_loss: 0.0447 - val_accuracy: 0.9885\n",
      "Epoch 9/30\n",
      "96746/96746 [==============================] - 13s 129us/step - loss: 0.0124 - accuracy: 0.9974 - val_loss: 0.0458 - val_accuracy: 0.9883\n",
      "Epoch 10/30\n",
      "96746/96746 [==============================] - 13s 130us/step - loss: 0.0101 - accuracy: 0.9979 - val_loss: 0.0442 - val_accuracy: 0.9898\n",
      "Epoch 11/30\n",
      "96746/96746 [==============================] - 13s 130us/step - loss: 0.0092 - accuracy: 0.9980 - val_loss: 0.0457 - val_accuracy: 0.9892\n",
      "Epoch 12/30\n",
      "96746/96746 [==============================] - 13s 130us/step - loss: 0.0078 - accuracy: 0.9982 - val_loss: 0.0467 - val_accuracy: 0.9895\n",
      "Epoch 13/30\n",
      "96746/96746 [==============================] - 13s 130us/step - loss: 0.0078 - accuracy: 0.9982 - val_loss: 0.0442 - val_accuracy: 0.9901\n",
      "Epoch 14/30\n",
      "96746/96746 [==============================] - 13s 131us/step - loss: 0.0077 - accuracy: 0.9982 - val_loss: 0.0399 - val_accuracy: 0.9903\n",
      "Epoch 15/30\n",
      "96746/96746 [==============================] - 13s 130us/step - loss: 0.0074 - accuracy: 0.9983 - val_loss: 0.0437 - val_accuracy: 0.9906\n",
      "Epoch 16/30\n",
      "96746/96746 [==============================] - 12s 129us/step - loss: 0.4934 - accuracy: 0.8658 - val_loss: 0.1700 - val_accuracy: 0.9403\n",
      "Epoch 17/30\n",
      "96746/96746 [==============================] - 13s 130us/step - loss: 0.1055 - accuracy: 0.9646 - val_loss: 0.0832 - val_accuracy: 0.9724\n",
      "Epoch 18/30\n",
      "96746/96746 [==============================] - 13s 130us/step - loss: 0.0355 - accuracy: 0.9897 - val_loss: 0.0507 - val_accuracy: 0.9865\n",
      "Epoch 19/30\n",
      "96746/96746 [==============================] - 13s 130us/step - loss: 0.0144 - accuracy: 0.9970 - val_loss: 0.0434 - val_accuracy: 0.9893\n",
      "Epoch 20/30\n",
      "96746/96746 [==============================] - 13s 130us/step - loss: 0.0103 - accuracy: 0.9979 - val_loss: 0.0428 - val_accuracy: 0.9901\n",
      "Epoch 21/30\n",
      "96746/96746 [==============================] - 13s 131us/step - loss: 0.0078 - accuracy: 0.9982 - val_loss: 0.0475 - val_accuracy: 0.9889\n",
      "Epoch 22/30\n",
      "96746/96746 [==============================] - 13s 130us/step - loss: 0.0076 - accuracy: 0.9981 - val_loss: 0.0414 - val_accuracy: 0.9907\n",
      "Epoch 23/30\n",
      "96746/96746 [==============================] - 13s 130us/step - loss: 0.0067 - accuracy: 0.9984 - val_loss: 0.0432 - val_accuracy: 0.9907\n",
      "Epoch 24/30\n",
      "96746/96746 [==============================] - 13s 130us/step - loss: 0.0068 - accuracy: 0.9983 - val_loss: 0.0459 - val_accuracy: 0.9897\n",
      "Epoch 25/30\n",
      "96746/96746 [==============================] - 13s 130us/step - loss: 0.0057 - accuracy: 0.9984 - val_loss: 0.0388 - val_accuracy: 0.9911\n",
      "Epoch 26/30\n",
      "96746/96746 [==============================] - 12s 129us/step - loss: 0.0058 - accuracy: 0.9986 - val_loss: 0.0412 - val_accuracy: 0.9912\n",
      "Epoch 27/30\n",
      "96746/96746 [==============================] - 12s 129us/step - loss: 0.0051 - accuracy: 0.9986 - val_loss: 0.0417 - val_accuracy: 0.9902\n",
      "Epoch 28/30\n",
      "96746/96746 [==============================] - 13s 129us/step - loss: 0.0052 - accuracy: 0.9985 - val_loss: 0.0455 - val_accuracy: 0.9896\n",
      "Epoch 29/30\n",
      "96746/96746 [==============================] - 12s 129us/step - loss: 0.0050 - accuracy: 0.9986 - val_loss: 0.0434 - val_accuracy: 0.9909\n",
      "Epoch 30/30\n",
      "96746/96746 [==============================] - 13s 130us/step - loss: 0.0047 - accuracy: 0.9987 - val_loss: 0.0431 - val_accuracy: 0.9912\n"
     ]
    }
   ],
   "source": [
    "history = model.fit(x_train, y_train,\n",
    "         validation_data=[x_test, y_test],\n",
    "         epochs=epoch,\n",
    "         batch_size=batch_size,\n",
    "         verbose=1           \n",
    "         )"
   ]
  },
  {
   "cell_type": "markdown",
   "metadata": {},
   "source": [
    "- テストデータで評価．    "
   ]
  },
  {
   "cell_type": "code",
   "execution_count": 70,
   "metadata": {},
   "outputs": [
    {
     "name": "stdout",
     "output_type": "stream",
     "text": [
      "47652/47652 [==============================] - 2s 42us/step\n",
      "Testing Accuracy: 0.9912490844726562\n"
     ]
    }
   ],
   "source": [
    "score = model.score(x_test, y_test)\n",
    "#print('Test Loss:', score[0])\n",
    "#print('Test accuracy:', score[1])\n",
    "print('Testing Accuracy:',score)"
   ]
  },
  {
   "cell_type": "markdown",
   "metadata": {},
   "source": [
    "- acuurayは99.70%であった．"
   ]
  },
  {
   "cell_type": "markdown",
   "metadata": {},
   "source": [
    "- モデルは以下．\n",
    "    - 入力層\n",
    "    - 畳み込み層3つ\n",
    "    - Flatten層（1次元に）\n",
    "    - 全結合層3つ"
   ]
  },
  {
   "cell_type": "code",
   "execution_count": 71,
   "metadata": {
    "scrolled": true
   },
   "outputs": [
    {
     "name": "stdout",
     "output_type": "stream",
     "text": [
      "Model: \"model_12\"\n",
      "_________________________________________________________________\n",
      "Layer (type)                 Output Shape              Param #   \n",
      "=================================================================\n",
      "input_4 (InputLayer)         (None, 26, 26, 3)         0         \n",
      "_________________________________________________________________\n",
      "conv2d_11 (Conv2D)           (None, 26, 26, 16)        448       \n",
      "_________________________________________________________________\n",
      "conv2d_12 (Conv2D)           (None, 26, 26, 64)        9280      \n",
      "_________________________________________________________________\n",
      "conv2d_13 (Conv2D)           (None, 26, 26, 128)       73856     \n",
      "_________________________________________________________________\n",
      "flatten_4 (Flatten)          (None, 86528)             0         \n",
      "_________________________________________________________________\n",
      "dense_10 (Dense)             (None, 512)               44302848  \n",
      "_________________________________________________________________\n",
      "dense_11 (Dense)             (None, 128)               65664     \n",
      "_________________________________________________________________\n",
      "dense_12 (Dense)             (None, 9)                 1161      \n",
      "=================================================================\n",
      "Total params: 44,453,257\n",
      "Trainable params: 44,453,257\n",
      "Non-trainable params: 0\n",
      "_________________________________________________________________\n"
     ]
    }
   ],
   "source": [
    "model.model.summary()"
   ]
  },
  {
   "cell_type": "markdown",
   "metadata": {},
   "source": [
    "- accuracyグラフ，lossグラフは以下．\n",
    "- 5epoch程度で落ち着いている．"
   ]
  },
  {
   "cell_type": "code",
   "execution_count": 72,
   "metadata": {},
   "outputs": [
    {
     "data": {
      "image/png": "[encoded data removed]",
      "text/plain": [
       "<Figure size 432x288 with 1 Axes>"
      ]
     },
     "metadata": {
      "needs_background": "light"
     },
     "output_type": "display_data"
    },
    {
     "data": {
      "image/png": "[encoded data removed]",
      "text/plain": [
       "<Figure size 432x288 with 1 Axes>"
      ]
     },
     "metadata": {
      "needs_background": "light"
     },
     "output_type": "display_data"
    }
   ],
   "source": [
    "# accuracy plot \n",
    "plt.plot(history.history['accuracy'])\n",
    "plt.plot(history.history['val_accuracy'])\n",
    "plt.title('model accuracy')\n",
    "plt.ylabel('accuracy')\n",
    "plt.xlabel('epoch')\n",
    "plt.legend(['train', 'test'], loc='upper left')\n",
    "plt.show()\n",
    "\n",
    "# loss plot\n",
    "plt.plot(history.history['loss'])\n",
    "plt.plot(history.history['val_loss'])\n",
    "plt.title('model loss')\n",
    "plt.ylabel('loss')\n",
    "plt.xlabel('epoch')\n",
    "plt.legend(['train', 'test'], loc='upper left')\n",
    "plt.show()"
   ]
  },
  {
   "cell_type": "code",
   "execution_count": 73,
   "metadata": {},
   "outputs": [
    {
     "name": "stdout",
     "output_type": "stream",
     "text": [
      "96746/96746 [==============================] - 4s 39us/step\n",
      "47652/47652 [==============================] - 2s 38us/step\n",
      "5\n",
      "5\n",
      "Training acc: 99.88526657432865\n",
      "Testing acc: 99.12490556534877\n",
      "y_train_pred[:100]:  [5 0 2 5 2 5 8 8 8 8 2 2 4 7 1 7 2 8 5 8 2 6 4 7 6 8 4 8 0 0 5 8 5 3 5 5 2\n",
      " 8 6 3 3 4 5 1 5 2 0 2 6 0 2 7 0 7 1 2 6 0 3 2 7 8 5 4 6 7 5 2 4 0 6 6 6 4\n",
      " 0 0 8 8 2 6 7 6 7 2 6 1 1 4 7 0 8 8 3 8 4 0 6 6 6 3]\n",
      "y_train_max[:100]:  [5 0 2 5 2 5 8 8 8 8 2 2 4 7 1 7 2 8 5 8 2 6 4 7 6 8 4 8 0 0 5 8 5 3 5 5 2\n",
      " 8 6 3 3 4 5 1 5 2 0 2 6 0 2 7 0 7 1 2 6 0 3 2 7 8 5 4 6 7 5 2 4 0 6 6 6 4\n",
      " 0 0 8 8 2 6 7 6 7 2 6 1 1 4 7 0 8 8 3 8 4 0 6 6 6 3]\n"
     ]
    }
   ],
   "source": [
    "#y_train_pred = np.argmax(model.predict(x_train))\n",
    "y_train_pred = model.predict(x_train)\n",
    "y_test_pred = model.predict(x_test)\n",
    "y_train_max = np.argmax(y_train, axis=1)\n",
    "y_test_max = np.argmax(y_test, axis=1)\n",
    "\n",
    "print(y_train_max[0])\n",
    "print(y_train_pred[0])\n",
    "\n",
    "train_acc2 = np.sum(y_train_max == y_train_pred, axis=0, dtype='float') / x_train.shape[0]\n",
    "test_acc2 = np.sum(y_test_max == y_test_pred, axis=0, dtype='float') / x_test.shape[0]\n",
    "print('Training acc: {}'.format(train_acc2*100))\n",
    "print('Testing acc: {}'.format(test_acc2*100))\n",
    "print(\"y_train_pred[:100]: \", y_train_pred[:100])\n",
    "print (\"y_train_max[:100]: \", y_train_max[:100])"
   ]
  },
  {
   "cell_type": "markdown",
   "metadata": {},
   "source": [
    "### 混同行列"
   ]
  },
  {
   "cell_type": "code",
   "execution_count": 74,
   "metadata": {},
   "outputs": [],
   "source": [
    "import itertools\n",
    "from sklearn.metrics import confusion_matrix\n",
    "\n",
    "def plot_confusion_matrix(cm, normalize=False, title='Confusion matrix', cmap=plt.cm.Blues):\n",
    "    \"\"\"\n",
    "    This function prints and plots the confusion matrix.\n",
    "    Normalization can be applied by setting `normalize=True`.\n",
    "    \"\"\"\n",
    "    if normalize:\n",
    "        cm = cm.astype('float') / cm.sum(axis=1)[:, np.newaxis]\n",
    "        print(\"Normalized confusion matrix\")\n",
    "    else:\n",
    "        print('Confusion matrix, without normalization')\n",
    "\n",
    "    #print(cm)\n",
    "\n",
    "    plt.imshow(cm, interpolation='nearest', cmap=cmap)\n",
    "    plt.title(title)\n",
    "    plt.colorbar()\n",
    "\n",
    "    fmt = '.2f' if normalize else 'd'\n",
    "    thresh = cm.max() / 2.\n",
    "    for i, j in itertools.product(range(cm.shape[0]), range(cm.shape[1])):\n",
    "        plt.text(j, i, format(cm[i, j], fmt),\n",
    "                 horizontalalignment=\"center\",\n",
    "                 color=\"white\" if cm[i, j] > thresh else \"black\")\n",
    "\n",
    "    plt.tight_layout()\n",
    "    plt.ylabel('True label')\n",
    "    plt.xlabel('Predicted label')"
   ]
  },
  {
   "cell_type": "code",
   "execution_count": 75,
   "metadata": {},
   "outputs": [
    {
     "name": "stdout",
     "output_type": "stream",
     "text": [
      "Confusion matrix, without normalization\n",
      "Normalized confusion matrix\n"
     ]
    },
    {
     "data": {
      "image/png": "[encoded data removed]",
      "text/plain": [
       "<Figure size 576x1080 with 4 Axes>"
      ]
     },
     "metadata": {
      "needs_background": "light"
     },
     "output_type": "display_data"
    }
   ],
   "source": [
    "# Compute confusion matrix\n",
    "cnf_matrix = confusion_matrix(y_test_max, y_test_pred)\n",
    "np.set_printoptions(precision=2)\n",
    "\n",
    "from matplotlib import gridspec\n",
    "fig = plt.figure(figsize=(8, 15)) \n",
    "gs = gridspec.GridSpec(2, 1, height_ratios=[1, 1]) \n",
    "\n",
    "## Plot non-normalized confusion matrix\n",
    "plt.subplot(gs[0])\n",
    "plot_confusion_matrix(cnf_matrix, title='Confusion matrix')\n",
    "\n",
    "# Plot normalized confusion matrix\n",
    "plt.subplot(gs[1])\n",
    "plot_confusion_matrix(cnf_matrix, normalize=True, title='Normalized confusion matrix')\n",
    "\n",
    "plt.show()"
   ]
  },
  {
   "cell_type": "markdown",
   "metadata": {},
   "source": [
    "### クラス活性化マップ"
   ]
  },
  {
   "cell_type": "code",
   "execution_count": 76,
   "metadata": {},
   "outputs": [],
   "source": [
    "#set target wafer number\n",
    "target_wafer_num = 10000\n",
    "# predict \n",
    "prob = model.model.predict(x_test[target_wafer_num].reshape(1,26,26,3))"
   ]
  },
  {
   "cell_type": "code",
   "execution_count": 77,
   "metadata": {},
   "outputs": [],
   "source": [
    "aver_output = model.model.layers[3]\n",
    "aver_model = models.Model(input_tensor, aver_output.output)\n",
    "cam_result = aver_model.predict(x_test[target_wafer_num].reshape(1, 26, 26, 3))"
   ]
  },
  {
   "cell_type": "code",
   "execution_count": 78,
   "metadata": {},
   "outputs": [
    {
     "name": "stdout",
     "output_type": "stream",
     "text": [
      "conv2d_13\n"
     ]
    }
   ],
   "source": [
    "print(model.model.layers[3].name)"
   ]
  },
  {
   "cell_type": "code",
   "execution_count": 79,
   "metadata": {},
   "outputs": [],
   "source": [
    "weight_result = model.model.layers[-1].get_weights()[0]"
   ]
  },
  {
   "cell_type": "code",
   "execution_count": 80,
   "metadata": {},
   "outputs": [],
   "source": [
    "def make_cam(cam_result, weight_result): \n",
    "    cam_arr = np.zeros((1,26, 26))\n",
    "    for row in range(0,9):\n",
    "        cam = np.zeros((1, 26, 26))\n",
    "        for i, w in enumerate(weight_result[:, row]):\n",
    "            cam += (w*cam_result[0,:,:,i]).reshape(26,26)\n",
    "        cam = (cam - np.min(cam)) / (np.max(cam) - np.min(cam))\n",
    "        cam[mask_x == 0] = 0\n",
    "        cam_arr = np.concatenate((cam_arr, cam))\n",
    "    return cam_arr[1:]\n",
    "\n",
    "def display_activation(cam_arr, prob, wafer): \n",
    "    fig, ax = plt.subplots(9, 1, figsize=(50, 50))\n",
    "    count = 0\n",
    "    cam_arr[np.percentile(cam_arr, 0.8) > cam_arr] = 0\n",
    "    for row in range(0,9):\n",
    "        ax[row].imshow(np.argmax(wafer, axis=2))\n",
    "        ax[row].imshow(cam_arr[row],cmap='Reds', alpha=0.7)\n",
    "        ax[row].set_title('class : ' + faulty_case_dict[count]+', prob : {:.4f}'.format(prob[:, count][0]*100) + '%')\n",
    "        count += 1"
   ]
  },
  {
   "cell_type": "code",
   "execution_count": 81,
   "metadata": {},
   "outputs": [
    {
     "data": {
      "text/plain": [
       "'none'"
      ]
     },
     "execution_count": 81,
     "metadata": {},
     "output_type": "execute_result"
    }
   ],
   "source": [
    "faulty_case_dict[np.argmax(y_test[target_wafer_num])]"
   ]
  },
  {
   "cell_type": "code",
   "execution_count": 82,
   "metadata": {},
   "outputs": [
    {
     "name": "stdout",
     "output_type": "stream",
     "text": [
      "faulty case : none\n"
     ]
    },
    {
     "data": {
      "image/png": "[encoded data removed]",
      "text/plain": [
       "<Figure size 432x288 with 1 Axes>"
      ]
     },
     "metadata": {
      "needs_background": "light"
     },
     "output_type": "display_data"
    }
   ],
   "source": [
    "plt.imshow(np.argmax(x_test[target_wafer_num], axis=2))\n",
    "print('faulty case : {}'.format(faulty_case_dict[np.argmax(y_test[target_wafer_num])]))"
   ]
  },
  {
   "cell_type": "markdown",
   "metadata": {},
   "source": [
    "- 対象のウエハの画像と不良パターンの表示"
   ]
  },
  {
   "cell_type": "code",
   "execution_count": 83,
   "metadata": {},
   "outputs": [
    {
     "data": {
      "text/plain": [
       "(1, 26, 26, 128)"
      ]
     },
     "execution_count": 83,
     "metadata": {},
     "output_type": "execute_result"
    }
   ],
   "source": [
    "cam_result.shape"
   ]
  },
  {
   "cell_type": "code",
   "execution_count": 84,
   "metadata": {},
   "outputs": [],
   "source": [
    "mask_x = np.zeros((26, 26))\n",
    "dummy_x = cv2.resize(x[0], (26,26))\n",
    "mask_x[dummy_x == 1] = 1 \n",
    "mask_x[dummy_x == 2] = 1 \n",
    "mask_x = mask_x.reshape((1, 26,26))"
   ]
  },
  {
   "cell_type": "code",
   "execution_count": 85,
   "metadata": {},
   "outputs": [],
   "source": [
    "cam_arr = make_cam(cam_result, weight_result)"
   ]
  },
  {
   "cell_type": "code",
   "execution_count": 86,
   "metadata": {},
   "outputs": [
    {
     "data": {
      "text/plain": [
       "(1, 9)"
      ]
     },
     "execution_count": 86,
     "metadata": {},
     "output_type": "execute_result"
    }
   ],
   "source": [
    "prob.shape"
   ]
  },
  {
   "cell_type": "code",
   "execution_count": 87,
   "metadata": {},
   "outputs": [
    {
     "data": {
      "image/png": "[encoded data removed]",
      "text/plain": [
       "<Figure size 3600x3600 with 9 Axes>"
      ]
     },
     "metadata": {
      "needs_background": "light"
     },
     "output_type": "display_data"
    }
   ],
   "source": [
    "display_activation(cam_arr, prob, x_test[target_wafer_num])"
   ]
  },
  {
   "cell_type": "markdown",
   "metadata": {},
   "source": [
    "- 活性化マップの表示\n",
    "- ドーナツでは円形状にヒートマップの赤い部分が点在している"
   ]
  },
  {
   "cell_type": "code",
   "execution_count": null,
   "metadata": {},
   "outputs": [],
   "source": []
  }
 ],
 "metadata": {
  "kernelspec": {
   "display_name": "Python 3 (Anaconda)",
   "language": "python",
   "name": "python3_anaconda"
  },
  "language_info": {
   "codemirror_mode": {
    "name": "ipython",
    "version": 3
   },
   "file_extension": ".py",
   "mimetype": "text/x-python",
   "name": "python",
   "nbconvert_exporter": "python",
   "pygments_lexer": "ipython3",
   "version": "3.7.6"
  }
 },
 "nbformat": 4,
 "nbformat_minor": 2
}
