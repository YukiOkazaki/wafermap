{
 "cells": [
  {
   "cell_type": "markdown",
   "metadata": {},
   "source": [
    "## 26x26のウエハに限定して機械学習させる\n",
    "- データオーギュメンテーション（鏡映，回転を追加）"
   ]
  },
  {
   "cell_type": "markdown",
   "metadata": {},
   "source": [
    "### import，入力データの読み込み"
   ]
  },
  {
   "cell_type": "code",
   "execution_count": 1,
   "metadata": {},
   "outputs": [
    {
     "name": "stdout",
     "output_type": "stream",
     "text": [
      "../input/LSWMD.pkl\n"
     ]
    }
   ],
   "source": [
    "# This Python 3 environment comes with many helpful analytics libraries installed\n",
    "# It is defined by the kaggle/python docker image: https://github.com/kaggle/docker-python\n",
    "# For example, here's several helpful packages to load in \n",
    "\n",
    "import numpy as np # linear algebra\n",
    "import pandas as pd # data processing, CSV file I/O (e.g. pd.read_csv)\n",
    "\n",
    "# Input data files are available in the \"../input/\" directory.\n",
    "# For example, running this (by clicking run or pressing Shift+Enter) will list all files under the input directory\n",
    "\n",
    "import os\n",
    "for dirname, _, filenames in os.walk('../input'):\n",
    "    for filename in filenames:\n",
    "        print(os.path.join(dirname, filename))\n",
    "\n",
    "# Any results you write to the current directory are saved as output."
   ]
  },
  {
   "cell_type": "code",
   "execution_count": 2,
   "metadata": {
    "scrolled": true
   },
   "outputs": [
    {
     "name": "stdout",
     "output_type": "stream",
     "text": [
      "using GPU: 0,1\n"
     ]
    },
    {
     "name": "stderr",
     "output_type": "stream",
     "text": [
      "Using TensorFlow backend.\n"
     ]
    },
    {
     "name": "stdout",
     "output_type": "stream",
     "text": [
      "['LSWMD.pkl']\n"
     ]
    }
   ],
   "source": [
    "import os\n",
    "from os.path import join\n",
    "os.environ[\"CUDA_VISIBLE_DEVICES\"] = \"0,1\"\n",
    "\n",
    "import numpy as np\n",
    "import pandas as pd\n",
    "import cv2\n",
    "\n",
    "from sklearn.model_selection import KFold \n",
    "from sklearn.model_selection import cross_val_score\n",
    "from sklearn.model_selection import train_test_split\n",
    "\n",
    "import tensorflow as tf\n",
    "import keras\n",
    "from keras import layers, Input, models\n",
    "from keras.utils import to_categorical\n",
    "from keras.wrappers.scikit_learn import KerasClassifier \n",
    "\n",
    "\n",
    "import matplotlib.pyplot as plt\n",
    "\n",
    "from keras.preprocessing import image\n",
    "from keras.preprocessing.image import ImageDataGenerator\n",
    "\n",
    "datapath = join('data', 'wafer')\n",
    "\n",
    "print(os.listdir(\"../input\"))\n",
    "import warnings\n",
    "warnings.filterwarnings(\"ignore\")"
   ]
  },
  {
   "cell_type": "markdown",
   "metadata": {},
   "source": [
    "### データについて"
   ]
  },
  {
   "cell_type": "code",
   "execution_count": 3,
   "metadata": {
    "scrolled": false
   },
   "outputs": [
    {
     "name": "stdout",
     "output_type": "stream",
     "text": [
      "<class 'pandas.core.frame.DataFrame'>\n",
      "RangeIndex: 811457 entries, 0 to 811456\n",
      "Data columns (total 6 columns):\n",
      " #   Column          Non-Null Count   Dtype  \n",
      "---  ------          --------------   -----  \n",
      " 0   waferMap        811457 non-null  object \n",
      " 1   dieSize         811457 non-null  float64\n",
      " 2   lotName         811457 non-null  object \n",
      " 3   waferIndex      811457 non-null  float64\n",
      " 4   trianTestLabel  811457 non-null  object \n",
      " 5   failureType     811457 non-null  object \n",
      "dtypes: float64(2), object(4)\n",
      "memory usage: 37.1+ MB\n"
     ]
    }
   ],
   "source": [
    "df=pd.read_pickle(\"../input/LSWMD.pkl\")\n",
    "df.info()"
   ]
  },
  {
   "cell_type": "markdown",
   "metadata": {},
   "source": [
    "- データセットは811,457枚のウエハマップから構成されている．"
   ]
  },
  {
   "cell_type": "markdown",
   "metadata": {},
   "source": [
    "- ウエハマップのそれぞれの列から得られる情報はないが，インスタンスごとにダイサイズが異なることがわかる．\n",
    "- ウエハマップのダイサイズをチェックするための変数`WaferMapDim`を定義する．（縦，横の値）"
   ]
  },
  {
   "cell_type": "code",
   "execution_count": 4,
   "metadata": {},
   "outputs": [],
   "source": [
    "df = df.drop(['waferIndex'], axis = 1)"
   ]
  },
  {
   "cell_type": "code",
   "execution_count": 5,
   "metadata": {},
   "outputs": [
    {
     "data": {
      "text/html": [
       "<div>\n",
       "<style scoped>\n",
       "    .dataframe tbody tr th:only-of-type {\n",
       "        vertical-align: middle;\n",
       "    }\n",
       "\n",
       "    .dataframe tbody tr th {\n",
       "        vertical-align: top;\n",
       "    }\n",
       "\n",
       "    .dataframe thead th {\n",
       "        text-align: right;\n",
       "    }\n",
       "</style>\n",
       "<table border=\"1\" class=\"dataframe\">\n",
       "  <thead>\n",
       "    <tr style=\"text-align: right;\">\n",
       "      <th></th>\n",
       "      <th>waferMap</th>\n",
       "      <th>dieSize</th>\n",
       "      <th>lotName</th>\n",
       "      <th>trianTestLabel</th>\n",
       "      <th>failureType</th>\n",
       "      <th>waferMapDim</th>\n",
       "    </tr>\n",
       "  </thead>\n",
       "  <tbody>\n",
       "    <tr>\n",
       "      <th>751853</th>\n",
       "      <td>[[0, 0, 0, 0, 0, 0, 0, 0, 0, 0, 2, 1, 2, 1, 1,...</td>\n",
       "      <td>502.0</td>\n",
       "      <td>lot45119</td>\n",
       "      <td>[[Training]]</td>\n",
       "      <td>[[none]]</td>\n",
       "      <td>(27, 25)</td>\n",
       "    </tr>\n",
       "    <tr>\n",
       "      <th>499593</th>\n",
       "      <td>[[0, 0, 0, 0, 0, 0, 0, 0, 0, 0, 0, 0, 1, 1, 1,...</td>\n",
       "      <td>710.0</td>\n",
       "      <td>lot31090</td>\n",
       "      <td>[]</td>\n",
       "      <td>[]</td>\n",
       "      <td>(32, 29)</td>\n",
       "    </tr>\n",
       "    <tr>\n",
       "      <th>381062</th>\n",
       "      <td>[[0, 0, 0, 0, 0, 0, 0, 0, 0, 0, 0, 0, 0, 0, 0,...</td>\n",
       "      <td>2393.0</td>\n",
       "      <td>lot22741</td>\n",
       "      <td>[]</td>\n",
       "      <td>[]</td>\n",
       "      <td>(52, 59)</td>\n",
       "    </tr>\n",
       "    <tr>\n",
       "      <th>757799</th>\n",
       "      <td>[[0, 0, 0, 0, 0, 0, 0, 0, 0, 0, 0, 0, 0, 0, 2,...</td>\n",
       "      <td>1109.0</td>\n",
       "      <td>lot45359</td>\n",
       "      <td>[[Test]]</td>\n",
       "      <td>[[none]]</td>\n",
       "      <td>(39, 37)</td>\n",
       "    </tr>\n",
       "    <tr>\n",
       "      <th>321562</th>\n",
       "      <td>[[0, 0, 0, 0, 0, 0, 0, 0, 0, 0, 0, 0, 0, 0, 0,...</td>\n",
       "      <td>1361.0</td>\n",
       "      <td>lot19461</td>\n",
       "      <td>[]</td>\n",
       "      <td>[]</td>\n",
       "      <td>(39, 45)</td>\n",
       "    </tr>\n",
       "  </tbody>\n",
       "</table>\n",
       "</div>"
      ],
      "text/plain": [
       "                                                 waferMap  dieSize   lotName  \\\n",
       "751853  [[0, 0, 0, 0, 0, 0, 0, 0, 0, 0, 2, 1, 2, 1, 1,...    502.0  lot45119   \n",
       "499593  [[0, 0, 0, 0, 0, 0, 0, 0, 0, 0, 0, 0, 1, 1, 1,...    710.0  lot31090   \n",
       "381062  [[0, 0, 0, 0, 0, 0, 0, 0, 0, 0, 0, 0, 0, 0, 0,...   2393.0  lot22741   \n",
       "757799  [[0, 0, 0, 0, 0, 0, 0, 0, 0, 0, 0, 0, 0, 0, 2,...   1109.0  lot45359   \n",
       "321562  [[0, 0, 0, 0, 0, 0, 0, 0, 0, 0, 0, 0, 0, 0, 0,...   1361.0  lot19461   \n",
       "\n",
       "       trianTestLabel failureType waferMapDim  \n",
       "751853   [[Training]]    [[none]]    (27, 25)  \n",
       "499593             []          []    (32, 29)  \n",
       "381062             []          []    (52, 59)  \n",
       "757799       [[Test]]    [[none]]    (39, 37)  \n",
       "321562             []          []    (39, 45)  "
      ]
     },
     "execution_count": 5,
     "metadata": {},
     "output_type": "execute_result"
    }
   ],
   "source": [
    "def find_dim(x):\n",
    "    dim0=np.size(x,axis=0)\n",
    "    dim1=np.size(x,axis=1)\n",
    "    return dim0,dim1\n",
    "df['waferMapDim']=df.waferMap.apply(find_dim)\n",
    "df.sample(5)"
   ]
  },
  {
   "cell_type": "markdown",
   "metadata": {},
   "source": [
    "- 不良パターンと学習orテストラベルを数値で表す．"
   ]
  },
  {
   "cell_type": "code",
   "execution_count": 6,
   "metadata": {},
   "outputs": [],
   "source": [
    "df['failureNum']=df.failureType\n",
    "df['trainTestNum']=df.trianTestLabel\n",
    "mapping_type={'Center':0,'Donut':1,'Edge-Loc':2,'Edge-Ring':3,'Loc':4,'Random':5,'Scratch':6,'Near-full':7,'none':8}\n",
    "mapping_traintest={'Training':0,'Test':1}\n",
    "df=df.replace({'failureNum':mapping_type, 'trainTestNum':mapping_traintest})"
   ]
  },
  {
   "cell_type": "code",
   "execution_count": 7,
   "metadata": {},
   "outputs": [
    {
     "data": {
      "text/plain": [
       "811457"
      ]
     },
     "execution_count": 7,
     "metadata": {},
     "output_type": "execute_result"
    }
   ],
   "source": [
    "tol_wafers = df.shape[0]\n",
    "tol_wafers"
   ]
  },
  {
   "cell_type": "code",
   "execution_count": 8,
   "metadata": {},
   "outputs": [
    {
     "data": {
      "text/plain": [
       "(172950, 25519, 147431)"
      ]
     },
     "execution_count": 8,
     "metadata": {},
     "output_type": "execute_result"
    }
   ],
   "source": [
    "df_withlabel = df[(df['failureNum']>=0) & (df['failureNum']<=8)]\n",
    "df_withlabel =df_withlabel.reset_index()\n",
    "df_withpattern = df[(df['failureNum']>=0) & (df['failureNum']<=7)]\n",
    "df_withpattern = df_withpattern.reset_index()\n",
    "df_nonpattern = df[(df['failureNum']==8)]\n",
    "df_withlabel.shape[0], df_withpattern.shape[0], df_nonpattern.shape[0]"
   ]
  },
  {
   "cell_type": "markdown",
   "metadata": {},
   "source": [
    "### 26x26のデータに対して処理"
   ]
  },
  {
   "cell_type": "code",
   "execution_count": 9,
   "metadata": {},
   "outputs": [],
   "source": [
    "sub_df = df.loc[df['waferMapDim'] == (26, 26)]\n",
    "sub_wafer = sub_df['waferMap'].values\n",
    "\n",
    "sw = np.ones((1, 26, 26))\n",
    "label = list()\n",
    "\n",
    "for i in range(len(sub_df)):\n",
    "    # skip null label\n",
    "    if len(sub_df.iloc[i,:]['failureType']) == 0:\n",
    "        continue\n",
    "    sw = np.concatenate((sw, sub_df.iloc[i,:]['waferMap'].reshape(1, 26, 26)))\n",
    "    label.append(sub_df.iloc[i,:]['failureType'][0][0])"
   ]
  },
  {
   "cell_type": "code",
   "execution_count": 10,
   "metadata": {},
   "outputs": [],
   "source": [
    "x = sw[1:]\n",
    "y = np.array(label).reshape((-1,1))"
   ]
  },
  {
   "cell_type": "code",
   "execution_count": 11,
   "metadata": {},
   "outputs": [],
   "source": [
    "mask_x = np.zeros((24, 24))\n",
    "dummy_x = cv2.resize(x[0], (24,24))\n",
    "mask_x[dummy_x == 1] = 1 \n",
    "mask_x[dummy_x == 2] = 1 \n",
    "mask_x = mask_x.reshape((1, 24,24))"
   ]
  },
  {
   "cell_type": "code",
   "execution_count": 12,
   "metadata": {},
   "outputs": [
    {
     "name": "stdout",
     "output_type": "stream",
     "text": [
      "x shape : (14366, 26, 26), y shape : (14366, 1)\n"
     ]
    }
   ],
   "source": [
    "print('x shape : {}, y shape : {}'.format(x.shape, y.shape))"
   ]
  },
  {
   "cell_type": "markdown",
   "metadata": {},
   "source": [
    "- 26x26のウエハが14366枚抽出できた．"
   ]
  },
  {
   "cell_type": "markdown",
   "metadata": {},
   "source": [
    "- none の中身を見る（不良なのか，正常なのか）"
   ]
  },
  {
   "cell_type": "code",
   "execution_count": 13,
   "metadata": {},
   "outputs": [
    {
     "data": {
      "text/plain": [
       "\"\\n# plot 1st data\\nindex = np.where(y == 'none')\\n#print(index[0])\\n\\nfor i in index[0]:\\n    print(i)\\n    plt.imshow(x[i])\\n    plt.show()\\n\\n    # check faulty case\\n    print('Faulty case : {} '.format(y[i]))\\n\""
      ]
     },
     "execution_count": 13,
     "metadata": {},
     "output_type": "execute_result"
    }
   ],
   "source": [
    "'''\n",
    "# plot 1st data\n",
    "index = np.where(y == 'none')\n",
    "#print(index[0])\n",
    "\n",
    "for i in index[0]:\n",
    "    print(i)\n",
    "    plt.imshow(x[i])\n",
    "    plt.show()\n",
    "\n",
    "    # check faulty case\n",
    "    print('Faulty case : {} '.format(y[i]))\n",
    "'''"
   ]
  },
  {
   "cell_type": "markdown",
   "metadata": {},
   "source": [
    "- 最初のデータを可視化してみる．\n",
    "- その前に，26x26のデータでおかしなものを表示"
   ]
  },
  {
   "cell_type": "code",
   "execution_count": 14,
   "metadata": {},
   "outputs": [
    {
     "name": "stdout",
     "output_type": "stream",
     "text": [
      "6267 is error\n",
      "6268 is error\n",
      "6269 is error\n",
      "6270 is error\n",
      "6271 is error\n",
      "6272 is error\n",
      "6273 is error\n",
      "6274 is error\n",
      "6275 is error\n",
      "6276 is error\n",
      "6277 is error\n",
      "6278 is error\n",
      "6279 is error\n",
      "6280 is error\n",
      "6281 is error\n",
      "6282 is error\n"
     ]
    }
   ],
   "source": [
    "for i in range(len(x)):\n",
    "    error = np.where((x[0] != x[i]) & ((x[0] == 0) | (x[i] == 0)))\n",
    "    if len(error[0]) > 0:\n",
    "        print(str(i) + \" is error\")\n",
    "        #print(error)"
   ]
  },
  {
   "cell_type": "code",
   "execution_count": 15,
   "metadata": {},
   "outputs": [
    {
     "data": {
      "image/png": "[encoded data removed]",
      "text/plain": [
       "<Figure size 432x288 with 1 Axes>"
      ]
     },
     "metadata": {
      "needs_background": "light"
     },
     "output_type": "display_data"
    },
    {
     "name": "stdout",
     "output_type": "stream",
     "text": [
      "Faulty case : ['none'] \n"
     ]
    }
   ],
   "source": [
    "# plot 1st data\n",
    "plt.imshow(x[0])\n",
    "plt.show()\n",
    "\n",
    "# check faulty case\n",
    "print('Faulty case : {} '.format(y[0]))"
   ]
  },
  {
   "cell_type": "markdown",
   "metadata": {},
   "source": [
    "- おかしなウエハは除去する"
   ]
  },
  {
   "cell_type": "code",
   "execution_count": 16,
   "metadata": {},
   "outputs": [
    {
     "name": "stdout",
     "output_type": "stream",
     "text": [
      "(14350, 26, 26)\n",
      "(14350, 1)\n"
     ]
    }
   ],
   "source": [
    "error_list = []\n",
    "for i in range(len(x)):\n",
    "    error = np.where((x[0] != x[i]) & ((x[0] == 0) | (x[i] == 0)))\n",
    "    if len(error[0]) > 0:\n",
    "        error_list.append(i)\n",
    "x = np.delete(x, error_list, 0)\n",
    "y = np.delete(y, error_list, 0)\n",
    "print(x.shape)\n",
    "print(y.shape)"
   ]
  },
  {
   "cell_type": "markdown",
   "metadata": {},
   "source": [
    "- 形が異なるウエハを削除したところ，14350枚となった．"
   ]
  },
  {
   "cell_type": "code",
   "execution_count": 17,
   "metadata": {},
   "outputs": [
    {
     "data": {
      "text/plain": [
       "(14350, 26, 26, 1)"
      ]
     },
     "execution_count": 17,
     "metadata": {},
     "output_type": "execute_result"
    }
   ],
   "source": [
    "x = x.reshape((-1, 26, 26, 1))\n",
    "x.shape"
   ]
  },
  {
   "cell_type": "code",
   "execution_count": 18,
   "metadata": {},
   "outputs": [
    {
     "name": "stdout",
     "output_type": "stream",
     "text": [
      "Faulty case list : ['Center' 'Donut' 'Edge-Loc' 'Edge-Ring' 'Loc' 'Near-full' 'Random'\n",
      " 'Scratch' 'none']\n"
     ]
    }
   ],
   "source": [
    "faulty_case = np.unique(y)\n",
    "print('Faulty case list : {}'.format(faulty_case))"
   ]
  },
  {
   "cell_type": "code",
   "execution_count": 19,
   "metadata": {},
   "outputs": [],
   "source": [
    "faulty_case_dict =dict()"
   ]
  },
  {
   "cell_type": "code",
   "execution_count": 20,
   "metadata": {},
   "outputs": [
    {
     "name": "stdout",
     "output_type": "stream",
     "text": [
      "Center : 90\n",
      "Donut : 1\n",
      "Edge-Loc : 289\n",
      "Edge-Ring : 23\n",
      "Loc : 297\n",
      "Near-full : 16\n",
      "Random : 74\n",
      "Scratch : 71\n",
      "none : 13489\n"
     ]
    }
   ],
   "source": [
    "for i, f in enumerate(faulty_case) :\n",
    "    print('{} : {}'.format(f, len(y[y==f])))\n",
    "    faulty_case_dict[i] = f"
   ]
  },
  {
   "cell_type": "markdown",
   "metadata": {},
   "source": [
    "- 14366枚の26x26ウエハの不良パターンは上記のようになっている．"
   ]
  },
  {
   "cell_type": "code",
   "execution_count": 21,
   "metadata": {},
   "outputs": [],
   "source": [
    "new_x = np.zeros((len(x), 26, 26, 3))\n",
    "\n",
    "for w in range(len(x)):\n",
    "    for i in range(26):\n",
    "        for j in range(26):\n",
    "            new_x[w, i, j, int(x[w, i, j])] = 1"
   ]
  },
  {
   "cell_type": "code",
   "execution_count": 22,
   "metadata": {},
   "outputs": [
    {
     "data": {
      "text/plain": [
       "(14350, 26, 26, 3)"
      ]
     },
     "execution_count": 22,
     "metadata": {},
     "output_type": "execute_result"
    }
   ],
   "source": [
    "new_x.shape"
   ]
  },
  {
   "cell_type": "markdown",
   "metadata": {},
   "source": [
    "- new_xを(14366, 26, 26, 3)とし，最後の次元にはウエハの値(0, 1, 2)がそれぞれの値毎にベクトルとしてまとめられている．\n",
    "- ウエハデータの各ピクセルは，0:ウエハなし，1:正常，2:不良を表す．"
   ]
  },
  {
   "cell_type": "markdown",
   "metadata": {},
   "source": [
    "### オートエンコーダで学習"
   ]
  },
  {
   "cell_type": "markdown",
   "metadata": {},
   "source": [
    "#### エンコーダとデコーダのモデルを学習"
   ]
  },
  {
   "cell_type": "markdown",
   "metadata": {},
   "source": [
    "- モデルの定義をする．"
   ]
  },
  {
   "cell_type": "code",
   "execution_count": 23,
   "metadata": {},
   "outputs": [],
   "source": [
    "# Encoder\n",
    "input_shape = (26, 26, 3)\n",
    "input_tensor = Input(input_shape)\n",
    "encode = layers.Conv2D(64, (3,3), padding='same', activation='relu')(input_tensor)\n",
    "\n",
    "latent_vector = layers.MaxPool2D()(encode)\n",
    "\n",
    "# Decoder\n",
    "decode_layer_1 = layers.Conv2DTranspose(64, (3,3), padding='same', activation='relu')\n",
    "decode_layer_2 = layers.UpSampling2D()\n",
    "output_tensor = layers.Conv2DTranspose(3, (3,3), padding='same', activation='sigmoid')\n",
    "\n",
    "# connect decoder layers\n",
    "decode = decode_layer_1(latent_vector)\n",
    "decode = decode_layer_2(decode)\n",
    "\n",
    "ae = models.Model(input_tensor, output_tensor(decode))\n",
    "ae.compile(optimizer = 'Adam',\n",
    "              loss = 'mse',\n",
    "             )"
   ]
  },
  {
   "cell_type": "code",
   "execution_count": 24,
   "metadata": {},
   "outputs": [
    {
     "name": "stdout",
     "output_type": "stream",
     "text": [
      "Model: \"model_1\"\n",
      "_________________________________________________________________\n",
      "Layer (type)                 Output Shape              Param #   \n",
      "=================================================================\n",
      "input_1 (InputLayer)         (None, 26, 26, 3)         0         \n",
      "_________________________________________________________________\n",
      "conv2d_1 (Conv2D)            (None, 26, 26, 64)        1792      \n",
      "_________________________________________________________________\n",
      "max_pooling2d_1 (MaxPooling2 (None, 13, 13, 64)        0         \n",
      "_________________________________________________________________\n",
      "conv2d_transpose_1 (Conv2DTr (None, 13, 13, 64)        36928     \n",
      "_________________________________________________________________\n",
      "up_sampling2d_1 (UpSampling2 (None, 26, 26, 64)        0         \n",
      "_________________________________________________________________\n",
      "conv2d_transpose_2 (Conv2DTr (None, 26, 26, 3)         1731      \n",
      "=================================================================\n",
      "Total params: 40,451\n",
      "Trainable params: 40,451\n",
      "Non-trainable params: 0\n",
      "_________________________________________________________________\n"
     ]
    }
   ],
   "source": [
    "ae.summary()"
   ]
  },
  {
   "cell_type": "markdown",
   "metadata": {},
   "source": [
    "- 層は\n",
    "    - 入力層\n",
    "    - 畳み込み層\n",
    "    - プーリング層\n",
    "    - 転置畳み込み層\n",
    "    - アップサンプリング層"
   ]
  },
  {
   "cell_type": "code",
   "execution_count": 25,
   "metadata": {},
   "outputs": [],
   "source": [
    "epoch=30\n",
    "batch_size=1024"
   ]
  },
  {
   "cell_type": "markdown",
   "metadata": {},
   "source": [
    "- 学習を開始する．\n",
    "- `new_x`を`new_x`にエンコードしデコードする．"
   ]
  },
  {
   "cell_type": "code",
   "execution_count": 26,
   "metadata": {
    "scrolled": true
   },
   "outputs": [
    {
     "name": "stdout",
     "output_type": "stream",
     "text": [
      "Epoch 1/30\n",
      "14350/14350 [==============================] - 2s 108us/step - loss: 0.1501\n",
      "Epoch 2/30\n",
      "14350/14350 [==============================] - 1s 39us/step - loss: 0.0961\n",
      "Epoch 3/30\n",
      "14350/14350 [==============================] - 1s 42us/step - loss: 0.0849\n",
      "Epoch 4/30\n",
      "14350/14350 [==============================] - 1s 41us/step - loss: 0.0741\n",
      "Epoch 5/30\n",
      "14350/14350 [==============================] - 1s 41us/step - loss: 0.0650\n",
      "Epoch 6/30\n",
      "14350/14350 [==============================] - 1s 41us/step - loss: 0.0584\n",
      "Epoch 7/30\n",
      "14350/14350 [==============================] - 1s 42us/step - loss: 0.0531\n",
      "Epoch 8/30\n",
      "14350/14350 [==============================] - 1s 41us/step - loss: 0.0484\n",
      "Epoch 9/30\n",
      "14350/14350 [==============================] - 1s 41us/step - loss: 0.0435\n",
      "Epoch 10/30\n",
      "14350/14350 [==============================] - 1s 40us/step - loss: 0.0382\n",
      "Epoch 11/30\n",
      "14350/14350 [==============================] - 1s 40us/step - loss: 0.0333\n",
      "Epoch 12/30\n",
      "14350/14350 [==============================] - 1s 42us/step - loss: 0.0294\n",
      "Epoch 13/30\n",
      "14350/14350 [==============================] - 1s 42us/step - loss: 0.0264\n",
      "Epoch 14/30\n",
      "14350/14350 [==============================] - 1s 41us/step - loss: 0.0240\n",
      "Epoch 15/30\n",
      "14350/14350 [==============================] - 1s 42us/step - loss: 0.0221\n",
      "Epoch 16/30\n",
      "14350/14350 [==============================] - 1s 41us/step - loss: 0.0204\n",
      "Epoch 17/30\n",
      "14350/14350 [==============================] - 1s 42us/step - loss: 0.0189\n",
      "Epoch 18/30\n",
      "14350/14350 [==============================] - 1s 41us/step - loss: 0.0177\n",
      "Epoch 19/30\n",
      "14350/14350 [==============================] - 1s 41us/step - loss: 0.0165\n",
      "Epoch 20/30\n",
      "14350/14350 [==============================] - 1s 41us/step - loss: 0.0155\n",
      "Epoch 21/30\n",
      "14350/14350 [==============================] - 1s 42us/step - loss: 0.0145\n",
      "Epoch 22/30\n",
      "14350/14350 [==============================] - 1s 41us/step - loss: 0.0137\n",
      "Epoch 23/30\n",
      "14350/14350 [==============================] - 1s 42us/step - loss: 0.0129\n",
      "Epoch 24/30\n",
      "14350/14350 [==============================] - 1s 40us/step - loss: 0.0122\n",
      "Epoch 25/30\n",
      "14350/14350 [==============================] - 1s 40us/step - loss: 0.0115\n",
      "Epoch 26/30\n",
      "14350/14350 [==============================] - 1s 42us/step - loss: 0.0109\n",
      "Epoch 27/30\n",
      "14350/14350 [==============================] - 1s 40us/step - loss: 0.0103\n",
      "Epoch 28/30\n",
      "14350/14350 [==============================] - 1s 42us/step - loss: 0.0098\n",
      "Epoch 29/30\n",
      "14350/14350 [==============================] - 1s 41us/step - loss: 0.0093\n",
      "Epoch 30/30\n",
      "14350/14350 [==============================] - 1s 41us/step - loss: 0.0088\n"
     ]
    },
    {
     "data": {
      "text/plain": [
       "<keras.callbacks.callbacks.History at 0x7fce4817d210>"
      ]
     },
     "execution_count": 26,
     "metadata": {},
     "output_type": "execute_result"
    }
   ],
   "source": [
    "# start train\n",
    "ae.fit(new_x, new_x,\n",
    "       batch_size=batch_size,\n",
    "       epochs=epoch,\n",
    "       verbose=1)"
   ]
  },
  {
   "cell_type": "markdown",
   "metadata": {},
   "source": [
    "- エンコーダだけのモデルを定義する．"
   ]
  },
  {
   "cell_type": "code",
   "execution_count": 27,
   "metadata": {},
   "outputs": [],
   "source": [
    "encoder = models.Model(input_tensor, latent_vector)"
   ]
  },
  {
   "cell_type": "markdown",
   "metadata": {},
   "source": [
    "- デコーダだけのモデルを定義する．"
   ]
  },
  {
   "cell_type": "code",
   "execution_count": 28,
   "metadata": {},
   "outputs": [],
   "source": [
    "decoder_input = Input((13, 13, 64))\n",
    "decode = decode_layer_1(decoder_input)\n",
    "decode = decode_layer_2(decode)\n",
    "\n",
    "decoder = models.Model(decoder_input, output_tensor(decode))"
   ]
  },
  {
   "cell_type": "markdown",
   "metadata": {},
   "source": [
    "- `encoder`を使って元のウエハ画像をエンコードする．"
   ]
  },
  {
   "cell_type": "code",
   "execution_count": 29,
   "metadata": {},
   "outputs": [],
   "source": [
    "# Encode original faulty wafer\n",
    "encoded_x = encoder.predict(new_x)"
   ]
  },
  {
   "cell_type": "markdown",
   "metadata": {},
   "source": [
    "- エンコードされた潜伏的な不良ウエハにノイズを負荷する．"
   ]
  },
  {
   "cell_type": "code",
   "execution_count": 30,
   "metadata": {},
   "outputs": [],
   "source": [
    "# Add noise to encoded latent faulty wafers vector.\n",
    "noised_encoded_x = encoded_x + np.random.normal(loc=0, scale=0.1, size = (len(encoded_x), 13, 13, 64))"
   ]
  },
  {
   "cell_type": "markdown",
   "metadata": {},
   "source": [
    "- 元のウエハ画像"
   ]
  },
  {
   "cell_type": "code",
   "execution_count": 31,
   "metadata": {
    "scrolled": true
   },
   "outputs": [
    {
     "data": {
      "text/plain": [
       "<matplotlib.image.AxesImage at 0x7fce3839fb10>"
      ]
     },
     "execution_count": 31,
     "metadata": {},
     "output_type": "execute_result"
    },
    {
     "data": {
      "image/png": "[encoded data removed]",
      "text/plain": [
       "<Figure size 432x288 with 1 Axes>"
      ]
     },
     "metadata": {
      "needs_background": "light"
     },
     "output_type": "display_data"
    }
   ],
   "source": [
    "# check original faulty wafer data\n",
    "plt.imshow(np.argmax(new_x[3], axis=2))"
   ]
  },
  {
   "cell_type": "markdown",
   "metadata": {},
   "source": [
    "- マスクの定義"
   ]
  },
  {
   "cell_type": "code",
   "execution_count": 32,
   "metadata": {
    "scrolled": false
   },
   "outputs": [],
   "source": [
    "# 0がウエハ領域，1が範囲外\n",
    "mask = new_x[0, :, :, 0].copy()\n",
    "#out_region = np.where(mask == 1.0)\n",
    "#in_region = np.where(mask == 0.0)\n",
    "#mask[out_region] = 0.0\n",
    "#mask[in_region] = 1.0\n",
    "#print(mask)"
   ]
  },
  {
   "cell_type": "markdown",
   "metadata": {},
   "source": [
    "- 回転の実験\n",
    "\n",
    "90度ごとなら自作OpenCV関数が有用"
   ]
  },
  {
   "cell_type": "markdown",
   "metadata": {},
   "source": [
    "- 90度以外の回転"
   ]
  },
  {
   "cell_type": "code",
   "execution_count": 33,
   "metadata": {},
   "outputs": [],
   "source": [
    "from PIL import Image\n",
    "def rotation_pil_mask(img, degree):\n",
    "    src = Image.fromarray(np.uint8(img))\n",
    "    img_rotate = np.array(src.rotate(degree))\n",
    "    \n",
    "    #before\n",
    "    '''\n",
    "    plt.imshow(np.argmax(img_rotate, axis=2))\n",
    "    plt.title(\"rotate \" + str(degree) + \" degree before\")\n",
    "    plt.show()\n",
    "    '''\n",
    "    \n",
    "    #マスクの適用, \n",
    "    out_region = np.where((np.argmax(img_rotate, axis=2) != 0) & (mask > 0.0))\n",
    "    img_rotate[out_region[0], out_region[1]] = np.array([1., 0., 0.])\n",
    "    in_region = np.where((np.argmax(img_rotate, axis=2) == 0) & (mask == 0.0))\n",
    "    img_rotate[in_region[0], in_region[1]] = np.array([0., 1., 0.])\n",
    "\n",
    "    #after\n",
    "    '''plt.imshow(np.argmax(img_rotate, axis=2))\n",
    "    plt.title(\"rotate \" + str(degree) + \" degree after\")\n",
    "    plt.show()'''\n",
    "\n",
    "    return img_rotate"
   ]
  },
  {
   "cell_type": "code",
   "execution_count": 34,
   "metadata": {
    "scrolled": false
   },
   "outputs": [
    {
     "data": {
      "text/plain": [
       "'\\nwafer = new_x[np.where(y==\"Edge-Loc\")[0]].reshape(len(np.where(y==\"Edge-Loc\")[0]), 26, 26, 3)\\n#plt.imshow(np.argmax(wafer[0], axis=2))\\n#plt.show()\\n\\nprint(wafer[0].shape)\\n\\nfor i in range(19):\\n    rotation_pil_mask(wafer[0], i*20)\\n'"
      ]
     },
     "execution_count": 34,
     "metadata": {},
     "output_type": "execute_result"
    }
   ],
   "source": [
    "'''\n",
    "wafer = new_x[np.where(y==\"Edge-Loc\")[0]].reshape(len(np.where(y==\"Edge-Loc\")[0]), 26, 26, 3)\n",
    "#plt.imshow(np.argmax(wafer[0], axis=2))\n",
    "#plt.show()\n",
    "\n",
    "print(wafer[0].shape)\n",
    "\n",
    "for i in range(19):\n",
    "    rotation_pil_mask(wafer[0], i*20)\n",
    "'''"
   ]
  },
  {
   "cell_type": "code",
   "execution_count": null,
   "metadata": {},
   "outputs": [],
   "source": []
  },
  {
   "cell_type": "markdown",
   "metadata": {},
   "source": [
    "- ノイズが付加されたウエハ画像"
   ]
  },
  {
   "cell_type": "code",
   "execution_count": 35,
   "metadata": {},
   "outputs": [
    {
     "data": {
      "text/plain": [
       "<matplotlib.image.AxesImage at 0x7fce38791f50>"
      ]
     },
     "execution_count": 35,
     "metadata": {},
     "output_type": "execute_result"
    },
    {
     "data": {
      "image/png": "[encoded data removed]",
      "text/plain": [
       "<Figure size 432x288 with 1 Axes>"
      ]
     },
     "metadata": {
      "needs_background": "light"
     },
     "output_type": "display_data"
    }
   ],
   "source": [
    "# check new noised faulty wafer data\n",
    "noised_gen_x = np.argmax(decoder.predict(noised_encoded_x), axis=3)\n",
    "plt.imshow(noised_gen_x[3])"
   ]
  },
  {
   "cell_type": "markdown",
   "metadata": {},
   "source": [
    "### データオーギュメンテーション"
   ]
  },
  {
   "cell_type": "markdown",
   "metadata": {},
   "source": [
    "- データオーギュメンテーションを行う関数を定義する．\n",
    "- 鏡映，回転を行う"
   ]
  },
  {
   "cell_type": "code",
   "execution_count": 36,
   "metadata": {},
   "outputs": [],
   "source": [
    "# augment function define (add rotate, flip)\n",
    "def gen_data(wafer, label):\n",
    "    # Encode input wafer\n",
    "    #encoded_x = encoder.predict(wafer)\n",
    "    \n",
    "    # dummy array for collecting noised wafer\n",
    "    gen_x = np.zeros((1, 26, 26, 3))\n",
    "    aug_x = np.zeros((1, 26, 26, 3))\n",
    "    \n",
    "    #datagen = ImageDataGenerator(rotation_range = 90, horizontal_flip = True, vertical_flip = True, fill_mode = 'constant', cval = 0)\n",
    "    #datagen = ImageDataGenerator(rotation_range = 0)\n",
    "    ite = 20 if label != 'none' else 1\n",
    "    for i in range(len(wafer)):\n",
    "        for j in range(ite):\n",
    "#             data = wafer[i]\n",
    "            if label != 'none':\n",
    "                data = rotation_pil_mask(wafer[i], j*18)\n",
    "            else:\n",
    "                data = rotation_pil_mask(wafer[i], j*180)\n",
    "            data = data.reshape(1, 26, 26, 3)\n",
    "            aug_x = np.concatenate((aug_x, data), axis = 0)\n",
    "            '''\n",
    "            for j, img in enumerate(data):\n",
    "                plot_num = j+1\n",
    "                plt.subplot(4, 5, plot_num)\n",
    "                plt.tick_params(labelbottom=False)\n",
    "                plt.tick_params(labelleft=False)\n",
    "                plt.imshow(img)\n",
    "            plt.show()\n",
    "            '''\n",
    "    aug_x = aug_x[1:]\n",
    "    encoded_x = encoder.predict(aug_x)\n",
    "    print(encoded_x.shape)\n",
    "        \n",
    "    \n",
    "    # Make wafer until total # of wafer to 15000\n",
    "    if label != 'none':\n",
    "        for i in range((13000//len(encoded_x)) + 1):\n",
    "            noised_encoded_x = encoded_x + np.random.normal(loc=0, scale=0.1, size = (len(encoded_x), 13, 13, 64)) \n",
    "            noised_encoded_x = encoded_x\n",
    "            noised_gen_x = decoder.predict(noised_encoded_x)\n",
    "            gen_x = np.concatenate((gen_x, noised_gen_x), axis=0)\n",
    "    else:\n",
    "        gen_x = aug_x\n",
    "        \n",
    "    # also make label vector with same length\n",
    "    gen_y = np.full((len(gen_x), 1), label)\n",
    "    \n",
    "    # return date without 1st dummy data.\n",
    "    return gen_x[1:], gen_y[1:]"
   ]
  },
  {
   "cell_type": "markdown",
   "metadata": {},
   "source": [
    "- データオーギュメンテーション（ノイズ付加）したものが適切か調べる\n",
    "\n",
    "一番左が元画像\n",
    "右がデータオーギュメンテーション後"
   ]
  },
  {
   "cell_type": "code",
   "execution_count": 37,
   "metadata": {},
   "outputs": [],
   "source": [
    "# backup\n",
    "bu_new_x = new_x.copy()\n",
    "bu_y = y.copy()"
   ]
  },
  {
   "cell_type": "code",
   "execution_count": 38,
   "metadata": {},
   "outputs": [],
   "source": [
    "# new_x = bu_new_x.copy()\n",
    "# y = bu_y.copy()\n",
    "# gen_x = []"
   ]
  },
  {
   "cell_type": "markdown",
   "metadata": {},
   "source": [
    "- 不良ラベルが付いているデータに対してデータオーギュメンテーションを行う．"
   ]
  },
  {
   "cell_type": "code",
   "execution_count": 39,
   "metadata": {},
   "outputs": [
    {
     "name": "stdout",
     "output_type": "stream",
     "text": [
      "(1800, 13, 13, 64)\n",
      "(20, 13, 13, 64)\n",
      "(5780, 13, 13, 64)\n",
      "(460, 13, 13, 64)\n",
      "(5940, 13, 13, 64)\n",
      "(320, 13, 13, 64)\n",
      "(1480, 13, 13, 64)\n",
      "(1420, 13, 13, 64)\n",
      "(13489, 13, 13, 64)\n"
     ]
    }
   ],
   "source": [
    "# Augmentation for all faulty case.\n",
    "for f in faulty_case : \n",
    "    # skip none case\n",
    "    #if f == 'none' : \n",
    "    #    continue\n",
    "    \n",
    "    gen_x, gen_y = gen_data(new_x[np.where(y==f)[0]], f)\n",
    "    new_x = np.concatenate((new_x, gen_x), axis=0)\n",
    "    y = np.concatenate((y, gen_y))"
   ]
  },
  {
   "cell_type": "code",
   "execution_count": 40,
   "metadata": {},
   "outputs": [
    {
     "name": "stdout",
     "output_type": "stream",
     "text": [
      "After Generate new_x shape : (144398, 26, 26, 3), new_y shape : (144398, 1)\n"
     ]
    }
   ],
   "source": [
    "print('After Generate new_x shape : {}, new_y shape : {}'.format(new_x.shape, y.shape))"
   ]
  },
  {
   "cell_type": "code",
   "execution_count": 41,
   "metadata": {},
   "outputs": [
    {
     "name": "stdout",
     "output_type": "stream",
     "text": [
      "Center : 14490\n",
      "Donut : 13021\n",
      "Edge-Loc : 17629\n",
      "Edge-Ring : 13363\n",
      "Loc : 18117\n",
      "Near-full : 13136\n",
      "Random : 13394\n",
      "Scratch : 14271\n",
      "none : 26977\n"
     ]
    }
   ],
   "source": [
    "for f in faulty_case :\n",
    "    print('{} : {}'.format(f, len(y[y==f])))\n",
    "new_y = y"
   ]
  },
  {
   "cell_type": "code",
   "execution_count": 42,
   "metadata": {},
   "outputs": [
    {
     "data": {
      "text/plain": [
       "array([0, 0, 0, ..., 0, 0, 0])"
      ]
     },
     "execution_count": 42,
     "metadata": {},
     "output_type": "execute_result"
    }
   ],
   "source": [
    "np.where(new_y=='Center')[1]"
   ]
  },
  {
   "cell_type": "markdown",
   "metadata": {},
   "source": [
    "- ノイズ付加後におかしなデータがあるかチェック\n",
    "- 元データとずれがあるもの：1689枚"
   ]
  },
  {
   "cell_type": "markdown",
   "metadata": {},
   "source": [
    "### ノイズ付加後もマスクで直す"
   ]
  },
  {
   "cell_type": "code",
   "execution_count": 43,
   "metadata": {},
   "outputs": [],
   "source": [
    "backup_new_x = new_x.copy()\n",
    "backup_new_y = new_y.copy()"
   ]
  },
  {
   "cell_type": "code",
   "execution_count": 44,
   "metadata": {
    "scrolled": false
   },
   "outputs": [
    {
     "name": "stdout",
     "output_type": "stream",
     "text": [
      "93448\n",
      "0\n"
     ]
    },
    {
     "data": {
      "text/plain": [
       "'plt.imshow(np.argmax(new_x[14397], axis=2))\\nplt.show()\\nplt.imshow(np.argmax(new_x[0], axis=2))\\nplt.show()'"
      ]
     },
     "execution_count": 44,
     "metadata": {},
     "output_type": "execute_result"
    }
   ],
   "source": [
    "count = 0\n",
    "for i in range(len(new_x)):\n",
    "    error = np.where((np.argmax(new_x[0], axis=2) != np.argmax(new_x[i], axis=2)) & (np.argmax(new_x[0], axis=2) == 0))\n",
    "    if len(error[0]) > 0:\n",
    "        #print(str(i) + \"error\")\n",
    "        #print(error)\n",
    "        count += 1\n",
    "print(count)\n",
    "\n",
    "for i in range(len(new_x)):\n",
    "    #マスクの適用, \n",
    "    out_region = np.where((np.argmax(new_x[i], axis=2) != 0) & (mask > 0.0))\n",
    "    new_x[i, out_region[0], out_region[1]] = np.array([1., 0., 0.])\n",
    "    in_region = np.where((np.argmax(new_x[i], axis=2) == 0) & (mask == 0.0))\n",
    "    new_x[i, in_region[0], in_region[1]] = np.array([0., 1., 0.])\n",
    "    \n",
    "count = 0\n",
    "for i in range(len(new_x)):\n",
    "    error = np.where((np.argmax(new_x[0], axis=2) != np.argmax(new_x[i], axis=2)) & (np.argmax(new_x[0], axis=2) == 0))\n",
    "    if len(error[0]) > 0:\n",
    "        #print(str(i) + \"error\")\n",
    "        #print(error)\n",
    "        count += 1\n",
    "print(count)\n",
    "\n",
    "\n",
    "'''plt.imshow(np.argmax(new_x[14397], axis=2))\n",
    "plt.show()\n",
    "plt.imshow(np.argmax(new_x[0], axis=2))\n",
    "plt.show()'''"
   ]
  },
  {
   "cell_type": "markdown",
   "metadata": {},
   "source": [
    "- データオーギュメンテーションを行った結果，各不良データごとに約40000枚に増えた．\n",
    "- 合計は368112枚となった．"
   ]
  },
  {
   "cell_type": "code",
   "execution_count": 45,
   "metadata": {
    "scrolled": false
   },
   "outputs": [
    {
     "data": {
      "image/png": "[encoded data removed]",
      "text/plain": [
       "<Figure size 1440x1440 with 10 Axes>"
      ]
     },
     "metadata": {},
     "output_type": "display_data"
    },
    {
     "data": {
      "image/png": "[encoded data removed]",
      "text/plain": [
       "<Figure size 1440x1440 with 10 Axes>"
      ]
     },
     "metadata": {},
     "output_type": "display_data"
    },
    {
     "data": {
      "image/png": "[encoded data removed]",
      "text/plain": [
       "<Figure size 1440x1440 with 10 Axes>"
      ]
     },
     "metadata": {},
     "output_type": "display_data"
    },
    {
     "data": {
      "image/png": "[encoded data removed]",
      "text/plain": [
       "<Figure size 1440x1440 with 10 Axes>"
      ]
     },
     "metadata": {},
     "output_type": "display_data"
    },
    {
     "data": {
      "image/png": "[encoded data removed]",
      "text/plain": [
       "<Figure size 1440x1440 with 10 Axes>"
      ]
     },
     "metadata": {},
     "output_type": "display_data"
    },
    {
     "data": {
      "image/png": "[encoded data removed]",
      "text/plain": [
       "<Figure size 1440x1440 with 10 Axes>"
      ]
     },
     "metadata": {},
     "output_type": "display_data"
    },
    {
     "data": {
      "image/png": "[encoded data removed]",
      "text/plain": [
       "<Figure size 1440x1440 with 10 Axes>"
      ]
     },
     "metadata": {},
     "output_type": "display_data"
    },
    {
     "data": {
      "image/png": "[encoded data removed]",
      "text/plain": [
       "<Figure size 1440x1440 with 10 Axes>"
      ]
     },
     "metadata": {},
     "output_type": "display_data"
    },
    {
     "data": {
      "image/png": "[encoded data removed]",
      "text/plain": [
       "<Figure size 1440x1440 with 10 Axes>"
      ]
     },
     "metadata": {},
     "output_type": "display_data"
    }
   ],
   "source": [
    "x = [0,1,2,3,4,5,6,7,8]\n",
    "labels2 = ['Center','Donut','Edge-Loc','Edge-Ring','Loc','Random','Scratch','Near-full','none']\n",
    "\n",
    "for k in x:\n",
    "    fig, ax = plt.subplots(nrows = 1, ncols = 10, figsize=(20, 20))\n",
    "    ax = ax.ravel(order='C')\n",
    "    for j in [k]:\n",
    "        index = np.where(new_y==labels2[j])[0]\n",
    "        img = new_x[index]\n",
    "        #img = new_x[0:10]\n",
    "        for i in range(10):\n",
    "            ax[i].imshow(np.argmax(img[i+0], axis=2))\n",
    "            ax[i].set_title(new_y[index[i+0]], fontsize=15)\n",
    "            #ax[i].set_xlabel(df_withpattern.index[img.index[i]], fontsize=10)\n",
    "            ax[i].set_xticks([])\n",
    "            ax[i].set_yticks([])\n",
    "    plt.tight_layout()\n",
    "    plt.show() "
   ]
  },
  {
   "cell_type": "markdown",
   "metadata": {},
   "source": [
    "### 学習を行う\n",
    "- 不良ラベルを0-8の9次元のベクトルとして表現する．\n",
    "- one-hotエンコーディングを行っている．"
   ]
  },
  {
   "cell_type": "code",
   "execution_count": 46,
   "metadata": {},
   "outputs": [],
   "source": [
    "for i, l in enumerate(faulty_case):\n",
    "    new_y[new_y==l] = i"
   ]
  },
  {
   "cell_type": "code",
   "execution_count": 47,
   "metadata": {},
   "outputs": [],
   "source": [
    "# one-hot-encoding\n",
    "new_y = to_categorical(new_y)"
   ]
  },
  {
   "cell_type": "code",
   "execution_count": 48,
   "metadata": {},
   "outputs": [],
   "source": [
    "new_X=new_x\n",
    "new_Y=new_y"
   ]
  },
  {
   "cell_type": "markdown",
   "metadata": {},
   "source": [
    "- 学習データとテストデータに分割する．"
   ]
  },
  {
   "cell_type": "code",
   "execution_count": 49,
   "metadata": {},
   "outputs": [],
   "source": [
    "x_train, x_test, y_train, y_test = train_test_split(new_X, new_Y,\n",
    "                                                    test_size=0.33,\n",
    "                                                    random_state=2019)"
   ]
  },
  {
   "cell_type": "code",
   "execution_count": 50,
   "metadata": {},
   "outputs": [
    {
     "name": "stdout",
     "output_type": "stream",
     "text": [
      "Train x : (96746, 26, 26, 3), y : (96746, 9)\n",
      "Test x: (47652, 26, 26, 3), y : (47652, 9)\n"
     ]
    }
   ],
   "source": [
    "print('Train x : {}, y : {}'.format(x_train.shape, y_train.shape))\n",
    "print('Test x: {}, y : {}'.format(x_test.shape, y_test.shape))"
   ]
  },
  {
   "cell_type": "markdown",
   "metadata": {},
   "source": [
    "- 学習データ246635枚，テストデータ121477枚．"
   ]
  },
  {
   "cell_type": "markdown",
   "metadata": {},
   "source": [
    "- モデルの定義を行う．"
   ]
  },
  {
   "cell_type": "code",
   "execution_count": 51,
   "metadata": {},
   "outputs": [],
   "source": [
    "input_shape = (26, 26, 3)\n",
    "input_tensor = Input(input_shape)\n",
    "\n",
    "def create_model():\n",
    "    global input_tensor\n",
    "    \n",
    "    conv = layers.Conv2D(32, (3,3), activation='relu', name='conv1')(input_tensor)\n",
    "    padding = layers.ZeroPadding2D(padding=(1, 1), name='padding1')(conv)\n",
    "    conv = layers.Conv2D(64, (3,3), activation='relu', name='conv2')(padding)\n",
    "    padding = layers.ZeroPadding2D(padding=(1, 1), name='padding2')(conv)\n",
    "    conv = layers.Conv2D(128, (3,3), activation='relu', name='conv3')(padding)\n",
    "    padding = layers.ZeroPadding2D(padding=(1, 1), name='padding3')(conv)\n",
    "    conv_out = layers.Conv2D(256, (3,3), activation='relu', name='conv4')(padding)\n",
    "\n",
    "    gap_layer = layers.GlobalAveragePooling2D(name='GAP')\n",
    "    output_layer = layers.Dense(9, activation='softmax', name='output')\n",
    "\n",
    "    aver_pool = gap_layer(conv_out)\n",
    "    output_tensor = output_layer(aver_pool)\n",
    "\n",
    "    model = models.Model(input_tensor, output_tensor)\n",
    "\n",
    "    model.compile(optimizer='Adam',\n",
    "             loss='categorical_crossentropy',\n",
    "             metrics=['accuracy'])\n",
    "\n",
    "    return model"
   ]
  },
  {
   "cell_type": "markdown",
   "metadata": {},
   "source": [
    "- 3-Fold Cross validationで分割して学習する．"
   ]
  },
  {
   "cell_type": "code",
   "execution_count": 52,
   "metadata": {
    "scrolled": true
   },
   "outputs": [
    {
     "name": "stdout",
     "output_type": "stream",
     "text": [
      "Epoch 1/30\n",
      "64497/64497 [==============================] - 11s 178us/step - loss: 1.1936 - accuracy: 0.5261\n",
      "Epoch 2/30\n",
      "64497/64497 [==============================] - 10s 150us/step - loss: 0.7054 - accuracy: 0.7207\n",
      "Epoch 3/30\n",
      "64497/64497 [==============================] - 10s 151us/step - loss: 0.6025 - accuracy: 0.7592\n",
      "Epoch 4/30\n",
      "64497/64497 [==============================] - 10s 151us/step - loss: 0.6658 - accuracy: 0.7463\n",
      "Epoch 5/30\n",
      "64497/64497 [==============================] - 10s 151us/step - loss: 0.5547 - accuracy: 0.7782\n",
      "Epoch 6/30\n",
      "64497/64497 [==============================] - 10s 151us/step - loss: 0.5325 - accuracy: 0.7888\n",
      "Epoch 7/30\n",
      "64497/64497 [==============================] - 10s 151us/step - loss: 0.5244 - accuracy: 0.7933\n",
      "Epoch 8/30\n",
      "64497/64497 [==============================] - 10s 152us/step - loss: 0.5154 - accuracy: 0.7984\n",
      "Epoch 9/30\n",
      "64497/64497 [==============================] - 10s 151us/step - loss: 0.4892 - accuracy: 0.8105\n",
      "Epoch 10/30\n",
      "64497/64497 [==============================] - 10s 152us/step - loss: 0.4777 - accuracy: 0.8154\n",
      "Epoch 11/30\n",
      "64497/64497 [==============================] - 10s 152us/step - loss: 0.4788 - accuracy: 0.8153\n",
      "Epoch 12/30\n",
      "64497/64497 [==============================] - 10s 152us/step - loss: 0.5115 - accuracy: 0.8094\n",
      "Epoch 13/30\n",
      "64497/64497 [==============================] - 10s 152us/step - loss: 0.4311 - accuracy: 0.8371\n",
      "Epoch 14/30\n",
      "64497/64497 [==============================] - 10s 152us/step - loss: 0.4183 - accuracy: 0.8424\n",
      "Epoch 15/30\n",
      "64497/64497 [==============================] - 10s 153us/step - loss: 0.3996 - accuracy: 0.8517\n",
      "Epoch 16/30\n",
      "64497/64497 [==============================] - 10s 152us/step - loss: 0.3849 - accuracy: 0.8563\n",
      "Epoch 17/30\n",
      "64497/64497 [==============================] - 10s 152us/step - loss: 0.4087 - accuracy: 0.8504\n",
      "Epoch 18/30\n",
      "64497/64497 [==============================] - 10s 153us/step - loss: 0.3508 - accuracy: 0.8713\n",
      "Epoch 19/30\n",
      "64497/64497 [==============================] - 10s 153us/step - loss: 0.3371 - accuracy: 0.8752\n",
      "Epoch 20/30\n",
      "64497/64497 [==============================] - 10s 153us/step - loss: 0.3181 - accuracy: 0.8828\n",
      "Epoch 21/30\n",
      "64497/64497 [==============================] - 10s 153us/step - loss: 0.3236 - accuracy: 0.8806\n",
      "Epoch 22/30\n",
      "64497/64497 [==============================] - 10s 153us/step - loss: 0.3150 - accuracy: 0.8847\n",
      "Epoch 23/30\n",
      "64497/64497 [==============================] - 10s 153us/step - loss: 0.2997 - accuracy: 0.8896\n",
      "Epoch 24/30\n",
      "64497/64497 [==============================] - 10s 153us/step - loss: 0.2860 - accuracy: 0.8938\n",
      "Epoch 25/30\n",
      "64497/64497 [==============================] - 10s 153us/step - loss: 0.2925 - accuracy: 0.8916\n",
      "Epoch 26/30\n",
      "64497/64497 [==============================] - 10s 153us/step - loss: 0.2771 - accuracy: 0.8999\n",
      "Epoch 27/30\n",
      "64497/64497 [==============================] - 10s 153us/step - loss: 0.2754 - accuracy: 0.8975\n",
      "Epoch 28/30\n",
      "64497/64497 [==============================] - 10s 154us/step - loss: 0.2706 - accuracy: 0.9013\n",
      "Epoch 29/30\n",
      "64497/64497 [==============================] - 10s 154us/step - loss: 0.3023 - accuracy: 0.8914\n",
      "Epoch 30/30\n",
      "64497/64497 [==============================] - 10s 154us/step - loss: 0.2678 - accuracy: 0.9002\n",
      "32249/32249 [==============================] - 2s 69us/step\n",
      "Epoch 1/30\n",
      "64497/64497 [==============================] - 10s 156us/step - loss: 1.1851 - accuracy: 0.5292\n",
      "Epoch 2/30\n",
      "64497/64497 [==============================] - 10s 155us/step - loss: 0.7386 - accuracy: 0.7118\n",
      "Epoch 3/30\n",
      "64497/64497 [==============================] - 10s 154us/step - loss: 0.5938 - accuracy: 0.7615\n",
      "Epoch 4/30\n",
      "64497/64497 [==============================] - 10s 154us/step - loss: 0.5753 - accuracy: 0.7704\n",
      "Epoch 5/30\n",
      "64497/64497 [==============================] - 10s 155us/step - loss: 0.5345 - accuracy: 0.7892\n",
      "Epoch 6/30\n",
      "64497/64497 [==============================] - 10s 155us/step - loss: 0.4913 - accuracy: 0.8086\n",
      "Epoch 7/30\n",
      "64497/64497 [==============================] - 10s 155us/step - loss: 0.4848 - accuracy: 0.8120\n",
      "Epoch 8/30\n",
      "64497/64497 [==============================] - 10s 155us/step - loss: 0.4574 - accuracy: 0.8246\n",
      "Epoch 9/30\n",
      "64497/64497 [==============================] - 10s 155us/step - loss: 0.4416 - accuracy: 0.8328\n",
      "Epoch 10/30\n",
      "64497/64497 [==============================] - 10s 156us/step - loss: 0.4324 - accuracy: 0.8401\n",
      "Epoch 11/30\n",
      "64497/64497 [==============================] - 10s 155us/step - loss: 0.4083 - accuracy: 0.8503\n",
      "Epoch 12/30\n",
      "64497/64497 [==============================] - 10s 155us/step - loss: 0.3856 - accuracy: 0.8577\n",
      "Epoch 13/30\n",
      "64497/64497 [==============================] - 10s 155us/step - loss: 0.3979 - accuracy: 0.8554\n",
      "Epoch 14/30\n",
      "64497/64497 [==============================] - 10s 157us/step - loss: 0.3594 - accuracy: 0.8684\n",
      "Epoch 15/30\n",
      "64497/64497 [==============================] - 10s 157us/step - loss: 0.3627 - accuracy: 0.8675\n",
      "Epoch 16/30\n",
      "64497/64497 [==============================] - 10s 156us/step - loss: 0.3373 - accuracy: 0.8763\n",
      "Epoch 17/30\n",
      "64497/64497 [==============================] - 10s 158us/step - loss: 0.3285 - accuracy: 0.8799\n",
      "Epoch 18/30\n",
      "64497/64497 [==============================] - 10s 157us/step - loss: 0.3382 - accuracy: 0.8775\n",
      "Epoch 19/30\n",
      "64497/64497 [==============================] - 10s 157us/step - loss: 0.3057 - accuracy: 0.8883\n",
      "Epoch 20/30\n",
      "64497/64497 [==============================] - 10s 158us/step - loss: 0.2941 - accuracy: 0.8919\n",
      "Epoch 21/30\n",
      "64497/64497 [==============================] - 10s 158us/step - loss: 0.2907 - accuracy: 0.8927\n",
      "Epoch 22/30\n",
      "64497/64497 [==============================] - 10s 160us/step - loss: 0.2731 - accuracy: 0.9001\n",
      "Epoch 23/30\n",
      "64497/64497 [==============================] - 10s 163us/step - loss: 0.2822 - accuracy: 0.8972\n",
      "Epoch 24/30\n",
      "64497/64497 [==============================] - 10s 159us/step - loss: 0.2720 - accuracy: 0.9019\n",
      "Epoch 25/30\n",
      "64497/64497 [==============================] - 10s 159us/step - loss: 0.2662 - accuracy: 0.9028\n",
      "Epoch 26/30\n",
      "64497/64497 [==============================] - 10s 156us/step - loss: 0.2632 - accuracy: 0.9029\n",
      "Epoch 27/30\n",
      "64497/64497 [==============================] - 10s 159us/step - loss: 0.2646 - accuracy: 0.9034\n",
      "Epoch 28/30\n",
      "64497/64497 [==============================] - 10s 158us/step - loss: 0.2561 - accuracy: 0.9078\n",
      "Epoch 29/30\n",
      "64497/64497 [==============================] - 10s 160us/step - loss: 0.2470 - accuracy: 0.9105\n",
      "Epoch 30/30\n",
      "64497/64497 [==============================] - 10s 157us/step - loss: 0.2406 - accuracy: 0.9121\n",
      "32249/32249 [==============================] - 2s 68us/step\n",
      "Epoch 1/30\n",
      "64498/64498 [==============================] - 11s 171us/step - loss: 1.1862 - accuracy: 0.5315\n",
      "Epoch 2/30\n",
      "64498/64498 [==============================] - 10s 162us/step - loss: 0.8444 - accuracy: 0.6605\n",
      "Epoch 3/30\n",
      "64498/64498 [==============================] - 10s 158us/step - loss: 0.6982 - accuracy: 0.7305\n",
      "Epoch 4/30\n",
      "64498/64498 [==============================] - 10s 157us/step - loss: 0.6238 - accuracy: 0.7553\n",
      "Epoch 5/30\n",
      "64498/64498 [==============================] - 10s 159us/step - loss: 0.5660 - accuracy: 0.7777\n",
      "Epoch 6/30\n",
      "64498/64498 [==============================] - 10s 160us/step - loss: 0.5907 - accuracy: 0.7672\n",
      "Epoch 7/30\n",
      "64498/64498 [==============================] - 10s 161us/step - loss: 0.5110 - accuracy: 0.7987\n",
      "Epoch 8/30\n",
      "64498/64498 [==============================] - 10s 158us/step - loss: 0.4952 - accuracy: 0.8086\n",
      "Epoch 9/30\n",
      "64498/64498 [==============================] - 10s 158us/step - loss: 0.4696 - accuracy: 0.8189\n",
      "Epoch 10/30\n",
      "64498/64498 [==============================] - 10s 158us/step - loss: 0.4753 - accuracy: 0.8197\n",
      "Epoch 11/30\n",
      "64498/64498 [==============================] - 10s 158us/step - loss: 0.4608 - accuracy: 0.8254\n",
      "Epoch 12/30\n",
      "64498/64498 [==============================] - 10s 160us/step - loss: 0.4290 - accuracy: 0.8379\n",
      "Epoch 13/30\n",
      "64498/64498 [==============================] - 10s 160us/step - loss: 0.4093 - accuracy: 0.8483\n",
      "Epoch 14/30\n",
      "64498/64498 [==============================] - 10s 160us/step - loss: 0.4009 - accuracy: 0.8531\n",
      "Epoch 15/30\n",
      "64498/64498 [==============================] - 11s 164us/step - loss: 0.4104 - accuracy: 0.8485\n"
     ]
    },
    {
     "name": "stdout",
     "output_type": "stream",
     "text": [
      "Epoch 16/30\n",
      "64498/64498 [==============================] - 10s 160us/step - loss: 0.4079 - accuracy: 0.8519\n",
      "Epoch 17/30\n",
      "64498/64498 [==============================] - 10s 159us/step - loss: 0.3637 - accuracy: 0.8683\n",
      "Epoch 18/30\n",
      "64498/64498 [==============================] - 10s 159us/step - loss: 0.3721 - accuracy: 0.8646\n",
      "Epoch 19/30\n",
      "64498/64498 [==============================] - 10s 156us/step - loss: 0.3565 - accuracy: 0.8719\n",
      "Epoch 20/30\n",
      "64498/64498 [==============================] - 10s 158us/step - loss: 0.3413 - accuracy: 0.8771\n",
      "Epoch 21/30\n",
      "64498/64498 [==============================] - 10s 157us/step - loss: 0.3530 - accuracy: 0.8710\n",
      "Epoch 22/30\n",
      "64498/64498 [==============================] - 10s 161us/step - loss: 0.3215 - accuracy: 0.8845\n",
      "Epoch 23/30\n",
      "64498/64498 [==============================] - 10s 160us/step - loss: 0.3169 - accuracy: 0.8851\n",
      "Epoch 24/30\n",
      "64498/64498 [==============================] - 10s 162us/step - loss: 0.3112 - accuracy: 0.8865\n",
      "Epoch 25/30\n",
      "64498/64498 [==============================] - 10s 157us/step - loss: 0.3033 - accuracy: 0.8914\n",
      "Epoch 26/30\n",
      "64498/64498 [==============================] - 10s 162us/step - loss: 0.3043 - accuracy: 0.8901\n",
      "Epoch 27/30\n",
      "64498/64498 [==============================] - 10s 159us/step - loss: 0.2950 - accuracy: 0.8937\n",
      "Epoch 28/30\n",
      "64498/64498 [==============================] - 10s 159us/step - loss: 0.2895 - accuracy: 0.8963\n",
      "Epoch 29/30\n",
      "64498/64498 [==============================] - 10s 159us/step - loss: 0.2845 - accuracy: 0.8972\n",
      "Epoch 30/30\n",
      "64498/64498 [==============================] - 10s 161us/step - loss: 0.2779 - accuracy: 0.8997\n",
      "32248/32248 [==============================] - 2s 71us/step\n",
      "Class Activation Map Cross validation score : 0.8955\n"
     ]
    }
   ],
   "source": [
    "model = KerasClassifier(build_fn=create_model, epochs=30, batch_size=512, verbose=1) \n",
    "# 3-Fold Crossvalidation\n",
    "kfold = KFold(n_splits=3, shuffle=True, random_state=2019) \n",
    "results = cross_val_score(model, x_train, y_train, cv=kfold)\n",
    "# Check 3-fold model's mean accuracy\n",
    "print('Class Activation Map Cross validation score : {:.4f}'.format(np.mean(results)))"
   ]
  },
  {
   "cell_type": "markdown",
   "metadata": {},
   "source": [
    "- Cross validiationによる精度は99.10%であった．"
   ]
  },
  {
   "cell_type": "markdown",
   "metadata": {},
   "source": [
    "- Cross validationなしで学習する．"
   ]
  },
  {
   "cell_type": "code",
   "execution_count": 53,
   "metadata": {
    "scrolled": true
   },
   "outputs": [
    {
     "name": "stdout",
     "output_type": "stream",
     "text": [
      "Train on 96746 samples, validate on 47652 samples\n",
      "Epoch 1/50\n",
      "96746/96746 [==============================] - 19s 199us/step - loss: 1.0386 - accuracy: 0.5928 - val_loss: 0.6901 - val_accuracy: 0.7309\n",
      "Epoch 2/50\n",
      "96746/96746 [==============================] - 19s 194us/step - loss: 0.6368 - accuracy: 0.7491 - val_loss: 0.5593 - val_accuracy: 0.7801\n",
      "Epoch 3/50\n",
      "96746/96746 [==============================] - 18s 190us/step - loss: 0.5499 - accuracy: 0.7815 - val_loss: 0.5617 - val_accuracy: 0.7881\n",
      "Epoch 4/50\n",
      "96746/96746 [==============================] - 18s 190us/step - loss: 0.5467 - accuracy: 0.7861 - val_loss: 0.5031 - val_accuracy: 0.8125\n",
      "Epoch 5/50\n",
      "96746/96746 [==============================] - 19s 193us/step - loss: 0.4825 - accuracy: 0.8122 - val_loss: 0.4421 - val_accuracy: 0.8395\n",
      "Epoch 6/50\n",
      "96746/96746 [==============================] - 18s 191us/step - loss: 0.4634 - accuracy: 0.8261 - val_loss: 0.4560 - val_accuracy: 0.8258\n",
      "Epoch 7/50\n",
      "96746/96746 [==============================] - 18s 191us/step - loss: 0.4379 - accuracy: 0.8353 - val_loss: 0.4236 - val_accuracy: 0.8451\n",
      "Epoch 8/50\n",
      "96746/96746 [==============================] - 19s 193us/step - loss: 0.4019 - accuracy: 0.8498 - val_loss: 0.3990 - val_accuracy: 0.8600\n",
      "Epoch 9/50\n",
      "96746/96746 [==============================] - 18s 191us/step - loss: 0.3801 - accuracy: 0.8578 - val_loss: 0.3968 - val_accuracy: 0.8616\n",
      "Epoch 10/50\n",
      "96746/96746 [==============================] - 18s 191us/step - loss: 0.3717 - accuracy: 0.8615 - val_loss: 0.3599 - val_accuracy: 0.8640\n",
      "Epoch 11/50\n",
      "96746/96746 [==============================] - 19s 193us/step - loss: 0.3379 - accuracy: 0.8751 - val_loss: 0.3436 - val_accuracy: 0.8773\n",
      "Epoch 12/50\n",
      "96746/96746 [==============================] - 19s 193us/step - loss: 0.3255 - accuracy: 0.8794 - val_loss: 0.4249 - val_accuracy: 0.8540\n",
      "Epoch 13/50\n",
      "96746/96746 [==============================] - 19s 194us/step - loss: 0.3126 - accuracy: 0.8846 - val_loss: 0.3275 - val_accuracy: 0.8789\n",
      "Epoch 14/50\n",
      "96746/96746 [==============================] - 18s 191us/step - loss: 0.2898 - accuracy: 0.8931 - val_loss: 0.2831 - val_accuracy: 0.9010\n",
      "Epoch 15/50\n",
      "96746/96746 [==============================] - 19s 194us/step - loss: 0.2979 - accuracy: 0.8907 - val_loss: 0.3107 - val_accuracy: 0.8857\n",
      "Epoch 16/50\n",
      "96746/96746 [==============================] - 19s 193us/step - loss: 0.2778 - accuracy: 0.8967 - val_loss: 0.3120 - val_accuracy: 0.8826\n",
      "Epoch 17/50\n",
      "96746/96746 [==============================] - 18s 189us/step - loss: 0.2669 - accuracy: 0.9013 - val_loss: 0.2553 - val_accuracy: 0.9082\n",
      "Epoch 18/50\n",
      "96746/96746 [==============================] - 18s 191us/step - loss: 0.2683 - accuracy: 0.9020 - val_loss: 0.2703 - val_accuracy: 0.9005\n",
      "Epoch 19/50\n",
      "96746/96746 [==============================] - 19s 193us/step - loss: 0.2572 - accuracy: 0.9051 - val_loss: 0.2538 - val_accuracy: 0.9052\n",
      "Epoch 20/50\n",
      "96746/96746 [==============================] - 18s 191us/step - loss: 0.2551 - accuracy: 0.9074 - val_loss: 0.2473 - val_accuracy: 0.9069\n",
      "Epoch 21/50\n",
      "96746/96746 [==============================] - 19s 191us/step - loss: 0.2443 - accuracy: 0.9110 - val_loss: 0.2560 - val_accuracy: 0.9032\n",
      "Epoch 22/50\n",
      "96746/96746 [==============================] - 18s 191us/step - loss: 0.2382 - accuracy: 0.9132 - val_loss: 0.2343 - val_accuracy: 0.9167\n",
      "Epoch 23/50\n",
      "96746/96746 [==============================] - 18s 191us/step - loss: 0.2282 - accuracy: 0.9169 - val_loss: 0.2260 - val_accuracy: 0.9204\n",
      "Epoch 24/50\n",
      "96746/96746 [==============================] - 19s 194us/step - loss: 0.2269 - accuracy: 0.9175 - val_loss: 0.2388 - val_accuracy: 0.9202\n",
      "Epoch 25/50\n",
      "96746/96746 [==============================] - 18s 191us/step - loss: 0.2205 - accuracy: 0.9202 - val_loss: 0.2324 - val_accuracy: 0.9130\n",
      "Epoch 26/50\n",
      "96746/96746 [==============================] - 19s 192us/step - loss: 0.2154 - accuracy: 0.9217 - val_loss: 0.2269 - val_accuracy: 0.9131\n",
      "Epoch 27/50\n",
      "96746/96746 [==============================] - 18s 191us/step - loss: 0.2142 - accuracy: 0.9221 - val_loss: 0.2455 - val_accuracy: 0.9114\n",
      "Epoch 28/50\n",
      "96746/96746 [==============================] - 19s 192us/step - loss: 0.2061 - accuracy: 0.9245 - val_loss: 0.1964 - val_accuracy: 0.9268\n",
      "Epoch 29/50\n",
      "96746/96746 [==============================] - 19s 196us/step - loss: 0.2020 - accuracy: 0.9263 - val_loss: 0.2083 - val_accuracy: 0.9159\n",
      "Epoch 30/50\n",
      "96746/96746 [==============================] - 19s 192us/step - loss: 0.2013 - accuracy: 0.9267 - val_loss: 0.2236 - val_accuracy: 0.9085\n",
      "Epoch 31/50\n",
      "96746/96746 [==============================] - 18s 191us/step - loss: 0.2030 - accuracy: 0.9261 - val_loss: 0.2085 - val_accuracy: 0.9236\n",
      "Epoch 32/50\n",
      "96746/96746 [==============================] - 18s 190us/step - loss: 0.1899 - accuracy: 0.9311 - val_loss: 0.1985 - val_accuracy: 0.9261\n",
      "Epoch 33/50\n",
      "96746/96746 [==============================] - 18s 191us/step - loss: 0.1914 - accuracy: 0.9303 - val_loss: 0.2120 - val_accuracy: 0.9211\n",
      "Epoch 34/50\n",
      "96746/96746 [==============================] - 19s 192us/step - loss: 0.1877 - accuracy: 0.9314 - val_loss: 0.1800 - val_accuracy: 0.9358\n",
      "Epoch 35/50\n",
      "96746/96746 [==============================] - 19s 192us/step - loss: 0.1855 - accuracy: 0.9326 - val_loss: 0.1813 - val_accuracy: 0.9326\n",
      "Epoch 36/50\n",
      "96746/96746 [==============================] - 18s 191us/step - loss: 0.1820 - accuracy: 0.9332 - val_loss: 0.1782 - val_accuracy: 0.9361\n",
      "Epoch 37/50\n",
      "96746/96746 [==============================] - 19s 192us/step - loss: 0.1753 - accuracy: 0.9358 - val_loss: 0.1733 - val_accuracy: 0.9315\n",
      "Epoch 38/50\n",
      "96746/96746 [==============================] - 19s 194us/step - loss: 0.1751 - accuracy: 0.9363 - val_loss: 0.1694 - val_accuracy: 0.9374\n",
      "Epoch 39/50\n",
      "96746/96746 [==============================] - 18s 191us/step - loss: 0.1687 - accuracy: 0.9386 - val_loss: 0.1730 - val_accuracy: 0.9373\n",
      "Epoch 40/50\n",
      "96746/96746 [==============================] - 18s 191us/step - loss: 0.1696 - accuracy: 0.9383 - val_loss: 0.1634 - val_accuracy: 0.9398\n",
      "Epoch 41/50\n",
      "96746/96746 [==============================] - 18s 188us/step - loss: 0.1613 - accuracy: 0.9416 - val_loss: 0.2045 - val_accuracy: 0.9193\n",
      "Epoch 42/50\n",
      "96746/96746 [==============================] - 19s 193us/step - loss: 0.1620 - accuracy: 0.9403 - val_loss: 0.1606 - val_accuracy: 0.9416\n",
      "Epoch 43/50\n",
      "96746/96746 [==============================] - 18s 190us/step - loss: 0.1568 - accuracy: 0.9435 - val_loss: 0.1674 - val_accuracy: 0.9396\n",
      "Epoch 44/50\n",
      "96746/96746 [==============================] - 19s 193us/step - loss: 0.1591 - accuracy: 0.9427 - val_loss: 0.1801 - val_accuracy: 0.9337\n",
      "Epoch 45/50\n",
      "96746/96746 [==============================] - 18s 189us/step - loss: 0.1492 - accuracy: 0.9459 - val_loss: 0.1551 - val_accuracy: 0.9423\n",
      "Epoch 46/50\n",
      "96746/96746 [==============================] - 19s 192us/step - loss: 0.1452 - accuracy: 0.9472 - val_loss: 0.1540 - val_accuracy: 0.9440\n",
      "Epoch 47/50\n",
      "96746/96746 [==============================] - 19s 192us/step - loss: 0.1446 - accuracy: 0.9471 - val_loss: 0.2189 - val_accuracy: 0.9190\n",
      "Epoch 48/50\n",
      "96746/96746 [==============================] - 19s 191us/step - loss: 0.1433 - accuracy: 0.9480 - val_loss: 0.1522 - val_accuracy: 0.9431\n",
      "Epoch 49/50\n",
      "96746/96746 [==============================] - 18s 190us/step - loss: 0.1403 - accuracy: 0.9488 - val_loss: 0.1510 - val_accuracy: 0.9425\n",
      "Epoch 50/50\n",
      "96746/96746 [==============================] - 18s 191us/step - loss: 0.1384 - accuracy: 0.9488 - val_loss: 0.1925 - val_accuracy: 0.9361\n"
     ]
    }
   ],
   "source": [
    "history = model.fit(x_train, y_train,\n",
    "         validation_data=[x_test, y_test],\n",
    "         epochs=50,\n",
    "         batch_size=512,\n",
    "         verbose=1\n",
    "         )"
   ]
  },
  {
   "cell_type": "markdown",
   "metadata": {},
   "source": [
    "- テストデータで評価．    "
   ]
  },
  {
   "cell_type": "code",
   "execution_count": 54,
   "metadata": {},
   "outputs": [
    {
     "name": "stdout",
     "output_type": "stream",
     "text": [
      "47652/47652 [==============================] - 3s 65us/step\n",
      "Testing Accuracy: 0.9360782504081726\n"
     ]
    }
   ],
   "source": [
    "score = model.score(x_test, y_test)\n",
    "#print('Test Loss:', score[0])\n",
    "#print('Test accuracy:', score[1])\n",
    "print('Testing Accuracy:',score)"
   ]
  },
  {
   "cell_type": "markdown",
   "metadata": {},
   "source": [
    "- モデルは以下．\n",
    "    - 入力層\n",
    "    - 畳み込み層3つ\n",
    "    - Flatten層（1次元に）\n",
    "    - 全結合層3つ"
   ]
  },
  {
   "cell_type": "code",
   "execution_count": 55,
   "metadata": {
    "scrolled": true
   },
   "outputs": [
    {
     "name": "stdout",
     "output_type": "stream",
     "text": [
      "Model: \"model_7\"\n",
      "_________________________________________________________________\n",
      "Layer (type)                 Output Shape              Param #   \n",
      "=================================================================\n",
      "input_3 (InputLayer)         (None, 26, 26, 3)         0         \n",
      "_________________________________________________________________\n",
      "conv1 (Conv2D)               (None, 24, 24, 32)        896       \n",
      "_________________________________________________________________\n",
      "padding1 (ZeroPadding2D)     (None, 26, 26, 32)        0         \n",
      "_________________________________________________________________\n",
      "conv2 (Conv2D)               (None, 24, 24, 64)        18496     \n",
      "_________________________________________________________________\n",
      "padding2 (ZeroPadding2D)     (None, 26, 26, 64)        0         \n",
      "_________________________________________________________________\n",
      "conv3 (Conv2D)               (None, 24, 24, 128)       73856     \n",
      "_________________________________________________________________\n",
      "padding3 (ZeroPadding2D)     (None, 26, 26, 128)       0         \n",
      "_________________________________________________________________\n",
      "conv4 (Conv2D)               (None, 24, 24, 256)       295168    \n",
      "_________________________________________________________________\n",
      "GAP (GlobalAveragePooling2D) (None, 256)               0         \n",
      "_________________________________________________________________\n",
      "output (Dense)               (None, 9)                 2313      \n",
      "=================================================================\n",
      "Total params: 390,729\n",
      "Trainable params: 390,729\n",
      "Non-trainable params: 0\n",
      "_________________________________________________________________\n"
     ]
    }
   ],
   "source": [
    "model.model.summary()"
   ]
  },
  {
   "cell_type": "markdown",
   "metadata": {},
   "source": [
    "- accuracyグラフ，lossグラフは以下．\n",
    "- 5epoch程度で落ち着いている．"
   ]
  },
  {
   "cell_type": "code",
   "execution_count": 56,
   "metadata": {},
   "outputs": [
    {
     "data": {
      "image/png": "[encoded data removed]",
      "text/plain": [
       "<Figure size 432x288 with 1 Axes>"
      ]
     },
     "metadata": {
      "needs_background": "light"
     },
     "output_type": "display_data"
    },
    {
     "data": {
      "image/png": "[encoded data removed]",
      "text/plain": [
       "<Figure size 432x288 with 1 Axes>"
      ]
     },
     "metadata": {
      "needs_background": "light"
     },
     "output_type": "display_data"
    }
   ],
   "source": [
    "# accuracy plot \n",
    "plt.plot(history.history['accuracy'])\n",
    "plt.plot(history.history['val_accuracy'])\n",
    "plt.title('model accuracy')\n",
    "plt.ylabel('accuracy')\n",
    "plt.xlabel('epoch')\n",
    "plt.legend(['train', 'test'], loc='upper left')\n",
    "plt.show()\n",
    "\n",
    "# loss plot\n",
    "plt.plot(history.history['loss'])\n",
    "plt.plot(history.history['val_loss'])\n",
    "plt.title('model loss')\n",
    "plt.ylabel('loss')\n",
    "plt.xlabel('epoch')\n",
    "plt.legend(['train', 'test'], loc='upper left')\n",
    "plt.show()"
   ]
  },
  {
   "cell_type": "markdown",
   "metadata": {},
   "source": [
    "### クラス活性化マップ"
   ]
  },
  {
   "cell_type": "code",
   "execution_count": 57,
   "metadata": {},
   "outputs": [],
   "source": [
    "#set target wafer number\n",
    "target_wafer_num = 2\n",
    "# predict \n",
    "prob = model.model.predict(x_test[target_wafer_num].reshape(1,26,26,3))"
   ]
  },
  {
   "cell_type": "code",
   "execution_count": 58,
   "metadata": {},
   "outputs": [],
   "source": [
    "aver_output = model.model.layers[7]\n",
    "aver_model = models.Model(input_tensor, aver_output.output)\n",
    "cam_result = aver_model.predict(x_test[target_wafer_num].reshape(1, 26, 26, 3))"
   ]
  },
  {
   "cell_type": "code",
   "execution_count": 59,
   "metadata": {},
   "outputs": [],
   "source": [
    "weight_result = model.model.layers[-1].get_weights()[0]"
   ]
  },
  {
   "cell_type": "code",
   "execution_count": 60,
   "metadata": {},
   "outputs": [],
   "source": [
    "def make_cam(cam_result, weight_result): \n",
    "    cam_arr = np.zeros((1,24, 24))\n",
    "    for row in range(0,9):\n",
    "        cam = np.zeros((1, 24, 24))\n",
    "        for i, w in enumerate(weight_result[:, row]):\n",
    "            cam += (w*cam_result[0,:,:,i]).reshape(24,24)\n",
    "        cam = (cam - np.min(cam)) / (np.max(cam) - np.min(cam))\n",
    "        cam[mask_x == 0] = 0\n",
    "        cam_arr = np.concatenate((cam_arr, cam))\n",
    "    return cam_arr[1:]\n",
    "\n",
    "def display_activation(cam_arr, prob, wafer): \n",
    "    fig, ax = plt.subplots(9, 1, figsize=(50, 50))\n",
    "    count = 0\n",
    "    cam_arr[np.percentile(cam_arr, 0.8) > cam_arr] = 0\n",
    "    for row in range(0,9):\n",
    "        ax[row].imshow(np.argmax(wafer, axis=2))\n",
    "        ax[row].imshow(cam_arr[row],cmap='Reds', alpha=0.7)\n",
    "        ax[row].set_title('class : ' + faulty_case_dict[count]+', prob : {:.4f}'.format(prob[:, count][0]*100) + '%')\n",
    "        count += 1"
   ]
  },
  {
   "cell_type": "code",
   "execution_count": 61,
   "metadata": {},
   "outputs": [
    {
     "data": {
      "text/plain": [
       "'Edge-Ring'"
      ]
     },
     "execution_count": 61,
     "metadata": {},
     "output_type": "execute_result"
    }
   ],
   "source": [
    "faulty_case_dict[np.argmax(y_test[target_wafer_num])]"
   ]
  },
  {
   "cell_type": "code",
   "execution_count": 62,
   "metadata": {},
   "outputs": [
    {
     "name": "stdout",
     "output_type": "stream",
     "text": [
      "faulty case : Edge-Ring\n"
     ]
    },
    {
     "data": {
      "image/png": "[encoded data removed]",
      "text/plain": [
       "<Figure size 432x288 with 1 Axes>"
      ]
     },
     "metadata": {
      "needs_background": "light"
     },
     "output_type": "display_data"
    }
   ],
   "source": [
    "plt.imshow(np.argmax(x_test[target_wafer_num], axis=2))\n",
    "print('faulty case : {}'.format(faulty_case_dict[np.argmax(y_test[target_wafer_num])]))"
   ]
  },
  {
   "cell_type": "markdown",
   "metadata": {},
   "source": [
    "- 対象のウエハの画像と不良パターンの表示"
   ]
  },
  {
   "cell_type": "code",
   "execution_count": 63,
   "metadata": {},
   "outputs": [
    {
     "data": {
      "text/plain": [
       "(1, 24, 24, 256)"
      ]
     },
     "execution_count": 63,
     "metadata": {},
     "output_type": "execute_result"
    }
   ],
   "source": [
    "cam_result.shape"
   ]
  },
  {
   "cell_type": "code",
   "execution_count": 64,
   "metadata": {},
   "outputs": [],
   "source": [
    "cam_arr = make_cam(cam_result, weight_result)"
   ]
  },
  {
   "cell_type": "code",
   "execution_count": 65,
   "metadata": {},
   "outputs": [
    {
     "data": {
      "text/plain": [
       "(1, 9)"
      ]
     },
     "execution_count": 65,
     "metadata": {},
     "output_type": "execute_result"
    }
   ],
   "source": [
    "prob.shape"
   ]
  },
  {
   "cell_type": "code",
   "execution_count": 66,
   "metadata": {},
   "outputs": [
    {
     "data": {
      "image/png": "[encoded data removed]",
      "text/plain": [
       "<Figure size 3600x3600 with 9 Axes>"
      ]
     },
     "metadata": {
      "needs_background": "light"
     },
     "output_type": "display_data"
    }
   ],
   "source": [
    "display_activation(cam_arr, prob, x_test[target_wafer_num])"
   ]
  },
  {
   "cell_type": "markdown",
   "metadata": {},
   "source": [
    "- 活性化マップの表示\n",
    "- ドーナツでは円形状にヒートマップの赤い部分が点在している"
   ]
  },
  {
   "cell_type": "code",
   "execution_count": null,
   "metadata": {},
   "outputs": [],
   "source": []
  },
  {
   "cell_type": "markdown",
   "metadata": {},
   "source": [
    "### CNN"
   ]
  },
  {
   "cell_type": "code",
   "execution_count": 67,
   "metadata": {},
   "outputs": [],
   "source": [
    "input_shape = (26, 26, 3)\n",
    "input_tensor = Input(input_shape)\n",
    "def create_model():\n",
    "\n",
    "\n",
    "    conv_1 = layers.Conv2D(16, (3,3), activation='relu', padding='same')(input_tensor)\n",
    "    conv_2 = layers.Conv2D(64, (3,3), activation='relu', padding='same')(conv_1)\n",
    "    conv_3 = layers.Conv2D(128, (3,3), activation='relu', padding='same')(conv_2)\n",
    "\n",
    "    flat = layers.Flatten()(conv_3)\n",
    "\n",
    "    dense_1 = layers.Dense(512, activation='relu')(flat)\n",
    "    dense_2 = layers.Dense(128, activation='relu')(dense_1)\n",
    "    output_tensor = layers.Dense(9, activation='softmax')(dense_2)\n",
    "\n",
    "    model = models.Model(input_tensor, output_tensor)\n",
    "    model.compile(optimizer='Adam',\n",
    "                 loss='categorical_crossentropy',\n",
    "                 metrics=['accuracy'])\n",
    "\n",
    "    return model"
   ]
  },
  {
   "cell_type": "markdown",
   "metadata": {},
   "source": [
    "- 3-Fold Cross validationで分割して学習する．"
   ]
  },
  {
   "cell_type": "code",
   "execution_count": 68,
   "metadata": {
    "scrolled": true
   },
   "outputs": [
    {
     "name": "stdout",
     "output_type": "stream",
     "text": [
      "Epoch 1/30\n",
      "64497/64497 [==============================] - 8s 123us/step - loss: 1.2313 - accuracy: 0.6017\n",
      "Epoch 2/30\n",
      "64497/64497 [==============================] - 7s 109us/step - loss: 0.3463 - accuracy: 0.8708\n",
      "Epoch 3/30\n",
      "64497/64497 [==============================] - 7s 109us/step - loss: 0.2825 - accuracy: 0.9004\n",
      "Epoch 4/30\n",
      "64497/64497 [==============================] - 7s 110us/step - loss: 0.1797 - accuracy: 0.9373\n",
      "Epoch 5/30\n",
      "64497/64497 [==============================] - 7s 110us/step - loss: 0.1277 - accuracy: 0.9573\n",
      "Epoch 6/30\n",
      "64497/64497 [==============================] - 7s 109us/step - loss: 0.1469 - accuracy: 0.9615\n",
      "Epoch 7/30\n",
      "64497/64497 [==============================] - 7s 108us/step - loss: 0.1577 - accuracy: 0.9543\n",
      "Epoch 8/30\n",
      "64497/64497 [==============================] - 7s 109us/step - loss: 0.0406 - accuracy: 0.9889\n",
      "Epoch 9/30\n",
      "64497/64497 [==============================] - 7s 109us/step - loss: 0.0254 - accuracy: 0.9937\n",
      "Epoch 10/30\n",
      "64497/64497 [==============================] - 7s 109us/step - loss: 0.0160 - accuracy: 0.9964\n",
      "Epoch 11/30\n",
      "64497/64497 [==============================] - 7s 109us/step - loss: 0.0130 - accuracy: 0.9976\n",
      "Epoch 12/30\n",
      "64497/64497 [==============================] - 7s 110us/step - loss: 0.0108 - accuracy: 0.9979\n",
      "Epoch 13/30\n",
      "64497/64497 [==============================] - 7s 110us/step - loss: 0.0104 - accuracy: 0.9980\n",
      "Epoch 14/30\n",
      "64497/64497 [==============================] - 7s 111us/step - loss: 0.0100 - accuracy: 0.9979\n",
      "Epoch 15/30\n",
      "64497/64497 [==============================] - 7s 109us/step - loss: 0.0095 - accuracy: 0.9980\n",
      "Epoch 16/30\n",
      "64497/64497 [==============================] - 7s 110us/step - loss: 0.0099 - accuracy: 0.9980\n",
      "Epoch 17/30\n",
      "64497/64497 [==============================] - 7s 110us/step - loss: 0.0086 - accuracy: 0.9982\n",
      "Epoch 18/30\n",
      "64497/64497 [==============================] - 7s 110us/step - loss: 0.0089 - accuracy: 0.9983\n",
      "Epoch 19/30\n",
      "64497/64497 [==============================] - 7s 110us/step - loss: 0.0080 - accuracy: 0.9983\n",
      "Epoch 20/30\n",
      "64497/64497 [==============================] - 7s 110us/step - loss: 0.0084 - accuracy: 0.9982\n",
      "Epoch 21/30\n",
      "64497/64497 [==============================] - 7s 110us/step - loss: 0.0078 - accuracy: 0.9984\n",
      "Epoch 22/30\n",
      "64497/64497 [==============================] - 7s 110us/step - loss: 0.0092 - accuracy: 0.9980\n",
      "Epoch 23/30\n",
      "64497/64497 [==============================] - 7s 110us/step - loss: 0.0082 - accuracy: 0.9982\n",
      "Epoch 24/30\n",
      "64497/64497 [==============================] - 7s 109us/step - loss: 0.0081 - accuracy: 0.9983\n",
      "Epoch 25/30\n",
      "64497/64497 [==============================] - 7s 110us/step - loss: 0.0076 - accuracy: 0.9982\n",
      "Epoch 26/30\n",
      "64497/64497 [==============================] - 7s 110us/step - loss: 0.0078 - accuracy: 0.9982\n",
      "Epoch 27/30\n",
      "64497/64497 [==============================] - 7s 110us/step - loss: 0.0071 - accuracy: 0.9982\n",
      "Epoch 28/30\n",
      "64497/64497 [==============================] - 7s 110us/step - loss: 0.0073 - accuracy: 0.9982\n",
      "Epoch 29/30\n",
      "64497/64497 [==============================] - 7s 109us/step - loss: 0.0078 - accuracy: 0.9982\n",
      "Epoch 30/30\n",
      "64497/64497 [==============================] - 7s 110us/step - loss: 0.0068 - accuracy: 0.9982\n",
      "32249/32249 [==============================] - 1s 46us/step\n",
      "Epoch 1/30\n",
      "64497/64497 [==============================] - 7s 113us/step - loss: 1.0998 - accuracy: 0.6210\n",
      "Epoch 2/30\n",
      "64497/64497 [==============================] - 7s 110us/step - loss: 0.3240 - accuracy: 0.8804\n",
      "Epoch 3/30\n",
      "64497/64497 [==============================] - 7s 110us/step - loss: 0.2151 - accuracy: 0.9273\n",
      "Epoch 4/30\n",
      "64497/64497 [==============================] - 7s 109us/step - loss: 0.1349 - accuracy: 0.9562\n",
      "Epoch 5/30\n",
      "64497/64497 [==============================] - 7s 109us/step - loss: 0.0693 - accuracy: 0.9791\n",
      "Epoch 6/30\n",
      "64497/64497 [==============================] - 7s 110us/step - loss: 0.0414 - accuracy: 0.9888\n",
      "Epoch 7/30\n",
      "64497/64497 [==============================] - 7s 110us/step - loss: 0.0275 - accuracy: 0.9929\n",
      "Epoch 8/30\n",
      "64497/64497 [==============================] - 7s 111us/step - loss: 0.0150 - accuracy: 0.9970\n",
      "Epoch 9/30\n",
      "64497/64497 [==============================] - 7s 110us/step - loss: 0.0129 - accuracy: 0.9975\n",
      "Epoch 10/30\n",
      "64497/64497 [==============================] - 7s 110us/step - loss: 0.0131 - accuracy: 0.9977\n",
      "Epoch 11/30\n",
      "64497/64497 [==============================] - 7s 110us/step - loss: 0.0124 - accuracy: 0.9976\n",
      "Epoch 12/30\n",
      "64497/64497 [==============================] - 7s 111us/step - loss: 0.0291 - accuracy: 0.9928\n",
      "Epoch 13/30\n",
      "64497/64497 [==============================] - 7s 110us/step - loss: 0.0235 - accuracy: 0.9933\n",
      "Epoch 14/30\n",
      "64497/64497 [==============================] - 7s 110us/step - loss: 0.0093 - accuracy: 0.9982\n",
      "Epoch 15/30\n",
      "64497/64497 [==============================] - 7s 110us/step - loss: 0.0085 - accuracy: 0.9983\n",
      "Epoch 16/30\n",
      "64497/64497 [==============================] - 7s 111us/step - loss: 0.0078 - accuracy: 0.9982\n",
      "Epoch 17/30\n",
      "64497/64497 [==============================] - 7s 110us/step - loss: 0.0070 - accuracy: 0.9983\n",
      "Epoch 18/30\n",
      "64497/64497 [==============================] - 7s 110us/step - loss: 0.0080 - accuracy: 0.9982\n",
      "Epoch 19/30\n",
      "64497/64497 [==============================] - 7s 110us/step - loss: 0.0084 - accuracy: 0.9982\n",
      "Epoch 20/30\n",
      "64497/64497 [==============================] - 7s 110us/step - loss: 0.0073 - accuracy: 0.9982\n",
      "Epoch 21/30\n",
      "64497/64497 [==============================] - 7s 110us/step - loss: 0.0069 - accuracy: 0.9982\n",
      "Epoch 22/30\n",
      "64497/64497 [==============================] - 7s 110us/step - loss: 0.0071 - accuracy: 0.9981\n",
      "Epoch 23/30\n",
      "64497/64497 [==============================] - 7s 109us/step - loss: 0.0069 - accuracy: 0.9982\n",
      "Epoch 24/30\n",
      "64497/64497 [==============================] - 7s 109us/step - loss: 0.0074 - accuracy: 0.9981\n",
      "Epoch 25/30\n",
      "64497/64497 [==============================] - 7s 111us/step - loss: 0.0073 - accuracy: 0.9982\n",
      "Epoch 26/30\n",
      "64497/64497 [==============================] - 7s 111us/step - loss: 0.0072 - accuracy: 0.9983\n",
      "Epoch 27/30\n",
      "64497/64497 [==============================] - 7s 111us/step - loss: 0.0074 - accuracy: 0.9981\n",
      "Epoch 28/30\n",
      "64497/64497 [==============================] - 7s 109us/step - loss: 0.0065 - accuracy: 0.9983\n",
      "Epoch 29/30\n",
      "64497/64497 [==============================] - 7s 110us/step - loss: 0.0065 - accuracy: 0.9983\n",
      "Epoch 30/30\n",
      "64497/64497 [==============================] - 7s 110us/step - loss: 0.0061 - accuracy: 0.9983\n",
      "32249/32249 [==============================] - 1s 44us/step\n",
      "Epoch 1/30\n",
      "64498/64498 [==============================] - 8s 117us/step - loss: 1.1128 - accuracy: 0.6277\n",
      "Epoch 2/30\n",
      "64498/64498 [==============================] - 7s 109us/step - loss: 0.3372 - accuracy: 0.8758\n",
      "Epoch 3/30\n",
      "64498/64498 [==============================] - 7s 110us/step - loss: 0.2310 - accuracy: 0.9196\n",
      "Epoch 4/30\n",
      "64498/64498 [==============================] - 7s 110us/step - loss: 0.2107 - accuracy: 0.9344\n",
      "Epoch 5/30\n",
      "64498/64498 [==============================] - 7s 110us/step - loss: 0.1135 - accuracy: 0.9636\n",
      "Epoch 6/30\n",
      "64498/64498 [==============================] - 7s 111us/step - loss: 0.0621 - accuracy: 0.9815\n",
      "Epoch 7/30\n",
      "64498/64498 [==============================] - 7s 110us/step - loss: 0.0361 - accuracy: 0.9905\n",
      "Epoch 8/30\n",
      "64498/64498 [==============================] - 7s 111us/step - loss: 0.0214 - accuracy: 0.9953\n",
      "Epoch 9/30\n",
      "64498/64498 [==============================] - 7s 110us/step - loss: 0.0144 - accuracy: 0.9972\n",
      "Epoch 10/30\n",
      "64498/64498 [==============================] - 7s 110us/step - loss: 0.0138 - accuracy: 0.9972\n",
      "Epoch 11/30\n",
      "64498/64498 [==============================] - 7s 111us/step - loss: 0.0119 - accuracy: 0.9977\n",
      "Epoch 12/30\n",
      "64498/64498 [==============================] - 7s 110us/step - loss: 0.0098 - accuracy: 0.9980\n",
      "Epoch 13/30\n",
      "64498/64498 [==============================] - 7s 111us/step - loss: 0.0107 - accuracy: 0.9979\n",
      "Epoch 14/30\n",
      "64498/64498 [==============================] - 7s 110us/step - loss: 0.0099 - accuracy: 0.9979\n",
      "Epoch 15/30\n",
      "64498/64498 [==============================] - 7s 110us/step - loss: 0.0097 - accuracy: 0.9979\n",
      "Epoch 16/30\n"
     ]
    },
    {
     "name": "stdout",
     "output_type": "stream",
     "text": [
      "64498/64498 [==============================] - 7s 110us/step - loss: 0.0101 - accuracy: 0.9978\n",
      "Epoch 17/30\n",
      "64498/64498 [==============================] - 7s 111us/step - loss: 0.0090 - accuracy: 0.9981\n",
      "Epoch 18/30\n",
      "64498/64498 [==============================] - 7s 110us/step - loss: 0.0084 - accuracy: 0.9982\n",
      "Epoch 19/30\n",
      "64498/64498 [==============================] - 7s 110us/step - loss: 0.0079 - accuracy: 0.9981\n",
      "Epoch 20/30\n",
      "64498/64498 [==============================] - 7s 111us/step - loss: 0.0087 - accuracy: 0.9979\n",
      "Epoch 21/30\n",
      "64498/64498 [==============================] - 7s 110us/step - loss: 0.0085 - accuracy: 0.9982\n",
      "Epoch 22/30\n",
      "64498/64498 [==============================] - 7s 110us/step - loss: 0.0074 - accuracy: 0.9982\n",
      "Epoch 23/30\n",
      "64498/64498 [==============================] - 7s 111us/step - loss: 0.0079 - accuracy: 0.9981\n",
      "Epoch 24/30\n",
      "64498/64498 [==============================] - 7s 110us/step - loss: 0.0073 - accuracy: 0.9984\n",
      "Epoch 25/30\n",
      "64498/64498 [==============================] - 7s 110us/step - loss: 0.2510 - accuracy: 0.9709\n",
      "Epoch 26/30\n",
      "64498/64498 [==============================] - 7s 110us/step - loss: 0.4650 - accuracy: 0.8494\n",
      "Epoch 27/30\n",
      "64498/64498 [==============================] - 7s 110us/step - loss: 0.0592 - accuracy: 0.9830\n",
      "Epoch 28/30\n",
      "64498/64498 [==============================] - 7s 111us/step - loss: 0.0213 - accuracy: 0.9951\n",
      "Epoch 29/30\n",
      "64498/64498 [==============================] - 7s 109us/step - loss: 0.0110 - accuracy: 0.9976\n",
      "Epoch 30/30\n",
      "64498/64498 [==============================] - 7s 110us/step - loss: 0.0104 - accuracy: 0.9980\n",
      "32248/32248 [==============================] - 1s 45us/step\n",
      "Simple CNN Cross validation score : 0.9835\n"
     ]
    }
   ],
   "source": [
    "model = KerasClassifier(build_fn=create_model, epochs=30, batch_size=1024, verbose=1) \n",
    "# 3-Fold Crossvalidation\n",
    "kfold = KFold(n_splits=3, shuffle=True, random_state=2019) \n",
    "results = cross_val_score(model, x_train, y_train, cv=kfold)\n",
    "# Check 3-fold model's mean accuracy\n",
    "print('Simple CNN Cross validation score : {:.4f}'.format(np.mean(results)))"
   ]
  },
  {
   "cell_type": "markdown",
   "metadata": {},
   "source": [
    "- Cross validiationによる精度は99.55%であった．"
   ]
  },
  {
   "cell_type": "markdown",
   "metadata": {},
   "source": [
    "- Cross validationなしで学習する．"
   ]
  },
  {
   "cell_type": "code",
   "execution_count": 69,
   "metadata": {
    "scrolled": true
   },
   "outputs": [
    {
     "name": "stdout",
     "output_type": "stream",
     "text": [
      "Train on 96746 samples, validate on 47652 samples\n",
      "Epoch 1/30\n",
      "96746/96746 [==============================] - 13s 135us/step - loss: 0.7828 - accuracy: 0.7213 - val_loss: 0.2886 - val_accuracy: 0.8909\n",
      "Epoch 2/30\n",
      "96746/96746 [==============================] - 13s 129us/step - loss: 0.2618 - accuracy: 0.9072 - val_loss: 0.1784 - val_accuracy: 0.9373\n",
      "Epoch 3/30\n",
      "96746/96746 [==============================] - 13s 131us/step - loss: 0.1371 - accuracy: 0.9550 - val_loss: 0.1183 - val_accuracy: 0.9619\n",
      "Epoch 4/30\n",
      "96746/96746 [==============================] - 13s 131us/step - loss: 0.1426 - accuracy: 0.9709 - val_loss: 3.3694 - val_accuracy: 0.6644\n",
      "Epoch 5/30\n",
      "96746/96746 [==============================] - 12s 129us/step - loss: 0.4380 - accuracy: 0.8819 - val_loss: 0.1368 - val_accuracy: 0.9543\n",
      "Epoch 6/30\n",
      "96746/96746 [==============================] - 13s 130us/step - loss: 0.0632 - accuracy: 0.9827 - val_loss: 0.0727 - val_accuracy: 0.9776\n",
      "Epoch 7/30\n",
      "96746/96746 [==============================] - 13s 131us/step - loss: 0.0291 - accuracy: 0.9930 - val_loss: 0.0434 - val_accuracy: 0.9895\n",
      "Epoch 8/30\n",
      "96746/96746 [==============================] - 12s 129us/step - loss: 0.0144 - accuracy: 0.9971 - val_loss: 0.0370 - val_accuracy: 0.9920\n",
      "Epoch 9/30\n",
      "96746/96746 [==============================] - 12s 129us/step - loss: 0.0119 - accuracy: 0.9978 - val_loss: 0.0422 - val_accuracy: 0.9912\n",
      "Epoch 10/30\n",
      "96746/96746 [==============================] - 13s 130us/step - loss: 0.0101 - accuracy: 0.9982 - val_loss: 0.0371 - val_accuracy: 0.9912\n",
      "Epoch 11/30\n",
      "96746/96746 [==============================] - 13s 130us/step - loss: 0.0085 - accuracy: 0.9980 - val_loss: 0.0378 - val_accuracy: 0.9914\n",
      "Epoch 12/30\n",
      "96746/96746 [==============================] - 13s 129us/step - loss: 0.0097 - accuracy: 0.9980 - val_loss: 0.0364 - val_accuracy: 0.9913\n",
      "Epoch 13/30\n",
      "96746/96746 [==============================] - 13s 130us/step - loss: 0.0090 - accuracy: 0.9980 - val_loss: 0.0440 - val_accuracy: 0.9905\n",
      "Epoch 14/30\n",
      "96746/96746 [==============================] - 13s 130us/step - loss: 0.0089 - accuracy: 0.9980 - val_loss: 0.0358 - val_accuracy: 0.9918\n",
      "Epoch 15/30\n",
      "96746/96746 [==============================] - 13s 130us/step - loss: 0.0077 - accuracy: 0.9981 - val_loss: 0.0373 - val_accuracy: 0.9916\n",
      "Epoch 16/30\n",
      "96746/96746 [==============================] - 13s 131us/step - loss: 0.0086 - accuracy: 0.9981 - val_loss: 0.0387 - val_accuracy: 0.9900\n",
      "Epoch 17/30\n",
      "96746/96746 [==============================] - 13s 130us/step - loss: 0.0078 - accuracy: 0.9981 - val_loss: 0.0360 - val_accuracy: 0.9920\n",
      "Epoch 18/30\n",
      "96746/96746 [==============================] - 13s 129us/step - loss: 0.0070 - accuracy: 0.9981 - val_loss: 0.0425 - val_accuracy: 0.9911\n",
      "Epoch 19/30\n",
      "96746/96746 [==============================] - 13s 130us/step - loss: 0.0079 - accuracy: 0.9982 - val_loss: 0.0344 - val_accuracy: 0.9916\n",
      "Epoch 20/30\n",
      "96746/96746 [==============================] - 13s 129us/step - loss: 0.0076 - accuracy: 0.9982 - val_loss: 0.0349 - val_accuracy: 0.9917\n",
      "Epoch 21/30\n",
      "96746/96746 [==============================] - 13s 129us/step - loss: 0.0076 - accuracy: 0.9980 - val_loss: 0.0348 - val_accuracy: 0.9918\n",
      "Epoch 22/30\n",
      "96746/96746 [==============================] - 12s 129us/step - loss: 0.0071 - accuracy: 0.9982 - val_loss: 0.0401 - val_accuracy: 0.9912\n",
      "Epoch 23/30\n",
      "96746/96746 [==============================] - 12s 129us/step - loss: 0.0070 - accuracy: 0.9981 - val_loss: 0.0391 - val_accuracy: 0.9923\n",
      "Epoch 24/30\n",
      "96746/96746 [==============================] - 13s 131us/step - loss: 0.0073 - accuracy: 0.9981 - val_loss: 0.0353 - val_accuracy: 0.9921\n",
      "Epoch 25/30\n",
      "96746/96746 [==============================] - 13s 130us/step - loss: 0.0068 - accuracy: 0.9982 - val_loss: 0.0358 - val_accuracy: 0.9918\n",
      "Epoch 26/30\n",
      "96746/96746 [==============================] - 13s 130us/step - loss: 0.0068 - accuracy: 0.9982 - val_loss: 0.0358 - val_accuracy: 0.9918\n",
      "Epoch 27/30\n",
      "96746/96746 [==============================] - 13s 130us/step - loss: 0.0066 - accuracy: 0.9983 - val_loss: 0.0355 - val_accuracy: 0.9914\n",
      "Epoch 28/30\n",
      "96746/96746 [==============================] - 12s 129us/step - loss: 0.3503 - accuracy: 0.9272 - val_loss: 0.1177 - val_accuracy: 0.9623\n",
      "Epoch 29/30\n",
      "96746/96746 [==============================] - 13s 130us/step - loss: 0.0373 - accuracy: 0.9895 - val_loss: 0.0407 - val_accuracy: 0.9901\n",
      "Epoch 30/30\n",
      "96746/96746 [==============================] - 12s 129us/step - loss: 0.0093 - accuracy: 0.9978 - val_loss: 0.0377 - val_accuracy: 0.9917\n"
     ]
    }
   ],
   "source": [
    "history = model.fit(x_train, y_train,\n",
    "         validation_data=[x_test, y_test],\n",
    "         epochs=epoch,\n",
    "         batch_size=batch_size,\n",
    "         verbose=1           \n",
    "         )"
   ]
  },
  {
   "cell_type": "markdown",
   "metadata": {},
   "source": [
    "- テストデータで評価．    "
   ]
  },
  {
   "cell_type": "code",
   "execution_count": 70,
   "metadata": {},
   "outputs": [
    {
     "name": "stdout",
     "output_type": "stream",
     "text": [
      "47652/47652 [==============================] - 2s 41us/step\n",
      "Testing Accuracy: 0.9916897416114807\n"
     ]
    }
   ],
   "source": [
    "score = model.score(x_test, y_test)\n",
    "#print('Test Loss:', score[0])\n",
    "#print('Test accuracy:', score[1])\n",
    "print('Testing Accuracy:',score)"
   ]
  },
  {
   "cell_type": "markdown",
   "metadata": {},
   "source": [
    "- acuurayは99.70%であった．"
   ]
  },
  {
   "cell_type": "markdown",
   "metadata": {},
   "source": [
    "- モデルは以下．\n",
    "    - 入力層\n",
    "    - 畳み込み層3つ\n",
    "    - Flatten層（1次元に）\n",
    "    - 全結合層3つ"
   ]
  },
  {
   "cell_type": "code",
   "execution_count": 71,
   "metadata": {
    "scrolled": true
   },
   "outputs": [
    {
     "name": "stdout",
     "output_type": "stream",
     "text": [
      "Model: \"model_12\"\n",
      "_________________________________________________________________\n",
      "Layer (type)                 Output Shape              Param #   \n",
      "=================================================================\n",
      "input_4 (InputLayer)         (None, 26, 26, 3)         0         \n",
      "_________________________________________________________________\n",
      "conv2d_11 (Conv2D)           (None, 26, 26, 16)        448       \n",
      "_________________________________________________________________\n",
      "conv2d_12 (Conv2D)           (None, 26, 26, 64)        9280      \n",
      "_________________________________________________________________\n",
      "conv2d_13 (Conv2D)           (None, 26, 26, 128)       73856     \n",
      "_________________________________________________________________\n",
      "flatten_4 (Flatten)          (None, 86528)             0         \n",
      "_________________________________________________________________\n",
      "dense_10 (Dense)             (None, 512)               44302848  \n",
      "_________________________________________________________________\n",
      "dense_11 (Dense)             (None, 128)               65664     \n",
      "_________________________________________________________________\n",
      "dense_12 (Dense)             (None, 9)                 1161      \n",
      "=================================================================\n",
      "Total params: 44,453,257\n",
      "Trainable params: 44,453,257\n",
      "Non-trainable params: 0\n",
      "_________________________________________________________________\n"
     ]
    }
   ],
   "source": [
    "model.model.summary()"
   ]
  },
  {
   "cell_type": "markdown",
   "metadata": {},
   "source": [
    "- accuracyグラフ，lossグラフは以下．\n",
    "- 5epoch程度で落ち着いている．"
   ]
  },
  {
   "cell_type": "code",
   "execution_count": 72,
   "metadata": {},
   "outputs": [
    {
     "data": {
      "image/png": "[encoded data removed]",
      "text/plain": [
       "<Figure size 432x288 with 1 Axes>"
      ]
     },
     "metadata": {
      "needs_background": "light"
     },
     "output_type": "display_data"
    },
    {
     "data": {
      "image/png": "[encoded data removed]",
      "text/plain": [
       "<Figure size 432x288 with 1 Axes>"
      ]
     },
     "metadata": {
      "needs_background": "light"
     },
     "output_type": "display_data"
    }
   ],
   "source": [
    "# accuracy plot \n",
    "plt.plot(history.history['accuracy'])\n",
    "plt.plot(history.history['val_accuracy'])\n",
    "plt.title('model accuracy')\n",
    "plt.ylabel('accuracy')\n",
    "plt.xlabel('epoch')\n",
    "plt.legend(['train', 'test'], loc='upper left')\n",
    "plt.show()\n",
    "\n",
    "# loss plot\n",
    "plt.plot(history.history['loss'])\n",
    "plt.plot(history.history['val_loss'])\n",
    "plt.title('model loss')\n",
    "plt.ylabel('loss')\n",
    "plt.xlabel('epoch')\n",
    "plt.legend(['train', 'test'], loc='upper left')\n",
    "plt.show()"
   ]
  },
  {
   "cell_type": "code",
   "execution_count": 73,
   "metadata": {},
   "outputs": [
    {
     "name": "stdout",
     "output_type": "stream",
     "text": [
      "96746/96746 [==============================] - 4s 39us/step\n",
      "47652/47652 [==============================] - 2s 38us/step\n",
      "5\n",
      "5\n",
      "Training acc: 99.81497943067413\n",
      "Testing acc: 99.16897506925207\n",
      "y_train_pred[:100]:  [5 0 2 5 2 5 8 8 8 8 2 2 4 7 1 7 2 8 5 8 2 6 4 7 6 8 4 8 0 0 5 8 5 3 5 5 2\n",
      " 8 6 3 3 4 5 1 5 2 0 2 6 0 2 7 0 7 1 2 6 0 3 2 7 8 5 4 6 7 5 2 4 0 6 6 6 4\n",
      " 0 0 8 8 2 6 7 6 7 2 6 1 1 4 7 0 8 8 3 8 4 0 6 6 6 3]\n",
      "y_train_max[:100]:  [5 0 2 5 2 5 8 8 8 8 2 2 4 7 1 7 2 8 5 8 2 6 4 7 6 8 4 8 0 0 5 8 5 3 5 5 2\n",
      " 8 6 3 3 4 5 1 5 2 0 2 6 0 2 7 0 7 1 2 6 0 3 2 7 8 5 4 6 7 5 2 4 0 6 6 6 4\n",
      " 0 0 8 8 2 6 7 6 7 2 6 1 1 4 7 0 8 8 3 8 4 0 6 6 6 3]\n"
     ]
    }
   ],
   "source": [
    "#y_train_pred = np.argmax(model.predict(x_train))\n",
    "y_train_pred = model.predict(x_train)\n",
    "y_test_pred = model.predict(x_test)\n",
    "y_train_max = np.argmax(y_train, axis=1)\n",
    "y_test_max = np.argmax(y_test, axis=1)\n",
    "\n",
    "print(y_train_max[0])\n",
    "print(y_train_pred[0])\n",
    "\n",
    "train_acc2 = np.sum(y_train_max == y_train_pred, axis=0, dtype='float') / x_train.shape[0]\n",
    "test_acc2 = np.sum(y_test_max == y_test_pred, axis=0, dtype='float') / x_test.shape[0]\n",
    "print('Training acc: {}'.format(train_acc2*100))\n",
    "print('Testing acc: {}'.format(test_acc2*100))\n",
    "print(\"y_train_pred[:100]: \", y_train_pred[:100])\n",
    "print (\"y_train_max[:100]: \", y_train_max[:100])"
   ]
  },
  {
   "cell_type": "markdown",
   "metadata": {},
   "source": [
    "### 混同行列"
   ]
  },
  {
   "cell_type": "code",
   "execution_count": 74,
   "metadata": {},
   "outputs": [],
   "source": [
    "import itertools\n",
    "from sklearn.metrics import confusion_matrix\n",
    "\n",
    "def plot_confusion_matrix(cm, normalize=False, title='Confusion matrix', cmap=plt.cm.Blues):\n",
    "    \"\"\"\n",
    "    This function prints and plots the confusion matrix.\n",
    "    Normalization can be applied by setting `normalize=True`.\n",
    "    \"\"\"\n",
    "    if normalize:\n",
    "        cm = cm.astype('float') / cm.sum(axis=1)[:, np.newaxis]\n",
    "        print(\"Normalized confusion matrix\")\n",
    "    else:\n",
    "        print('Confusion matrix, without normalization')\n",
    "\n",
    "    #print(cm)\n",
    "\n",
    "    plt.imshow(cm, interpolation='nearest', cmap=cmap)\n",
    "    plt.title(title)\n",
    "    plt.colorbar()\n",
    "\n",
    "    fmt = '.2f' if normalize else 'd'\n",
    "    thresh = cm.max() / 2.\n",
    "    for i, j in itertools.product(range(cm.shape[0]), range(cm.shape[1])):\n",
    "        plt.text(j, i, format(cm[i, j], fmt),\n",
    "                 horizontalalignment=\"center\",\n",
    "                 color=\"white\" if cm[i, j] > thresh else \"black\")\n",
    "\n",
    "    plt.tight_layout()\n",
    "    plt.ylabel('True label')\n",
    "    plt.xlabel('Predicted label')"
   ]
  },
  {
   "cell_type": "code",
   "execution_count": 75,
   "metadata": {},
   "outputs": [
    {
     "name": "stdout",
     "output_type": "stream",
     "text": [
      "Confusion matrix, without normalization\n",
      "Normalized confusion matrix\n"
     ]
    },
    {
     "data": {
      "image/png": "[encoded data removed]",
      "text/plain": [
       "<Figure size 576x1080 with 4 Axes>"
      ]
     },
     "metadata": {
      "needs_background": "light"
     },
     "output_type": "display_data"
    }
   ],
   "source": [
    "# Compute confusion matrix\n",
    "cnf_matrix = confusion_matrix(y_test_max, y_test_pred)\n",
    "np.set_printoptions(precision=2)\n",
    "\n",
    "from matplotlib import gridspec\n",
    "fig = plt.figure(figsize=(8, 15)) \n",
    "gs = gridspec.GridSpec(2, 1, height_ratios=[1, 1]) \n",
    "\n",
    "## Plot non-normalized confusion matrix\n",
    "plt.subplot(gs[0])\n",
    "plot_confusion_matrix(cnf_matrix, title='Confusion matrix')\n",
    "\n",
    "# Plot normalized confusion matrix\n",
    "plt.subplot(gs[1])\n",
    "plot_confusion_matrix(cnf_matrix, normalize=True, title='Normalized confusion matrix')\n",
    "\n",
    "plt.show()"
   ]
  },
  {
   "cell_type": "markdown",
   "metadata": {},
   "source": [
    "### クラス活性化マップ"
   ]
  },
  {
   "cell_type": "code",
   "execution_count": 76,
   "metadata": {},
   "outputs": [],
   "source": [
    "#set target wafer number\n",
    "target_wafer_num = 10000\n",
    "# predict \n",
    "prob = model.model.predict(x_test[target_wafer_num].reshape(1,26,26,3))"
   ]
  },
  {
   "cell_type": "code",
   "execution_count": 77,
   "metadata": {},
   "outputs": [],
   "source": [
    "aver_output = model.model.layers[3]\n",
    "aver_model = models.Model(input_tensor, aver_output.output)\n",
    "cam_result = aver_model.predict(x_test[target_wafer_num].reshape(1, 26, 26, 3))"
   ]
  },
  {
   "cell_type": "code",
   "execution_count": 78,
   "metadata": {},
   "outputs": [
    {
     "name": "stdout",
     "output_type": "stream",
     "text": [
      "conv2d_13\n"
     ]
    }
   ],
   "source": [
    "print(model.model.layers[3].name)"
   ]
  },
  {
   "cell_type": "code",
   "execution_count": 79,
   "metadata": {},
   "outputs": [],
   "source": [
    "weight_result = model.model.layers[-1].get_weights()[0]"
   ]
  },
  {
   "cell_type": "code",
   "execution_count": 80,
   "metadata": {},
   "outputs": [],
   "source": [
    "def make_cam(cam_result, weight_result): \n",
    "    cam_arr = np.zeros((1,26, 26))\n",
    "    for row in range(0,9):\n",
    "        cam = np.zeros((1, 26, 26))\n",
    "        for i, w in enumerate(weight_result[:, row]):\n",
    "            cam += (w*cam_result[0,:,:,i]).reshape(26,26)\n",
    "        cam = (cam - np.min(cam)) / (np.max(cam) - np.min(cam))\n",
    "        cam[mask_x == 0] = 0\n",
    "        cam_arr = np.concatenate((cam_arr, cam))\n",
    "    return cam_arr[1:]\n",
    "\n",
    "def display_activation(cam_arr, prob, wafer): \n",
    "    fig, ax = plt.subplots(9, 1, figsize=(50, 50))\n",
    "    count = 0\n",
    "    cam_arr[np.percentile(cam_arr, 0.8) > cam_arr] = 0\n",
    "    for row in range(0,9):\n",
    "        ax[row].imshow(np.argmax(wafer, axis=2))\n",
    "        ax[row].imshow(cam_arr[row],cmap='Reds', alpha=0.7)\n",
    "        ax[row].set_title('class : ' + faulty_case_dict[count]+', prob : {:.4f}'.format(prob[:, count][0]*100) + '%')\n",
    "        count += 1"
   ]
  },
  {
   "cell_type": "code",
   "execution_count": 81,
   "metadata": {},
   "outputs": [
    {
     "data": {
      "text/plain": [
       "'none'"
      ]
     },
     "execution_count": 81,
     "metadata": {},
     "output_type": "execute_result"
    }
   ],
   "source": [
    "faulty_case_dict[np.argmax(y_test[target_wafer_num])]"
   ]
  },
  {
   "cell_type": "code",
   "execution_count": 82,
   "metadata": {},
   "outputs": [
    {
     "name": "stdout",
     "output_type": "stream",
     "text": [
      "faulty case : none\n"
     ]
    },
    {
     "data": {
      "image/png": "[encoded data removed]",
      "text/plain": [
       "<Figure size 432x288 with 1 Axes>"
      ]
     },
     "metadata": {
      "needs_background": "light"
     },
     "output_type": "display_data"
    }
   ],
   "source": [
    "plt.imshow(np.argmax(x_test[target_wafer_num], axis=2))\n",
    "print('faulty case : {}'.format(faulty_case_dict[np.argmax(y_test[target_wafer_num])]))"
   ]
  },
  {
   "cell_type": "markdown",
   "metadata": {},
   "source": [
    "- 対象のウエハの画像と不良パターンの表示"
   ]
  },
  {
   "cell_type": "code",
   "execution_count": 83,
   "metadata": {},
   "outputs": [
    {
     "data": {
      "text/plain": [
       "(1, 26, 26, 128)"
      ]
     },
     "execution_count": 83,
     "metadata": {},
     "output_type": "execute_result"
    }
   ],
   "source": [
    "cam_result.shape"
   ]
  },
  {
   "cell_type": "code",
   "execution_count": 84,
   "metadata": {},
   "outputs": [],
   "source": [
    "mask_x = np.zeros((26, 26))\n",
    "dummy_x = cv2.resize(x[0], (26,26))\n",
    "mask_x[dummy_x == 1] = 1 \n",
    "mask_x[dummy_x == 2] = 1 \n",
    "mask_x = mask_x.reshape((1, 26,26))"
   ]
  },
  {
   "cell_type": "code",
   "execution_count": 85,
   "metadata": {},
   "outputs": [],
   "source": [
    "cam_arr = make_cam(cam_result, weight_result)"
   ]
  },
  {
   "cell_type": "code",
   "execution_count": 86,
   "metadata": {},
   "outputs": [
    {
     "data": {
      "text/plain": [
       "(1, 9)"
      ]
     },
     "execution_count": 86,
     "metadata": {},
     "output_type": "execute_result"
    }
   ],
   "source": [
    "prob.shape"
   ]
  },
  {
   "cell_type": "code",
   "execution_count": 87,
   "metadata": {},
   "outputs": [
    {
     "data": {
      "image/png": "[encoded data removed]",
      "text/plain": [
       "<Figure size 3600x3600 with 9 Axes>"
      ]
     },
     "metadata": {
      "needs_background": "light"
     },
     "output_type": "display_data"
    }
   ],
   "source": [
    "display_activation(cam_arr, prob, x_test[target_wafer_num])"
   ]
  },
  {
   "cell_type": "markdown",
   "metadata": {},
   "source": [
    "- 活性化マップの表示\n",
    "- ドーナツでは円形状にヒートマップの赤い部分が点在している"
   ]
  },
  {
   "cell_type": "code",
   "execution_count": null,
   "metadata": {},
   "outputs": [],
   "source": []
  }
 ],
 "metadata": {
  "kernelspec": {
   "display_name": "Python 3 (Anaconda)",
   "language": "python",
   "name": "python3_anaconda"
  },
  "language_info": {
   "codemirror_mode": {
    "name": "ipython",
    "version": 3
   },
   "file_extension": ".py",
   "mimetype": "text/x-python",
   "name": "python",
   "nbconvert_exporter": "python",
   "pygments_lexer": "ipython3",
   "version": "3.7.6"
  }
 },
 "nbformat": 4,
 "nbformat_minor": 2
}
