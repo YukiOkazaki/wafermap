{
 "cells": [
  {
   "cell_type": "markdown",
   "metadata": {},
   "source": [
    "## 26x26のウエハに限定して機械学習させる\n",
    "- データオーギュメンテーション（鏡映，回転を追加）"
   ]
  },
  {
   "cell_type": "markdown",
   "metadata": {},
   "source": [
    "### import，入力データの読み込み"
   ]
  },
  {
   "cell_type": "code",
   "execution_count": 1,
   "metadata": {},
   "outputs": [
    {
     "name": "stdout",
     "output_type": "stream",
     "text": [
      "../input/LSWMD.pkl\n"
     ]
    }
   ],
   "source": [
    "# This Python 3 environment comes with many helpful analytics libraries installed\n",
    "# It is defined by the kaggle/python docker image: https://github.com/kaggle/docker-python\n",
    "# For example, here's several helpful packages to load in \n",
    "\n",
    "import numpy as np # linear algebra\n",
    "import pandas as pd # data processing, CSV file I/O (e.g. pd.read_csv)\n",
    "\n",
    "# Input data files are available in the \"../input/\" directory.\n",
    "# For example, running this (by clicking run or pressing Shift+Enter) will list all files under the input directory\n",
    "\n",
    "import os\n",
    "for dirname, _, filenames in os.walk('../input'):\n",
    "    for filename in filenames:\n",
    "        print(os.path.join(dirname, filename))\n",
    "\n",
    "# Any results you write to the current directory are saved as output."
   ]
  },
  {
   "cell_type": "code",
   "execution_count": 2,
   "metadata": {
    "scrolled": true
   },
   "outputs": [
    {
     "name": "stdout",
     "output_type": "stream",
     "text": [
      "using GPU: 1\n"
     ]
    },
    {
     "name": "stderr",
     "output_type": "stream",
     "text": [
      "Using TensorFlow backend.\n"
     ]
    },
    {
     "name": "stdout",
     "output_type": "stream",
     "text": [
      "['LSWMD.pkl']\n"
     ]
    }
   ],
   "source": [
    "import os\n",
    "from os.path import join\n",
    "\n",
    "import numpy as np\n",
    "import pandas as pd\n",
    "import cv2\n",
    "\n",
    "from sklearn.model_selection import KFold \n",
    "from sklearn.model_selection import cross_val_score\n",
    "from sklearn.model_selection import train_test_split\n",
    "\n",
    "import tensorflow as tf\n",
    "import keras\n",
    "from keras import layers, Input, models\n",
    "from keras.utils import to_categorical\n",
    "from keras.wrappers.scikit_learn import KerasClassifier \n",
    "\n",
    "\n",
    "import matplotlib.pyplot as plt\n",
    "\n",
    "from keras.preprocessing import image\n",
    "from keras.preprocessing.image import ImageDataGenerator\n",
    "\n",
    "datapath = join('data', 'wafer')\n",
    "\n",
    "print(os.listdir(\"../input\"))\n",
    "import warnings\n",
    "warnings.filterwarnings(\"ignore\")"
   ]
  },
  {
   "cell_type": "markdown",
   "metadata": {},
   "source": [
    "### データについて"
   ]
  },
  {
   "cell_type": "code",
   "execution_count": 3,
   "metadata": {
    "scrolled": false
   },
   "outputs": [
    {
     "name": "stdout",
     "output_type": "stream",
     "text": [
      "<class 'pandas.core.frame.DataFrame'>\n",
      "RangeIndex: 811457 entries, 0 to 811456\n",
      "Data columns (total 6 columns):\n",
      " #   Column          Non-Null Count   Dtype  \n",
      "---  ------          --------------   -----  \n",
      " 0   waferMap        811457 non-null  object \n",
      " 1   dieSize         811457 non-null  float64\n",
      " 2   lotName         811457 non-null  object \n",
      " 3   waferIndex      811457 non-null  float64\n",
      " 4   trianTestLabel  811457 non-null  object \n",
      " 5   failureType     811457 non-null  object \n",
      "dtypes: float64(2), object(4)\n",
      "memory usage: 37.1+ MB\n"
     ]
    }
   ],
   "source": [
    "df=pd.read_pickle(\"../input/LSWMD.pkl\")\n",
    "df.info()"
   ]
  },
  {
   "cell_type": "markdown",
   "metadata": {},
   "source": [
    "- データセットは811,457枚のウエハマップから構成されている．"
   ]
  },
  {
   "cell_type": "markdown",
   "metadata": {},
   "source": [
    "- ウエハマップのそれぞれの列から得られる情報はないが，インスタンスごとにダイサイズが異なることがわかる．\n",
    "- ウエハマップのダイサイズをチェックするための変数`WaferMapDim`を定義する．（縦，横の値）"
   ]
  },
  {
   "cell_type": "code",
   "execution_count": 4,
   "metadata": {},
   "outputs": [],
   "source": [
    "df = df.drop(['waferIndex'], axis = 1)"
   ]
  },
  {
   "cell_type": "code",
   "execution_count": 5,
   "metadata": {},
   "outputs": [
    {
     "data": {
      "text/html": [
       "<div>\n",
       "<style scoped>\n",
       "    .dataframe tbody tr th:only-of-type {\n",
       "        vertical-align: middle;\n",
       "    }\n",
       "\n",
       "    .dataframe tbody tr th {\n",
       "        vertical-align: top;\n",
       "    }\n",
       "\n",
       "    .dataframe thead th {\n",
       "        text-align: right;\n",
       "    }\n",
       "</style>\n",
       "<table border=\"1\" class=\"dataframe\">\n",
       "  <thead>\n",
       "    <tr style=\"text-align: right;\">\n",
       "      <th></th>\n",
       "      <th>waferMap</th>\n",
       "      <th>dieSize</th>\n",
       "      <th>lotName</th>\n",
       "      <th>trianTestLabel</th>\n",
       "      <th>failureType</th>\n",
       "      <th>waferMapDim</th>\n",
       "    </tr>\n",
       "  </thead>\n",
       "  <tbody>\n",
       "    <tr>\n",
       "      <th>710442</th>\n",
       "      <td>[[0, 0, 0, 0, 0, 0, 0, 0, 0, 0, 0, 0, 1, 2, 1,...</td>\n",
       "      <td>516.0</td>\n",
       "      <td>lot43444</td>\n",
       "      <td>[[Training]]</td>\n",
       "      <td>[[none]]</td>\n",
       "      <td>(25, 27)</td>\n",
       "    </tr>\n",
       "    <tr>\n",
       "      <th>778042</th>\n",
       "      <td>[[0, 0, 0, 0, 0, 0, 0, 0, 0, 0, 0, 0, 0, 0, 0,...</td>\n",
       "      <td>1414.0</td>\n",
       "      <td>lot46186</td>\n",
       "      <td>[[Test]]</td>\n",
       "      <td>[[none]]</td>\n",
       "      <td>(42, 44)</td>\n",
       "    </tr>\n",
       "    <tr>\n",
       "      <th>570464</th>\n",
       "      <td>[[0, 0, 0, 0, 0, 0, 0, 0, 0, 0, 0, 0, 1, 1, 1,...</td>\n",
       "      <td>710.0</td>\n",
       "      <td>lot35727</td>\n",
       "      <td>[]</td>\n",
       "      <td>[]</td>\n",
       "      <td>(32, 29)</td>\n",
       "    </tr>\n",
       "    <tr>\n",
       "      <th>623218</th>\n",
       "      <td>[[0, 0, 0, 0, 0, 0, 0, 0, 0, 0, 0, 0, 1, 1, 1,...</td>\n",
       "      <td>712.0</td>\n",
       "      <td>lot39164</td>\n",
       "      <td>[]</td>\n",
       "      <td>[]</td>\n",
       "      <td>(32, 29)</td>\n",
       "    </tr>\n",
       "    <tr>\n",
       "      <th>109757</th>\n",
       "      <td>[[0, 0, 0, 0, 0, 0, 0, 0, 0, 0, 0, 0, 0, 0, 0,...</td>\n",
       "      <td>572.0</td>\n",
       "      <td>lot7438</td>\n",
       "      <td>[]</td>\n",
       "      <td>[]</td>\n",
       "      <td>(22, 35)</td>\n",
       "    </tr>\n",
       "  </tbody>\n",
       "</table>\n",
       "</div>"
      ],
      "text/plain": [
       "                                                 waferMap  dieSize   lotName  \\\n",
       "710442  [[0, 0, 0, 0, 0, 0, 0, 0, 0, 0, 0, 0, 1, 2, 1,...    516.0  lot43444   \n",
       "778042  [[0, 0, 0, 0, 0, 0, 0, 0, 0, 0, 0, 0, 0, 0, 0,...   1414.0  lot46186   \n",
       "570464  [[0, 0, 0, 0, 0, 0, 0, 0, 0, 0, 0, 0, 1, 1, 1,...    710.0  lot35727   \n",
       "623218  [[0, 0, 0, 0, 0, 0, 0, 0, 0, 0, 0, 0, 1, 1, 1,...    712.0  lot39164   \n",
       "109757  [[0, 0, 0, 0, 0, 0, 0, 0, 0, 0, 0, 0, 0, 0, 0,...    572.0   lot7438   \n",
       "\n",
       "       trianTestLabel failureType waferMapDim  \n",
       "710442   [[Training]]    [[none]]    (25, 27)  \n",
       "778042       [[Test]]    [[none]]    (42, 44)  \n",
       "570464             []          []    (32, 29)  \n",
       "623218             []          []    (32, 29)  \n",
       "109757             []          []    (22, 35)  "
      ]
     },
     "execution_count": 5,
     "metadata": {},
     "output_type": "execute_result"
    }
   ],
   "source": [
    "def find_dim(x):\n",
    "    dim0=np.size(x,axis=0)\n",
    "    dim1=np.size(x,axis=1)\n",
    "    return dim0,dim1\n",
    "df['waferMapDim']=df.waferMap.apply(find_dim)\n",
    "df.sample(5)"
   ]
  },
  {
   "cell_type": "markdown",
   "metadata": {},
   "source": [
    "- 不良パターンと学習orテストラベルを数値で表す．"
   ]
  },
  {
   "cell_type": "code",
   "execution_count": 6,
   "metadata": {},
   "outputs": [],
   "source": [
    "df['failureNum']=df.failureType\n",
    "df['trainTestNum']=df.trianTestLabel\n",
    "mapping_type={'Center':0,'Donut':1,'Edge-Loc':2,'Edge-Ring':3,'Loc':4,'Random':5,'Scratch':6,'Near-full':7,'none':8}\n",
    "mapping_traintest={'Training':0,'Test':1}\n",
    "df=df.replace({'failureNum':mapping_type, 'trainTestNum':mapping_traintest})"
   ]
  },
  {
   "cell_type": "code",
   "execution_count": 7,
   "metadata": {},
   "outputs": [
    {
     "data": {
      "text/plain": [
       "811457"
      ]
     },
     "execution_count": 7,
     "metadata": {},
     "output_type": "execute_result"
    }
   ],
   "source": [
    "tol_wafers = df.shape[0]\n",
    "tol_wafers"
   ]
  },
  {
   "cell_type": "code",
   "execution_count": 8,
   "metadata": {},
   "outputs": [
    {
     "data": {
      "text/plain": [
       "(172950, 25519, 147431)"
      ]
     },
     "execution_count": 8,
     "metadata": {},
     "output_type": "execute_result"
    }
   ],
   "source": [
    "df_withlabel = df[(df['failureNum']>=0) & (df['failureNum']<=8)]\n",
    "df_withlabel =df_withlabel.reset_index()\n",
    "df_withpattern = df[(df['failureNum']>=0) & (df['failureNum']<=7)]\n",
    "df_withpattern = df_withpattern.reset_index()\n",
    "df_nonpattern = df[(df['failureNum']==8)]\n",
    "df_withlabel.shape[0], df_withpattern.shape[0], df_nonpattern.shape[0]"
   ]
  },
  {
   "cell_type": "markdown",
   "metadata": {},
   "source": [
    "### 26x26のデータに対して処理"
   ]
  },
  {
   "cell_type": "code",
   "execution_count": 9,
   "metadata": {},
   "outputs": [],
   "source": [
    "sub_df = df.loc[df['waferMapDim'] == (26, 26)]\n",
    "sub_wafer = sub_df['waferMap'].values\n",
    "\n",
    "sw = np.ones((1, 26, 26))\n",
    "label = list()\n",
    "\n",
    "for i in range(len(sub_df)):\n",
    "    # skip null label\n",
    "    if len(sub_df.iloc[i,:]['failureType']) == 0:\n",
    "        continue\n",
    "    sw = np.concatenate((sw, sub_df.iloc[i,:]['waferMap'].reshape(1, 26, 26)))\n",
    "    label.append(sub_df.iloc[i,:]['failureType'][0][0])"
   ]
  },
  {
   "cell_type": "code",
   "execution_count": 10,
   "metadata": {},
   "outputs": [],
   "source": [
    "x = sw[1:]\n",
    "y = np.array(label).reshape((-1,1))"
   ]
  },
  {
   "cell_type": "code",
   "execution_count": 11,
   "metadata": {},
   "outputs": [],
   "source": [
    "mask_x = np.zeros((24, 24))\n",
    "dummy_x = cv2.resize(x[0], (24,24))\n",
    "mask_x[dummy_x == 1] = 1 \n",
    "mask_x[dummy_x == 2] = 1 \n",
    "mask_x = mask_x.reshape((1, 24,24))"
   ]
  },
  {
   "cell_type": "code",
   "execution_count": 12,
   "metadata": {},
   "outputs": [
    {
     "name": "stdout",
     "output_type": "stream",
     "text": [
      "x shape : (14366, 26, 26), y shape : (14366, 1)\n"
     ]
    }
   ],
   "source": [
    "print('x shape : {}, y shape : {}'.format(x.shape, y.shape))"
   ]
  },
  {
   "cell_type": "markdown",
   "metadata": {},
   "source": [
    "- 26x26のウエハが14366枚抽出できた．"
   ]
  },
  {
   "cell_type": "markdown",
   "metadata": {},
   "source": [
    "- none の中身を見る（不良なのか，正常なのか）"
   ]
  },
  {
   "cell_type": "code",
   "execution_count": 13,
   "metadata": {},
   "outputs": [
    {
     "data": {
      "text/plain": [
       "\"\\n# plot 1st data\\nindex = np.where(y == 'none')\\n#print(index[0])\\n\\nfor i in index[0]:\\n    print(i)\\n    plt.imshow(x[i])\\n    plt.show()\\n\\n    # check faulty case\\n    print('Faulty case : {} '.format(y[i]))\\n\""
      ]
     },
     "execution_count": 13,
     "metadata": {},
     "output_type": "execute_result"
    }
   ],
   "source": [
    "'''\n",
    "# plot 1st data\n",
    "index = np.where(y == 'none')\n",
    "#print(index[0])\n",
    "\n",
    "for i in index[0]:\n",
    "    print(i)\n",
    "    plt.imshow(x[i])\n",
    "    plt.show()\n",
    "\n",
    "    # check faulty case\n",
    "    print('Faulty case : {} '.format(y[i]))\n",
    "'''"
   ]
  },
  {
   "cell_type": "markdown",
   "metadata": {},
   "source": [
    "- 最初のデータを可視化してみる．\n",
    "- その前に，26x26のデータでおかしなものを表示"
   ]
  },
  {
   "cell_type": "code",
   "execution_count": 14,
   "metadata": {},
   "outputs": [
    {
     "name": "stdout",
     "output_type": "stream",
     "text": [
      "6267 is error\n",
      "6268 is error\n",
      "6269 is error\n",
      "6270 is error\n",
      "6271 is error\n",
      "6272 is error\n",
      "6273 is error\n",
      "6274 is error\n",
      "6275 is error\n",
      "6276 is error\n",
      "6277 is error\n",
      "6278 is error\n",
      "6279 is error\n",
      "6280 is error\n",
      "6281 is error\n",
      "6282 is error\n"
     ]
    }
   ],
   "source": [
    "for i in range(len(x)):\n",
    "    error = np.where((x[0] != x[i]) & ((x[0] == 0) | (x[i] == 0)))\n",
    "    if len(error[0]) > 0:\n",
    "        print(str(i) + \" is error\")\n",
    "        #print(error)"
   ]
  },
  {
   "cell_type": "code",
   "execution_count": 15,
   "metadata": {},
   "outputs": [
    {
     "data": {
      "image/png": "[encoded data removed]",
      "text/plain": [
       "<Figure size 432x288 with 1 Axes>"
      ]
     },
     "metadata": {
      "needs_background": "light"
     },
     "output_type": "display_data"
    },
    {
     "name": "stdout",
     "output_type": "stream",
     "text": [
      "Faulty case : ['none'] \n"
     ]
    }
   ],
   "source": [
    "# plot 1st data\n",
    "plt.imshow(x[0])\n",
    "plt.show()\n",
    "\n",
    "# check faulty case\n",
    "print('Faulty case : {} '.format(y[0]))"
   ]
  },
  {
   "cell_type": "markdown",
   "metadata": {},
   "source": [
    "- おかしなウエハは除去する"
   ]
  },
  {
   "cell_type": "code",
   "execution_count": 16,
   "metadata": {},
   "outputs": [
    {
     "name": "stdout",
     "output_type": "stream",
     "text": [
      "(14350, 26, 26)\n",
      "(14350, 1)\n"
     ]
    }
   ],
   "source": [
    "error_list = []\n",
    "for i in range(len(x)):\n",
    "    error = np.where((x[0] != x[i]) & ((x[0] == 0) | (x[i] == 0)))\n",
    "    if len(error[0]) > 0:\n",
    "        error_list.append(i)\n",
    "x = np.delete(x, error_list, 0)\n",
    "y = np.delete(y, error_list, 0)\n",
    "print(x.shape)\n",
    "print(y.shape)"
   ]
  },
  {
   "cell_type": "markdown",
   "metadata": {},
   "source": [
    "- 形が異なるウエハを削除したところ，14350枚となった．"
   ]
  },
  {
   "cell_type": "code",
   "execution_count": 17,
   "metadata": {},
   "outputs": [
    {
     "data": {
      "text/plain": [
       "(14350, 26, 26, 1)"
      ]
     },
     "execution_count": 17,
     "metadata": {},
     "output_type": "execute_result"
    }
   ],
   "source": [
    "x = x.reshape((-1, 26, 26, 1))\n",
    "x.shape"
   ]
  },
  {
   "cell_type": "code",
   "execution_count": 18,
   "metadata": {},
   "outputs": [
    {
     "name": "stdout",
     "output_type": "stream",
     "text": [
      "Faulty case list : ['Center' 'Donut' 'Edge-Loc' 'Edge-Ring' 'Loc' 'Near-full' 'Random'\n",
      " 'Scratch' 'none']\n"
     ]
    }
   ],
   "source": [
    "faulty_case = np.unique(y)\n",
    "print('Faulty case list : {}'.format(faulty_case))"
   ]
  },
  {
   "cell_type": "code",
   "execution_count": 19,
   "metadata": {},
   "outputs": [],
   "source": [
    "faulty_case_dict =dict()"
   ]
  },
  {
   "cell_type": "code",
   "execution_count": 20,
   "metadata": {},
   "outputs": [
    {
     "name": "stdout",
     "output_type": "stream",
     "text": [
      "Center : 90\n",
      "Donut : 1\n",
      "Edge-Loc : 289\n",
      "Edge-Ring : 23\n",
      "Loc : 297\n",
      "Near-full : 16\n",
      "Random : 74\n",
      "Scratch : 71\n",
      "none : 13489\n"
     ]
    }
   ],
   "source": [
    "for i, f in enumerate(faulty_case) :\n",
    "    print('{} : {}'.format(f, len(y[y==f])))\n",
    "    faulty_case_dict[i] = f"
   ]
  },
  {
   "cell_type": "markdown",
   "metadata": {},
   "source": [
    "- 14366枚の26x26ウエハの不良パターンは上記のようになっている．"
   ]
  },
  {
   "cell_type": "code",
   "execution_count": 21,
   "metadata": {},
   "outputs": [],
   "source": [
    "new_x = np.zeros((len(x), 26, 26, 3))\n",
    "\n",
    "for w in range(len(x)):\n",
    "    for i in range(26):\n",
    "        for j in range(26):\n",
    "            new_x[w, i, j, int(x[w, i, j])] = 1"
   ]
  },
  {
   "cell_type": "code",
   "execution_count": 22,
   "metadata": {},
   "outputs": [
    {
     "data": {
      "text/plain": [
       "(14350, 26, 26, 3)"
      ]
     },
     "execution_count": 22,
     "metadata": {},
     "output_type": "execute_result"
    }
   ],
   "source": [
    "new_x.shape"
   ]
  },
  {
   "cell_type": "markdown",
   "metadata": {},
   "source": [
    "- new_xを(14366, 26, 26, 3)とし，最後の次元にはウエハの値(0, 1, 2)がそれぞれの値毎にベクトルとしてまとめられている．\n",
    "- ウエハデータの各ピクセルは，0:ウエハなし，1:正常，2:不良を表す．"
   ]
  },
  {
   "cell_type": "markdown",
   "metadata": {},
   "source": [
    "### オートエンコーダで学習"
   ]
  },
  {
   "cell_type": "markdown",
   "metadata": {},
   "source": [
    "#### エンコーダとデコーダのモデルを学習"
   ]
  },
  {
   "cell_type": "markdown",
   "metadata": {},
   "source": [
    "- モデルの定義をする．"
   ]
  },
  {
   "cell_type": "code",
   "execution_count": 23,
   "metadata": {},
   "outputs": [],
   "source": [
    "# Encoder\n",
    "input_shape = (26, 26, 3)\n",
    "input_tensor = Input(input_shape)\n",
    "encode = layers.Conv2D(64, (3,3), padding='same', activation='relu')(input_tensor)\n",
    "\n",
    "latent_vector = layers.MaxPool2D()(encode)\n",
    "\n",
    "# Decoder\n",
    "decode_layer_1 = layers.Conv2DTranspose(64, (3,3), padding='same', activation='relu')\n",
    "decode_layer_2 = layers.UpSampling2D()\n",
    "output_tensor = layers.Conv2DTranspose(3, (3,3), padding='same', activation='sigmoid')\n",
    "\n",
    "# connect decoder layers\n",
    "decode = decode_layer_1(latent_vector)\n",
    "decode = decode_layer_2(decode)\n",
    "\n",
    "ae = models.Model(input_tensor, output_tensor(decode))\n",
    "ae.compile(optimizer = 'Adam',\n",
    "              loss = 'mse',\n",
    "             )"
   ]
  },
  {
   "cell_type": "code",
   "execution_count": 24,
   "metadata": {},
   "outputs": [
    {
     "name": "stdout",
     "output_type": "stream",
     "text": [
      "Model: \"model_1\"\n",
      "_________________________________________________________________\n",
      "Layer (type)                 Output Shape              Param #   \n",
      "=================================================================\n",
      "input_1 (InputLayer)         (None, 26, 26, 3)         0         \n",
      "_________________________________________________________________\n",
      "conv2d_1 (Conv2D)            (None, 26, 26, 64)        1792      \n",
      "_________________________________________________________________\n",
      "max_pooling2d_1 (MaxPooling2 (None, 13, 13, 64)        0         \n",
      "_________________________________________________________________\n",
      "conv2d_transpose_1 (Conv2DTr (None, 13, 13, 64)        36928     \n",
      "_________________________________________________________________\n",
      "up_sampling2d_1 (UpSampling2 (None, 26, 26, 64)        0         \n",
      "_________________________________________________________________\n",
      "conv2d_transpose_2 (Conv2DTr (None, 26, 26, 3)         1731      \n",
      "=================================================================\n",
      "Total params: 40,451\n",
      "Trainable params: 40,451\n",
      "Non-trainable params: 0\n",
      "_________________________________________________________________\n"
     ]
    }
   ],
   "source": [
    "ae.summary()"
   ]
  },
  {
   "cell_type": "markdown",
   "metadata": {},
   "source": [
    "- 層は\n",
    "    - 入力層\n",
    "    - 畳み込み層\n",
    "    - プーリング層\n",
    "    - 転置畳み込み層\n",
    "    - アップサンプリング層"
   ]
  },
  {
   "cell_type": "code",
   "execution_count": 25,
   "metadata": {},
   "outputs": [],
   "source": [
    "epoch=30\n",
    "batch_size=1024"
   ]
  },
  {
   "cell_type": "markdown",
   "metadata": {},
   "source": [
    "- 学習を開始する．\n",
    "- `new_x`を`new_x`にエンコードしデコードする．"
   ]
  },
  {
   "cell_type": "code",
   "execution_count": 26,
   "metadata": {
    "scrolled": true
   },
   "outputs": [
    {
     "name": "stdout",
     "output_type": "stream",
     "text": [
      "Epoch 1/30\n",
      "14350/14350 [==============================] - 2s 110us/step - loss: 0.1590\n",
      "Epoch 2/30\n",
      "14350/14350 [==============================] - 1s 39us/step - loss: 0.0962\n",
      "Epoch 3/30\n",
      "14350/14350 [==============================] - 1s 40us/step - loss: 0.0837\n",
      "Epoch 4/30\n",
      "14350/14350 [==============================] - 1s 41us/step - loss: 0.0721\n",
      "Epoch 5/30\n",
      "14350/14350 [==============================] - 1s 41us/step - loss: 0.0638\n",
      "Epoch 6/30\n",
      "14350/14350 [==============================] - 1s 41us/step - loss: 0.0572\n",
      "Epoch 7/30\n",
      "14350/14350 [==============================] - 1s 41us/step - loss: 0.0511\n",
      "Epoch 8/30\n",
      "14350/14350 [==============================] - 1s 40us/step - loss: 0.0455\n",
      "Epoch 9/30\n",
      "14350/14350 [==============================] - 1s 41us/step - loss: 0.0403\n",
      "Epoch 10/30\n",
      "14350/14350 [==============================] - 1s 41us/step - loss: 0.0356\n",
      "Epoch 11/30\n",
      "14350/14350 [==============================] - 1s 41us/step - loss: 0.0315\n",
      "Epoch 12/30\n",
      "14350/14350 [==============================] - 1s 41us/step - loss: 0.0281\n",
      "Epoch 13/30\n",
      "14350/14350 [==============================] - 1s 40us/step - loss: 0.0252\n",
      "Epoch 14/30\n",
      "14350/14350 [==============================] - 1s 41us/step - loss: 0.0228\n",
      "Epoch 15/30\n",
      "14350/14350 [==============================] - 1s 41us/step - loss: 0.0207\n",
      "Epoch 16/30\n",
      "14350/14350 [==============================] - 1s 41us/step - loss: 0.0190\n",
      "Epoch 17/30\n",
      "14350/14350 [==============================] - 1s 40us/step - loss: 0.0176\n",
      "Epoch 18/30\n",
      "14350/14350 [==============================] - 1s 42us/step - loss: 0.0164\n",
      "Epoch 19/30\n",
      "14350/14350 [==============================] - 1s 41us/step - loss: 0.0155\n",
      "Epoch 20/30\n",
      "14350/14350 [==============================] - 1s 42us/step - loss: 0.0145\n",
      "Epoch 21/30\n",
      "14350/14350 [==============================] - 1s 40us/step - loss: 0.0137\n",
      "Epoch 22/30\n",
      "14350/14350 [==============================] - 1s 42us/step - loss: 0.0130\n",
      "Epoch 23/30\n",
      "14350/14350 [==============================] - 1s 41us/step - loss: 0.0124\n",
      "Epoch 24/30\n",
      "14350/14350 [==============================] - 1s 41us/step - loss: 0.0118\n",
      "Epoch 25/30\n",
      "14350/14350 [==============================] - 1s 41us/step - loss: 0.0112\n",
      "Epoch 26/30\n",
      "14350/14350 [==============================] - 1s 41us/step - loss: 0.0107\n",
      "Epoch 27/30\n",
      "14350/14350 [==============================] - 1s 41us/step - loss: 0.0102\n",
      "Epoch 28/30\n",
      "14350/14350 [==============================] - 1s 41us/step - loss: 0.0097\n",
      "Epoch 29/30\n",
      "14350/14350 [==============================] - 1s 40us/step - loss: 0.0092\n",
      "Epoch 30/30\n",
      "14350/14350 [==============================] - 1s 41us/step - loss: 0.0087\n"
     ]
    },
    {
     "data": {
      "text/plain": [
       "<keras.callbacks.callbacks.History at 0x7fa6622dd390>"
      ]
     },
     "execution_count": 26,
     "metadata": {},
     "output_type": "execute_result"
    }
   ],
   "source": [
    "# start train\n",
    "ae.fit(new_x, new_x,\n",
    "       batch_size=batch_size,\n",
    "       epochs=epoch,\n",
    "       verbose=1)"
   ]
  },
  {
   "cell_type": "markdown",
   "metadata": {},
   "source": [
    "- エンコーダだけのモデルを定義する．"
   ]
  },
  {
   "cell_type": "code",
   "execution_count": 27,
   "metadata": {},
   "outputs": [],
   "source": [
    "encoder = models.Model(input_tensor, latent_vector)"
   ]
  },
  {
   "cell_type": "markdown",
   "metadata": {},
   "source": [
    "- デコーダだけのモデルを定義する．"
   ]
  },
  {
   "cell_type": "code",
   "execution_count": 28,
   "metadata": {},
   "outputs": [],
   "source": [
    "decoder_input = Input((13, 13, 64))\n",
    "decode = decode_layer_1(decoder_input)\n",
    "decode = decode_layer_2(decode)\n",
    "\n",
    "decoder = models.Model(decoder_input, output_tensor(decode))"
   ]
  },
  {
   "cell_type": "markdown",
   "metadata": {},
   "source": [
    "- `encoder`を使って元のウエハ画像をエンコードする．"
   ]
  },
  {
   "cell_type": "code",
   "execution_count": 29,
   "metadata": {},
   "outputs": [],
   "source": [
    "# Encode original faulty wafer\n",
    "encoded_x = encoder.predict(new_x)"
   ]
  },
  {
   "cell_type": "markdown",
   "metadata": {},
   "source": [
    "- エンコードされた潜伏的な不良ウエハにノイズを負荷する．"
   ]
  },
  {
   "cell_type": "code",
   "execution_count": 30,
   "metadata": {},
   "outputs": [],
   "source": [
    "# Add noise to encoded latent faulty wafers vector.\n",
    "noised_encoded_x = encoded_x + np.random.normal(loc=0, scale=0.1, size = (len(encoded_x), 13, 13, 64))"
   ]
  },
  {
   "cell_type": "markdown",
   "metadata": {},
   "source": [
    "- 元のウエハ画像"
   ]
  },
  {
   "cell_type": "code",
   "execution_count": 31,
   "metadata": {
    "scrolled": true
   },
   "outputs": [
    {
     "data": {
      "text/plain": [
       "<matplotlib.image.AxesImage at 0x7fa6c87ab4d0>"
      ]
     },
     "execution_count": 31,
     "metadata": {},
     "output_type": "execute_result"
    },
    {
     "data": {
      "image/png": "[encoded data removed]",
      "text/plain": [
       "<Figure size 432x288 with 1 Axes>"
      ]
     },
     "metadata": {
      "needs_background": "light"
     },
     "output_type": "display_data"
    }
   ],
   "source": [
    "# check original faulty wafer data\n",
    "plt.imshow(np.argmax(new_x[3], axis=2))"
   ]
  },
  {
   "cell_type": "markdown",
   "metadata": {},
   "source": [
    "- マスクの定義"
   ]
  },
  {
   "cell_type": "code",
   "execution_count": 32,
   "metadata": {
    "scrolled": false
   },
   "outputs": [],
   "source": [
    "# 0がウエハ領域，1が範囲外\n",
    "mask = new_x[0, :, :, 0].copy()\n",
    "#out_region = np.where(mask == 1.0)\n",
    "#in_region = np.where(mask == 0.0)\n",
    "#mask[out_region] = 0.0\n",
    "#mask[in_region] = 1.0\n",
    "#print(mask)"
   ]
  },
  {
   "cell_type": "markdown",
   "metadata": {},
   "source": [
    "- 回転の実験\n",
    "\n",
    "90度ごとなら自作OpenCV関数が有用"
   ]
  },
  {
   "cell_type": "markdown",
   "metadata": {},
   "source": [
    "- 90度以外の回転"
   ]
  },
  {
   "cell_type": "code",
   "execution_count": 33,
   "metadata": {},
   "outputs": [],
   "source": [
    "from PIL import Image\n",
    "def rotation_pil_mask(img, degree):\n",
    "    src = Image.fromarray(np.uint8(img))\n",
    "    img_rotate = np.array(src.rotate(degree))\n",
    "    \n",
    "    #before\n",
    "    '''\n",
    "    plt.imshow(np.argmax(img_rotate, axis=2))\n",
    "    plt.title(\"rotate \" + str(degree) + \" degree before\")\n",
    "    plt.show()\n",
    "    '''\n",
    "    \n",
    "    #マスクの適用, \n",
    "    out_region = np.where((np.argmax(img_rotate, axis=2) != 0) & (mask > 0.0))\n",
    "    img_rotate[out_region[0], out_region[1]] = np.array([1., 0., 0.])\n",
    "    in_region = np.where((np.argmax(img_rotate, axis=2) == 0) & (mask == 0.0))\n",
    "    img_rotate[in_region[0], in_region[1]] = np.array([0., 1., 0.])\n",
    "\n",
    "    #after\n",
    "    '''plt.imshow(np.argmax(img_rotate, axis=2))\n",
    "    plt.title(\"rotate \" + str(degree) + \" degree after\")\n",
    "    plt.show()'''\n",
    "\n",
    "    return img_rotate"
   ]
  },
  {
   "cell_type": "code",
   "execution_count": 34,
   "metadata": {
    "scrolled": false
   },
   "outputs": [
    {
     "name": "stdout",
     "output_type": "stream",
     "text": [
      "(26, 26, 3)\n"
     ]
    }
   ],
   "source": [
    "\n",
    "wafer = new_x[np.where(y==\"Edge-Loc\")[0]].reshape(len(np.where(y==\"Edge-Loc\")[0]), 26, 26, 3)\n",
    "#plt.imshow(np.argmax(wafer[0], axis=2))\n",
    "#plt.show()\n",
    "\n",
    "print(wafer[0].shape)\n",
    "\n",
    "for i in range(19):\n",
    "    rotation_pil_mask(wafer[0], i*20)\n"
   ]
  },
  {
   "cell_type": "code",
   "execution_count": null,
   "metadata": {},
   "outputs": [],
   "source": []
  },
  {
   "cell_type": "markdown",
   "metadata": {},
   "source": [
    "- ノイズが付加されたウエハ画像"
   ]
  },
  {
   "cell_type": "code",
   "execution_count": 35,
   "metadata": {},
   "outputs": [
    {
     "data": {
      "text/plain": [
       "<matplotlib.image.AxesImage at 0x7fa628570a90>"
      ]
     },
     "execution_count": 35,
     "metadata": {},
     "output_type": "execute_result"
    },
    {
     "data": {
      "image/png": "[encoded data removed]",
      "text/plain": [
       "<Figure size 432x288 with 1 Axes>"
      ]
     },
     "metadata": {
      "needs_background": "light"
     },
     "output_type": "display_data"
    }
   ],
   "source": [
    "# check new noised faulty wafer data\n",
    "noised_gen_x = np.argmax(decoder.predict(noised_encoded_x), axis=3)\n",
    "plt.imshow(noised_gen_x[3])"
   ]
  },
  {
   "cell_type": "markdown",
   "metadata": {},
   "source": [
    "### データオーギュメンテーション"
   ]
  },
  {
   "cell_type": "markdown",
   "metadata": {},
   "source": [
    "- データオーギュメンテーションを行う関数を定義する．\n",
    "- 鏡映，回転を行う"
   ]
  },
  {
   "cell_type": "code",
   "execution_count": 36,
   "metadata": {},
   "outputs": [],
   "source": [
    "# augment function define (add rotate, flip)\n",
    "def gen_data(wafer, label):\n",
    "    # Encode input wafer\n",
    "    #encoded_x = encoder.predict(wafer)\n",
    "    \n",
    "    # dummy array for collecting noised wafer\n",
    "    gen_x = np.zeros((1, 26, 26, 3))\n",
    "    aug_x = np.zeros((1, 26, 26, 3))\n",
    "    \n",
    "    #datagen = ImageDataGenerator(rotation_range = 90, horizontal_flip = True, vertical_flip = True, fill_mode = 'constant', cval = 0)\n",
    "    #datagen = ImageDataGenerator(rotation_range = 0)\n",
    "    ite = 20 if label != 'none' else 2\n",
    "    for i in range(len(wafer)):\n",
    "        for j in range(ite):\n",
    "            if label != 'none':\n",
    "                data = rotation_pil_mask(wafer[i], j*18)\n",
    "            else:\n",
    "                data = rotation_pil_mask(wafer[i], j*180)\n",
    "            data = data.reshape(1, 26, 26, 3)\n",
    "            aug_x = np.concatenate((aug_x, data), axis = 0)\n",
    "            '''\n",
    "            for j, img in enumerate(data):\n",
    "                plot_num = j+1\n",
    "                plt.subplot(4, 5, plot_num)\n",
    "                plt.tick_params(labelbottom=False)\n",
    "                plt.tick_params(labelleft=False)\n",
    "                plt.imshow(img)\n",
    "            plt.show()\n",
    "            '''\n",
    "    encoded_x = encoder.predict(aug_x)\n",
    "    print(encoded_x.shape)\n",
    "        \n",
    "    \n",
    "    # Make wafer until total # of wafer to 15000\n",
    "    if label != 'none':\n",
    "        for i in range((40000//len(encoded_x)) + 1):\n",
    "            noised_encoded_x = encoded_x + np.random.normal(loc=0, scale=0.1, size = (len(encoded_x), 13, 13, 64)) \n",
    "            noised_gen_x = decoder.predict(noised_encoded_x)\n",
    "            gen_x = np.concatenate((gen_x, noised_gen_x), axis=0)\n",
    "    else:\n",
    "        gen_x = aug_x\n",
    "        \n",
    "    # also make label vector with same length\n",
    "    gen_y = np.full((len(gen_x), 1), label)\n",
    "    \n",
    "    # return date without 1st dummy data.\n",
    "    return gen_x[1:], gen_y[1:]"
   ]
  },
  {
   "cell_type": "markdown",
   "metadata": {},
   "source": [
    "- データオーギュメンテーション（ノイズ付加）したものが適切か調べる\n",
    "\n",
    "一番左が元画像\n",
    "右がデータオーギュメンテーション後"
   ]
  },
  {
   "cell_type": "code",
   "execution_count": null,
   "metadata": {},
   "outputs": [],
   "source": []
  },
  {
   "cell_type": "markdown",
   "metadata": {},
   "source": [
    "- 不良ラベルが付いているデータに対してデータオーギュメンテーションを行う．"
   ]
  },
  {
   "cell_type": "code",
   "execution_count": 37,
   "metadata": {},
   "outputs": [
    {
     "name": "stdout",
     "output_type": "stream",
     "text": [
      "(1801, 13, 13, 64)\n",
      "(21, 13, 13, 64)\n",
      "(5781, 13, 13, 64)\n",
      "(461, 13, 13, 64)\n",
      "(5941, 13, 13, 64)\n",
      "(321, 13, 13, 64)\n",
      "(1481, 13, 13, 64)\n",
      "(1421, 13, 13, 64)\n",
      "(26979, 13, 13, 64)\n"
     ]
    }
   ],
   "source": [
    "# Augmentation for all faulty case.\n",
    "for f in faulty_case : \n",
    "    # skip none case\n",
    "    #if f == 'none' : \n",
    "    #    continue\n",
    "    \n",
    "    gen_x, gen_y = gen_data(new_x[np.where(y==f)[0]], f)\n",
    "    new_x = np.concatenate((new_x, gen_x), axis=0)\n",
    "    y = np.concatenate((y, gen_y))"
   ]
  },
  {
   "cell_type": "code",
   "execution_count": 38,
   "metadata": {},
   "outputs": [
    {
     "name": "stdout",
     "output_type": "stream",
     "text": [
      "After Generate new_x shape : (367719, 26, 26, 3), new_y shape : (367719, 1)\n"
     ]
    }
   ],
   "source": [
    "print('After Generate new_x shape : {}, new_y shape : {}'.format(new_x.shape, y.shape))"
   ]
  },
  {
   "cell_type": "code",
   "execution_count": 39,
   "metadata": {},
   "outputs": [
    {
     "name": "stdout",
     "output_type": "stream",
     "text": [
      "Center : 41513\n",
      "Donut : 40006\n",
      "Edge-Loc : 40756\n",
      "Edge-Ring : 40130\n",
      "Loc : 41884\n",
      "Near-full : 40141\n",
      "Random : 41542\n",
      "Scratch : 41280\n",
      "none : 40467\n"
     ]
    }
   ],
   "source": [
    "for f in faulty_case :\n",
    "    print('{} : {}'.format(f, len(y[y==f])))\n",
    "new_y = y"
   ]
  },
  {
   "cell_type": "code",
   "execution_count": 40,
   "metadata": {},
   "outputs": [
    {
     "data": {
      "text/plain": [
       "array([0, 0, 0, ..., 0, 0, 0])"
      ]
     },
     "execution_count": 40,
     "metadata": {},
     "output_type": "execute_result"
    }
   ],
   "source": [
    "np.where(new_y=='Center')[1]"
   ]
  },
  {
   "cell_type": "markdown",
   "metadata": {},
   "source": [
    "- ノイズ付加後におかしなデータがあるかチェック\n",
    "- 元データとずれがあるもの：1689枚"
   ]
  },
  {
   "cell_type": "markdown",
   "metadata": {},
   "source": [
    "### ノイズ付加後もマスクで直す"
   ]
  },
  {
   "cell_type": "code",
   "execution_count": 41,
   "metadata": {},
   "outputs": [],
   "source": [
    "backup_new_x = new_x.copy()\n",
    "backup_new_y = new_y.copy()"
   ]
  },
  {
   "cell_type": "code",
   "execution_count": 42,
   "metadata": {
    "scrolled": false
   },
   "outputs": [
    {
     "name": "stdout",
     "output_type": "stream",
     "text": [
      "264336\n",
      "0\n"
     ]
    },
    {
     "data": {
      "text/plain": [
       "'plt.imshow(np.argmax(new_x[14397], axis=2))\\nplt.show()\\nplt.imshow(np.argmax(new_x[0], axis=2))\\nplt.show()'"
      ]
     },
     "execution_count": 42,
     "metadata": {},
     "output_type": "execute_result"
    }
   ],
   "source": [
    "count = 0\n",
    "for i in range(len(new_x)):\n",
    "    error = np.where((np.argmax(new_x[0], axis=2) != np.argmax(new_x[i], axis=2)) & (np.argmax(new_x[0], axis=2) == 0))\n",
    "    if len(error[0]) > 0:\n",
    "        #print(str(i) + \"error\")\n",
    "        #print(error)\n",
    "        count += 1\n",
    "print(count)\n",
    "\n",
    "for i in range(len(new_x)):\n",
    "    #マスクの適用, \n",
    "    out_region = np.where((np.argmax(new_x[i], axis=2) != 0) & (mask > 0.0))\n",
    "    new_x[i, out_region[0], out_region[1]] = np.array([1., 0., 0.])\n",
    "    in_region = np.where((np.argmax(new_x[i], axis=2) == 0) & (mask == 0.0))\n",
    "    new_x[i, in_region[0], in_region[1]] = np.array([0., 1., 0.])\n",
    "    \n",
    "count = 0\n",
    "for i in range(len(new_x)):\n",
    "    error = np.where((np.argmax(new_x[0], axis=2) != np.argmax(new_x[i], axis=2)) & (np.argmax(new_x[0], axis=2) == 0))\n",
    "    if len(error[0]) > 0:\n",
    "        #print(str(i) + \"error\")\n",
    "        #print(error)\n",
    "        count += 1\n",
    "print(count)\n",
    "\n",
    "\n",
    "'''plt.imshow(np.argmax(new_x[14397], axis=2))\n",
    "plt.show()\n",
    "plt.imshow(np.argmax(new_x[0], axis=2))\n",
    "plt.show()'''"
   ]
  },
  {
   "cell_type": "markdown",
   "metadata": {},
   "source": [
    "- データオーギュメンテーションを行った結果，各不良データごとに約40000枚に増えた．\n",
    "- 合計は368112枚となった．"
   ]
  },
  {
   "cell_type": "code",
   "execution_count": 43,
   "metadata": {
    "scrolled": false
   },
   "outputs": [
    {
     "data": {
      "image/png": "[encoded data removed]",
      "text/plain": [
       "<Figure size 1440x1440 with 10 Axes>"
      ]
     },
     "metadata": {},
     "output_type": "display_data"
    },
    {
     "data": {
      "image/png": "[encoded data removed]",
      "text/plain": [
       "<Figure size 1440x1440 with 10 Axes>"
      ]
     },
     "metadata": {},
     "output_type": "display_data"
    },
    {
     "data": {
      "image/png": "[encoded data removed]",
      "text/plain": [
       "<Figure size 1440x1440 with 10 Axes>"
      ]
     },
     "metadata": {},
     "output_type": "display_data"
    },
    {
     "data": {
      "image/png": "[encoded data removed]",
      "text/plain": [
       "<Figure size 1440x1440 with 10 Axes>"
      ]
     },
     "metadata": {},
     "output_type": "display_data"
    },
    {
     "data": {
      "image/png": "[encoded data removed]",
      "text/plain": [
       "<Figure size 1440x1440 with 10 Axes>"
      ]
     },
     "metadata": {},
     "output_type": "display_data"
    },
    {
     "data": {
      "image/png": "[encoded data removed]",
      "text/plain": [
       "<Figure size 1440x1440 with 10 Axes>"
      ]
     },
     "metadata": {},
     "output_type": "display_data"
    },
    {
     "data": {
      "image/png": "[encoded data removed]",
      "text/plain": [
       "<Figure size 1440x1440 with 10 Axes>"
      ]
     },
     "metadata": {},
     "output_type": "display_data"
    },
    {
     "data": {
      "image/png": "[encoded data removed]",
      "text/plain": [
       "<Figure size 1440x1440 with 10 Axes>"
      ]
     },
     "metadata": {},
     "output_type": "display_data"
    },
    {
     "data": {
      "image/png": "[encoded data removed]",
      "text/plain": [
       "<Figure size 1440x1440 with 10 Axes>"
      ]
     },
     "metadata": {},
     "output_type": "display_data"
    }
   ],
   "source": [
    "x = [0,1,2,3,4,5,6,7,8]\n",
    "labels2 = ['Center','Donut','Edge-Loc','Edge-Ring','Loc','Random','Scratch','Near-full','none']\n",
    "\n",
    "for k in x:\n",
    "    fig, ax = plt.subplots(nrows = 1, ncols = 10, figsize=(20, 20))\n",
    "    ax = ax.ravel(order='C')\n",
    "    for j in [k]:\n",
    "        index = np.where(new_y==labels2[j])[0]\n",
    "        img = new_x[index]\n",
    "        #img = new_x[0:10]\n",
    "        for i in range(10):\n",
    "            ax[i].imshow(np.argmax(img[i+0], axis=2))\n",
    "            ax[i].set_title(new_y[index[i+0]], fontsize=15)\n",
    "            #ax[i].set_xlabel(df_withpattern.index[img.index[i]], fontsize=10)\n",
    "            ax[i].set_xticks([])\n",
    "            ax[i].set_yticks([])\n",
    "    plt.tight_layout()\n",
    "    plt.show() "
   ]
  },
  {
   "cell_type": "markdown",
   "metadata": {},
   "source": [
    "### 学習を行う\n",
    "- 不良ラベルを0-8の9次元のベクトルとして表現する．\n",
    "- one-hotエンコーディングを行っている．"
   ]
  },
  {
   "cell_type": "code",
   "execution_count": 44,
   "metadata": {},
   "outputs": [],
   "source": [
    "for i, l in enumerate(faulty_case):\n",
    "    new_y[new_y==l] = i"
   ]
  },
  {
   "cell_type": "code",
   "execution_count": 45,
   "metadata": {},
   "outputs": [],
   "source": [
    "# one-hot-encoding\n",
    "new_y = to_categorical(new_y)"
   ]
  },
  {
   "cell_type": "code",
   "execution_count": 46,
   "metadata": {},
   "outputs": [],
   "source": [
    "new_X=new_x\n",
    "new_Y=new_y"
   ]
  },
  {
   "cell_type": "markdown",
   "metadata": {},
   "source": [
    "- 学習データとテストデータに分割する．"
   ]
  },
  {
   "cell_type": "code",
   "execution_count": 47,
   "metadata": {},
   "outputs": [],
   "source": [
    "x_train, x_test, y_train, y_test = train_test_split(new_X, new_Y,\n",
    "                                                    test_size=0.33,\n",
    "                                                    random_state=2019)"
   ]
  },
  {
   "cell_type": "code",
   "execution_count": 48,
   "metadata": {},
   "outputs": [
    {
     "name": "stdout",
     "output_type": "stream",
     "text": [
      "Train x : (246371, 26, 26, 3), y : (246371, 9)\n",
      "Test x: (121348, 26, 26, 3), y : (121348, 9)\n"
     ]
    }
   ],
   "source": [
    "print('Train x : {}, y : {}'.format(x_train.shape, y_train.shape))\n",
    "print('Test x: {}, y : {}'.format(x_test.shape, y_test.shape))"
   ]
  },
  {
   "cell_type": "markdown",
   "metadata": {},
   "source": [
    "- 学習データ246635枚，テストデータ121477枚．"
   ]
  },
  {
   "cell_type": "markdown",
   "metadata": {},
   "source": [
    "- モデルの定義を行う．"
   ]
  },
  {
   "cell_type": "code",
   "execution_count": 49,
   "metadata": {},
   "outputs": [],
   "source": [
    "input_shape = (26, 26, 3)\n",
    "input_tensor = Input(input_shape)\n",
    "\n",
    "def create_model():\n",
    "    global input_tensor\n",
    "    \n",
    "    conv = layers.Conv2D(32, (3,3), activation='relu', name='conv1')(input_tensor)\n",
    "    padding = layers.ZeroPadding2D(padding=(1, 1), name='padding1')(conv)\n",
    "    conv = layers.Conv2D(64, (3,3), activation='relu', name='conv2')(padding)\n",
    "    padding = layers.ZeroPadding2D(padding=(1, 1), name='padding2')(conv)\n",
    "    conv = layers.Conv2D(128, (3,3), activation='relu', name='conv3')(padding)\n",
    "    padding = layers.ZeroPadding2D(padding=(1, 1), name='padding3')(conv)\n",
    "    conv_out = layers.Conv2D(256, (3,3), activation='relu', name='conv4')(padding)\n",
    "\n",
    "    gap_layer = layers.GlobalAveragePooling2D(name='GAP')\n",
    "    output_layer = layers.Dense(9, activation='softmax', name='output')\n",
    "\n",
    "    aver_pool = gap_layer(conv_out)\n",
    "    output_tensor = output_layer(aver_pool)\n",
    "\n",
    "    model = models.Model(input_tensor, output_tensor)\n",
    "\n",
    "    model.compile(optimizer='Adam',\n",
    "             loss='categorical_crossentropy',\n",
    "             metrics=['accuracy'])\n",
    "\n",
    "    return model"
   ]
  },
  {
   "cell_type": "markdown",
   "metadata": {},
   "source": [
    "- 3-Fold Cross validationで分割して学習する．"
   ]
  },
  {
   "cell_type": "code",
   "execution_count": 50,
   "metadata": {
    "scrolled": true
   },
   "outputs": [
    {
     "name": "stdout",
     "output_type": "stream",
     "text": [
      "Epoch 1/30\n",
      "164247/164247 [==============================] - 29s 174us/step - loss: 0.9296 - accuracy: 0.6332\n",
      "Epoch 2/30\n",
      "164247/164247 [==============================] - 25s 151us/step - loss: 0.5953 - accuracy: 0.7725\n",
      "Epoch 3/30\n",
      "164247/164247 [==============================] - 25s 152us/step - loss: 0.5215 - accuracy: 0.8027\n",
      "Epoch 4/30\n",
      "164247/164247 [==============================] - 25s 152us/step - loss: 0.4671 - accuracy: 0.8278\n",
      "Epoch 5/30\n",
      "164247/164247 [==============================] - 25s 152us/step - loss: 0.4398 - accuracy: 0.8416\n",
      "Epoch 6/30\n",
      "164247/164247 [==============================] - 25s 152us/step - loss: 0.3806 - accuracy: 0.8617\n",
      "Epoch 7/30\n",
      "164247/164247 [==============================] - 25s 152us/step - loss: 0.3396 - accuracy: 0.8762\n",
      "Epoch 8/30\n",
      "164247/164247 [==============================] - 25s 152us/step - loss: 0.3180 - accuracy: 0.8842\n",
      "Epoch 9/30\n",
      "164247/164247 [==============================] - 25s 152us/step - loss: 0.2972 - accuracy: 0.8910\n",
      "Epoch 10/30\n",
      "164247/164247 [==============================] - 25s 152us/step - loss: 0.2853 - accuracy: 0.8964\n",
      "Epoch 11/30\n",
      "164247/164247 [==============================] - 25s 152us/step - loss: 0.2745 - accuracy: 0.9007\n",
      "Epoch 12/30\n",
      "164247/164247 [==============================] - 25s 153us/step - loss: 0.2659 - accuracy: 0.9039\n",
      "Epoch 13/30\n",
      "164247/164247 [==============================] - 25s 152us/step - loss: 0.2599 - accuracy: 0.9075\n",
      "Epoch 14/30\n",
      "164247/164247 [==============================] - 25s 152us/step - loss: 0.2477 - accuracy: 0.9107\n",
      "Epoch 15/30\n",
      "164247/164247 [==============================] - 25s 152us/step - loss: 0.2385 - accuracy: 0.9142\n",
      "Epoch 16/30\n",
      "164247/164247 [==============================] - 25s 153us/step - loss: 0.2372 - accuracy: 0.9152\n",
      "Epoch 17/30\n",
      "164247/164247 [==============================] - 25s 153us/step - loss: 0.2247 - accuracy: 0.9198\n",
      "Epoch 18/30\n",
      "164247/164247 [==============================] - 25s 152us/step - loss: 0.2199 - accuracy: 0.9215\n",
      "Epoch 19/30\n",
      "164247/164247 [==============================] - 25s 153us/step - loss: 0.2137 - accuracy: 0.9240\n",
      "Epoch 20/30\n",
      "164247/164247 [==============================] - 25s 152us/step - loss: 0.2101 - accuracy: 0.9248\n",
      "Epoch 21/30\n",
      "164247/164247 [==============================] - 25s 152us/step - loss: 0.2074 - accuracy: 0.9253\n",
      "Epoch 22/30\n",
      "164247/164247 [==============================] - 25s 153us/step - loss: 0.1967 - accuracy: 0.9296\n",
      "Epoch 23/30\n",
      "164247/164247 [==============================] - 25s 153us/step - loss: 0.1917 - accuracy: 0.9317\n",
      "Epoch 24/30\n",
      "164247/164247 [==============================] - 25s 153us/step - loss: 0.1865 - accuracy: 0.9333\n",
      "Epoch 25/30\n",
      "164247/164247 [==============================] - 25s 153us/step - loss: 0.1803 - accuracy: 0.9356\n",
      "Epoch 26/30\n",
      "164247/164247 [==============================] - 25s 153us/step - loss: 0.1777 - accuracy: 0.9366\n",
      "Epoch 27/30\n",
      "164247/164247 [==============================] - 25s 153us/step - loss: 0.1724 - accuracy: 0.9384\n",
      "Epoch 28/30\n",
      "164247/164247 [==============================] - 25s 152us/step - loss: 0.1626 - accuracy: 0.9418\n",
      "Epoch 29/30\n",
      "164247/164247 [==============================] - 25s 152us/step - loss: 0.1582 - accuracy: 0.9442\n",
      "Epoch 30/30\n",
      "164247/164247 [==============================] - 25s 153us/step - loss: 0.1575 - accuracy: 0.9434\n",
      "82124/82124 [==============================] - 5s 65us/step\n",
      "Epoch 1/30\n",
      "164247/164247 [==============================] - 25s 154us/step - loss: 0.8909 - accuracy: 0.6487\n",
      "Epoch 2/30\n",
      "164247/164247 [==============================] - 25s 153us/step - loss: 0.5461 - accuracy: 0.7909\n",
      "Epoch 3/30\n",
      "164247/164247 [==============================] - 25s 153us/step - loss: 0.4844 - accuracy: 0.8205\n",
      "Epoch 4/30\n",
      "164247/164247 [==============================] - 25s 153us/step - loss: 0.4390 - accuracy: 0.8411\n",
      "Epoch 5/30\n",
      "164247/164247 [==============================] - 25s 153us/step - loss: 0.3980 - accuracy: 0.8575\n",
      "Epoch 6/30\n",
      "164247/164247 [==============================] - 25s 153us/step - loss: 0.4090 - accuracy: 0.8565\n",
      "Epoch 7/30\n",
      "164247/164247 [==============================] - 25s 153us/step - loss: 0.3368 - accuracy: 0.8789\n",
      "Epoch 8/30\n",
      "164247/164247 [==============================] - 25s 152us/step - loss: 0.3123 - accuracy: 0.8878\n",
      "Epoch 9/30\n",
      "164247/164247 [==============================] - 25s 153us/step - loss: 0.2967 - accuracy: 0.8932\n",
      "Epoch 10/30\n",
      "164247/164247 [==============================] - 25s 152us/step - loss: 0.2836 - accuracy: 0.8980\n",
      "Epoch 11/30\n",
      "164247/164247 [==============================] - 25s 153us/step - loss: 0.2740 - accuracy: 0.9014\n",
      "Epoch 12/30\n",
      "164247/164247 [==============================] - 25s 152us/step - loss: 0.2633 - accuracy: 0.9048\n",
      "Epoch 13/30\n",
      "164247/164247 [==============================] - 25s 153us/step - loss: 0.2597 - accuracy: 0.9067\n",
      "Epoch 14/30\n",
      "164247/164247 [==============================] - 25s 153us/step - loss: 0.2471 - accuracy: 0.9119\n",
      "Epoch 15/30\n",
      "164247/164247 [==============================] - 25s 153us/step - loss: 0.2365 - accuracy: 0.9150\n",
      "Epoch 16/30\n",
      "164247/164247 [==============================] - 25s 153us/step - loss: 0.2313 - accuracy: 0.9159\n",
      "Epoch 17/30\n",
      "164247/164247 [==============================] - 25s 152us/step - loss: 0.2256 - accuracy: 0.9183\n",
      "Epoch 18/30\n",
      "164247/164247 [==============================] - 25s 153us/step - loss: 0.2149 - accuracy: 0.9224\n",
      "Epoch 19/30\n",
      "164247/164247 [==============================] - 25s 153us/step - loss: 0.2138 - accuracy: 0.9226\n",
      "Epoch 20/30\n",
      "164247/164247 [==============================] - 25s 153us/step - loss: 0.2044 - accuracy: 0.9268\n",
      "Epoch 21/30\n",
      "164247/164247 [==============================] - 25s 153us/step - loss: 0.2010 - accuracy: 0.9277\n",
      "Epoch 22/30\n",
      "164247/164247 [==============================] - 25s 153us/step - loss: 0.1921 - accuracy: 0.9308\n",
      "Epoch 23/30\n",
      "164247/164247 [==============================] - 25s 153us/step - loss: 0.1873 - accuracy: 0.9325\n",
      "Epoch 24/30\n",
      "164247/164247 [==============================] - 25s 153us/step - loss: 0.1800 - accuracy: 0.9345\n",
      "Epoch 25/30\n",
      "164247/164247 [==============================] - 25s 153us/step - loss: 0.1790 - accuracy: 0.9354\n",
      "Epoch 26/30\n",
      "164247/164247 [==============================] - 25s 153us/step - loss: 0.1724 - accuracy: 0.9379\n",
      "Epoch 27/30\n",
      "164247/164247 [==============================] - 25s 153us/step - loss: 0.1670 - accuracy: 0.9399\n",
      "Epoch 28/30\n",
      "164247/164247 [==============================] - 25s 153us/step - loss: 0.1650 - accuracy: 0.9407\n",
      "Epoch 29/30\n",
      "164247/164247 [==============================] - 25s 153us/step - loss: 0.1579 - accuracy: 0.9434\n",
      "Epoch 30/30\n",
      "164247/164247 [==============================] - 25s 153us/step - loss: 0.1528 - accuracy: 0.9451\n",
      "82124/82124 [==============================] - 5s 63us/step\n",
      "Epoch 1/30\n",
      "164248/164248 [==============================] - 26s 155us/step - loss: 0.8559 - accuracy: 0.6646\n",
      "Epoch 2/30\n",
      "164248/164248 [==============================] - 25s 151us/step - loss: 0.5765 - accuracy: 0.7777\n",
      "Epoch 3/30\n",
      "164248/164248 [==============================] - 25s 151us/step - loss: 0.5115 - accuracy: 0.8074\n",
      "Epoch 4/30\n",
      "164248/164248 [==============================] - 25s 151us/step - loss: 0.4794 - accuracy: 0.8220\n",
      "Epoch 5/30\n",
      "164248/164248 [==============================] - 25s 151us/step - loss: 0.4308 - accuracy: 0.8432\n",
      "Epoch 6/30\n",
      "164248/164248 [==============================] - 25s 152us/step - loss: 0.4064 - accuracy: 0.8545\n",
      "Epoch 7/30\n",
      "164248/164248 [==============================] - 25s 152us/step - loss: 0.3529 - accuracy: 0.8728\n",
      "Epoch 8/30\n",
      "164248/164248 [==============================] - 25s 152us/step - loss: 0.3344 - accuracy: 0.8794\n",
      "Epoch 9/30\n",
      "164248/164248 [==============================] - 25s 152us/step - loss: 0.3063 - accuracy: 0.8894\n",
      "Epoch 10/30\n",
      "164248/164248 [==============================] - 25s 151us/step - loss: 0.2897 - accuracy: 0.8956\n",
      "Epoch 11/30\n",
      "164248/164248 [==============================] - 25s 152us/step - loss: 0.2788 - accuracy: 0.8985\n",
      "Epoch 12/30\n",
      "164248/164248 [==============================] - 25s 152us/step - loss: 0.2652 - accuracy: 0.9047\n",
      "Epoch 13/30\n",
      "164248/164248 [==============================] - 25s 151us/step - loss: 0.2523 - accuracy: 0.9095\n",
      "Epoch 14/30\n"
     ]
    },
    {
     "name": "stdout",
     "output_type": "stream",
     "text": [
      "164248/164248 [==============================] - 25s 151us/step - loss: 0.2472 - accuracy: 0.9114\n",
      "Epoch 15/30\n",
      "164248/164248 [==============================] - 25s 151us/step - loss: 0.2421 - accuracy: 0.9124\n",
      "Epoch 16/30\n",
      "164248/164248 [==============================] - 25s 151us/step - loss: 0.2336 - accuracy: 0.9161\n",
      "Epoch 17/30\n",
      "164248/164248 [==============================] - 25s 151us/step - loss: 0.2264 - accuracy: 0.9188\n",
      "Epoch 18/30\n",
      "164248/164248 [==============================] - 25s 151us/step - loss: 0.2198 - accuracy: 0.9206\n",
      "Epoch 19/30\n",
      "164248/164248 [==============================] - 25s 151us/step - loss: 0.2097 - accuracy: 0.9249\n",
      "Epoch 20/30\n",
      "164248/164248 [==============================] - 25s 152us/step - loss: 0.2064 - accuracy: 0.9264\n",
      "Epoch 21/30\n",
      "164248/164248 [==============================] - 25s 152us/step - loss: 0.2042 - accuracy: 0.9272\n",
      "Epoch 22/30\n",
      "164248/164248 [==============================] - 25s 152us/step - loss: 0.1951 - accuracy: 0.9302\n",
      "Epoch 23/30\n",
      "164248/164248 [==============================] - 25s 152us/step - loss: 0.1902 - accuracy: 0.9316\n",
      "Epoch 24/30\n",
      "164248/164248 [==============================] - 25s 151us/step - loss: 0.1860 - accuracy: 0.9334\n",
      "Epoch 25/30\n",
      "164248/164248 [==============================] - 25s 151us/step - loss: 0.1770 - accuracy: 0.9361\n",
      "Epoch 26/30\n",
      "164248/164248 [==============================] - 25s 151us/step - loss: 0.1779 - accuracy: 0.9364\n",
      "Epoch 27/30\n",
      "164248/164248 [==============================] - 25s 152us/step - loss: 0.1697 - accuracy: 0.9399\n",
      "Epoch 28/30\n",
      "164248/164248 [==============================] - 24s 145us/step - loss: 0.1630 - accuracy: 0.9423\n",
      "Epoch 29/30\n",
      "164248/164248 [==============================] - 25s 152us/step - loss: 0.1571 - accuracy: 0.9443\n",
      "Epoch 30/30\n",
      "164248/164248 [==============================] - 25s 151us/step - loss: 0.1532 - accuracy: 0.9454\n",
      "82123/82123 [==============================] - 5s 64us/step\n",
      "Class Activation Map Cross validation score : 0.9418\n"
     ]
    }
   ],
   "source": [
    "model = KerasClassifier(build_fn=create_model, epochs=30, batch_size=512, verbose=1) \n",
    "# 3-Fold Crossvalidation\n",
    "kfold = KFold(n_splits=3, shuffle=True, random_state=2019) \n",
    "results = cross_val_score(model, x_train, y_train, cv=kfold)\n",
    "# Check 3-fold model's mean accuracy\n",
    "print('Class Activation Map Cross validation score : {:.4f}'.format(np.mean(results)))"
   ]
  },
  {
   "cell_type": "markdown",
   "metadata": {},
   "source": [
    "- Cross validiationによる精度は99.10%であった．"
   ]
  },
  {
   "cell_type": "markdown",
   "metadata": {},
   "source": [
    "- Cross validationなしで学習する．"
   ]
  },
  {
   "cell_type": "code",
   "execution_count": 51,
   "metadata": {
    "scrolled": true
   },
   "outputs": [
    {
     "name": "stdout",
     "output_type": "stream",
     "text": [
      "Train on 246371 samples, validate on 121348 samples\n",
      "Epoch 1/50\n",
      "246371/246371 [==============================] - 46s 185us/step - loss: 0.8226 - accuracy: 0.6768 - val_loss: 0.5635 - val_accuracy: 0.7772\n",
      "Epoch 2/50\n",
      "246371/246371 [==============================] - 45s 184us/step - loss: 0.5145 - accuracy: 0.8051 - val_loss: 0.5071 - val_accuracy: 0.8083\n",
      "Epoch 3/50\n",
      "246371/246371 [==============================] - 45s 184us/step - loss: 0.4416 - accuracy: 0.8392 - val_loss: 0.3929 - val_accuracy: 0.8572\n",
      "Epoch 4/50\n",
      "246371/246371 [==============================] - 45s 183us/step - loss: 0.3754 - accuracy: 0.8654 - val_loss: 0.3757 - val_accuracy: 0.8651\n",
      "Epoch 5/50\n",
      "246371/246371 [==============================] - 45s 184us/step - loss: 0.3290 - accuracy: 0.8813 - val_loss: 0.3456 - val_accuracy: 0.8791\n",
      "Epoch 6/50\n",
      "246371/246371 [==============================] - 45s 184us/step - loss: 0.3042 - accuracy: 0.8907 - val_loss: 0.2782 - val_accuracy: 0.9046\n",
      "Epoch 7/50\n",
      "246371/246371 [==============================] - 45s 184us/step - loss: 0.2835 - accuracy: 0.8985 - val_loss: 0.2705 - val_accuracy: 0.9055\n",
      "Epoch 8/50\n",
      "246371/246371 [==============================] - 45s 183us/step - loss: 0.2669 - accuracy: 0.9038 - val_loss: 0.2516 - val_accuracy: 0.9123\n",
      "Epoch 9/50\n",
      "246371/246371 [==============================] - 45s 184us/step - loss: 0.2541 - accuracy: 0.9088 - val_loss: 0.2538 - val_accuracy: 0.9078\n",
      "Epoch 10/50\n",
      "246371/246371 [==============================] - 45s 184us/step - loss: 0.2405 - accuracy: 0.9141 - val_loss: 0.2435 - val_accuracy: 0.9139\n",
      "Epoch 11/50\n",
      "246371/246371 [==============================] - 45s 183us/step - loss: 0.2305 - accuracy: 0.9177 - val_loss: 0.2173 - val_accuracy: 0.9252\n",
      "Epoch 12/50\n",
      "246371/246371 [==============================] - 45s 183us/step - loss: 0.2217 - accuracy: 0.9206 - val_loss: 0.2320 - val_accuracy: 0.9199\n",
      "Epoch 13/50\n",
      "246371/246371 [==============================] - 45s 183us/step - loss: 0.2140 - accuracy: 0.9236 - val_loss: 0.1966 - val_accuracy: 0.9326\n",
      "Epoch 14/50\n",
      "246371/246371 [==============================] - 45s 183us/step - loss: 0.1992 - accuracy: 0.9291 - val_loss: 0.2077 - val_accuracy: 0.9256\n",
      "Epoch 15/50\n",
      "246371/246371 [==============================] - 45s 183us/step - loss: 0.1948 - accuracy: 0.9300 - val_loss: 0.1838 - val_accuracy: 0.9349\n",
      "Epoch 16/50\n",
      "246371/246371 [==============================] - 45s 183us/step - loss: 0.1907 - accuracy: 0.9324 - val_loss: 0.1964 - val_accuracy: 0.9297\n",
      "Epoch 17/50\n",
      "246371/246371 [==============================] - 45s 183us/step - loss: 0.1829 - accuracy: 0.9348 - val_loss: 0.1892 - val_accuracy: 0.9357\n",
      "Epoch 18/50\n",
      "246371/246371 [==============================] - 45s 183us/step - loss: 0.1684 - accuracy: 0.9398 - val_loss: 0.1618 - val_accuracy: 0.9436\n",
      "Epoch 19/50\n",
      "246371/246371 [==============================] - 45s 183us/step - loss: 0.1639 - accuracy: 0.9415 - val_loss: 0.1612 - val_accuracy: 0.9426\n",
      "Epoch 20/50\n",
      "246371/246371 [==============================] - 45s 184us/step - loss: 0.1577 - accuracy: 0.9438 - val_loss: 0.1442 - val_accuracy: 0.9495\n",
      "Epoch 21/50\n",
      "246371/246371 [==============================] - 45s 183us/step - loss: 0.1512 - accuracy: 0.9457 - val_loss: 0.1476 - val_accuracy: 0.9486\n",
      "Epoch 22/50\n",
      "246371/246371 [==============================] - 45s 183us/step - loss: 0.1436 - accuracy: 0.9487 - val_loss: 0.1500 - val_accuracy: 0.9468\n",
      "Epoch 23/50\n",
      "246371/246371 [==============================] - 45s 183us/step - loss: 0.1381 - accuracy: 0.9506 - val_loss: 0.1564 - val_accuracy: 0.9467\n",
      "Epoch 24/50\n",
      "246371/246371 [==============================] - 45s 183us/step - loss: 0.1281 - accuracy: 0.9543 - val_loss: 0.1461 - val_accuracy: 0.9482\n",
      "Epoch 25/50\n",
      "246371/246371 [==============================] - 45s 183us/step - loss: 0.1241 - accuracy: 0.9556 - val_loss: 0.1386 - val_accuracy: 0.9513\n",
      "Epoch 26/50\n",
      "246371/246371 [==============================] - 45s 183us/step - loss: 0.1173 - accuracy: 0.9581 - val_loss: 0.1355 - val_accuracy: 0.9526\n",
      "Epoch 27/50\n",
      "246371/246371 [==============================] - 45s 183us/step - loss: 0.1134 - accuracy: 0.9598 - val_loss: 0.1386 - val_accuracy: 0.9486\n",
      "Epoch 28/50\n",
      "246371/246371 [==============================] - 45s 183us/step - loss: 0.1049 - accuracy: 0.9627 - val_loss: 0.1153 - val_accuracy: 0.9604\n",
      "Epoch 29/50\n",
      "246371/246371 [==============================] - 45s 183us/step - loss: 0.0984 - accuracy: 0.9651 - val_loss: 0.0959 - val_accuracy: 0.9665\n",
      "Epoch 30/50\n",
      "246371/246371 [==============================] - 45s 183us/step - loss: 0.0942 - accuracy: 0.9667 - val_loss: 0.0952 - val_accuracy: 0.9665\n",
      "Epoch 31/50\n",
      "246371/246371 [==============================] - 45s 183us/step - loss: 0.0894 - accuracy: 0.9690 - val_loss: 0.0949 - val_accuracy: 0.9669\n",
      "Epoch 32/50\n",
      "246371/246371 [==============================] - 45s 183us/step - loss: 0.0878 - accuracy: 0.9691 - val_loss: 0.0848 - val_accuracy: 0.9696\n",
      "Epoch 33/50\n",
      "246371/246371 [==============================] - 45s 183us/step - loss: 0.0792 - accuracy: 0.9727 - val_loss: 0.0918 - val_accuracy: 0.9669\n",
      "Epoch 34/50\n",
      "246371/246371 [==============================] - 45s 183us/step - loss: 0.0787 - accuracy: 0.9725 - val_loss: 0.0864 - val_accuracy: 0.9687\n",
      "Epoch 35/50\n",
      "246371/246371 [==============================] - 45s 183us/step - loss: 0.0719 - accuracy: 0.9754 - val_loss: 0.0797 - val_accuracy: 0.9723\n",
      "Epoch 36/50\n",
      "246371/246371 [==============================] - 45s 183us/step - loss: 0.0671 - accuracy: 0.9771 - val_loss: 0.0828 - val_accuracy: 0.9723\n",
      "Epoch 37/50\n",
      "246371/246371 [==============================] - 45s 183us/step - loss: 0.0624 - accuracy: 0.9789 - val_loss: 0.0974 - val_accuracy: 0.9662\n",
      "Epoch 38/50\n",
      "246371/246371 [==============================] - 45s 183us/step - loss: 0.0627 - accuracy: 0.9797 - val_loss: 0.0651 - val_accuracy: 0.9781\n",
      "Epoch 39/50\n",
      "246371/246371 [==============================] - 45s 183us/step - loss: 0.0566 - accuracy: 0.9811 - val_loss: 0.0676 - val_accuracy: 0.9766\n",
      "Epoch 40/50\n",
      "246371/246371 [==============================] - 45s 183us/step - loss: 0.0550 - accuracy: 0.9817 - val_loss: 0.0722 - val_accuracy: 0.9731\n",
      "Epoch 41/50\n",
      "246371/246371 [==============================] - 45s 183us/step - loss: 0.0511 - accuracy: 0.9835 - val_loss: 0.0660 - val_accuracy: 0.9766\n",
      "Epoch 42/50\n",
      "246371/246371 [==============================] - 45s 183us/step - loss: 0.0481 - accuracy: 0.9846 - val_loss: 0.0619 - val_accuracy: 0.9782\n",
      "Epoch 43/50\n",
      "246371/246371 [==============================] - 45s 183us/step - loss: 0.0440 - accuracy: 0.9860 - val_loss: 0.0746 - val_accuracy: 0.9743\n",
      "Epoch 44/50\n",
      "246371/246371 [==============================] - 45s 183us/step - loss: 0.0434 - accuracy: 0.9863 - val_loss: 0.1029 - val_accuracy: 0.9730\n",
      "Epoch 45/50\n",
      "246371/246371 [==============================] - 45s 183us/step - loss: 0.0419 - accuracy: 0.9870 - val_loss: 0.1648 - val_accuracy: 0.9445\n",
      "Epoch 46/50\n",
      "246371/246371 [==============================] - 45s 183us/step - loss: 0.0393 - accuracy: 0.9883 - val_loss: 0.0516 - val_accuracy: 0.9823\n",
      "Epoch 47/50\n",
      "246371/246371 [==============================] - 45s 183us/step - loss: 0.0377 - accuracy: 0.9884 - val_loss: 0.0412 - val_accuracy: 0.9863\n",
      "Epoch 48/50\n",
      "246371/246371 [==============================] - 45s 183us/step - loss: 0.0365 - accuracy: 0.9887 - val_loss: 0.0498 - val_accuracy: 0.9847\n",
      "Epoch 49/50\n",
      "246371/246371 [==============================] - 45s 183us/step - loss: 0.0329 - accuracy: 0.9902 - val_loss: 0.0392 - val_accuracy: 0.9884\n",
      "Epoch 50/50\n",
      "246371/246371 [==============================] - 45s 183us/step - loss: 0.0320 - accuracy: 0.9903 - val_loss: 0.0411 - val_accuracy: 0.9852\n"
     ]
    }
   ],
   "source": [
    "history = model.fit(x_train, y_train,\n",
    "         validation_data=[x_test, y_test],\n",
    "         epochs=50,\n",
    "         batch_size=512,\n",
    "         verbose=1\n",
    "         )"
   ]
  },
  {
   "cell_type": "markdown",
   "metadata": {},
   "source": [
    "- テストデータで評価．    "
   ]
  },
  {
   "cell_type": "code",
   "execution_count": 52,
   "metadata": {},
   "outputs": [
    {
     "name": "stdout",
     "output_type": "stream",
     "text": [
      "121348/121348 [==============================] - 8s 63us/step\n",
      "Testing Accuracy: 0.9852408170700073\n"
     ]
    }
   ],
   "source": [
    "score = model.score(x_test, y_test)\n",
    "#print('Test Loss:', score[0])\n",
    "#print('Test accuracy:', score[1])\n",
    "print('Testing Accuracy:',score)"
   ]
  },
  {
   "cell_type": "markdown",
   "metadata": {},
   "source": [
    "- モデルは以下．\n",
    "    - 入力層\n",
    "    - 畳み込み層3つ\n",
    "    - Flatten層（1次元に）\n",
    "    - 全結合層3つ"
   ]
  },
  {
   "cell_type": "code",
   "execution_count": 53,
   "metadata": {
    "scrolled": true
   },
   "outputs": [
    {
     "name": "stdout",
     "output_type": "stream",
     "text": [
      "Model: \"model_7\"\n",
      "_________________________________________________________________\n",
      "Layer (type)                 Output Shape              Param #   \n",
      "=================================================================\n",
      "input_3 (InputLayer)         (None, 26, 26, 3)         0         \n",
      "_________________________________________________________________\n",
      "conv1 (Conv2D)               (None, 24, 24, 32)        896       \n",
      "_________________________________________________________________\n",
      "padding1 (ZeroPadding2D)     (None, 26, 26, 32)        0         \n",
      "_________________________________________________________________\n",
      "conv2 (Conv2D)               (None, 24, 24, 64)        18496     \n",
      "_________________________________________________________________\n",
      "padding2 (ZeroPadding2D)     (None, 26, 26, 64)        0         \n",
      "_________________________________________________________________\n",
      "conv3 (Conv2D)               (None, 24, 24, 128)       73856     \n",
      "_________________________________________________________________\n",
      "padding3 (ZeroPadding2D)     (None, 26, 26, 128)       0         \n",
      "_________________________________________________________________\n",
      "conv4 (Conv2D)               (None, 24, 24, 256)       295168    \n",
      "_________________________________________________________________\n",
      "GAP (GlobalAveragePooling2D) (None, 256)               0         \n",
      "_________________________________________________________________\n",
      "output (Dense)               (None, 9)                 2313      \n",
      "=================================================================\n",
      "Total params: 390,729\n",
      "Trainable params: 390,729\n",
      "Non-trainable params: 0\n",
      "_________________________________________________________________\n"
     ]
    }
   ],
   "source": [
    "model.model.summary()"
   ]
  },
  {
   "cell_type": "markdown",
   "metadata": {},
   "source": [
    "- accuracyグラフ，lossグラフは以下．\n",
    "- 5epoch程度で落ち着いている．"
   ]
  },
  {
   "cell_type": "code",
   "execution_count": 54,
   "metadata": {},
   "outputs": [
    {
     "ename": "KeyError",
     "evalue": "'acc'",
     "output_type": "error",
     "traceback": [
      "\u001b[0;31m---------------------------------------------------------------------------\u001b[0m",
      "\u001b[0;31mKeyError\u001b[0m                                  Traceback (most recent call last)",
      "\u001b[0;32m<ipython-input-54-0226a873cc5b>\u001b[0m in \u001b[0;36m<module>\u001b[0;34m\u001b[0m\n\u001b[1;32m      1\u001b[0m \u001b[0;31m# accuracy plot\u001b[0m\u001b[0;34m\u001b[0m\u001b[0;34m\u001b[0m\u001b[0;34m\u001b[0m\u001b[0m\n\u001b[0;32m----> 2\u001b[0;31m \u001b[0mplt\u001b[0m\u001b[0;34m.\u001b[0m\u001b[0mplot\u001b[0m\u001b[0;34m(\u001b[0m\u001b[0mhistory\u001b[0m\u001b[0;34m.\u001b[0m\u001b[0mhistory\u001b[0m\u001b[0;34m[\u001b[0m\u001b[0;34m'acc'\u001b[0m\u001b[0;34m]\u001b[0m\u001b[0;34m)\u001b[0m\u001b[0;34m\u001b[0m\u001b[0;34m\u001b[0m\u001b[0m\n\u001b[0m\u001b[1;32m      3\u001b[0m \u001b[0mplt\u001b[0m\u001b[0;34m.\u001b[0m\u001b[0mplot\u001b[0m\u001b[0;34m(\u001b[0m\u001b[0mhistory\u001b[0m\u001b[0;34m.\u001b[0m\u001b[0mhistory\u001b[0m\u001b[0;34m[\u001b[0m\u001b[0;34m'val_acc'\u001b[0m\u001b[0;34m]\u001b[0m\u001b[0;34m)\u001b[0m\u001b[0;34m\u001b[0m\u001b[0;34m\u001b[0m\u001b[0m\n\u001b[1;32m      4\u001b[0m \u001b[0mplt\u001b[0m\u001b[0;34m.\u001b[0m\u001b[0mtitle\u001b[0m\u001b[0;34m(\u001b[0m\u001b[0;34m'model accuracy'\u001b[0m\u001b[0;34m)\u001b[0m\u001b[0;34m\u001b[0m\u001b[0;34m\u001b[0m\u001b[0m\n\u001b[1;32m      5\u001b[0m \u001b[0mplt\u001b[0m\u001b[0;34m.\u001b[0m\u001b[0mylabel\u001b[0m\u001b[0;34m(\u001b[0m\u001b[0;34m'accuracy'\u001b[0m\u001b[0;34m)\u001b[0m\u001b[0;34m\u001b[0m\u001b[0;34m\u001b[0m\u001b[0m\n",
      "\u001b[0;31mKeyError\u001b[0m: 'acc'"
     ]
    }
   ],
   "source": [
    "# accuracy plot \n",
    "plt.plot(history.history['acc'])\n",
    "plt.plot(history.history['val_acc'])\n",
    "plt.title('model accuracy')\n",
    "plt.ylabel('accuracy')\n",
    "plt.xlabel('epoch')\n",
    "plt.legend(['train', 'test'], loc='upper left')\n",
    "plt.show()\n",
    "\n",
    "# loss plot\n",
    "plt.plot(history.history['loss'])\n",
    "plt.plot(history.history['val_loss'])\n",
    "plt.title('model loss')\n",
    "plt.ylabel('loss')\n",
    "plt.xlabel('epoch')\n",
    "plt.legend(['train', 'test'], loc='upper left')\n",
    "plt.show()"
   ]
  },
  {
   "cell_type": "markdown",
   "metadata": {},
   "source": [
    "### クラス活性化マップ"
   ]
  },
  {
   "cell_type": "code",
   "execution_count": null,
   "metadata": {},
   "outputs": [],
   "source": [
    "#set target wafer number\n",
    "target_wafer_num = 2\n",
    "# predict \n",
    "prob = model.model.predict(x_test[target_wafer_num].reshape(1,26,26,3))"
   ]
  },
  {
   "cell_type": "code",
   "execution_count": null,
   "metadata": {},
   "outputs": [],
   "source": [
    "aver_output = model.model.layers[7]\n",
    "aver_model = models.Model(input_tensor, aver_output.output)\n",
    "cam_result = aver_model.predict(x_test[target_wafer_num].reshape(1, 26, 26, 3))"
   ]
  },
  {
   "cell_type": "code",
   "execution_count": null,
   "metadata": {},
   "outputs": [],
   "source": [
    "weight_result = model.model.layers[-1].get_weights()[0]"
   ]
  },
  {
   "cell_type": "code",
   "execution_count": null,
   "metadata": {},
   "outputs": [],
   "source": [
    "def make_cam(cam_result, weight_result): \n",
    "    cam_arr = np.zeros((1,24, 24))\n",
    "    for row in range(0,9):\n",
    "        cam = np.zeros((1, 24, 24))\n",
    "        for i, w in enumerate(weight_result[:, row]):\n",
    "            cam += (w*cam_result[0,:,:,i]).reshape(24,24)\n",
    "        cam = (cam - np.min(cam)) / (np.max(cam) - np.min(cam))\n",
    "        cam[mask_x == 0] = 0\n",
    "        cam_arr = np.concatenate((cam_arr, cam))\n",
    "    return cam_arr[1:]\n",
    "\n",
    "def display_activation(cam_arr, prob, wafer): \n",
    "    fig, ax = plt.subplots(9, 1, figsize=(50, 50))\n",
    "    count = 0\n",
    "    cam_arr[np.percentile(cam_arr, 0.8) > cam_arr] = 0\n",
    "    for row in range(0,9):\n",
    "        ax[row].imshow(np.argmax(wafer, axis=2))\n",
    "        ax[row].imshow(cam_arr[row],cmap='Reds', alpha=0.7)\n",
    "        ax[row].set_title('class : ' + faulty_case_dict[count]+', prob : {:.4f}'.format(prob[:, count][0]*100) + '%')\n",
    "        count += 1"
   ]
  },
  {
   "cell_type": "code",
   "execution_count": null,
   "metadata": {},
   "outputs": [],
   "source": [
    "faulty_case_dict[np.argmax(y_test[target_wafer_num])]"
   ]
  },
  {
   "cell_type": "code",
   "execution_count": null,
   "metadata": {},
   "outputs": [],
   "source": [
    "plt.imshow(np.argmax(x_test[target_wafer_num], axis=2))\n",
    "print('faulty case : {}'.format(faulty_case_dict[np.argmax(y_test[target_wafer_num])]))"
   ]
  },
  {
   "cell_type": "markdown",
   "metadata": {},
   "source": [
    "- 対象のウエハの画像と不良パターンの表示"
   ]
  },
  {
   "cell_type": "code",
   "execution_count": null,
   "metadata": {},
   "outputs": [],
   "source": [
    "cam_result.shape"
   ]
  },
  {
   "cell_type": "code",
   "execution_count": null,
   "metadata": {},
   "outputs": [],
   "source": [
    "cam_arr = make_cam(cam_result, weight_result)"
   ]
  },
  {
   "cell_type": "code",
   "execution_count": null,
   "metadata": {},
   "outputs": [],
   "source": [
    "prob.shape"
   ]
  },
  {
   "cell_type": "code",
   "execution_count": null,
   "metadata": {},
   "outputs": [],
   "source": [
    "display_activation(cam_arr, prob, x_test[target_wafer_num])"
   ]
  },
  {
   "cell_type": "markdown",
   "metadata": {},
   "source": [
    "- 活性化マップの表示\n",
    "- ドーナツでは円形状にヒートマップの赤い部分が点在している"
   ]
  },
  {
   "cell_type": "code",
   "execution_count": null,
   "metadata": {},
   "outputs": [],
   "source": []
  },
  {
   "cell_type": "markdown",
   "metadata": {},
   "source": [
    "### CNN"
   ]
  },
  {
   "cell_type": "code",
   "execution_count": null,
   "metadata": {},
   "outputs": [],
   "source": [
    "input_shape = (26, 26, 3)\n",
    "input_tensor = Input(input_shape)\n",
    "def create_model():\n",
    "\n",
    "\n",
    "    conv_1 = layers.Conv2D(16, (3,3), activation='relu', padding='same')(input_tensor)\n",
    "    conv_2 = layers.Conv2D(64, (3,3), activation='relu', padding='same')(conv_1)\n",
    "    conv_3 = layers.Conv2D(128, (3,3), activation='relu', padding='same')(conv_2)\n",
    "\n",
    "    flat = layers.Flatten()(conv_3)\n",
    "\n",
    "    dense_1 = layers.Dense(512, activation='relu')(flat)\n",
    "    dense_2 = layers.Dense(128, activation='relu')(dense_1)\n",
    "    output_tensor = layers.Dense(9, activation='softmax')(dense_2)\n",
    "\n",
    "    model = models.Model(input_tensor, output_tensor)\n",
    "    model.compile(optimizer='Adam',\n",
    "                 loss='categorical_crossentropy',\n",
    "                 metrics=['accuracy'])\n",
    "\n",
    "    return model"
   ]
  },
  {
   "cell_type": "markdown",
   "metadata": {},
   "source": [
    "- 3-Fold Cross validationで分割して学習する．"
   ]
  },
  {
   "cell_type": "code",
   "execution_count": null,
   "metadata": {
    "scrolled": true
   },
   "outputs": [],
   "source": [
    "model = KerasClassifier(build_fn=create_model, epochs=30, batch_size=1024, verbose=1) \n",
    "# 3-Fold Crossvalidation\n",
    "kfold = KFold(n_splits=3, shuffle=True, random_state=2019) \n",
    "results = cross_val_score(model, x_train, y_train, cv=kfold)\n",
    "# Check 3-fold model's mean accuracy\n",
    "print('Simple CNN Cross validation score : {:.4f}'.format(np.mean(results)))"
   ]
  },
  {
   "cell_type": "markdown",
   "metadata": {},
   "source": [
    "- Cross validiationによる精度は99.55%であった．"
   ]
  },
  {
   "cell_type": "markdown",
   "metadata": {},
   "source": [
    "- Cross validationなしで学習する．"
   ]
  },
  {
   "cell_type": "code",
   "execution_count": null,
   "metadata": {
    "scrolled": true
   },
   "outputs": [],
   "source": [
    "history = model.fit(x_train, y_train,\n",
    "         validation_data=[x_test, y_test],\n",
    "         epochs=epoch,\n",
    "         batch_size=batch_size,\n",
    "         verbose=1           \n",
    "         )"
   ]
  },
  {
   "cell_type": "markdown",
   "metadata": {},
   "source": [
    "- テストデータで評価．    "
   ]
  },
  {
   "cell_type": "code",
   "execution_count": null,
   "metadata": {},
   "outputs": [],
   "source": [
    "score = model.score(x_test, y_test)\n",
    "#print('Test Loss:', score[0])\n",
    "#print('Test accuracy:', score[1])\n",
    "print('Testing Accuracy:',score)"
   ]
  },
  {
   "cell_type": "markdown",
   "metadata": {},
   "source": [
    "- acuurayは99.70%であった．"
   ]
  },
  {
   "cell_type": "markdown",
   "metadata": {},
   "source": [
    "- モデルは以下．\n",
    "    - 入力層\n",
    "    - 畳み込み層3つ\n",
    "    - Flatten層（1次元に）\n",
    "    - 全結合層3つ"
   ]
  },
  {
   "cell_type": "code",
   "execution_count": null,
   "metadata": {
    "scrolled": true
   },
   "outputs": [],
   "source": [
    "model.model.summary()"
   ]
  },
  {
   "cell_type": "markdown",
   "metadata": {},
   "source": [
    "- accuracyグラフ，lossグラフは以下．\n",
    "- 5epoch程度で落ち着いている．"
   ]
  },
  {
   "cell_type": "code",
   "execution_count": null,
   "metadata": {},
   "outputs": [],
   "source": [
    "# accuracy plot \n",
    "plt.plot(history.history['acc'])\n",
    "plt.plot(history.history['val_acc'])\n",
    "plt.title('model accuracy')\n",
    "plt.ylabel('accuracy')\n",
    "plt.xlabel('epoch')\n",
    "plt.legend(['train', 'test'], loc='upper left')\n",
    "plt.show()\n",
    "\n",
    "# loss plot\n",
    "plt.plot(history.history['loss'])\n",
    "plt.plot(history.history['val_loss'])\n",
    "plt.title('model loss')\n",
    "plt.ylabel('loss')\n",
    "plt.xlabel('epoch')\n",
    "plt.legend(['train', 'test'], loc='upper left')\n",
    "plt.show()"
   ]
  },
  {
   "cell_type": "code",
   "execution_count": null,
   "metadata": {},
   "outputs": [],
   "source": [
    "#y_train_pred = np.argmax(model.predict(x_train))\n",
    "y_train_pred = model.predict(x_train)\n",
    "y_test_pred = model.predict(x_test)\n",
    "y_train_max = np.argmax(y_train, axis=1)\n",
    "y_test_max = np.argmax(y_test, axis=1)\n",
    "\n",
    "print(y_train_max[0])\n",
    "print(y_train_pred[0])\n",
    "\n",
    "train_acc2 = np.sum(y_train_max == y_train_pred, axis=0, dtype='float') / x_train.shape[0]\n",
    "test_acc2 = np.sum(y_test_max == y_test_pred, axis=0, dtype='float') / x_test.shape[0]\n",
    "print('Training acc: {}'.format(train_acc2*100))\n",
    "print('Testing acc: {}'.format(test_acc2*100))\n",
    "print(\"y_train_pred[:100]: \", y_train_pred[:100])\n",
    "print (\"y_train_max[:100]: \", y_train_max[:100])"
   ]
  },
  {
   "cell_type": "markdown",
   "metadata": {},
   "source": [
    "### 混同行列"
   ]
  },
  {
   "cell_type": "code",
   "execution_count": null,
   "metadata": {},
   "outputs": [],
   "source": [
    "import itertools\n",
    "from sklearn.metrics import confusion_matrix\n",
    "\n",
    "def plot_confusion_matrix(cm, normalize=False, title='Confusion matrix', cmap=plt.cm.Blues):\n",
    "    \"\"\"\n",
    "    This function prints and plots the confusion matrix.\n",
    "    Normalization can be applied by setting `normalize=True`.\n",
    "    \"\"\"\n",
    "    if normalize:\n",
    "        cm = cm.astype('float') / cm.sum(axis=1)[:, np.newaxis]\n",
    "        print(\"Normalized confusion matrix\")\n",
    "    else:\n",
    "        print('Confusion matrix, without normalization')\n",
    "\n",
    "    #print(cm)\n",
    "\n",
    "    plt.imshow(cm, interpolation='nearest', cmap=cmap)\n",
    "    plt.title(title)\n",
    "    plt.colorbar()\n",
    "\n",
    "    fmt = '.2f' if normalize else 'd'\n",
    "    thresh = cm.max() / 2.\n",
    "    for i, j in itertools.product(range(cm.shape[0]), range(cm.shape[1])):\n",
    "        plt.text(j, i, format(cm[i, j], fmt),\n",
    "                 horizontalalignment=\"center\",\n",
    "                 color=\"white\" if cm[i, j] > thresh else \"black\")\n",
    "\n",
    "    plt.tight_layout()\n",
    "    plt.ylabel('True label')\n",
    "    plt.xlabel('Predicted label')"
   ]
  },
  {
   "cell_type": "code",
   "execution_count": null,
   "metadata": {},
   "outputs": [],
   "source": [
    "# Compute confusion matrix\n",
    "cnf_matrix = confusion_matrix(y_test_max, y_test_pred)\n",
    "np.set_printoptions(precision=2)\n",
    "\n",
    "from matplotlib import gridspec\n",
    "fig = plt.figure(figsize=(8, 15)) \n",
    "gs = gridspec.GridSpec(2, 1, height_ratios=[1, 1]) \n",
    "\n",
    "## Plot non-normalized confusion matrix\n",
    "plt.subplot(gs[0])\n",
    "plot_confusion_matrix(cnf_matrix, title='Confusion matrix')\n",
    "\n",
    "# Plot normalized confusion matrix\n",
    "plt.subplot(gs[1])\n",
    "plot_confusion_matrix(cnf_matrix, normalize=True, title='Normalized confusion matrix')\n",
    "\n",
    "plt.show()"
   ]
  },
  {
   "cell_type": "markdown",
   "metadata": {},
   "source": [
    "### クラス活性化マップ"
   ]
  },
  {
   "cell_type": "code",
   "execution_count": null,
   "metadata": {},
   "outputs": [],
   "source": [
    "#set target wafer number\n",
    "target_wafer_num = 100000\n",
    "# predict \n",
    "prob = model.model.predict(x_test[target_wafer_num].reshape(1,26,26,3))"
   ]
  },
  {
   "cell_type": "code",
   "execution_count": null,
   "metadata": {},
   "outputs": [],
   "source": [
    "aver_output = model.model.layers[3]\n",
    "aver_model = models.Model(input_tensor, aver_output.output)\n",
    "cam_result = aver_model.predict(x_test[target_wafer_num].reshape(1, 26, 26, 3))"
   ]
  },
  {
   "cell_type": "code",
   "execution_count": null,
   "metadata": {},
   "outputs": [],
   "source": [
    "print(model.model.layers[3].name)"
   ]
  },
  {
   "cell_type": "code",
   "execution_count": null,
   "metadata": {},
   "outputs": [],
   "source": [
    "weight_result = model.model.layers[-1].get_weights()[0]"
   ]
  },
  {
   "cell_type": "code",
   "execution_count": null,
   "metadata": {},
   "outputs": [],
   "source": [
    "def make_cam(cam_result, weight_result): \n",
    "    cam_arr = np.zeros((1,26, 26))\n",
    "    for row in range(0,9):\n",
    "        cam = np.zeros((1, 26, 26))\n",
    "        for i, w in enumerate(weight_result[:, row]):\n",
    "            cam += (w*cam_result[0,:,:,i]).reshape(26,26)\n",
    "        cam = (cam - np.min(cam)) / (np.max(cam) - np.min(cam))\n",
    "        cam[mask_x == 0] = 0\n",
    "        cam_arr = np.concatenate((cam_arr, cam))\n",
    "    return cam_arr[1:]\n",
    "\n",
    "def display_activation(cam_arr, prob, wafer): \n",
    "    fig, ax = plt.subplots(9, 1, figsize=(50, 50))\n",
    "    count = 0\n",
    "    cam_arr[np.percentile(cam_arr, 0.8) > cam_arr] = 0\n",
    "    for row in range(0,9):\n",
    "        ax[row].imshow(np.argmax(wafer, axis=2))\n",
    "        ax[row].imshow(cam_arr[row],cmap='Reds', alpha=0.7)\n",
    "        ax[row].set_title('class : ' + faulty_case_dict[count]+', prob : {:.4f}'.format(prob[:, count][0]*100) + '%')\n",
    "        count += 1"
   ]
  },
  {
   "cell_type": "code",
   "execution_count": null,
   "metadata": {},
   "outputs": [],
   "source": [
    "faulty_case_dict[np.argmax(y_test[target_wafer_num])]"
   ]
  },
  {
   "cell_type": "code",
   "execution_count": null,
   "metadata": {},
   "outputs": [],
   "source": [
    "plt.imshow(np.argmax(x_test[target_wafer_num], axis=2))\n",
    "print('faulty case : {}'.format(faulty_case_dict[np.argmax(y_test[target_wafer_num])]))"
   ]
  },
  {
   "cell_type": "markdown",
   "metadata": {},
   "source": [
    "- 対象のウエハの画像と不良パターンの表示"
   ]
  },
  {
   "cell_type": "code",
   "execution_count": null,
   "metadata": {},
   "outputs": [],
   "source": [
    "cam_result.shape"
   ]
  },
  {
   "cell_type": "code",
   "execution_count": null,
   "metadata": {},
   "outputs": [],
   "source": [
    "mask_x = np.zeros((26, 26))\n",
    "dummy_x = cv2.resize(x[0], (26,26))\n",
    "mask_x[dummy_x == 1] = 1 \n",
    "mask_x[dummy_x == 2] = 1 \n",
    "mask_x = mask_x.reshape((1, 26,26))"
   ]
  },
  {
   "cell_type": "code",
   "execution_count": null,
   "metadata": {},
   "outputs": [],
   "source": [
    "cam_arr = make_cam(cam_result, weight_result)"
   ]
  },
  {
   "cell_type": "code",
   "execution_count": null,
   "metadata": {},
   "outputs": [],
   "source": [
    "prob.shape"
   ]
  },
  {
   "cell_type": "code",
   "execution_count": null,
   "metadata": {},
   "outputs": [],
   "source": [
    "display_activation(cam_arr, prob, x_test[target_wafer_num])"
   ]
  },
  {
   "cell_type": "markdown",
   "metadata": {},
   "source": [
    "- 活性化マップの表示\n",
    "- ドーナツでは円形状にヒートマップの赤い部分が点在している"
   ]
  },
  {
   "cell_type": "code",
   "execution_count": null,
   "metadata": {},
   "outputs": [],
   "source": []
  }
 ],
 "metadata": {
  "kernelspec": {
   "display_name": "Python 3 (Anaconda)",
   "language": "python",
   "name": "python3_anaconda"
  },
  "language_info": {
   "codemirror_mode": {
    "name": "ipython",
    "version": 3
   },
   "file_extension": ".py",
   "mimetype": "text/x-python",
   "name": "python",
   "nbconvert_exporter": "python",
   "pygments_lexer": "ipython3",
   "version": "3.7.6"
  }
 },
 "nbformat": 4,
 "nbformat_minor": 2
}
