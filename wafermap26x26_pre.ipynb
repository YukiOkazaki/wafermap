{
 "cells": [
  {
   "cell_type": "markdown",
   "metadata": {},
   "source": [
    "# 提案手法の実験用"
   ]
  },
  {
   "cell_type": "markdown",
   "metadata": {},
   "source": [
    "## 26x26のウエハに限定して機械学習させる\n",
    "- データオーギュメンテーション（鏡映，回転を追加）"
   ]
  },
  {
   "cell_type": "markdown",
   "metadata": {},
   "source": [
    "### import，入力データの読み込み"
   ]
  },
  {
   "cell_type": "code",
   "execution_count": 1,
   "metadata": {},
   "outputs": [
    {
     "name": "stdout",
     "output_type": "stream",
     "text": [
      "../input/LSWMD.pkl\n"
     ]
    }
   ],
   "source": [
    "# This Python 3 environment comes with many helpful analytics libraries installed\n",
    "# It is defined by the kaggle/python docker image: https://github.com/kaggle/docker-python\n",
    "# For example, here's several helpful packages to load in \n",
    "\n",
    "import numpy as np # linear algebra\n",
    "import pandas as pd # data processing, CSV file I/O (e.g. pd.read_csv)\n",
    "\n",
    "# Input data files are available in the \"../input/\" directory.\n",
    "# For example, running this (by clicking run or pressing Shift+Enter) will list all files under the input directory\n",
    "\n",
    "import os\n",
    "for dirname, _, filenames in os.walk('../input'):\n",
    "    for filename in filenames:\n",
    "        print(os.path.join(dirname, filename))\n",
    "\n",
    "# Any results you write to the current directory are saved as output."
   ]
  },
  {
   "cell_type": "code",
   "execution_count": 2,
   "metadata": {
    "scrolled": true
   },
   "outputs": [
    {
     "name": "stderr",
     "output_type": "stream",
     "text": [
      "Using TensorFlow backend.\n"
     ]
    },
    {
     "name": "stdout",
     "output_type": "stream",
     "text": [
      "['LSWMD.pkl']\n"
     ]
    }
   ],
   "source": [
    "import os\n",
    "from os.path import join\n",
    "os.environ[\"CUDA_VISIBLE_DEVICES\"] = \"0,1\"\n",
    "\n",
    "import numpy as np\n",
    "import pandas as pd\n",
    "import cv2\n",
    "\n",
    "from sklearn.model_selection import KFold \n",
    "from sklearn.model_selection import cross_val_score\n",
    "from sklearn.model_selection import train_test_split\n",
    "\n",
    "import tensorflow as tf\n",
    "import keras\n",
    "from keras import layers, Input, models\n",
    "from keras.utils import to_categorical\n",
    "from keras.wrappers.scikit_learn import KerasClassifier \n",
    "\n",
    "\n",
    "import matplotlib.pyplot as plt\n",
    "\n",
    "from keras.preprocessing import image\n",
    "from keras.preprocessing.image import ImageDataGenerator\n",
    "\n",
    "datapath = join('data', 'wafer')\n",
    "\n",
    "print(os.listdir(\"../input\"))\n",
    "import warnings\n",
    "warnings.filterwarnings(\"ignore\")"
   ]
  },
  {
   "cell_type": "markdown",
   "metadata": {},
   "source": [
    "### データについて"
   ]
  },
  {
   "cell_type": "code",
   "execution_count": 3,
   "metadata": {
    "scrolled": false
   },
   "outputs": [
    {
     "name": "stdout",
     "output_type": "stream",
     "text": [
      "<class 'pandas.core.frame.DataFrame'>\n",
      "RangeIndex: 811457 entries, 0 to 811456\n",
      "Data columns (total 6 columns):\n",
      " #   Column          Non-Null Count   Dtype  \n",
      "---  ------          --------------   -----  \n",
      " 0   waferMap        811457 non-null  object \n",
      " 1   dieSize         811457 non-null  float64\n",
      " 2   lotName         811457 non-null  object \n",
      " 3   waferIndex      811457 non-null  float64\n",
      " 4   trianTestLabel  811457 non-null  object \n",
      " 5   failureType     811457 non-null  object \n",
      "dtypes: float64(2), object(4)\n",
      "memory usage: 37.1+ MB\n"
     ]
    }
   ],
   "source": [
    "df=pd.read_pickle(\"../input/LSWMD.pkl\")\n",
    "df.info()"
   ]
  },
  {
   "cell_type": "markdown",
   "metadata": {},
   "source": [
    "- データセットは811,457枚のウエハマップから構成されている．"
   ]
  },
  {
   "cell_type": "markdown",
   "metadata": {},
   "source": [
    "- ウエハマップのそれぞれの列から得られる情報はないが，インスタンスごとにダイサイズが異なることがわかる．\n",
    "- ウエハマップのダイサイズをチェックするための変数`WaferMapDim`を定義する．（縦，横の値）"
   ]
  },
  {
   "cell_type": "code",
   "execution_count": 4,
   "metadata": {},
   "outputs": [],
   "source": [
    "df = df.drop(['waferIndex'], axis = 1)"
   ]
  },
  {
   "cell_type": "code",
   "execution_count": 5,
   "metadata": {},
   "outputs": [
    {
     "data": {
      "text/html": [
       "<div>\n",
       "<style scoped>\n",
       "    .dataframe tbody tr th:only-of-type {\n",
       "        vertical-align: middle;\n",
       "    }\n",
       "\n",
       "    .dataframe tbody tr th {\n",
       "        vertical-align: top;\n",
       "    }\n",
       "\n",
       "    .dataframe thead th {\n",
       "        text-align: right;\n",
       "    }\n",
       "</style>\n",
       "<table border=\"1\" class=\"dataframe\">\n",
       "  <thead>\n",
       "    <tr style=\"text-align: right;\">\n",
       "      <th></th>\n",
       "      <th>waferMap</th>\n",
       "      <th>dieSize</th>\n",
       "      <th>lotName</th>\n",
       "      <th>trianTestLabel</th>\n",
       "      <th>failureType</th>\n",
       "      <th>waferMapDim</th>\n",
       "    </tr>\n",
       "  </thead>\n",
       "  <tbody>\n",
       "    <tr>\n",
       "      <th>45615</th>\n",
       "      <td>[[0, 0, 0, 0, 0, 0, 0, 0, 0, 0, 0, 0, 1, 1, 1,...</td>\n",
       "      <td>939.0</td>\n",
       "      <td>lot3910</td>\n",
       "      <td>[]</td>\n",
       "      <td>[]</td>\n",
       "      <td>(39, 31)</td>\n",
       "    </tr>\n",
       "    <tr>\n",
       "      <th>143929</th>\n",
       "      <td>[[0, 0, 0, 0, 0, 0, 0, 0, 0, 0, 0, 0, 0, 0, 0,...</td>\n",
       "      <td>4987.0</td>\n",
       "      <td>lot9290</td>\n",
       "      <td>[[Training]]</td>\n",
       "      <td>[[Center]]</td>\n",
       "      <td>(79, 80)</td>\n",
       "    </tr>\n",
       "    <tr>\n",
       "      <th>201740</th>\n",
       "      <td>[[0, 0, 0, 0, 0, 0, 0, 0, 0, 0, 0, 0, 0, 0, 0,...</td>\n",
       "      <td>1485.0</td>\n",
       "      <td>lot12864</td>\n",
       "      <td>[]</td>\n",
       "      <td>[]</td>\n",
       "      <td>(39, 50)</td>\n",
       "    </tr>\n",
       "    <tr>\n",
       "      <th>363442</th>\n",
       "      <td>[[0, 0, 0, 0, 0, 0, 0, 0, 0, 0, 0, 0, 0, 0, 0,...</td>\n",
       "      <td>1080.0</td>\n",
       "      <td>lot21753</td>\n",
       "      <td>[]</td>\n",
       "      <td>[]</td>\n",
       "      <td>(35, 40)</td>\n",
       "    </tr>\n",
       "    <tr>\n",
       "      <th>185466</th>\n",
       "      <td>[[0, 0, 0, 0, 0, 0, 0, 0, 0, 0, 0, 0, 0, 0, 0,...</td>\n",
       "      <td>3947.0</td>\n",
       "      <td>lot11790</td>\n",
       "      <td>[]</td>\n",
       "      <td>[]</td>\n",
       "      <td>(66, 77)</td>\n",
       "    </tr>\n",
       "  </tbody>\n",
       "</table>\n",
       "</div>"
      ],
      "text/plain": [
       "                                                 waferMap  dieSize   lotName  \\\n",
       "45615   [[0, 0, 0, 0, 0, 0, 0, 0, 0, 0, 0, 0, 1, 1, 1,...    939.0   lot3910   \n",
       "143929  [[0, 0, 0, 0, 0, 0, 0, 0, 0, 0, 0, 0, 0, 0, 0,...   4987.0   lot9290   \n",
       "201740  [[0, 0, 0, 0, 0, 0, 0, 0, 0, 0, 0, 0, 0, 0, 0,...   1485.0  lot12864   \n",
       "363442  [[0, 0, 0, 0, 0, 0, 0, 0, 0, 0, 0, 0, 0, 0, 0,...   1080.0  lot21753   \n",
       "185466  [[0, 0, 0, 0, 0, 0, 0, 0, 0, 0, 0, 0, 0, 0, 0,...   3947.0  lot11790   \n",
       "\n",
       "       trianTestLabel failureType waferMapDim  \n",
       "45615              []          []    (39, 31)  \n",
       "143929   [[Training]]  [[Center]]    (79, 80)  \n",
       "201740             []          []    (39, 50)  \n",
       "363442             []          []    (35, 40)  \n",
       "185466             []          []    (66, 77)  "
      ]
     },
     "execution_count": 5,
     "metadata": {},
     "output_type": "execute_result"
    }
   ],
   "source": [
    "def find_dim(x):\n",
    "    dim0=np.size(x,axis=0)\n",
    "    dim1=np.size(x,axis=1)\n",
    "    return dim0,dim1\n",
    "df['waferMapDim']=df.waferMap.apply(find_dim)\n",
    "df.sample(5)"
   ]
  },
  {
   "cell_type": "markdown",
   "metadata": {},
   "source": [
    "- 不良パターンと学習orテストラベルを数値で表す．"
   ]
  },
  {
   "cell_type": "code",
   "execution_count": 6,
   "metadata": {},
   "outputs": [],
   "source": [
    "df['failureNum']=df.failureType\n",
    "df['trainTestNum']=df.trianTestLabel\n",
    "mapping_type={'Center':0,'Donut':1,'Edge-Loc':2,'Edge-Ring':3,'Loc':4,'Random':5,'Scratch':6,'Near-full':7,'none':8}\n",
    "mapping_traintest={'Training':0,'Test':1}\n",
    "df=df.replace({'failureNum':mapping_type, 'trainTestNum':mapping_traintest})"
   ]
  },
  {
   "cell_type": "code",
   "execution_count": 7,
   "metadata": {},
   "outputs": [
    {
     "data": {
      "text/plain": [
       "811457"
      ]
     },
     "execution_count": 7,
     "metadata": {},
     "output_type": "execute_result"
    }
   ],
   "source": [
    "tol_wafers = df.shape[0]\n",
    "tol_wafers"
   ]
  },
  {
   "cell_type": "code",
   "execution_count": 8,
   "metadata": {},
   "outputs": [
    {
     "data": {
      "text/plain": [
       "(172950, 25519, 147431)"
      ]
     },
     "execution_count": 8,
     "metadata": {},
     "output_type": "execute_result"
    }
   ],
   "source": [
    "df_withlabel = df[(df['failureNum']>=0) & (df['failureNum']<=8)]\n",
    "df_withlabel =df_withlabel.reset_index()\n",
    "df_withpattern = df[(df['failureNum']>=0) & (df['failureNum']<=7)]\n",
    "df_withpattern = df_withpattern.reset_index()\n",
    "df_nonpattern = df[(df['failureNum']==8)]\n",
    "df_withlabel.shape[0], df_withpattern.shape[0], df_nonpattern.shape[0]"
   ]
  },
  {
   "cell_type": "markdown",
   "metadata": {},
   "source": [
    "### 26x26のデータに対して処理"
   ]
  },
  {
   "cell_type": "code",
   "execution_count": 9,
   "metadata": {},
   "outputs": [],
   "source": [
    "sub_df = df.loc[df['waferMapDim'] == (26, 26)]\n",
    "sub_wafer = sub_df['waferMap'].values\n",
    "\n",
    "sw = np.ones((1, 26, 26))\n",
    "label = list()\n",
    "\n",
    "for i in range(len(sub_df)):\n",
    "    # skip null label\n",
    "    if len(sub_df.iloc[i,:]['failureType']) == 0:\n",
    "        continue\n",
    "    sw = np.concatenate((sw, sub_df.iloc[i,:]['waferMap'].reshape(1, 26, 26)))\n",
    "    label.append(sub_df.iloc[i,:]['failureType'][0][0])"
   ]
  },
  {
   "cell_type": "code",
   "execution_count": 10,
   "metadata": {},
   "outputs": [],
   "source": [
    "x = sw[1:]\n",
    "y = np.array(label).reshape((-1,1))"
   ]
  },
  {
   "cell_type": "code",
   "execution_count": 11,
   "metadata": {},
   "outputs": [],
   "source": [
    "mask_x = np.zeros((24, 24))\n",
    "dummy_x = cv2.resize(x[0], (24,24))\n",
    "mask_x[dummy_x == 1] = 1 \n",
    "mask_x[dummy_x == 2] = 1 \n",
    "mask_x = mask_x.reshape((1, 24,24))"
   ]
  },
  {
   "cell_type": "code",
   "execution_count": 12,
   "metadata": {},
   "outputs": [
    {
     "name": "stdout",
     "output_type": "stream",
     "text": [
      "x shape : (14366, 26, 26), y shape : (14366, 1)\n"
     ]
    }
   ],
   "source": [
    "print('x shape : {}, y shape : {}'.format(x.shape, y.shape))"
   ]
  },
  {
   "cell_type": "markdown",
   "metadata": {},
   "source": [
    "- 26x26のウエハが14366枚抽出できた．"
   ]
  },
  {
   "cell_type": "markdown",
   "metadata": {},
   "source": [
    "- 最初のデータを可視化してみる．\n",
    "- その前に，26x26のデータでおかしなものを表示"
   ]
  },
  {
   "cell_type": "code",
   "execution_count": 13,
   "metadata": {},
   "outputs": [
    {
     "name": "stdout",
     "output_type": "stream",
     "text": [
      "6267 is error\n",
      "6268 is error\n",
      "6269 is error\n",
      "6270 is error\n",
      "6271 is error\n",
      "6272 is error\n",
      "6273 is error\n",
      "6274 is error\n",
      "6275 is error\n",
      "6276 is error\n",
      "6277 is error\n",
      "6278 is error\n",
      "6279 is error\n",
      "6280 is error\n",
      "6281 is error\n",
      "6282 is error\n"
     ]
    }
   ],
   "source": [
    "for i in range(len(x)):\n",
    "    error = np.where((x[0] != x[i]) & ((x[0] == 0) | (x[i] == 0)))\n",
    "    if len(error[0]) > 0:\n",
    "        print(str(i) + \" is error\")\n",
    "        #print(error)"
   ]
  },
  {
   "cell_type": "code",
   "execution_count": 14,
   "metadata": {},
   "outputs": [
    {
     "data": {
      "image/png": "[encoded data removed]",
      "text/plain": [
       "<Figure size 432x288 with 1 Axes>"
      ]
     },
     "metadata": {
      "needs_background": "light"
     },
     "output_type": "display_data"
    },
    {
     "name": "stdout",
     "output_type": "stream",
     "text": [
      "Faulty case : ['none'] \n"
     ]
    }
   ],
   "source": [
    "# plot 1st data\n",
    "plt.imshow(x[0])\n",
    "plt.show()\n",
    "\n",
    "# check faulty case\n",
    "print('Faulty case : {} '.format(y[0]))"
   ]
  },
  {
   "cell_type": "markdown",
   "metadata": {},
   "source": [
    "- おかしなウエハは除去する"
   ]
  },
  {
   "cell_type": "code",
   "execution_count": 15,
   "metadata": {},
   "outputs": [
    {
     "name": "stdout",
     "output_type": "stream",
     "text": [
      "(14350, 26, 26)\n",
      "(14350, 1)\n"
     ]
    }
   ],
   "source": [
    "error_list = []\n",
    "for i in range(len(x)):\n",
    "    error = np.where((x[0] != x[i]) & ((x[0] == 0) | (x[i] == 0)))\n",
    "    if len(error[0]) > 0:\n",
    "        error_list.append(i)\n",
    "x = np.delete(x, error_list, 0)\n",
    "y = np.delete(y, error_list, 0)\n",
    "print(x.shape)\n",
    "print(y.shape)"
   ]
  },
  {
   "cell_type": "markdown",
   "metadata": {},
   "source": [
    "- 形が異なるウエハを削除したところ，14350枚となった．"
   ]
  },
  {
   "cell_type": "code",
   "execution_count": 16,
   "metadata": {},
   "outputs": [
    {
     "data": {
      "text/plain": [
       "(14350, 26, 26, 1)"
      ]
     },
     "execution_count": 16,
     "metadata": {},
     "output_type": "execute_result"
    }
   ],
   "source": [
    "x = x.reshape((-1, 26, 26, 1))\n",
    "x.shape"
   ]
  },
  {
   "cell_type": "code",
   "execution_count": 17,
   "metadata": {},
   "outputs": [
    {
     "name": "stdout",
     "output_type": "stream",
     "text": [
      "Faulty case list : ['Center' 'Donut' 'Edge-Loc' 'Edge-Ring' 'Loc' 'Near-full' 'Random'\n",
      " 'Scratch' 'none']\n"
     ]
    }
   ],
   "source": [
    "faulty_case = np.unique(y)\n",
    "print('Faulty case list : {}'.format(faulty_case))"
   ]
  },
  {
   "cell_type": "code",
   "execution_count": 18,
   "metadata": {},
   "outputs": [],
   "source": [
    "faulty_case_dict = dict()"
   ]
  },
  {
   "cell_type": "code",
   "execution_count": 19,
   "metadata": {},
   "outputs": [
    {
     "name": "stdout",
     "output_type": "stream",
     "text": [
      "Center : 90\n",
      "Donut : 1\n",
      "Edge-Loc : 289\n",
      "Edge-Ring : 23\n",
      "Loc : 297\n",
      "Near-full : 16\n",
      "Random : 74\n",
      "Scratch : 71\n",
      "none : 13489\n"
     ]
    }
   ],
   "source": [
    "for i, f in enumerate(faulty_case) :\n",
    "    print('{} : {}'.format(f, len(y[y==f])))\n",
    "    faulty_case_dict[i] = f"
   ]
  },
  {
   "cell_type": "markdown",
   "metadata": {},
   "source": [
    "- 14366枚の26x26ウエハの不良パターンは上記のようになっている．"
   ]
  },
  {
   "cell_type": "code",
   "execution_count": 20,
   "metadata": {},
   "outputs": [],
   "source": [
    "new_x = np.zeros((len(x), 26, 26, 3))\n",
    "\n",
    "for w in range(len(x)):\n",
    "    for i in range(26):\n",
    "        for j in range(26):\n",
    "            new_x[w, i, j, int(x[w, i, j])] = 1"
   ]
  },
  {
   "cell_type": "code",
   "execution_count": 21,
   "metadata": {},
   "outputs": [
    {
     "data": {
      "text/plain": [
       "(14350, 26, 26, 3)"
      ]
     },
     "execution_count": 21,
     "metadata": {},
     "output_type": "execute_result"
    }
   ],
   "source": [
    "new_x.shape"
   ]
  },
  {
   "cell_type": "markdown",
   "metadata": {},
   "source": [
    "- new_xを(14366, 26, 26, 3)とし，最後の次元にはウエハの値(0, 1, 2)がそれぞれの値毎にベクトルとしてまとめられている．\n",
    "- ウエハデータの各ピクセルは，0:ウエハなし，1:正常，2:不良を表す．"
   ]
  },
  {
   "cell_type": "markdown",
   "metadata": {},
   "source": [
    "### オートエンコーダで学習"
   ]
  },
  {
   "cell_type": "markdown",
   "metadata": {},
   "source": [
    "#### エンコーダとデコーダのモデルを学習"
   ]
  },
  {
   "cell_type": "markdown",
   "metadata": {},
   "source": [
    "- モデルの定義をする．"
   ]
  },
  {
   "cell_type": "code",
   "execution_count": 22,
   "metadata": {},
   "outputs": [],
   "source": [
    "# Encoder\n",
    "input_shape = (26, 26, 3)\n",
    "input_tensor = Input(input_shape)\n",
    "encode = layers.Conv2D(64, (3,3), padding='same', activation='relu')(input_tensor)\n",
    "\n",
    "latent_vector = layers.MaxPool2D()(encode)\n",
    "\n",
    "# Decoder\n",
    "decode_layer_1 = layers.Conv2DTranspose(64, (3,3), padding='same', activation='relu')\n",
    "decode_layer_2 = layers.UpSampling2D()\n",
    "output_tensor = layers.Conv2DTranspose(3, (3,3), padding='same', activation='sigmoid')\n",
    "\n",
    "# connect decoder layers\n",
    "decode = decode_layer_1(latent_vector)\n",
    "decode = decode_layer_2(decode)\n",
    "\n",
    "ae = models.Model(input_tensor, output_tensor(decode))\n",
    "ae.compile(optimizer = 'Adam',\n",
    "              loss = 'mse',\n",
    "             )"
   ]
  },
  {
   "cell_type": "code",
   "execution_count": 23,
   "metadata": {},
   "outputs": [
    {
     "name": "stdout",
     "output_type": "stream",
     "text": [
      "Model: \"model_1\"\n",
      "_________________________________________________________________\n",
      "Layer (type)                 Output Shape              Param #   \n",
      "=================================================================\n",
      "input_1 (InputLayer)         (None, 26, 26, 3)         0         \n",
      "_________________________________________________________________\n",
      "conv2d_1 (Conv2D)            (None, 26, 26, 64)        1792      \n",
      "_________________________________________________________________\n",
      "max_pooling2d_1 (MaxPooling2 (None, 13, 13, 64)        0         \n",
      "_________________________________________________________________\n",
      "conv2d_transpose_1 (Conv2DTr (None, 13, 13, 64)        36928     \n",
      "_________________________________________________________________\n",
      "up_sampling2d_1 (UpSampling2 (None, 26, 26, 64)        0         \n",
      "_________________________________________________________________\n",
      "conv2d_transpose_2 (Conv2DTr (None, 26, 26, 3)         1731      \n",
      "=================================================================\n",
      "Total params: 40,451\n",
      "Trainable params: 40,451\n",
      "Non-trainable params: 0\n",
      "_________________________________________________________________\n"
     ]
    }
   ],
   "source": [
    "ae.summary()"
   ]
  },
  {
   "cell_type": "markdown",
   "metadata": {},
   "source": [
    "- 層は\n",
    "    - 入力層\n",
    "    - 畳み込み層\n",
    "    - プーリング層\n",
    "    - 転置畳み込み層\n",
    "    - アップサンプリング層"
   ]
  },
  {
   "cell_type": "code",
   "execution_count": 24,
   "metadata": {},
   "outputs": [],
   "source": [
    "epoch=30\n",
    "batch_size=1024"
   ]
  },
  {
   "cell_type": "markdown",
   "metadata": {},
   "source": [
    "- 学習を開始する．\n",
    "- `new_x`を`new_x`にエンコードしデコードする．"
   ]
  },
  {
   "cell_type": "code",
   "execution_count": 25,
   "metadata": {
    "scrolled": true
   },
   "outputs": [
    {
     "name": "stdout",
     "output_type": "stream",
     "text": [
      "Epoch 1/30\n",
      "14350/14350 [==============================] - 2s 127us/step - loss: 0.1662\n",
      "Epoch 2/30\n",
      "14350/14350 [==============================] - 1s 41us/step - loss: 0.0972\n",
      "Epoch 3/30\n",
      "14350/14350 [==============================] - 1s 44us/step - loss: 0.0847\n",
      "Epoch 4/30\n",
      "14350/14350 [==============================] - 1s 42us/step - loss: 0.0746\n",
      "Epoch 5/30\n",
      "14350/14350 [==============================] - 1s 43us/step - loss: 0.0656\n",
      "Epoch 6/30\n",
      "14350/14350 [==============================] - 1s 44us/step - loss: 0.0587\n",
      "Epoch 7/30\n",
      "14350/14350 [==============================] - 1s 44us/step - loss: 0.0529\n",
      "Epoch 8/30\n",
      "14350/14350 [==============================] - 1s 43us/step - loss: 0.0477\n",
      "Epoch 9/30\n",
      "14350/14350 [==============================] - 1s 43us/step - loss: 0.0426\n",
      "Epoch 10/30\n",
      "14350/14350 [==============================] - 1s 43us/step - loss: 0.0377\n",
      "Epoch 11/30\n",
      "14350/14350 [==============================] - 1s 44us/step - loss: 0.0331\n",
      "Epoch 12/30\n",
      "14350/14350 [==============================] - 1s 44us/step - loss: 0.0291\n",
      "Epoch 13/30\n",
      "14350/14350 [==============================] - 1s 44us/step - loss: 0.0259\n",
      "Epoch 14/30\n",
      "14350/14350 [==============================] - 1s 43us/step - loss: 0.0234\n",
      "Epoch 15/30\n",
      "14350/14350 [==============================] - 1s 43us/step - loss: 0.0213\n",
      "Epoch 16/30\n",
      "14350/14350 [==============================] - 1s 43us/step - loss: 0.0196\n",
      "Epoch 17/30\n",
      "14350/14350 [==============================] - 1s 43us/step - loss: 0.0182\n",
      "Epoch 18/30\n",
      "14350/14350 [==============================] - 1s 44us/step - loss: 0.0169\n",
      "Epoch 19/30\n",
      "14350/14350 [==============================] - 1s 43us/step - loss: 0.0158\n",
      "Epoch 20/30\n",
      "14350/14350 [==============================] - 1s 43us/step - loss: 0.0148\n",
      "Epoch 21/30\n",
      "14350/14350 [==============================] - 1s 43us/step - loss: 0.0139\n",
      "Epoch 22/30\n",
      "14350/14350 [==============================] - 1s 43us/step - loss: 0.0130\n",
      "Epoch 23/30\n",
      "14350/14350 [==============================] - 1s 44us/step - loss: 0.0123\n",
      "Epoch 24/30\n",
      "14350/14350 [==============================] - 1s 43us/step - loss: 0.0116\n",
      "Epoch 25/30\n",
      "14350/14350 [==============================] - 1s 43us/step - loss: 0.0110\n",
      "Epoch 26/30\n",
      "14350/14350 [==============================] - 1s 43us/step - loss: 0.0105\n",
      "Epoch 27/30\n",
      "14350/14350 [==============================] - 1s 43us/step - loss: 0.0099\n",
      "Epoch 28/30\n",
      "14350/14350 [==============================] - 1s 43us/step - loss: 0.0094\n",
      "Epoch 29/30\n",
      "14350/14350 [==============================] - 1s 43us/step - loss: 0.0090\n",
      "Epoch 30/30\n",
      "14350/14350 [==============================] - 1s 43us/step - loss: 0.0086\n"
     ]
    },
    {
     "data": {
      "text/plain": [
       "<keras.callbacks.callbacks.History at 0x7fbbbaf889d0>"
      ]
     },
     "execution_count": 25,
     "metadata": {},
     "output_type": "execute_result"
    }
   ],
   "source": [
    "# start train\n",
    "ae.fit(new_x, new_x,\n",
    "       batch_size=batch_size,\n",
    "       epochs=epoch,\n",
    "       verbose=1)"
   ]
  },
  {
   "cell_type": "markdown",
   "metadata": {},
   "source": [
    "- エンコーダだけのモデルを定義する．"
   ]
  },
  {
   "cell_type": "code",
   "execution_count": 26,
   "metadata": {},
   "outputs": [],
   "source": [
    "encoder = models.Model(input_tensor, latent_vector)"
   ]
  },
  {
   "cell_type": "markdown",
   "metadata": {},
   "source": [
    "- デコーダだけのモデルを定義する．"
   ]
  },
  {
   "cell_type": "code",
   "execution_count": 27,
   "metadata": {},
   "outputs": [],
   "source": [
    "decoder_input = Input((13, 13, 64))\n",
    "decode = decode_layer_1(decoder_input)\n",
    "decode = decode_layer_2(decode)\n",
    "\n",
    "decoder = models.Model(decoder_input, output_tensor(decode))"
   ]
  },
  {
   "cell_type": "markdown",
   "metadata": {},
   "source": [
    "- `encoder`を使って元のウエハ画像をエンコードする．"
   ]
  },
  {
   "cell_type": "code",
   "execution_count": 28,
   "metadata": {},
   "outputs": [],
   "source": [
    "# Encode original faulty wafer\n",
    "encoded_x = encoder.predict(new_x)"
   ]
  },
  {
   "cell_type": "markdown",
   "metadata": {},
   "source": [
    "- エンコードされた潜伏的な不良ウエハにノイズを負荷する．"
   ]
  },
  {
   "cell_type": "code",
   "execution_count": 29,
   "metadata": {},
   "outputs": [],
   "source": [
    "# Add noise to encoded latent faulty wafers vector.\n",
    "noised_encoded_x = encoded_x + np.random.normal(loc=0, scale=0.1, size = (len(encoded_x), 13, 13, 64))"
   ]
  },
  {
   "cell_type": "markdown",
   "metadata": {},
   "source": [
    "- 元のウエハ画像"
   ]
  },
  {
   "cell_type": "code",
   "execution_count": 30,
   "metadata": {
    "scrolled": true
   },
   "outputs": [
    {
     "data": {
      "text/plain": [
       "<matplotlib.image.AxesImage at 0x7fbbaa26c450>"
      ]
     },
     "execution_count": 30,
     "metadata": {},
     "output_type": "execute_result"
    },
    {
     "data": {
      "image/png": "[encoded data removed]",
      "text/plain": [
       "<Figure size 432x288 with 1 Axes>"
      ]
     },
     "metadata": {
      "needs_background": "light"
     },
     "output_type": "display_data"
    }
   ],
   "source": [
    "# check original faulty wafer data\n",
    "plt.imshow(np.argmax(new_x[3], axis=2))"
   ]
  },
  {
   "cell_type": "markdown",
   "metadata": {},
   "source": [
    "- ノイズが付加されたウエハ画像"
   ]
  },
  {
   "cell_type": "code",
   "execution_count": 31,
   "metadata": {},
   "outputs": [
    {
     "data": {
      "text/plain": [
       "<matplotlib.image.AxesImage at 0x7fbba94b43d0>"
      ]
     },
     "execution_count": 31,
     "metadata": {},
     "output_type": "execute_result"
    },
    {
     "data": {
      "image/png": "[encoded data removed]",
      "text/plain": [
       "<Figure size 432x288 with 1 Axes>"
      ]
     },
     "metadata": {
      "needs_background": "light"
     },
     "output_type": "display_data"
    }
   ],
   "source": [
    "# check new noised faulty wafer data\n",
    "noised_gen_x = np.argmax(decoder.predict(noised_encoded_x), axis=3)\n",
    "plt.imshow(noised_gen_x[3])"
   ]
  },
  {
   "cell_type": "code",
   "execution_count": 32,
   "metadata": {
    "scrolled": true
   },
   "outputs": [
    {
     "data": {
      "text/plain": [
       "'\\nnoised_encoded_x.shape\\nnoise = 0\\nsize = 1000 #new_x.shape[0]\\nfor i in range(size):\\n    noise += np.count_nonzero(np.argmax(decoder.predict(noised_encoded_x)[i], axis=2) - np.argmax(new_x[i], axis=2))\\n    print(i)\\nprint(noise)\\nprint(noise / size)\\n'"
      ]
     },
     "execution_count": 32,
     "metadata": {},
     "output_type": "execute_result"
    }
   ],
   "source": [
    "# ノイズが1枚当たりいくつ入るのかを調べる\n",
    "'''\n",
    "noised_encoded_x.shape\n",
    "noise = 0\n",
    "size = 1000 #new_x.shape[0]\n",
    "for i in range(size):\n",
    "    noise += np.count_nonzero(np.argmax(decoder.predict(noised_encoded_x)[i], axis=2) - np.argmax(new_x[i], axis=2))\n",
    "    print(i)\n",
    "print(noise)\n",
    "print(noise / size)\n",
    "'''"
   ]
  },
  {
   "cell_type": "markdown",
   "metadata": {},
   "source": [
    "- マスクの定義"
   ]
  },
  {
   "cell_type": "code",
   "execution_count": 33,
   "metadata": {
    "scrolled": false
   },
   "outputs": [],
   "source": [
    "# 0がウエハ領域，1が範囲外\n",
    "mask = new_x[0, :, :, 0].copy()\n",
    "#out_region = np.where(mask == 1.0)\n",
    "#in_region = np.where(mask == 0.0)\n",
    "#mask[out_region] = 0.0\n",
    "#mask[in_region] = 1.0\n",
    "#print(mask)"
   ]
  },
  {
   "cell_type": "markdown",
   "metadata": {},
   "source": [
    "- 回転の実験\n",
    "\n",
    "90度ごとなら自作OpenCV関数が有用"
   ]
  },
  {
   "cell_type": "markdown",
   "metadata": {},
   "source": [
    "- 90度以外の回転"
   ]
  },
  {
   "cell_type": "code",
   "execution_count": 34,
   "metadata": {},
   "outputs": [],
   "source": [
    "from PIL import Image, ImageOps\n",
    "def rotation_pil_mask(img, degree):\n",
    "    src = Image.fromarray(np.uint8(img))\n",
    "    img_rotate = np.array(src.rotate(degree))\n",
    "    \n",
    "    #before\n",
    "    '''\n",
    "    plt.imshow(np.argmax(img_rotate, axis=2))\n",
    "    plt.title(\"rotate \" + str(degree) + \" degree before\")\n",
    "    plt.show()\n",
    "    '''\n",
    "    \n",
    "    #マスクの適用, \n",
    "    out_region = np.where((np.argmax(img_rotate, axis=2) != 0) & (mask > 0.0))\n",
    "    img_rotate[out_region[0], out_region[1]] = np.array([1., 0., 0.])\n",
    "    in_region = np.where((np.argmax(img_rotate, axis=2) == 0) & (mask == 0.0))\n",
    "    img_rotate[in_region[0], in_region[1]] = np.array([0., 1., 0.])\n",
    "\n",
    "    #after\n",
    "    '''plt.imshow(np.argmax(img_rotate, axis=2))\n",
    "    plt.title(\"rotate \" + str(degree) + \" degree after\")\n",
    "    plt.show()'''\n",
    "\n",
    "    return img_rotate\n",
    "\n",
    "# 上下方向の鏡映\n",
    "def flip_pil_mask(img):\n",
    "    src = Image.fromarray(np.uint8(img))\n",
    "    img_flip = np.array(ImageOps.flip(src))\n",
    "    \n",
    "    #マスクの適用, \n",
    "    out_region = np.where((np.argmax(img_flip, axis=2) != 0) & (mask > 0.0))\n",
    "    img_flip[out_region[0], out_region[1]] = np.array([1., 0., 0.])\n",
    "    in_region = np.where((np.argmax(img_flip, axis=2) == 0) & (mask == 0.0))\n",
    "    img_flip[in_region[0], in_region[1]] = np.array([0., 1., 0.])\n",
    "    \n",
    "    return img_flip\n",
    "\n",
    "# 左右方向の鏡映\n",
    "def mirror_pil_mask(img):\n",
    "    src = Image.fromarray(np.uint8(img))\n",
    "    img_mirror = np.array(ImageOps.mirror(src))\n",
    "    \n",
    "    #マスクの適用, \n",
    "    out_region = np.where((np.argmax(img_mirror, axis=2) != 0) & (mask > 0.0))\n",
    "    img_mirror[out_region[0], out_region[1]] = np.array([1., 0., 0.])\n",
    "    in_region = np.where((np.argmax(img_mirror, axis=2) == 0) & (mask == 0.0))\n",
    "    img_mirror[in_region[0], in_region[1]] = np.array([0., 1., 0.])\n",
    "    \n",
    "    return img_mirror"
   ]
  },
  {
   "cell_type": "code",
   "execution_count": 35,
   "metadata": {
    "scrolled": false
   },
   "outputs": [
    {
     "data": {
      "image/png": "[encoded data removed]",
      "text/plain": [
       "<Figure size 432x288 with 1 Axes>"
      ]
     },
     "metadata": {
      "needs_background": "light"
     },
     "output_type": "display_data"
    },
    {
     "data": {
      "image/png": "[encoded data removed]",
      "text/plain": [
       "<Figure size 432x288 with 1 Axes>"
      ]
     },
     "metadata": {
      "needs_background": "light"
     },
     "output_type": "display_data"
    },
    {
     "data": {
      "image/png": "[encoded data removed]",
      "text/plain": [
       "<Figure size 432x288 with 1 Axes>"
      ]
     },
     "metadata": {
      "needs_background": "light"
     },
     "output_type": "display_data"
    },
    {
     "data": {
      "image/png": "[encoded data removed]",
      "text/plain": [
       "<Figure size 432x288 with 1 Axes>"
      ]
     },
     "metadata": {
      "needs_background": "light"
     },
     "output_type": "display_data"
    }
   ],
   "source": [
    "\n",
    "wafer = new_x[np.where(y==\"Edge-Loc\")[0]].reshape(len(np.where(y==\"Edge-Loc\")[0]), 26, 26, 3)\n",
    "plt.imshow(np.argmax(wafer[0], axis=2))\n",
    "plt.show()\n",
    "\n",
    "\n",
    "# for i in range(19):\n",
    "#     rotation_pil_mask(wafer[0], i*20)\n",
    "\n",
    "plt.imshow(np.argmax(flip_pil_mask(wafer[0]), axis=2))\n",
    "plt.show()\n",
    "\n",
    "plt.imshow(np.argmax(mirror_pil_mask(wafer[0]), axis=2))\n",
    "plt.show()\n",
    "\n",
    "plt.imshow(np.argmax(flip_pil_mask(mirror_pil_mask(wafer[0])), axis=2))\n",
    "plt.show()"
   ]
  },
  {
   "cell_type": "code",
   "execution_count": null,
   "metadata": {},
   "outputs": [],
   "source": []
  },
  {
   "cell_type": "markdown",
   "metadata": {},
   "source": [
    "### データオーギュメンテーション"
   ]
  },
  {
   "cell_type": "markdown",
   "metadata": {},
   "source": [
    "- データオーギュメンテーションを行う関数を定義する．\n",
    "- 鏡映，回転を行う"
   ]
  },
  {
   "cell_type": "code",
   "execution_count": 36,
   "metadata": {},
   "outputs": [],
   "source": [
    "shawon = True"
   ]
  },
  {
   "cell_type": "code",
   "execution_count": 37,
   "metadata": {},
   "outputs": [],
   "source": [
    "# augment function define (add rotate, flip)\n",
    "def gen_data(wafer, label):\n",
    "    # Encode input wafer\n",
    "    #encoded_x = encoder.predict(wafer)\n",
    "    \n",
    "    # dummy array for collecting noised wafer\n",
    "    gen_x = np.zeros((1, 26, 26, 3))\n",
    "    aug_x = np.zeros((1, 26, 26, 3))\n",
    "    \n",
    "    #datagen = ImageDataGenerator(rotation_range = 90, horizontal_flip = True, vertical_flip = True, fill_mode = 'constant', cval = 0)\n",
    "    #datagen = ImageDataGenerator(rotation_range = 0)\n",
    "    ite = 3 if label != 'none' else 1\n",
    "    for i in range(len(wafer)):\n",
    "        for j in range(ite):\n",
    "#             rotatedata = wafer[i]\n",
    "            angle = int(360 / ite)\n",
    "            if label != 'none':\n",
    "                rotatedata = rotation_pil_mask(wafer[i], j * angle)\n",
    "            else:\n",
    "                rotatedata = rotation_pil_mask(wafer[i], j * angle)\n",
    "#             flipdata = flip_pil_mask(rotatedata)\n",
    "#             flipmirrordata = mirror_pil_mask(flipdata)\n",
    "#             mirrordata = mirror_pil_mask(rotatedata)\n",
    "            rotatedata = rotatedata.reshape(1, 26, 26, 3)\n",
    "#             flipdata = flipdata.reshape(1, 26, 26, 3)\n",
    "#             flipmirrordata = flipmirrordata.reshape(1, 26, 26, 3)\n",
    "#             mirrordata = mirrordata.reshape(1, 26, 26, 3)\n",
    "#             aug_x = np.concatenate((aug_x, rotatedata, flipdata, flipmirrordata, mirrordata), axis = 0)\n",
    "            aug_x = np.concatenate((aug_x, rotatedata), axis = 0)\n",
    "    \n",
    "    aug_x = aug_x[1:]\n",
    "    encoded_x = encoder.predict(aug_x)\n",
    "    # Shawon's experiment 2000\n",
    "    if shawon:\n",
    "        encoded_x = encoder.predict(wafer)\n",
    "    print(encoded_x.shape)\n",
    "        \n",
    "    \n",
    "    # Make wafer until total # of wafer to 15000\n",
    "    if label != 'none':\n",
    "        for i in range((13000//len(encoded_x)) + 1):\n",
    "            noised_encoded_x = encoded_x + np.random.normal(loc=0, scale=0.1, size = (len(encoded_x), 13, 13, 64)) \n",
    "#             noised_encoded_x = encoded_x\n",
    "            noised_gen_x = decoder.predict(noised_encoded_x)\n",
    "            gen_x = np.concatenate((gen_x, noised_gen_x), axis=0)\n",
    "    else:\n",
    "        gen_x = aug_x\n",
    "        \n",
    "    # also make label vector with same length\n",
    "    gen_y = np.full((len(gen_x), 1), label)\n",
    "    \n",
    "    # return date without 1st dummy data.\n",
    "    return gen_x[1:], gen_y[1:]"
   ]
  },
  {
   "cell_type": "markdown",
   "metadata": {},
   "source": [
    "- データオーギュメンテーション（ノイズ付加）したものが適切か調べる\n",
    "\n",
    "一番左が元画像\n",
    "右がデータオーギュメンテーション後"
   ]
  },
  {
   "cell_type": "code",
   "execution_count": 38,
   "metadata": {},
   "outputs": [],
   "source": [
    "# backup\n",
    "bu_new_x = new_x.copy()\n",
    "bu_y = y.copy()"
   ]
  },
  {
   "cell_type": "code",
   "execution_count": 39,
   "metadata": {},
   "outputs": [],
   "source": [
    "# new_x = bu_new_x.copy()\n",
    "# y = bu_y.copy()\n",
    "# gen_x = []"
   ]
  },
  {
   "cell_type": "markdown",
   "metadata": {},
   "source": [
    "- 不良ラベルが付いているデータに対してデータオーギュメンテーションを行う．"
   ]
  },
  {
   "cell_type": "code",
   "execution_count": 40,
   "metadata": {},
   "outputs": [
    {
     "name": "stdout",
     "output_type": "stream",
     "text": [
      "(90, 13, 13, 64)\n",
      "(1, 13, 13, 64)\n",
      "(289, 13, 13, 64)\n",
      "(23, 13, 13, 64)\n",
      "(297, 13, 13, 64)\n",
      "(16, 13, 13, 64)\n",
      "(74, 13, 13, 64)\n",
      "(71, 13, 13, 64)\n"
     ]
    }
   ],
   "source": [
    "# Augmentation for all faulty case.\n",
    "for f in faulty_case : \n",
    "    # skip none case\n",
    "    if f == 'none' : \n",
    "        continue\n",
    "    \n",
    "    gen_x, gen_y = gen_data(new_x[np.where(y==f)[0]], f)\n",
    "    new_x = np.concatenate((new_x, gen_x), axis=0)\n",
    "    y = np.concatenate((y, gen_y))"
   ]
  },
  {
   "cell_type": "code",
   "execution_count": 41,
   "metadata": {},
   "outputs": [
    {
     "name": "stdout",
     "output_type": "stream",
     "text": [
      "After Generate new_x shape : (118588, 26, 26, 3), new_y shape : (118588, 1)\n"
     ]
    }
   ],
   "source": [
    "print('After Generate new_x shape : {}, new_y shape : {}'.format(new_x.shape, y.shape))"
   ]
  },
  {
   "cell_type": "code",
   "execution_count": 42,
   "metadata": {
    "scrolled": true
   },
   "outputs": [
    {
     "name": "stdout",
     "output_type": "stream",
     "text": [
      "Center : 13140\n",
      "Donut : 13002\n",
      "Edge-Loc : 13294\n",
      "Edge-Ring : 13041\n",
      "Loc : 13365\n",
      "Near-full : 13024\n",
      "Random : 13098\n",
      "Scratch : 13135\n",
      "none : 13489\n"
     ]
    }
   ],
   "source": [
    "for f in faulty_case :\n",
    "    print('{} : {}'.format(f, len(y[y==f])))\n",
    "new_y = y"
   ]
  },
  {
   "cell_type": "code",
   "execution_count": 43,
   "metadata": {},
   "outputs": [],
   "source": [
    "# if shawon:\n",
    "#     none_idx = np.where(y=='none')[0][np.random.choice(len(np.where(y=='none')[0]), size=11000, replace=False)]\n",
    "#     new_x = np.delete(new_x, none_idx, axis=0)\n",
    "#     new_y = np.delete(y, none_idx, axis=0)\n",
    "#     print('After Delete \"none\" class new_x shape : {}, new_y shape : {}'.format(new_x.shape, new_y.shape))\n",
    "#     for f in faulty_case :\n",
    "#         print('{} : {}'.format(f, len(new_y[new_y==f])))"
   ]
  },
  {
   "cell_type": "code",
   "execution_count": 44,
   "metadata": {},
   "outputs": [],
   "source": [
    "# none_idx = np.where(y=='none')[0][np.random.choice(len(np.where(y=='none')[0]), size=11000, replace=False)]\n",
    "# new_x = np.delete(new_x, none_idx, axis=0)\n",
    "# new_y = np.delete(y, none_idx, axis=0)\n",
    "# print('After Delete \"none\" class new_x shape : {}, new_y shape : {}'.format(new_x.shape, new_y.shape))\n",
    "# for f in faulty_case :\n",
    "#     print('{} : {}'.format(f, len(new_y[new_y==f])))"
   ]
  },
  {
   "cell_type": "markdown",
   "metadata": {},
   "source": [
    "### ノイズ付加後もマスクで直す"
   ]
  },
  {
   "cell_type": "code",
   "execution_count": 45,
   "metadata": {},
   "outputs": [],
   "source": [
    "backup_new_x = new_x.copy()\n",
    "backup_new_y = new_y.copy()"
   ]
  },
  {
   "cell_type": "code",
   "execution_count": 46,
   "metadata": {
    "scrolled": false
   },
   "outputs": [],
   "source": [
    "if not shawon:\n",
    "\n",
    "    count = 0\n",
    "    for i in range(len(new_x)):\n",
    "        error = np.where((np.argmax(new_x[0], axis=2) != np.argmax(new_x[i], axis=2)) & (np.argmax(new_x[0], axis=2) == 0))\n",
    "        if len(error[0]) > 0:\n",
    "            #print(str(i) + \"error\")\n",
    "            #print(error)\n",
    "            count += 1\n",
    "    print(count)\n",
    "\n",
    "    for i in range(len(new_x)):\n",
    "        #マスクの適用, \n",
    "        out_region = np.where((np.argmax(new_x[i], axis=2) != 0) & (mask > 0.0))\n",
    "        new_x[i, out_region[0], out_region[1]] = np.array([1., 0., 0.])\n",
    "        in_region = np.where((np.argmax(new_x[i], axis=2) == 0) & (mask == 0.0))\n",
    "        new_x[i, in_region[0], in_region[1]] = np.array([0., 1., 0.])\n",
    "\n",
    "    count = 0\n",
    "    for i in range(len(new_x)):\n",
    "        error = np.where((np.argmax(new_x[0], axis=2) != np.argmax(new_x[i], axis=2)) & (np.argmax(new_x[0], axis=2) == 0))\n",
    "        if len(error[0]) > 0:\n",
    "            #print(str(i) + \"error\")\n",
    "            #print(error)\n",
    "            count += 1\n",
    "    print(count)\n",
    "\n",
    "\n",
    "    '''plt.imshow(np.argmax(new_x[14397], axis=2))\n",
    "    plt.show()\n",
    "    plt.imshow(np.argmax(new_x[0], axis=2))\n",
    "    plt.show()'''"
   ]
  },
  {
   "cell_type": "code",
   "execution_count": 47,
   "metadata": {},
   "outputs": [],
   "source": [
    "def convert_float_to_01(wafer):\n",
    "    width, height, _ = wafer.shape\n",
    "    for i in range(width):\n",
    "        for j in range(height):\n",
    "            max_index = np.argmax(wafer[i, j])\n",
    "            for k in range(3):\n",
    "                wafer[i, j, k] = 1.0 if k == max_index else 0.0\n",
    "    return wafer"
   ]
  },
  {
   "cell_type": "code",
   "execution_count": 48,
   "metadata": {},
   "outputs": [],
   "source": [
    "if not shawon:\n",
    "    for i in range(new_x.shape[0]):\n",
    "        new_x[i] = convert_float_to_01(new_x[i])"
   ]
  },
  {
   "cell_type": "markdown",
   "metadata": {},
   "source": [
    "- データオーギュメンテーションを行った結果，各不良データごとに約40000枚に増えた．\n",
    "- 合計は368112枚となった．"
   ]
  },
  {
   "cell_type": "code",
   "execution_count": 49,
   "metadata": {
    "scrolled": false
   },
   "outputs": [
    {
     "data": {
      "image/png": "[encoded data removed]",
      "text/plain": [
       "<Figure size 1440x1440 with 10 Axes>"
      ]
     },
     "metadata": {},
     "output_type": "display_data"
    },
    {
     "data": {
      "image/png": "[encoded data removed]",
      "text/plain": [
       "<Figure size 1440x1440 with 10 Axes>"
      ]
     },
     "metadata": {},
     "output_type": "display_data"
    },
    {
     "data": {
      "image/png": "[encoded data removed]",
      "text/plain": [
       "<Figure size 1440x1440 with 10 Axes>"
      ]
     },
     "metadata": {},
     "output_type": "display_data"
    },
    {
     "data": {
      "image/png": "[encoded data removed]",
      "text/plain": [
       "<Figure size 1440x1440 with 10 Axes>"
      ]
     },
     "metadata": {},
     "output_type": "display_data"
    },
    {
     "data": {
      "image/png": "[encoded data removed]",
      "text/plain": [
       "<Figure size 1440x1440 with 10 Axes>"
      ]
     },
     "metadata": {},
     "output_type": "display_data"
    },
    {
     "data": {
      "image/png": "[encoded data removed]",
      "text/plain": [
       "<Figure size 1440x1440 with 10 Axes>"
      ]
     },
     "metadata": {},
     "output_type": "display_data"
    },
    {
     "data": {
      "image/png": "[encoded data removed]",
      "text/plain": [
       "<Figure size 1440x1440 with 10 Axes>"
      ]
     },
     "metadata": {},
     "output_type": "display_data"
    },
    {
     "data": {
      "image/png": "[encoded data removed]",
      "text/plain": [
       "<Figure size 1440x1440 with 10 Axes>"
      ]
     },
     "metadata": {},
     "output_type": "display_data"
    },
    {
     "data": {
      "image/png": "[encoded data removed]",
      "text/plain": [
       "<Figure size 1440x1440 with 10 Axes>"
      ]
     },
     "metadata": {},
     "output_type": "display_data"
    }
   ],
   "source": [
    "x = [0,1,2,3,4,5,6,7,8]\n",
    "labels2 = ['Center','Donut','Edge-Loc','Edge-Ring','Loc','Random','Scratch','Near-full','none']\n",
    "\n",
    "for k in x:\n",
    "    fig, ax = plt.subplots(nrows = 1, ncols = 10, figsize=(20, 20))\n",
    "    ax = ax.ravel(order='C')\n",
    "    for j in [k]:\n",
    "        index = np.where(new_y==labels2[j])[0]\n",
    "        img = new_x[index]\n",
    "        #img = new_x[0:10]\n",
    "        for i in range(10):\n",
    "            ax[i].imshow(np.argmax(img[i+0], axis=2))\n",
    "            ax[i].set_title(new_y[index[i+0]], fontsize=15)\n",
    "            #ax[i].set_xlabel(df_withpattern.index[img.index[i]], fontsize=10)\n",
    "            ax[i].set_xticks([])\n",
    "            ax[i].set_yticks([])\n",
    "    plt.tight_layout()\n",
    "    plt.show() "
   ]
  },
  {
   "cell_type": "markdown",
   "metadata": {},
   "source": [
    "### 学習を行う\n",
    "- 不良ラベルを0-8の9次元のベクトルとして表現する．\n",
    "- one-hotエンコーディングを行っている．"
   ]
  },
  {
   "cell_type": "code",
   "execution_count": 50,
   "metadata": {},
   "outputs": [],
   "source": [
    "for i, l in enumerate(faulty_case):\n",
    "    new_y[new_y==l] = i"
   ]
  },
  {
   "cell_type": "code",
   "execution_count": 51,
   "metadata": {},
   "outputs": [],
   "source": [
    "# one-hot-encoding\n",
    "new_y = to_categorical(new_y)"
   ]
  },
  {
   "cell_type": "code",
   "execution_count": 52,
   "metadata": {},
   "outputs": [],
   "source": [
    "import random\n",
    "random.seed(1)\n",
    "def rand_ints_nodup(a, b, k):\n",
    "    ns = []\n",
    "    while len(ns) < k:\n",
    "        n = random.randint(a, b)\n",
    "        if not n in ns:\n",
    "            ns.append(n)\n",
    "    return ns"
   ]
  },
  {
   "cell_type": "code",
   "execution_count": 53,
   "metadata": {},
   "outputs": [
    {
     "data": {
      "text/plain": [
       "(705, 26, 26, 3)"
      ]
     },
     "execution_count": 53,
     "metadata": {},
     "output_type": "execute_result"
    }
   ],
   "source": [
    "# testsize = 2000\n",
    "# randlist = rand_ints_nodup(0, new_x.shape[0]-1, testsize)\n",
    "\n",
    "# valx = new_x.copy()[randlist, :, :, :]\n",
    "# valy = y.copy()[randlist, :]\n",
    "\n",
    "test_size = 705 #705\n",
    "new_x_size = new_x.shape[0]\n",
    "testlist = rand_ints_nodup(0, new_x_size-1, test_size)\n",
    "trainlist = [i for i in range(new_x_size) if i != testlist]\n",
    "new_X=new_x[trainlist]\n",
    "new_Y=new_y[trainlist]\n",
    "test_x=new_x[testlist]\n",
    "test_y=new_y[testlist]\n",
    "test_x.shape"
   ]
  },
  {
   "cell_type": "code",
   "execution_count": 54,
   "metadata": {},
   "outputs": [],
   "source": [
    "new_X=new_x\n",
    "new_Y=new_y"
   ]
  },
  {
   "cell_type": "markdown",
   "metadata": {},
   "source": [
    "- 学習データとテストデータに分割する．"
   ]
  },
  {
   "cell_type": "code",
   "execution_count": 55,
   "metadata": {},
   "outputs": [],
   "source": [
    "x_train, x_test, y_train, y_test = train_test_split(new_X, new_Y,\n",
    "                                                    test_size=0.33,\n",
    "                                                    random_state=2021)"
   ]
  },
  {
   "cell_type": "code",
   "execution_count": 56,
   "metadata": {},
   "outputs": [
    {
     "name": "stdout",
     "output_type": "stream",
     "text": [
      "Train x : (79453, 26, 26, 3), y : (79453, 9)\n",
      "Test x: (39135, 26, 26, 3), y : (39135, 9)\n"
     ]
    }
   ],
   "source": [
    "print('Train x : {}, y : {}'.format(x_train.shape, y_train.shape))\n",
    "print('Test x: {}, y : {}'.format(x_test.shape, y_test.shape))"
   ]
  },
  {
   "cell_type": "markdown",
   "metadata": {},
   "source": [
    "- 学習データ246635枚，テストデータ121477枚．"
   ]
  },
  {
   "cell_type": "markdown",
   "metadata": {},
   "source": [
    "- モデルの定義を行う．"
   ]
  },
  {
   "cell_type": "markdown",
   "metadata": {},
   "source": [
    "### CNN"
   ]
  },
  {
   "cell_type": "code",
   "execution_count": 57,
   "metadata": {},
   "outputs": [],
   "source": [
    "input_shape = (26, 26, 3)\n",
    "input_tensor = Input(input_shape)\n",
    "def create_model():\n",
    "\n",
    "\n",
    "    conv_1 = layers.Conv2D(16, (3,3), activation='relu', padding='same')(input_tensor)\n",
    "    conv_2 = layers.Conv2D(64, (3,3), activation='relu', padding='same')(conv_1)\n",
    "    conv_3 = layers.Conv2D(128, (3,3), activation='relu', padding='same')(conv_2)\n",
    "\n",
    "    flat = layers.Flatten()(conv_3)\n",
    "\n",
    "    dense_1 = layers.Dense(512, activation='relu')(flat)\n",
    "    dense_2 = layers.Dense(128, activation='relu')(dense_1)\n",
    "    output_tensor = layers.Dense(9, activation='softmax')(dense_2)\n",
    "\n",
    "    model = models.Model(input_tensor, output_tensor)\n",
    "    model.compile(optimizer='Adam',\n",
    "                 loss='categorical_crossentropy',\n",
    "                 metrics=['accuracy'])\n",
    "\n",
    "    return model"
   ]
  },
  {
   "cell_type": "markdown",
   "metadata": {},
   "source": [
    "- 3-Fold Cross validationで分割して学習する．"
   ]
  },
  {
   "cell_type": "code",
   "execution_count": 58,
   "metadata": {
    "scrolled": true
   },
   "outputs": [
    {
     "name": "stdout",
     "output_type": "stream",
     "text": [
      "Epoch 1/30\n",
      "52968/52968 [==============================] - 7s 124us/step - loss: 0.6107 - accuracy: 0.7893\n",
      "Epoch 2/30\n",
      "52968/52968 [==============================] - 6s 109us/step - loss: 0.0328 - accuracy: 0.9929\n",
      "Epoch 3/30\n",
      "52968/52968 [==============================] - 6s 109us/step - loss: 0.0110 - accuracy: 0.9972\n",
      "Epoch 4/30\n",
      "52968/52968 [==============================] - 6s 109us/step - loss: 0.0096 - accuracy: 0.9979\n",
      "Epoch 5/30\n",
      "52968/52968 [==============================] - 6s 109us/step - loss: 0.0077 - accuracy: 0.9980\n",
      "Epoch 6/30\n",
      "52968/52968 [==============================] - 6s 109us/step - loss: 0.0078 - accuracy: 0.9982\n",
      "Epoch 7/30\n",
      "52968/52968 [==============================] - 6s 109us/step - loss: 0.0075 - accuracy: 0.9982\n",
      "Epoch 8/30\n",
      "52968/52968 [==============================] - 6s 109us/step - loss: 0.0066 - accuracy: 0.9986\n",
      "Epoch 9/30\n",
      "52968/52968 [==============================] - 6s 109us/step - loss: 0.0059 - accuracy: 0.9984\n",
      "Epoch 10/30\n",
      "52968/52968 [==============================] - 6s 109us/step - loss: 0.0063 - accuracy: 0.9985\n",
      "Epoch 11/30\n",
      "52968/52968 [==============================] - 6s 109us/step - loss: 0.0060 - accuracy: 0.9986\n",
      "Epoch 12/30\n",
      "52968/52968 [==============================] - 6s 109us/step - loss: 0.0058 - accuracy: 0.9985\n",
      "Epoch 13/30\n",
      "52968/52968 [==============================] - 6s 110us/step - loss: 0.0048 - accuracy: 0.9987\n",
      "Epoch 14/30\n",
      "52968/52968 [==============================] - 6s 109us/step - loss: 0.0044 - accuracy: 0.9987\n",
      "Epoch 15/30\n",
      "52968/52968 [==============================] - 6s 109us/step - loss: 0.0050 - accuracy: 0.9986\n",
      "Epoch 16/30\n",
      "52968/52968 [==============================] - 6s 110us/step - loss: 0.0059 - accuracy: 0.9986\n",
      "Epoch 17/30\n",
      "52968/52968 [==============================] - 6s 109us/step - loss: 0.0056 - accuracy: 0.9987\n",
      "Epoch 18/30\n",
      "52968/52968 [==============================] - 6s 109us/step - loss: 0.0047 - accuracy: 0.9987\n",
      "Epoch 19/30\n",
      "52968/52968 [==============================] - 6s 110us/step - loss: 0.0049 - accuracy: 0.9987\n",
      "Epoch 20/30\n",
      "52968/52968 [==============================] - 6s 109us/step - loss: 0.0050 - accuracy: 0.9987\n",
      "Epoch 21/30\n",
      "52968/52968 [==============================] - 6s 109us/step - loss: 0.0059 - accuracy: 0.9986\n",
      "Epoch 22/30\n",
      "52968/52968 [==============================] - 6s 110us/step - loss: 0.0045 - accuracy: 0.9987\n",
      "Epoch 23/30\n",
      "52968/52968 [==============================] - 6s 109us/step - loss: 0.0058 - accuracy: 0.9985\n",
      "Epoch 24/30\n",
      "52968/52968 [==============================] - 6s 109us/step - loss: 0.0047 - accuracy: 0.9987\n",
      "Epoch 25/30\n",
      "52968/52968 [==============================] - 6s 110us/step - loss: 0.0045 - accuracy: 0.9988\n",
      "Epoch 26/30\n",
      "52968/52968 [==============================] - 6s 110us/step - loss: 0.0039 - accuracy: 0.9988\n",
      "Epoch 27/30\n",
      "52968/52968 [==============================] - 6s 110us/step - loss: 0.0037 - accuracy: 0.9987\n",
      "Epoch 28/30\n",
      "52968/52968 [==============================] - 6s 110us/step - loss: 0.0044 - accuracy: 0.9987\n",
      "Epoch 29/30\n",
      "52968/52968 [==============================] - 6s 110us/step - loss: 0.0038 - accuracy: 0.9988\n",
      "Epoch 30/30\n",
      "52968/52968 [==============================] - 6s 110us/step - loss: 0.0037 - accuracy: 0.9988\n",
      "26485/26485 [==============================] - 1s 47us/step\n",
      "Epoch 1/30\n",
      "52969/52969 [==============================] - 6s 116us/step - loss: 0.7467 - accuracy: 0.7560\n",
      "Epoch 2/30\n",
      "52969/52969 [==============================] - 6s 109us/step - loss: 0.0457 - accuracy: 0.9896\n",
      "Epoch 3/30\n",
      "52969/52969 [==============================] - 6s 109us/step - loss: 0.0125 - accuracy: 0.9969\n",
      "Epoch 4/30\n",
      "52969/52969 [==============================] - 6s 110us/step - loss: 0.0082 - accuracy: 0.9980\n",
      "Epoch 5/30\n",
      "52969/52969 [==============================] - 6s 109us/step - loss: 0.0056 - accuracy: 0.9986\n",
      "Epoch 6/30\n",
      "52969/52969 [==============================] - 6s 109us/step - loss: 0.0054 - accuracy: 0.9988\n",
      "Epoch 7/30\n",
      "52969/52969 [==============================] - 6s 109us/step - loss: 0.0055 - accuracy: 0.9985\n",
      "Epoch 8/30\n",
      "52969/52969 [==============================] - 6s 109us/step - loss: 0.0065 - accuracy: 0.9983\n",
      "Epoch 9/30\n",
      "52969/52969 [==============================] - 6s 109us/step - loss: 0.0051 - accuracy: 0.9986\n",
      "Epoch 10/30\n",
      "52969/52969 [==============================] - 6s 110us/step - loss: 0.0067 - accuracy: 0.9985\n",
      "Epoch 11/30\n",
      "52969/52969 [==============================] - 6s 109us/step - loss: 0.0062 - accuracy: 0.9988\n",
      "Epoch 12/30\n",
      "52969/52969 [==============================] - 6s 109us/step - loss: 0.0054 - accuracy: 0.9987\n",
      "Epoch 13/30\n",
      "52969/52969 [==============================] - 6s 110us/step - loss: 0.0049 - accuracy: 0.9988\n",
      "Epoch 14/30\n",
      "52969/52969 [==============================] - 6s 109us/step - loss: 0.0052 - accuracy: 0.9985\n",
      "Epoch 15/30\n",
      "52969/52969 [==============================] - 6s 110us/step - loss: 0.0053 - accuracy: 0.9987\n",
      "Epoch 16/30\n",
      "52969/52969 [==============================] - 6s 110us/step - loss: 0.0046 - accuracy: 0.9988\n",
      "Epoch 17/30\n",
      "52969/52969 [==============================] - 6s 110us/step - loss: 0.0056 - accuracy: 0.9987\n",
      "Epoch 18/30\n",
      "52969/52969 [==============================] - 6s 109us/step - loss: 0.0042 - accuracy: 0.9989\n",
      "Epoch 19/30\n",
      "52969/52969 [==============================] - 6s 110us/step - loss: 0.0044 - accuracy: 0.9988\n",
      "Epoch 20/30\n",
      "52969/52969 [==============================] - 6s 110us/step - loss: 0.0044 - accuracy: 0.9988\n",
      "Epoch 21/30\n",
      "52969/52969 [==============================] - 6s 110us/step - loss: 0.0041 - accuracy: 0.9988\n",
      "Epoch 22/30\n",
      "52969/52969 [==============================] - 6s 110us/step - loss: 0.0036 - accuracy: 0.9990\n",
      "Epoch 23/30\n",
      "52969/52969 [==============================] - 6s 110us/step - loss: 0.0041 - accuracy: 0.9988\n",
      "Epoch 24/30\n",
      "52969/52969 [==============================] - 6s 110us/step - loss: 0.0038 - accuracy: 0.9990\n",
      "Epoch 25/30\n",
      "52969/52969 [==============================] - 6s 110us/step - loss: 0.0040 - accuracy: 0.9988\n",
      "Epoch 26/30\n",
      "52969/52969 [==============================] - 6s 110us/step - loss: 0.0042 - accuracy: 0.9988\n",
      "Epoch 27/30\n",
      "52969/52969 [==============================] - 6s 110us/step - loss: 0.0036 - accuracy: 0.9989\n",
      "Epoch 28/30\n",
      "52969/52969 [==============================] - 6s 110us/step - loss: 0.0034 - accuracy: 0.9989\n",
      "Epoch 29/30\n",
      "52969/52969 [==============================] - 6s 110us/step - loss: 0.0040 - accuracy: 0.9990\n",
      "Epoch 30/30\n",
      "52969/52969 [==============================] - 6s 111us/step - loss: 0.0040 - accuracy: 0.9989\n",
      "26484/26484 [==============================] - 1s 48us/step\n",
      "Epoch 1/30\n",
      "52969/52969 [==============================] - 6s 113us/step - loss: 0.8849 - accuracy: 0.7445\n",
      "Epoch 2/30\n",
      "52969/52969 [==============================] - 6s 110us/step - loss: 0.0743 - accuracy: 0.9807\n",
      "Epoch 3/30\n",
      "52969/52969 [==============================] - 6s 110us/step - loss: 0.0149 - accuracy: 0.9970\n",
      "Epoch 4/30\n",
      "52969/52969 [==============================] - 6s 110us/step - loss: 0.0109 - accuracy: 0.9972\n",
      "Epoch 5/30\n",
      "52969/52969 [==============================] - 6s 110us/step - loss: 0.0087 - accuracy: 0.9977\n",
      "Epoch 6/30\n",
      "52969/52969 [==============================] - 6s 109us/step - loss: 0.0069 - accuracy: 0.9983\n",
      "Epoch 7/30\n",
      "52969/52969 [==============================] - 6s 110us/step - loss: 0.0064 - accuracy: 0.9986\n",
      "Epoch 8/30\n",
      "52969/52969 [==============================] - 6s 110us/step - loss: 0.0062 - accuracy: 0.9986\n",
      "Epoch 9/30\n",
      "52969/52969 [==============================] - 6s 110us/step - loss: 0.0069 - accuracy: 0.9984\n",
      "Epoch 10/30\n",
      "52969/52969 [==============================] - 6s 110us/step - loss: 0.0059 - accuracy: 0.9986\n",
      "Epoch 11/30\n",
      "52969/52969 [==============================] - 6s 110us/step - loss: 0.0058 - accuracy: 0.9984\n",
      "Epoch 12/30\n",
      "52969/52969 [==============================] - 6s 110us/step - loss: 0.0050 - accuracy: 0.9987\n",
      "Epoch 13/30\n",
      "52969/52969 [==============================] - 6s 110us/step - loss: 0.0048 - accuracy: 0.9985\n",
      "Epoch 14/30\n",
      "52969/52969 [==============================] - 6s 111us/step - loss: 0.0048 - accuracy: 0.9987\n",
      "Epoch 15/30\n",
      "52969/52969 [==============================] - 6s 110us/step - loss: 0.0054 - accuracy: 0.9986\n",
      "Epoch 16/30\n"
     ]
    },
    {
     "name": "stdout",
     "output_type": "stream",
     "text": [
      "52969/52969 [==============================] - 6s 110us/step - loss: 0.0059 - accuracy: 0.9987\n",
      "Epoch 17/30\n",
      "52969/52969 [==============================] - 6s 111us/step - loss: 0.0044 - accuracy: 0.9987\n",
      "Epoch 18/30\n",
      "52969/52969 [==============================] - 6s 111us/step - loss: 0.0044 - accuracy: 0.9988\n",
      "Epoch 19/30\n",
      "52969/52969 [==============================] - 6s 112us/step - loss: 0.0043 - accuracy: 0.9988\n",
      "Epoch 20/30\n",
      "52969/52969 [==============================] - 6s 113us/step - loss: 0.0049 - accuracy: 0.9988\n",
      "Epoch 21/30\n",
      "52969/52969 [==============================] - 6s 112us/step - loss: 0.0041 - accuracy: 0.9987\n",
      "Epoch 22/30\n",
      "52969/52969 [==============================] - 6s 112us/step - loss: 0.0045 - accuracy: 0.9988\n",
      "Epoch 23/30\n",
      "52969/52969 [==============================] - 6s 114us/step - loss: 0.0050 - accuracy: 0.9988\n",
      "Epoch 24/30\n",
      "52969/52969 [==============================] - 6s 113us/step - loss: 0.0054 - accuracy: 0.9985\n",
      "Epoch 25/30\n",
      "52969/52969 [==============================] - 6s 110us/step - loss: 0.0039 - accuracy: 0.9987\n",
      "Epoch 26/30\n",
      "52969/52969 [==============================] - 6s 111us/step - loss: 0.0039 - accuracy: 0.9989\n",
      "Epoch 27/30\n",
      "52969/52969 [==============================] - 6s 111us/step - loss: 0.0041 - accuracy: 0.9988\n",
      "Epoch 28/30\n",
      "52969/52969 [==============================] - 6s 113us/step - loss: 0.0037 - accuracy: 0.9989\n",
      "Epoch 29/30\n",
      "52969/52969 [==============================] - 6s 111us/step - loss: 0.0044 - accuracy: 0.9987\n",
      "Epoch 30/30\n",
      "52969/52969 [==============================] - 6s 112us/step - loss: 0.0038 - accuracy: 0.9988\n",
      "26484/26484 [==============================] - 1s 43us/step\n",
      "Simple CNN Cross validation score : 0.9975\n"
     ]
    }
   ],
   "source": [
    "model = KerasClassifier(build_fn=create_model, epochs=30, batch_size=1024, verbose=1) \n",
    "# 3-Fold Crossvalidation\n",
    "kfold = KFold(n_splits=3, shuffle=True, random_state=2019) \n",
    "results = cross_val_score(model, x_train, y_train, cv=kfold)\n",
    "# Check 3-fold model's mean accuracy\n",
    "print('Simple CNN Cross validation score : {:.4f}'.format(np.mean(results)))"
   ]
  },
  {
   "cell_type": "markdown",
   "metadata": {},
   "source": [
    "- Cross validiationによる精度は99.55%であった．"
   ]
  },
  {
   "cell_type": "markdown",
   "metadata": {},
   "source": [
    "- Cross validationなしで学習する．"
   ]
  },
  {
   "cell_type": "code",
   "execution_count": 59,
   "metadata": {
    "scrolled": false
   },
   "outputs": [
    {
     "name": "stdout",
     "output_type": "stream",
     "text": [
      "Train on 79453 samples, validate on 39135 samples\n",
      "Epoch 1/30\n",
      "79453/79453 [==============================] - 11s 141us/step - loss: 0.4077 - accuracy: 0.8648 - val_loss: 0.5563 - val_accuracy: 0.8750\n",
      "Epoch 2/30\n",
      "79453/79453 [==============================] - 11s 133us/step - loss: 0.1021 - accuracy: 0.9751 - val_loss: 0.0133 - val_accuracy: 0.9967\n",
      "Epoch 3/30\n",
      "79453/79453 [==============================] - 11s 134us/step - loss: 0.0094 - accuracy: 0.9976 - val_loss: 0.0104 - val_accuracy: 0.9970\n",
      "Epoch 4/30\n",
      "79453/79453 [==============================] - 11s 134us/step - loss: 0.0074 - accuracy: 0.9981 - val_loss: 0.0122 - val_accuracy: 0.9970\n",
      "Epoch 5/30\n",
      "79453/79453 [==============================] - 11s 135us/step - loss: 0.0077 - accuracy: 0.9981 - val_loss: 0.0095 - val_accuracy: 0.9970\n",
      "Epoch 6/30\n",
      "79453/79453 [==============================] - 11s 134us/step - loss: 0.0070 - accuracy: 0.9984 - val_loss: 0.0172 - val_accuracy: 0.9958\n",
      "Epoch 7/30\n",
      "79453/79453 [==============================] - 11s 135us/step - loss: 0.0065 - accuracy: 0.9986 - val_loss: 0.0115 - val_accuracy: 0.9967\n",
      "Epoch 8/30\n",
      "79453/79453 [==============================] - 11s 134us/step - loss: 0.0057 - accuracy: 0.9986 - val_loss: 0.0107 - val_accuracy: 0.9975\n",
      "Epoch 9/30\n",
      "79453/79453 [==============================] - 11s 134us/step - loss: 0.0050 - accuracy: 0.9986 - val_loss: 0.0102 - val_accuracy: 0.9973\n",
      "Epoch 10/30\n",
      "79453/79453 [==============================] - 11s 135us/step - loss: 0.0053 - accuracy: 0.9986 - val_loss: 0.0091 - val_accuracy: 0.9973\n",
      "Epoch 11/30\n",
      "79453/79453 [==============================] - 11s 134us/step - loss: 0.0048 - accuracy: 0.9987 - val_loss: 0.0086 - val_accuracy: 0.9975\n",
      "Epoch 12/30\n",
      "79453/79453 [==============================] - 11s 133us/step - loss: 0.0049 - accuracy: 0.9987 - val_loss: 0.0113 - val_accuracy: 0.9971\n",
      "Epoch 13/30\n",
      "79453/79453 [==============================] - 11s 133us/step - loss: 0.0048 - accuracy: 0.9987 - val_loss: 0.0083 - val_accuracy: 0.9975\n",
      "Epoch 14/30\n",
      "79453/79453 [==============================] - 11s 135us/step - loss: 0.0045 - accuracy: 0.9988 - val_loss: 0.0088 - val_accuracy: 0.9975\n",
      "Epoch 15/30\n",
      "79453/79453 [==============================] - 11s 136us/step - loss: 0.0045 - accuracy: 0.9988 - val_loss: 0.0120 - val_accuracy: 0.9967\n",
      "Epoch 16/30\n",
      "79453/79453 [==============================] - 11s 135us/step - loss: 0.0049 - accuracy: 0.9987 - val_loss: 0.0079 - val_accuracy: 0.9978\n",
      "Epoch 17/30\n",
      "79453/79453 [==============================] - 11s 134us/step - loss: 0.0044 - accuracy: 0.9987 - val_loss: 0.0119 - val_accuracy: 0.9968\n",
      "Epoch 18/30\n",
      "79453/79453 [==============================] - 11s 135us/step - loss: 0.0044 - accuracy: 0.9987 - val_loss: 0.0099 - val_accuracy: 0.9973\n",
      "Epoch 19/30\n",
      "79453/79453 [==============================] - 11s 135us/step - loss: 0.0044 - accuracy: 0.9988 - val_loss: 0.0094 - val_accuracy: 0.9973\n",
      "Epoch 20/30\n",
      "79453/79453 [==============================] - 11s 134us/step - loss: 0.0043 - accuracy: 0.9988 - val_loss: 0.0083 - val_accuracy: 0.9971\n",
      "Epoch 21/30\n",
      "79453/79453 [==============================] - 11s 134us/step - loss: 0.0044 - accuracy: 0.9987 - val_loss: 0.0077 - val_accuracy: 0.9979\n",
      "Epoch 22/30\n",
      "79453/79453 [==============================] - 11s 134us/step - loss: 0.0042 - accuracy: 0.9988 - val_loss: 0.0087 - val_accuracy: 0.9978\n",
      "Epoch 23/30\n",
      "79453/79453 [==============================] - 11s 135us/step - loss: 0.0041 - accuracy: 0.9988 - val_loss: 0.0086 - val_accuracy: 0.9975\n",
      "Epoch 24/30\n",
      "79453/79453 [==============================] - 11s 134us/step - loss: 0.0041 - accuracy: 0.9988 - val_loss: 0.0087 - val_accuracy: 0.9978\n",
      "Epoch 25/30\n",
      "79453/79453 [==============================] - 11s 135us/step - loss: 0.0039 - accuracy: 0.9988 - val_loss: 0.0079 - val_accuracy: 0.9977\n",
      "Epoch 26/30\n",
      "79453/79453 [==============================] - 11s 135us/step - loss: 0.0040 - accuracy: 0.9988 - val_loss: 0.0087 - val_accuracy: 0.9975\n",
      "Epoch 27/30\n",
      "79453/79453 [==============================] - 11s 135us/step - loss: 0.0040 - accuracy: 0.9988 - val_loss: 0.0104 - val_accuracy: 0.9973\n",
      "Epoch 28/30\n",
      "79453/79453 [==============================] - 11s 134us/step - loss: 0.0040 - accuracy: 0.9987 - val_loss: 0.0075 - val_accuracy: 0.9979\n",
      "Epoch 29/30\n",
      "79453/79453 [==============================] - 11s 135us/step - loss: 0.0036 - accuracy: 0.9988 - val_loss: 0.0095 - val_accuracy: 0.9973\n",
      "Epoch 30/30\n",
      "79453/79453 [==============================] - 11s 135us/step - loss: 0.0039 - accuracy: 0.9987 - val_loss: 0.0077 - val_accuracy: 0.9978\n"
     ]
    }
   ],
   "source": [
    "history = model.fit(x_train, y_train,\n",
    "         validation_data=[x_test, y_test],\n",
    "         epochs=epoch,\n",
    "         batch_size=batch_size,\n",
    "         verbose=1           \n",
    "         )"
   ]
  },
  {
   "cell_type": "markdown",
   "metadata": {},
   "source": [
    "- テストデータで評価．    "
   ]
  },
  {
   "cell_type": "code",
   "execution_count": 60,
   "metadata": {},
   "outputs": [
    {
     "name": "stdout",
     "output_type": "stream",
     "text": [
      "39135/39135 [==============================] - 2s 42us/step\n",
      "Testing Accuracy: 0.9977513551712036\n"
     ]
    }
   ],
   "source": [
    "score = model.score(x_test, y_test)\n",
    "#print('Test Loss:', score[0])\n",
    "#print('Test accuracy:', score[1])\n",
    "print('Testing Accuracy:',score)"
   ]
  },
  {
   "cell_type": "markdown",
   "metadata": {},
   "source": [
    "- acuurayは99.70%であった．"
   ]
  },
  {
   "cell_type": "markdown",
   "metadata": {},
   "source": [
    "- 705枚のテストデータで評価"
   ]
  },
  {
   "cell_type": "code",
   "execution_count": 61,
   "metadata": {},
   "outputs": [
    {
     "name": "stdout",
     "output_type": "stream",
     "text": [
      "705/705 [==============================] - 0s 178us/step\n",
      "Testing Accuracy: 1.0\n"
     ]
    }
   ],
   "source": [
    "score = model.score(test_x, test_y)\n",
    "#print('Test Loss:', score[0])\n",
    "#print('Test accuracy:', score[1])\n",
    "print('Testing Accuracy:',score)"
   ]
  },
  {
   "cell_type": "code",
   "execution_count": 62,
   "metadata": {
    "scrolled": true
   },
   "outputs": [
    {
     "name": "stdout",
     "output_type": "stream",
     "text": [
      "705/705 [==============================] - 0s 65us/step\n",
      "Number of failure 0\n"
     ]
    }
   ],
   "source": [
    "test_y_pred = model.predict(test_x)\n",
    "test_y_max = np.argmax(test_y, axis=1)\n",
    "failure = np.where(test_y_pred != test_y_max)[0]\n",
    "failure = list(failure)\n",
    "print('Number of failure ' + str(len(failure)))"
   ]
  },
  {
   "cell_type": "code",
   "execution_count": 63,
   "metadata": {
    "scrolled": false
   },
   "outputs": [],
   "source": [
    "for i in failure:\n",
    "    plt.imshow(np.argmax(test_x[i], axis=2))\n",
    "    print('faulty case : {}'.format(faulty_case_dict[np.argmax(test_y[i])]))\n",
    "    print('predict label : {}'.format(faulty_case_dict[test_y_pred[i]]))\n",
    "    plt.show()"
   ]
  },
  {
   "cell_type": "markdown",
   "metadata": {},
   "source": [
    "- モデルは以下．\n",
    "    - 入力層\n",
    "    - 畳み込み層3つ\n",
    "    - Flatten層（1次元に）\n",
    "    - 全結合層3つ"
   ]
  },
  {
   "cell_type": "code",
   "execution_count": 64,
   "metadata": {
    "scrolled": false
   },
   "outputs": [
    {
     "name": "stdout",
     "output_type": "stream",
     "text": [
      "Model: \"model_7\"\n",
      "_________________________________________________________________\n",
      "Layer (type)                 Output Shape              Param #   \n",
      "=================================================================\n",
      "input_3 (InputLayer)         (None, 26, 26, 3)         0         \n",
      "_________________________________________________________________\n",
      "conv2d_11 (Conv2D)           (None, 26, 26, 16)        448       \n",
      "_________________________________________________________________\n",
      "conv2d_12 (Conv2D)           (None, 26, 26, 64)        9280      \n",
      "_________________________________________________________________\n",
      "conv2d_13 (Conv2D)           (None, 26, 26, 128)       73856     \n",
      "_________________________________________________________________\n",
      "flatten_4 (Flatten)          (None, 86528)             0         \n",
      "_________________________________________________________________\n",
      "dense_10 (Dense)             (None, 512)               44302848  \n",
      "_________________________________________________________________\n",
      "dense_11 (Dense)             (None, 128)               65664     \n",
      "_________________________________________________________________\n",
      "dense_12 (Dense)             (None, 9)                 1161      \n",
      "=================================================================\n",
      "Total params: 44,453,257\n",
      "Trainable params: 44,453,257\n",
      "Non-trainable params: 0\n",
      "_________________________________________________________________\n"
     ]
    }
   ],
   "source": [
    "model.model.summary()"
   ]
  },
  {
   "cell_type": "markdown",
   "metadata": {},
   "source": [
    "- accuracyグラフ，lossグラフは以下．\n",
    "- 5epoch程度で落ち着いている．"
   ]
  },
  {
   "cell_type": "code",
   "execution_count": 65,
   "metadata": {},
   "outputs": [
    {
     "data": {
      "image/png": "[encoded data removed]",
      "text/plain": [
       "<Figure size 432x288 with 1 Axes>"
      ]
     },
     "metadata": {
      "needs_background": "light"
     },
     "output_type": "display_data"
    },
    {
     "data": {
      "image/png": "[encoded data removed]",
      "text/plain": [
       "<Figure size 432x288 with 1 Axes>"
      ]
     },
     "metadata": {
      "needs_background": "light"
     },
     "output_type": "display_data"
    }
   ],
   "source": [
    "# accuracy plot \n",
    "plt.plot(history.history['accuracy'])\n",
    "plt.plot(history.history['val_accuracy'])\n",
    "plt.title('model accuracy')\n",
    "plt.ylabel('accuracy')\n",
    "plt.xlabel('epoch')\n",
    "plt.legend(['train', 'test'], loc='upper left')\n",
    "plt.show()\n",
    "\n",
    "# loss plot\n",
    "plt.plot(history.history['loss'])\n",
    "plt.plot(history.history['val_loss'])\n",
    "plt.title('model loss')\n",
    "plt.ylabel('loss')\n",
    "plt.xlabel('epoch')\n",
    "plt.legend(['train', 'test'], loc='upper left')\n",
    "plt.show()"
   ]
  },
  {
   "cell_type": "code",
   "execution_count": 66,
   "metadata": {
    "scrolled": true
   },
   "outputs": [
    {
     "name": "stdout",
     "output_type": "stream",
     "text": [
      "79453/79453 [==============================] - 3s 39us/step\n",
      "39135/39135 [==============================] - 2s 39us/step\n",
      "705/705 [==============================] - 0s 41us/step\n",
      "0\n",
      "0\n",
      "Training acc: 99.89427711980667\n",
      "Validation acc: 99.77513734508751\n",
      "705/705 [==============================] - 0s 43us/step\n",
      "Testing Accuracy: 1.0\n",
      "y_train_pred[:100]:  [0 8 7 5 6 0 5 4 2 1 1 2 1 7 1 1 8 5 8 0 4 1 8 3 4 0 2 7 2 6 5 2 1 3 0 4 6\n",
      " 5 7 0 5 4 6 0 1 1 6 3 6 8 4 1 5 0 3 8 6 4 8 3 0 0 6 2 5 6 3 6 0 0 2 3 8 3\n",
      " 0 7 0 3 7 6 6 7 0 7 8 5 0 2 1 6 3 1 7 5 6 8 7 1 3 7]\n",
      "y_train_max[:100]:  [0 8 7 5 6 0 5 4 2 1 1 2 1 7 1 1 8 5 8 0 4 1 8 3 4 0 2 7 2 6 5 2 1 3 0 4 6\n",
      " 5 7 0 5 4 6 0 1 1 6 3 6 8 4 1 5 0 3 8 6 4 8 3 0 0 6 2 5 6 3 6 0 0 2 3 8 3\n",
      " 0 7 0 3 7 6 6 7 0 7 8 5 0 2 1 6 3 1 7 5 6 8 7 1 3 7]\n"
     ]
    }
   ],
   "source": [
    "#y_train_pred = np.argmax(model.predict(x_train))\n",
    "y_train_pred = model.predict(x_train)\n",
    "y_test_pred = model.predict(x_test)\n",
    "y_train_max = np.argmax(y_train, axis=1)\n",
    "y_test_max = np.argmax(y_test, axis=1)\n",
    "test_y_pred = model.predict(test_x)\n",
    "test_y_max = np.argmax(test_y, axis=1)\n",
    "\n",
    "print(y_train_max[0])\n",
    "print(y_train_pred[0])\n",
    "\n",
    "train_acc2 = np.sum(y_train_max == y_train_pred, axis=0, dtype='float') / x_train.shape[0]\n",
    "test_acc2 = np.sum(y_test_max == y_test_pred, axis=0, dtype='float') / x_test.shape[0]\n",
    "print('Training acc: {}'.format(train_acc2*100))\n",
    "print('Validation acc: {}'.format(test_acc2*100))\n",
    "score = model.score(test_x, test_y)\n",
    "print('Testing Accuracy:',score)\n",
    "print(\"y_train_pred[:100]: \", y_train_pred[:100])\n",
    "print (\"y_train_max[:100]: \", y_train_max[:100])"
   ]
  },
  {
   "cell_type": "markdown",
   "metadata": {},
   "source": [
    "### 混同行列"
   ]
  },
  {
   "cell_type": "code",
   "execution_count": 67,
   "metadata": {},
   "outputs": [],
   "source": [
    "import itertools\n",
    "from sklearn.metrics import confusion_matrix\n",
    "\n",
    "def plot_confusion_matrix(cm, normalize=False, title='Confusion matrix', cmap=plt.cm.Blues):\n",
    "    \"\"\"\n",
    "    This function prints and plots the confusion matrix.\n",
    "    Normalization can be applied by setting `normalize=True`.\n",
    "    \"\"\"\n",
    "    if normalize:\n",
    "        cm = cm.astype('float') / cm.sum(axis=1)[:, np.newaxis]\n",
    "        print(\"Normalized confusion matrix\")\n",
    "    else:\n",
    "        print('Confusion matrix, without normalization')\n",
    "\n",
    "    #print(cm)\n",
    "\n",
    "    plt.imshow(cm, interpolation='nearest', cmap=cmap)\n",
    "    plt.title(title)\n",
    "    plt.colorbar()\n",
    "\n",
    "    fmt = '.4f' if normalize else 'd'\n",
    "    thresh = cm.max() / 2.\n",
    "    for i, j in itertools.product(range(cm.shape[0]), range(cm.shape[1])):\n",
    "        plt.text(j, i, format(cm[i, j], fmt),\n",
    "                 horizontalalignment=\"center\",\n",
    "                 color=\"white\" if cm[i, j] > thresh else \"black\")\n",
    "    \n",
    "    plt.xticks([0, 1, 2, 3, 4, 5, 6, 7 ,8], [\"Center\", \"Donut\", \"Edge-Loc\", \"Edge-Ring\", \"Loc\", \"Random\", \"Scratch\", \"Near-full\", \"None\"])\n",
    "    plt.yticks([0, 1, 2, 3, 4, 5, 6, 7 ,8], [\"Center\", \"Donut\", \"Edge-Loc\", \"Edge-Ring\", \"Loc\", \"Random\", \"Scratch\", \"Near-full\", \"None\"])\n",
    "    \n",
    "    plt.tight_layout()\n",
    "    plt.ylabel('True label')\n",
    "    plt.xlabel('Predicted label')"
   ]
  },
  {
   "cell_type": "markdown",
   "metadata": {},
   "source": [
    "- validation confmat"
   ]
  },
  {
   "cell_type": "code",
   "execution_count": 68,
   "metadata": {},
   "outputs": [
    {
     "name": "stdout",
     "output_type": "stream",
     "text": [
      "Confusion matrix, without normalization\n",
      "Normalized confusion matrix\n"
     ]
    },
    {
     "data": {
      "image/png": "[encoded data removed]",
      "text/plain": [
       "<Figure size 576x1080 with 4 Axes>"
      ]
     },
     "metadata": {
      "needs_background": "light"
     },
     "output_type": "display_data"
    }
   ],
   "source": [
    "# Compute confusion matrix\n",
    "cnf_matrix = confusion_matrix(y_test_max, y_test_pred)\n",
    "np.set_printoptions(precision=2)\n",
    "\n",
    "from matplotlib import gridspec\n",
    "fig = plt.figure(figsize=(8, 15)) \n",
    "gs = gridspec.GridSpec(2, 1, height_ratios=[1, 1]) \n",
    "\n",
    "## Plot non-normalized confusion matrix\n",
    "plt.subplot(gs[0])\n",
    "plot_confusion_matrix(cnf_matrix, title='Confusion matrix')\n",
    "\n",
    "# Plot normalized confusion matrix\n",
    "plt.subplot(gs[1])\n",
    "plot_confusion_matrix(cnf_matrix, normalize=True, title='Normalized confusion matrix')\n",
    "\n",
    "plt.show()"
   ]
  },
  {
   "cell_type": "markdown",
   "metadata": {},
   "source": [
    "- test confmat"
   ]
  },
  {
   "cell_type": "code",
   "execution_count": 69,
   "metadata": {
    "scrolled": false
   },
   "outputs": [
    {
     "name": "stdout",
     "output_type": "stream",
     "text": [
      "Confusion matrix, without normalization\n",
      "Normalized confusion matrix\n"
     ]
    },
    {
     "data": {
      "image/png": "[encoded data removed]",
      "text/plain": [
       "<Figure size 576x1080 with 4 Axes>"
      ]
     },
     "metadata": {
      "needs_background": "light"
     },
     "output_type": "display_data"
    }
   ],
   "source": [
    "# Compute confusion matrix\n",
    "cnf_matrix = confusion_matrix(test_y_max, test_y_pred)\n",
    "np.set_printoptions(precision=2)\n",
    "\n",
    "from matplotlib import gridspec\n",
    "fig = plt.figure(figsize=(8, 15)) \n",
    "gs = gridspec.GridSpec(2, 1, height_ratios=[1, 1]) \n",
    "\n",
    "## Plot non-normalized confusion matrix\n",
    "plt.subplot(gs[0])\n",
    "plot_confusion_matrix(cnf_matrix, title='Confusion matrix')\n",
    "\n",
    "# Plot normalized confusion matrix\n",
    "plt.subplot(gs[1])\n",
    "plot_confusion_matrix(cnf_matrix, normalize=True, title='Normalized confusion matrix')\n",
    "\n",
    "plt.show()"
   ]
  },
  {
   "cell_type": "markdown",
   "metadata": {},
   "source": [
    "### クラス活性化マップ"
   ]
  },
  {
   "cell_type": "code",
   "execution_count": 70,
   "metadata": {},
   "outputs": [],
   "source": [
    "#set target wafer number\n",
    "target_wafer_num = 100\n",
    "# predict \n",
    "prob = model.model.predict(x_test[target_wafer_num].reshape(1,26,26,3))"
   ]
  },
  {
   "cell_type": "code",
   "execution_count": 71,
   "metadata": {},
   "outputs": [],
   "source": [
    "aver_output = model.model.layers[3]\n",
    "aver_model = models.Model(input_tensor, aver_output.output)\n",
    "cam_result = aver_model.predict(x_test[target_wafer_num].reshape(1, 26, 26, 3))"
   ]
  },
  {
   "cell_type": "code",
   "execution_count": 72,
   "metadata": {},
   "outputs": [
    {
     "name": "stdout",
     "output_type": "stream",
     "text": [
      "conv2d_13\n"
     ]
    }
   ],
   "source": [
    "print(model.model.layers[3].name)"
   ]
  },
  {
   "cell_type": "code",
   "execution_count": 73,
   "metadata": {},
   "outputs": [],
   "source": [
    "weight_result = model.model.layers[-1].get_weights()[0]"
   ]
  },
  {
   "cell_type": "code",
   "execution_count": 74,
   "metadata": {},
   "outputs": [
    {
     "data": {
      "text/plain": [
       "(1, 26, 26, 128)"
      ]
     },
     "execution_count": 74,
     "metadata": {},
     "output_type": "execute_result"
    }
   ],
   "source": [
    "cam_result.shape"
   ]
  },
  {
   "cell_type": "code",
   "execution_count": 75,
   "metadata": {},
   "outputs": [],
   "source": [
    "mask_x = np.zeros((26, 26))\n",
    "dummy_x = cv2.resize(x[0], (26,26))\n",
    "mask_x[dummy_x == 1] = 1 \n",
    "mask_x[dummy_x == 2] = 1 \n",
    "mask_x = mask_x.reshape((1, 26,26))"
   ]
  },
  {
   "cell_type": "code",
   "execution_count": 76,
   "metadata": {},
   "outputs": [],
   "source": [
    "def make_cam(cam_result, weight_result): \n",
    "    cam_arr = np.zeros((1,26, 26))\n",
    "    for row in range(0,9):\n",
    "        cam = np.zeros((1, 26, 26))\n",
    "        for i, w in enumerate(weight_result[:, row]):\n",
    "            cam += (w*cam_result[0,:,:,i]).reshape(26,26)\n",
    "        cam = (cam - np.min(cam)) / (np.max(cam) - np.min(cam))\n",
    "        cam[mask_x == 0] = 0\n",
    "        cam_arr = np.concatenate((cam_arr, cam))\n",
    "    return cam_arr[1:]\n",
    "\n",
    "def display_activation(cam_arr, prob, wafer): \n",
    "    fig, ax = plt.subplots(9, 1, figsize=(50, 50))\n",
    "    count = 0\n",
    "    cam_arr[np.percentile(cam_arr, 0.8) > cam_arr] = 0\n",
    "    for row in range(0,9):\n",
    "        ax[row].imshow(np.argmax(wafer, axis=2))\n",
    "        ax[row].imshow(cam_arr[row],cmap='Reds', alpha=0.7)\n",
    "        ax[row].set_title('class : ' + faulty_case_dict[count]+', prob : {:.4f}'.format(prob[:, count][0]*100) + '%')\n",
    "        count += 1"
   ]
  },
  {
   "cell_type": "code",
   "execution_count": 77,
   "metadata": {},
   "outputs": [
    {
     "data": {
      "text/plain": [
       "'Random'"
      ]
     },
     "execution_count": 77,
     "metadata": {},
     "output_type": "execute_result"
    }
   ],
   "source": [
    "faulty_case_dict[np.argmax(y_test[target_wafer_num])]"
   ]
  },
  {
   "cell_type": "code",
   "execution_count": 78,
   "metadata": {},
   "outputs": [
    {
     "name": "stdout",
     "output_type": "stream",
     "text": [
      "faulty case : Random\n"
     ]
    },
    {
     "data": {
      "image/png": "[encoded data removed]",
      "text/plain": [
       "<Figure size 432x288 with 1 Axes>"
      ]
     },
     "metadata": {
      "needs_background": "light"
     },
     "output_type": "display_data"
    }
   ],
   "source": [
    "plt.imshow(np.argmax(x_test[target_wafer_num], axis=2))\n",
    "print('faulty case : {}'.format(faulty_case_dict[np.argmax(y_test[target_wafer_num])]))"
   ]
  },
  {
   "cell_type": "markdown",
   "metadata": {},
   "source": [
    "- 対象のウエハの画像と不良パターンの表示"
   ]
  },
  {
   "cell_type": "code",
   "execution_count": 79,
   "metadata": {},
   "outputs": [
    {
     "data": {
      "text/plain": [
       "(1, 26, 26, 128)"
      ]
     },
     "execution_count": 79,
     "metadata": {},
     "output_type": "execute_result"
    }
   ],
   "source": [
    "cam_result.shape"
   ]
  },
  {
   "cell_type": "code",
   "execution_count": 80,
   "metadata": {},
   "outputs": [],
   "source": [
    "cam_arr = make_cam(cam_result, weight_result)"
   ]
  },
  {
   "cell_type": "code",
   "execution_count": 81,
   "metadata": {},
   "outputs": [
    {
     "data": {
      "text/plain": [
       "(1, 9)"
      ]
     },
     "execution_count": 81,
     "metadata": {},
     "output_type": "execute_result"
    }
   ],
   "source": [
    "prob.shape"
   ]
  },
  {
   "cell_type": "code",
   "execution_count": 82,
   "metadata": {},
   "outputs": [
    {
     "data": {
      "image/png": "[encoded data removed]",
      "text/plain": [
       "<Figure size 3600x3600 with 9 Axes>"
      ]
     },
     "metadata": {
      "needs_background": "light"
     },
     "output_type": "display_data"
    }
   ],
   "source": [
    "display_activation(cam_arr, prob, x_test[target_wafer_num])"
   ]
  },
  {
   "cell_type": "markdown",
   "metadata": {},
   "source": [
    "- 活性化マップの表示\n",
    "- ドーナツでは円形状にヒートマップの赤い部分が点在している"
   ]
  },
  {
   "cell_type": "code",
   "execution_count": null,
   "metadata": {},
   "outputs": [],
   "source": []
  }
 ],
 "metadata": {
  "kernelspec": {
   "display_name": "Python 3",
   "language": "python",
   "name": "python3"
  },
  "language_info": {
   "codemirror_mode": {
    "name": "ipython",
    "version": 3
   },
   "file_extension": ".py",
   "mimetype": "text/x-python",
   "name": "python",
   "nbconvert_exporter": "python",
   "pygments_lexer": "ipython3",
   "version": "3.7.6"
  }
 },
 "nbformat": 4,
 "nbformat_minor": 2
}
